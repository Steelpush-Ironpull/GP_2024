{
 "cells": [
  {
   "cell_type": "code",
   "metadata": {
    "ExecuteTime": {
     "end_time": "2024-11-26T10:54:19.072316Z",
     "start_time": "2024-11-26T10:54:19.067064Z"
    }
   },
   "source": [
    "%%HTML\n",
    "<style>\n",
    "    body {\n",
    "        --vscode-font-family: \"CMU Sans Serif\"\n",
    "    }\n",
    "</style>"
   ],
   "outputs": [
    {
     "data": {
      "text/plain": [
       "<IPython.core.display.HTML object>"
      ],
      "text/html": [
       "<style>\n",
       "    body {\n",
       "        --vscode-font-family: \"CMU Sans Serif\"\n",
       "    }\n",
       "</style>\n"
      ]
     },
     "metadata": {},
     "output_type": "display_data"
    }
   ],
   "execution_count": 1
  },
  {
   "cell_type": "code",
   "metadata": {
    "ExecuteTime": {
     "end_time": "2024-11-26T10:55:05.328305Z",
     "start_time": "2024-11-26T10:55:05.325971Z"
    }
   },
   "source": [
    "plt.rcParams.update({\n",
    "    \"text.usetex\": True,\n",
    "    \"font.family\": \"sans-serif\",\n",
    "    \"font.sans-serif\": [\"Computer Modern Sans Serif\"]})\n",
    "plt.rcParams['text.latex.preamble'] = r'\\usepackage{sansmath} \\sansmath'"
   ],
   "outputs": [],
   "execution_count": 4
  },
  {
   "cell_type": "code",
   "execution_count": null,
   "metadata": {},
   "outputs": [],
   "source": [
    "from IPython.display import display, clear_output, HTML\n",
    "import time\n",
    "\n",
    "def countdown_timer(minutes):\n",
    "    total_seconds = minutes * 60\n",
    "    for seconds in range(total_seconds, 0, -1):\n",
    "        mins, secs = divmod(seconds, 60)\n",
    "        time_str = f\"{mins:02}'{secs:02}''\"\n",
    "        clear_output(wait=True)\n",
    "        # HTML with styling\n",
    "        display(HTML(f'<div style=\"font-size: 24px; color: blue; font-weight: bold;\">Time remaining: {time_str}</div>'))\n",
    "        time.sleep(1)\n",
    "    clear_output(wait=True)\n",
    "    # Final message with different styling\n",
    "    display(HTML('<div style=\"font-size: 24px; color: green; font-weight: bold;\">Time\\'s up!</div>'))"
   ]
  },
  {
   "cell_type": "markdown",
   "metadata": {},
   "source": [
    "<div style=\"text-align: center;\">\n",
    "    <img src=\"https://upload.wikimedia.org/wikipedia/commons/thumb/3/31/NumPy_logo_2020.svg/1200px-NumPy_logo_2020.svg.png\" style=\"width: 400px;\">\n",
    "</div>"
   ]
  },
  {
   "cell_type": "code",
   "metadata": {
    "ExecuteTime": {
     "end_time": "2024-11-26T10:55:03.568053Z",
     "start_time": "2024-11-26T10:55:03.167380Z"
    }
   },
   "source": [
    "\n",
    "# You are not supposed to understand this code, yet. It is here for your convenience/curiosity.\n",
    "\n",
    "import matplotlib.pyplot as plt\n",
    "import numpy as np\n",
    "from matplotlib.patches import Rectangle\n",
    "\n",
    "# Topics and x-axis values\n",
    "topics = [\"interface\", \"\", \"\", \"\", \"Python basics\", \"\", \"\", \"\", \"data manipulation\", \"\", \"\", \"visualization\", \"\", \"practice\"]\n",
    "x_values = np.arange(1, 15)\n",
    "\n",
    "# Create figure and axis objects with adjusted y-axis height\n",
    "fig, ax1 = plt.subplots(figsize=(10*1.4, 0.75*1.4))  # Slightly more vertical space\n",
    "ax1.set(xlim=(0, 14), xticks=x_values - 0.5, xlabel='Course Progression')\n",
    "ax1.set_xticks(x_values - 0.5)  # Align grid lines with x_values\n",
    "ax1.set_xticklabels(x_values, ha='center')\n",
    "ax1.yaxis.set_visible(False)\n",
    "\n",
    "# Secondary axis for labels without ticks\n",
    "ax2 = ax1.twiny()\n",
    "ax2.set(xlim=ax1.get_xlim(), xticks=x_values - 0.5)\n",
    "ax2.set_xticklabels(topics, ha='center')\n",
    "ax2.tick_params(axis='x', length=0)\n",
    "\n",
    "# Add rectangles for progress\n",
    "progress_info = [(0, \"orange\", 1), (1, \"dodgerblue\", 1), (2, \"dodgerblue\", 1), (3, \"dodgerblue\", 1),\n",
    "                 (4, \"dodgerblue\", 1), (5, \"dodgerblue\", 1), (6, \"dodgerblue\", 0.75)]\n",
    "for x, color, alpha in progress_info:\n",
    "    ax1.add_patch(Rectangle((x, 0), 1, 1, facecolor=color, alpha=alpha, edgecolor=\"gainsboro\", linewidth=0.5))\n",
    "\n",
    "# Add text annotations\n",
    "annotations = [\n",
    "    (0.5, \"Jupyter\\n\\nLaTeX\"),\n",
    "    (1.5, \"math\\n\\n(SymPy)\"),\n",
    "    (2.5, \"strings\\n\\nlists\"),\n",
    "    (3.5, \"other\\ndata\\nstructures\"),\n",
    "    (4.5, \"control\\n\\nstructures\"),\n",
    "    (5.5, \"functions\"),\n",
    "    (6.5, \"arrays\")\n",
    "]\n",
    "for x, label, *color in annotations:\n",
    "    ax1.text(x, 0.5, label, ha='center', va='center', fontsize=9, color=color[0] if color else 'black')\n",
    "\n",
    "plt.show()"
   ],
   "outputs": [
    {
     "data": {
      "text/plain": [
       "<Figure size 1400x105 with 2 Axes>"
      ],
      "image/png": "[encoded data removed]"
     },
     "metadata": {},
     "output_type": "display_data"
    }
   ],
   "execution_count": 3
  },
  {
   "cell_type": "markdown",
   "metadata": {},
   "source": [
    "| Data Type       | Example               |         |\n",
    "|-----------------|-----------------------|---------|\n",
    "| `int`           | `5`                   | &check; |\n",
    "| `float`         | `5.0`                 | &check; |\n",
    "| `complex`       | `5 + 3j`              | &check; |\n",
    "| `bool`          | `True`                | &check; |\n",
    "| `module`        | `math`                | &check; |\n",
    "| `str`           | `\"hello\"`             | &check; |\n",
    "| `list`          | `[1, 2, 3]`           | &check; |\n",
    "| `tuple`         | `(1, 2, 3)`           | &check; |\n",
    "| `set`           | `{1, 2, 3}`           | &check; |\n",
    "| `dict`          | `{\"key\": \"value\"}`    | &check; |\n",
    "| `range`         | `range(5)`            | &check; |\n",
    "| `function`      | `print()`             | &check; |\n",
    "| `numpy.ndarray` | `np.array([1, 2, 3])` | &#9675; |\n",
    "| `NoneType`      | `None`                | &check; |"
   ]
  },
  {
   "cell_type": "markdown",
   "metadata": {},
   "source": [
    "<div class=\"alert alert-block alert-light\">\n",
    "\n",
    "<div style=\"display: flex; justify-content: space-between;\">\n",
    "<div style=\"width: 48%; line-height: 1.75;\">\n",
    "\n",
    "## Warm-up\n",
    "\n",
    "The formula for converting temperatures between Celsius ($C$) and Kelvin ($K$) is as follows:\n",
    "\n",
    "- To convert Celsius to Kelvin: $ K = C + 273.15 $\n",
    "\n",
    "- To convert Kelvin to Celsius: $ C = K - 273.15 $\n",
    "\n",
    "Instead of hardcoding the constant $273.15$, use the value provided by `scipy.constants.zero_Celsius` for better accuracy.\n",
    "\n",
    "1. Write a Python function `celcius_to_kelvin(c)` that takes a temperature in Celsius ($C$) and returns the equivalent temperature in Kelvin ($K$).\n",
    "\n",
    "2. Write a second Python function `kelvin_to_celcius(k)` that takes a temperature in Kelvin ($K$) and returns the equivalent temperature in Celsius ($C$).\n",
    "\n",
    "3. Choose a number and apply the first function to it. Then, take the result of the first function and apply the second function to it. Verify that you recover the original number.\n",
    "\n",
    "\n",
    "</div>\n",
    "<div style=\"width: 4%;\">\n",
    "</div>\n",
    "<div style=\"width: 2%\"></div>\n",
    "<div style=\"width: 48%;; line-height: 1.75;color: grey;\">\n",
    "\n",
    "## Aufwärmen\n",
    "\n",
    "Die Formel zur Umrechnung von Temperaturen zwischen Celsius ($C$) und Kelvin ($K$) lautet:\n",
    "\n",
    "- Umrechnung von Celsius in Kelvin: $ K = C + 273.15 $\n",
    "\n",
    "- Umrechnung von Kelvin in Celsius: $ C = K - 273.15 $\n",
    "\n",
    "Anstatt die Konstante $273.15$ fest zu kodieren, verwenden Sie den Wert, der von `scipy.constants.zero_Celsius` bereitgestellt wird.\n",
    "\n",
    "1. Schreiben Sie eine Python-Funktion `celcius_to_kelvin(c)`, die eine Temperatur in Celsius ($C$) annimmt und die äquivalente Temperatur in Kelvin ($K$) zurückgibt.\n",
    "\n",
    "2. Schreiben Sie eine zweite Python-Funktion `kelvin_to_celcius(k)`, die eine Temperatur in Kelvin ($K$) annimmt und die äquivalente Temperatur in Celsius ($C$) zurückgibt.\n",
    "\n",
    "3. Wählen Sie eine Zahl und wenden Sie die erste Funktion auf sie an. Wenden Sie dann auf das Ergebnis der ersten Funktion die zweite Funktion an. Überprüfen Sie, ob Sie die ursprüngliche Zahl wiederherstellen können.\n",
    "    \n",
    "</div>\n",
    "</div>"
   ]
  },
  {
   "cell_type": "code",
   "execution_count": null,
   "metadata": {},
   "outputs": [],
   "source": [
    "countdown_timer(15)"
   ]
  },
  {
   "cell_type": "code",
   "metadata": {
    "ExecuteTime": {
     "end_time": "2024-11-26T11:03:14.855421Z",
     "start_time": "2024-11-26T11:03:14.851724Z"
    }
   },
   "source": [
    "from scipy.constants import zero_Celsius\n",
    "\n",
    "# 1. Function to convert Celsius to Kelvin\n",
    "def celcius_to_kelvin(c):\n",
    "    \"\"\"Convert Celsius to Kelvin.\"\"\"\n",
    "    return c + zero_Celsius\n",
    "\n",
    "# 2. Function to convert Kelvin to Celsius\n",
    "def kelvin_to_celcius(k):\n",
    "    \"\"\"Convert Kelvin to Celsius.\"\"\"\n",
    "    return k - zero_Celsius\n",
    "\n",
    "# 3. Choose a number, apply K(C), and then apply C(K)\n",
    "original_temperature_C = 25.0  # Example number in Celsius\n",
    "converted_to_K = celcius_to_kelvin(original_temperature_C)  # Convert to Kelvin\n",
    "converted_back_to_C = kelvin_to_celcius(converted_to_K)  # Convert back to Celsius\n",
    "\n",
    "# Verification\n",
    "original_temperature_C, converted_to_K, converted_back_to_C"
   ],
   "outputs": [
    {
     "data": {
      "text/plain": [
       "(25.0, 298.15, 25.0)"
      ]
     },
     "execution_count": 6,
     "metadata": {},
     "output_type": "execute_result"
    }
   ],
   "execution_count": 6
  },
  {
   "cell_type": "markdown",
   "metadata": {},
   "source": [
    "<div class=\"alert alert-block alert-light\">\n",
    "\n",
    "<div style=\"display: flex; justify-content: space-between;\">\n",
    "<div style=\"width: 48%; line-height: 1.75;\">\n",
    "\n",
    "## Warm-up (2)\n",
    "\n",
    "Implement a Python check where you convert a temperature value to the other scale and then back to the original (e.g. $C \\to K \\to C$). Verify that the result is close to the original value.\n",
    "\n",
    "**Keep in mind that due to the way floating-point numbers are stored and computed in Python, direct equality comparisons (using `==`) may not work as expected. Instead, use Python's `math.isclose` function to check if the values are approximately equal within a small margin of error.**(`01_python_basic_calculator.ipynb`)\n",
    "\n",
    "</div>\n",
    "<div style=\"width: 4%;\">\n",
    "</div>\n",
    "<div style=\"width: 2%\"></div>\n",
    "<div style=\"width: 48%;; line-height: 1.75;color: grey;\">\n",
    "\n",
    "## Aufwärmen (2)\n",
    "\n",
    "Implementieren Sie eine Python-Prüfung, bei der Sie einen Temperaturwert in die andere Skala und dann zurück in die ursprüngliche Skala konvertieren (z. B. $C \\to K \\to C$). Überprüfen Sie, ob das Ergebnis nahe am Originalwert liegt.\n",
    "\n",
    "**Beachten Sie, dass aufgrund der Art und Weise, wie Gleitkommazahlen in Python gespeichert und berechnet werden, direkte Gleichheitsvergleiche (mit `==`) möglicherweise nicht wie erwartet funktionieren. Verwenden Sie stattdessen Pythons Funktion `math.isclose`, um zu prüfen, ob die Werte innerhalb einer kleinen Fehlerspanne annähernd gleich sind.**  (`01_python_basic_calculator.ipynb`)\n",
    "    \n",
    "</div>\n",
    "</div>"
   ]
  },
  {
   "cell_type": "markdown",
   "metadata": {},
   "source": [
    "<div class=\"alert alert-block alert-light\">\n",
    "\n",
    "<div style=\"display: flex; justify-content: space-between;\">\n",
    "<div style=\"width: 48%; line-height: 1.5;\">\n",
    "\n",
    "## Warm-up (3)\n",
    "\n",
    "In Python, a **recursive function** is a function that calls itself in its own definition. Recursive functions are commonly used to solve problems that can be broken down into smaller, similar subproblems. Every recursive function must have the following:\n",
    "\n",
    "1. **Base Case**: A condition that stops the recursion to prevent an infinite loop.\n",
    "2. **Recursive Case**: The part of the function where the function calls itself, solving a smaller instance of the problem.\n",
    "\n",
    "Consider calculating the factorial of a number $n$. The factorial, written as $n!$, is defined as:\n",
    "$$\n",
    "n! = n \\cdot (n-1)!\n",
    "$$\n",
    "with the base case:\n",
    "$$\n",
    "0! = 1\n",
    "$$\n",
    "\n",
    "Write a recursive Python function called `factorial` that calculates the factorial of a given number $n$.\n",
    "\n",
    "1. The function should take a single argument, $n$.\n",
    "2. Implement a **base case** to return 1 when $n = 0$.\n",
    "3. Implement a **recursive case** to calculate $n \\cdot \\text{factorial}(n-1)$.\n",
    "\n",
    "After implementing the recursive function, write a small script to calculate and print the factorial of all numbers from 0 to 10 using your function.\n",
    "\n",
    "</div>\n",
    "<div style=\"width: 4%;\">\n",
    "</div>\n",
    "<div style=\"width: 2%\"></div>\n",
    "<div style=\"width: 48%;; line-height: 1.5;color: grey;\">\n",
    "\n",
    "## Aufwärmen (3)\n",
    "\n",
    "In Python ist eine **rekursive Funktion** eine Funktion, die sich selbst in ihrer eigenen Definition aufruft. Rekursive Funktionen werden üblicherweise verwendet, um Probleme zu lösen, die in kleinere, ähnliche Teilprobleme zerlegt werden können. Jede rekursive Funktion muss die folgenden Eigenschaften haben:\n",
    "\n",
    "1. **Basisfall**: Eine Bedingung, die die Rekursion anhält, um eine Endlosschleife zu verhindern.\n",
    "2. **Rekursiver Fall**: Der Teil der Funktion, in dem die Funktion sich selbst aufruft, um eine kleinere Instanz des Problems zu lösen.\n",
    "\n",
    "Berechnen Sie die Fakultät einer Zahl $n$. Die Fakultät, geschrieben als $n!$, ist definiert als:\n",
    "$$\n",
    "n! = n \\cdot (n-1)!\n",
    "$$\n",
    "mit dem Basisfall:\n",
    "$$\n",
    "0! = 1\n",
    "$$\n",
    "\n",
    "Schreiben Sie eine rekursive Python-Funktion namens `factorial`, die die Fakultät einer gegebenen Zahl $n$ berechnet.\n",
    "\n",
    "1. Die Funktion soll ein einziges Argument $n$ annehmen.\n",
    "2. Implementieren Sie einen **Basisfall**, der 1 zurückgibt, wenn $n = 0$.\n",
    "3. Implementieren Sie einen **rekursiven Fall** zur Berechnung von $n \\cdot \\text{factorial}(n-1)$.\n",
    "\n",
    "Nachdem Sie die rekursive Funktion implementiert haben, schreiben Sie ein kleines Skript, um die Fakultät aller Zahlen von 0 bis 10 mit Ihrer Funktion zu berechnen und zu drucken.\n",
    "    \n",
    "</div>\n",
    "</div>"
   ]
  },
  {
   "cell_type": "code",
   "metadata": {
    "ExecuteTime": {
     "end_time": "2024-11-26T12:54:44.250696Z",
     "start_time": "2024-11-26T12:54:44.247871Z"
    }
   },
   "source": [
    "# Recursive function to calculate factorial\n",
    "def factorial(n):\n",
    "    # Base case: 0! = 1\n",
    "    if n == 0:\n",
    "        return 1\n",
    "    # Recursive case: n! = n * (n-1)!\n",
    "    else:\n",
    "        return n * factorial(n - 1)\n",
    "\n",
    "# Example usage\n",
    "print(\"Factorial of 5 is:\", factorial(5))\n",
    "\n",
    "# Bonus: Calculate factorial for numbers 0 to 10\n",
    "for i in range(11):\n",
    "    print(f\"{i}! = {factorial(i)}\")"
   ],
   "outputs": [
    {
     "name": "stdout",
     "output_type": "stream",
     "text": [
      "Factorial of 5 is: 120\n",
      "0! = 1\n",
      "1! = 1\n",
      "2! = 2\n",
      "3! = 6\n",
      "4! = 24\n",
      "5! = 120\n",
      "6! = 720\n",
      "7! = 5040\n",
      "8! = 40320\n",
      "9! = 362880\n",
      "10! = 3628800\n"
     ]
    }
   ],
   "execution_count": 7
  },
  {
   "cell_type": "markdown",
   "metadata": {},
   "source": [
    "<div class=\"alert alert-block alert-warning\">\n",
    "\n",
    "<div style=\"display: flex; justify-content: space-between;\">\n",
    "<div style=\"width: 48%; line-height: 1.5;\">\n",
    "\n",
    "# Arrays \n",
    "</div>\n",
    "<div style=\"width: 48%; line-height: 1.5;color: grey;\">\n",
    "\n",
    "# Arrays\n",
    "</div>\n",
    "</div>"
   ]
  },
  {
   "cell_type": "markdown",
   "metadata": {},
   "source": [
    "<div style=\"display: flex; justify-content: space-between;\">\n",
    "<div style=\"width: 48%; line-height: 1.5;\">\n",
    "\n",
    "In the lecture `02_python_strings_lists.ipynb`, we have seen how mathematical operations can be applied to *individual* numerical elements within a list. \n",
    "\n",
    "However, *lists do not support element-wise operations*. \n",
    "\n",
    "When you try to perform a mathematical operation on a list (like addition, subtraction, or division), Python raises a `TypeError`.\n",
    "        \n",
    "</div>\n",
    "<div style=\"width: 48%; line-height: 1.5;color: grey;\">\n",
    "\n",
    "In der Vorlesung `02_python_strings_lists.ipynb` haben wir gesehen, wie mathematische Operationen auf *einzelne* numerische Elemente innerhalb einer Liste angewendet werden können.\n",
    "\n",
    "Allerdings *unterstützen Listen keine elementweisen Operationen*.\n",
    "\n",
    "Wenn Sie versuchen, eine mathematische Operation auf einer Liste durchzuführen (wie Addition, Subtraktion oder Division), gibt Python einen `TypeError` aus.\n",
    "        \n",
    "</div>\n",
    "</div>"
   ]
  },
  {
   "cell_type": "code",
   "metadata": {
    "ExecuteTime": {
     "end_time": "2024-11-26T12:54:50.861444Z",
     "start_time": "2024-11-26T12:54:50.859212Z"
    }
   },
   "source": [
    "some_numbers = [1, 2, 3, 4]"
   ],
   "outputs": [],
   "execution_count": 8
  },
  {
   "cell_type": "code",
   "metadata": {
    "ExecuteTime": {
     "end_time": "2024-11-26T12:54:53.212330Z",
     "start_time": "2024-11-26T12:54:52.818540Z"
    }
   },
   "source": [
    "some_numbers - 2"
   ],
   "outputs": [
    {
     "ename": "TypeError",
     "evalue": "unsupported operand type(s) for -: 'list' and 'int'",
     "output_type": "error",
     "traceback": [
      "\u001B[0;31m---------------------------------------------------------------------------\u001B[0m",
      "\u001B[0;31mTypeError\u001B[0m                                 Traceback (most recent call last)",
      "Cell \u001B[0;32mIn[9], line 1\u001B[0m\n\u001B[0;32m----> 1\u001B[0m \u001B[43msome_numbers\u001B[49m\u001B[43m \u001B[49m\u001B[38;5;241;43m-\u001B[39;49m\u001B[43m \u001B[49m\u001B[38;5;241;43m2\u001B[39;49m\n",
      "\u001B[0;31mTypeError\u001B[0m: unsupported operand type(s) for -: 'list' and 'int'"
     ]
    }
   ],
   "execution_count": 9
  },
  {
   "cell_type": "markdown",
   "metadata": {},
   "source": [
    "<div style=\"display: flex; justify-content: space-between;\">\n",
    "<div style=\"width: 48%; line-height: 1.5;\">\n",
    "\n",
    "Multiplying a list by an integer does not perform element-wise multiplication; instead, it repeats (concatenates) the list content.\n",
    "        \n",
    "</div>\n",
    "<div style=\"width: 48%; line-height: 1.5;color: grey;\">\n",
    "\n",
    "Die Multiplikation einer Liste mit einer ganzen Zahl führt keine elementweise Multiplikation durch; stattdessen wird der Inhalt der Liste wiederholt (verkettet).\n",
    "        \n",
    "</div>\n",
    "</div>"
   ]
  },
  {
   "cell_type": "code",
   "metadata": {
    "ExecuteTime": {
     "end_time": "2024-11-26T12:54:57.780569Z",
     "start_time": "2024-11-26T12:54:57.776937Z"
    }
   },
   "source": [
    "some_numbers * 3"
   ],
   "outputs": [
    {
     "data": {
      "text/plain": [
       "[1, 2, 3, 4, 1, 2, 3, 4, 1, 2, 3, 4]"
      ]
     },
     "execution_count": 10,
     "metadata": {},
     "output_type": "execute_result"
    }
   ],
   "execution_count": 10
  },
  {
   "cell_type": "markdown",
   "metadata": {},
   "source": [
    "<div style=\"display: flex; justify-content: space-between;\">\n",
    "<div style=\"width: 48%; line-height: 1.5;\">\n",
    "\n",
    "To multiply every element in `some_numbers` by 3, we need to write a `for` loop that iterates over each element in the list and performs the multiplication. \n",
    "        \n",
    "</div>\n",
    "<div style=\"width: 48%; line-height: 1.5;color: grey;\">\n",
    "\n",
    "To multiply every element in `some_numbers` by 3, we need to write a `for` loop that iterates over each element in the list and performs the multiplication. \n",
    "        \n",
    "</div>\n",
    "</div>"
   ]
  },
  {
   "cell_type": "code",
   "metadata": {
    "ExecuteTime": {
     "end_time": "2024-11-26T12:55:11.712164Z",
     "start_time": "2024-11-26T12:55:11.709020Z"
    }
   },
   "source": [
    "for i in range(len(some_numbers)):\n",
    "    some_numbers[i] *= 3\n",
    "\n",
    "print(some_numbers)"
   ],
   "outputs": [
    {
     "name": "stdout",
     "output_type": "stream",
     "text": [
      "[3, 6, 9, 12]\n"
     ]
    }
   ],
   "execution_count": 11
  },
  {
   "cell_type": "code",
   "metadata": {
    "ExecuteTime": {
     "end_time": "2024-11-26T12:55:21.135006Z",
     "start_time": "2024-11-26T12:55:21.132774Z"
    }
   },
   "source": [
    "square_numbers = [x**2 for x in some_numbers]\n",
    "\n",
    "print(square_numbers)"
   ],
   "outputs": [
    {
     "name": "stdout",
     "output_type": "stream",
     "text": [
      "[9, 36, 81, 144]\n"
     ]
    }
   ],
   "execution_count": 12
  },
  {
   "cell_type": "markdown",
   "metadata": {},
   "source": [
    "<div style=\"display: flex; justify-content: space-between;\">\n",
    "<div style=\"width: 48%; line-height: 1.5;\">\n",
    "\n",
    "For scientific computing and data manipulation, an array is often preferred. \n",
    "\n",
    "Unlike lists, **arrays are designed specifically for handling numerical data and can represent vectors and matrices efficiently**.  \n",
    "\n",
    "For working with arrays, we use a powerful library called NumPy, which stands for Numerical Python.  \n",
    "\n",
    "To use NumPy in your code, you need to import the module using the `import` statement, as we did to import `math` in the previous lecture. \n",
    "\n",
    "To simplify code and avoid typing \"numpy\" repeatedly, we commonly use the alias `np`. Here’s how you do it:\n",
    "        \n",
    "</div>\n",
    "<div style=\"width: 48%; line-height: 1.5;color: grey;\">\n",
    "\n",
    "Für wissenschaftliche Berechnungen und Datenmanipulationen wird oft ein Array bevorzugt. \n",
    "\n",
    "Im Gegensatz zu Listen **sind Arrays speziell für die Verarbeitung numerischer Daten konzipiert und können Vektoren und Matrizen effizient darstellen**.\n",
    "\n",
    "Für die Arbeit mit Arrays verwenden wir eine leistungsstarke Bibliothek namens NumPy, was für Numerical Python steht.  \n",
    "\n",
    "Um NumPy in Ihrem Code zu verwenden, müssen Sie das Modul mit der Anweisung `import` importieren, so wie wir es für den Import von `math` in der vorherigen Vorlesung getan haben. \n",
    "\n",
    "Um den Code zu vereinfachen und die wiederholte Eingabe von \"numpy\" zu vermeiden, verwenden wir häufig den Alias `np`. So geht's:\n",
    "        \n",
    "</div>\n",
    "</div>"
   ]
  },
  {
   "cell_type": "code",
   "metadata": {
    "ExecuteTime": {
     "end_time": "2024-11-26T12:56:03.097989Z",
     "start_time": "2024-11-26T12:56:03.095957Z"
    }
   },
   "source": [
    "import numpy as np"
   ],
   "outputs": [],
   "execution_count": 13
  },
  {
   "cell_type": "markdown",
   "metadata": {},
   "source": [
    "<div style=\"display: flex; justify-content: space-between;\">\n",
    "<div style=\"width: 48%; line-height: 1.5;\">\n",
    "\n",
    "With this import statement, you can now use `np` as a shorthand to access all the functionality provided by NumPy.\n",
    "        \n",
    "</div>\n",
    "<div style=\"width: 48%; line-height: 1.5;color: grey;\">\n",
    "\n",
    "Mit dieser Import-Anweisung können Sie nun `np` als Abkürzung für den Zugriff auf alle von NumPy bereitgestellten Funktionen verwenden.\n",
    "        \n",
    "</div>\n",
    "</div>"
   ]
  },
  {
   "cell_type": "markdown",
   "metadata": {},
   "source": [
    "| Feature                          | Lists                                                                            | Arrays                                                                                                              |\n",
    "|----------------------------------|----------------------------------------------------------------------------------|---------------------------------------------------------------------------------------------------------------------|\n",
    "| **Data Type Storage**            | Can store elements of different data types.                                      | Designed to store elements of the same data type.                                                                   |\n",
    "| **Datentypenspeicherung**        | Können Elemente verschiedener Datentypen speichern.                              | Entwickelt, um Elemente desselben Datentyps zu speichern.                                                           |\n",
    "|                                  |                                                                                  |                                                                                                                     |\n",
    "| **Versatility and Efficiency**   | Very versatile, but slower and less efficient.                                   | Less flexible but computationally much more efficient.                                                              |\n",
    "| **Vielseitigkeit und Effizienz** | Sehr vielseitig, aber langsamer und weniger effizient.                           | Weniger flexibel, aber rechnerisch viel effizienter.                                                                |\n",
    "|                                  |                                                                                  |                                                                                                                     |\n",
    "| **Mathematical Operations**      | Do not support direct mathematical operations on elements.                       | Support vectorized operations (*no need for loops!*).                                                               |\n",
    "| **Mathematische Operationen**    | Unterstützen keine direkten mathematischen Operationen auf Elementen.            | Unterstützen vektorisierte Operationen (*keine Schleifen erforderlich!*).                                           |\n",
    "|                                  |                                                                                  |                                                                                                                     |\n",
    "| **Usage Recommendation**         | Flexibility for adding/removing elements or mixed data types.                    | Faster computations, lower memory usage, and extensive support for mathematical operations.                         |\n",
    "| **Anwendungsempfehlung**         | Flexibilität beim Hinzufügen/Entfernen von Elementen oder gemischten Datentypen. | Schnellere Berechnungen, geringerer Speicherverbrauch und umfangreiche Unterstützung für mathematische Operationen. |"
   ]
  },
  {
   "cell_type": "markdown",
   "metadata": {},
   "source": [
    "<div style=\"display: flex; justify-content: space-between;\">\n",
    "<div style=\"width: 48%; line-height: 1.5;\">\n",
    "\n",
    "## Creating arrays \n",
    "### Converting lists to arrays \n",
    "\n",
    "You can convert existing lists to arrays using the `np.array(list)` function. \n",
    "\n",
    "In this command, list can be either the name of an existing list or a new list defined by a sequence of comma-separated elements enclosed in square brackets: \n",
    "        \n",
    "</div>\n",
    "<div style=\"width: 48%; line-height: 1.5;color: grey;\">\n",
    "\n",
    "## Arrays erstellen \n",
    "### Konvertierung von Listen in Arrays\n",
    "\n",
    "Sie können vorhandene Listen mit der Funktion `np.array(list)` in Arrays umwandeln. \n",
    "\n",
    "In diesem Befehl kann list entweder der Name einer vorhandenen Liste oder eine neue Liste sein, die durch eine Folge von durch Kommata getrennten Elementen in eckigen Klammern definiert ist:\n",
    "        \n",
    "</div>\n",
    "</div>"
   ]
  },
  {
   "cell_type": "code",
   "metadata": {
    "ExecuteTime": {
     "end_time": "2024-11-26T12:58:40.184056Z",
     "start_time": "2024-11-26T12:58:40.180503Z"
    }
   },
   "source": [
    "#create the list \"number_list\" containing a sequence of integers\n",
    "number_list = [1, 2, 3, 4, 5, 6]\n",
    "\n",
    "#convert list to an array using np.array() command.\n",
    "number_array = np.array(number_list)\n",
    "\n",
    "#print array and confirm that it is a NumPy array\n",
    "print(number_list, type(number_list))\n",
    "print(number_array, type(number_array))"
   ],
   "outputs": [
    {
     "name": "stdout",
     "output_type": "stream",
     "text": [
      "[1, 2, 3, 4, 5, 6] <class 'list'>\n",
      "[1 2 3 4 5 6] <class 'numpy.ndarray'>\n"
     ]
    }
   ],
   "execution_count": 14
  },
  {
   "cell_type": "code",
   "metadata": {
    "ExecuteTime": {
     "end_time": "2024-11-26T12:58:41.476918Z",
     "start_time": "2024-11-26T12:58:41.473923Z"
    }
   },
   "source": [
    "# this works, too\n",
    "number_array = np.array([1, 2, 3, 4, 5, 6])\n",
    "\n",
    "number_array"
   ],
   "outputs": [
    {
     "data": {
      "text/plain": [
       "array([1, 2, 3, 4, 5, 6])"
      ]
     },
     "execution_count": 15,
     "metadata": {},
     "output_type": "execute_result"
    }
   ],
   "execution_count": 15
  },
  {
   "cell_type": "markdown",
   "metadata": {},
   "source": [
    "<div style=\"display: flex; justify-content: space-between;\">\n",
    "<div style=\"width: 48%; line-height: 1.5;\">\n",
    "\n",
    "### Using built-in commands \n",
    "</div>\n",
    "<div style=\"width: 48%; line-height: 1.5;color: grey;\">\n",
    "   \n",
    "### Verwendung integrierter Befehle\n",
    "</div>\n",
    "</div>"
   ]
  },
  {
   "cell_type": "markdown",
   "metadata": {},
   "source": [
    "##### `arange`"
   ]
  },
  {
   "cell_type": "markdown",
   "metadata": {},
   "source": [
    "```python\n",
    "np.arange(start, stop, step)\n",
    "``` \n",
    "\n",
    "<div style=\"display: flex; justify-content: space-between;\">\n",
    "<div style=\"width: 48%; line-height: 1.5;\">\n",
    "\n",
    "creates an array of evenly spaced values starting from `start` (inclusive) up to `stop` (<b>exclusive</b>) with a spacing of `step` between consecutive values. \n",
    "        \n",
    "</div>\n",
    "<div style=\"width: 48%; line-height: 1.5;color: grey;\">\n",
    "\n",
    "erzeugt ein Array von gleichmäßig verteilten Werten von `start` (inklusive) bis `stop` (<b>ausgeschlossen</b>) mit einem Abstand von `step` zwischen aufeinanderfolgenden Werten.\n",
    "        \n",
    "</div>\n",
    "</div>"
   ]
  },
  {
   "cell_type": "code",
   "metadata": {
    "ExecuteTime": {
     "end_time": "2024-11-26T12:59:14.776768Z",
     "start_time": "2024-11-26T12:59:14.772788Z"
    }
   },
   "source": [
    "a = np.arange(0, 10, 1) \n",
    "\n",
    "a"
   ],
   "outputs": [
    {
     "data": {
      "text/plain": [
       "array([0, 1, 2, 3, 4, 5, 6, 7, 8, 9])"
      ]
     },
     "execution_count": 16,
     "metadata": {},
     "output_type": "execute_result"
    }
   ],
   "execution_count": 16
  },
  {
   "cell_type": "code",
   "metadata": {
    "ExecuteTime": {
     "end_time": "2024-11-26T12:59:15.511696Z",
     "start_time": "2024-11-26T12:59:15.507952Z"
    }
   },
   "source": [
    "a = np.arange(0, 10, 1.1) \n",
    "\n",
    "a"
   ],
   "outputs": [
    {
     "data": {
      "text/plain": [
       "array([0. , 1.1, 2.2, 3.3, 4.4, 5.5, 6.6, 7.7, 8.8, 9.9])"
      ]
     },
     "execution_count": 17,
     "metadata": {},
     "output_type": "execute_result"
    }
   ],
   "execution_count": 17
  },
  {
   "cell_type": "markdown",
   "metadata": {},
   "source": [
    "<div style=\"display: flex; justify-content: space-between;\">\n",
    "<div style=\"width: 48%; line-height: 1.5;\">\n",
    "\n",
    "You may notice the similarity in syntax between `np.arange()` and the `range()` function we discussed in the previous lecture. However, keep the following distinctions in mind:\n",
    "\n",
    "- `range()` returns a **range object** that produces only integers.\n",
    "- `np.arange()` returns a **NumPy array** that can contain both integers and floating-point numbers, offering greater flexibility for numerical operations.\n",
    "        \n",
    "</div>\n",
    "<div style=\"width: 48%; line-height: 1.5;color: grey;\">\n",
    "\n",
    "Vielleicht fällt Ihnen die Ähnlichkeit der Syntax zwischen `np.arange()` und der Funktion `range()` auf. Behalten Sie jedoch die folgenden Unterschiede im Hinterkopf:\n",
    "\n",
    "- `range()` gibt ein **range-objekt** zurück, das *nur ganze Zahlen* erzeugt.\n",
    "- `np.arange()` gibt ein **NumPy-Array** zurück, das *sowohl Ganzzahlen als auch Gleitkommazahlen* enthalten kann, was eine größere Flexibilität für numerische Operationen bietet.\n",
    "        \n",
    "</div>\n",
    "</div>"
   ]
  },
  {
   "cell_type": "markdown",
   "metadata": {},
   "source": [
    "##### `linspace`"
   ]
  },
  {
   "cell_type": "markdown",
   "metadata": {},
   "source": [
    "```python\n",
    "np.linspace(start, stop, num)\n",
    "``` \n",
    "\n",
    "<div style=\"display: flex; justify-content: space-between;\">\n",
    "\n",
    "<div style=\"width: 48%; line-height: 1.5;\">\n",
    "\n",
    "generates an array of `num` evenly spaced values between `start` and `stop`, <b>inclusive</b> of both endpoints. \n",
    "\n",
    "This method is useful for initializing an array to store future data, provided you know the size in advance, as replacing elements in a NumPy array is faster than appending to an existing one.\n",
    "        \n",
    "</div>\n",
    "<div style=\"width: 48%; line-height: 1.5;color: grey;\">\n",
    "\n",
    "erzeugt ein Array von `num` Werten mit gleichmäßigen Abständen zwischen `start` und `stop`, <b>einschließlich</b> der beiden Endpunkte.\n",
    "\n",
    "Diese Methode ist nützlich für die Initialisierung eines Arrays, um zukünftige Daten zu speichern, vorausgesetzt, man kennt die Größe im Voraus, da das Ersetzen von Elementen in einem NumPy-Array schneller ist als das Anhängen an ein bestehendes Array.\n",
    "        \n",
    "</div>\n",
    "</div>"
   ]
  },
  {
   "cell_type": "code",
   "metadata": {
    "ExecuteTime": {
     "end_time": "2024-11-26T13:00:53.661556Z",
     "start_time": "2024-11-26T13:00:53.658099Z"
    }
   },
   "source": [
    "print(np.arange(0,15,5))    # arange gives the step size, 15 is NOT included\n",
    "\n",
    "print(np.linspace(0,15,5))  # linspace gives the number of points, 15 is included"
   ],
   "outputs": [
    {
     "name": "stdout",
     "output_type": "stream",
     "text": [
      "[ 0  5 10]\n",
      "[ 0.    3.75  7.5  11.25 15.  ]\n"
     ]
    }
   ],
   "execution_count": 18
  },
  {
   "cell_type": "markdown",
   "metadata": {},
   "source": [
    "##### `zeros`"
   ]
  },
  {
   "cell_type": "markdown",
   "metadata": {},
   "source": [
    "```python\n",
    "np.zeros(num)\n",
    "``` \n",
    "\n",
    "<div style=\"display: flex; justify-content: space-between;\">\n",
    "<div style=\"width: 48%; line-height: 1.5;\">\n",
    "\n",
    "creates an array filled with zeros, where `num` specifies the length of the array.\n",
    "        \n",
    "</div>\n",
    "<div style=\"width: 48%; line-height: 1.5;color: grey;\">\n",
    "\n",
    "erzeugt ein mit Nullen gefülltes Array, wobei `num` die Länge des Arrays angibt.\n",
    "        \n",
    "</div>\n",
    "</div>"
   ]
  },
  {
   "cell_type": "code",
   "metadata": {
    "ExecuteTime": {
     "end_time": "2024-11-26T13:01:25.394911Z",
     "start_time": "2024-11-26T13:01:25.391595Z"
    }
   },
   "source": [
    "#Create an array with 10 elements, each of them equal to zero\n",
    "np.zeros(10)"
   ],
   "outputs": [
    {
     "data": {
      "text/plain": [
       "array([0., 0., 0., 0., 0., 0., 0., 0., 0., 0.])"
      ]
     },
     "execution_count": 19,
     "metadata": {},
     "output_type": "execute_result"
    }
   ],
   "execution_count": 19
  },
  {
   "cell_type": "markdown",
   "metadata": {},
   "source": [
    "##### `ones`"
   ]
  },
  {
   "cell_type": "markdown",
   "metadata": {},
   "source": [
    "```python\n",
    "np.ones(num)\n",
    "``` \n",
    "\n",
    "<div style=\"display: flex; justify-content: space-between;\">\n",
    "<div style=\"width: 48%; line-height: 1.5;\">\n",
    "\n",
    "creates an array filled with ones, where `num` specifies the length of the array.\n",
    "        \n",
    "</div>\n",
    "<div style=\"width: 48%; line-height: 1.5;color: grey;\">\n",
    "\n",
    "erzeugt ein Array, das mit Einsen gefüllt ist, wobei `num` die Länge des Arrays angibt.\n",
    "        \n",
    "</div>\n",
    "</div>"
   ]
  },
  {
   "cell_type": "code",
   "metadata": {
    "ExecuteTime": {
     "end_time": "2024-11-26T13:01:32.219533Z",
     "start_time": "2024-11-26T13:01:32.216455Z"
    }
   },
   "source": [
    "#Create an array with 10 elements, each of them equal to zero\n",
    "np.ones(10)"
   ],
   "outputs": [
    {
     "data": {
      "text/plain": [
       "array([1., 1., 1., 1., 1., 1., 1., 1., 1., 1.])"
      ]
     },
     "execution_count": 20,
     "metadata": {},
     "output_type": "execute_result"
    }
   ],
   "execution_count": 20
  },
  {
   "cell_type": "markdown",
   "metadata": {},
   "source": [
    "<div class=\"alert alert-block alert-light\">\n",
    "\n",
    "<div style=\"display: flex; justify-content: space-between;\">\n",
    "<div style=\"width: 48%; line-height: 1.5;\">\n",
    "\n",
    "#### Exercise\n",
    "\n",
    "Create arrays for \n",
    "\n",
    "- the first 10 integers,\n",
    "- odd numbers up to 10,\n",
    "- even numbers up to 10\n",
    "\n",
    " using:\n",
    "\n",
    "- `np.array()` \n",
    "\n",
    "- `np.linspace()`\n",
    "\n",
    "- `np.arange()`\n",
    "</div>\n",
    "<div style=\"width: 48%; line-height: 1.5;color: grey;\">\n",
    "\n",
    "#### Übung\n",
    "\n",
    "Erstellen Sie die Arrays für \n",
    "\n",
    "- die ersten 10 Ganzzahlen,\n",
    "- die ungeraden Zahlen bis 10, \n",
    "- die geraden Zahlen bis 10 \n",
    "\n",
    "mit:\n",
    "\n",
    "- `np.array()`\n",
    "\n",
    "- `np.linspace()`\n",
    "\n",
    "- `np.arange()`\n",
    "</div>\n",
    "</div>"
   ]
  },
  {
   "cell_type": "code",
   "execution_count": null,
   "metadata": {},
   "outputs": [],
   "source": [
    "#countdown\n",
    "countdown_timer(10)"
   ]
  },
  {
   "cell_type": "markdown",
   "metadata": {},
   "source": [
    "<div style=\"display: flex; justify-content: space-between;\">\n",
    "<div style=\"width: 48%; line-height: 1.5;\">\n",
    "\n",
    "## Indexing, Slicing, Manipulating\n",
    "\n",
    "Arrays are indexed, sliced and manipulated in the same manner as lists:\n",
    "        \n",
    "</div>\n",
    "<div style=\"width: 48%; line-height: 1.5;color: grey;\">\n",
    "\n",
    "## Indexierung, Slicing, Manipulation\n",
    "\n",
    "Arrays werden auf die gleiche Weise indiziert, zerlegt und manipuliert wie Listen:\n",
    "        \n",
    "</div>\n",
    "</div>"
   ]
  },
  {
   "cell_type": "code",
   "metadata": {
    "ExecuteTime": {
     "end_time": "2024-11-26T13:03:48.961391Z",
     "start_time": "2024-11-26T13:03:41.674983Z"
    }
   },
   "source": [
    "\n",
    "# You are not supposed to understand this code, yet. It is here for your convenience/curiosity.\n",
    "import matplotlib.pyplot as plt\n",
    "import matplotlib.patches as patches\n",
    "\n",
    "# Create a figure and axis\n",
    "fig, ax = plt.subplots()\n",
    "\n",
    "# Set the limits of the plot and equal aspect ratio\n",
    "ax.set_xlim(0, 9.1)\n",
    "ax.set_ylim(0, 3)\n",
    "ax.set_aspect('equal')\n",
    "ax.axis('off')  # Remove axes for a cleaner look\n",
    "\n",
    "fibonacci = [0, 1, 1, 2, 3, 5, 8, 13, 21]\n",
    "color = 'gainsboro'  # Define color for the rectangles\n",
    "\n",
    "# Add rectangles and text labels\n",
    "for i in range(9):  # 9 columns \n",
    "    for j in range(3):  # 3 rows\n",
    "        if j == 1:  # Middle row\n",
    "            label = fibonacci[i]\n",
    "            rect = patches.Rectangle((i, j), 1, 1, edgecolor='black', facecolor=color)\n",
    "            ax.text(i + 0.5, j + 0.5, label, color='blue', fontsize=16, ha='center', va='center')\n",
    "            ax.add_patch(rect)\n",
    "        elif j == 0:  # Bottom row\n",
    "            label = i - len(fibonacci)\n",
    "            ax.text(i + 0.5, j + 0.5, label, color='black', fontsize=16, ha='center', va='center')\n",
    "        elif j == 2:  # Top row\n",
    "            label = i\n",
    "            ax.text(i + 0.5, j + 0.5, label, color='black', fontsize=16, ha='center', va='center')\n",
    "\n",
    "# Display the plot\n",
    "plt.show()"
   ],
   "outputs": [
    {
     "data": {
      "text/plain": [
       "<Figure size 640x480 with 1 Axes>"
      ],
      "image/png": "[encoded data removed]"
     },
     "metadata": {},
     "output_type": "display_data"
    }
   ],
   "execution_count": 21
  },
  {
   "cell_type": "markdown",
   "metadata": {},
   "source": [
    "```python\n",
    "# Create an array\n",
    "my_array = [0, 1, 1, 2, 3, 5, 8, 13, 21]\n",
    "\n",
    "# Accessing elements (indexing)\n",
    "first_element = my_array[0]  # Access the first element\n",
    "last_element = my_array[-1]  # Access the last element\n",
    "\n",
    "# Modifying elements\n",
    "my_array[3] = 15\n",
    "\n",
    "# Slicing\n",
    "sub_array = my_array[1:4]  # Extract a slice [2, 3, 4]\n",
    "\n",
    "# Appending an element to an array is possible but NOT RECOMMENDED\n",
    "\n",
    "# Iterating over elements\n",
    "for element in my_array:\n",
    "    print(element)\n",
    "\n",
    "# Checking if an element exists\n",
    "contains_four = 4 in my_array  # Returns True if 4 is in the array\n",
    "```"
   ]
  },
  {
   "cell_type": "markdown",
   "metadata": {},
   "source": [
    "<div style=\"display: flex; justify-content: space-between;\">\n",
    "<div style=\"width: 48%; line-height: 1.5;\">\n",
    "\n",
    "However, whilst nested lists must be indexed with sequences of square brackets:\n",
    "</div>\n",
    "<div style=\"width: 48%; line-height: 1.5;color: grey;\">\n",
    "\n",
    "Während verschachtelte Listen jedoch mit Folgen von eckigen Klammern indiziert werden müssen:\n",
    "</div>\n",
    "</div>"
   ]
  },
  {
   "cell_type": "code",
   "metadata": {
    "ExecuteTime": {
     "end_time": "2024-11-26T13:13:36.476267Z",
     "start_time": "2024-11-26T13:13:36.473107Z"
    }
   },
   "source": [
    "my_list = [\n",
    "          [1, 2, 0], \n",
    "          [1, 3, 4], \n",
    "          [-2, 0.5, 1]\n",
    "          ]\n",
    "\n",
    "my_list[1][2]"
   ],
   "outputs": [
    {
     "data": {
      "text/plain": [
       "4"
      ]
     },
     "execution_count": 22,
     "metadata": {},
     "output_type": "execute_result"
    }
   ],
   "execution_count": 22
  },
  {
   "cell_type": "markdown",
   "metadata": {},
   "source": [
    "<div style=\"display: flex; justify-content: space-between;\">\n",
    "<div style=\"width: 48%; line-height: 1.5;\">\n",
    "\n",
    "The preferred way of indexing into multidimensional NumPy arrays is with comma-separated values:\n",
    "</div>\n",
    "<div style=\"width: 48%; line-height: 1.5;color: grey;\">\n",
    "\n",
    "Die bevorzugte Art der Indizierung in mehrdimensionalen NumPy-Arrays ist die Verwendung von kommagetrennten Werten:\n",
    "</div>\n",
    "</div>"
   ]
  },
  {
   "cell_type": "code",
   "metadata": {
    "ExecuteTime": {
     "end_time": "2024-11-26T13:13:43.279344Z",
     "start_time": "2024-11-26T13:13:43.276392Z"
    }
   },
   "source": [
    "my_array = np.array(my_list)\n",
    "\n",
    "my_array"
   ],
   "outputs": [
    {
     "data": {
      "text/plain": [
       "array([[ 1. ,  2. ,  0. ],\n",
       "       [ 1. ,  3. ,  4. ],\n",
       "       [-2. ,  0.5,  1. ]])"
      ]
     },
     "execution_count": 23,
     "metadata": {},
     "output_type": "execute_result"
    }
   ],
   "execution_count": 23
  },
  {
   "cell_type": "code",
   "metadata": {
    "ExecuteTime": {
     "end_time": "2024-11-26T13:14:18.298240Z",
     "start_time": "2024-11-26T13:14:18.295223Z"
    }
   },
   "source": "my_array[1, 2]",
   "outputs": [
    {
     "data": {
      "text/plain": [
       "4.0"
      ]
     },
     "execution_count": 27,
     "metadata": {},
     "output_type": "execute_result"
    }
   ],
   "execution_count": 27
  },
  {
   "cell_type": "markdown",
   "metadata": {},
   "source": [
    "<div style=\"display: flex; justify-content: space-between;\">\n",
    "<div style=\"width: 48%; line-height: 1.5;\">\n",
    "\n",
    "<span style=\"font-size: 0.8em;\"> Note also that NumPy converted all original integers to floats: The presence of `0.5` in the initializing statement forced the entire array to become one of floating-point values: **NumPy arrays only ever have a single type**.</span>\n",
    "        \n",
    "</div>\n",
    "<div style=\"width: 48%; line-height: 1.5;color: grey;\">\n",
    "        \n",
    "<span style=\"font-size: 0.8em;\"> Beachten Sie auch, dass NumPy alle ursprünglichen Ganzzahlen in Gleitkommawerte umgewandelt hat: Das Vorhandensein von `0.5` in der Initialisierungsanweisung zwang das gesamte Array dazu, ein Array mit Gleitkommawerten zu werden: **NumPy-Arrays haben immer nur einen einzigen Typ**.</span>\n",
    "        \n",
    "</div>\n",
    "</div>"
   ]
  },
  {
   "cell_type": "markdown",
   "metadata": {},
   "source": [
    "<div style=\"display: flex; justify-content: space-between;\">\n",
    "<div style=\"width: 48%; line-height: 1.5;\">\n",
    "\n",
    "## Arrays for mathematical computations \n",
    "\n",
    "The biggest difference between lists and arrays lies in their handling of mathematical operations. \n",
    "\n",
    "For instance, consider the list of numbers `number_list = [1, 2, 3, 4]`. \n",
    "\n",
    "If we want to create a new list where each element is 3 times larger than the corresponding value in `number_list` (i.e., 3, 6, 9, 12), one might be tempted to simply multiply the original list by 3:\n",
    "</div>\n",
    "<div style=\"width: 48%; line-height: 1.5;color: grey;\">\n",
    "\n",
    "## Arrays für mathematische Berechnungen\n",
    "\n",
    "Der größte Unterschied zwischen Listen und Arrays liegt in der Behandlung von mathematischen Operationen. \n",
    "\n",
    "Betrachten wir zum Beispiel die Zahlenliste `number_list = [1, 2, 3, 4]`. \n",
    "\n",
    "Wenn wir eine neue Liste erstellen wollen, in der jedes Element dreimal so groß ist wie der entsprechende Wert in `number_list` (d.h. 3, 6, 9, 12), könnte man versucht sein, die ursprüngliche Liste einfach mit 3 zu multiplizieren:\n",
    "</div>\n",
    "</div>"
   ]
  },
  {
   "cell_type": "code",
   "metadata": {
    "ExecuteTime": {
     "end_time": "2024-11-26T13:15:53.392205Z",
     "start_time": "2024-11-26T13:15:53.388960Z"
    }
   },
   "source": [
    "#Create list of numbers\n",
    "number_list = [1,2,3,4]\n",
    "\n",
    "#Multiply this list by 3\n",
    "number_list = number_list*3\n",
    "\n",
    "#look at the result\n",
    "number_list"
   ],
   "outputs": [
    {
     "data": {
      "text/plain": [
       "[1, 2, 3, 4, 1, 2, 3, 4, 1, 2, 3, 4]"
      ]
     },
     "execution_count": 28,
     "metadata": {},
     "output_type": "execute_result"
    }
   ],
   "execution_count": 28
  },
  {
   "cell_type": "markdown",
   "metadata": {},
   "source": [
    "<div style=\"display: flex; justify-content: space-between;\">\n",
    "<div style=\"width: 48%; line-height: 1.5;\">\n",
    "\n",
    "Clearly, this approach does not achieve our intended result! \n",
    "\n",
    "The situation worsens with other simple operations (such as adding 1 to each element or computing the sine), which will likely fail and produce error messages (try it yourself).\n",
    "\n",
    "To mathematically manipulate the numbers in lists, you must process each element individually:\n",
    "        \n",
    "</div>\n",
    "<div style=\"width: 48%; line-height: 1.5;color: grey;\">\n",
    "\n",
    "Es ist klar, dass dieser Ansatz nicht zum gewünschten Ergebnis führt! \n",
    "\n",
    "Die Situation verschlimmert sich bei anderen einfachen Operationen (z.B. Addition von 1 zu jedem Element oder Berechnung des Sinus), die wahrscheinlich fehlschlagen und Fehlermeldungen erzeugen werden (probieren Sie es selbst aus).\n",
    "\n",
    "Um die Zahlen in Listen mathematisch zu manipulieren, müssen Sie jedes Element einzeln verarbeiten:\n",
    "        \n",
    "</div>\n",
    "</div>"
   ]
  },
  {
   "cell_type": "code",
   "metadata": {
    "ExecuteTime": {
     "end_time": "2024-11-26T13:16:07.971487Z",
     "start_time": "2024-11-26T13:16:07.969153Z"
    }
   },
   "source": [
    "for i in range(len(number_list)):\n",
    "    number_list[i] *= 3\n",
    "\n",
    "print(number_list)"
   ],
   "outputs": [
    {
     "name": "stdout",
     "output_type": "stream",
     "text": [
      "[3, 6, 9, 12, 3, 6, 9, 12, 3, 6, 9, 12]\n"
     ]
    }
   ],
   "execution_count": 29
  },
  {
   "cell_type": "markdown",
   "metadata": {},
   "source": [
    "<div style=\"display: flex; justify-content: space-between;\">\n",
    "<div style=\"width: 48%; line-height: 1.5;\">\n",
    "\n",
    "On the other hand, if we had used an array for our original data, the first approach would have worked as intended:\n",
    "        \n",
    "</div>\n",
    "<div style=\"width: 48%; line-height: 1.5;color: grey;\">\n",
    "\n",
    "Hätten wir hingegen ein Array für unsere ursprünglichen Daten verwendet, hätte der erste Ansatz wie vorgesehen funktioniert:\n",
    "        \n",
    "</div>\n",
    "</div>"
   ]
  },
  {
   "cell_type": "code",
   "metadata": {
    "ExecuteTime": {
     "end_time": "2024-11-26T13:16:11.786902Z",
     "start_time": "2024-11-26T13:16:11.783905Z"
    }
   },
   "source": [
    "#Create array of numbers \n",
    "number_array = np.array([1, 2, 3, 4])\n",
    "\n",
    "#Multiply this array by 3\n",
    "number_array = number_array*3\n",
    "\n",
    "#look at the result\n",
    "number_array"
   ],
   "outputs": [
    {
     "data": {
      "text/plain": [
       "array([ 3,  6,  9, 12])"
      ]
     },
     "execution_count": 30,
     "metadata": {},
     "output_type": "execute_result"
    }
   ],
   "execution_count": 30
  },
  {
   "cell_type": "code",
   "metadata": {
    "ExecuteTime": {
     "end_time": "2024-11-26T13:16:19.428680Z",
     "start_time": "2024-11-26T13:16:19.425624Z"
    }
   },
   "source": [
    "#create an array containing all the whole numbers from -2 to 5, inclusive\n",
    "a = np.linspace(-2,5,8)\n",
    "\n",
    "a"
   ],
   "outputs": [
    {
     "data": {
      "text/plain": [
       "array([-2., -1.,  0.,  1.,  2.,  3.,  4.,  5.])"
      ]
     },
     "execution_count": 31,
     "metadata": {},
     "output_type": "execute_result"
    }
   ],
   "execution_count": 31
  },
  {
   "cell_type": "code",
   "metadata": {
    "ExecuteTime": {
     "end_time": "2024-11-26T13:16:22.049587Z",
     "start_time": "2024-11-26T13:16:22.046240Z"
    }
   },
   "source": [
    "a + 3"
   ],
   "outputs": [
    {
     "data": {
      "text/plain": [
       "array([1., 2., 3., 4., 5., 6., 7., 8.])"
      ]
     },
     "execution_count": 32,
     "metadata": {},
     "output_type": "execute_result"
    }
   ],
   "execution_count": 32
  },
  {
   "cell_type": "code",
   "metadata": {
    "ExecuteTime": {
     "end_time": "2024-11-26T13:16:27.642516Z",
     "start_time": "2024-11-26T13:16:27.639435Z"
    }
   },
   "source": [
    "a/2"
   ],
   "outputs": [
    {
     "data": {
      "text/plain": [
       "array([-1. , -0.5,  0. ,  0.5,  1. ,  1.5,  2. ,  2.5])"
      ]
     },
     "execution_count": 33,
     "metadata": {},
     "output_type": "execute_result"
    }
   ],
   "execution_count": 33
  },
  {
   "cell_type": "code",
   "metadata": {
    "ExecuteTime": {
     "end_time": "2024-11-26T13:16:31.831805Z",
     "start_time": "2024-11-26T13:16:31.828770Z"
    }
   },
   "source": [
    "a**3+1"
   ],
   "outputs": [
    {
     "data": {
      "text/plain": [
       "array([ -7.,   0.,   1.,   2.,   9.,  28.,  65., 126.])"
      ]
     },
     "execution_count": 34,
     "metadata": {},
     "output_type": "execute_result"
    }
   ],
   "execution_count": 34
  },
  {
   "cell_type": "markdown",
   "metadata": {},
   "source": [
    "<div style=\"display: flex; justify-content: space-between;\">\n",
    "<div style=\"width: 48%; line-height: 1.5;\">\n",
    "\n",
    "####  Boolean arrays \n",
    "\n",
    "Comparison operations on a NumPy array are vectorized and return an array of `True` and `False` values:\n",
    "</div>\n",
    "<div style=\"width: 48%; line-height: 1.5;color: grey;\">\n",
    "\n",
    "#### Boolesche Arrays\n",
    "\n",
    "Vergleichsoperationen auf einem NumPy-Array sind vektorisiert und geben ein Array mit `True` und `False` Werten zurück:\n",
    "</div>\n",
    "</div>"
   ]
  },
  {
   "cell_type": "code",
   "metadata": {
    "ExecuteTime": {
     "end_time": "2024-11-26T13:17:54.697689Z",
     "start_time": "2024-11-26T13:17:54.694883Z"
    }
   },
   "source": [
    "arr = np.array([0, 1, 2, 4, 2, 1])\n",
    "\n",
    "print(arr > 1)\n",
    "print(arr == 1)\n",
    "print(arr**2 > 10)"
   ],
   "outputs": [
    {
     "name": "stdout",
     "output_type": "stream",
     "text": [
      "[False False  True  True  True False]\n",
      "[False  True False False False  True]\n",
      "[False False False  True False False]\n"
     ]
    }
   ],
   "execution_count": 38
  },
  {
   "cell_type": "markdown",
   "metadata": {},
   "source": [
    "<div style=\"display: flex; justify-content: space-between;\">\n",
    "<div style=\"width: 48%; line-height: 1.5;\">\n",
    "\n",
    "Since the boolean quantities `True` and `False` are equal to the integer values `1` and `0`, respectively, these boolean arrays can be passed to `np.sum` to count the number of `True` values:\n",
    "</div>\n",
    "<div style=\"width: 48%; line-height: 1.5;color: grey;\">\n",
    "\n",
    "Da die booleschen Größen `True` und `False` gleich den ganzzahligen Werten `1` bzw. `0` sind, können diese booleschen Arrays an `np.sum` übergeben werden, um die Anzahl der `True`-Werte zu zählen:\n",
    "</div>\n",
    "</div>"
   ]
  },
  {
   "cell_type": "code",
   "metadata": {
    "ExecuteTime": {
     "end_time": "2024-11-26T13:34:15.682278Z",
     "start_time": "2024-11-26T13:34:15.679027Z"
    }
   },
   "source": "np.sum(arr > 1) # Number of elements greater than 1",
   "outputs": [
    {
     "data": {
      "text/plain": [
       "3"
      ]
     },
     "execution_count": 53,
     "metadata": {},
     "output_type": "execute_result"
    }
   ],
   "execution_count": 53
  },
  {
   "cell_type": "markdown",
   "metadata": {},
   "source": [
    "<div style=\"display: flex; justify-content: space-between;\">\n",
    "\n",
    "<div style=\"width: 48%; line-height: 1.5;\">\n",
    "\n",
    "<span style=\"font-size: 0.8em;\"> NumPy-specific data types are specialized types used by NumPy for efficient numerical computations, with fixed sizes and precision. Examples include:</span>\n",
    "<br>\n",
    "<span style=\"font-size: 0.8em;\">Integers: `np.int8`, `np.int16`, `np.int32`, `np.int64`</span>\n",
    "<br>\n",
    "<span style=\"font-size: 0.8em;\">Floating-Point Numbers: `np.float16`, `np.float32`, `np.float64`, `np.float128`</span>\n",
    "        \n",
    "</div>\n",
    "<div style=\"width: 48%; line-height: 1.5;color: grey;\">\n",
    "        \n",
    "<span style=\"font-size: 0.8em;\"> NumPy-spezifische Datentypen sind spezialisierte Typen, die von NumPy für effiziente numerische Berechnungen verwendet werden, mit festen Größen und Genauigkeiten. Beispiele hierfür sind:</span>\n",
    "<br>\n",
    "<span style=\"font-size: 0.8em;\">Ganzzahlen: `np.int8`, `np.int16`, `np.int32`, `np.int64`</span>\n",
    "<br>\n",
    "<span style=\"font-size: 0.8em;\">Gleitkommazahlen: `np.float16`, `np.float32`, `np.float64`, `np.float128`</span>\n",
    "        \n",
    "</div>\n",
    "</div>"
   ]
  },
  {
   "cell_type": "markdown",
   "metadata": {},
   "source": [
    "<div style=\"display: flex; justify-content: space-between;\">\n",
    "<div style=\"width: 48%; line-height: 1.5;\">\n",
    "\n",
    "###  Summary statistics (aggregation) \n",
    "\n",
    "We’ve seen that lists in Python support basic statistical operations like `sum`, `min`, and `max`. \n",
    "\n",
    "However, even calculating a basic property like the average is not built-in, so we need to compute it manually using the formula `sum(list) / len(list)`.\n",
    "\n",
    "**Numpy aggregation** refers to the process of applying a function to summarize or combine a collection of data, typically an array or a matrix, into a single value or a smaller set of values. \n",
    "\n",
    "These aggregation functions in NumPy are used to compute metrics like sums, averages, min/max values, and more, over an entire array or along specific axes.\n",
    "\n",
    "</div>\n",
    "<div style=\"width: 48%; line-height: 1.5;color: grey;\">\n",
    "\n",
    "###  Zusammenfassende Statistiken (Aggregation)\n",
    "\n",
    "Wir haben gesehen, dass Listen in Python grundlegende statistische Operationen wie `sum`, `min` und `max` unterstützen.\n",
    "Allerdings ist selbst die Berechnung einer grundlegenden Eigenschaft wie des Durchschnitts nicht eingebaut, so dass wir ihn manuell mit der Formel `sum(list) / len(list)` berechnen müssen.\n",
    "\n",
    "Die **Numpy-Aggregation** bezieht sich auf den Prozess der Anwendung einer Funktion, um eine Sammlung von Daten, typischerweise ein Array oder eine Matrix, zu einem einzigen Wert oder einer kleineren Menge von Werten zusammenzufassen oder zu kombinieren. \n",
    "\n",
    "Diese Aggregationsfunktionen in NumPy werden verwendet, um Metriken wie Summen, Mittelwerte, Min/Max-Werte und mehr über ein ganzes Array oder entlang bestimmter Achsen zu berechnen.\n",
    "\n",
    "</div>\n",
    "</div>"
   ]
  },
  {
   "cell_type": "markdown",
   "metadata": {},
   "source": [
    "<div style=\"text-align: center;\">\n",
    "    <img src=\"https://api.www.labxchange.org/api/v1/xblocks/lb:LabXchange:10d3270e:html:1/storage/14__spread-61626365223536-6deac6d3a35d8e08fa3459f146298339.png\"; style=\"width: 1000px;\">\n",
    "</div>"
   ]
  },
  {
   "cell_type": "markdown",
   "metadata": {},
   "source": [
    "<div style=\"text-align: center;\">\n",
    "    <img src=\"https://reference.wolfram.com/language/ref/Files/StandardDeviation.en/Image_11.gif\"; style=\"width: 600px;\">\n",
    "</div>"
   ]
  },
  {
   "cell_type": "markdown",
   "metadata": {},
   "source": [
    "| Function                     | NaN-Aware Equivalent               | Description                                          | Beschreibung                                                | List Equivalent                                  |\n",
    "|------------------------------|------------------------------------|------------------------------------------------------|-------------------------------------------------------------|--------------------------------------------------|\n",
    "| `np.sum()`                   | `np.nansum()`                      | Adds up all the elements in an array.                | Summiert alle Elemente in einem Array.                      | `sum(list)`                                      |\n",
    "| `np.mean()`                  | `np.nanmean()`                     | Calculates the average (mean) of the elements.       | Berechnet den Durchschnitt (Mittelwert) der Elemente.       | `sum(list) / len(list)`                          |\n",
    "| `np.min()`, `np.max()`       | `np.nanmin()`, `np.nanmax()`       | Finds the minimum or maximum value.                  | Findet den minimalen oder maximalen Wert.                   | `min(list)`, `max(list)`                         |\n",
    "| `np.median()`                | `np.nanmedian()`                   | Computes the median value.                           | Berechnet den Medianwert.                                   | `sorted(list)[len(list)//2]`                     |\n",
    "| `np.std()`                   | `np.nanstd()`                      | Computes the standard deviation.                     | Berechnet die Standardabweichung.                           | N/A                                              |\n",
    "| `np.prod()`                  | `np.nanprod()`                     | Multiplies all elements together.                    | Multipliziert alle Elemente miteinander.                    | N/A                                              |\n",
    "| `np.var()`                   | `np.nanvar()`                      | Calculates the variance of the elements.             | Berechnet die Varianz der Elemente.                         | N/A                                              |\n",
    "| `np.cumsum()`                | `np.nancumsum()`                   | Returns the cumulative sum of elements.              | Gibt die kumulative Summe der Elemente zurück.              | N/A                                              |\n",
    "| `np.cumprod()`               | `np.nancumprod()`                  | Returns the cumulative product of elements.          | Gibt das kumulative Produkt der Elemente zurück.            | N/A                                              |\n",
    "| `np.argmax()`, `np.argmin()` | `np.nanargmax()`, `np.nanargmin()` | Returns the indices of the maximum or minimum value. | Gibt die Indizes des maximalen oder minimalen Werts zurück. | `list.index(max(list))`, `list.index(min(list))` |\n",
    "\n",
    "For multidimensional arrays, you can aggregate over specific axes (rows or columns) by passing the `axis` argument. For example:\n",
    "- `np.sum(arr, axis=0)` sums along the columns. *(Summiert entlang der Spalten.)*\n",
    "- `np.sum(arr, axis=1)` sums along the rows. *(Summiert entlang der Zeilen.)*"
   ]
  },
  {
   "cell_type": "markdown",
   "metadata": {},
   "source": [
    "<div style=\"display: flex; justify-content: space-between;\">\n",
    "<div style=\"width: 48%; line-height: 1.5;\">\n",
    "\n",
    "###  NaN: Not a Number \n",
    "\n",
    "In the standard floating point description of numbers, there is a special value, “NaN,” which stands for “Not a Number,” denoting an undefined or invalid value. NumPy’s representation of NaN is `numpy.nan`. \n",
    "\n",
    "For example: There is no number, $x$, for which $\\sin(x) = 1.5$ is defined, and so attempting to find the arcsin of 1.5 yields NaN (with a warning).\n",
    "</div>\n",
    "<div style=\"width: 48%; line-height: 1.5;color: grey;\">\n",
    "\n",
    "###  NaN: Keine Zahl \n",
    "\n",
    "In der Standard-Gleitkomma-Beschreibung von Zahlen gibt es einen speziellen Wert, \"NaN\", der für \"Not a Number\" steht und einen undefinierten oder ungültigen Wert bezeichnet. NumPy's Darstellung von NaN ist `numpy.nan`. \n",
    "\n",
    "Zum Beispiel: Es gibt keine Zahl $x$, für die $\\sin(x) = 1.5$ definiert ist, so dass der Versuch, den Bogensinus von 1.5 zu finden, NaN ergibt (mit einer Warnung).\n",
    "</div>\n",
    "</div>"
   ]
  },
  {
   "cell_type": "code",
   "metadata": {
    "ExecuteTime": {
     "end_time": "2024-11-26T13:24:36.565080Z",
     "start_time": "2024-11-26T13:24:36.561536Z"
    }
   },
   "source": [
    "arcsin_array = np.arcsin([-0.5, 0, 0.5, np.sqrt(3)/2, 1, 1.5])\n",
    "\n",
    "print(arcsin_array)"
   ],
   "outputs": [
    {
     "name": "stdout",
     "output_type": "stream",
     "text": [
      "[-0.52359878  0.          0.52359878  1.04719755  1.57079633         nan]\n"
     ]
    },
    {
     "name": "stderr",
     "output_type": "stream",
     "text": [
      "/tmp/ipykernel_6164/72484302.py:1: RuntimeWarning: invalid value encountered in arcsin\n",
      "  arcsin_array = np.arcsin([-0.5, 0, 0.5, np.sqrt(3)/2, 1, 1.5])\n"
     ]
    }
   ],
   "execution_count": 46
  },
  {
   "cell_type": "markdown",
   "metadata": {},
   "source": [
    "<div style=\"display: flex; justify-content: space-between;\">\n",
    "<div style=\"width: 48%; line-height: 1.5;\">\n",
    "\n",
    "Dealing with NaN entries in an array can be cumbersome and if an array includes such values, the aggregation functions will also return `numpy.nan`.\n",
    "\n",
    "Luckily, where it is appropriate to simply ignore these invalid array entries, there are a family of `nan`-aware methods, `nanmin`, `nanmax`, etc. that do so:\n",
    "</div>\n",
    "<div style=\"width: 48%; line-height: 1.5;color: grey;\">\n",
    "\n",
    "Der Umgang mit NaN-Einträgen in einem Array kann mühsam sein, und wenn ein Array solche Werte enthält, geben die Aggregationsfunktionen auch `numpy.nan` zurück.\n",
    "\n",
    "Glücklicherweise gibt es für die Fälle, in denen es angebracht ist, diese ungültigen Array-Einträge einfach zu ignorieren, eine Reihe `nan`-bewusster Methoden, `nanmin`, `nanmax`, usw., die dies tun:\n",
    "</div>\n",
    "</div>"
   ]
  },
  {
   "cell_type": "code",
   "metadata": {
    "ExecuteTime": {
     "end_time": "2024-11-26T13:25:25.714592Z",
     "start_time": "2024-11-26T13:25:25.711693Z"
    }
   },
   "source": [
    "print(np.nanmax(arcsin_array))          # Maximum valid value, ignoring nans\n",
    "print(np.nanmean(arcsin_array))         # Mean of all valid values in arcsin_array\n",
    "print(np.nanargmax(arcsin_array))       # Index of the maximum valid value in arcsin_array"
   ],
   "outputs": [
    {
     "name": "stdout",
     "output_type": "stream",
     "text": [
      "1.5707963267948966\n",
      "0.5235987755982988\n",
      "4\n"
     ]
    }
   ],
   "execution_count": 47
  },
  {
   "cell_type": "markdown",
   "metadata": {},
   "source": [
    "<div class=\"alert alert-block alert-light\">\n",
    "\n",
    "<div style=\"display: flex; justify-content: space-between;\">\n",
    "<div style=\"width: 48%; line-height: 1.5;\">\n",
    "\n",
    "#### Exercise\n",
    "\n",
    "You are given an array of grades from a recent exam. \n",
    "Use appropriate aggregation functions to calculate the following statistics: \n",
    "\n",
    "- Minimum value  \n",
    "- Maximum value  \n",
    "- Mean  \n",
    "- Median  \n",
    "- Standard deviation\n",
    "\n",
    "</div>\n",
    "<div style=\"width: 48%; line-height: 1.5;color: grey;\">\n",
    "\n",
    "#### Übung\n",
    "\n",
    "Sie erhalten eine Reihe von Noten aus einer kürzlich abgelegten Prüfung.\n",
    "Verwenden Sie geeignete Aggregationsfunktionen, um die folgenden Statistiken zu berechnen:\n",
    "\n",
    "- Minimaler Wert\n",
    "- Maximaler Wert\n",
    "- Mittelwert\n",
    "- Median\n",
    "- Standardabweichung\n",
    "\n",
    "</div>\n",
    "</div>\n",
    "\n",
    "```python\n",
    "grades = [5.0, 5.0, 2.7, 5.0, 2.7, 1.7, 5.0, 5.0, 3.3, 3.7, 5.0, 2.7, 3.3, 3.0, 2.7, 4.0, 3.0, 3.3, 2.7, 3.7, 3.3, 3.7, \n",
    "          5.0, 1.3, 2.7, 3.3, 2.7, 5.0, 3.7, 5.0, 2.7, 2.7, 5.0, 3.0, 1.7, 3.0, 1.0, 2.3, 5.0, 5.0, 2.3, 2.3, 5.0, 3.7]\n",
    " ```"
   ]
  },
  {
   "cell_type": "code",
   "execution_count": null,
   "metadata": {},
   "outputs": [],
   "source": [
    "countdown_timer(10)"
   ]
  },
  {
   "cell_type": "code",
   "metadata": {
    "ExecuteTime": {
     "end_time": "2024-11-26T13:29:12.580317Z",
     "start_time": "2024-11-26T13:29:12.568921Z"
    }
   },
   "source": [
    "min_grade = np.min(grades)\n",
    "max_grade = np.max(grades)\n",
    "\n",
    "mean_grade = np.mean(grades)\n",
    "median_grade = np.median(grades)\n",
    "std_dev_grade = round(np.std(grades),3)\n",
    "\n",
    "print(f\"{min_grade}, {max_grade}, {mean_grade}, {median_grade}, {std_dev_grade}\")"
   ],
   "outputs": [
    {
     "ename": "NameError",
     "evalue": "name 'grades' is not defined",
     "output_type": "error",
     "traceback": [
      "\u001B[0;31m---------------------------------------------------------------------------\u001B[0m",
      "\u001B[0;31mNameError\u001B[0m                                 Traceback (most recent call last)",
      "Cell \u001B[0;32mIn[50], line 1\u001B[0m\n\u001B[0;32m----> 1\u001B[0m min_grade \u001B[38;5;241m=\u001B[39m np\u001B[38;5;241m.\u001B[39mmin(\u001B[43mgrades\u001B[49m)\n\u001B[1;32m      2\u001B[0m max_grade \u001B[38;5;241m=\u001B[39m np\u001B[38;5;241m.\u001B[39mmax(grades)\n\u001B[1;32m      4\u001B[0m mean_grade \u001B[38;5;241m=\u001B[39m np\u001B[38;5;241m.\u001B[39mmean(grades)\n",
      "\u001B[0;31mNameError\u001B[0m: name 'grades' is not defined"
     ]
    }
   ],
   "execution_count": 50
  },
  {
   "cell_type": "markdown",
   "metadata": {},
   "source": [
    "<div style=\"display: flex; justify-content: space-between;\">\n",
    "<div style=\"width: 48%; line-height: 1.5;\">\n",
    "\n",
    "NumPy provides the same core mathematical functions as Python's built-in `math` module introduced in earlier lectures (though some NumPy commands have different names: take a moment to compare). \n",
    "\n",
    "**However, NumPy is significantly more powerful. It is standard practice to use NumPy for mathematical computations, as it simplifies the workflow and reduces the number of imports needed.**\n",
    "        \n",
    "</div>\n",
    "<div style=\"width: 48%; line-height: 1.5;color: grey;\">\n",
    "\n",
    "NumPy bietet dieselben grundlegenden mathematischen Funktionen wie das in früheren Vorlesungen vorgestellte integrierte `math`-Modul von Python (obwohl einige NumPy-Befehle andere Namen haben: nehmen Sie sich einen Moment Zeit, um zu vergleichen). \n",
    "\n",
    "**Allerdings ist NumPy wesentlich leistungsfähiger. Es ist gängige Praxis, NumPy für mathematische Berechnungen zu verwenden, da es den Arbeitsablauf vereinfacht und die Anzahl der benötigten Importe reduziert.**\n",
    "        \n",
    "</div>\n",
    "</div>"
   ]
  },
  {
   "cell_type": "markdown",
   "metadata": {},
   "source": [
    "<div style=\"text-align: center;\">\n",
    "    <img src=\"https://i.imgflip.com/9bgj59.jpg\"  style=\"width: 400px;\"> \n",
    "    <figcaption> I'm very sorry.<br> Es tut mir sehr leid.</figcaption>\n",
    "</div>"
   ]
  },
  {
   "cell_type": "code",
   "metadata": {
    "ExecuteTime": {
     "end_time": "2024-11-26T13:30:06.050774Z",
     "start_time": "2024-11-26T13:30:06.047671Z"
    }
   },
   "source": [
    "np.cos(a) "
   ],
   "outputs": [
    {
     "data": {
      "text/plain": [
       "array([-0.41614684,  0.54030231,  1.        ,  0.54030231, -0.41614684,\n",
       "       -0.9899925 , -0.65364362,  0.28366219])"
      ]
     },
     "execution_count": 51,
     "metadata": {},
     "output_type": "execute_result"
    }
   ],
   "execution_count": 51
  },
  {
   "cell_type": "code",
   "metadata": {
    "ExecuteTime": {
     "end_time": "2024-11-26T13:30:07.344185Z",
     "start_time": "2024-11-26T13:30:07.341089Z"
    }
   },
   "source": [
    "10**a"
   ],
   "outputs": [
    {
     "data": {
      "text/plain": [
       "array([1.e-02, 1.e-01, 1.e+00, 1.e+01, 1.e+02, 1.e+03, 1.e+04, 1.e+05])"
      ]
     },
     "execution_count": 52,
     "metadata": {},
     "output_type": "execute_result"
    }
   ],
   "execution_count": 52
  },
  {
   "cell_type": "markdown",
   "metadata": {},
   "source": [
    "| Operation                  | Operation                  | as Formula           | NumPy `np` Function | Python `math` Function |\n",
    "|----------------------------|----------------------------|----------------------|---------------------|------------------------|\n",
    "| Square Root                | Quadratwurzel              | $\\sqrt x$            | `np.sqrt(x)`        | `math.sqrt(x)`         |\n",
    "| Exponentiation             | Exponentiation             | $e^x$                | `np.exp(x)`         | `math.exp(x)`          |\n",
    "| Logarithm (base e)         | Logarithmus (Basis e)      | $\\ln x$              | `np.log(x)`         | `math.log(x)`          |\n",
    "| Logarithm (base 10)        | Logarithmus (Basis 10)     | $\\log_{10} x$        | `np.log10(x)`       | `math.log10(x)`        |\n",
    "| Sine                       | Sinus                      | $\\sin x$             | `np.sin(x)`         | `math.sin(x)`          |\n",
    "| Cosine                     | Kosinus                    | $\\cos x$             | `np.cos(x)`         | `math.cos(x)`          |\n",
    "| Tangent                    | Tangens                    | $\\tan x$             | `np.tan(x)`         | `math.tan(x)`          |\n",
    "| Arcsine                    | Arkussinus                 | $\\arcsin x$          | `np.arcsin(x)`      | `math.asin(x)`         |\n",
    "| Arccosine                  | Arkuskosinus               | $\\arccos x$          | `np.arccos(x)`      | `math.acos(x)`         |\n",
    "| Arctangent                 | Arkustangens               | $\\arctan x$          | `np.arctan(x)`      | `math.atan(x)`         |\n",
    "| Hyperbolic Sine            | Hyperbolischer Sinus       | $\\sinh x$            | `np.sinh(x)`        | `math.sinh(x)`         |\n",
    "| Hyperbolic Cosine          | Hyperbolischer Kosinus     | $\\cosh x$            | `np.cosh(x)`        | `math.cosh(x)`         |\n",
    "| Hyperbolic Tangent         | Hyperbolischer Tangens     | $\\tanh x$            | `np.tanh(x)`        | `math.tanh(x)`         |\n",
    "| Convert Degrees to Radians | Grad in Bogenmaß umwandeln | $x \\frac{\\pi}{180}$  | `np.deg2rad(x)`     | `math.radians(x)`      |\n",
    "| Convert Radians to Degrees | Bogenmaß in Grad umwandeln | $x \\frac{180}{\\pi}$  | `np.rad2deg(x)`     | `math.degrees(x)`      |\n",
    "| Power                      | Potenz                     | $x^y$                | `np.power(x, y)`    | `math.pow(x, y)`       |\n",
    "| Absolute Value             | Absoluter Wert             | $\\| x\\|$             | `np.abs(x)`         | `math.abs(x)`          |\n",
    "| Factorial                  | Fakultät                   | $n!$                 | `np.factorial(x)`   | `math.factorial(x)`    |\n",
    "| Pi (π)                     | Pi (π)                     | $\\pi$                | `np.pi`             | `math.pi`              |\n",
    "| Euler's Number (e)         | Eulersche Zahl (e)         | $e$                  | `np.e`              | `math.e`               |"
   ]
  },
  {
   "cell_type": "markdown",
   "metadata": {},
   "source": [
    "<div style=\"display: flex; justify-content: space-between;\">\n",
    "<div style=\"width: 48%; line-height: 1.5;\">\n",
    "\n",
    "Arrays can be added, subtracted, multiplied, and divided on an element-by-element basis, as long as the two arrays have the same length:\n",
    "        \n",
    "</div>\n",
    "<div style=\"width: 48%; line-height: 1.5;color: grey;\">\n",
    "\n",
    "Arrays können Element für Element addiert, subtrahiert, multipliziert und geteilt werden, solange die beiden Arrays die gleiche Länge haben:\n",
    "        \n",
    "</div>\n",
    "</div>"
   ]
  },
  {
   "cell_type": "code",
   "metadata": {
    "ExecuteTime": {
     "end_time": "2024-11-26T13:48:37.052160Z",
     "start_time": "2024-11-26T13:48:37.048882Z"
    }
   },
   "source": [
    "#Create two arrays, each with four elements\n",
    "a = np.array([1, 2, 3, 4])\n",
    "b = np.array([5, 6, 7, 8])\n",
    "\n",
    "print(\"a+b =\", a+b)\n",
    "print(\"a-b =\", a-b)\n",
    "print(\"a*b =\", a*b) # this is NOT equivalent to the dot or cross product of two vectors!\n",
    "print(\"b/a =\", b/a)"
   ],
   "outputs": [
    {
     "name": "stdout",
     "output_type": "stream",
     "text": [
      "a+b = [ 6  8 10 12]\n",
      "a-b = [-4 -4 -4 -4]\n",
      "a*b = [ 5 12 21 32]\n",
      "b/a = [5.         3.         2.33333333 2.        ]\n"
     ]
    }
   ],
   "execution_count": 54
  },
  {
   "cell_type": "markdown",
   "metadata": {},
   "source": [
    "<div style=\"display: flex; justify-content: space-between;\">\n",
    "<div style=\"width: 48%; line-height: 1.5;\">\n",
    "\n",
    "## Plotting Functions\n",
    "### Plotting with Calculated Data Points\n",
    "\n",
    "Performing vectorized operations using `np.array` allows us to quickly and efficiently calculate mathematical functions when we have their analytical expressions. \n",
    "\n",
    "For instance, if we have a function $f(x) = \\sin (x)$, we can evaluate it for all elements of an array in one step, resulting in two arrays of equal length.\n",
    "\n",
    "The value of the function is calculated at each corresponding value of $x$ in the array, resulting in an array of $y$ values that represent the function's output for every input $x$.\n",
    "        \n",
    "</div>\n",
    "<div style=\"width: 48%; line-height: 1.5;color: grey;\">\n",
    "\n",
    "## Funktionen plotten\n",
    "### Plotten mit berechneten Datenpunkten\n",
    "\n",
    "Die Durchführung von vektorisierten Operationen mit `np.array` ermöglicht es uns, mathematische Funktionen schnell und effizient zu berechnen, wenn wir ihre analytischen Ausdrücke haben.\n",
    "\n",
    "Wenn wir zum Beispiel eine Funktion $f(x) = \\sin (x)$ haben, können wir sie für alle Elemente eines Arrays in einem Schritt auswerten, was zu zwei Arrays gleicher Länge führt.\n",
    "\n",
    "Der Wert der Funktion wird für jeden entsprechenden Wert von $x$ in der Matrix berechnet, was zu einer Matrix von $y$-Werten führt, die die Ausgabe der Funktion für jede Eingabe $x$ darstellen.\n",
    "\n",
    "        \n",
    "</div>\n",
    "</div>"
   ]
  },
  {
   "cell_type": "markdown",
   "metadata": {},
   "source": [
    "<div style=\"display: flex; justify-content: space-between;\">\n",
    "<div style=\"width: 48%; line-height: 1.5;\">\n",
    "\n",
    "To achieve the same in Excel, you would first create a column for your $x$-values. Then, in the adjacent column, you would enter the formula for your calculation in the first row. <br>\n",
    "Finally, you would drag the formula down to fill the entire column corresponding to the range of $x$-values.\n",
    "        \n",
    "</div>\n",
    "<div style=\"width: 48%; line-height: 1.5;color: grey;\">\n",
    "\n",
    "Um dasselbe in Excel zu erreichen, würden Sie zunächst eine Spalte für Ihre $x$-Werte erstellen. Dann würden Sie in der angrenzenden Spalte in der ersten Zeile die Formel für Ihre Berechnung eingeben. Zum Schluss würden Sie die Formel nach unten ziehen, um die gesamte Spalte zu füllen, die dem Bereich der $x$-Werte entspricht.\n",
    "  \n",
    "</div>\n",
    "</div>"
   ]
  },
  {
   "cell_type": "markdown",
   "metadata": {},
   "source": [
    "<div style=\"text-align: center;\">\n",
    "    <img src=\"https://d295c5dn8dhwru.cloudfront.net/wp-content/uploads/2019/03/16040843/Figure-2-A-complete-sine-curve-in-excel.png\" style=\"width: 60%; max-width: 500px;\">\n",
    "</div>"
   ]
  },
  {
   "cell_type": "code",
   "metadata": {
    "ExecuteTime": {
     "end_time": "2024-11-26T14:07:32.551678Z",
     "start_time": "2024-11-26T14:07:32.170180Z"
    }
   },
   "source": [
    "x_values = np.linspace(0, 2*np.pi, 20)\n",
    "y_values = np.sin(x_values)\n",
    "\n",
    "print(f\"x values = {x_values}\")\n",
    "print(f\"y values = {y_values}\")"
   ],
   "outputs": [
    {
     "name": "stdout",
     "output_type": "stream",
     "text": [
      "x values = [0.         0.33069396 0.66138793 0.99208189 1.32277585 1.65346982\n",
      " 1.98416378 2.31485774 2.64555171 2.97624567 3.30693964 3.6376336\n",
      " 3.96832756 4.29902153 4.62971549 4.96040945 5.29110342 5.62179738\n",
      " 5.95249134 6.28318531]\n",
      "y values = [ 0.00000000e+00  3.24699469e-01  6.14212713e-01  8.37166478e-01\n",
      "  9.69400266e-01  9.96584493e-01  9.15773327e-01  7.35723911e-01\n",
      "  4.75947393e-01  1.64594590e-01 -1.64594590e-01 -4.75947393e-01\n",
      " -7.35723911e-01 -9.15773327e-01 -9.96584493e-01 -9.69400266e-01\n",
      " -8.37166478e-01 -6.14212713e-01 -3.24699469e-01 -2.44929360e-16]\n"
     ]
    },
    {
     "data": {
      "text/plain": [
       "[<matplotlib.lines.Line2D at 0x7fd53a191f90>]"
      ]
     },
     "execution_count": 75,
     "metadata": {},
     "output_type": "execute_result"
    },
    {
     "data": {
      "text/plain": [
       "<Figure size 640x480 with 1 Axes>"
      ],
      "image/png": "[encoded data removed]"
     },
     "metadata": {},
     "output_type": "display_data"
    }
   ],
   "execution_count": 75
  },
  {
   "cell_type": "markdown",
   "metadata": {},
   "source": [
    "<div style=\"display: flex; justify-content: space-between;\">\n",
    "<div style=\"width: 48%; line-height: 1.5;\">\n",
    "\n",
    "To better visualize these arrays on screen, we can use the `zip()` function to pair the elements (and some f-string magic), creating a view similar to an Excel spreadsheet with two columns.\n",
    "\n",
    "*However, this approach is primarily for demonstration purposes. In the future, we will use Pandas DataFrames, which are far better suited for displaying and manipulating structured collections of data.*\n",
    "        \n",
    "</div>\n",
    "<div style=\"width: 48%; line-height: 1.5;color: grey;\">\n",
    "\n",
    "Um diese Arrays auf dem Bildschirm besser zu visualisieren, können wir die Funktion `zip()` (und etwas f-string Magie) verwenden, um die Elemente zu paaren und eine Ansicht ähnlich einer Excel-Tabelle mit zwei Spalten zu erstellen.\n",
    "\n",
    "*Dieser Ansatz dient jedoch in erster Linie zu Demonstrationszwecken. In Zukunft werden wir Pandas DataFrames verwenden, die für die Anzeige und Bearbeitung von strukturierten Datensammlungen weitaus besser geeignet sind.*\n",
    "\n",
    "</div>\n",
    "</div>"
   ]
  },
  {
   "cell_type": "code",
   "metadata": {
    "ExecuteTime": {
     "end_time": "2024-11-26T14:08:16.929585Z",
     "start_time": "2024-11-26T14:08:16.925402Z"
    }
   },
   "source": [
    "for i in x_values:\n",
    "    for j in y_values:\n",
    "        print(f'{i: .3f}\\t\\t{j: .3f}')"
   ],
   "outputs": [
    {
     "name": "stdout",
     "output_type": "stream",
     "text": [
      " 0.000\t\t 0.000\n",
      " 0.000\t\t 0.325\n",
      " 0.000\t\t 0.614\n",
      " 0.000\t\t 0.837\n",
      " 0.000\t\t 0.969\n",
      " 0.000\t\t 0.997\n",
      " 0.000\t\t 0.916\n",
      " 0.000\t\t 0.736\n",
      " 0.000\t\t 0.476\n",
      " 0.000\t\t 0.165\n",
      " 0.000\t\t-0.165\n",
      " 0.000\t\t-0.476\n",
      " 0.000\t\t-0.736\n",
      " 0.000\t\t-0.916\n",
      " 0.000\t\t-0.997\n",
      " 0.000\t\t-0.969\n",
      " 0.000\t\t-0.837\n",
      " 0.000\t\t-0.614\n",
      " 0.000\t\t-0.325\n",
      " 0.000\t\t-0.000\n",
      " 0.331\t\t 0.000\n",
      " 0.331\t\t 0.325\n",
      " 0.331\t\t 0.614\n",
      " 0.331\t\t 0.837\n",
      " 0.331\t\t 0.969\n",
      " 0.331\t\t 0.997\n",
      " 0.331\t\t 0.916\n",
      " 0.331\t\t 0.736\n",
      " 0.331\t\t 0.476\n",
      " 0.331\t\t 0.165\n",
      " 0.331\t\t-0.165\n",
      " 0.331\t\t-0.476\n",
      " 0.331\t\t-0.736\n",
      " 0.331\t\t-0.916\n",
      " 0.331\t\t-0.997\n",
      " 0.331\t\t-0.969\n",
      " 0.331\t\t-0.837\n",
      " 0.331\t\t-0.614\n",
      " 0.331\t\t-0.325\n",
      " 0.331\t\t-0.000\n",
      " 0.661\t\t 0.000\n",
      " 0.661\t\t 0.325\n",
      " 0.661\t\t 0.614\n",
      " 0.661\t\t 0.837\n",
      " 0.661\t\t 0.969\n",
      " 0.661\t\t 0.997\n",
      " 0.661\t\t 0.916\n",
      " 0.661\t\t 0.736\n",
      " 0.661\t\t 0.476\n",
      " 0.661\t\t 0.165\n",
      " 0.661\t\t-0.165\n",
      " 0.661\t\t-0.476\n",
      " 0.661\t\t-0.736\n",
      " 0.661\t\t-0.916\n",
      " 0.661\t\t-0.997\n",
      " 0.661\t\t-0.969\n",
      " 0.661\t\t-0.837\n",
      " 0.661\t\t-0.614\n",
      " 0.661\t\t-0.325\n",
      " 0.661\t\t-0.000\n",
      " 0.992\t\t 0.000\n",
      " 0.992\t\t 0.325\n",
      " 0.992\t\t 0.614\n",
      " 0.992\t\t 0.837\n",
      " 0.992\t\t 0.969\n",
      " 0.992\t\t 0.997\n",
      " 0.992\t\t 0.916\n",
      " 0.992\t\t 0.736\n",
      " 0.992\t\t 0.476\n",
      " 0.992\t\t 0.165\n",
      " 0.992\t\t-0.165\n",
      " 0.992\t\t-0.476\n",
      " 0.992\t\t-0.736\n",
      " 0.992\t\t-0.916\n",
      " 0.992\t\t-0.997\n",
      " 0.992\t\t-0.969\n",
      " 0.992\t\t-0.837\n",
      " 0.992\t\t-0.614\n",
      " 0.992\t\t-0.325\n",
      " 0.992\t\t-0.000\n",
      " 1.323\t\t 0.000\n",
      " 1.323\t\t 0.325\n",
      " 1.323\t\t 0.614\n",
      " 1.323\t\t 0.837\n",
      " 1.323\t\t 0.969\n",
      " 1.323\t\t 0.997\n",
      " 1.323\t\t 0.916\n",
      " 1.323\t\t 0.736\n",
      " 1.323\t\t 0.476\n",
      " 1.323\t\t 0.165\n",
      " 1.323\t\t-0.165\n",
      " 1.323\t\t-0.476\n",
      " 1.323\t\t-0.736\n",
      " 1.323\t\t-0.916\n",
      " 1.323\t\t-0.997\n",
      " 1.323\t\t-0.969\n",
      " 1.323\t\t-0.837\n",
      " 1.323\t\t-0.614\n",
      " 1.323\t\t-0.325\n",
      " 1.323\t\t-0.000\n",
      " 1.653\t\t 0.000\n",
      " 1.653\t\t 0.325\n",
      " 1.653\t\t 0.614\n",
      " 1.653\t\t 0.837\n",
      " 1.653\t\t 0.969\n",
      " 1.653\t\t 0.997\n",
      " 1.653\t\t 0.916\n",
      " 1.653\t\t 0.736\n",
      " 1.653\t\t 0.476\n",
      " 1.653\t\t 0.165\n",
      " 1.653\t\t-0.165\n",
      " 1.653\t\t-0.476\n",
      " 1.653\t\t-0.736\n",
      " 1.653\t\t-0.916\n",
      " 1.653\t\t-0.997\n",
      " 1.653\t\t-0.969\n",
      " 1.653\t\t-0.837\n",
      " 1.653\t\t-0.614\n",
      " 1.653\t\t-0.325\n",
      " 1.653\t\t-0.000\n",
      " 1.984\t\t 0.000\n",
      " 1.984\t\t 0.325\n",
      " 1.984\t\t 0.614\n",
      " 1.984\t\t 0.837\n",
      " 1.984\t\t 0.969\n",
      " 1.984\t\t 0.997\n",
      " 1.984\t\t 0.916\n",
      " 1.984\t\t 0.736\n",
      " 1.984\t\t 0.476\n",
      " 1.984\t\t 0.165\n",
      " 1.984\t\t-0.165\n",
      " 1.984\t\t-0.476\n",
      " 1.984\t\t-0.736\n",
      " 1.984\t\t-0.916\n",
      " 1.984\t\t-0.997\n",
      " 1.984\t\t-0.969\n",
      " 1.984\t\t-0.837\n",
      " 1.984\t\t-0.614\n",
      " 1.984\t\t-0.325\n",
      " 1.984\t\t-0.000\n",
      " 2.315\t\t 0.000\n",
      " 2.315\t\t 0.325\n",
      " 2.315\t\t 0.614\n",
      " 2.315\t\t 0.837\n",
      " 2.315\t\t 0.969\n",
      " 2.315\t\t 0.997\n",
      " 2.315\t\t 0.916\n",
      " 2.315\t\t 0.736\n",
      " 2.315\t\t 0.476\n",
      " 2.315\t\t 0.165\n",
      " 2.315\t\t-0.165\n",
      " 2.315\t\t-0.476\n",
      " 2.315\t\t-0.736\n",
      " 2.315\t\t-0.916\n",
      " 2.315\t\t-0.997\n",
      " 2.315\t\t-0.969\n",
      " 2.315\t\t-0.837\n",
      " 2.315\t\t-0.614\n",
      " 2.315\t\t-0.325\n",
      " 2.315\t\t-0.000\n",
      " 2.646\t\t 0.000\n",
      " 2.646\t\t 0.325\n",
      " 2.646\t\t 0.614\n",
      " 2.646\t\t 0.837\n",
      " 2.646\t\t 0.969\n",
      " 2.646\t\t 0.997\n",
      " 2.646\t\t 0.916\n",
      " 2.646\t\t 0.736\n",
      " 2.646\t\t 0.476\n",
      " 2.646\t\t 0.165\n",
      " 2.646\t\t-0.165\n",
      " 2.646\t\t-0.476\n",
      " 2.646\t\t-0.736\n",
      " 2.646\t\t-0.916\n",
      " 2.646\t\t-0.997\n",
      " 2.646\t\t-0.969\n",
      " 2.646\t\t-0.837\n",
      " 2.646\t\t-0.614\n",
      " 2.646\t\t-0.325\n",
      " 2.646\t\t-0.000\n",
      " 2.976\t\t 0.000\n",
      " 2.976\t\t 0.325\n",
      " 2.976\t\t 0.614\n",
      " 2.976\t\t 0.837\n",
      " 2.976\t\t 0.969\n",
      " 2.976\t\t 0.997\n",
      " 2.976\t\t 0.916\n",
      " 2.976\t\t 0.736\n",
      " 2.976\t\t 0.476\n",
      " 2.976\t\t 0.165\n",
      " 2.976\t\t-0.165\n",
      " 2.976\t\t-0.476\n",
      " 2.976\t\t-0.736\n",
      " 2.976\t\t-0.916\n",
      " 2.976\t\t-0.997\n",
      " 2.976\t\t-0.969\n",
      " 2.976\t\t-0.837\n",
      " 2.976\t\t-0.614\n",
      " 2.976\t\t-0.325\n",
      " 2.976\t\t-0.000\n",
      " 3.307\t\t 0.000\n",
      " 3.307\t\t 0.325\n",
      " 3.307\t\t 0.614\n",
      " 3.307\t\t 0.837\n",
      " 3.307\t\t 0.969\n",
      " 3.307\t\t 0.997\n",
      " 3.307\t\t 0.916\n",
      " 3.307\t\t 0.736\n",
      " 3.307\t\t 0.476\n",
      " 3.307\t\t 0.165\n",
      " 3.307\t\t-0.165\n",
      " 3.307\t\t-0.476\n",
      " 3.307\t\t-0.736\n",
      " 3.307\t\t-0.916\n",
      " 3.307\t\t-0.997\n",
      " 3.307\t\t-0.969\n",
      " 3.307\t\t-0.837\n",
      " 3.307\t\t-0.614\n",
      " 3.307\t\t-0.325\n",
      " 3.307\t\t-0.000\n",
      " 3.638\t\t 0.000\n",
      " 3.638\t\t 0.325\n",
      " 3.638\t\t 0.614\n",
      " 3.638\t\t 0.837\n",
      " 3.638\t\t 0.969\n",
      " 3.638\t\t 0.997\n",
      " 3.638\t\t 0.916\n",
      " 3.638\t\t 0.736\n",
      " 3.638\t\t 0.476\n",
      " 3.638\t\t 0.165\n",
      " 3.638\t\t-0.165\n",
      " 3.638\t\t-0.476\n",
      " 3.638\t\t-0.736\n",
      " 3.638\t\t-0.916\n",
      " 3.638\t\t-0.997\n",
      " 3.638\t\t-0.969\n",
      " 3.638\t\t-0.837\n",
      " 3.638\t\t-0.614\n",
      " 3.638\t\t-0.325\n",
      " 3.638\t\t-0.000\n",
      " 3.968\t\t 0.000\n",
      " 3.968\t\t 0.325\n",
      " 3.968\t\t 0.614\n",
      " 3.968\t\t 0.837\n",
      " 3.968\t\t 0.969\n",
      " 3.968\t\t 0.997\n",
      " 3.968\t\t 0.916\n",
      " 3.968\t\t 0.736\n",
      " 3.968\t\t 0.476\n",
      " 3.968\t\t 0.165\n",
      " 3.968\t\t-0.165\n",
      " 3.968\t\t-0.476\n",
      " 3.968\t\t-0.736\n",
      " 3.968\t\t-0.916\n",
      " 3.968\t\t-0.997\n",
      " 3.968\t\t-0.969\n",
      " 3.968\t\t-0.837\n",
      " 3.968\t\t-0.614\n",
      " 3.968\t\t-0.325\n",
      " 3.968\t\t-0.000\n",
      " 4.299\t\t 0.000\n",
      " 4.299\t\t 0.325\n",
      " 4.299\t\t 0.614\n",
      " 4.299\t\t 0.837\n",
      " 4.299\t\t 0.969\n",
      " 4.299\t\t 0.997\n",
      " 4.299\t\t 0.916\n",
      " 4.299\t\t 0.736\n",
      " 4.299\t\t 0.476\n",
      " 4.299\t\t 0.165\n",
      " 4.299\t\t-0.165\n",
      " 4.299\t\t-0.476\n",
      " 4.299\t\t-0.736\n",
      " 4.299\t\t-0.916\n",
      " 4.299\t\t-0.997\n",
      " 4.299\t\t-0.969\n",
      " 4.299\t\t-0.837\n",
      " 4.299\t\t-0.614\n",
      " 4.299\t\t-0.325\n",
      " 4.299\t\t-0.000\n",
      " 4.630\t\t 0.000\n",
      " 4.630\t\t 0.325\n",
      " 4.630\t\t 0.614\n",
      " 4.630\t\t 0.837\n",
      " 4.630\t\t 0.969\n",
      " 4.630\t\t 0.997\n",
      " 4.630\t\t 0.916\n",
      " 4.630\t\t 0.736\n",
      " 4.630\t\t 0.476\n",
      " 4.630\t\t 0.165\n",
      " 4.630\t\t-0.165\n",
      " 4.630\t\t-0.476\n",
      " 4.630\t\t-0.736\n",
      " 4.630\t\t-0.916\n",
      " 4.630\t\t-0.997\n",
      " 4.630\t\t-0.969\n",
      " 4.630\t\t-0.837\n",
      " 4.630\t\t-0.614\n",
      " 4.630\t\t-0.325\n",
      " 4.630\t\t-0.000\n",
      " 4.960\t\t 0.000\n",
      " 4.960\t\t 0.325\n",
      " 4.960\t\t 0.614\n",
      " 4.960\t\t 0.837\n",
      " 4.960\t\t 0.969\n",
      " 4.960\t\t 0.997\n",
      " 4.960\t\t 0.916\n",
      " 4.960\t\t 0.736\n",
      " 4.960\t\t 0.476\n",
      " 4.960\t\t 0.165\n",
      " 4.960\t\t-0.165\n",
      " 4.960\t\t-0.476\n",
      " 4.960\t\t-0.736\n",
      " 4.960\t\t-0.916\n",
      " 4.960\t\t-0.997\n",
      " 4.960\t\t-0.969\n",
      " 4.960\t\t-0.837\n",
      " 4.960\t\t-0.614\n",
      " 4.960\t\t-0.325\n",
      " 4.960\t\t-0.000\n",
      " 5.291\t\t 0.000\n",
      " 5.291\t\t 0.325\n",
      " 5.291\t\t 0.614\n",
      " 5.291\t\t 0.837\n",
      " 5.291\t\t 0.969\n",
      " 5.291\t\t 0.997\n",
      " 5.291\t\t 0.916\n",
      " 5.291\t\t 0.736\n",
      " 5.291\t\t 0.476\n",
      " 5.291\t\t 0.165\n",
      " 5.291\t\t-0.165\n",
      " 5.291\t\t-0.476\n",
      " 5.291\t\t-0.736\n",
      " 5.291\t\t-0.916\n",
      " 5.291\t\t-0.997\n",
      " 5.291\t\t-0.969\n",
      " 5.291\t\t-0.837\n",
      " 5.291\t\t-0.614\n",
      " 5.291\t\t-0.325\n",
      " 5.291\t\t-0.000\n",
      " 5.622\t\t 0.000\n",
      " 5.622\t\t 0.325\n",
      " 5.622\t\t 0.614\n",
      " 5.622\t\t 0.837\n",
      " 5.622\t\t 0.969\n",
      " 5.622\t\t 0.997\n",
      " 5.622\t\t 0.916\n",
      " 5.622\t\t 0.736\n",
      " 5.622\t\t 0.476\n",
      " 5.622\t\t 0.165\n",
      " 5.622\t\t-0.165\n",
      " 5.622\t\t-0.476\n",
      " 5.622\t\t-0.736\n",
      " 5.622\t\t-0.916\n",
      " 5.622\t\t-0.997\n",
      " 5.622\t\t-0.969\n",
      " 5.622\t\t-0.837\n",
      " 5.622\t\t-0.614\n",
      " 5.622\t\t-0.325\n",
      " 5.622\t\t-0.000\n",
      " 5.952\t\t 0.000\n",
      " 5.952\t\t 0.325\n",
      " 5.952\t\t 0.614\n",
      " 5.952\t\t 0.837\n",
      " 5.952\t\t 0.969\n",
      " 5.952\t\t 0.997\n",
      " 5.952\t\t 0.916\n",
      " 5.952\t\t 0.736\n",
      " 5.952\t\t 0.476\n",
      " 5.952\t\t 0.165\n",
      " 5.952\t\t-0.165\n",
      " 5.952\t\t-0.476\n",
      " 5.952\t\t-0.736\n",
      " 5.952\t\t-0.916\n",
      " 5.952\t\t-0.997\n",
      " 5.952\t\t-0.969\n",
      " 5.952\t\t-0.837\n",
      " 5.952\t\t-0.614\n",
      " 5.952\t\t-0.325\n",
      " 5.952\t\t-0.000\n",
      " 6.283\t\t 0.000\n",
      " 6.283\t\t 0.325\n",
      " 6.283\t\t 0.614\n",
      " 6.283\t\t 0.837\n",
      " 6.283\t\t 0.969\n",
      " 6.283\t\t 0.997\n",
      " 6.283\t\t 0.916\n",
      " 6.283\t\t 0.736\n",
      " 6.283\t\t 0.476\n",
      " 6.283\t\t 0.165\n",
      " 6.283\t\t-0.165\n",
      " 6.283\t\t-0.476\n",
      " 6.283\t\t-0.736\n",
      " 6.283\t\t-0.916\n",
      " 6.283\t\t-0.997\n",
      " 6.283\t\t-0.969\n",
      " 6.283\t\t-0.837\n",
      " 6.283\t\t-0.614\n",
      " 6.283\t\t-0.325\n",
      " 6.283\t\t-0.000\n"
     ]
    }
   ],
   "execution_count": 76
  },
  {
   "cell_type": "code",
   "metadata": {
    "ExecuteTime": {
     "end_time": "2024-11-26T14:08:35.770099Z",
     "start_time": "2024-11-26T14:08:35.767273Z"
    }
   },
   "source": [
    "for i,j in zip(x_values, y_values):\n",
    "    print(f\"{i: .3f}\\t\\t{j: .3f}\")"
   ],
   "outputs": [
    {
     "name": "stdout",
     "output_type": "stream",
     "text": [
      " 0.000\t\t 0.000\n",
      " 0.331\t\t 0.325\n",
      " 0.661\t\t 0.614\n",
      " 0.992\t\t 0.837\n",
      " 1.323\t\t 0.969\n",
      " 1.653\t\t 0.997\n",
      " 1.984\t\t 0.916\n",
      " 2.315\t\t 0.736\n",
      " 2.646\t\t 0.476\n",
      " 2.976\t\t 0.165\n",
      " 3.307\t\t-0.165\n",
      " 3.638\t\t-0.476\n",
      " 3.968\t\t-0.736\n",
      " 4.299\t\t-0.916\n",
      " 4.630\t\t-0.997\n",
      " 4.960\t\t-0.969\n",
      " 5.291\t\t-0.837\n",
      " 5.622\t\t-0.614\n",
      " 5.952\t\t-0.325\n",
      " 6.283\t\t-0.000\n"
     ]
    }
   ],
   "execution_count": 77
  },
  {
   "cell_type": "markdown",
   "metadata": {},
   "source": [
    "<div style=\"display: flex; justify-content: space-between;\">\n",
    "<div style=\"width: 48%; line-height: 1.5;\">\n",
    "\n",
    "When we plot functions, we connect these calculated points with straight lines. \n",
    "\n",
    "This creates a continuous curve that visually represents the function. \n",
    "\n",
    "**For now, use this snippet to plot a function as is. We'll soon dive deeper into how to create more refined and visually appealing plots.**\n",
    "        \n",
    "</div>\n",
    "<div style=\"width: 48%; line-height: 1.5;color: grey;\">\n",
    "\n",
    "Wenn wir Funktionen zeichnen, verbinden wir diese berechneten Punkte mit geraden Linien.\n",
    "\n",
    "So entsteht eine kontinuierliche Kurve, die die Funktion visuell darstellt.\n",
    "\n",
    "**Verwenden Sie dieses Snippet zunächst, um eine Funktion so darzustellen, wie sie ist. In Kürze werden wir uns eingehender mit der Erstellung verfeinerter und visuell ansprechender Diagramme befassen.**\n",
    "        \n",
    "</div>\n",
    "</div>"
   ]
  },
  {
   "cell_type": "code",
   "metadata": {
    "ExecuteTime": {
     "end_time": "2024-11-26T14:09:13.819587Z",
     "start_time": "2024-11-26T14:09:13.641815Z"
    }
   },
   "source": [
    "import matplotlib.pyplot as plt\n",
    "import seaborn as sns\n",
    "\n",
    "plt.figure(figsize=(5, 4))\n",
    "\n",
    "# Plot the sine function\n",
    "sns.lineplot(x = x_values, y = y_values, marker=\"o\")\n",
    "\n",
    "plt.xlabel(rf'$x$, rad')\n",
    "plt.ylabel(rf'$\\sin (x)$')\n",
    "\n",
    "plt.grid(True)\n",
    "plt.show()"
   ],
   "outputs": [
    {
     "data": {
      "text/plain": [
       "<Figure size 500x400 with 1 Axes>"
      ],
      "image/png": "[encoded data removed]"
     },
     "metadata": {},
     "output_type": "display_data"
    }
   ],
   "execution_count": 78
  },
  {
   "cell_type": "markdown",
   "metadata": {},
   "source": [
    "<div style=\"display: flex; justify-content: space-between;\">\n",
    "<div style=\"width: 48%; line-height: 1.5;\">\n",
    "\n",
    "#### What does this do?\n",
    "\n",
    "1. **Importing Libraries**:\n",
    "   ```python\n",
    "   import matplotlib.pyplot as plt\n",
    "   import seaborn as sns\n",
    "   ```\n",
    "   - Matplotlib: A versatile library for creating static, animated, and interactive visualizations.\n",
    "   - Seaborn: Built on top of Matplotlib, it simplifies creating attractive and informative statistical plots.\n",
    "\n",
    "2. **Setting the Figure Size**:\n",
    "   ```python\n",
    "   plt.figure(figsize=(5, 4))\n",
    "   ```\n",
    "   - This creates a blank canvas for the plot, with a specified width and height (5 $\\times$ 4 inches).\n",
    "\n",
    "3. **Plotting the Sine Function**:\n",
    "   ```python\n",
    "   sns.lineplot(x=x_values, y=y_values, marker=\"o\")\n",
    "   ```\n",
    "   - `sns.lineplot`: A Seaborn function to create a line plot.\n",
    "   - `x=x, y=y`: The variables `x` and `y` contain the data to be plotted. `x` represents the x-axis (input values), and `y` represents the y-axis (output values, such as `sin(x)`).\n",
    "   - `marker=\"o\"`: Adds circular markers at each data point.\n",
    "\n",
    "4. **Labeling Axes**:\n",
    "   ```python\n",
    "   plt.xlabel(rf'$x$, rad')\n",
    "   plt.ylabel(rf'$\\sin (x)$')\n",
    "   ```\n",
    "   - These commands label the x-axis and y-axis.\n",
    "   - The `rf'...'` syntax is used for $\\LaTeX$-style math rendering.\n",
    "\n",
    "5. **Adding a Grid**:\n",
    "   ```python\n",
    "   plt.grid(True)\n",
    "   ```\n",
    "   - Adds a grid to the background of the plot.\n",
    "\n",
    "6. **Displaying the Plot**:\n",
    "   ```python\n",
    "   plt.show()\n",
    "   ```\n",
    "   - This renders and displays the plot.\n",
    "\n",
    "        \n",
    "</div>\n",
    "<div style=\"width: 48%; line-height: 1.5;color: grey;\">\n",
    "\n",
    "#### Was bewirkt dies?\n",
    "\n",
    "1. **Bibliotheken importieren**:\n",
    "   ```python\n",
    "   import matplotlib.pyplot as plt\n",
    "   import seaborn as sns\n",
    "   ```\n",
    "   - Matplotlib: Eine vielseitige Bibliothek zur Erstellung statischer, animierter und interaktiver Visualisierungen.\n",
    "   - Seaborn: Sie baut auf Matplotlib auf und vereinfacht die Erstellung attraktiver und informativer statistischer Diagramme.\n",
    "\n",
    "2. **Einstellung der Abbildungsgröße**:\n",
    "   ```python\n",
    "   plt.figure(figsize=(5, 4))\n",
    "   ```\n",
    "   - Damit wird eine leere Leinwand für die Darstellung mit einer bestimmten Breite und Höhe (5 $\\times$ 4 Zoll) erstellt.\n",
    "\n",
    "3. **Darstellung der Sinusfunktion**:\n",
    "   ```python\n",
    "   sns.lineplot(x=x_values, y=y_values, marker=\"o\")\n",
    "   ```\n",
    "   - `sns.lineplot`: Eine Seaborn-Funktion zur Erstellung eines Liniendiagramms.\n",
    "   - `x=x, y=y`: Die Variablen `x` und `y` enthalten die Daten, die gezeichnet werden sollen. `x` steht für die x-Achse (Eingabewerte) und `y` für die y-Achse (Ausgabewerte, wie `sin(x)`).\n",
    "   - `Marker=\"o\"`: Fügt kreisförmige Markierungen an jedem Datenpunkt hinzu.\n",
    "\n",
    "4. **Achsen beschriften**:\n",
    "   ```python\n",
    "   plt.xlabel(rf'$x$, rad')\n",
    "   plt.ylabel(rf'$\\sin (x)$')\n",
    "   ```\n",
    "   - Diese Befehle beschriften die x-Achse und die y-Achse.\n",
    "   - Die `rf'...'`-Syntax wird für die mathematische Darstellung im Stil von $\\LaTeX$ verwendet.\n",
    "\n",
    "5. **Hinzufügen eines Gitters**:\n",
    "   ```python\n",
    "   plt.grid(True)\n",
    "   ```\n",
    "   - Fügt dem Hintergrund der Darstellung ein Gitter hinzu.\n",
    "\n",
    "6. **Darstellung des Plots**:\n",
    "   ```python\n",
    "   plt.show()\n",
    "   ```\n",
    "   - Dies rendert und zeigt den Plot an.\n",
    "        \n",
    "</div>\n",
    "</div>"
   ]
  },
  {
   "cell_type": "markdown",
   "metadata": {},
   "source": [
    "<div style=\"display: flex; justify-content: space-between;\">\n",
    "<div style=\"width: 48%; line-height: 1.5;\">\n",
    "\n",
    "The smoothness of the plot depends on how many points are in the array: the more points you have, the smoother the resulting curve.\n",
    "\n",
    "This can be easily verified with a graph, which also provides an opportunity to see how to plot multiple lines on the same graph:\n",
    "        \n",
    "</div>\n",
    "<div style=\"width: 48%; line-height: 1.5;color: grey;\">\n",
    "\n",
    "Die Glätte der Darstellung hängt davon ab, wie viele Punkte das Feld enthält: Je mehr Punkte Sie haben, desto glatter ist die resultierende Kurve.\n",
    "\n",
    "Dies lässt sich leicht anhand eines Diagramms überprüfen, das auch die Möglichkeit bietet zu sehen, wie man mehrere Linien in ein und dasselbe Diagramm einzeichnet:\n",
    "        \n",
    "</div>\n",
    "</div>"
   ]
  },
  {
   "cell_type": "code",
   "metadata": {
    "ExecuteTime": {
     "end_time": "2024-11-26T14:10:28.864940Z",
     "start_time": "2024-11-26T14:10:27.949982Z"
    }
   },
   "source": [
    "import matplotlib.pyplot as plt\n",
    "import seaborn as sns\n",
    "\n",
    "plt.figure(figsize=(5, 4))\n",
    "\n",
    "sns.lineplot(x = np.linspace(0, 2*np.pi, 5), \n",
    "             y = np.sin(np.linspace(0, 2*np.pi, 5)),\n",
    "             label = \"5 points\")\n",
    "\n",
    "sns.lineplot(x = np.linspace(0, 2*np.pi, 10), \n",
    "             y = np.sin(np.linspace(0, 2*np.pi, 10)),\n",
    "             label = \"10 points\")\n",
    "\n",
    "sns.lineplot(x = np.linspace(0, 2*np.pi, 20), \n",
    "             y = np.sin(np.linspace(0, 2*np.pi, 20)),\n",
    "             label = \"20 points\")\n",
    "\n",
    "sns.lineplot(x = np.linspace(0, 2*np.pi, 50), \n",
    "             y = np.sin(np.linspace(0, 2*np.pi, 50)),\n",
    "             label = \"50 points\")\n",
    "\n",
    "plt.xlabel(rf'$x$, rad')\n",
    "plt.ylabel(rf'$\\sin (x)$')\n",
    "\n",
    "plt.legend()\n",
    "\n",
    "plt.grid(True)\n",
    "plt.show()"
   ],
   "outputs": [
    {
     "data": {
      "text/plain": [
       "<Figure size 500x400 with 1 Axes>"
      ],
      "image/png": "[encoded data removed]"
     },
     "metadata": {},
     "output_type": "display_data"
    }
   ],
   "execution_count": 79
  },
  {
   "cell_type": "code",
   "metadata": {
    "ExecuteTime": {
     "end_time": "2024-11-26T14:10:40.753351Z",
     "start_time": "2024-11-26T14:10:39.574305Z"
    }
   },
   "source": [
    "# Set up a 2x2 subplot grid\n",
    "fig, axs = plt.subplots(2, 2, figsize=(7, 6), sharex = True, sharey = True)\n",
    "\n",
    "\n",
    "# Plot 5 points\n",
    "sns.lineplot(x = np.linspace(0, 2*np.pi, 5), \n",
    "             y = np.sin(np.linspace(0, 2*np.pi, 5)),\n",
    "             ax = axs[0, 0],\n",
    "             marker='o', c='b',\n",
    "             label = \"5 points\")\n",
    "\n",
    "# Plot 10 points\n",
    "sns.lineplot(x = np.linspace(0, 2*np.pi, 10), \n",
    "             y = np.sin(np.linspace(0, 2*np.pi, 10)),\n",
    "             ax=axs[0, 1],\n",
    "             marker='o', c='r',\n",
    "             label = \"10 points\")\n",
    "\n",
    "# Plot 20 points\n",
    "sns.lineplot(x = np.linspace(0, 2*np.pi, 20), \n",
    "             y = np.sin(np.linspace(0, 2*np.pi, 20)),\n",
    "             ax=axs[1, 0],\n",
    "             marker='o', c='g',\n",
    "             label = \"20 points\")\n",
    "\n",
    "# Plot 50 points\n",
    "sns.lineplot(x = np.linspace(0, 2*np.pi, 50), \n",
    "             y = np.sin(np.linspace(0, 2*np.pi, 50)),\n",
    "             ax=axs[1, 1],\n",
    "             marker='o', c='orange', \n",
    "             label = \"50 points\")\n",
    "\n",
    "\n",
    "for i in range(2):\n",
    "    axs[1, i].set_xlabel(rf'$x$, rad')\n",
    "\n",
    "for j in range(2):\n",
    "    axs[j, 0].set_ylabel(rf'$\\sin(x)$')\n",
    "\n",
    "\n",
    "for i in range(2):\n",
    "    for j in range(2):\n",
    "        axs[i, j].grid(True)\n",
    "\n",
    "# Adjust layout and show plot\n",
    "fig.tight_layout()\n",
    "plt.show()"
   ],
   "outputs": [
    {
     "data": {
      "text/plain": [
       "<Figure size 700x600 with 4 Axes>"
      ],
      "image/png": "[encoded data removed]"
     },
     "metadata": {},
     "output_type": "display_data"
    }
   ],
   "execution_count": 80
  },
  {
   "cell_type": "markdown",
   "metadata": {},
   "source": [
    "<div style=\"display: flex; justify-content: space-between;\">\n",
    "<div style=\"width: 48%; line-height: 1.5;\">\n",
    "\n",
    "#### What does *this* do?\n",
    "\n",
    "**1. Figure Setup**\n",
    "  ```python\n",
    "  fig, axs = plt.subplots(2, 2, figsize=(7, 6), sharex=True, sharey=True)\n",
    "  ```\n",
    "  \n",
    "  - Creates a **2 $\\times$ 2 grid** (`nrows` $\\times$ `ncols`) of subplots. \n",
    "\n",
    "  - `axs` is a 2D array (when `nrows` > 1 and `ncols` > 1) where each element corresponds to an individual subplot.\n",
    "\n",
    "  - The subplot at row `row` and column `col` is accessed using `axs[row, col]`:\n",
    "\n",
    "  - You can customize each subplot individually (e.g., titles, labels, data).\n",
    "\n",
    "  - `sharex=True` or `sharey=True` ensures all subplots share the same x or y-axis.\n",
    "        \n",
    "</div>\n",
    "<div style=\"width: 48%; line-height: 1.5;color: grey;\">\n",
    "\n",
    "#### Was bewirkt *dies*?\n",
    "\n",
    "**1. Abbildung Setup**\n",
    "  ```python\n",
    "  fig, axs = plt.subplots(2, 2, figsize=(7, 6), sharex=True, sharey=True)\n",
    "  ```\n",
    "\n",
    "  - Erstellt ein **2 $\\times$ 2-Gitter** (`nrows` $\\times$ `ncols`) von Teilplots.\n",
    "\n",
    "  - `axs` ist ein 2D-Array (wenn `nrows` > 1 und `ncols` > 1), bei dem jedes Element einer einzelnen Teilfläche entspricht.\n",
    "\n",
    "  - Der Zugriff auf die Teilplot in Zeile `row` und Spalte `col` erfolgt über `axs[row, col]`:\n",
    "\n",
    "  - Sie können jede Teilplot individuell anpassen (z. B. Titel, Beschriftung, Daten).\n",
    "\n",
    "  - Mit `sharex=True` oder `sharey=True` erhalten alle Teilplots die gleiche x- oder y-Achse.\n",
    "        \n",
    "</div>\n",
    "</div>"
   ]
  },
  {
   "cell_type": "markdown",
   "metadata": {},
   "source": [
    "<div style=\"text-align: center;\">\n",
    "    <img src=\"https://matplotlib.org/stable/_images/users-explain-axes-axes_intro-1.2x.png\" style=\"width: 60%; max-width: 400px;\">\n",
    "</div>"
   ]
  },
  {
   "cell_type": "markdown",
   "metadata": {},
   "source": [
    "<div style=\"display: flex; justify-content: space-between;\">\n",
    "<div style=\"width: 48%; line-height: 1.5;\">\n",
    "\n",
    "**2. Setting Labels**\n",
    "  ```python\n",
    "  for i in range(2):\n",
    "      axs[1, i].set_xlabel(rf'$x$, rad')\n",
    "  ```\n",
    "  - Adds x-labels only to the bottom row of subplots.\n",
    "\n",
    "  ```python\n",
    "  for j in range(2):\n",
    "      axs[j, 0].set_ylabel(rf'$\\sin(x)$')\n",
    "  ```\n",
    "  - Adds y-labels only to the left column of subplots.\n",
    "\n",
    "</div>\n",
    "<div style=\"width: 48%; line-height: 1.5;color: grey;\">\n",
    "\n",
    "**2. Beschriftungen setzen**\n",
    "  ```python\n",
    "  for i in range(2):\n",
    "      axs[1, i].set_xlabel(rf'$x$, rad')\n",
    "  ```\n",
    "  - Fügt x-Etiketten nur in die unterste Zeile der Teilbilder ein..\n",
    "\n",
    "  ```python\n",
    "  for j in range(2):\n",
    "      axs[j, 0].set_ylabel(rf'$\\sin(x)$')\n",
    "  ```\n",
    "  - Fügt y-Etiketten nur in der linken Spalte der Unterdiagramme ein.\n",
    "\n",
    "</div>\n",
    "</div>"
   ]
  },
  {
   "cell_type": "markdown",
   "metadata": {},
   "source": [
    "<div style=\"display: flex; justify-content: space-between;\">\n",
    "<div style=\"width: 48%; line-height: 1.5;\">\n",
    "\n",
    "**3. Adding Grids**\n",
    "  ```python\n",
    "  for i in range(2):\n",
    "      for j in range(2):\n",
    "          axs[i, j].grid(True)\n",
    "  ```\n",
    "  - Enables grids for all subplots.\n",
    "        \n",
    "</div>\n",
    "<div style=\"width: 48%; line-height: 1.5;color: grey;\">\n",
    "\n",
    "**3. Hinzufügen von Gittern**\n",
    "  ```python\n",
    "  for i in range(2):\n",
    "      for j in range(2):\n",
    "          axs[i, j].grid(True)\n",
    "  ```\n",
    "  - Aktiviert Raster für alle Teilplots.\n",
    "\n",
    "</div>\n",
    "</div>"
   ]
  },
  {
   "cell_type": "markdown",
   "metadata": {},
   "source": [
    "<div style=\"display: flex; justify-content: space-between;\">\n",
    "<div style=\"width: 48%; line-height: 1.5;\">\n",
    "\n",
    "**4. Adjusting Layout**\n",
    "  ```python\n",
    "  fig.tight_layout()\n",
    "  ```\n",
    "  - Automatically adjusts spacing between subplots to prevent overlapping.\n",
    "        \n",
    "</div>\n",
    "<div style=\"width: 48%; line-height: 1.5;color: grey;\">\n",
    "\n",
    "**4. Anpassen des Layouts**\n",
    "  ```python\n",
    "  fig.tight_layout()\n",
    "  ```\n",
    "  - Passt die Abstände zwischen den Teilplots automatisch an, um Überschneidungen zu vermeiden.\n",
    "        \n",
    "</div>\n",
    "</div>"
   ]
  },
  {
   "cell_type": "markdown",
   "metadata": {},
   "source": [
    "<div style=\"display: flex; justify-content: space-between;\">\n",
    "<div style=\"width: 48%; line-height: 1.5;\">\n",
    "\n",
    "### Interpolating Data Points\n",
    "\n",
    "There are cases where we do not have an analytical function to work with. Instead, we may only have discrete data points, such as measurements from an experiment. In these scenarios, we need to interpolate between the known data points.\n",
    "        \n",
    "</div>\n",
    "<div style=\"width: 48%; line-height: 1.5;color: grey;\">\n",
    "\n",
    "### Interpolieren von Datenpunkten\n",
    "\n",
    "Es gibt Fälle, in denen wir nicht mit einer analytischen Funktion arbeiten können. Stattdessen haben wir vielleicht nur diskrete Datenpunkte, wie z. B. Messungen aus einem Experiment. In diesen Fällen müssen wir zwischen den bekannten Datenpunkten interpolieren.\n",
    "        \n",
    "</div>\n",
    "</div>"
   ]
  },
  {
   "cell_type": "code",
   "metadata": {
    "ExecuteTime": {
     "end_time": "2024-11-26T14:11:36.453080Z",
     "start_time": "2024-11-26T14:11:34.789928Z"
    }
   },
   "source": [
    "plt.figure(figsize=(5, 4))\n",
    "\n",
    "x = np.array([0., 0.07142857, 0.14285714, 0.21428571, 0.28571429, 0.35714286, 0.42857143, 0.5])\n",
    "y = np.array([10., -1.9289848 , -6.77057646,  4.06165609,  3.5209599,  -4.41061795, -0.94431842,  3.67879441])\n",
    "\n",
    "sns.scatterplot(x=x, y=y, c='black', label = fr'data points')\n",
    "\n",
    "plt.show()"
   ],
   "outputs": [
    {
     "data": {
      "text/plain": [
       "<Figure size 500x400 with 1 Axes>"
      ],
      "image/png": "[encoded data removed]"
     },
     "metadata": {},
     "output_type": "display_data"
    }
   ],
   "execution_count": 81
  },
  {
   "cell_type": "markdown",
   "metadata": {},
   "source": [
    "<div style=\"text-align: center;\">\n",
    "    <img src=\"https://i0.wp.com/pythonunbound.com/wp-content/uploads/2022/12/scipy.jpg?fit=769%2C450&ssl=1\" style=\"height: 150px;\">\n",
    "</div>\n",
    "\n",
    "<div style=\"display: flex; justify-content: space-between;\">\n",
    "<div style=\"width: 48%; line-height: 1.5;\">\n",
    "\n",
    "Scipy’s `interpolate` module is the go-to tool for this. It provides several methods for 1D interpolation (nearest-neighbor, linear, quadratic, cubic, ...), each suited for different types of data and precision requirements.\n",
    "\n",
    "We have already met SciPy through its built-in dictionary of constants. SciPy is a Python library designed for scientific and technical computing, built on NumPy. It extends Python's capabilities with advanced functions for optimization, integration, interpolation, linear algebra, signal processing, and more.\n",
    "        \n",
    "</div>\n",
    "<div style=\"width: 48%; line-height: 1.5;color: grey;\">\n",
    "\n",
    "Das Modul `interpolate` von Scipy ist das ideale Werkzeug für diese Aufgabe. Es bietet mehrere Methoden für die 1D-Interpolation (nächstgelegene Nachbarn, linear, quadratisch, kubisch, ...), die jeweils für unterschiedliche Datentypen und Genauigkeitsanforderungen geeignet sind. \n",
    "\n",
    "Wir haben SciPy bereits durch sein eingebautes Konstantenwörterbuch kennengelernt. SciPy ist eine Python-Bibliothek für wissenschaftliche und technische Berechnungen, die auf NumPy aufbaut. Sie erweitert die Fähigkeiten von Python um fortschrittliche Funktionen für Optimierung, Integration, Interpolation, lineare Algebra, Signalverarbeitung und mehr.\n",
    "        \n",
    "</div>\n",
    "</div>"
   ]
  },
  {
   "cell_type": "markdown",
   "metadata": {},
   "source": [
    "<div style=\"display: flex; justify-content: space-between;\">\n",
    "<div style=\"width: 48%; line-height: 1.5;\">\n",
    "\n",
    "The process of interpolation involves using an existing set of discrete data points and estimating intermediate values. \n",
    "\n",
    "To achieve this, we redefine the `x` array with more points within the same range as the original data. \n",
    "\n",
    "This new array (here called `x_interpol`) provides the input for the interpolation function, resulting in a smooth interpolation curve.\n",
    "        \n",
    "</div>\n",
    "<div style=\"width: 48%; line-height: 1.5;color: grey;\">\n",
    "\n",
    "Bei der Interpolation wird ein vorhandener Satz diskreter Datenpunkte verwendet und die Zwischenwerte werden geschätzt.\n",
    "\n",
    "Zu diesem Zweck wird das Array `x` mit mehr Punkten innerhalb desselben Bereichs wie die ursprünglichen Daten neu definiert.\n",
    "\n",
    "Dieses neue Array (hier `x_interpol` genannt) dient als Eingabe für die Interpolationsfunktion, was zu einer glatten Interpolationskurve führt.\n",
    "        \n",
    "</div>\n",
    "</div>"
   ]
  },
  {
   "cell_type": "code",
   "metadata": {
    "ExecuteTime": {
     "end_time": "2024-11-26T14:11:54.388756Z",
     "start_time": "2024-11-26T14:11:54.051487Z"
    }
   },
   "source": [
    "from scipy.interpolate import interp1d\n",
    "\n",
    "plt.figure(figsize=(5, 4))\n",
    "\n",
    "x = np.array([0., 0.07142857, 0.14285714, 0.21428571, 0.28571429, 0.35714286, 0.42857143, 0.5])\n",
    "y = np.array([10., -1.9289848 , -6.77057646,  4.06165609,  3.5209599,  -4.41061795, -0.94431842,  3.67879441])\n",
    "\n",
    "x_interpol = np.linspace(0, 0.5, 100)\n",
    "\n",
    "f_linear = interp1d(x, y)\n",
    "\n",
    "sns.scatterplot(x=x_interpol, y=f_linear(x_interpol), marker='.', label = fr'interpolated points (linear)')\n",
    "\n",
    "sns.scatterplot(x=x, y=y, c='black', label = fr'data points')\n",
    "\n",
    "plt.show()"
   ],
   "outputs": [
    {
     "data": {
      "text/plain": [
       "<Figure size 500x400 with 1 Axes>"
      ],
      "image/png": "[encoded data removed]"
     },
     "metadata": {},
     "output_type": "display_data"
    }
   ],
   "execution_count": 82
  },
  {
   "cell_type": "code",
   "metadata": {
    "ExecuteTime": {
     "end_time": "2024-11-26T14:12:43.916387Z",
     "start_time": "2024-11-26T14:12:43.029316Z"
    }
   },
   "source": [
    "from scipy.interpolate import interp1d\n",
    "\n",
    "plt.figure(figsize=(4, 4))\n",
    "\n",
    "x = np.array([0., 0.07142857, 0.14285714, 0.21428571, 0.28571429, 0.35714286, 0.42857143, 0.5])\n",
    "y = np.array([10., -1.9289848 , -6.77057646,  4.06165609,  3.5209599,  -4.41061795, -0.94431842,  3.67879441])\n",
    "\n",
    "x_interpol = np.linspace(0, 0.5, 100)\n",
    "\n",
    "f_nearest = interp1d(x, y, kind='nearest') \n",
    "f_linear = interp1d(x, y)\n",
    "f_quad = interp1d(x, y, kind='quadratic')\n",
    "f_cubic = interp1d(x, y, kind='cubic')\n",
    "\n",
    "sns.lineplot(x=x_interpol, y=f_nearest(x_interpol) , ls=':', label = fr'nearest')\n",
    "\n",
    "sns.lineplot(x=x_interpol, y=f_linear(x_interpol), ls='-.', label = fr'linear')\n",
    "\n",
    "sns.lineplot(x=x_interpol, y=f_quad(x_interpol), ls='--', label = fr'quadratic')\n",
    "\n",
    "sns.lineplot(x=x_interpol, y=f_cubic(x_interpol), ls='-', label = fr'cubic')\n",
    "\n",
    "sns.scatterplot(x=x, y=y, c='black', label = fr'data points')\n",
    "\n",
    "plt.show()"
   ],
   "outputs": [
    {
     "data": {
      "text/plain": [
       "<Figure size 400x400 with 1 Axes>"
      ],
      "image/png": "[encoded data removed]"
     },
     "metadata": {},
     "output_type": "display_data"
    }
   ],
   "execution_count": 83
  },
  {
   "cell_type": "code",
   "metadata": {
    "ExecuteTime": {
     "end_time": "2024-11-26T14:13:17.907292Z",
     "start_time": "2024-11-26T14:13:17.065988Z"
    }
   },
   "source": [
    "# Original data points\n",
    "x = np.array([0., 0.07142857, 0.14285714, 0.21428571, 0.28571429, 0.35714286, 0.42857143, 0.5])\n",
    "y = np.array([10., -1.9289848, -6.77057646, 4.06165609, 3.5209599, -4.41061795, -0.94431842, 3.67879441])\n",
    "x_interpol = np.linspace(0, 0.5, 100)\n",
    "\n",
    "# Interpolation functions\n",
    "f_nearest = interp1d(x, y, kind='nearest') \n",
    "f_linear = interp1d(x, y, kind='linear')\n",
    "f_quad = interp1d(x, y, kind='quadratic')\n",
    "f_cubic = interp1d(x, y, kind='cubic')\n",
    "\n",
    "# Set up a 2x2 subplot\n",
    "fig, axs = plt.subplots(2, 2, figsize=(7, 6), sharex = True, sharey = True)\n",
    "\n",
    "for i in range(2):\n",
    "    for j in range(2):\n",
    "        sns.scatterplot(x=x, y=y, color='black', ax=axs[i, j], label='data points', zorder=3)\n",
    "\n",
    "# Plot nearest interpolation\n",
    "sns.lineplot(x=x_interpol, y=f_nearest(x_interpol), ax=axs[0, 0], c=\"b\", label='nearest')\n",
    "\n",
    "# Plot linear interpolation\n",
    "sns.lineplot(x=x_interpol, y=f_linear(x_interpol), ax=axs[0, 1], c=\"r\", label='linear')\n",
    "\n",
    "# Plot quadratic interpolation\n",
    "sns.lineplot(x=x_interpol, y=f_quad(x_interpol), ax=axs[1, 0], c=\"g\", label='quadratic')\n",
    "\n",
    "# Plot cubic interpolation\n",
    "sns.lineplot(x=x_interpol, y=f_cubic(x_interpol), ax=axs[1, 1], c=\"orange\", label='cubic')\n",
    "\n",
    "# Adjust layout and show plot\n",
    "fig.tight_layout()\n",
    "plt.show()"
   ],
   "outputs": [
    {
     "data": {
      "text/plain": [
       "<Figure size 700x600 with 4 Axes>"
      ],
      "image/png": "[encoded data removed]"
     },
     "metadata": {},
     "output_type": "display_data"
    }
   ],
   "execution_count": 84
  },
  {
   "cell_type": "markdown",
   "metadata": {},
   "source": [
    "<div style=\"display: flex; justify-content: space-between;\">\n",
    "<div style=\"width: 48%; line-height: 1.5;\">\n",
    "\n",
    "**Note:**\n",
    "\n",
    "Higher-degree polynomial fitting can be achieved through other methods (`UnivariateSpline`, `polyfit`), especially for complex data that needs a custom polynomial fit.\n",
    "        \n",
    "</div>\n",
    "<div style=\"width: 48%; line-height: 1.5;color: grey;\">\n",
    "\n",
    "**Anmerkung:**\n",
    "\n",
    "Polynomielle Anpassungen höheren Grades können durch andere Methoden (`UnivariateSpline`, `polyfit`) erreicht werden, insbesondere für komplexe Daten, die eine benutzerdefinierte polynomielle Anpassung benötigen.\n",
    "        \n",
    "</div>\n",
    "</div>"
   ]
  },
  {
   "cell_type": "markdown",
   "metadata": {},
   "source": [
    "<div style=\"display: flex; justify-content: space-between;\">\n",
    "<div style=\"width: 48%; line-height: 1.5;\">\n",
    "\n",
    "### Fitting Data Points\n",
    "\n",
    "Interpolation connects all provided data points with smooth lines, but: \n",
    "\n",
    "- it is limited to the data range (we cannot extrapolate), \n",
    "\n",
    "- it does not reveal the underlying mathematical relationship between the independent and dependent variables. \n",
    "\n",
    "Often, however, we want to model the data to understand the underlying phenomena and make predictions outside the given range. \n",
    "\n",
    "In this case, we use **fitting**, where we find a function that best captures the overall trend of the data. \n",
    "        \n",
    "</div>\n",
    "<div style=\"width: 48%; line-height: 1.5;color: grey;\">\n",
    "\n",
    "### Anpassung Datenpunkte (Fitting)\n",
    "\n",
    "Die Interpolation verbindet alle bereitgestellten Datenpunkte mit glatten Linien, aber:\n",
    "\n",
    "- sie ist auf den Datenbereich beschränkt (wir können nicht extrapolieren),\n",
    "\n",
    "- sie offenbart nicht die zugrunde liegende mathematische Beziehung zwischen den unabhängigen und abhängigen Variablen.\n",
    "\n",
    "Häufig möchten wir jedoch die Daten modellieren, um die zugrunde liegenden Phänomene zu verstehen und Vorhersagen außerhalb des vorgegebenen Bereichs zu treffen.\n",
    "\n",
    "In diesem Fall verwenden wir die **Anpassung**, bei der wir eine Funktion finden, die den Gesamttrend der Daten am besten wiedergibt.\n",
    "        \n",
    "</div>\n",
    "</div>"
   ]
  },
  {
   "cell_type": "markdown",
   "metadata": {},
   "source": [
    "<div style=\"display: flex; justify-content: space-between;\">\n",
    "<div style=\"width: 48%; line-height: 1.5;\">\n",
    "\n",
    "**A fitted model may not pass through every data point but is optimized to minimize the overall error**, representing the trend as accurately as possible.\n",
    "\n",
    "In many cases, we do need to specify a function or model that defines the relationship we expect between the independent and dependent variables.\n",
    "(In other fitting approaches, such as machine learning, the function or model can be determined from the data itself, without a manually specified function.)\n",
    "        \n",
    "</div>\n",
    "<div style=\"width: 48%; line-height: 1.5;color: grey;\">\n",
    "\n",
    "**Ein angepasstes Modell schneidet möglicherweise nicht durch jeden Datenpunkt, wird aber so optimiert, dass der Gesamtfehler minimiert wird** und der Trend so genau wie möglich dargestellt wird.\n",
    "\n",
    "In vielen Fällen müssen wir eine Funktion oder ein Modell spezifizieren, das die Beziehung definiert, die wir zwischen den unabhängigen und abhängigen Variablen erwarten.\n",
    "(Bei anderen Anpassungsansätzen, wie z. B. dem maschinellen Lernen, kann die Funktion oder das Modell aus den Daten selbst bestimmt werden, ohne dass eine manuell festgelegte Funktion erforderlich ist).\n",
    "        \n",
    "</div>\n",
    "</div>"
   ]
  },
  {
   "cell_type": "markdown",
   "metadata": {},
   "source": [
    "<div class=\"alert alert-block alert-light\">\n",
    "\n",
    "<div style=\"display: flex; justify-content: space-between;\">\n",
    "<div style=\"width: 48%; line-height: 1.5;\">\n",
    "\n",
    "#### Exercise\n",
    " \n",
    "The Lennard-Jones potential is an intermolecular pair potential. \n",
    "\n",
    "This simplified model describes the essential features of interactions between simple atoms and molecules where van der Waals forces dominate: Two interacting particles repel each other at very close distance, attract each other at moderate distance, and eventually stop interacting at infinite distance.\n",
    "\n",
    "The Lennard-Jones potential is given by the formula:\n",
    "        \n",
    "</div>\n",
    "<div style=\"width: 48%; line-height: 1.5;color: grey;\">\n",
    "\n",
    "#### Übung\n",
    " \n",
    "Das Lennard-Jones-Potenzial ist ein intermolekulares Paarpotenzial. \n",
    "\n",
    "Dieses vereinfachte Modell beschreibt die wesentlichen Merkmale der Wechselwirkungen zwischen einfachen Atomen und Molekülen, bei denen die van-der-Waals-Kräfte dominieren: Zwei wechselwirkende Teilchen stoßen sich bei sehr geringem Abstand ab, ziehen sich bei mittlerem Abstand an und hören schließlich bei unendlichem Abstand auf, miteinander zu wechselwirken.\n",
    "\n",
    "Das Lennard-Jones-Potenzial wird durch die folgende Formel beschrieben:\n",
    "        \n",
    "</div>\n",
    "</div>\n",
    "<div style=\"text-align: center; margin-top: 20px;\">\n",
    "\n",
    "$$\n",
    "V(r) = 4\\varepsilon \\left[ \\left(\\frac{\\sigma}{r}\\right)^{12} - \\left(\\frac{\\sigma}{r}\\right)^{6} \\right],\n",
    "$$\n",
    "</div>\n",
    "<div style=\"display: flex; justify-content: space-between;\">\n",
    "<div style=\"width: 48%; line-height: 1.5;\">\n",
    "\n",
    "where:\n",
    "\n",
    "- $r$ is the distance between the two atoms.\n",
    "\n",
    "- $\\varepsilon$ is the depth of the potential well (indicating how strongly the two particles attract each other).\n",
    "\n",
    "- $\\sigma$ is the distance at which the potential is zero.\n",
    "        \n",
    "1. Define a function `lennard_jones` that takes as arguments `r`, `epsilon` and `sigma`.\n",
    "\n",
    "2. Create an array of interatomic distances (`r`) from $1.0$ to $2.0$ (included!) with a step size of $0.025$.\n",
    "\n",
    "3. Calculate the Lennard-Jones potential (`V`) by evaluating the function `lennard_jones`. Use `epsilon` = `sigma` = `1.0`.\n",
    "\n",
    "4. Execute the provided snippet that plots the potential $V(r)$ as a function of $r$. \n",
    "\n",
    "</div>\n",
    "<div style=\"width: 48%; line-height: 1.5;color: grey;\">\n",
    "\n",
    "wobei:\n",
    "\n",
    "- $r$ ist der Abstand zwischen den beiden Atomen.\n",
    "\n",
    "- $\\varepsilon$ ist die Tiefe des Potentialtopfes (gibt an, wie stark sich die beiden Teilchen gegenseitig anziehen).\n",
    "\n",
    "- $\\sigma$ ist der Abstand, bei dem das Potenzial null ist.\n",
    "        \n",
    "1. Definieren Sie eine Funktion `lennard_jones`, die als Argumente `r`, `epsilon` und `sigma` annimmt.\n",
    "\n",
    "2. Erstellen Sie ein Array von interatomaren Abständen (`r`) von $1.0$ bis $2.0$ (inklusive!) mit einer Schrittweite von $0.025$.\n",
    "\n",
    "3. Berechnen Sie das Lennard-Jones-Potential (`V`) durch Auswertung der Funktion `lennard_jones`. Verwenden Sie `epsilon` = `sigma` = `1.0`.\n",
    "\n",
    "4. Führen Sie das bereitgestellte Snippet aus, das das Potential $V(r)$ als Funktion von $r$ aufzeichnet.\n",
    "\n",
    "</div>\n",
    "</div>\n",
    "\n",
    "```python\n",
    "plt.figure(figsize=(5, 4))\n",
    "\n",
    "sns.lineplot(x=r, y=V, marker=\"o\")\n",
    "\n",
    "plt.grid()\n",
    "\n",
    "plt.xlabel('Interatomic Distance (r)')\n",
    "plt.ylabel('Potential Energy V(r)')\n",
    "\n",
    "plt.show()\n",
    "```"
   ]
  },
  {
   "cell_type": "code",
   "execution_count": null,
   "metadata": {},
   "outputs": [],
   "source": [
    "countdown_timer(15)"
   ]
  },
  {
   "cell_type": "code",
   "metadata": {
    "ExecuteTime": {
     "end_time": "2024-11-26T14:15:57.662338Z",
     "start_time": "2024-11-26T14:15:57.660244Z"
    }
   },
   "source": [
    "# Define the Lennard-Jones potential function\n",
    "def lennard_jones(r, epsilon, sigma):\n",
    "    return 4 * epsilon * ((sigma / r) ** 12 - (sigma / r) ** 6)"
   ],
   "outputs": [],
   "execution_count": 85
  },
  {
   "cell_type": "code",
   "metadata": {
    "ExecuteTime": {
     "end_time": "2024-11-26T14:15:59.377581Z",
     "start_time": "2024-11-26T14:15:59.375351Z"
    }
   },
   "source": [
    "import numpy as np\n",
    "\n",
    "r = np.arange(1, 2.02, 0.025)\n",
    "\n",
    "# Calculate the Lennard-Jones potential for each value of r using vectorized operations\n",
    "V = lennard_jones(r, 1.0, 1.0)"
   ],
   "outputs": [],
   "execution_count": 86
  },
  {
   "cell_type": "code",
   "metadata": {
    "ExecuteTime": {
     "end_time": "2024-11-26T14:16:04.413018Z",
     "start_time": "2024-11-26T14:16:02.824840Z"
    }
   },
   "source": [
    "plt.figure(figsize=(5, 4))\n",
    "\n",
    "sns.lineplot(x=r, y=V, marker=\"o\")\n",
    "\n",
    "plt.grid()\n",
    "\n",
    "plt.xlabel('Interatomic Distance (r)')\n",
    "plt.ylabel('Potential Energy V(r)')\n",
    "\n",
    "plt.show()"
   ],
   "outputs": [
    {
     "data": {
      "text/plain": [
       "<Figure size 500x400 with 1 Axes>"
      ],
      "image/png": "[encoded data removed]"
     },
     "metadata": {},
     "output_type": "display_data"
    }
   ],
   "execution_count": 87
  },
  {
   "cell_type": "markdown",
   "metadata": {},
   "source": [
    "<div style=\"display: flex; justify-content: space-between;\">\n",
    "<div style=\"width: 48%; line-height: 1.5;\">\n",
    "\n",
    "This plot represents the analytical form of the Lennard-Jones potential, evaluated using NumPy.\n",
    "\n",
    "There are many properties that one can extract from such a plot (equilibrium distance, binding energy, elastic moduli, heat capacity, ...).\n",
    "\n",
    "For example, the equilibrium distance (the distance $r$ corresponding to the minimum potential energy) can be determined using the `np.argmin()` function. This function identifies the index of the smallest value in the potential array, which you can then use to retrieve the corresponding $r$ value:\n",
    "        \n",
    "</div>\n",
    "<div style=\"width: 48%; line-height: 1.5;color: grey;\">\n",
    "\n",
    "Diese Grafik stellt die analytische Form des Lennard-Jones-Potenzials dar, die mit NumPy ausgewertet wurde.\n",
    "\n",
    "Es gibt viele Eigenschaften, die man aus einer solchen Darstellung extrahieren kann (Gleichgewichtsabstand, Bindungsenergie, elastische Module, Wärmekapazität, ...).\n",
    "\n",
    "Zum Beispiel kann der Gleichgewichtsabstand (der Abstand $r$, der dem Minimum der potentiellen Energie entspricht) mit der Funktion `np.argmin()` bestimmt werden. Diese Funktion identifiziert den Index des kleinsten Wertes in der Potentialmatrix, der dann zum Abrufen des entsprechenden $r$-Wertes verwendet werden kann:\n",
    "        \n",
    "</div>\n",
    "</div>"
   ]
  },
  {
   "cell_type": "code",
   "metadata": {
    "ExecuteTime": {
     "end_time": "2024-11-26T14:17:14.926921Z",
     "start_time": "2024-11-26T14:17:14.924334Z"
    }
   },
   "source": [
    "# Find the index of the minimum value in V\n",
    "min_index = np.argmin(V)\n",
    "\n",
    "# Get the corresponding value of r with indexing\n",
    "r_min = r[min_index]\n",
    "\n",
    "# Print the result\n",
    "print(f\"The value of r where the Lennard-Jones potential is minimum: r = {r_min:.3f}\")"
   ],
   "outputs": [
    {
     "name": "stdout",
     "output_type": "stream",
     "text": [
      "The value of r where the Lennard-Jones potential is minimum: r = 1.125\n"
     ]
    }
   ],
   "execution_count": 88
  },
  {
   "cell_type": "markdown",
   "metadata": {},
   "source": [
    "#### remove for the students"
   ]
  },
  {
   "cell_type": "raw",
   "metadata": {
    "vscode": {
     "languageId": "raw"
    }
   },
   "source": [
    "import numpy as np\n",
    "\n",
    "epsilon = 1.0  # Depth of the potential well\n",
    "sigma = 1.0    # Distance at which the potential is zero\n",
    "\n",
    "r = np.arange(1, 2.02, 0.075)\n",
    "\n",
    "# Calculate the Lennard-Jones potential for each value of r using vectorized operations\n",
    "V = 4 * epsilon * ((sigma / r)**12 - (sigma / r)**6)"
   ]
  },
  {
   "cell_type": "raw",
   "metadata": {
    "vscode": {
     "languageId": "raw"
    }
   },
   "source": [
    "print(r)\n",
    "print(V)"
   ]
  },
  {
   "cell_type": "raw",
   "metadata": {
    "vscode": {
     "languageId": "raw"
    }
   },
   "source": [
    "import numpy as np\n",
    "\n",
    "# Original data\n",
    "x_orig = np.array([1.0, 1.075, 1.15, 1.225, 1.3, 1.375, 1.45, 1.525, 1.6, 1.675, 1.75, 1.825, 1.9, 1.975])\n",
    "y_orig = np.array([0.0, -0.91242956, -0.98168178, -0.83341559, -0.65701691, -0.50430924,\n",
    "                   -0.38407318, -0.2927275, -0.22420772, -0.17292067, -0.13441325,\n",
    "                   -0.10533342, -0.08321614, -0.06626393])\n",
    "\n",
    "# Add noise\n",
    "np.random.seed(0)  # For reproducibility\n",
    "x_data = x_orig * (1 + np.random.uniform(-0.05, 0.05, x_orig.shape))\n",
    "y_data = y_orig * (1 + np.random.uniform(-0.05, 0.05, y_orig.shape))\n",
    "\n",
    "# Display the noisy data\n",
    "print(\"Noisy x_data:\", x_data)\n",
    "print(\"Noisy y_data:\", y_data)"
   ]
  },
  {
   "cell_type": "raw",
   "metadata": {
    "vscode": {
     "languageId": "raw"
    }
   },
   "source": [
    "y_data"
   ]
  },
  {
   "cell_type": "markdown",
   "metadata": {},
   "source": [
    "<div style=\"display: flex; justify-content: space-between;\">\n",
    "<div style=\"width: 48%; line-height: 1.5;\">\n",
    "\n",
    "This plot represents the analytical form of the Lennard-Jones potential, evaluated using NumPy.\n",
    "\n",
    "There are many properties that one can extract from such a plot (equilibrium distance, binding energy, elastic moduli, heat capacity, ...).\n",
    "\n",
    "For example, the equilibrium distance (the distance $r$ corresponding to the minimum potential energy) can be determined using the `np.argmin()` function. This function identifies the index of the smallest value in the potential array, which you can then use to retrieve the corresponding $r$ value:\n",
    "        \n",
    "</div>\n",
    "<div style=\"width: 48%; line-height: 1.5;color: grey;\">\n",
    "\n",
    "Diese Grafik stellt die analytische Form des Lennard-Jones-Potenzials dar, die mit NumPy ausgewertet wurde.\n",
    "\n",
    "Es gibt viele Eigenschaften, die man aus einer solchen Darstellung extrahieren kann (Gleichgewichtsabstand, Bindungsenergie, elastische Module, Wärmekapazität, ...).\n",
    "\n",
    "Zum Beispiel kann der Gleichgewichtsabstand (der Abstand $r$, der dem Minimum der potentiellen Energie entspricht) mit der Funktion `np.argmin()` bestimmt werden. Diese Funktion identifiziert den Index des kleinsten Wertes in der Potentialmatrix, der dann zum Abrufen des entsprechenden $r$-Wertes verwendet werden kann:\n",
    "        \n",
    "</div>\n",
    "</div>"
   ]
  },
  {
   "cell_type": "markdown",
   "metadata": {},
   "source": [
    "### for the students\n",
    "#### read and plot the data points"
   ]
  },
  {
   "cell_type": "markdown",
   "metadata": {},
   "source": [
    "<div style=\"display: flex; justify-content: space-between;\">\n",
    "<div style=\"width: 48%; line-height: 1.5;\">\n",
    "\n",
    "Now imagine that you are collecting data points as $(r,V)$ pairs in an experiment (or simulation). \n",
    "You want to analyze these data points to determine whether and how well they can be described by a Lennard-Jones (LJ) potential and extract the parameters $\\varepsilon$ and $\\sigma$.\n",
    "        \n",
    "</div>\n",
    "<div style=\"width: 48%; line-height: 1.5;color: grey;\">\n",
    "\n",
    "Stellen Sie sich nun vor, Sie sammeln Datenpunkte als $(r,V)$-Paare in einem Experiment (oder einer Simulation).\n",
    "Sie möchten diese Datenpunkte analysieren, um festzustellen, ob und wie gut sie durch ein Lennard-Jones (LJ)-Potenzial beschrieben werden können, und die Parameter $\\varepsilon$ und $\\sigma$ extrahieren.\n",
    "        \n",
    "</div>\n",
    "</div>"
   ]
  },
  {
   "cell_type": "code",
   "metadata": {
    "ExecuteTime": {
     "end_time": "2024-11-26T14:18:43.799683Z",
     "start_time": "2024-11-26T14:18:43.389778Z"
    }
   },
   "source": [
    "plt.figure(figsize=(5, 4))\n",
    "\n",
    "x_data = np.array([1.00488135, 1.09813286, 1.16181779, 1.23049819, 1.29007512,\n",
    "                   1.39506044, 1.44095015, 1.58474538, 1.67418604, 1.65547645,\n",
    "                   1.80105188, 1.83027332, 1.91292847, 2.05905534])\n",
    "\n",
    "y_data = np.array([ 0.        , -0.87475802, -0.93458249, -0.86113665, -0.67529228,\n",
    "                   -0.52296929, -0.40245563, -0.30148469, -0.22334406, -0.1777716 ,\n",
    "                   -0.12928235, -0.10680726, -0.08024826, -0.06921048])\n",
    "\n",
    "sns.scatterplot(x = x_data, y = y_data, c='black', label = fr'data points')\n",
    "\n",
    "plt.xlabel('Interatomic Distance (r)')\n",
    "plt.ylabel('Potential Energy V(r)')\n",
    "\n",
    "plt.show()"
   ],
   "outputs": [
    {
     "data": {
      "text/plain": [
       "<Figure size 500x400 with 1 Axes>"
      ],
      "image/png": "[encoded data removed]"
     },
     "metadata": {},
     "output_type": "display_data"
    }
   ],
   "execution_count": 89
  },
  {
   "cell_type": "markdown",
   "metadata": {},
   "source": [
    "<div style=\"display: flex; justify-content: space-between;\">\n",
    "<div style=\"width: 48%; line-height: 1.5;\">\n",
    "\n",
    "**Here are the steps to fit a model to your data points:**\n",
    "\n",
    "#### Define model function:\n",
    "        \n",
    "</div>\n",
    "<div style=\"width: 48%; line-height: 1.5;color: grey;\">\n",
    "\n",
    "**Hier sind die Schritte zur Anpassung eines Modells an Ihre Datenpunkte:**\n",
    "\n",
    "#### Definieren Sie die Modellfunktion:\n",
    "        \n",
    "</div>\n",
    "</div>"
   ]
  },
  {
   "cell_type": "code",
   "metadata": {
    "ExecuteTime": {
     "end_time": "2024-11-26T14:19:23.221976Z",
     "start_time": "2024-11-26T14:19:23.219515Z"
    }
   },
   "source": [
    "# Define the Lennard-Jones potential function\n",
    "def lennard_jones(r, epsilon, sigma):\n",
    "    return 4 * epsilon * ((sigma / r) ** 12 - (sigma / r) ** 6)"
   ],
   "outputs": [],
   "execution_count": 92
  },
  {
   "cell_type": "markdown",
   "metadata": {},
   "source": [
    "<div style=\"display: flex; justify-content: space-between;\">\n",
    "<div style=\"width: 48%; line-height: 1.5;\">\n",
    "\n",
    "#### Perform the fit:\n",
    "        \n",
    "</div>\n",
    "<div style=\"width: 48%; line-height: 1.5;color: grey;\">\n",
    "\n",
    "####  Führen Sie die Anpassung durch:\n",
    "        \n",
    "</div>\n",
    "</div>"
   ]
  },
  {
   "cell_type": "code",
   "metadata": {
    "ExecuteTime": {
     "end_time": "2024-11-26T14:19:25.641357Z",
     "start_time": "2024-11-26T14:19:25.637178Z"
    }
   },
   "source": [
    "from scipy.optimize import curve_fit\n",
    "from sklearn.metrics import r2_score\n",
    "\n",
    "# Step 1: Define initial guesses for the parameters to guide the curve fitting process\n",
    "initial_guess = [2, 2] \n",
    "\n",
    "# Step 2: Fit the Lennard-Jones function to the data\n",
    "# The curve_fit function returns the optimal parameters (params) and the covariance of the parameters\n",
    "params, covariance = curve_fit(lennard_jones, x_data, y_data, p0=initial_guess)\n",
    "epsilon, sigma = params  # Unpack the fitted parameters for clarity\n",
    "\n",
    "# Step 3: Calculate fitted values using the model and fitted parameters\n",
    "y_fit = lennard_jones(x_data, epsilon, sigma)\n",
    "\n",
    "# Step 4: Calculate the R^2 (coefficient of determination) value to evaluate the quality of the fit\n",
    "R_squared = r2_score(y_data, y_fit)\n",
    "\n",
    "# Step 5: Print the fitted parameters and the R^2 score\n",
    "print(f\"Fitted epsilon:\\t{epsilon:.4f}\")  \n",
    "print(f\"Fitted sigma:\\t{sigma:.4f}\")    \n",
    "print(f\"R^2:\\t\\t{R_squared:.4f}\")    \n",
    "print(40*\"-\")\n",
    "print(f\"Coviariance matrix:\")   \n",
    "print(covariance)   "
   ],
   "outputs": [
    {
     "name": "stdout",
     "output_type": "stream",
     "text": [
      "Fitted epsilon:\t0.9762\n",
      "Fitted sigma:\t1.0058\n",
      "R^2:\t\t0.9881\n",
      "----------------------------------------\n",
      "Coviariance matrix:\n",
      "[[ 4.00294942e-04 -4.58309105e-06]\n",
      " [-4.58309105e-06  2.42405546e-06]]\n"
     ]
    }
   ],
   "execution_count": 93
  },
  {
   "cell_type": "markdown",
   "metadata": {},
   "source": [
    "<div style=\"text-align: center;\">\n",
    "\n",
    "```python\n",
    "from scipy.optimize import curve_fit\n",
    "from sklearn.metrics import r2_score\n",
    "```\n",
    "\n",
    "</div>\n",
    "\n",
    "<div style=\"display: flex; justify-content: space-between;\">\n",
    "<div style=\"width: 48%; line-height: 1.5;\">\n",
    "\n",
    "- `curve_fit` fits a curve (or any mathematical model) to a set of data points by optimizing the model parameters. <br> `curve_fit` automatically identifies $\\varepsilon$ and $\\sigma$ as the parameters to fit because they are the remaining arguments of `lennard_jones` after the independent variable $r$.\n",
    "\n",
    "- `r2_score` calculates the coefficient of determination ($R^2$), which measures how well the model fits the data.\n",
    "        \n",
    "</div>\n",
    "<div style=\"width: 48%; line-height: 1.5;color: grey;\">\n",
    "\n",
    "- `curve_fit` passt eine Kurve (oder ein beliebiges mathematisches Modell) an eine Reihe von Datenpunkten an, indem die Modellparameter optimiert werden. `curve_fit` identifiziert automatisch $\\varepsilon$ und $\\sigma$ als die anzupassenden Parameter, da sie die verbleibenden Argumente von `lennard_jones` nach der unabhängigen Variable $r$ sind.\n",
    "\n",
    "- `r2_score` berechnet das Bestimmtheitsmaß ($R^2$), das angibt, wie gut das Modell zu den Daten passt.\n",
    "        \n",
    "</div>\n",
    "</div>\n",
    "\n",
    "---"
   ]
  },
  {
   "cell_type": "markdown",
   "metadata": {},
   "source": [
    "<div style=\"text-align: center;\">\n",
    "\n",
    "```python\n",
    "initial_guess = [2, 2]\n",
    "```\n",
    "\n",
    "</div>\n",
    "\n",
    "<div style=\"display: flex; justify-content: space-between;\">\n",
    "<div style=\"width: 48%; line-height: 1.5;\">\n",
    "\n",
    "The optimizer needs an initial estimate for the parameters ($\\varepsilon$ and $\\sigma$) of the Lennard-Jones potential. Here, both are initialized to 2.\n",
    "\n",
    "     \n",
    "</div>\n",
    "<div style=\"width: 48%; line-height: 1.5;color: grey;\">\n",
    "\n",
    "Der Optimierer benötigt eine Anfangsschätzung für die Parameter ($\\varepsilon$ und $\\sigma$) des Lennard-Jones-Potentials. Hier werden beide auf 2 initialisiert.\n",
    "        \n",
    "</div>\n",
    "</div>\n",
    "\n",
    "---"
   ]
  },
  {
   "cell_type": "markdown",
   "metadata": {},
   "source": [
    "<div style=\"text-align: center;\">\n",
    "\n",
    "```python\n",
    "params, covariance = curve_fit(lennard_jones, x_data, y_data, p0=initial_guess)\n",
    "```\n",
    "\n",
    "</div>\n",
    "\n",
    "<div style=\"display: flex; justify-content: space-between;\">\n",
    "<div style=\"width: 48%; line-height: 1.5;\">\n",
    "\n",
    "`curve_fit` Function:\n",
    "\n",
    "- Inputs:\n",
    "\n",
    "  - `lennard_jones`: The model function to fit, which calculates $V(r)$.\n",
    "\n",
    "  - `x_data`: The array of $r$-values.\n",
    "\n",
    "  - `y_data`: The array of $V$-values.\n",
    "\n",
    "  - `p0=initial_guess`: The initial guesses for the parameters $\\varepsilon$ and $\\sigma$.\n",
    "\n",
    "- Outputs:\n",
    "\n",
    "  - `params`: An array of the optimized parameter values ($\\varepsilon$ and $\\sigma$).\n",
    "\n",
    "  - `covariance`: A matrix representing the estimated variances (squares of the standard deviations (uncertainties) along the diagonal) and covariances (how changes in one parameter affect another of the parameters, off-diagonal entries).\n",
    "\n",
    "</div>\n",
    "<div style=\"width: 48%; line-height: 1.5;color: grey;\">\n",
    "\n",
    "Funktion `curve_fit`:\n",
    "\n",
    "- Inputs:\n",
    "\n",
    "  - `lennard_jones`: Die anzupassende Modellfunktion, die $V(r)$ berechnet.\n",
    "\n",
    "  - `x_data`: Das Array der $r$-Werte.\n",
    "\n",
    "  - `y_data`: Das Array der $V$-Werte.\n",
    "\n",
    "  - `p0=initial_guess`: Die Anfangsschätzungen für die Parameter $\\varepsilon$ und $\\sigma$.\n",
    "\n",
    "- Outputs:\n",
    "\n",
    "  - `params`: Ein Array mit den optimierten Parameterwerten($\\varepsilon$ and $\\sigma$).\n",
    "\n",
    "  - `covariance`: Eine Matrix, die die geschätzten Varianzen (Quadrate der Standardabweichungen (Unsicherheiten) entlang der Diagonalen) und Kovarianzen (wie sich Änderungen eines Parameters auf andere Parameter auswirken, Einträge außerhalb der Diagonalen) darstellt.\n",
    "        \n",
    "</div>\n",
    "</div>\n",
    "\n",
    "<div style=\"text-align: center;\">\n",
    "\n",
    "Standard Deviation of $\\varepsilon = \\sqrt{\\texttt{covariance[0,0]}}$\n",
    "\n",
    "Standard Deviation of $\\sigma = \\sqrt{\\texttt{covariance[1,1]}}$\n",
    "</div>\n",
    "\n",
    "---"
   ]
  },
  {
   "cell_type": "markdown",
   "metadata": {},
   "source": [
    "<div style=\"text-align: center;\">\n",
    "\n",
    "```python\n",
    "epsilon, sigma = params  # Unpack the fitted parameters\n",
    "```\n",
    "\n",
    "</div>\n",
    "\n",
    "<div style=\"display: flex; justify-content: space-between;\">\n",
    "<div style=\"width: 48%; line-height: 1.5;\">\n",
    "\n",
    "Unpacks the fitted parameters for clarity.\n",
    "\n",
    "</div>\n",
    "<div style=\"width: 48%; line-height: 1.5;color: grey;\">\n",
    "\n",
    "Packt die angepassten Parameter zur besseren Übersichtlichkeit aus.\n",
    "        \n",
    "</div>\n",
    "</div>\n",
    "\n",
    "---"
   ]
  },
  {
   "cell_type": "markdown",
   "metadata": {},
   "source": [
    "<div style=\"text-align: center;\">\n",
    "\n",
    "```python\n",
    "y_fit = lennard_jones(x_data, epsilon, sigma)\n",
    "```\n",
    "\n",
    "</div>\n",
    "\n",
    "<div style=\"display: flex; justify-content: space-between;\">\n",
    "<div style=\"width: 48%; line-height: 1.5;\">\n",
    "\n",
    "The `lennard_jones` function is called with the $r$-values (`x_data`) and the optimized parameters (`epsilon` and `sigma`) to generate the fitted curve (`y_fit`).\n",
    "        \n",
    "</div>\n",
    "<div style=\"width: 48%; line-height: 1.5;color: grey;\">\n",
    "\n",
    "Die Funktion `lennard_jones` wird mit den $r$-Werten (`x_data`) und den optimierten Parametern (`epsilon` und `sigma`) aufgerufen, um die angepasste Kurve zu erzeugen (`y_fit`).\n",
    "\n",
    "</div>\n",
    "</div>\n",
    "\n",
    "---"
   ]
  },
  {
   "cell_type": "markdown",
   "metadata": {},
   "source": [
    "<div style=\"text-align: center;\">\n",
    "\n",
    "```python\n",
    "R_squared = r2_score(y_data, y_fit)\n",
    "```\n",
    "\n",
    "</div>\n",
    "\n",
    "<div style=\"display: flex; justify-content: space-between;\">\n",
    "<div style=\"width: 48%; line-height: 1.5;\">\n",
    "\n",
    "Calculates the coefficient of determination ($R^2$) to evaluate the goodness of fit.\n",
    "        \n",
    "</div>\n",
    "<div style=\"width: 48%; line-height: 1.5;color: grey;\">\n",
    "\n",
    "Berechnet das Bestimmtheitsmaß ($R^2$), um die Anpassungsgüte zu bewerten.\n",
    "        \n",
    "</div>\n",
    "</div>\n",
    "\n",
    "---"
   ]
  },
  {
   "cell_type": "markdown",
   "metadata": {},
   "source": [
    "<div style=\"display: flex; justify-content: space-between;\">\n",
    "<div style=\"width: 48%; line-height: 1.5;\">\n",
    "\n",
    "#### Plot the data points together with the fitted curve like we did an analytical function\n",
    "        \n",
    "</div>\n",
    "<div style=\"width: 48%; line-height: 1.5;color: grey;\">\n",
    "\n",
    "#### Zeichnen Sie die Datenpunkte zusammen mit der angepassten Kurve wie bei einer analytischen Funktion\n",
    "        \n",
    "</div>\n",
    "</div>"
   ]
  },
  {
   "cell_type": "code",
   "metadata": {
    "ExecuteTime": {
     "end_time": "2024-11-26T14:20:15.214804Z",
     "start_time": "2024-11-26T14:20:14.825615Z"
    }
   },
   "source": [
    "# Create a fine array of interatomic distances\n",
    "r = np.arange(1, 2.1, 0.01)\n",
    "\n",
    "# Calculate the Lennard-Jones potential for each value of r using vectorized operations\n",
    "V = lennard_jones(r, epsilon, sigma)\n",
    "\n",
    "\n",
    "# Plotting the Lennard-Jones potential with seaborn\n",
    "plt.figure(figsize=(5, 4))\n",
    "\n",
    "sns.scatterplot(x = x_data, y = y_data, c='black', label = fr'data points', zorder=3)\n",
    "sns.lineplot(x=r, y=V, c='purple', label=rf'LJ fit: $\\epsilon$={epsilon:.2f}, $\\sigma$={sigma:.2f}, $R^2$={R_squared:.3f}')\n",
    "\n",
    "# Labels\n",
    "plt.xlabel('Interatomic Distance (r)')\n",
    "plt.ylabel('Potential Energy V(r)')\n",
    "\n",
    "# Show plot\n",
    "plt.show()"
   ],
   "outputs": [
    {
     "data": {
      "text/plain": [
       "<Figure size 500x400 with 1 Axes>"
      ],
      "image/png": "[encoded data removed]"
     },
     "metadata": {},
     "output_type": "display_data"
    }
   ],
   "execution_count": 94
  },
  {
   "cell_type": "markdown",
   "metadata": {},
   "source": [
    "<div style=\"display: flex; justify-content: space-between;\">\n",
    "<div style=\"width: 48%; line-height: 1.5;\">\n",
    "\n",
    "### Recap f-strings\n",
    "\n",
    "For your convenience, here is a recap of commonly used f-string commands in Python:\n",
    "        \n",
    "</div>\n",
    "<div style=\"width: 48%; line-height: 1.5;color: grey;\">\n",
    "\n",
    "### Zusammenfassung f-Strings\n",
    "\n",
    "Zu Ihrer Erleichterung finden Sie hier eine Zusammenfassung der häufig verwendeten f-string-Befehle in Python:\n",
    "        \n",
    "</div>\n",
    "</div>"
   ]
  },
  {
   "cell_type": "markdown",
   "metadata": {},
   "source": [
    "| **Feature**             | **Example**              | **Description**                                                             | **Beschreibung**                                                             |\n",
    "|-------------------------|--------------------------|-----------------------------------------------------------------------------|------------------------------------------------------------------------------|\n",
    "| **Basic Usage**         | `f\"Hello, {name}!\"`      | Inserts the value of a variable or expression into a string.                | Fügt den Wert einer Variablen oder eines Ausdrucks in einen String ein.      |\n",
    "| **Rounding Numbers**    | `f\"{pi:.2f}\"`            | Formats a float to 2 decimal places.                                        | Formatiert eine Gleitkommazahl auf 2 Dezimalstellen.                         |\n",
    "| **Scientific Notation** | `f\"{value:.2e}\"`         | Formats a number in scientific notation with 2 decimal places.              | Formatiert eine Zahl in wissenschaftlicher Notation mit 2 Dezimalstellen.    |\n",
    "| **Percentage**          | `f\"{value:.2%}\"`         | Formats a number as a percentage with 2 decimal places.                     | Formatiert eine Zahl als Prozentsatz mit 2 Dezimalstellen.                   |\n",
    "| **Alignment Left**      | `f\"{value:<10}\"`         | Aligns the value to the left within a field of 10 characters.               | Richtet den Wert linksbündig in einem Feld von 10 Zeichen aus.               |\n",
    "| **Alignment Right**     | `f\"{value:>10}\"`         | Aligns the value to the right within a field of 10 characters.              | Richtet den Wert rechtsbündig in einem Feld von 10 Zeichen aus.              |\n",
    "| **Alignment Center**    | `f\"{value:^10}\"`         | Centers the value within a field of 10 characters.                          | Zentriert den Wert in einem Feld von 10 Zeichen.                             |\n",
    "| **Fill Characters**     | `f\"{value:*^10}\"`        | Centers the value with `*` as a fill character in a field of 10 characters. | Zentriert den Wert mit `*` als Füllzeichen in einem Feld von 10 Zeichen.     |\n",
    "| **Thousands Separator** | `f\"{number:,}\"`          | Adds a comma as a thousands separator.                                      | Fügt ein Tausendertrennzeichen (Komma) ein.                                  |\n",
    "| **Dynamic Widths**      | `f\"{value:{width}}\"`     | Uses a variable to define the width of a field.                             | Verwendet eine Variable, um die Breite eines Feldes zu definieren.           |\n",
    "| **Date Formatting**     | `f\"{date:%Y-%m-%d}\"`     | Formats a `datetime` object as a date string (e.g., YYYY-MM-DD).            | Formatiert ein `datetime`-Objekt als Datums-String (z. B. JJJJ-MM-TT).       |\n",
    "| **Escaping Braces**     | `f\"{{This is a brace}}\"` | Escapes braces by doubling them (`{{` or `}}`).                             | Maskiert geschweifte Klammern, indem sie verdoppelt werden (`{{` oder `}}`). |\n",
    "| **Expressions**         | `f\"{3 + 2}\"`             | Evaluates expressions inside curly braces.                                  | Führt Berechnungen innerhalb der geschweiften Klammern aus.                  |\n",
    "| **Call Functions**      | `f\"{len(name)}\"`         | Calls functions or methods inside curly braces.                             | Ruft Funktionen oder Methoden innerhalb der geschweiften Klammern auf.       |\n",
    "| **Tabs**                | `f\"First\\tSecond\"`       | Adds a tab character (`\\t`) within the string.                              | Fügt ein Tabulatorzeichen (`\\t`) in den String ein.                          |\n",
    "| **New Lines**           | `f\"Line1\\nLine2\"`        | Adds a new line character (`\\n`) within the string.                         | Fügt ein Zeilenumbruchzeichen (`\\n`) in den String ein.                      |\n"
   ]
  },
  {
   "cell_type": "markdown",
   "metadata": {},
   "source": [
    "<div class=\"alert alert-block alert-info\">\n",
    "\n",
    "<div style=\"display: flex; justify-content: space-between;\">\n",
    "<div style=\"width: 48%; line-height: 1.5;\">\n",
    "\n",
    "### Final Remark\n",
    "\n",
    "Throughout this lecture, we have utilized the following modules:\n",
    "\n",
    "```python\n",
    "import numpy as np\n",
    "import seaborn as sns\n",
    "import matplotlib.pyplot as plt\n",
    "from scipy.interpolate import interp1d\n",
    "from scipy.optimize import curve_fit\n",
    "from sklearn.metrics import r2_score\n",
    "```\n",
    "\n",
    "**As a best practice, always import all necessary modules at the start of your notebook.**\n",
    "\n",
    "This approach ensures that your code is organized and makes it easier for readers (and you) to understand which libraries are required for the notebook to run properly.\n",
    "\n",
    "</div>\n",
    "<div style=\"width: 48%; line-height: 1.5;color: grey;\">\n",
    "\n",
    "### Schlussbemerkung\n",
    "\n",
    "In dieser Vorlesung haben wir die folgenden Module verwendet:\n",
    "\n",
    "```python\n",
    "import numpy as np\n",
    "import seaborn as sns\n",
    "import matplotlib.pyplot as plt\n",
    "from scipy.interpolate import interp1d\n",
    "from scipy.optimize import curve_fit\n",
    "from sklearn.metrics import r2_score\n",
    "```\n",
    "\n",
    "**Am besten importieren Sie immer alle notwendigen Module am Anfang Ihres Notebooks.**\n",
    "\n",
    "Dieser Ansatz stellt sicher, dass Ihr Code organisiert ist und macht es für die Leser (und Sie) einfacher zu verstehen, welche Bibliotheken für die korrekte Ausführung des Notizbuchs erforderlich sind.\n",
    "\n",
    "</div>"
   ]
  },
  {
   "cell_type": "code",
   "execution_count": null,
   "metadata": {},
   "outputs": [],
   "source": [
    "import numpy as np\n",
    "import seaborn as sns\n",
    "import matplotlib.pyplot as plt\n",
    "from scipy.interpolate import interp1d\n",
    "from scipy.optimize import curve_fit\n",
    "from sklearn.metrics import r2_score"
   ]
  },
  {
   "cell_type": "markdown",
   "metadata": {},
   "source": [
    "<div class=\"alert alert-block alert-light\">\n",
    "\n",
    "<div style=\"display: flex; justify-content: space-between;\">\n",
    "<div style=\"width: 48%; line-height: 1.5;\">\n",
    "\n",
    "# Exercises\n",
    "\n",
    "Open the notebook `06_exercises.ipynb`.\n",
    "\n",
    "</div>\n",
    "<div style=\"width: 2%\"></div>\n",
    "<div style=\"width: 48%;; line-height: 1.5;color: grey;\">\n",
    "\n",
    "# Übungen\n",
    "\n",
    "Öffnen Sie das Notebook `06_exercises.ipynb`.\n",
    "\n",
    "</div>\n",
    "</div>"
   ]
  }
 ],
 "metadata": {
  "kernelspec": {
   "display_name": "py24",
   "language": "python",
   "name": "python3"
  },
  "language_info": {
   "codemirror_mode": {
    "name": "ipython",
    "version": 3
   },
   "file_extension": ".py",
   "mimetype": "text/x-python",
   "name": "python",
   "nbconvert_exporter": "python",
   "pygments_lexer": "ipython3",
   "version": "3.13.0"
  }
 },
 "nbformat": 4,
 "nbformat_minor": 2
}
