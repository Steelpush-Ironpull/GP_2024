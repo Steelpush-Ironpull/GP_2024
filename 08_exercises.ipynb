{
 "cells": [
  {
   "cell_type": "markdown",
   "metadata": {},
   "source": [
    "<div class=\"alert alert-info\" role=\"alert\">\n",
    "\n",
    "<div style=\"display: flex; justify-content: space-between; font-size: 12px;\">\n",
    "<div style=\"width: 48%; line-height: 1.25;\">\n",
    "\n",
    "### Reminder: Course Evaluation\n",
    "\n",
    "We invite you to take part in the evaluation of this course. \n",
    "Simply scan the QR code below or visit the **[link](https://evaluation.tu-darmstadt.de/evasys/online.php?pswd=ZZ95U)** to access the evaluation form.\n",
    "\n",
    "**If you enjoy the course**:<br> Let us know what’s working well. Your positive feedback helps us understand which aspects are effective and should be retained in future courses.\n",
    "\n",
    "**If you have suggestions or criticism**:<br> This is your chance to highlight areas for improvement. Constructive feedback helps us tailor the course to better meet your needs.  \n",
    "\n",
    "*Speak to Us Directly*:<br>\n",
    "If you are unsatisfied with any aspect of the course, we encourage you to speak to us directly. We still have time to make adjustments, and we can address your concerns faster than the central processing of the evaluation results. Your input matters, and we’re here to help you.  \n",
    "\n",
    "</div>\n",
    "<div style=\"width: 4%;\">\n",
    "</div>\n",
    "<div style=\"width: 48%; line-height: 1.25; color: grey;\">\n",
    "\n",
    "### Erinnerung: Lehrveranstaltungsevaluation\n",
    "\n",
    "Wir laden Sie ein, sich an der Bewertung dieses Kurses zu beteiligen.\n",
    "Scannen Sie einfach den nachstehenden QR-Code oder besuchen Sie den **[Link](https://evaluation.tu-darmstadt.de/evasys/online.php?pswd=ZZ95U)**, um das Bewertungsformular aufzurufen.\n",
    "\n",
    "**Wenn Ihnen der Kurs gefällt**:<br> Lassen Sie uns wissen, was gut funktioniert. Ihr positives Feedback hilft uns zu verstehen, welche Aspekte effektiv sind und in zukünftigen Kursen beibehalten werden sollten.\n",
    "\n",
    "**Wenn Sie Vorschläge oder Kritik haben**:<br> Hier haben Sie die Möglichkeit, auf verbesserungswürdige Bereiche hinzuweisen. Konstruktives Feedback hilft uns, den Kurs besser auf Ihre Bedürfnisse abzustimmen.  \n",
    "\n",
    "*Sprechen Sie uns direkt an*:<br>\n",
    "Wenn Sie mit irgendeinem Aspekt des Kurses unzufrieden sind, empfehlen wir Ihnen, direkt mit uns zu sprechen. Wir haben noch Zeit, Anpassungen vorzunehmen, und wir können uns schneller um Ihre Anliegen kümmern als die zentrale Verarbeitung der Bewertungsergebnisse. Ihre Meinung ist uns wichtig, und wir sind hier, um Ihnen zu helfen.\n",
    "\n",
    "</div>\n",
    "</div>"
   ]
  },
  {
   "cell_type": "markdown",
   "metadata": {},
   "source": [
    "<div style=\"text-align: center;\">\n",
    "    <img src=\"./evaluation_qr.png\" style=\"width: 150px;\">\n",
    "</div>"
   ]
  },
  {
   "cell_type": "markdown",
   "metadata": {},
   "source": [
    "<div style=\"text-align: center;\">\n",
    "    <img src=\"https://upload.wikimedia.org/wikipedia/commons/e/ed/Pandas_logo.svg\" style=\"width: 500px;\">\n",
    "</div>"
   ]
  },
  {
   "cell_type": "markdown",
   "metadata": {},
   "source": [
    "<div class=\"alert alert-success\" role=\"alert\">\n",
    "\n",
    "<div style=\"display: flex; justify-content: space-between;\">\n",
    "<div style=\"width: 48%; line-height: 1.5;\">\n",
    "\n",
    "### Instructions\n",
    "\n",
    "- **Enter your matriculation number in the first cell at the line `student_id =` and then execute the cell.**\n",
    "\n",
    "- Modify this notebook directly.\n",
    "\n",
    "- <span style=\"color:red;\"> Do not clear the outputs of your cells!</span>\n",
    "\n",
    "- Comments are essential to clarify your thought process, as we cannot interpret your intentions or debug your code.\n",
    "Subtasks without comments will incur a penalty of **0.5 points per subtask**. \n",
    "\n",
    "- Once completed, upload your notebook to the weekly assignment.\n",
    "\n",
    "- **There are 10 points available in total: you need at least 7 points to pass.**\n",
    "\n",
    "</div>\n",
    "<div style=\"width: 4%;\">\n",
    "</div>\n",
    "<div style=\"width: 48%; line-height: 1.5; color: grey;\">\n",
    "\n",
    "### Anweisungen\n",
    "\n",
    "- **Geben Sie Ihre Matrikelnummer in die erste Zelle der Zeile `student_id =` ein und führen Sie dann die Zelle aus.**\n",
    "\n",
    "- Ändern Sie dieses Notizbuch direkt.\n",
    "\n",
    "- <span style=\"color:red;\"> Löschen Sie nicht die Ausgaben Ihrer Zellen!</span>\n",
    "\n",
    "- Kommentare sind unerlässlich, um Ihren Gedankengang zu verdeutlichen, da wir Ihre Absichten nicht interpretieren oder Ihren Code debuggen können.\n",
    "Teilaufgaben ohne Kommentare führen zu einem Abzug von **0.5 Punkten pro Teilaufgabe**.\n",
    "\n",
    "- Wenn Sie fertig sind, laden Sie Ihr Notizbuch in die wöchentliche Aufgabe hoch.\n",
    "\n",
    "- **Es gibt insgesamt 10 Punkte: Sie brauchen mindestens 7 Punkte, um zu bestehen.**\n",
    "\n",
    "</div>\n",
    "</div>"
   ]
  },
  {
   "cell_type": "markdown",
   "metadata": {},
   "source": [
    "<div class=\"alert alert-warning\" role=\"alert\">\n",
    "\n",
    "<div style=\"display: flex; justify-content: space-between;\">\n",
    "<div style=\"width: 48%; line-height: 1.5;\">\n",
    "\n",
    "Ensure that your notebook runs from top to bottom. You can verify this by clicking the \"Restart\" button and then \"Run All.\" If your notebook fails to execute properly, the corresponding task will incur a penalty.\n",
    "\n",
    "</div>\n",
    "<div style=\"width: 48%; line-height: 1.5; color: grey;\">\n",
    "\n",
    "Stellen Sie sicher, dass Ihr Notebook von oben nach unten läuft. Sie können dies überprüfen, indem Sie auf die Schaltfläche \"Restart\" und dann auf \"Run All\" klicken. Wenn Ihr Notebook nicht ordnungsgemäß ausgeführt wird, wird die entsprechende Aufgabe mit einer Strafe belegt.\n",
    "\n",
    "</div>\n",
    "</div>"
   ]
  },
  {
   "cell_type": "code",
   "execution_count": null,
   "metadata": {},
   "outputs": [],
   "source": [
    "from IPython.display import display\n",
    "import IPython\n",
    "from datetime import datetime\n",
    "\n",
    "# Student ID\n",
    "student_id = \"YOUR MATRICULATION NUMBER HERE\"\n",
    "\n",
    "def display_student_id(*args, **kwargs):\n",
    "    current_time = datetime.now().strftime(\"%Y-%m-%d %H:%M:%S\")\n",
    "    display(f\"Run by {student_id} at {current_time}\")\n",
    "\n",
    "IPython.get_ipython().events.register('post_run_cell', display_student_id)"
   ]
  },
  {
   "cell_type": "markdown",
   "metadata": {},
   "source": [
    "<div class=\"alert alert-block alert-light\">\n",
    "\n",
    "#### 0\n",
    "\n",
    "<div style=\"display: flex; justify-content: space-between;\">\n",
    "<div style=\"width: 48%; line-height: 1.5;<div style=\"width: 48%; line-height: 1.5;\">\n",
    "\n",
    "Load the Titanic dataset into a pandas DataFrame.\n",
    "\n",
    "Create a reduced dataset called `titanic_clean` that contains only the columns: `survived`, `pclass`, `sex`, `age`, `fare`, `deck`, `embark_town`, `alone`.\n",
    "\n",
    "Drop rows from `titanic_clean` where the `age` entry is missing.\n",
    "\n",
    "Make sure that `titanic_clean` reflects all the changes, and use this cleaned-up DataFrame for the following work.\n",
    "\n",
    "The following tasks revisit the analysis from last week, but this time you are required to use the techniques covered in the most recent lecture. You will practice grouping and aggregating using `groupby()` and related methods. Additionally, explore how `value_counts()` can be used for similar analyses.\n",
    "\n",
    "</div>\n",
    "<div style=\"width: 48%; line-height: 1.5;<div style=\"width: 48%; line-height: 1.5;color: grey;\">\n",
    "\n",
    "Laden Sie den Titanic-Datensatz in einen Pandas DataFrame.\n",
    "\n",
    "Erstellen Sie einen reduzierten Datensatz mit dem Namen `titanic_clean`, der nur die folgenden Spalten enthält: `survived`, `pclass`, `sex`, `age`, `fare`, `deck`, `embark_town`, `alone`.\n",
    "\n",
    "Löschen Sie Zeilen aus `titanic_clean`, in denen der Eintrag `age` fehlt.\n",
    "\n",
    "Überprüfen Sie, ob `titanic_clean` alle Änderungen widerspiegelt, und verwenden Sie diesen bereinigten DataFrame für die folgenden Arbeiten.\n",
    "\n",
    "Die folgenden Aufgaben wiederholen die Analyse von letzter Woche, aber dieses Mal müssen Sie die in der letzten Vorlesung behandelten Techniken anwenden. Sie werden das Gruppieren und Aggregieren mit `groupby()` und verwandten Methoden üben. Außerdem untersuchen Sie, wie `value_counts()` für ähnliche Analysen verwendet werden kann.\n",
    "   \n",
    "</div>\n",
    "</div>"
   ]
  },
  {
   "cell_type": "code",
   "execution_count": null,
   "metadata": {},
   "outputs": [],
   "source": [
    "import seaborn as sns\n",
    "import pandas as pd\n",
    "   \n",
    "# Load the Titanic dataset\n",
    "titanic = sns.load_dataset('titanic')\n",
    "\n",
    "titanic_clean = titanic[[\"survived\", \"pclass\", \"sex\", \"age\", \"fare\", \"deck\", \"embark_town\", \"alone\"]].copy()\n",
    "\n",
    "titanic_clean = titanic_clean.dropna(subset=['age'])\n",
    "\n",
    "titanic_clean.info()"
   ]
  },
  {
   "cell_type": "code",
   "execution_count": null,
   "metadata": {},
   "outputs": [],
   "source": [
    "titanic_clean.columns"
   ]
  },
  {
   "cell_type": "markdown",
   "metadata": {},
   "source": [
    "<div class=\"alert alert-block alert-light\">\n",
    "\n",
    "<div style=\"display: flex; justify-content: space-between;\">\n",
    "<div style=\"width: 48%; line-height: 1.5;<div style=\"width: 48%; line-height: 1.5;\">\n",
    "\n",
    "#### 1: Statistics using `groupby()` (3 P)\n",
    "\n",
    "Group the Titanic dataset by different categorical variables and compute two key metrics: \n",
    "- Passenger Counts: The total number of passengers in each group. Use `groupby()` on the target column (`sex`, `pclass`, or `embark_town`) and calculate the number of passengers in each group using `size()`. (1 P)\n",
    "- Survival Rates: The percentage of passengers who survived in each group. Use `groupby()` on the same column and calculate the survival percentage for each group using `mean()` on the `survived` column. (1 P)\n",
    "\n",
    "Columns to Analyze:\n",
    "1. `sex`: Analyze the counts and survival rates for males and females.\n",
    "\n",
    "2. `pclass`: Analyze the counts and survival rates for each passenger class.\n",
    "\n",
    "3. `embark_town`: Analyze the counts and survival rates for passengers based on their embarkation town.\n",
    "\n",
    "Report your results in a reader-friendly way of your choice. (1 P)\n",
    "\n",
    "</div>\n",
    "<div style=\"width: 48%; line-height: 1.5;<div style=\"width: 48%; line-height: 1.5;color: grey;\">\n",
    "\n",
    "#### 1: Statistik mit `groupby()` (3 P)\n",
    "\n",
    "Gruppieren Sie den Titanic-Datensatz nach verschiedenen kategorialen Variablen und berechnen Sie zwei Schlüsselkennzahlen:\n",
    "- Anzahl der Passagiere: Die Gesamtzahl der Passagiere in jeder Gruppe. Verwenden Sie `groupby()` für die Zielspalte (`geschlecht`, `pclass` oder `embark_town`) und berechnen Sie die Anzahl der Passagiere in jeder Gruppe mit `size()`. (1 P)\n",
    "- Überlebensraten: Der Prozentsatz der überlebenden Passagiere in jeder Gruppe. Verwenden Sie `groupby()` für dieselbe Spalte und berechnen Sie den prozentualen Anteil der Überlebenden für jede Gruppe mit Hilfe von `mean()` für die Spalte `survived`. (1 P)\n",
    "\n",
    "Zu analysierende Spalten:\n",
    "1. `sex`: Analysieren Sie die Zählungen und Überlebensraten für Männer und Frauen.\n",
    "2. `pclass`: Analysieren Sie die Zählungen und Überlebensraten für jede Passagierklasse.\n",
    "3. `embark_town`: Analyse der Zählungen und Überlebensraten für Passagiere auf der Grundlage ihrer Einschiffungsstadt.\n",
    "\n",
    "Berichten Sie Ihre Ergebnisse in einer leserfreundlichen Form Ihrer Wahl: (1 P)\n",
    "   \n",
    "</div>\n",
    "</div>"
   ]
  },
  {
   "cell_type": "code",
   "execution_count": null,
   "metadata": {},
   "outputs": [],
   "source": [
    "# Grouping and computing passenger counts and survival rates\n",
    "\n",
    "# 1. Counts and survival rates by sex\n",
    "grouped_by_sex = titanic_clean.groupby(\"sex\").agg(passenger_count=('sex', 'size'), survival_rate=('survived', 'mean')).reset_index()\n",
    "\n",
    "# 2. Counts and survival rates by passenger class\n",
    "grouped_by_pclass = titanic_clean.groupby(\"pclass\").agg(passenger_count=('pclass', 'size'), survival_rate=('survived', 'mean')).reset_index()\n",
    "\n",
    "# 3. Counts and survival rates by embarkation town\n",
    "grouped_by_embark_town = titanic_clean.groupby(\"embark_town\").agg(passenger_count=('embark_town', 'size'), survival_rate=('survived', 'mean')).reset_index()\n",
    "\n",
    "# Formatting results for display\n",
    "grouped_by_sex[\"survival_rate\"] = (grouped_by_sex[\"survival_rate\"] * 100).round(2)\n",
    "grouped_by_pclass[\"survival_rate\"] = (grouped_by_pclass[\"survival_rate\"] * 100).round(2)\n",
    "grouped_by_embark_town[\"survival_rate\"] = (grouped_by_embark_town[\"survival_rate\"] * 100).round(2)\n",
    "\n",
    "# Print the survival analysis grouped by sex\n",
    "print(\"Survival Analysis by Sex:\")\n",
    "print(grouped_by_sex.to_string(index=False))\n",
    "print(\"\\n\")\n",
    "\n",
    "# Print the survival analysis grouped by passenger class\n",
    "print(\"Survival Analysis by Passenger Class:\")\n",
    "print(grouped_by_pclass.to_string(index=False))\n",
    "print(\"\\n\")\n",
    "\n",
    "# Print the survival analysis grouped by embarkation town\n",
    "print(\"Survival Analysis by Embarkation Town:\")\n",
    "print(grouped_by_embark_town.to_string(index=False))"
   ]
  },
  {
   "cell_type": "markdown",
   "metadata": {},
   "source": [
    "<div class=\"alert alert-block alert-light\">\n",
    "\n",
    "<div style=\"display: flex; justify-content: space-between;\">\n",
    "<div style=\"width: 48%; line-height: 1.5;<div style=\"width: 48%; line-height: 1.5;\">\n",
    "\n",
    "#### 2: Statistics using `value_counts()` (3 P)\n",
    "\n",
    "- Passenger Counts: Use `value_counts()` on the target column (`sex`, `pclass`, or `embark_town`) to count the number of passengers in each group. (1 P)\n",
    "\n",
    "- Survival Rates: Filter the dataset for `survived == 1`. Apply `value_counts()` on the same target column and normalize the values to calculate the survival percentages. (1 P)\n",
    "\n",
    "**Ensure that your results are identical to those from the previous task.**\n",
    "\n",
    "Report your results in a reader-friendly way of your choice. (1 P)\n",
    "\n",
    "</div>\n",
    "<div style=\"width: 48%; line-height: 1.5;<div style=\"width: 48%; line-height: 1.5;color: grey;\">\n",
    "\n",
    "#### 2: Statistik mit `value_counts()` (3 P)\n",
    "\n",
    "- Passagierzählungen: Verwenden Sie `value_counts()` für die Zielspalte (`sex`, `pclass`, oder `embark_town`), um die Anzahl der Passagiere in jeder Gruppe zu zählen. (1 P)\n",
    "\n",
    "- Überlebensraten: Filtern Sie den Datensatz nach `survived == 1`. Wenden Sie `value_counts()` auf die gleiche Zielspalte an und normalisieren Sie die Werte, um die Überlebensraten zu berechnen. (1 P)\n",
    "\n",
    "**Stellen Sie sicher, dass Ihre Ergebnisse mit denen der vorherigen Aufgabe identisch sind.**\n",
    "\n",
    "Berichten Sie Ihre Ergebnisse in einer leserfreundlichen Form Ihrer Wahl: (1 P)\n",
    "   \n",
    "</div>\n",
    "</div>"
   ]
  },
  {
   "cell_type": "code",
   "execution_count": null,
   "metadata": {},
   "outputs": [],
   "source": [
    "# Passenger counts using `value_counts()` without normalization\n",
    "\n",
    "# 1. Counts by sex\n",
    "passenger_count_by_sex = titanic_clean[\"sex\"].value_counts()\n",
    "# Survival rates by sex: filter by survived and count, then divide by total counts\n",
    "survival_rate_by_sex = (titanic_clean[titanic_clean[\"survived\"] == 1][\"sex\"].value_counts() / passenger_count_by_sex) * 100\n",
    "\n",
    "# 2. Counts by passenger class\n",
    "passenger_count_by_pclass = titanic_clean[\"pclass\"].value_counts()\n",
    "# Survival rates by passenger class\n",
    "survival_rate_by_pclass = (titanic_clean[titanic_clean[\"survived\"] == 1][\"pclass\"].value_counts() / passenger_count_by_pclass) * 100\n",
    "\n",
    "# 3. Counts by embarkation town\n",
    "passenger_count_by_embark_town = titanic_clean[\"embark_town\"].value_counts()\n",
    "# Survival rates by embarkation town\n",
    "survival_rate_by_embark_town = (titanic_clean[titanic_clean[\"survived\"] == 1][\"embark_town\"].value_counts() / passenger_count_by_embark_town) * 100\n",
    "\n",
    "# Print statements\n",
    "print(\"Passenger Counts and Survival Rates by Sex:\")\n",
    "print(passenger_count_by_sex)\n",
    "print(f\"Survival Rates (%):\\n{survival_rate_by_sex.round(2)}\\n\")\n",
    "\n",
    "print(\"Passenger Counts and Survival Rates by Passenger Class:\")\n",
    "print(passenger_count_by_pclass)\n",
    "print(f\"Survival Rates (%):\\n{survival_rate_by_pclass.round(2)}\\n\")\n",
    "\n",
    "print(\"Passenger Counts and Survival Rates by Embarkation Town:\")\n",
    "print(passenger_count_by_embark_town)\n",
    "print(f\"Survival Rates (%):\\n{survival_rate_by_embark_town.round(2)}\\n\")"
   ]
  },
  {
   "cell_type": "markdown",
   "metadata": {},
   "source": [
    "<div class=\"alert alert-block alert-light\">\n",
    "\n",
    "#### 3 (1 P)\n",
    "\n",
    "<div style=\"display: flex; justify-content: space-between;\">\n",
    "<div style=\"width: 48%; line-height: 1.5;<div style=\"width: 48%; line-height: 1.5;\">\n",
    "\n",
    "For each `pclass`, calculate (or display, with a single command) all relevant descriptive statistics for the `age` column: mean, standard deviation, minimum, median, and maximum.\n",
    "\n",
    "Get a sneak peek into our future lectures by running the plotting command. Reconcile the numbers you calculated with the displayed plot.\n",
    "\n",
    "</div>\n",
    "<div style=\"width: 48%; line-height: 1.5;<div style=\"width: 48%; line-height: 1.5;color: grey;\">\n",
    "\n",
    "Berechnen Sie für jede `pclass` alle relevanten deskriptiven Statistiken für die Spalte `age` (oder zeigen Sie sie mit einem einzigen Befehl an): Mittelwert, Standardabweichung, Minimum, Median und Maximum.\n",
    "\n",
    "Werfen Sie einen Blick auf unsere zukünftigen Vorlesungen, indem Sie den Befehl plotting ausführen. Vergleichen Sie die von Ihnen berechneten Zahlen mit dem angezeigten Diagramm.\n",
    "   \n",
    "</div>\n",
    "</div>\n",
    "\n",
    "```python\n",
    "sns.histplot(x=titanic_clean[\"age\"], hue=titanic_clean[\"pclass\"], element='step', kde=True, palette=\"viridis\")\n",
    "\n",
    "plt.show()\n",
    "```"
   ]
  },
  {
   "cell_type": "code",
   "execution_count": null,
   "metadata": {},
   "outputs": [],
   "source": [
    "titanic_clean.groupby(\"pclass\")[\"age\"].describe()"
   ]
  },
  {
   "cell_type": "code",
   "execution_count": null,
   "metadata": {},
   "outputs": [],
   "source": [
    "sns.histplot(x=titanic_clean[\"age\"], hue=titanic_clean[\"pclass\"], element='step', kde=True, palette=\"viridis\")\n",
    "\n",
    "plt.show()"
   ]
  },
  {
   "cell_type": "markdown",
   "metadata": {},
   "source": [
    "<div class=\"alert alert-block alert-light\">\n",
    "\n",
    "#### 4 (1 P)\n",
    "\n",
    "<div style=\"display: flex; justify-content: space-between;\">\n",
    "<div style=\"width: 48%; line-height: 1.5;<div style=\"width: 48%; line-height: 1.5;\">\n",
    "\n",
    "Identify the person who paid the highest fare by locating and displaying the corresponding row.\n",
    "\n",
    "</div>\n",
    "<div style=\"width: 48%; line-height: 1.5;<div style=\"width: 48%; line-height: 1.5;color: grey;\">\n",
    "\n",
    "Identifizieren Sie die Person, die den höchsten Preis bezahlt hat, indem Sie die entsprechende Zeile suchen und anzeigen.\n",
    "   \n",
    "</div>\n",
    "</div>"
   ]
  },
  {
   "cell_type": "code",
   "execution_count": null,
   "metadata": {},
   "outputs": [],
   "source": [
    "titanic_clean.loc[titanic_clean.groupby(\"pclass\")[\"fare\"].idxmax()]"
   ]
  },
  {
   "cell_type": "code",
   "execution_count": null,
   "metadata": {},
   "outputs": [],
   "source": [
    "titanic_clean.loc[titanic_clean[\"fare\"].idxmax()]"
   ]
  },
  {
   "cell_type": "code",
   "execution_count": null,
   "metadata": {},
   "outputs": [],
   "source": [
    "# Also accepted:\n",
    "\n",
    "titanic_clean[titanic_clean['fare']==titanic_clean['fare'].max()]"
   ]
  },
  {
   "cell_type": "markdown",
   "metadata": {},
   "source": [
    "<div class=\"alert alert-block alert-light\">\n",
    "\n",
    "#### 5 (1 P)\n",
    "\n",
    "<div style=\"display: flex; justify-content: space-between;\">\n",
    "<div style=\"width: 48%; line-height: 1.5;<div style=\"width: 48%; line-height: 1.5;\">\n",
    "\n",
    "Identify passengers who paid above the median fare and group them by `embark_town` to find the most common port of embarkation for these passengers.\n",
    "\n",
    "*+1 bonus point if you can perform this calculation in a single line of code using method chaining.*\n",
    "\n",
    "</div>\n",
    "<div style=\"width: 48%; line-height: 1.5;<div style=\"width: 48%; line-height: 1.5;color: grey;\">\n",
    "\n",
    "Identifizieren Sie die Passagiere, die mehr als den Medianpreis bezahlt haben, und gruppieren Sie sie nach `embark_town`, um den häufigsten Einschiffungshafen für diese Passagiere zu finden.\n",
    "\n",
    "*+1 Bonuspunkt, wenn Sie diese Berechnung in einer einzigen Codezeile mit Methodenverkettung durchführen können.*\n",
    "   \n",
    "</div>\n",
    "</div>"
   ]
  },
  {
   "cell_type": "code",
   "execution_count": null,
   "metadata": {},
   "outputs": [],
   "source": [
    "titanic_clean[titanic_clean['fare'] > titanic_clean['fare'].median()].groupby('embark_town').size().idxmax()"
   ]
  },
  {
   "cell_type": "code",
   "execution_count": null,
   "metadata": {},
   "outputs": [],
   "source": [
    "# Step 1: Calculate the median fare\n",
    "median_fare = titanic_clean['fare'].median()\n",
    "\n",
    "# Step 2: Filter passengers who paid above the median fare\n",
    "above_median_fare = titanic_clean[titanic_clean['fare'] > median_fare]\n",
    "\n",
    "# Step 3: Group by 'embarked' and count\n",
    "port_counts = above_median_fare.groupby('embark_town').size()\n",
    "\n",
    "# Step 4: Find the most common port of embarkation\n",
    "most_common_port = port_counts.idxmax()\n",
    "\n",
    "print(\"The most common port of embarkation for passengers who paid above the median fare is:\", most_common_port)"
   ]
  },
  {
   "cell_type": "markdown",
   "metadata": {},
   "source": [
    "<div class=\"alert alert-block alert-light\">\n",
    "\n",
    "#### 6 (1 P)\n",
    "\n",
    "<div style=\"display: flex; justify-content: space-between;\">\n",
    "<div style=\"width: 48%; line-height: 1.5;<div style=\"width: 48%; line-height: 1.5;\">\n",
    "\n",
    "The Titanic dataset is not the best showcase for simple correlation analysis, as it contains many categorical columns and numerical variables that may not have strong linear or monotonic relationships. \n",
    "\n",
    "Nevertheless, calculate the correlation matrix for numerical columns in the Titanic dataset using both Pearson and Spearman methods. Identify significant correlations where $|r| > 0.5$. Compare the results to see if they differ between Pearson and Spearman.\n",
    "\n",
    "</div>\n",
    "<div style=\"width: 48%; line-height: 1.5;<div style=\"width: 48%; line-height: 1.5;color: grey;\">\n",
    "\n",
    "Der Titanic-Datensatz ist nicht das beste Beispiel für eine einfache Korrelationsanalyse, da er viele kategoriale Spalten und numerische Variablen enthält, die möglicherweise keine starken linearen oder monotonen Beziehungen aufweisen.\n",
    "\n",
    "Berechnen Sie dennoch die Korrelationsmatrix für numerische Spalten im Titanic-Datensatz, indem Sie sowohl die Pearson-Methode als auch die Spearman-Methode verwenden. Ermitteln Sie signifikante Korrelationen, bei denen $|r| > 0.5$ ist. Vergleichen Sie die Ergebnisse, um zu sehen, ob sie sich zwischen Pearson und Spearman unterscheiden.\n",
    "   \n",
    "</div>\n",
    "</div>"
   ]
  },
  {
   "cell_type": "code",
   "execution_count": null,
   "metadata": {},
   "outputs": [],
   "source": [
    "titanic_clean.corr(numeric_only=True).style.background_gradient(cmap=\"bwr\", vmin=-1, vmax=1).format(\"{:.2f}\")"
   ]
  },
  {
   "cell_type": "code",
   "execution_count": null,
   "metadata": {},
   "outputs": [],
   "source": [
    "titanic_clean.corr(method='spearman', numeric_only=True).style.background_gradient(cmap=\"bwr\", vmin=-1, vmax=1).format(\"{:.2f}\")"
   ]
  },
  {
   "cell_type": "code",
   "execution_count": null,
   "metadata": {},
   "outputs": [],
   "source": [
    "correlations = titanic_clean.corr(method='spearman', numeric_only=True)\n",
    "\n",
    "correlations[abs(correlations) > 0.5].round(2)"
   ]
  },
  {
   "cell_type": "markdown",
   "metadata": {},
   "source": [
    "---\n",
    "---\n",
    "\n",
    "# Feedback from instructor"
   ]
  },
  {
   "cell_type": "code",
   "execution_count": null,
   "metadata": {},
   "outputs": [],
   "source": [
    "# Adjust task points and feedback\n",
    "tasks = [\n",
    "    {\"task\": 1, \"points\": 3, \"feedback\": \"\"},\n",
    "    {\"task\": 2, \"points\": 3, \"feedback\": \"\"},\n",
    "    {\"task\": 3, \"points\": 1, \"feedback\": \"\"},\n",
    "    {\"task\": 4, \"points\": 1, \"feedback\": \"\"},\n",
    "    {\"task\": 5, \"points\": 1+1, \"feedback\": \"\"},\n",
    "    {\"task\": 6, \"points\": 1, \"feedback\": \"\"},\n",
    "]\n",
    "\n",
    "# Print task details\n",
    "for task in tasks:\n",
    "    print(f\"Task {task['task']:>2} | Points: {task['points']:<2} | {task['feedback']}\\n\")\n",
    "\n",
    "# Calculate and print total points\n",
    "total_points = sum(task['points'] for task in tasks)\n",
    "print(f\"Total Points: {total_points}\")"
   ]
  }
 ],
 "metadata": {
  "kernelspec": {
   "display_name": "py24",
   "language": "python",
   "name": "python3"
  },
  "language_info": {
   "codemirror_mode": {
    "name": "ipython",
    "version": 3
   },
   "file_extension": ".py",
   "mimetype": "text/x-python",
   "name": "python",
   "nbconvert_exporter": "python",
   "pygments_lexer": "ipython3"
  }
 },
 "nbformat": 4,
 "nbformat_minor": 2
}
