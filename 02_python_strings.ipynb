{
 "cells": [
  {
   "cell_type": "code",
   "execution_count": 1,
   "metadata": {},
   "outputs": [],
   "source": [
    "from IPython.display import display, clear_output, HTML\n",
    "import time\n",
    "\n",
    "def countdown_timer(minutes):\n",
    "    total_seconds = minutes * 60\n",
    "    for seconds in range(total_seconds, 0, -1):\n",
    "        mins, secs = divmod(seconds, 60)\n",
    "        time_str = f\"{mins:02}'{secs:02}''\"\n",
    "        clear_output(wait=True)\n",
    "        # HTML with styling\n",
    "        display(HTML(f'<div style=\"font-size: 24px; color: blue; font-weight: bold;\">Time remaining: {time_str}</div>'))\n",
    "        time.sleep(1)\n",
    "    clear_output(wait=True)\n",
    "    # Final message with different styling\n",
    "    display(HTML('<div style=\"font-size: 24px; color: green; font-weight: bold;\">Time\\'s up!</div>'))"
   ]
  },
  {
   "cell_type": "markdown",
   "metadata": {},
   "source": [
    "<div style=\"text-align: center;\">\n",
    "    <img src=\"https://upload.wikimedia.org/wikipedia/commons/thumb/f/f8/Python_logo_and_wordmark.svg/972px-Python_logo_and_wordmark.svg.png?20210516005643\" alt=\"The Python logo\" style=\"width: 60%; max-width: 500px;\">\n",
    "</div>"
   ]
  },
  {
   "cell_type": "markdown",
   "metadata": {},
   "source": [
    "<div class=\"alert alert-block alert-light\">\n",
    "\n",
    "<div style=\"display: flex; justify-content: space-between;\">\n",
    "<div style=\"width: 48%; line-height: 1.5;\">\n",
    "\n",
    "#### Exercise\n",
    " Insert a `Markdown` cell containing a heading, e.g., \"Strings\", and some text, e.g., \"In this lecture we are going to learn about textual data\".\n",
    "</div>\n",
    "<div style=\"width: 48%; line-height: 1.5;color: grey;\">\n",
    "\n",
    "#### Übung\n",
    "Fügen Sie eine `Markdown`-Zelle ein, die eine Überschrift enthält, z.B. \"Strings\", und etwas Text, z.B. \"In dieser Vorlesung werden wir etwas über Textdaten lernen\".\n",
    "</div>\n",
    "</div>"
   ]
  },
  {
   "cell_type": "code",
   "execution_count": null,
   "metadata": {},
   "outputs": [],
   "source": [
    "#countdown\n",
    "countdown_timer(2)"
   ]
  },
  {
   "cell_type": "markdown",
   "metadata": {},
   "source": [
    "| Data Type      | Command Example         |    |\n",
    "|---------------|--------------------------|----|\n",
    "| `int`         | `type(5)`                |&check;|\n",
    "| `float`       | `type(5.0)`              |&check;|\n",
    "| `complex`     | `type(5 + 3j)`           |&check;|\n",
    "| `bool`        | `type(True)`             |&check;|\n",
    "| `module`      | `type(math)`             |&check;|\n",
    "| `str`         | `type(\"hello\")`          |&cross;|\n",
    "| `list`        | `type([1, 2, 3])`        |    |\n",
    "| `tuple`       | `type((1, 2, 3))`        |    |\n",
    "| `set`         | `type({1, 2, 3})`        |    |\n",
    "| `dict`        | `type({\"key\": \"value\"})` |    |\n",
    "| `range`       | `type(range(5))`         |    |\n",
    "| `function`    | `type(factorial)`        |    |\n",
    "| `NoneType`    | `type(None)`             |    |"
   ]
  },
  {
   "cell_type": "markdown",
   "metadata": {},
   "source": [
    "<div class=\"alert alert-block alert-warning\">\n",
    "\n",
    "<div style=\"display: flex; justify-content: space-between;\">\n",
    "<div style=\"width: 48%; line-height: 1.5;\">\n",
    "\n",
    "# Strings \n",
    "</div>\n",
    "<div style=\"width: 48%; line-height: 1.3;color: grey;\">\n",
    "\n",
    "# Strings (Text)\n",
    "</div>\n",
    "</div>"
   ]
  },
  {
   "cell_type": "markdown",
   "metadata": {},
   "source": [
    "<div style=\"display: flex; justify-content: space-between;\">\n",
    "<div style=\"width: 48%; line-height: 1.5;\">\n",
    "\n",
    "The `string` data type is a collection of characters (like alphabet letters, punctuation, numerical digits, or symbols) contained in quotation marks. \n",
    "\n",
    "Strings are commonly used to represent text. \n",
    "\n",
    "</div>\n",
    "<div style=\"width: 48%; line-height: 1.5;color: grey;\">\n",
    "\n",
    "Der Datentyp `string` ist eine Sammlung von Zeichen (z. B. Buchstaben des Alphabets, Interpunktionszeichen, Ziffern oder Symbole), die in Anführungszeichen stehen. \n",
    "\n",
    "Strings werden in der Regel zur Darstellung von Text verwendet. \n",
    "\n",
    "</div>\n",
    "</div>"
   ]
  },
  {
   "cell_type": "markdown",
   "metadata": {},
   "source": [
    "<div style=\"display: flex; justify-content: space-between;\">\n",
    "<div style=\"width: 48%; line-height: 1.5;\">\n",
    "\n",
    "#### Why do we need strings?\n",
    "\n",
    "1. Reading and writing data files: Strings are essential for specifying file paths, formats, and content when handling data.\n",
    "\n",
    "2. Manipulating textual data: Text often needs to be analyzed or cleaned in datasets. Inconsistent inputs (e.g., varying spaces, upper/lower case) are common, and string processing ensures consistency.\n",
    "\n",
    "3. Labeling plots and figures: Strings are used for axis labels, titles, and legends, making data visualizations clear and informative.\n",
    "\n",
    "4. Printing summaries: Strings help generate readable summaries of results, allowing for easy interpretation of data.\n",
    "\n",
    "</div>\n",
    "<div style=\"width: 48%; line-height: 1.3;color: grey;\">\n",
    "\n",
    "#### Warum brauchen wir Strings?\n",
    "\n",
    "1. Lesen und Schreiben von Datendateien: Zeichenketten sind für die Angabe von Dateipfaden, -formaten und -inhalten beim Umgang mit Daten unerlässlich.\n",
    "\n",
    "2. Manipulation von Textdaten: Text muss in Datensätzen oft analysiert oder bereinigt werden. Inkonsistente Eingaben (z. B. unterschiedliche Leerzeichen, Groß-/Kleinschreibung) sind häufig, und die Verarbeitung von Strings gewährleistet die Konsistenz.\n",
    "\n",
    "3. Beschriftung von Diagrammen und Abbildungen: Strings werden für Achsenbeschriftungen, Titel und Legenden verwendet, um Datenvisualisierungen klar und informativ zu gestalten.\n",
    "\n",
    "4. Zusammenfassungen drucken: Mit Hilfe von Strings lassen sich lesbare Zusammenfassungen der Ergebnisse erstellen, die eine einfache Interpretation der Daten ermöglichen.\n",
    "\n",
    "</div>\n",
    "</div>"
   ]
  },
  {
   "cell_type": "code",
   "execution_count": 94,
   "metadata": {},
   "outputs": [
    {
     "data": {
      "image/png": "[encoded data removed]",
      "text/plain": [
       "<Figure size 450x450 with 1 Axes>"
      ]
     },
     "metadata": {},
     "output_type": "display_data"
    },
    {
     "name": "stdout",
     "output_type": "stream",
     "text": [
      "Parameter    Value   \n",
      "--------------------\n",
      "    a        2.66   \n",
      "    b        5.79   \n",
      "    c       -8.31   \n",
      "--------------------\n",
      "    R²      0.9931  \n"
     ]
    }
   ],
   "source": [
    "# You are not supposed to understand this code, yet. It is here for your convenience/curiosity.\n",
    "\n",
    "plt.rcParams.update({\n",
    "    \"text.usetex\": True,\n",
    "    \"font.family\": \"sans-serif\",\n",
    "    \"font.sans-serif\": [\"Computer Modern Sans Serif\"]})\n",
    "plt.rcParams['text.latex.preamble'] = r'\\usepackage{sansmath} \\sansmath'\n",
    "\n",
    "import numpy as np\n",
    "import seaborn as sns\n",
    "import matplotlib.pyplot as plt\n",
    "from scipy.optimize import curve_fit\n",
    "from sklearn.metrics import r2_score\n",
    "\n",
    "# Generate example data\n",
    "x_data = np.linspace(0, 10, 50)\n",
    "y_data = 3 * x_data**2 + 2 * x_data + 1 + np.random.normal(0, 10, size=x_data.shape)\n",
    "\n",
    "# Define quadratic function and fit\n",
    "def quadratic(x, a, b, c): return a * x**2 + b * x + c\n",
    "params, _ = curve_fit(quadratic, x_data, y_data)\n",
    "y_fit = quadratic(x_data, *params)\n",
    "r_squared = r2_score(y_data, y_fit)\n",
    "\n",
    "# Extract fitted parameters\n",
    "a, b, c = params\n",
    "\n",
    "# Plot using Seaborn with formatted label for the fitted curve\n",
    "plt.figure(figsize=(4.5, 4.5))\n",
    "sns.scatterplot(x=x_data, y=y_data, color='blue', label='Data')\n",
    "sns.lineplot(x=x_data, y=y_fit, color='red',\n",
    "             label=rf'Fitted Curve: $\\mathrm{{y = {a: .2f}x^2 + {b: .2f}x + {c: .2f}}}$')\n",
    "plt.xlabel(r'Time (s)'), plt.ylabel(r'Displacement (m)')\n",
    "plt.legend(), plt.grid(True), plt.show()\n",
    "\n",
    "# Print results in a formatted table\n",
    "print(f\"{'Parameter':^10} {'Value':^10}\\n{'-'*20}\")\n",
    "print(f\"{'a':^10}{a:^10.2f}\")\n",
    "print(f\"{'b':^10}{b:^10.2f}\")\n",
    "print(f\"{'c':^10}{c:^10.2f}\")\n",
    "print(f\"{'-'*20}\")\n",
    "print(f\"{'R²':^10}{r_squared:^10.4f}\")"
   ]
  },
  {
   "cell_type": "markdown",
   "metadata": {},
   "source": [
    "<div style=\"display: flex; justify-content: space-between;\">\n",
    "<div style=\"width: 48%; line-height: 1.5;\">\n",
    "\n",
    "## Creating strings \n",
    "\n",
    "To create a string, enclose the text in either single or double quotes: \n",
    "</div>\n",
    "<div style=\"width: 48%; line-height: 1.5;color: grey;\">\n",
    "\n",
    "## Zeichenketten erstellen\n",
    "\n",
    "Um eine Zeichenkette zu erstellen, schließen Sie den Text entweder in einfache oder doppelte Anführungszeichen ein:\n",
    "</div>\n",
    "</div>"
   ]
  },
  {
   "cell_type": "code",
   "execution_count": null,
   "metadata": {
    "ExecuteTime": {
     "end_time": "2024-10-12T15:29:56.436052Z",
     "start_time": "2024-10-12T15:29:56.425419Z"
    }
   },
   "outputs": [],
   "source": [
    "#Using strings in Python - single line text\n",
    "\n",
    "#Text can be enclosed in single quotes\n",
    "print('Hello, World!')\n",
    "\n",
    "#or double quotes\n",
    "print(\"Hello, World!\")"
   ]
  },
  {
   "cell_type": "markdown",
   "metadata": {},
   "source": [
    "<div style=\"display: flex; justify-content: space-between;\">\n",
    "<div style=\"width: 48%; line-height: 1.5;\">\n",
    "\n",
    "What happens if your string contains quotation marks? Simply use the other type of quotes to enclose the string:\n",
    "\n",
    "</div>\n",
    "<div style=\"width: 48%; line-height: 1.5;color: grey;\">\n",
    "\n",
    "Was passiert, wenn Ihre Zeichenkette Anführungszeichen enthält? Verwenden Sie einfach die andere Art von Anführungszeichen, um die Zeichenkette einzuschließen:\n",
    "</div>\n",
    "</div>"
   ]
  },
  {
   "cell_type": "code",
   "execution_count": 37,
   "metadata": {},
   "outputs": [
    {
     "name": "stdout",
     "output_type": "stream",
     "text": [
      "That's all, folks!\n"
     ]
    }
   ],
   "source": [
    "# Use double quotes to avoid confusion with the apostrophe\n",
    "\n",
    "print(\"That's all, folks!\")"
   ]
  },
  {
   "cell_type": "code",
   "execution_count": 38,
   "metadata": {},
   "outputs": [
    {
     "name": "stdout",
     "output_type": "stream",
     "text": [
      "Quoth the Raven \"Nevermore.\"\n"
     ]
    }
   ],
   "source": [
    "# Use single quotes to avoid confusion with quotation marks\n",
    "\n",
    "print('Quoth the Raven \"Nevermore.\"')"
   ]
  },
  {
   "cell_type": "markdown",
   "metadata": {},
   "source": [
    "<div style=\"display: flex; justify-content: space-between;\">\n",
    "<div style=\"width: 48%; line-height: 1.5;\">\n",
    " Strings can be assigned to variables, as with numbers: \n",
    "</div>\n",
    "<div style=\"width: 48%; line-height: 1.5;color: grey;\">\n",
    "Strings können, wie auch Zahlen, Variablen zugeordnet werden: \n",
    "</div>\n",
    "</div>"
   ]
  },
  {
   "cell_type": "code",
   "execution_count": 2,
   "metadata": {
    "ExecuteTime": {
     "end_time": "2024-10-12T15:09:40.792009Z",
     "start_time": "2024-10-12T15:09:40.782059Z"
    }
   },
   "outputs": [
    {
     "name": "stdout",
     "output_type": "stream",
     "text": [
      "chocolate\n",
      "<class 'str'>\n"
     ]
    }
   ],
   "source": [
    "favorite_food = 'chocolate'\n",
    "\n",
    "print(favorite_food)\n",
    "print(type(favorite_food))"
   ]
  },
  {
   "cell_type": "markdown",
   "metadata": {},
   "source": [
    "<div style=\"display: flex; justify-content: space-between;\">\n",
    "<div style=\"width: 48%; line-height: 1.5;\">\n",
    "\n",
    " You can get the length of a string with `len()`. \n",
    " \n",
    " `Hello, World!` has length 13, because it has 13 characters, including the space, comma, and exclamation mark. \n",
    " \n",
    " Note that the quotation marks are not included when calculating the length. \n",
    "</div>\n",
    "<div style=\"width: 48%; line-height: 1.5;color: grey;\">\n",
    "\n",
    "Sie können die Länge einer Zeichenkette mit `len()` ermitteln. \n",
    "\n",
    "`Hello, World!` hat die Länge 13, weil sie 13 Zeichen hat, einschließlich Leerzeichen, Komma und Ausrufezeichen. \n",
    "\n",
    "Die Anführungszeichen werden bei der Berechnung der Länge nicht mitgezählt.\n",
    "</div>\n",
    "</div>"
   ]
  },
  {
   "cell_type": "code",
   "execution_count": null,
   "metadata": {
    "ExecuteTime": {
     "end_time": "2024-10-12T15:31:21.428830Z",
     "start_time": "2024-10-12T15:31:21.414214Z"
    }
   },
   "outputs": [],
   "source": [
    "len('Hello, World!')"
   ]
  },
  {
   "cell_type": "markdown",
   "metadata": {},
   "source": [
    "<div style=\"display: flex; justify-content: space-between;\">\n",
    "<div style=\"width: 48%; line-height: 1.5;\">\n",
    " If you put a number in quotation marks, it has a string data type:\n",
    "</div>\n",
    "<div style=\"width: 48%; line-height: 1.3;color: grey;\">\n",
    "Wenn Sie eine Zahl in Anführungszeichen setzen, hat sie einen String-Datentyp:\n",
    "</div>\n",
    "</div>"
   ]
  },
  {
   "cell_type": "code",
   "execution_count": 6,
   "metadata": {
    "ExecuteTime": {
     "end_time": "2024-10-12T15:10:04.416462Z",
     "start_time": "2024-10-12T15:10:04.395737Z"
    }
   },
   "outputs": [
    {
     "data": {
      "text/plain": [
       "float"
      ]
     },
     "execution_count": 6,
     "metadata": {},
     "output_type": "execute_result"
    }
   ],
   "source": [
    "# without quotation marks\n",
    "\n",
    "a = 1.1231\n",
    "\n",
    "type(a)"
   ]
  },
  {
   "cell_type": "code",
   "execution_count": 7,
   "metadata": {
    "ExecuteTime": {
     "end_time": "2024-10-12T15:10:05.931575Z",
     "start_time": "2024-10-12T15:10:05.912716Z"
    }
   },
   "outputs": [
    {
     "data": {
      "text/plain": [
       "str"
      ]
     },
     "execution_count": 7,
     "metadata": {},
     "output_type": "execute_result"
    }
   ],
   "source": [
    "# with quotation marks\n",
    "\n",
    "a = \"1.1231\"\n",
    "\n",
    "type(a)"
   ]
  },
  {
   "cell_type": "markdown",
   "metadata": {},
   "source": [
    "<div style=\"display: flex; justify-content: space-between;\">\n",
    "<div style=\"width: 48%; line-height: 1.5;\">\n",
    "\n",
    " Just like you can add two numbers, you can also add two strings. \n",
    " \n",
    " It results in a longer string that combines the two original strings by *concatenating* them.\n",
    "\n",
    " Strings can be concatenated using either the `+` operator or by placing them next to each other on the same line:\n",
    "\n",
    "</div>\n",
    "<div style=\"width: 48%; line-height: 1.3;color: grey;\">\n",
    "\n",
    "Genauso wie Sie zwei Zahlen addieren können, können Sie auch zwei Strings addieren. \n",
    "\n",
    "Das Ergebnis ist eine längere Zeichenkette, die die beiden ursprünglichen Strings durch Verkettung kombiniert.\n",
    "\n",
    "Zeichenketten können entweder mit dem Operator `+` oder durch Aneinanderreihen in derselben Zeile verkettet werden:\n",
    "\n",
    "</div>\n",
    "</div>"
   ]
  },
  {
   "cell_type": "code",
   "execution_count": null,
   "metadata": {
    "ExecuteTime": {
     "end_time": "2024-10-12T15:10:21.420445Z",
     "start_time": "2024-10-12T15:10:21.407876Z"
    }
   },
   "outputs": [],
   "source": [
    "\"abc\" + \"def\"   # Strings can be concatenated with the + operator"
   ]
  },
  {
   "cell_type": "code",
   "execution_count": null,
   "metadata": {
    "ExecuteTime": {
     "end_time": "2024-10-12T15:10:24.234361Z",
     "start_time": "2024-10-12T15:10:24.221806Z"
    }
   },
   "outputs": [],
   "source": [
    "\"abc\" \"def\"     # Strings between quotes defined next to each other are automatically concatenated (no + required)"
   ]
  },
  {
   "cell_type": "code",
   "execution_count": null,
   "metadata": {
    "ExecuteTime": {
     "end_time": "2024-10-12T15:10:26.013823Z",
     "start_time": "2024-10-12T15:10:25.997140Z"
    }
   },
   "outputs": [],
   "source": [
    "\"abc\" \"def\" == \"abc\" + \"def\""
   ]
  },
  {
   "cell_type": "markdown",
   "metadata": {},
   "source": [
    "<div style=\"display: flex; justify-content: space-between;\">\n",
    "<div style=\"width: 48%; line-height: 1.5;\">\n",
    "\n",
    " It is not possible to do subtraction or division with two strings. \n",
    "\n",
    " You also cannot multiply two strings, but you can multiply a string by an integer. \n",
    " \n",
    " This again results in a string that is just the original string concatenated with itself a specified number of times.\n",
    "</div>\n",
    "<div style=\"width: 48%; line-height: 1.3;color: grey;\">\n",
    "\n",
    "Es ist nicht möglich, eine Subtraktion oder Division mit zwei Strings durchzuführen. \n",
    "\n",
    "Sie können auch nicht zwei Strings multiplizieren, aber Sie können eine Zeichenkette mit einer ganzen Zahl multiplizieren. \n",
    "\n",
    "Das Ergebnis ist wiederum eine Zeichenkette, die nur aus der ursprünglichen Zeichenkette besteht, die eine bestimmte Anzahl von Malen mit sich selbst verkettet wird.\n",
    "</div>\n",
    "</div>"
   ]
  },
  {
   "cell_type": "code",
   "execution_count": 42,
   "metadata": {},
   "outputs": [
    {
     "data": {
      "text/plain": [
       "'ABC ABC ABC '"
      ]
     },
     "execution_count": 42,
     "metadata": {},
     "output_type": "execute_result"
    }
   ],
   "source": [
    "# In an FCC (face-centered cubic) lattice, layers are stacked in a...\n",
    "\n",
    "\"ABC \"*3     # ...pattern"
   ]
  },
  {
   "cell_type": "markdown",
   "metadata": {},
   "source": [
    "<div class=\"alert alert-block alert-light\">\n",
    "\n",
    "<div style=\"display: flex; justify-content: space-between;\">\n",
    "<div style=\"width: 48%; line-height: 1.5;\">\n",
    "\n",
    "# Exercises\n",
    "</div>\n",
    "<div style=\"width: 4%;\">\n",
    "</div>\n",
    "<div style=\"width: 48%; line-height: 1.3;color: grey;\">\n",
    "\n",
    "# Übungen\n",
    "</div>\n",
    "</div>"
   ]
  },
  {
   "cell_type": "markdown",
   "metadata": {},
   "source": [
    "<div class=\"alert alert-block alert-light\">\n",
    "\n",
    "<div style=\"display: flex; justify-content: space-between;\">\n",
    "<div style=\"width: 48%; line-height: 1.5;\">\n",
    "\n",
    "####   1 \n",
    "\n",
    "Gertrude Stein's famous line, \"Rose is a rose is a rose is a rose\", comes from her 1913 poem *Sacred Emily*.\n",
    "\n",
    "Recreate this verse using string concatenation and multiplication.\n",
    "\n",
    "</div>\n",
    "\n",
    "<div style=\"width: 4%;\">\n",
    "</div>\n",
    "\n",
    "<div style=\"width: 48%; line-height: 1.5;color: grey;\">\n",
    "\n",
    "####   1 \n",
    "\n",
    "Gertrude Steins berühmte Zeile \"Rose ist eine Rose ist eine Rose ist eine Rose\" stammt aus ihrem Gedicht *Sacred Emily* von 1913.\n",
    "\n",
    "Stellen Sie diesen Vers mit Hilfe von String-Verkettung und Multiplikation wieder her.\n",
    "\n",
    "</div>\n",
    "</div>"
   ]
  },
  {
   "cell_type": "code",
   "execution_count": 3,
   "metadata": {
    "ExecuteTime": {
     "end_time": "2024-10-12T15:10:36.876590Z",
     "start_time": "2024-10-12T15:10:36.854967Z"
    }
   },
   "outputs": [
    {
     "data": {
      "text/plain": [
       "'Rose is a rose is a rose is a rose '"
      ]
     },
     "execution_count": 3,
     "metadata": {},
     "output_type": "execute_result"
    }
   ],
   "source": [
    "\"Rose \" + \"is a rose \" * 3    # The sentence \"Rose is a rose is a rose is a rose\" was written by Gertrude Stein as part of the 1913 poem \"Sacred Emily\"."
   ]
  },
  {
   "cell_type": "markdown",
   "metadata": {},
   "source": [
    "<div class=\"alert alert-block alert-light\">\n",
    "\n",
    "<div style=\"display: flex; justify-content: space-between;\">\n",
    "<div style=\"width: 48%; line-height: 1.5;\">\n",
    "\n",
    "####   2 \n",
    "\n",
    "The molecular formula of dodecane is: $\\mathrm{CH_3CH_2CH_2CH_2CH_2CH_2CH_2CH_2CH_2CH_2CH_2CH_3}$.\n",
    "\n",
    "Recreate this formula using string concatenation and multiplication, ignoring the formatting.\n",
    "\n",
    "</div>\n",
    "\n",
    "<div style=\"width: 4%;\">\n",
    "</div>\n",
    "\n",
    "<div style=\"width: 48%; line-height: 1.5;color: grey;\">\n",
    "\n",
    "####   2 \n",
    "\n",
    "Die Summenformel von Dodekan lautet: $\\mathrm{CH_3CH_2CH_2CH_2CH_2CH_2CH_2CH_2CH_2CH_2CH_2CH_3}$.\n",
    "\n",
    "Erstellen Sie diese Formel mit Hilfe von String-Verkettung und Multiplikation, ohne die Formatierung zu beachten.\n",
    "\n",
    "</div>\n",
    "</div>"
   ]
  },
  {
   "cell_type": "markdown",
   "metadata": {},
   "source": [
    "<div class=\"alert alert-block alert-light\">\n",
    "\n",
    "<div style=\"display: flex; justify-content: space-between;\">\n",
    "<div style=\"width: 48%; line-height: 1.5;\">\n",
    "\n",
    "####   3 \n",
    "\n",
    "Summon Beetlejuice by saying his name three times.\n",
    "\n",
    "</div>\n",
    "\n",
    "<div style=\"width: 4%;\">\n",
    "</div>\n",
    "\n",
    "<div style=\"width: 48%; line-height: 1.5;color: grey;\">\n",
    "\n",
    "####   3 \n",
    "\n",
    "Rufen Sie Beetlejuice herbei, indem Sie seinen Namen dreimal sagen.\n",
    "\n",
    "</div>\n",
    "</div>"
   ]
  },
  {
   "cell_type": "code",
   "execution_count": null,
   "metadata": {},
   "outputs": [],
   "source": [
    "countdown_timer(10)"
   ]
  },
  {
   "cell_type": "markdown",
   "metadata": {},
   "source": [
    "<details>\n",
    "  <summary>See if it worked</summary>\n",
    "\n",
    "<div style=\"text-align: center;\">\n",
    "    <img src=\"https://static.wikia.nocookie.net/villains/images/3/33/Beetlejuice_BJBJ_poster.jpeg/revision/latest?cb=20240526162038\"style=\"width: 60%; max-width: 300px;\">\n",
    "</div>\n",
    "\n",
    "</details>"
   ]
  },
  {
   "cell_type": "markdown",
   "metadata": {},
   "source": [
    "<div style=\"display: flex; justify-content: space-between;\">\n",
    "<div style=\"width: 48%; line-height: 1.5;\">\n",
    "\n",
    "## Indexing and Slicing \n",
    "\n",
    "*Keep this terminology and syntax in mind, as we will encounter it frequently moving forward.*\n",
    "\n",
    "A string is an *ordered, immutable* sequence of characters.\n",
    "\n",
    "\"Immutable\" means once a string is created, it cannot be changed. Any modification creates a new string rather than altering the original one.\n",
    "\n",
    "\"Ordered\" means the characters in a string have a specific sequence, and you can access them using *indices*.\n",
    "\n",
    "</div>\n",
    "<div style=\"width: 48%; line-height: 1.5;color: grey;\">\n",
    "\n",
    "## Indexierung und Slicing \n",
    "\n",
    "*Behalten Sie diese Terminologie und Syntax im Gedächtnis, da wir ihr in Zukunft häufig begegnen werden.*\n",
    "\n",
    "Eine Zeichenkette ist eine *geordnete, unveränderliche* Folge von Zeichen.\n",
    "\n",
    "\"Unveränderlich\" bedeutet, dass eine einmal erstellte Zeichenfolge nicht mehr verändert werden kann. Jede Änderung erzeugt eine neue Zeichenfolge, anstatt die ursprüngliche zu verändern.\n",
    "\n",
    "\"Geordnet\" bedeutet, dass die Zeichen in einer Zeichenkette eine bestimmte Reihenfolge haben und dass man mit *Indizes* auf sie zugreifen kann.\n",
    "\n",
    "\n",
    "</div>\n",
    "</div>"
   ]
  },
  {
   "cell_type": "markdown",
   "metadata": {},
   "source": [
    "<div style=\"display: flex; justify-content: space-between;\">\n",
    "<div style=\"width: 48%; line-height: 1.5;\">\n",
    "\n",
    "### Indexing\n",
    "\n",
    "Individual characters can be accessed using the indexing notation `string[i]`, where the index `i` is the position of the character in the string, **starting at $0$**. \n",
    "\n",
    "A nonnegative index counts forward fromt the start of the string.\n",
    "\n",
    "There is a handy notation that allows you to access characters counting backward from the end of the string: in this case, a negative index, starting at $-1$ is used.\n",
    "\n",
    "</div>\n",
    "<div style=\"width: 48%; line-height: 1.5;color: grey;\">\n",
    "\n",
    "### Indexierung\n",
    "\n",
    "Auf einzelne Zeichen kann mit der Indizierungsnotation `string[i]` zugegriffen werden, wobei der Index `i` die Position des Zeichens in der Zeichenkette ist, **beginnend bei $0$**. \n",
    "\n",
    "Ein nichtnegativer Index zählt vom Anfang der Zeichenkette vorwärts.\n",
    "\n",
    "Es gibt eine praktische Notation, mit der Sie auf Zeichen zugreifen können, die vom Ende der Zeichenkette aus rückwärts gezählt werden: In diesem Fall wird ein negativer Index, beginnend bei $-1$, verwendet.\n",
    "\n",
    "</div>\n",
    "</div>"
   ]
  },
  {
   "cell_type": "code",
   "execution_count": 50,
   "metadata": {},
   "outputs": [
    {
     "data": {
      "image/png": "[encoded data removed]",
      "text/plain": [
       "<Figure size 640x480 with 1 Axes>"
      ]
     },
     "metadata": {},
     "output_type": "display_data"
    }
   ],
   "source": [
    "# You are not supposed to understand this code, yet. It is here for your convenience/curiosity.\n",
    "\n",
    "import matplotlib.pyplot as plt\n",
    "import matplotlib.patches as patches\n",
    "\n",
    "plt.rcParams.update({\n",
    "    \"text.usetex\": True,\n",
    "    \"font.family\": \"sans-serif\",\n",
    "    \"font.sans-serif\": [\"Computer Modern Sans Serif\"]})\n",
    "\n",
    "# Create a figure and axis\n",
    "fig, ax = plt.subplots()\n",
    "\n",
    "# Set the limits of the plot and equal aspect ratio\n",
    "ax.set_xlim(0, 9.01)\n",
    "ax.set_ylim(0, 3)\n",
    "ax.set_aspect('equal')\n",
    "ax.axis('off')  # Remove axes for a cleaner look\n",
    "\n",
    "string = \"plutonium\"\n",
    "color = 'gainsboro'  # Define color for the rectangles\n",
    "\n",
    "# Add rectangles and text labels\n",
    "for i in range(9):  # 9 columns (characters in \"plutonium\")\n",
    "    for j in range(3):  # 3 rows\n",
    "        if j == 1:  # Middle row\n",
    "            label = string[i]\n",
    "            rect = patches.Rectangle((i, j), 1, 1, edgecolor='black', facecolor=color)\n",
    "            ax.text(i + 0.5, j + 0.5, label, color='blue', fontsize=20, ha='center', va='center')\n",
    "            ax.add_patch(rect)\n",
    "        elif j == 0:  # Bottom row\n",
    "            label = i - len(string)\n",
    "            ax.text(i + 0.5, j + 0.5, label, color='black', fontsize=16, ha='center', va='center')\n",
    "        elif j == 2:  # Top row\n",
    "            label = i\n",
    "            ax.text(i + 0.5, j + 0.5, label, color='black', fontsize=16, ha='center', va='center')\n",
    "\n",
    "# Display the plot\n",
    "plt.show()"
   ]
  },
  {
   "cell_type": "code",
   "execution_count": 14,
   "metadata": {
    "ExecuteTime": {
     "end_time": "2024-10-12T15:14:22.763096Z",
     "start_time": "2024-10-12T15:14:22.737990Z"
    }
   },
   "outputs": [],
   "source": [
    "long_string = \"Rindfleischetikettierungsüberwachungsaufgabenübertragungsgesetz\""
   ]
  },
  {
   "cell_type": "code",
   "execution_count": 15,
   "metadata": {
    "ExecuteTime": {
     "end_time": "2024-10-12T15:14:23.379132Z",
     "start_time": "2024-10-12T15:14:23.365846Z"
    }
   },
   "outputs": [
    {
     "data": {
      "text/plain": [
       "63"
      ]
     },
     "execution_count": 15,
     "metadata": {},
     "output_type": "execute_result"
    }
   ],
   "source": [
    "len(long_string)"
   ]
  },
  {
   "cell_type": "code",
   "execution_count": 16,
   "metadata": {
    "ExecuteTime": {
     "end_time": "2024-10-12T15:14:24.049734Z",
     "start_time": "2024-10-12T15:14:24.030755Z"
    }
   },
   "outputs": [
    {
     "data": {
      "text/plain": [
       "'R'"
      ]
     },
     "execution_count": 16,
     "metadata": {},
     "output_type": "execute_result"
    }
   ],
   "source": [
    "long_string[0]"
   ]
  },
  {
   "cell_type": "code",
   "execution_count": 17,
   "metadata": {
    "ExecuteTime": {
     "end_time": "2024-10-12T15:14:24.890817Z",
     "start_time": "2024-10-12T15:14:24.873561Z"
    }
   },
   "outputs": [
    {
     "data": {
      "text/plain": [
       "'g'"
      ]
     },
     "execution_count": 17,
     "metadata": {},
     "output_type": "execute_result"
    }
   ],
   "source": [
    "long_string[23]"
   ]
  },
  {
   "cell_type": "code",
   "execution_count": 18,
   "metadata": {
    "ExecuteTime": {
     "end_time": "2024-10-12T15:14:32.124743Z",
     "start_time": "2024-10-12T15:14:32.112934Z"
    }
   },
   "outputs": [
    {
     "data": {
      "text/plain": [
       "'z'"
      ]
     },
     "execution_count": 18,
     "metadata": {},
     "output_type": "execute_result"
    }
   ],
   "source": [
    "long_string[-1]"
   ]
  },
  {
   "cell_type": "markdown",
   "metadata": {},
   "source": [
    "<div style=\"display: flex; justify-content: space-between;\">\n",
    "<div style=\"width: 48%; line-height: 1.5;\">\n",
    "\n",
    "### Slicing\n",
    "\n",
    "*Slicing* a string, with the notation `string[i:j]`, produces a substring of a string between the characters at the two indexes, *including* the first (`i`) but *excluding* the second (`j`).\n",
    "\n",
    "*As math set:* $[i,j)$\n",
    "\n",
    "If the first index is omitted, $0$ is assumed; if the second is omitted, the end of the string is assumed.\n",
    "\n",
    "</div>\n",
    "<div style=\"width: 48%; line-height: 1.5;color: grey;\">\n",
    "\n",
    "### Slicing\n",
    "\n",
    "Das *Slicing* einer Zeichenkette mit der Notation `string[i:j]` erzeugt eine Teilzeichenkette zwischen den Zeichen an den beiden Indizes, *einschließlich* des ersten (`i`), aber *ausschließlich* des zweiten (`j`).\n",
    "\n",
    "*Als mathematische Menge:* = $[i,j)$\n",
    "\n",
    "Wenn der erste Index weggelassen wird, wird $0$ angenommen; wenn der zweite weggelassen wird, wird das Ende der Zeichenkette angenommen.\n",
    "\n",
    "</div>\n",
    "</div>"
   ]
  },
  {
   "cell_type": "code",
   "execution_count": 22,
   "metadata": {},
   "outputs": [
    {
     "data": {
      "text/plain": [
       "'Rind'"
      ]
     },
     "execution_count": 22,
     "metadata": {},
     "output_type": "execute_result"
    }
   ],
   "source": [
    "long_string[:4]"
   ]
  },
  {
   "cell_type": "code",
   "execution_count": 20,
   "metadata": {},
   "outputs": [
    {
     "data": {
      "text/plain": [
       "'etikettierung'"
      ]
     },
     "execution_count": 20,
     "metadata": {},
     "output_type": "execute_result"
    }
   ],
   "source": [
    "long_string[11:24]"
   ]
  },
  {
   "cell_type": "code",
   "execution_count": 24,
   "metadata": {},
   "outputs": [
    {
     "data": {
      "text/plain": [
       "'gesetz'"
      ]
     },
     "execution_count": 24,
     "metadata": {},
     "output_type": "execute_result"
    }
   ],
   "source": [
    "long_string[57:]"
   ]
  },
  {
   "cell_type": "markdown",
   "metadata": {},
   "source": [
    "<div style=\"display: flex; justify-content: space-between;\">\n",
    "<div style=\"width: 48%; line-height: 1.5;\">\n",
    "\n",
    "Strings can be sliced backward or stridden differently with a third value: `string[i:j:step]`:\n",
    "</div>\n",
    "<div style=\"width: 48%; line-height: 1.5;color: grey;\">\n",
    "\n",
    "Strings können mit einem dritten Wert rückwärts aufgeschnitten oder anders gestrippt werden: `string[i:j:step]`:\n",
    "</div>\n",
    "</div>"
   ]
  },
  {
   "cell_type": "code",
   "execution_count": 26,
   "metadata": {
    "ExecuteTime": {
     "end_time": "2024-10-12T15:14:39.426783Z",
     "start_time": "2024-10-12T15:14:39.414431Z"
    }
   },
   "outputs": [
    {
     "data": {
      "text/plain": [
       "'Rnfeshtktirnsbrahnsugbnbrrgnseez'"
      ]
     },
     "execution_count": 26,
     "metadata": {},
     "output_type": "execute_result"
    }
   ],
   "source": [
    "long_string[::2] # every other character"
   ]
  },
  {
   "cell_type": "code",
   "execution_count": 39,
   "metadata": {},
   "outputs": [
    {
     "data": {
      "text/plain": [
       "'idliceieteugüewcugafaeüetauggst'"
      ]
     },
     "execution_count": 39,
     "metadata": {},
     "output_type": "execute_result"
    }
   ],
   "source": [
    "long_string[1::2] # \"the other\" every other character"
   ]
  },
  {
   "cell_type": "code",
   "execution_count": 27,
   "metadata": {},
   "outputs": [
    {
     "data": {
      "text/plain": [
       "'zeesngrrbnbgusnharbsnritkthsefnR'"
      ]
     },
     "execution_count": 27,
     "metadata": {},
     "output_type": "execute_result"
    }
   ],
   "source": [
    "long_string[::-2] # every other character in reverse order"
   ]
  },
  {
   "cell_type": "code",
   "execution_count": null,
   "metadata": {
    "ExecuteTime": {
     "end_time": "2024-10-12T15:14:41.587124Z",
     "start_time": "2024-10-12T15:14:41.574140Z"
    }
   },
   "outputs": [],
   "source": [
    "s3 = 'stressed'\n",
    "\n",
    "s3[::-1]"
   ]
  },
  {
   "cell_type": "markdown",
   "metadata": {},
   "source": [
    "<div class=\"alert alert-block alert-light\">\n",
    "\n",
    "<div style=\"display: flex; justify-content: space-between;\">\n",
    "<div style=\"width: 48%; line-height: 1.5;\">\n",
    "\n",
    "#### Exercise\n",
    "\n",
    "Write a single-line expression to determine if a string is a palindrome (reads the same forward as backward).\n",
    "\n",
    "Test your expression on the following words:\n",
    "\n",
    "- stressed\n",
    "- racecar\n",
    "- reward\n",
    "- rotator\n",
    "\n",
    "</div>\n",
    "<div style=\"width: 48%; line-height: 1.5;color: grey;\">\n",
    "\n",
    "#### Übung\n",
    "\n",
    "Schreiben Sie einen einzeiligen Ausdruck, um festzustellen, ob eine Zeichenkette ein Palindrom ist (vorwärts und rückwärts gelesen dasselbe).\n",
    "\n",
    "Testen Sie Ihren Ausdruck anhand der folgenden Wörter:\n",
    "\n",
    "- stressed\n",
    "- racecar\n",
    "- reward\n",
    "- rotator\n",
    "\n",
    "</div>\n",
    "</div>"
   ]
  },
  {
   "cell_type": "code",
   "execution_count": null,
   "metadata": {},
   "outputs": [],
   "source": [
    "countdown_timer(10)"
   ]
  },
  {
   "cell_type": "markdown",
   "metadata": {},
   "source": [
    "<div style=\"display: flex; justify-content: space-between;\">\n",
    "<div style=\"width: 48%; line-height: 1.5;\">\n",
    "\n",
    "## Manipulating strings \n",
    "\n",
    "Python strings are *immutable*: that means they cannot be changed in place. \n",
    "\n",
    "One might be tempted to modify strings by directly assigning new values to individual characters. \n",
    "However, unlike some other data structures (which we will explore soon), this is not possible with strings.\n",
    "\n",
    "One needs to find a workaround that uses slicing and concatenation.\n",
    "</div>\n",
    "<div style=\"width: 48%; line-height: 1.3;color: grey;\">\n",
    "\n",
    "## Strings Manipulieren \n",
    "\n",
    "Python-Strings sind *unveränderlich*: das heißt, sie können nicht an Ort und Stelle verändert werden. \n",
    "\n",
    "Man könnte versucht sein, Zeichenketten zu verändern, indem man einzelnen Zeichen direkt neue Werte zuweist.\n",
    "Im Gegensatz zu einigen anderen Datenstrukturen (auf die wir gleich noch eingehen werden) ist dies bei Zeichenketten jedoch nicht möglich.\n",
    "\n",
    "Es muss eine Umgehung gefunden werden, die Slicing und Verkettung verwendet.\n",
    "</div>\n",
    "</div>"
   ]
  },
  {
   "cell_type": "code",
   "execution_count": 31,
   "metadata": {},
   "outputs": [
    {
     "ename": "TypeError",
     "evalue": "'str' object does not support item assignment",
     "output_type": "error",
     "traceback": [
      "\u001b[0;31m---------------------------------------------------------------------------\u001b[0m",
      "\u001b[0;31mTypeError\u001b[0m                                 Traceback (most recent call last)",
      "Cell \u001b[0;32mIn[31], line 3\u001b[0m\n\u001b[1;32m      1\u001b[0m wrong_string \u001b[38;5;241m=\u001b[39m \u001b[38;5;124m\"\u001b[39m\u001b[38;5;124mrindfleischetikettierungsüberwachungsaufgabenübertragungsgesetz\u001b[39m\u001b[38;5;124m\"\u001b[39m        \u001b[38;5;66;03m# a german noun should be capitalized!\u001b[39;00m\n\u001b[0;32m----> 3\u001b[0m \u001b[43mwrong_string\u001b[49m\u001b[43m[\u001b[49m\u001b[38;5;241;43m0\u001b[39;49m\u001b[43m]\u001b[49m \u001b[38;5;241m=\u001b[39m \u001b[38;5;124m\"\u001b[39m\u001b[38;5;124mR\u001b[39m\u001b[38;5;124m\"\u001b[39m\n",
      "\u001b[0;31mTypeError\u001b[0m: 'str' object does not support item assignment"
     ]
    }
   ],
   "source": [
    "wrong_string = \"rindfleischetikettierungsüberwachungsaufgabenübertragungsgesetz\"        # a german noun should be capitalized!\n",
    "\n",
    "wrong_string[0] = \"R\""
   ]
  },
  {
   "cell_type": "markdown",
   "metadata": {},
   "source": [
    "<div class=\"alert alert-block alert-light\">\n",
    "\n",
    "<div style=\"display: flex; justify-content: space-between;\">\n",
    "<div style=\"width: 48%; line-height: 1.5;\">\n",
    "\n",
    "#### Exercise\n",
    " You made a typo and wrote \"alkane\" instead of \"alkene.\" \n",
    " \n",
    " How would you use slicing and concatenation to correct the mistake? \n",
    " \n",
    " Hint: you need to create a new string by modifying the original (don't simply create the string \"alkene\"!).\n",
    "\n",
    "</div>\n",
    "<div style=\"width: 48%; line-height: 1.5;color: grey;\">\n",
    "\n",
    "#### Übung\n",
    "Sie haben einen Tippfehler gemacht und \"Alkan\" statt \"Alken\" geschrieben. \n",
    "\n",
    "Wie würden Sie den Fehler mit Hilfe von Slicing und Verkettung korrigieren? \n",
    "\n",
    "Hinweis: Sie müssen einen neuen String erstellen, indem Sie den ursprünglichen ändern (erstellen Sie nicht einfach den String \"Alken\"!).\n",
    "\n",
    "</div>\n",
    "</div>"
   ]
  },
  {
   "cell_type": "code",
   "execution_count": null,
   "metadata": {
    "ExecuteTime": {
     "end_time": "2024-10-12T15:14:52.550926Z",
     "start_time": "2024-10-12T15:14:49.669894Z"
    }
   },
   "outputs": [],
   "source": [
    "#countdown\n",
    "countdown_timer(5)"
   ]
  },
  {
   "cell_type": "markdown",
   "metadata": {},
   "source": [
    "<details>\n",
    "  <summary>Click to reveal the solution</summary>\n",
    "\n",
    "```python\n",
    "string = 'alkane'   \n",
    "\n",
    "string[:3] + 'e' + string[4:]\n",
    "```\n",
    "\n",
    "</details>"
   ]
  },
  {
   "cell_type": "markdown",
   "metadata": {},
   "source": [
    "<div style=\"display: flex; justify-content: space-between;\">\n",
    "<div style=\"width: 48%; line-height: 1.5;\">\n",
    "\n",
    "## Key Properties and Operations \n",
    "\n",
    "This is likely much more than we will need in this class, but you should be aware of these operations in case the need arises in the future.\n",
    "\n",
    "Again, strings are immutable and left unchanged by these operations: They return a new Python object.\n",
    "\n",
    "</div>\n",
    "<div style=\"width: 48%; line-height: 1.5;color: grey;\">\n",
    "\n",
    "## Hauptfunktionen und Operationen \n",
    "\n",
    "Das ist wahrscheinlich viel mehr, als wir in diesem Kurs brauchen werden, aber Sie sollten diese Operationen kennen, für den Fall, dass sie in Zukunft gebraucht werden.\n",
    "\n",
    "Auch hier gilt, dass Strings unveränderlich sind und von diesen Operationen nicht verändert werden: Sie geben ein neues Python-Objekt zurück.\n",
    "\n",
    "</div>\n",
    "</div>"
   ]
  },
  {
   "cell_type": "markdown",
   "metadata": {},
   "source": [
    "<div style=\"line-height: 1.5;\">\n",
    "\n",
    "| Operation  | Example  | Result/Ergebnis | Description  | Beschreibung  |\n",
    "|------------------------|----------------------------------------------|------------------|--------------------------------------------------|--------------------------------------------------|\n",
    "| **Concatenation**  | `'Hello ' + 'World'`  | `'Hello World'` | Combine two or more strings | Zwei oder mehr Strings zusammenfügen|\n",
    "| **Repetition** | `'Hello ' * 3`  | `'Hello Hello Hello '` | Repeat a string multiple times  | Einen String mehrmals wiederholen|\n",
    "| **Length** | `len('Hello')`  | `5` | Get the number of characters in a string| Die Anzahl der Zeichen in einem String erhalten  |\n",
    "| **Count**  | `'Hello World'.count('l')`  | `3` | Count occurrences of a substring in a string  | Vorkommen eines Substrings im String zählen |\n",
    "| **Uppercase**  | `'Hello'.upper()`  | `'HELLO'` | Convert all characters to uppercase  | Alle Zeichen in Großbuchstaben umwandeln |\n",
    "| **Lowercase**  | `'Hello'.lower()`  | `'hello'` | Convert all characters to lowercase  | Alle Zeichen in Kleinbuchstaben umwandeln|\n",
    "| **Strip**  | `'  Hello  '.strip()`  | `'Hello'` | Remove leading and trailing whitespace   | Führende und nachfolgende Leerzeichen entfernen  |\n",
    "| **Split**  | `'Hello World'.split()`  | `['Hello', 'World']` | Split a string into a list based on a delimiter | Einen String anhand eines Trennzeichens in eine Liste aufteilen |\n",
    "| **Join**   | `' '.join(['Hello', 'World'])`  | `'Hello World'` | Join a list of strings into a single string  | Eine Liste von Strings zu einem einzelnen String zusammenfügen |\n",
    "| **Find**   | `'Hello'.find('e')`  | `1` | Find the index of a substring| Den Index eines Substrings finden|\n",
    "| **Replace**| `'Hello World'.replace('World', 'Universe')`  | `'Hello Universe'` | Replace a substring with another substring  | Einen Substring durch einen anderen ersetzen |\n",
    "| **Substring**  | `'Hello World'[0:5]`  | `'Hello'` | Extract a part of the string | Einen Teil des Strings extrahieren  |\n",
    "| **f-Strings**  | `f'Hello {name}'` (where `name = 'World'`)  | `'Hello World'` | Format string using f-string syntax  | Den String mit f-Strings formatieren|\n",
    "| **Format** (old) | `'Hello {}'.format('World')`  | `'Hello World'` | Format the string with placeholders  | Den String mit Platzhaltern formatieren |\n",
    "\n",
    "</div>"
   ]
  },
  {
   "cell_type": "code",
   "execution_count": 33,
   "metadata": {},
   "outputs": [
    {
     "data": {
      "text/plain": [
       "6"
      ]
     },
     "execution_count": 33,
     "metadata": {},
     "output_type": "execute_result"
    }
   ],
   "source": [
    "'Hello World'.find('World')"
   ]
  },
  {
   "cell_type": "markdown",
   "metadata": {},
   "source": [
    "<div class=\"alert alert-block alert-light\">\n",
    "\n",
    "<div style=\"display: flex; justify-content: space-between;\">\n",
    "<div style=\"width: 48%; line-height: 1.5;\">\n",
    "\n",
    "#### Exercise\n",
    " In this task, you'll use Python to manipulate a short text about space exploration. You'll apply the string operations we've discussed to answer specific questions.\n",
    "\n",
    "`The first human to walk on the Moon was Neil Armstrong. He was part of the Apollo 11 mission. The landing occurred on July 20, 1969. 'That's one small step for man, one giant leap for mankind,' Armstrong said as he stepped onto the lunar surface.\"`\n",
    "\n",
    "-  Define a variable named `text`\n",
    "\n",
    "-  How many characters are in `text`?\n",
    "\n",
    "-  Replace \"Apollo 11 mission\" with \"Apollo 11, the historic mission\".\n",
    "\n",
    "-  Add the following sentence to the text: \" Buzz Aldrin joined him shortly after.\"\n",
    "\n",
    "-  Find the start and end indexes of the iconic quote (\"That's one small step...\") and extract it from the text. \n",
    "\n",
    "-  Print all results of the tasks above.\n",
    "\n",
    "\n",
    "</div>\n",
    "<div style=\"width: 48%; line-height: 1.5;color: grey;\">\n",
    "\n",
    "#### Übung\n",
    "In dieser Aufgabe werden Sie Python verwenden, um einen kurzen Text über die Erforschung des Weltraums zu manipulieren. Sie werden die besprochenen String-Operationen anwenden, um bestimmte Fragen zu beantworten.\n",
    "\n",
    "`The first human to walk on the Moon was Neil Armstrong. He was part of the Apollo 11 mission. The landing occurred on July 20, 1969. 'That's one small step for man, one giant leap for mankind,' Armstrong said as he stepped onto the lunar surface.`\n",
    "\n",
    "-  Definieren Sie eine Variable namens `text`.\n",
    "\n",
    "-  Wie viele Zeichen enthält `text`?\n",
    "\n",
    "-  Ersetzen Sie \"Apollo 11 mission\" durch \"Apollo 11, the historic mission\".\n",
    "\n",
    "-  Fügen Sie den folgenden Satz in den Text ein: \" Buzz Aldrin joined him shortly after.\"\n",
    "\n",
    "-  Finden Sie die Anfangs- und Endindizes des ikonischen Zitats (\"That's one small step...\") und extrahieren Sie es aus dem Text.\n",
    "\n",
    "-  Lassen Sie Python die Ergebnisse der obigen Aufgaben ausschreiben.\n",
    "\n",
    "</div>\n",
    "</div>"
   ]
  },
  {
   "cell_type": "code",
   "execution_count": null,
   "metadata": {
    "ExecuteTime": {
     "end_time": "2024-10-12T15:15:48.789870Z",
     "start_time": "2024-10-12T15:15:48.723684Z"
    }
   },
   "outputs": [],
   "source": [
    "#countdown\n",
    "countdown_timer(15)"
   ]
  },
  {
   "cell_type": "code",
   "execution_count": 52,
   "metadata": {
    "ExecuteTime": {
     "end_time": "2024-10-12T15:20:19.536756Z",
     "start_time": "2024-10-12T15:20:19.524997Z"
    }
   },
   "outputs": [
    {
     "name": "stdout",
     "output_type": "stream",
     "text": [
      "246\n",
      "The first human to walk on the Moon was Neil Armstrong. He was part of the Apollo 11, the historic mission. The landing occurred on July 20, 1969. 'That's one small step for man, one giant leap for mankind,' Armstrong said as he stepped onto the lunar surface.\n",
      "The first human to walk on the Moon was Neil Armstrong. He was part of the Apollo 11 mission. The landing occurred on July 20, 1969. 'That's one small step for man, one giant leap for mankind,' Armstrong said as he stepped onto the lunar surface. Buzz Aldrin joined him shortly after.\n",
      "That's one small step for man, one giant leap for mankind\n"
     ]
    }
   ],
   "source": [
    "text = \"The first human to walk on the Moon was Neil Armstrong. He was part of the Apollo 11 mission. The landing occurred on July 20, 1969. 'That's one small step for man, one giant leap for mankind,' Armstrong said as he stepped onto the lunar surface.\"\n",
    "print(len(text))\n",
    "print(text.replace(\"Apollo 11 mission\", \"Apollo 11, the historic mission\"))\n",
    "print(text + \" Buzz Aldrin joined him shortly after.\")\n",
    "print(text[134:191])"
   ]
  },
  {
   "cell_type": "markdown",
   "metadata": {},
   "source": [
    "<div style=\"display: flex; justify-content: space-between;\">\n",
    "<div style=\"width: 48%; line-height: 1.5;\">\n",
    "\n",
    "## String formatting \n",
    "\n",
    "In Python, string formatting allows you to dynamically insert values into strings, making it easy to create informative and readable output.\n",
    "\n",
    "`f-strings` (formatted string literals) allow you to directly embed expressions inside string literals, using curly braces `{}`.\n",
    "\n",
    "</div>\n",
    "<div style=\"width: 48%; line-height: 1.5;color: grey;\">\n",
    "\n",
    "## String-Formatierung\n",
    "\n",
    "In Python ermöglicht die String-Formatierung das dynamische Einfügen von Werten in Strings und erleichtert so die Erstellung informativer und lesbarer Ausgaben.\n",
    "\n",
    "`f-strings` (formatierte String-Literale) erlauben es, Ausdrücke direkt in String-Literale einzubetten, indem geschweifte Klammern `{}` verwendet werden.\n",
    "\n",
    "</div>\n",
    "</div>"
   ]
  },
  {
   "cell_type": "code",
   "execution_count": null,
   "metadata": {},
   "outputs": [],
   "source": [
    "element1 = \"H\"\n",
    "element2 = \"O\"\n",
    "ratio = 2\n",
    "\n",
    "print(f\"Water is composed of {ratio} parts {element1} and 1 part {element2}.\")"
   ]
  },
  {
   "cell_type": "markdown",
   "metadata": {},
   "source": [
    "<div style=\"display: flex; justify-content: space-between;\">\n",
    "<div style=\"width: 48%; line-height: 1.5;\">\n",
    "\n",
    "### Formatting numerical data \n",
    "String formatting is especially useful for controlling the display of complex numerical data.\n",
    "\n",
    "</div>\n",
    "<div style=\"width: 48%; line-height: 1.5;color: grey;\">\n",
    "\n",
    "### Numerischer Daten Formatieren\n",
    "Die Formatierung von Zeichenketten ist besonders nützlich, um die Anzeige von komplexen numerischen Daten zu steuern.\n",
    "\n",
    "</div>\n",
    "</div>"
   ]
  },
  {
   "cell_type": "markdown",
   "metadata": {},
   "source": [
    "<div style=\"display: flex; justify-content: space-between;\">\n",
    "<div style=\"width: 48%; line-height: 1.5;\">\n",
    "\n",
    "`{:.2f}` rounds the number to 2 decimal places.\n",
    "\n",
    "</div>\n",
    "<div style=\"width: 48%; line-height: 1.3;color: grey;\">\n",
    "\n",
    "`{:.2f}` rundet die Zahl auf 2 Dezimalstellen.\n",
    "\n",
    "</div>\n",
    "</div>"
   ]
  },
  {
   "cell_type": "code",
   "execution_count": null,
   "metadata": {},
   "outputs": [],
   "source": [
    "element = \"H2O\"\n",
    "molar_mass = 18.01528\n",
    "units = 'g/mol'\n",
    "\n",
    "print(f\"The chemical formula for water is {element} and its molar mass is {molar_mass:.2f} {units}.\")"
   ]
  },
  {
   "cell_type": "code",
   "execution_count": null,
   "metadata": {
    "ExecuteTime": {
     "end_time": "2024-10-08T13:06:35.642276Z",
     "start_time": "2024-10-08T13:06:35.639680Z"
    }
   },
   "outputs": [],
   "source": [
    "compound = \"CO2\"\n",
    "molar_mass = 44.01\n",
    "units = 'g/mol'\n",
    "\n",
    "print(f\"The compound {compound} has a molar mass of {molar_mass:.0f} {units}.\")"
   ]
  },
  {
   "cell_type": "markdown",
   "metadata": {},
   "source": [
    "<div style=\"display: flex; justify-content: space-between;\">\n",
    "<div style=\"width: 48%; line-height: 1.5;\">\n",
    "\n",
    "It is even possible to carry out calculations within the interpolation braces: that is, the interpolated object can derive from an expression. \n",
    "\n",
    "To keep code clear, it is better not to include complex expressions in an f-string, but it is common to carry out simple unit conversions if necessary:\n",
    "\n",
    "</div>\n",
    "<div style=\"width: 48%; line-height: 1.5;color: grey;\">\n",
    "\n",
    "Es ist sogar möglich, innerhalb der geschweiften Klammern Berechnungen durchzuführen: Das heißt, das interpolierte Objekt kann von einem Ausdruck abgeleitet werden. \n",
    "\n",
    "Um den Code übersichtlich zu halten, ist es besser, keine komplexen Ausdrücke in eine f-Zeichenkette einzubauen, aber es ist üblich, einfache Einheitenumrechnungen durchzuführen, wenn dies erforderlich ist:\n",
    "\n",
    "</div>\n",
    "</div>"
   ]
  },
  {
   "cell_type": "code",
   "execution_count": null,
   "metadata": {},
   "outputs": [],
   "source": [
    "c = 299792458\n",
    "units = 'm/s'\n",
    "\n",
    "print(f'The speed of light is approximately {c} {units} = {c/1000:.3f} km/s')"
   ]
  },
  {
   "cell_type": "markdown",
   "metadata": {},
   "source": [
    "<div style=\"display: flex; justify-content: space-between;\">\n",
    "<div style=\"width: 48%; line-height: 1.5;\">\n",
    "\n",
    "`:.2e` formats the number in scientific notation with 2 decimal places.\n",
    "\n",
    "</div>\n",
    "<div style=\"width: 48%; line-height: 1.3;color: grey;\">\n",
    "\n",
    "`:.2e` formatiert die Zahl in wissenschaftlicher Notation mit 2 Nachkommastellen.\n",
    "\n",
    "</div>\n",
    "</div>"
   ]
  },
  {
   "cell_type": "code",
   "execution_count": 53,
   "metadata": {},
   "outputs": [
    {
     "name": "stdout",
     "output_type": "stream",
     "text": [
      "Avogadro's constant is 6.02e+23 particles/mol.\n"
     ]
    }
   ],
   "source": [
    "avogadro_constant = 6.02214076e23\n",
    "\n",
    "print(f\"Avogadro's constant is {avogadro_constant:.2e} particles/mol.\")"
   ]
  },
  {
   "cell_type": "code",
   "execution_count": null,
   "metadata": {},
   "outputs": [],
   "source": [
    "avogadro_constant = 6.02214076e23\n",
    "\n",
    "print(f\"Avogadro's constant is {avogadro_constant:.5e} particles/mol.\")"
   ]
  },
  {
   "cell_type": "code",
   "execution_count": null,
   "metadata": {},
   "outputs": [],
   "source": [
    "avogadro_constant = 6.02214076e23\n",
    "\n",
    "print(f\"Avogadro's constant is {avogadro_constant:.0e} particles/mol.\")"
   ]
  },
  {
   "cell_type": "markdown",
   "metadata": {},
   "source": [
    "<div style=\"display: flex; justify-content: space-between;\">\n",
    "<div style=\"width: 48%; line-height: 1.5;\">\n",
    "\n",
    "You can format values as percentages using `:.2%`.\n",
    "\n",
    "</div>\n",
    "<div style=\"width: 48%; line-height: 1.3;color: grey;\">\n",
    "\n",
    "Mit `:.2%` können Sie Werte als Prozentwerte formatieren.\n",
    "\n",
    "</div>\n",
    "</div>"
   ]
  },
  {
   "cell_type": "code",
   "execution_count": 54,
   "metadata": {},
   "outputs": [
    {
     "name": "stdout",
     "output_type": "stream",
     "text": [
      "The percentage yield of the reaction is 76%.\n"
     ]
    }
   ],
   "source": [
    "actual_yield = 0.75836\n",
    "\n",
    "print(f\"The percentage yield of the reaction is {actual_yield:.0%}.\")"
   ]
  },
  {
   "cell_type": "markdown",
   "metadata": {},
   "source": [
    "<div style=\"display: flex; justify-content: space-between;\">\n",
    "<div style=\"width: 48%; line-height: 1.5;\">\n",
    "\n",
    "### Alignment \n",
    "\n",
    "By default, the formatted string is aligned to the left; this can be modified to align it to the right or to the center.\n",
    "\n",
    "The single characters `<`, `>`, and `^` control the alignment, but you need to specify the *field width*:\n",
    "\n",
    "</div>\n",
    "<div style=\"width: 48%; line-height: 1.5;color: grey;\">\n",
    "\n",
    "### Ausrichtung\n",
    "\n",
    "Standardmäßig ist die formatierte Zeichenfolge links ausgerichtet; dies kann geändert werden, um sie rechts oder in der Mitte auszurichten.\n",
    "\n",
    "Die einzelnen Zeichen `<`, `>` und `^` steuern die Ausrichtung, aber Sie müssen die *Feldbreite* angeben:\n",
    "\n",
    "</div>\n",
    "</div>"
   ]
  },
  {
   "cell_type": "code",
   "execution_count": 65,
   "metadata": {},
   "outputs": [
    {
     "name": "stdout",
     "output_type": "stream",
     "text": [
      "*Hello               *\n"
     ]
    }
   ],
   "source": [
    "text = \"Hello\"\n",
    "\n",
    "print(f\"*{text:<20}*\")  # Left-align 'Hello' in a field of width 20, * marks the field width"
   ]
  },
  {
   "cell_type": "code",
   "execution_count": 66,
   "metadata": {},
   "outputs": [
    {
     "name": "stdout",
     "output_type": "stream",
     "text": [
      "*               Hello*\n"
     ]
    }
   ],
   "source": [
    "text = \"Hello\"\n",
    "\n",
    "print(f\"*{text:>20}*\")  # Right-align 'Hello' in a field of width 20, * marks the field width"
   ]
  },
  {
   "cell_type": "code",
   "execution_count": 67,
   "metadata": {},
   "outputs": [
    {
     "name": "stdout",
     "output_type": "stream",
     "text": [
      "*       Hello        *\n"
     ]
    }
   ],
   "source": [
    "text = \"Hello\"\n",
    "\n",
    "print(f\"*{text:^20}*\")  # Center-align 'Hello' in a field of width 20, * marks the field width"
   ]
  },
  {
   "cell_type": "markdown",
   "metadata": {},
   "source": [
    "<div style=\"display: flex; justify-content: space-between;\">\n",
    "<div style=\"width: 48%; line-height: 1.5;\">\n",
    "\n",
    "#### Aligning Positive and Negative Numbers \n",
    "\n",
    "By default, the sign of a number is only output if it is negative, resulting in a misalignment between positive and negative numbers.\n",
    "\n",
    "To align positive and negative numbers, use the `+` or ` ` (space) flag. This ensures positive numbers either display with a `+` sign or an extra space:\n",
    "\n",
    "</div>\n",
    "<div style=\"width: 48%; line-height: 1.5;color: grey;\">\n",
    "\n",
    "#### Ausrichtung positiver und negativer Zahlen \n",
    "\n",
    "Standardmäßig wird das Vorzeichen einer Zahl nur dann ausgegeben, wenn sie negativ ist, was zu einer falschen Zuordnung zwischen positiven und negativen Zahlen führt.\n",
    "\n",
    "Um positive und negative Zahlen aneinander anzugleichen, verwenden Sie das Flag `+` oder ` ` (Leerzeichen). Dadurch wird sichergestellt, dass positive Zahlen entweder mit einem `+`-Zeichen oder einem zusätzlichen Leerzeichen ausgegeben werden:\n",
    "\n",
    "</div>\n",
    "</div>"
   ]
  },
  {
   "cell_type": "code",
   "execution_count": 104,
   "metadata": {},
   "outputs": [
    {
     "name": "stdout",
     "output_type": "stream",
     "text": [
      "42\n",
      "-42\n",
      "----------\n",
      "+42\n",
      "-42\n",
      "----------\n",
      " 42\n",
      "-42\n"
     ]
    }
   ],
   "source": [
    "pos = 42\n",
    "neg = -42\n",
    "\n",
    "print(f\"{pos}\")\n",
    "print(f\"{neg}\")\n",
    "\n",
    "print(\"-\" * 10)\n",
    "\n",
    "print(f\"{pos:+}\")\n",
    "print(f\"{neg:+}\")\n",
    "\n",
    "print(\"-\" * 10)\n",
    "\n",
    "print(f\"{pos: }\")\n",
    "print(f\"{neg: }\")"
   ]
  },
  {
   "cell_type": "markdown",
   "metadata": {},
   "source": [
    "<div style=\"display: flex; justify-content: space-between;\">\n",
    "<div style=\"width: 48%; line-height: 1.5;\">\n",
    "\n",
    "You can also align numbers while controlling the decimal precision. \n",
    "\n",
    "For example, right-align with 2 decimal places *and* add a space padding to align positive and negative numbers:\n",
    "\n",
    "</div>\n",
    "<div style=\"width: 48%; line-height: 1.5;color: grey;\">\n",
    "\n",
    "Sie können Zahlen auch ausrichten und dabei die Genauigkeit der Dezimalstellen steuern. \n",
    "\n",
    "Zum Beispiel rechtsbündig mit 2 Dezimalstellen *und* ein Leerzeichen hinzufügen, um positive und negative Zahlen auszurichten:\n",
    "\n",
    "</div>\n",
    "</div>"
   ]
  },
  {
   "cell_type": "code",
   "execution_count": 107,
   "metadata": {},
   "outputs": [
    {
     "name": "stdout",
     "output_type": "stream",
     "text": [
      "a:       3.14\n",
      "b:      -2.72\n"
     ]
    }
   ],
   "source": [
    "a = 3.14159\n",
    "b = -2.71828\n",
    "\n",
    "print(f\"a: {a:> 10.2f}\")  # Right-align with a space padding and 2 decimal places\n",
    "print(f\"b: {b:> 10.2f}\")  # Right-align with a space padding and 2 decimal places"
   ]
  },
  {
   "cell_type": "markdown",
   "metadata": {},
   "source": [
    "<div style=\"display: flex; justify-content: space-between;\">\n",
    "<div style=\"width: 48%; line-height: 1.5;\">\n",
    "\n",
    "This is particularly helpful when printing summaries like the fit we have seen at the beginning of the lecture.\n",
    "\n",
    "</div>\n",
    "<div style=\"width: 48%; line-height: 1.5;color: grey;\">\n",
    "\n",
    "Dies ist besonders hilfreich, wenn Sie Zusammenfassungen wie die zu Beginn der Vorlesung sehen, ausdrucken möchten.\n",
    "\n",
    "</div>\n",
    "</div>"
   ]
  },
  {
   "cell_type": "markdown",
   "metadata": {},
   "source": [
    "<div class=\"alert alert-block alert-light\">\n",
    "\n",
    "<div style=\"display: flex; justify-content: space-between;\">\n",
    "<div style=\"width: 48%; line-height: 1.5;\">\n",
    "\n",
    "# Exercises\n",
    "</div>\n",
    "\n",
    "<div style=\"width: 48%; line-height: 1.3;color: grey;\">\n",
    "\n",
    "# Übungen\n",
    "</div>\n",
    "</div>"
   ]
  },
  {
   "cell_type": "markdown",
   "metadata": {},
   "source": [
    "<div class=\"alert alert-block alert-light\">\n",
    "\n",
    "<div style=\"display: flex; justify-content: space-between;\">\n",
    "<div style=\"width: 48%; line-height: 1.5;\">\n",
    "\n",
    "####   1 \n",
    "\n",
    "\n",
    "\n",
    "</div>\n",
    "<div style=\"width: 4%;\">\n",
    "</div>\n",
    "<div style=\"width: 48%; line-height: 1.5;color: grey;\">\n",
    "\n",
    "####   1 \n",
    "\n",
    "\n",
    "\n",
    "</div>\n",
    "</div>"
   ]
  }
 ],
 "metadata": {
  "kernelspec": {
   "display_name": "base",
   "language": "python",
   "name": "python3"
  },
  "language_info": {
   "codemirror_mode": {
    "name": "ipython",
    "version": 3
   },
   "file_extension": ".py",
   "mimetype": "text/x-python",
   "name": "python",
   "nbconvert_exporter": "python",
   "pygments_lexer": "ipython3",
   "version": "3.10.14"
  }
 },
 "nbformat": 4,
 "nbformat_minor": 2
}
