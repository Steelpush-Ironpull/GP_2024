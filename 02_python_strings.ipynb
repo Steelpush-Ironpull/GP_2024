{
 "cells": [
  {
   "cell_type": "code",
   "execution_count": 1,
   "metadata": {},
   "outputs": [],
   "source": [
    "from IPython.display import display, clear_output, HTML\n",
    "import time\n",
    "\n",
    "def countdown_timer(minutes):\n",
    "    total_seconds = minutes * 60\n",
    "    for seconds in range(total_seconds, 0, -1):\n",
    "        mins, secs = divmod(seconds, 60)\n",
    "        time_str = f\"{mins:02}'{secs:02}''\"\n",
    "        clear_output(wait=True)\n",
    "        # HTML with styling\n",
    "        display(HTML(f'<div style=\"font-size: 24px; color: blue; font-weight: bold;\">Time remaining: {time_str}</div>'))\n",
    "        time.sleep(1)\n",
    "    clear_output(wait=True)\n",
    "    # Final message with different styling\n",
    "    display(HTML('<div style=\"font-size: 24px; color: green; font-weight: bold;\">Time\\'s up!</div>'))"
   ]
  },
  {
   "cell_type": "markdown",
   "metadata": {},
   "source": [
    "<div style=\"text-align: center;\">\n",
    "    <img src=\"https://upload.wikimedia.org/wikipedia/commons/thumb/f/f8/Python_logo_and_wordmark.svg/972px-Python_logo_and_wordmark.svg.png?20210516005643\" alt=\"The Python logo\" style=\"width: 60%; max-width: 500px;\">\n",
    "</div>"
   ]
  },
  {
   "cell_type": "markdown",
   "metadata": {},
   "source": [
    "<div class=\"alert alert-block alert-light\">\n",
    "\n",
    "<div style=\"display: flex; justify-content: space-between;\">\n",
    "<div style=\"width: 48%; line-height: 1.3;\">\n",
    "\n",
    "#### Exercise\n",
    " Insert a `Markdown` cell containing a heading, e.g., \"Strings\", and some text, e.g., \"In this lecture we are going to learn about textual data\".\n",
    "</div>\n",
    "<div style=\"width: 48%; line-height: 1.3;color: grey;\">\n",
    "\n",
    "#### Übung\n",
    "Fügen Sie eine `Markdown`-Zelle ein, die eine Überschrift enthält, z.B. \"Strings\", und etwas Text, z.B. \"In dieser Vorlesung werden wir etwas über Textdaten lernen\".\n",
    "</div>\n",
    "</div>"
   ]
  },
  {
   "cell_type": "code",
   "execution_count": null,
   "metadata": {},
   "outputs": [],
   "source": [
    "#countdown\n",
    "countdown_timer(2)"
   ]
  },
  {
   "cell_type": "markdown",
   "metadata": {},
   "source": [
    "<div class=\"alert alert-block alert-warning\">\n",
    "\n",
    "<div style=\"display: flex; justify-content: space-between;\">\n",
    "<div style=\"width: 48%; line-height: 1.3;\">\n",
    "\n",
    "# Strings \n",
    "</div>\n",
    "<div style=\"width: 48%; line-height: 1.3;color: grey;\">\n",
    "\n",
    "# Strings (Text)\n",
    "</div>\n",
    "</div>"
   ]
  },
  {
   "cell_type": "markdown",
   "metadata": {},
   "source": [
    "<div style=\"display: flex; justify-content: space-between;\">\n",
    "<div style=\"width: 48%; line-height: 1.3;\">\n",
    "\n",
    "The `string` data type is a collection of characters (like alphabet letters, punctuation, numerical digits, or symbols) contained in quotation marks. \n",
    "\n",
    "Strings are commonly used to represent text. \n",
    "\n",
    "Single and double quotes both work: \n",
    "</div>\n",
    "<div style=\"width: 48%; line-height: 1.3;color: grey;\">\n",
    "\n",
    "Der Datentyp `string` ist eine Sammlung von Zeichen (z. B. Buchstaben des Alphabets, Interpunktionszeichen, Ziffern oder Symbole), die in Anführungszeichen stehen. \n",
    "\n",
    "Strings werden in der Regel zur Darstellung von Text verwendet. \n",
    "\n",
    "Einfache und doppelte Anführungszeichen funktionieren beide:\n",
    "</div>\n",
    "</div>"
   ]
  },
  {
   "cell_type": "code",
   "execution_count": null,
   "metadata": {
    "ExecuteTime": {
     "end_time": "2024-10-12T15:29:56.436052Z",
     "start_time": "2024-10-12T15:29:56.425419Z"
    }
   },
   "outputs": [],
   "source": [
    "#Using strings in Python - single line text\n",
    "\n",
    "#Text can be enclosed in single quotes\n",
    "print('Hello, World!')\n",
    "\n",
    "#or double quotes\n",
    "print(\"Hello, World!\")"
   ]
  },
  {
   "cell_type": "markdown",
   "metadata": {},
   "source": [
    "<div style=\"display: flex; justify-content: space-between;\">\n",
    "<div style=\"width: 48%; line-height: 1.3;\">\n",
    " Strings can be assigned to variables as with numbers: \n",
    "</div>\n",
    "<div style=\"width: 48%; line-height: 1.3;color: grey;\">\n",
    "Strings können, wie auch Zahlen, Variablen zugeordnet werden: \n",
    "</div>\n",
    "</div>"
   ]
  },
  {
   "cell_type": "code",
   "execution_count": null,
   "metadata": {
    "ExecuteTime": {
     "end_time": "2024-10-12T15:09:40.792009Z",
     "start_time": "2024-10-12T15:09:40.782059Z"
    }
   },
   "outputs": [],
   "source": [
    "favorite_food = 'chocolate'\n",
    "\n",
    "print(favorite_food)"
   ]
  },
  {
   "cell_type": "markdown",
   "metadata": {},
   "source": [
    "<div style=\"display: flex; justify-content: space-between;\">\n",
    "<div style=\"width: 48%; line-height: 1.3;\">\n",
    "\n",
    " You can get the length of a string with `len()`. \n",
    " \n",
    " \"Hello, World!\" has length 13, because it has 13 characters, including the space, comma, and exclamation mark. \n",
    " \n",
    " Note that the quotation marks are not included when calculating the length. \n",
    "</div>\n",
    "<div style=\"width: 48%; line-height: 1.3;color: grey;\">\n",
    "\n",
    "Sie können die Länge einer Zeichenkette mit `len()` ermitteln. \n",
    "\n",
    "\"Hello, World!\" hat die Länge 13, weil sie 13 Zeichen hat, einschließlich Leerzeichen, Komma und Ausrufezeichen. \n",
    "\n",
    "Die Anführungszeichen werden bei der Berechnung der Länge nicht mitgezählt.\n",
    "</div>\n",
    "</div>"
   ]
  },
  {
   "cell_type": "code",
   "execution_count": null,
   "metadata": {
    "ExecuteTime": {
     "end_time": "2024-10-12T15:31:21.428830Z",
     "start_time": "2024-10-12T15:31:21.414214Z"
    }
   },
   "outputs": [],
   "source": [
    "len('Hello, World!')"
   ]
  },
  {
   "cell_type": "markdown",
   "metadata": {},
   "source": [
    "<div style=\"display: flex; justify-content: space-between;\">\n",
    "<div style=\"width: 48%; line-height: 1.3;\">\n",
    " If you put a number in quotation marks, it has a string data type:\n",
    "</div>\n",
    "<div style=\"width: 48%; line-height: 1.3;color: grey;\">\n",
    "Wenn Sie eine Zahl in Anführungszeichen setzen, hat sie einen String-Datentyp:\n",
    "</div>\n",
    "</div>"
   ]
  },
  {
   "cell_type": "code",
   "execution_count": null,
   "metadata": {
    "ExecuteTime": {
     "end_time": "2024-10-12T15:10:04.416462Z",
     "start_time": "2024-10-12T15:10:04.395737Z"
    }
   },
   "outputs": [],
   "source": [
    "# without quotation marks\n",
    "type(1.1231)"
   ]
  },
  {
   "cell_type": "code",
   "execution_count": null,
   "metadata": {
    "ExecuteTime": {
     "end_time": "2024-10-12T15:10:05.931575Z",
     "start_time": "2024-10-12T15:10:05.912716Z"
    }
   },
   "outputs": [],
   "source": [
    "# with quotation marks\n",
    "type(\"1.1231\")"
   ]
  },
  {
   "cell_type": "markdown",
   "metadata": {},
   "source": [
    "<div style=\"display: flex; justify-content: space-between;\">\n",
    "<div style=\"width: 48%; line-height: 1.3;\">\n",
    "\n",
    " Just like you can add two numbers, you can also add two strings. \n",
    " \n",
    " It results in a longer string that combines the two original strings by *concatenating* them.\n",
    "</div>\n",
    "<div style=\"width: 48%; line-height: 1.3;color: grey;\">\n",
    "\n",
    "Genauso wie Sie zwei Zahlen addieren können, können Sie auch zwei Strings addieren. \n",
    "\n",
    "Das Ergebnis ist eine längere Zeichenkette, die die beiden ursprünglichen Strings durch Verkettung kombiniert.\n",
    "</div>\n",
    "</div>"
   ]
  },
  {
   "cell_type": "code",
   "execution_count": null,
   "metadata": {
    "ExecuteTime": {
     "end_time": "2024-10-12T15:10:21.420445Z",
     "start_time": "2024-10-12T15:10:21.407876Z"
    }
   },
   "outputs": [],
   "source": [
    "\"abc\" + \"def\"   # Strings can be concatenated with the + operator"
   ]
  },
  {
   "cell_type": "code",
   "execution_count": null,
   "metadata": {
    "ExecuteTime": {
     "end_time": "2024-10-12T15:10:24.234361Z",
     "start_time": "2024-10-12T15:10:24.221806Z"
    }
   },
   "outputs": [],
   "source": [
    "\"abc\" \"def\" # Strings between quotes defined next to each other are automatically concatenated (no + required)"
   ]
  },
  {
   "cell_type": "code",
   "execution_count": null,
   "metadata": {
    "ExecuteTime": {
     "end_time": "2024-10-12T15:10:26.013823Z",
     "start_time": "2024-10-12T15:10:25.997140Z"
    }
   },
   "outputs": [],
   "source": [
    "\"abc\" \"def\" == \"abc\" + \"def\""
   ]
  },
  {
   "cell_type": "markdown",
   "metadata": {},
   "source": [
    "<div style=\"display: flex; justify-content: space-between;\">\n",
    "<div style=\"width: 48%; line-height: 1.3;\">\n",
    "\n",
    " It is not possible to do subtraction or division with two strings. \n",
    "\n",
    " You also cannot multiply two strings, but you can multiply a string by an integer. \n",
    " \n",
    " This again results in a string that is just the original string concatenated with itself a specified number of times.\n",
    "</div>\n",
    "<div style=\"width: 48%; line-height: 1.3;color: grey;\">\n",
    "\n",
    "Es ist nicht möglich, eine Subtraktion oder Division mit zwei Strings durchzuführen. \n",
    "\n",
    "Sie können auch nicht zwei Strings multiplizieren, aber Sie können eine Zeichenkette mit einer ganzen Zahl multiplizieren. \n",
    "\n",
    "Das Ergebnis ist wiederum eine Zeichenkette, die nur aus der ursprünglichen Zeichenkette besteht, die eine bestimmte Anzahl von Malen mit sich selbst verkettet wird.\n",
    "</div>\n",
    "</div>"
   ]
  },
  {
   "cell_type": "code",
   "execution_count": null,
   "metadata": {
    "ExecuteTime": {
     "end_time": "2024-10-12T15:10:36.876590Z",
     "start_time": "2024-10-12T15:10:36.854967Z"
    }
   },
   "outputs": [],
   "source": [
    "\"Rose \" + \"is a rose \"*3# The sentence \"Rose is a rose is a rose is a rose\" was written by Gertrude Stein as part of the 1913 poem \"Sacred Emily\"."
   ]
  },
  {
   "cell_type": "code",
   "execution_count": null,
   "metadata": {
    "ExecuteTime": {
     "end_time": "2024-10-12T15:11:02.284347Z",
     "start_time": "2024-10-12T15:11:02.248878Z"
    }
   },
   "outputs": [],
   "source": [
    "dodecane = 'CH3' + 'CH2'*10 + 'CH3'\n",
    "\n",
    "dodecane"
   ]
  },
  {
   "cell_type": "markdown",
   "metadata": {},
   "source": [
    "<div style=\"display: flex; justify-content: space-between;\">\n",
    "<div style=\"width: 48%; line-height: 1.3;\">\n",
    "\n",
    "## Indexing and Slicing \n",
    "\n",
    "*Keep this terminology and syntax in mind, as we will encounter it frequently moving forward.*\n",
    "\n",
    "Individual characters can be accessed using the indexing notation `string[i]`, where the index `i` is the position of the character in the string, **starting at zero**. \n",
    "</div>\n",
    "<div style=\"width: 48%; line-height: 1.3;color: grey;\">\n",
    "\n",
    "## Indexierung und Slicing \n",
    "\n",
    "*Behalten Sie diese Terminologie und Syntax im Gedächtnis, da wir ihr in Zukunft häufig begegnen werden.*\n",
    "\n",
    "Auf einzelne Zeichen kann mit der Indizierungsnotation `string[i]` zugegriffen werden, wobei der Index `i` die Position des Zeichens in der Zeichenkette ist, **beginnend bei Null**. \n",
    "</div>\n",
    "</div>"
   ]
  },
  {
   "cell_type": "markdown",
   "metadata": {},
   "source": [
    "<div style=\"text-align: center;\">\n",
    "<img src=\"./figures/string_indexing.png\" width=\"500\">\n",
    "</div>"
   ]
  },
  {
   "cell_type": "code",
   "execution_count": 12,
   "metadata": {
    "ExecuteTime": {
     "end_time": "2024-10-12T15:14:22.763096Z",
     "start_time": "2024-10-12T15:14:22.737990Z"
    }
   },
   "outputs": [],
   "source": [
    "s1 = \"Supercalifragilisticexpialidocious!\""
   ]
  },
  {
   "cell_type": "code",
   "execution_count": null,
   "metadata": {
    "ExecuteTime": {
     "end_time": "2024-10-12T15:14:23.379132Z",
     "start_time": "2024-10-12T15:14:23.365846Z"
    }
   },
   "outputs": [],
   "source": [
    "len(s1)"
   ]
  },
  {
   "cell_type": "code",
   "execution_count": null,
   "metadata": {
    "ExecuteTime": {
     "end_time": "2024-10-12T15:14:24.049734Z",
     "start_time": "2024-10-12T15:14:24.030755Z"
    }
   },
   "outputs": [],
   "source": [
    "s1[0]"
   ]
  },
  {
   "cell_type": "code",
   "execution_count": null,
   "metadata": {
    "ExecuteTime": {
     "end_time": "2024-10-12T15:14:24.890817Z",
     "start_time": "2024-10-12T15:14:24.873561Z"
    }
   },
   "outputs": [],
   "source": [
    "s1[23]"
   ]
  },
  {
   "cell_type": "markdown",
   "metadata": {},
   "source": [
    "<div style=\"display: flex; justify-content: space-between;\">\n",
    "<div style=\"width: 48%; line-height: 1.3;\">\n",
    "\n",
    "If the index `i` is negative, it is taken to be counted backward from the end of the string (the last character is in “position” −1): \n",
    "</div>\n",
    "<div style=\"width: 48%; line-height: 1.3;color: grey;\">\n",
    "\n",
    "Wenn der Index `i` negativ ist, wird er vom Ende der Zeichenkette aus rückwärts gezählt (das letzte Zeichen ist an \"Position\" -1): \n",
    "</div>\n",
    "</div>"
   ]
  },
  {
   "cell_type": "code",
   "execution_count": null,
   "metadata": {
    "ExecuteTime": {
     "end_time": "2024-10-12T15:14:32.124743Z",
     "start_time": "2024-10-12T15:14:32.112934Z"
    }
   },
   "outputs": [],
   "source": [
    "s1[-1]"
   ]
  },
  {
   "cell_type": "markdown",
   "metadata": {},
   "source": [
    "<div style=\"display: flex; justify-content: space-between;\">\n",
    "<div style=\"width: 48%; line-height: 1.3;\">\n",
    "\n",
    "A substring is obtained by slicing the string with the notation `string[i:j]`, where `i` is the index of the first character to use, and `j` is one after the last character to take. <br>\n",
    "*as math set = [i,j)*<br>\n",
    "That is, the substring includes the starting character but *excludes the ending character*: \n",
    "</div>\n",
    "<div style=\"width: 48%; line-height: 1.3;color: grey;\">\n",
    "\n",
    "Eine Teilzeichenkette erhält man, indem man die Zeichenkette mit der Notation `string[i:j]` zerlegt, wobei `i` der Index des ersten zu verwendenden Zeichens und `j` der Index nach dem letzten zu verwendenden Zeichen ist. <br>\n",
    "*als mathematische Menge: [i,j)*<br>\n",
    "Das bedeutet, dass die Teilzeichenkette das Anfangszeichen enthält, aber *das Endzeichen ausschließt*: \n",
    "</div>\n",
    "</div>"
   ]
  },
  {
   "cell_type": "code",
   "execution_count": null,
   "metadata": {
    "ExecuteTime": {
     "end_time": "2024-10-12T15:14:34.344669Z",
     "start_time": "2024-10-12T15:14:34.321577Z"
    }
   },
   "outputs": [],
   "source": [
    "s2 = 'Plutonium'\n",
    "\n",
    "s2[0:5]  # First (starting with 0) 5 characters, i.e., until element number 4"
   ]
  },
  {
   "cell_type": "markdown",
   "metadata": {},
   "source": [
    "<div style=\"display: flex; justify-content: space-between;\">\n",
    "<div style=\"width: 48%; line-height: 1.3;\">\n",
    "\n",
    "Strings can be sliced backward or stridden differently with a third value: `string[i:j:stride]`:\n",
    "</div>\n",
    "<div style=\"width: 48%; line-height: 1.3;color: grey;\">\n",
    "\n",
    "Strings können mit einem dritten Wert rückwärts aufgeschnitten oder anders gestrippt werden: `string[i:j:stride]`:\n",
    "</div>\n",
    "</div>"
   ]
  },
  {
   "cell_type": "code",
   "execution_count": null,
   "metadata": {
    "ExecuteTime": {
     "end_time": "2024-10-12T15:14:39.426783Z",
     "start_time": "2024-10-12T15:14:39.414431Z"
    }
   },
   "outputs": [],
   "source": [
    "s2[0:len(s2):2] # every other character"
   ]
  },
  {
   "cell_type": "code",
   "execution_count": null,
   "metadata": {
    "ExecuteTime": {
     "end_time": "2024-10-12T15:14:40.242752Z",
     "start_time": "2024-10-12T15:14:40.227892Z"
    }
   },
   "outputs": [],
   "source": [
    "s2[0:len(s2):2] == s2[::2] # actually correct indexing"
   ]
  },
  {
   "cell_type": "code",
   "execution_count": null,
   "metadata": {
    "ExecuteTime": {
     "end_time": "2024-10-12T15:14:41.587124Z",
     "start_time": "2024-10-12T15:14:41.574140Z"
    }
   },
   "outputs": [],
   "source": [
    "s3 = 'stressed'\n",
    "\n",
    "s3[::-1]"
   ]
  },
  {
   "cell_type": "markdown",
   "metadata": {},
   "source": [
    "<div style=\"display: flex; justify-content: space-between;\">\n",
    "<div style=\"width: 48%; line-height: 1.3;\">\n",
    "\n",
    "## Manipulating strings \n",
    "\n",
    "Python strings are *immutable* (keep this word in mind): that means they cannot be changed in place. One needs to find a workaround that uses slicing and concatenation.\n",
    "</div>\n",
    "<div style=\"width: 48%; line-height: 1.3;color: grey;\">\n",
    "\n",
    "## Strings Manipulieren \n",
    "\n",
    "Python-Strings sind *unveränderlich* (merken Sie sich dieses Wort): das heißt, sie können nicht an Ort und Stelle verändert werden. Es muss eine Umgehung gefunden werden, die Slicing und Verkettung verwendet.\n",
    "</div>\n",
    "</div>"
   ]
  },
  {
   "cell_type": "markdown",
   "metadata": {},
   "source": [
    "<div class=\"alert alert-block alert-light\">\n",
    "\n",
    "<div style=\"display: flex; justify-content: space-between;\">\n",
    "<div style=\"width: 48%; line-height: 1.3;\">\n",
    "\n",
    "#### Exercise\n",
    " You made a typo and wrote \"alkane\" instead of \"alkene.\" \n",
    " \n",
    " How would you use slicing and concatenation to correct the mistake? \n",
    " \n",
    " Hint: you need to create a new string by modifying the original (don't simply create the string \"alkene\"!).\n",
    "\n",
    "</div>\n",
    "<div style=\"width: 48%; line-height: 1.3;color: grey;\">\n",
    "\n",
    "#### Übung\n",
    "Sie haben einen Tippfehler gemacht und \"Alkan\" statt \"Alken\" geschrieben. \n",
    "\n",
    "Wie würden Sie den Fehler mit Hilfe von Slicing und Verkettung korrigieren? \n",
    "\n",
    "Hinweis: Sie müssen einen neuen String erstellen, indem Sie den ursprünglichen ändern (erstellen Sie nicht einfach den String \"alkene\"!).\n",
    "</div>\n",
    "</div>"
   ]
  },
  {
   "cell_type": "code",
   "execution_count": 20,
   "metadata": {
    "ExecuteTime": {
     "end_time": "2024-10-12T15:14:49.173361Z",
     "start_time": "2024-10-12T15:14:49.146990Z"
    }
   },
   "outputs": [],
   "source": [
    "string = 'alkane'   # fix this"
   ]
  },
  {
   "cell_type": "code",
   "execution_count": null,
   "metadata": {
    "ExecuteTime": {
     "end_time": "2024-10-12T15:14:52.550926Z",
     "start_time": "2024-10-12T15:14:49.669894Z"
    }
   },
   "outputs": [],
   "source": [
    "#countdown\n",
    "countdown_timer(5)"
   ]
  },
  {
   "cell_type": "code",
   "execution_count": null,
   "metadata": {
    "ExecuteTime": {
     "end_time": "2024-10-12T15:15:44.667478Z",
     "start_time": "2024-10-12T15:15:44.646956Z"
    }
   },
   "outputs": [],
   "source": [
    "string[:3] + 'e' + string[4:]"
   ]
  },
  {
   "cell_type": "markdown",
   "metadata": {},
   "source": [
    "<div style=\"display: flex; justify-content: space-between;\">\n",
    "<div style=\"width: 48%; line-height: 1.3;\">\n",
    "\n",
    "## Key Properties and Operations \n",
    "This is likely much more than we will need in this class, but you should be aware of these operations in case the need arises in the future.\n",
    "</div>\n",
    "<div style=\"width: 48%; line-height: 1.3;color: grey;\">\n",
    "\n",
    "## Hauptfunktionen und Operationen \n",
    "Das ist wahrscheinlich viel mehr, als wir in diesem Kurs brauchen werden, aber Sie sollten diese Operationen kennen, für den Fall, dass sie in Zukunft gebraucht werden.\n",
    "</div>\n",
    "</div>"
   ]
  },
  {
   "cell_type": "markdown",
   "metadata": {},
   "source": [
    "| Operation  | Example  | Description  | Beschreibung  |\n",
    "|------------------------|----------------------------------------------|--------------------------------------------------|--------------------------------------------------|\n",
    "| **Concatenation**  | `'Hello ' + 'World'` → `'Hello World'`   | Combine two or more strings | Zwei oder mehr Strings zusammenfügen|\n",
    "| **Repetition** | `'Hello ' * 3` → `'Hello Hello Hello '`   | Repeat a string multiple times  | Einen String mehrmals wiederholen|\n",
    "| **Length** | `len('Hello')` → `5` | Get the number of characters in a string| Die Anzahl der Zeichen in einem String erhalten  |\n",
    "| **Uppercase**  | `'Hello'.upper()` → `'HELLO'`| Convert all characters to uppercase  | Alle Zeichen in Großbuchstaben umwandeln |\n",
    "| **Lowercase**  | `'Hello'.lower()` → `'hello'`| Convert all characters to lowercase  | Alle Zeichen in Kleinbuchstaben umwandeln|\n",
    "| **Strip**  | `'  Hello  '.strip()` → `'Hello'`| Remove leading and trailing whitespace   | Führende und nachfolgende Leerzeichen entfernen  |\n",
    "| **Split**  | `'Hello World'.split()` → `['Hello', 'World']` | Split a string into a list based on a delimiter | Einen String anhand eines Trennzeichens in eine Liste aufteilen |\n",
    "| **Join**   | `' '.join(['Hello', 'World'])` → `'Hello World'` | Join a list of strings into a single string  | Eine Liste von Strings zu einem einzelnen String zusammenfügen |\n",
    "| **Find**   | `'Hello'.find('e')` → `1`| Find the index of a substring| Den Index eines Substrings finden|\n",
    "| **Replace**| `'Hello World'.replace('World', 'Universe')` → `'Hello Universe'` | Replace a substring with another substring  | Einen Substring durch einen anderen ersetzen |\n",
    "| **Substring**  | `'Hello World'[0:5]` → `'Hello'`| Extract a part of the string | Einen Teil des Strings extrahieren  |\n",
    "| **Format** | `'Hello {}'.format('World')` → `'Hello World'` | Format the string with placeholders  | Den String mit Platzhaltern formatieren |\n",
    "| **f-Strings**  | `f'Hello {name}'` (where `name = 'World'`) → `'Hello World'` | Format string using f-string syntax  | Den String mit f-Strings formatieren|\n"
   ]
  },
  {
   "cell_type": "markdown",
   "metadata": {},
   "source": [
    "<div class=\"alert alert-block alert-light\">\n",
    "\n",
    "<div style=\"display: flex; justify-content: space-between;\">\n",
    "<div style=\"width: 48%; line-height: 1.3;\">\n",
    "\n",
    "#### Exercise\n",
    " In this task, you'll use Python to manipulate a short text about space exploration. You'll apply the string operations we've discussed to answer specific questions.\n",
    "\n",
    "`text: The first human to walk on the Moon was Neil Armstrong. He was part of the Apollo 11 mission. The landing occurred on July 20, 1969. 'That's one small step for man, one giant leap for mankind,' Armstrong said as he stepped onto the lunar surface.\"`\n",
    "\n",
    "\n",
    "-  Define a variable named `text`\n",
    "-  How many characters are in `text`?\n",
    "-  Replace \"Apollo 11 mission\" with \"Apollo 11, the historic mission\".\n",
    "-  Add the following sentence to the text: \" Buzz Aldrin joined him shortly after.\"\n",
    "-  Find the start and end indexes of the iconic quote ('That's one small step...') and extract it from the text. \n",
    "-  print all of the result of the tasks above\n",
    "\n",
    "\n",
    "</div>\n",
    "<div style=\"width: 48%; line-height: 1.3;color: grey;\">\n",
    "\n",
    "#### Übung\n",
    "In dieser Aufgabe werden Sie Python verwenden, um einen kurzen Text über die Erforschung des Weltraums zu manipulieren. Sie werden die besprochenen String-Operationen anwenden, um bestimmte Fragen zu beantworten.\n",
    "\n",
    "`text: The first human to walk on the Moon was Neil Armstrong. He was part of the Apollo 11 mission. The landing occurred on July 20, 1969. 'That's one small step for man, one giant leap for mankind,' Armstrong said as he stepped onto the lunar surface.`\n",
    "\n",
    "\n",
    "-  Definieren Sie eine Variable namens `text`.\n",
    "-  Wie viele Zeichen enthält `text`?\n",
    "-  Ersetzen Sie \"Mission Apollo 11\" durch \"historische Mission Apollo 11\".\n",
    "-  Fügen Sie den folgenden Satz in den Text ein: \" Buzz Aldrin schloss sich ihm kurz darauf an.\"\n",
    "-  Finden Sie die Anfangs- und Endindizes des ikonischen Zitats (\"Das ist ein kleiner Schritt...\") und extrahieren Sie es aus dem Text.\n",
    "-  lassen sie python die Ergebnisse der obigen Aufgaben ausschreiben\n",
    "\n",
    "</div>\n",
    "</div>"
   ]
  },
  {
   "cell_type": "code",
   "execution_count": null,
   "metadata": {
    "ExecuteTime": {
     "end_time": "2024-10-12T15:15:48.789870Z",
     "start_time": "2024-10-12T15:15:48.723684Z"
    }
   },
   "outputs": [],
   "source": [
    "#countdown\n",
    "countdown_timer(15)"
   ]
  },
  {
   "cell_type": "code",
   "execution_count": null,
   "metadata": {
    "ExecuteTime": {
     "end_time": "2024-10-12T15:20:19.536756Z",
     "start_time": "2024-10-12T15:20:19.524997Z"
    }
   },
   "outputs": [],
   "source": [
    "text = \"The first human to walk on the Moon was Neil Armstrong. He was part of the Apollo 11 mission. The landing occurred on July 20, 1969. 'That's one small step for man, one giant leap for mankind,' Armstrong said as he stepped onto the lunar surface.\"\n",
    "print(len(text))\n",
    "print(text.replace(\"Apollo 11 mission\", \"Apollo 11, the historic mission\"))\n",
    "print(text + \" Buzz Aldrin joined him shortly after.\")\n",
    "print(text[134:191])"
   ]
  },
  {
   "cell_type": "markdown",
   "metadata": {},
   "source": [
    "<div style=\"display: flex; justify-content: space-between;\">\n",
    "<div style=\"width: 48%; line-height: 1.3;\">\n",
    "\n",
    "## String formatting \n",
    "\n",
    "In Python, string formatting allows you to dynamically insert values into strings, making it easy to create informative and readable output.\n",
    "\n",
    "`f-strings` (formatted string literals) allow you to directly embed expressions inside string literals, using curly braces `{}`.\n",
    "\n",
    "</div>\n",
    "<div style=\"width: 48%; line-height: 1.3;color: grey;\">\n",
    "\n",
    "## String-Formatierung\n",
    "\n",
    "In Python ermöglicht die String-Formatierung das dynamische Einfügen von Werten in Strings und erleichtert so die Erstellung informativer und lesbarer Ausgaben.\n",
    "\n",
    "`f-strings` (formatierte String-Literale) erlauben es, Ausdrücke direkt in String-Literale einzubetten, indem geschweifte Klammern `{}` verwendet werden.\n",
    "\n",
    "</div>\n",
    "</div>"
   ]
  },
  {
   "cell_type": "code",
   "execution_count": null,
   "metadata": {},
   "outputs": [],
   "source": [
    "element1 = \"H\"\n",
    "element2 = \"O\"\n",
    "ratio = 2\n",
    "print(f\"Water is composed of {ratio} parts {element1} and 1 part {element2}.\")"
   ]
  },
  {
   "cell_type": "markdown",
   "metadata": {},
   "source": [
    "<div style=\"display: flex; justify-content: space-between;\">\n",
    "<div style=\"width: 48%; line-height: 1.3;\">\n",
    "\n",
    "### Formatting numerical data \n",
    "String formatting is especially useful for controlling the display of complex numerical data.\n",
    "\n",
    "</div>\n",
    "<div style=\"width: 48%; line-height: 1.3;color: grey;\">\n",
    "\n",
    "### Numerischer Daten Formatieren\n",
    "Die Formatierung von Zeichenketten ist besonders nützlich, um die Anzeige von komplexen numerischen Daten zu steuern.\n",
    "\n",
    "</div>\n",
    "</div>"
   ]
  },
  {
   "cell_type": "code",
   "execution_count": null,
   "metadata": {},
   "outputs": [],
   "source": [
    "element = \"H2O\"\n",
    "molar_mass = 18.01528\n",
    "units = 'g/mol'\n",
    "print(f\"The chemical formula for water is {element} and its molar mass is {molar_mass:.2f} {units}.\")"
   ]
  },
  {
   "cell_type": "markdown",
   "metadata": {},
   "source": [
    "<div style=\"display: flex; justify-content: space-between;\">\n",
    "<div style=\"width: 48%; line-height: 1.3;\">\n",
    "\n",
    "`{molar_mass:.2f}` rounds the molar mass to 2 decimal places.\n",
    "\n",
    "</div>\n",
    "<div style=\"width: 48%; line-height: 1.3;color: grey;\">\n",
    "\n",
    "`{molar_mass:.2f}` rundet die molare Masse auf 2 Dezimalstellen.\n",
    "\n",
    "</div>\n",
    "</div>"
   ]
  },
  {
   "cell_type": "code",
   "execution_count": null,
   "metadata": {
    "ExecuteTime": {
     "end_time": "2024-10-08T13:06:35.642276Z",
     "start_time": "2024-10-08T13:06:35.639680Z"
    }
   },
   "outputs": [],
   "source": [
    "compound = \"CO2\"\n",
    "molar_mass = 44.01\n",
    "units = 'g/mol'\n",
    "print(f\"The compound {compound} has a molar mass of {molar_mass:.0f} {units}.\")"
   ]
  },
  {
   "cell_type": "markdown",
   "metadata": {},
   "source": [
    "<div style=\"display: flex; justify-content: space-between;\">\n",
    "<div style=\"width: 48%; line-height: 1.3;\">\n",
    "\n",
    "It is even possible to carry out calculations within the interpolation braces: that is, the interpolated object can derive from an expression. \n",
    "\n",
    "To keep code clear, it is better not to include complex expressions in an f-string, but it is common to carry out simple unit conversions if necessary:\n",
    "\n",
    "</div>\n",
    "<div style=\"width: 48%; line-height: 1.3;color: grey;\">\n",
    "\n",
    "Es ist sogar möglich, innerhalb der geschweiften Klammern Berechnungen durchzuführen: Das heißt, das interpolierte Objekt kann von einem Ausdruck abgeleitet werden. \n",
    "\n",
    "Um den Code übersichtlich zu halten, ist es besser, keine komplexen Ausdrücke in eine f-Zeichenkette einzubauen, aber es ist üblich, einfache Einheitenumrechnungen durchzuführen, wenn dies erforderlich ist:\n",
    "\n",
    "</div>\n",
    "</div>"
   ]
  },
  {
   "cell_type": "code",
   "execution_count": null,
   "metadata": {},
   "outputs": [],
   "source": [
    "c = 299792458\n",
    "units = 'm.s-1'\n",
    "print(f'The speed of light is approximately {c} {units} = {c/1000:.3f} km.s-1')"
   ]
  },
  {
   "cell_type": "code",
   "execution_count": null,
   "metadata": {},
   "outputs": [],
   "source": [
    "avogadro_constant = 6.02214076e23\n",
    "print(f\"Avogadro's constant is {avogadro_constant:.2e} particles/mol.\")"
   ]
  },
  {
   "cell_type": "markdown",
   "metadata": {},
   "source": [
    "<div style=\"display: flex; justify-content: space-between;\">\n",
    "<div style=\"width: 48%; line-height: 1.3;\">\n",
    "\n",
    "`:.2e` formats the number in scientific notation with 2 decimal places.\n",
    "\n",
    "</div>\n",
    "<div style=\"width: 48%; line-height: 1.3;color: grey;\">\n",
    "\n",
    "`:.2e` formatiert die Zahl in wissenschaftlicher Notation mit 2 Nachkommastellen.\n",
    "\n",
    "</div>\n",
    "</div>"
   ]
  },
  {
   "cell_type": "code",
   "execution_count": null,
   "metadata": {},
   "outputs": [],
   "source": [
    "avogadro_constant = 6.02214076e23\n",
    "print(f\"Avogadro's constant is {avogadro_constant:.5e} particles/mol.\")"
   ]
  },
  {
   "cell_type": "code",
   "execution_count": null,
   "metadata": {},
   "outputs": [],
   "source": [
    "avogadro_constant = 6.02214076e23\n",
    "print(f\"Avogadro's constant is {avogadro_constant:.0e} particles/mol.\")"
   ]
  },
  {
   "cell_type": "markdown",
   "metadata": {},
   "source": [
    "<div style=\"display: flex; justify-content: space-between;\">\n",
    "<div style=\"width: 48%; line-height: 1.3;\">\n",
    "\n",
    "You can format values as percentages using `:.2%`.\n",
    "\n",
    "</div>\n",
    "<div style=\"width: 48%; line-height: 1.3;color: grey;\">\n",
    "\n",
    "Mit `:.2%` können Sie Werte als Prozentwerte formatieren.\n",
    "\n",
    "</div>\n",
    "</div>"
   ]
  },
  {
   "cell_type": "code",
   "execution_count": null,
   "metadata": {},
   "outputs": [],
   "source": [
    "actual_yield = 0.75836\n",
    "print(f\"The percentage yield of the reaction is {actual_yield:.0%}.\")"
   ]
  }
 ],
 "metadata": {
  "kernelspec": {
   "display_name": "Python 3",
   "language": "python",
   "name": "python3"
  },
  "language_info": {
   "codemirror_mode": {
    "name": "ipython",
    "version": 3
   },
   "file_extension": ".py",
   "mimetype": "text/x-python",
   "name": "python",
   "nbconvert_exporter": "python",
   "pygments_lexer": "ipython3",
   "version": "3.11.10"
  }
 },
 "nbformat": 4,
 "nbformat_minor": 2
}
