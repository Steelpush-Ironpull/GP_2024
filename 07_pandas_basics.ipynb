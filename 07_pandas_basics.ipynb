{
 "cells": [
  {
   "cell_type": "code",
   "execution_count": null,
   "metadata": {
    "ExecuteTime": {
     "end_time": "2024-12-10T18:13:36.760839Z",
     "start_time": "2024-12-10T18:13:36.747526Z"
    }
   },
   "outputs": [],
   "source": [
    "%%HTML\n",
    "<style>\n",
    "    body {\n",
    "        --vscode-font-family: \"CMU Sans Serif\"\n",
    "    }\n",
    "</style>"
   ]
  },
  {
   "cell_type": "code",
   "execution_count": null,
   "metadata": {},
   "outputs": [],
   "source": [
    "from IPython.display import display, clear_output, HTML\n",
    "import time\n",
    "\n",
    "def countdown_timer(minutes):\n",
    "    total_seconds = minutes * 60\n",
    "    for seconds in range(total_seconds, 0, -1):\n",
    "        mins, secs = divmod(seconds, 60)\n",
    "        time_str = f\"{mins:02}'{secs:02}''\"\n",
    "        clear_output(wait=True)\n",
    "        # HTML with styling\n",
    "        display(HTML(f'<div style=\"font-size: 24px; color: blue; font-weight: bold;\">Time remaining: {time_str}</div>'))\n",
    "        time.sleep(1)\n",
    "    clear_output(wait=True)\n",
    "    # Final message with different styling\n",
    "    display(HTML('<div style=\"font-size: 24px; color: green; font-weight: bold;\">Time\\'s up!</div>'))"
   ]
  },
  {
   "cell_type": "markdown",
   "metadata": {},
   "source": [
    "<div style=\"text-align: center;\">\n",
    "    <img src=\"https://matplotlib.org/stable/_images/sphx_glr_named_colors_003_2_00x.png\" style=\"width: 700px;\">\n",
    "<figcaption> \n",
    "    For your convenience: \n",
    "    <a href=\"https://matplotlib.org/stable/gallery/color/named_colors.html#css-colors\" target=\"_blank\">all Matplotlib colors</a>.\n",
    "    <br> \n",
    "    Für Ihre Bequemlichkeit: \n",
    "    <a href=\"https://matplotlib.org/stable/gallery/color/named_colors.html#css-colors\" target=\"_blank\">alle Matplotlib-Farben</a>.\n",
    "</figcaption>\n",
    "</div>"
   ]
  },
  {
   "cell_type": "markdown",
   "metadata": {},
   "source": [
    "<div style=\"text-align: center;\">\n",
    "    <img src=\"https://upload.wikimedia.org/wikipedia/commons/thumb/e/ed/Pandas_logo.svg/1024px-Pandas_logo.svg.png\" style=\"width: 500px;\">\n",
    "</div>"
   ]
  },
  {
   "cell_type": "markdown",
   "metadata": {},
   "source": [
    "<div style=\"text-align: center;\">\n",
    "    <img src=\"https://preview.redd.it/anyone-knows-where-this-comes-from-v0-qntrcv0walxc1.png?auto=webp&s=e6ea1f53405b160be57d251c243f2aac9f97d6ee\" style=\"width: 500px;\">\n",
    "    <figcaption> <code>pandas</code> has nothing to do with pandas: instead, the name is derived from the term \"panel data\",  as well as a play on the phrase \"Python data analysis\".<br> <code>pandas</code> hat nichts mit pandas zu tun: Der Name leitet sich von dem Begriff \"panel data\" ab und ist eine Anspielung auf den Ausdruck \"Python-Datenanalyse\".</figcaption>\n",
    "</div>"
   ]
  },
  {
   "cell_type": "code",
   "execution_count": null,
   "metadata": {
    "ExecuteTime": {
     "end_time": "2024-12-10T18:13:54.883958Z",
     "start_time": "2024-12-10T18:13:53.856625Z"
    }
   },
   "outputs": [],
   "source": [
    "\n",
    "\n",
    "import matplotlib.pyplot as plt\n",
    "import numpy as np\n",
    "from matplotlib.patches import Rectangle\n",
    "\n",
    "# Topics and x-axis values\n",
    "topics = [\"interface\", \"\", \"\", \"\", \"Python basics\", \"\", \"\", \"\", \"data manipulation\", \"\",  \"visualization\", \"\", \"practice\", \"\"]\n",
    "x_values = np.arange(1, 15)\n",
    "\n",
    "# Create figure and axis objects with adjusted y-axis height\n",
    "fig, ax1 = plt.subplots(figsize=(10*1.4, 0.75*1.4))  # Slightly more vertical space\n",
    "ax1.set(xlim=(0, 14), xticks=x_values - 0.5, xlabel='Course Progression')\n",
    "ax1.set_xticks(x_values - 0.5)  # Align grid lines with x_values\n",
    "ax1.set_xticklabels(x_values, ha='center')\n",
    "ax1.yaxis.set_visible(False)\n",
    "\n",
    "# Secondary axis for labels without ticks\n",
    "ax2 = ax1.twiny()\n",
    "ax2.set(xlim=ax1.get_xlim(), xticks=x_values - 0.5)\n",
    "ax2.set_xticklabels(topics, ha='center')\n",
    "ax2.tick_params(axis='x', length=0)\n",
    "\n",
    "# Add rectangles for progress\n",
    "progress_info = [(0, \"orange\", 1), (1, \"dodgerblue\", 1), (2, \"dodgerblue\", 1), (3, \"dodgerblue\", 1),\n",
    "                 (4, \"dodgerblue\", 1), (5, \"dodgerblue\", 1), (6, \"dodgerblue\", 1), (7, \"dodgerblue\", 0.75)]\n",
    "for x, color, alpha in progress_info:\n",
    "    ax1.add_patch(Rectangle((x, 0), 1, 1, facecolor=color, alpha=alpha, edgecolor=\"gainsboro\", linewidth=0.5))\n",
    "\n",
    "# Add text annotations\n",
    "annotations = [\n",
    "    (0.5, \"Jupyter\\n\\nLaTeX\"),\n",
    "    (1.5, \"math\\n\\n(SymPy)\"),\n",
    "    (2.5, \"strings\\n\\nlists\"),\n",
    "    (3.5, \"other\\ndata\\nstructures\"),\n",
    "    (4.5, \"control\\n\\nstructures\"),\n",
    "    (5.5, \"functions\"),\n",
    "    (6.5, \"arrays\"),\n",
    "    (7.5, \"pandas\\nbasics\")\n",
    "]\n",
    "for x, label, *color in annotations:\n",
    "    ax1.text(x, 0.5, label, ha='center', va='center', fontsize=9, color=color[0] if color else 'black')\n",
    "\n",
    "plt.show()"
   ]
  },
  {
   "cell_type": "markdown",
   "metadata": {},
   "source": [
    "<div style=\"display: flex; justify-content: space-between;\">\n",
    "<div style=\"width: 48%; line-height: 1.5;\">\n",
    "\n",
    "## Context\n",
    "\n",
    "pandas is a cornerstone of data analysis and data science, making it an essential tool for anyone needing to manipulate and analyze scientific data. \n",
    "\n",
    "With a degree in a STEM discipline and proficiency in pandas, you can significantly enhance your attractiveness on the job market. \n",
    "\n",
    "I personally know several people who now work as data scientists and process modelers in the chemical, automotive, and pharmaceutical industries.\n",
    "\n",
    "Think about how much data companies collect, not only in R&D but also in manufacturing, production, and marketing. \n",
    "\n",
    "Companies pay very well for people who can understand and analyze their data. (Of course, if you want to move from descriptive statistics to predictive models, you’ll need machine learning, but that’s a topic for another class.)\n",
    "\n",
    "</div>\n",
    "<div style=\"width: 48%; line-height: 1.5;color: grey;\">\n",
    "\n",
    "## Kontext\n",
    "\n",
    "pandas ist ein Eckpfeiler der Datenanalyse und Datenwissenschaft und damit ein unverzichtbares Werkzeug für jeden, der wissenschaftliche Daten verarbeiten und analysieren muss.\n",
    "\n",
    "Mit einem Abschluss in einer MINT-Disziplin und Kenntnissen in pandas können Sie Ihre Attraktivität auf dem Arbeitsmarkt erheblich steigern.\n",
    "\n",
    "Ich kenne mehrere Personen persönlich, die jetzt als Datenwissenschaftler und Prozessmodellierer in der Chemie-, Automobil- und Pharmaindustrie arbeiten.\n",
    "\n",
    "Denken Sie daran, wie viele Daten Unternehmen sammeln, nicht nur in der Forschung und Entwicklung, sondern auch in der Produktion und im Marketing.\n",
    "\n",
    "Die Unternehmen zahlen sehr gut für Leute, die ihre Daten verstehen und analysieren können. (Wenn Sie von der deskriptiven Statistik zu Vorhersagemodellen übergehen wollen, brauchen Sie natürlich maschinelles Lernen, aber das ist ein Thema für einen anderen Kurs).\n",
    "\n",
    "</div>\n",
    "</div>\n",
    "\n",
    "---"
   ]
  },
  {
   "cell_type": "markdown",
   "metadata": {},
   "source": [
    "<div style=\"display: flex; justify-content: space-between;\">\n",
    "<div style=\"width: 48%; line-height: 1.5;\">\n",
    "\n",
    "In the previous lecture, we explored how to plot and fit data using NumPy. In that approach, we generated NumPy arrays on the fly to create the axes for our plots. \n",
    "\n",
    "However, in many real-world scenarios, data comes from external files rather than being generated programmatically. \n",
    "\n",
    "While NumPy provides methods to read files, transforming data into **pandas DataFrames** offers significantly more power and convenience. \n",
    "\n",
    "pandas is a Python library that provides easy-to-use data structures and data analysis tools, making it ideal for handling and analyzing large datasets efficiently.\n",
    "\n",
    "pandas loads data into DataFrames (`df`), which you can think of as Excel sheets.\n",
    "\n",
    "</div>\n",
    "<div style=\"width: 48%; line-height: 1.5;color: grey;\">\n",
    "\n",
    "In der vorangegangenen Vorlesung haben wir untersucht, wie man Daten mit NumPy darstellt und anpasst. Bei diesem Ansatz haben wir NumPy-Arrays on the fly generiert, um die Achsen für unsere Diagramme zu erstellen.\n",
    "\n",
    "In vielen realen Szenarien kommen die Daten jedoch aus externen Dateien und werden nicht programmatisch generiert.\n",
    "\n",
    "NumPy bietet zwar Methoden zum Lesen von Dateien, aber die Umwandlung von Daten in **pandas DataFrames** bietet wesentlich mehr Leistung und Komfort.\n",
    "\n",
    "pandas ist eine Python-Bibliothek, die einfach zu verwendende Datenstrukturen und Datenanalysewerkzeuge bereitstellt und sich damit ideal für die effiziente Handhabung und Analyse großer Datensätze eignet.\n",
    "\n",
    "pandas lädt Daten in *DataFrames* (`df`), die man sich wie Excel-Tabellen vorstellen kann.\n",
    "\n",
    "</div>\n",
    "</div>"
   ]
  },
  {
   "cell_type": "markdown",
   "metadata": {},
   "source": [
    "<div style=\"text-align: center;\">\n",
    "    <img src=\"https://pandas.pydata.org/docs/_images/01_table_dataframe.svg\" style=\"width: 400px;\">\n",
    "</div>"
   ]
  },
  {
   "cell_type": "markdown",
   "metadata": {},
   "source": [
    "<div style=\"display: flex; justify-content: space-between;\">\n",
    "<div style=\"width: 48%; line-height: 1.5;\">\n",
    "\n",
    "There are many differences between pandas and Excel, but the most practical ones are the following:\n",
    "\n",
    "- Excel is a visual tool, which makes it easy to click a button that abstracts the function behind what you want to accomplish. To achieve the same function in pandas, you need to write a command. This setup is ideal for automating tasks instead of pointing and clicking all the time!\n",
    "\n",
    "- Any operation you perform in Excel changes your spreadsheet and, indeed, your data. Data in pandas is <i>persistent</i>, meaning you can perform operations on copies of your data while preserving the raw dataset.\n",
    "\n",
    "- You might not have noticed so far, but Excel is not designed to handle large datasets and complex operations. At some point in your career, probably while you're studying materials science, Excel will crash when trying to load your data.\n",
    "        \n",
    "\n",
    "</div>\n",
    "<div style=\"width: 48%; line-height: 1.5;color: grey;\">\n",
    "\n",
    "Es gibt viele Unterschiede zwischen pandas und Excel, aber die praktischsten sind die folgenden:\n",
    "\n",
    "- Excel ist ein visuelles Werkzeug, das es einfach macht, auf eine Schaltfläche zu klicken, die die Funktion hinter dem, was man erreichen will, abstrahiert. Um die gleiche Funktion in pandas zu erreichen, müssen Sie einen Befehl schreiben. Dieser Aufbau ist ideal, um Aufgaben zu automatisieren, anstatt ständig auf eine Schaltfläche zu zeigen und zu klicken!\n",
    "\n",
    "- Jede Operation, die Sie in Excel durchführen, verändert Ihr Tabellenblatt und damit auch Ihre Daten. Daten in pandas sind <i>beständig</i>, d.h. Sie können Operationen an Kopien Ihrer Daten durchführen, während der Rohdatensatz erhalten bleibt.\n",
    "\n",
    "- Sie haben es vielleicht noch nicht bemerkt, aber Excel ist nicht dafür ausgelegt, große Datensätze und komplexe Operationen zu verarbeiten. Irgendwann in Ihrer Karriere vermutlich schon während Ihres Studiums der Materialwissenschaft wird Excel beim Versuch, Ihre Daten zu laden, abstürzen.\n",
    "        \n",
    "</div>\n",
    "</div>"
   ]
  },
  {
   "cell_type": "code",
   "execution_count": null,
   "metadata": {},
   "outputs": [],
   "source": [
    "# YOU DO NOT HAVE THIS DATASET BECAUSE IT IS TOO LARGE FOR MOODLE\n",
    "# IT IS JUST A DEMONSTRATION OF HOW TO OPEN 150k ROWS IN 0.7 SECONDS\n",
    "\n",
    "wines = pd.read_csv(\"winemag-data_first150k.csv\")\n",
    "\n",
    "wines"
   ]
  },
  {
   "cell_type": "markdown",
   "metadata": {},
   "source": [
    "<div class=\"alert alert-block alert-info\">\n",
    "\n",
    "<div style=\"display: flex; justify-content: space-between;\">\n",
    "<div style=\"width: 48%; line-height: 1.5;\">\n",
    "\n",
    "In summary, Excel may appear easy, but it is very tedious and, most importantly, not reliable. \n",
    "\n",
    "pandas may seem complicated at first, but it greatly simplifies and enhances data handling and analysis.\n",
    "\n",
    "</div>\n",
    "<div style=\"width: 48%; line-height: 1.5;color: grey;\">\n",
    "\n",
    "Zusammenfassend lässt sich sagen, dass Excel zwar einfach erscheint, aber sehr mühsam und vor allem nicht zuverlässig ist. \n",
    "\n",
    "pandas mag auf den ersten Blick kompliziert erscheinen, aber es vereinfacht und verbessert die Datenverarbeitung und -analyse erheblich.\n",
    "\n",
    "</div>\n",
    "</div>"
   ]
  },
  {
   "cell_type": "markdown",
   "metadata": {},
   "source": [
    "<div style=\"display: flex; justify-content: space-between;\">\n",
    "<div style=\"width: 48%; line-height: 1.5;\">\n",
    "\n",
    "To use pandas, we import it. The community agreed alias for pandas is `pd`:\n",
    "\n",
    "</div>\n",
    "<div style=\"width: 48%; line-height: 1.5;color: grey;\">\n",
    "\n",
    "Um pandas zu verwenden, importieren wir es. Der von der Gemeinschaft vereinbarte Alias für pandas ist `pd`:\n",
    "\n",
    "</div>\n",
    "</div>"
   ]
  },
  {
   "cell_type": "code",
   "execution_count": null,
   "metadata": {
    "ExecuteTime": {
     "end_time": "2024-12-10T18:23:24.824358Z",
     "start_time": "2024-12-10T18:23:24.816812Z"
    }
   },
   "outputs": [],
   "source": [
    "import pandas as pd"
   ]
  },
  {
   "cell_type": "markdown",
   "metadata": {},
   "source": [
    "<div style=\"display: flex; justify-content: space-between;\">\n",
    "<div style=\"width: 48%; line-height: 1.5;\">\n",
    "\n",
    "# Reading data \n",
    "\n",
    "There are various methods to create a DataFrame or Series in Python, but in practice, we typically won’t be manually generating data from scratch. Instead, we’ll often be working with pre-existing datasets.\n",
    "\n",
    "\n",
    "</div>\n",
    "<div style=\"width: 48%; line-height: 1.5;color: grey;\">\n",
    "\n",
    "# Daten lesen \n",
    "\n",
    "Es gibt verschiedene Methoden, um einen DataFrame oder eine Serie in Python zu erstellen, aber in der Praxis werden wir in der Regel nicht manuell Daten von Grund auf neu erzeugen. Stattdessen werden wir oft mit bereits vorhandenen Datensätzen arbeiten.\n",
    "\n",
    "\n",
    "</div>\n",
    "</div>"
   ]
  },
  {
   "cell_type": "markdown",
   "metadata": {},
   "source": [
    "<div style=\"display: flex; justify-content: space-between;\">\n",
    "<div style=\"width: 48%; line-height: 1.5;\">\n",
    "\n",
    "Data can come in a wide variety of formats, each suited to different use cases. \n",
    "\n",
    "All of these formats can be easily loaded into pandas using the appropriate `pd.read_` command.\n",
    "\n",
    "</div>\n",
    "<div style=\"width: 48%; line-height: 1.5;color: grey;\">\n",
    "\n",
    "Daten können in einer Vielzahl von Formaten vorliegen, die jeweils für unterschiedliche Anwendungsfälle geeignet sind.\n",
    "\n",
    "Alle diese Formate können mit dem entsprechenden `pd.read_`-Befehl leicht in pandas geladen werden.\n",
    "\n",
    "</div>\n",
    "</div>"
   ]
  },
  {
   "cell_type": "markdown",
   "metadata": {},
   "source": [
    "<div style=\"text-align: center;\">\n",
    "    <img src=\"https://pandas.pydata.org/docs/_images/02_io_readwrite.svg\" style=\"width: 700px;\">\n",
    "</div>"
   ]
  },
  {
   "cell_type": "markdown",
   "metadata": {},
   "source": [
    "| Command               | File Type               | \n",
    "|-----------------------|-------------------------|\n",
    "| `pd.read_csv()`        | CSV                     | \n",
    "| `pd.read_excel()`      | Excel (XLS, XLSX)       | \n",
    "| `pd.read_json()`       | JSON                    | \n",
    "| `pd.read_html()`       | HTML                    | \n",
    "| `pd.read_sql()`        | SQL                     | \n",
    "| `pd.read_sql_query()`  | SQL Query               | \n",
    "| `pd.read_sql_table()`  | SQL Table               | \n",
    "| `pd.read_pickle()`     | Pickle                  | \n",
    "| `pd.read_feather()`    | Feather                 | \n",
    "| `pd.read_parquet()`    | Parquet                 | \n",
    "| `pd.read_orc()`        | ORC                     | \n",
    "| `pd.read_sas()`        | SAS                     | \n",
    "| `pd.read_spss()`       | SPSS                    | \n",
    "| `pd.read_stata()`      | Stata                   | \n",
    "| `pd.read_table()`      | General Delimited Text  | \n",
    "| `pd.read_fwf()`        | Fixed-Width Text        | \n",
    "| `pd.read_clipboard()`  | Clipboard               | \n",
    "| `pd.read_hdf()`        | HDF5                    | "
   ]
  },
  {
   "cell_type": "markdown",
   "metadata": {},
   "source": [
    "<div style=\"display: flex; justify-content: space-between;\">\n",
    "<div style=\"width: 48%; line-height: 1.5;\">\n",
    "\n",
    "## Reading an Excel file (if we must)\n",
    "\n",
    "I know what you're thinking: \"Every dataset I've ever seen or created was made in Excel.\" \n",
    "\n",
    "Opening an Excel file is straightforward, and in this section, we'll show you even how to make small adjustments to clean up unwanted comments that don’t belong in a spreadsheet.<sup>*</sup>\n",
    "\n",
    "The Excel file `07_bond-lengths.xlsx` contains data on the bond lengths, vibrational constants and dissociation energies of some diatomic molecules. \n",
    "\n",
    "The single sheet is named \"Diatomics\". \n",
    "Column A contains the molecular formula; the first row (row 1 in Excel, but row `0` in Python pandas!) is a title, and the second row contains the column names. \n",
    "\n",
    "There is also a footer of two lines.\n",
    "\n",
    "<sup>*</sup> <span style=\"font-size: 0.9em;\">There is a prevalent tendency to use worksheets like notebook pages, where tabular data is often intermixed with comments, footnotes, and plots. While this may appear convenient at first, it results in disorganized data that can be difficult to clean up. For this reason, plain CSV files are a superior option. As mentioned in the first lecture, **if you require a digital notebook, you should consider using Jupyter *notebooks*.**</span>\n",
    "\n",
    "\n",
    "</div>\n",
    "<div style=\"width: 48%; line-height: 1.3;color: grey;\">\n",
    "\n",
    "## Lesen einer Excel-Datei (wenn es sein muss)\n",
    "\n",
    "Ich weiß, was Sie jetzt denken: \"Jeder Datensatz, den ich je gesehen oder erstellt habe, wurde in Excel erstellt.\"\n",
    "\n",
    "Das Öffnen einer Excel-Datei ist ganz einfach, und in diesem Abschnitt zeigen wir Ihnen sogar, wie Sie kleine Anpassungen vornehmen können, um unerwünschte Kommentare zu entfernen, die nicht in ein Arbeitsblatt gehören.<sup>*</sup>\n",
    "\n",
    "Die Excel-Datei `07_bond-lengths.xlsx` enthält Daten zu den Bindungslängen, Schwingungskonstanten und Dissoziationsenergien einiger zweiatomiger Moleküle.\n",
    "\n",
    "Das einzelne Blatt trägt den Namen \"Diatomics\".\n",
    "Spalte A enthält die Molekülformel; die erste Zeile (Zeile 1 in Excel, aber Zeile `0` in Python-pandas!) ist ein Titel, und die zweite Zeile enthält die Spaltennamen.\n",
    "\n",
    "Außerdem gibt es eine Fußzeile mit zwei Zeilen.\n",
    "\n",
    "<sup>*</sup> <span style=\"font-size: 0.9em;\">Es gibt eine weit verbreitete Tendenz, Arbeitsblätter wie Notizbuchseiten zu verwenden, in denen tabellarische Daten oft mit Kommentaren, Fußnoten und Diagrammen vermischt sind. Dies mag auf den ersten Blick bequem erscheinen, führt aber zu unübersichtlichen Daten, die schwer zu bereinigen sind. Aus diesem Grund sind einfache CSV-Dateien die bessere Wahl. Wie in der ersten Vorlesung erwähnt, **sollten Sie, wenn Sie ein digitales Notizbuch benötigen, die Verwendung von Jupyter *Notebooks* in Betracht ziehen.**</span>\n",
    "\n",
    "</div>\n",
    "</div>"
   ]
  },
  {
   "cell_type": "markdown",
   "metadata": {},
   "source": [
    "<div style=\"text-align: center;\">\n",
    "    <img src=\"https://scipython.com/static/media/2/examples/E9/xlsx-screenshot.png\" style=\"width: 700px;\">\n",
    "</div>"
   ]
  },
  {
   "cell_type": "code",
   "execution_count": null,
   "metadata": {
    "ExecuteTime": {
     "end_time": "2024-12-10T18:59:17.752179Z",
     "start_time": "2024-12-10T18:59:14.293752Z"
    }
   },
   "outputs": [],
   "source": [
    "! pip install openpyxl\n",
    "\n",
    "bond_lengths = pd.read_excel('07_bond-lengths.xlsx',            # the file we want to open\n",
    "                             skipfooter=2,                      # ignore the last two lines of the sheet\n",
    "                             header=1,                          # take the column names from the second row (row 1)\n",
    "                             )\n",
    "bond_lengths\n"
   ]
  },
  {
   "cell_type": "markdown",
   "metadata": {},
   "source": [
    "<div style=\"display: flex; justify-content: space-between;\">\n",
    "<div style=\"width: 48%; line-height: 1.5;\">\n",
    "\n",
    "### What do we see here?\n",
    "\n",
    "- **Index**: The far-left column with numbers (0, 1, 2, ...) is called the index. The index **uniquely** identifies each row in the DataFrame. By default, **the index starts at 0** and increments by 1 for each row, but it can also be customized to something more meaningful.\n",
    "\n",
    "- **Rows**: Each row represents one entry in the dataset.\n",
    "     - Row 0 (the first row) contains the data for the molecule \"I2\".\n",
    "     - Row 1 (the second row) contains the data for \"O2\", and so on.\n",
    "\n",
    "- **Columns**: Each column represents a property. In this DataFrame, we have 5 columns.\n",
    "Columns are labeled at the top, forming the header of the table. The header tells you what each column represents.\n",
    "\n",
    "- **Cells**: Each intersection of a row and a column is a cell. A cell holds a specific piece of data. For example, the cell in row `0`, column `Bond length /A` contains the value `2.666000`.\n",
    "\n",
    "</div>\n",
    "<div style=\"width: 48%; line-height: 1.5;color: grey;\">\n",
    "\n",
    "### Was sehen wir hier?\n",
    "\n",
    "- **Index**: Die Spalte ganz links mit den Zahlen (0, 1, 2, ...) wird Index genannt. Der Index identifiziert **eindeutig** jede Zeile im DataFrame. Standardmäßig **beginnt der Index bei 0** und wird für jede Zeile um 1 erhöht, er kann aber auch auf einen aussagekräftigeren Wert angepasst werden.\n",
    "\n",
    "- **Zeilen**: Jede Zeile steht für einen Eintrag im Datensatz.\n",
    "     - Zeile 0 (die erste Zeile) enthält die Daten für das Molekül \"I2\".\n",
    "     - Zeile 1 (die zweite Zeile) enthält die Daten für \"O2\" und so weiter.\n",
    "\n",
    "- **Spalten**: Jede Spalte steht für eine Eigenschaft. In diesem DataFrame haben wir 5 Spalten.\n",
    " Die Spalten sind oben beschriftet und bilden die Kopfzeile der Tabelle. In der Kopfzeile steht, was jede Spalte darstellt.\n",
    "\n",
    "- **Zellen**: Jeder Schnittpunkt zwischen einer Zeile und einer Spalte ist eine Zelle. Eine Zelle enthält einen bestimmten Teil der Daten. Zum Beispiel enthält die Zelle in Zeile `0`, Spalte `Bond length /A` den Wert `2.666000`.\n",
    "\n",
    "</div>\n",
    "</div>"
   ]
  },
  {
   "cell_type": "markdown",
   "metadata": {},
   "source": [
    "<div style=\"display: flex; justify-content: space-between;\">\n",
    "<div style=\"width: 48%; line-height: 1.5;\">\n",
    "\n",
    "A more refined set of commands:\n",
    "\n",
    "</div>\n",
    "<div style=\"width: 48%; line-height: 1.5;color: grey;\">\n",
    "\n",
    "Ein verfeinerter Satz von Befehlen:\n",
    "\n",
    "</div>\n",
    "</div>"
   ]
  },
  {
   "cell_type": "code",
   "execution_count": null,
   "metadata": {
    "ExecuteTime": {
     "end_time": "2024-12-10T19:00:15.140695Z",
     "start_time": "2024-12-10T19:00:15.089212Z"
    }
   },
   "outputs": [],
   "source": [
    "bond_lengths = pd.read_excel('07_bond-lengths.xlsx',            # the file we want to open\n",
    "                             skipfooter=2,                      # ignore the last two lines of the sheet\n",
    "                             header=1,                          # take the column names from the second row\n",
    "                             index_col=0,                       ### column to use as row label (i.e., Molecule)\n",
    "                             usecols='A:E',                     ### use Excel columns labeled A-E (optional)\n",
    "                             sheet_name='Diatomics'             ### take data from this sheet (in case there are several)\n",
    "                             )\n",
    "\n",
    "bond_lengths"
   ]
  },
  {
   "cell_type": "markdown",
   "metadata": {},
   "source": [
    "<div style=\"display: flex; justify-content: space-between;\">\n",
    "<div style=\"width: 48%; line-height: 1.5;\">\n",
    "\n",
    "We can save a pandas DataFrame to an external file, such as a CSV, using the `.to_csv()` method. \n",
    "\n",
    "In this case, the `bond_lengths` DataFrame is saved to a CSV file named `bond_lengths.csv`, which you can open with VS Code, too. \n",
    "\n",
    "The `index=True` argument ensures that the DataFrame's index (e.g., the \"Molecule\" column) is included in the output file. \n",
    "\n",
    "Each column in the CSV corresponds to the data extracted from the Excel file, using columns A-E and taking the second row as column headers.\n",
    "\n",
    "</div>\n",
    "<div style=\"width: 48%; line-height: 1.5;color: grey;\">\n",
    "\n",
    "Wir können einen Pandas DataFrame in eine externe Datei speichern, z. B. eine CSV-Datei, indem wir die Methode `.to_csv()` verwenden.\n",
    "\n",
    "In diesem Fall wird der `bond_lengths` DataFrame in einer CSV-Datei namens `bond_lengths.csv` gespeichert, die Sie auch mit VS Code öffnen können.\n",
    "\n",
    "Das Argument `index=True` stellt sicher, dass der Index des DataFrames (z.B. die Spalte \"Molecule\") in die Ausgabedatei aufgenommen wird.\n",
    "Jede Spalte in der CSV-Datei entspricht den Daten, die aus der Excel-Datei extrahiert wurden, wobei die Spalten A-E verwendet werden und die zweite Zeile als Spaltenüberschrift verwendet wird.\n",
    "\n",
    "</div>\n",
    "</div>"
   ]
  },
  {
   "cell_type": "code",
   "execution_count": null,
   "metadata": {
    "ExecuteTime": {
     "end_time": "2024-12-10T19:02:55.305851Z",
     "start_time": "2024-12-10T19:02:55.297827Z"
    }
   },
   "outputs": [],
   "source": [
    "bond_lengths.to_csv(\"bond_lengths.csv\", index=True)"
   ]
  },
  {
   "cell_type": "markdown",
   "metadata": {},
   "source": [
    "<div style=\"display: flex; justify-content: space-between;\">\n",
    "<div style=\"width: 48%; line-height: 1.5;\">\n",
    "\n",
    "## Reading a CSV file\n",
    "\n",
    "One of the simplest and most common formats is the CSV (Comma-Separated Values) file. \n",
    "\n",
    "A CSV file is a plain text file where each line corresponds to a row of data, and the values within each row are separated by commas. Other delimiters, such as tabs or spaces, can also be used in place of commas.\n",
    "\n",
    "When opened, a CSV file presents data in a straightforward, table-like format that looks something like this:\n",
    "\n",
    "```\n",
    "Name,Age,City\n",
    "Alice,30,New York\n",
    "Bob,25,London\n",
    "Charlie,35,Paris\n",
    "```\n",
    "\n",
    "This basic structure makes CSV files widely used for storing and sharing tabular data across platforms. \n",
    "\n",
    "Although CSV files are simple, they can still hold complex datasets, making them a powerful starting point for analysis with libraries like pandas in Python.\n",
    "\n",
    "</div>\n",
    "<div style=\"width: 48%; line-height: 1.3;color: grey;\">\n",
    "\n",
    "## Lesen einer CSV-Datei\n",
    "\n",
    "Eines der einfachsten und gängigsten Formate ist die CSV-Datei (Comma-Separated Values).\n",
    "\n",
    "Eine CSV-Datei ist eine reine Textdatei, bei der jede Zeile einer Datenzeile entspricht und die Werte innerhalb jeder Zeile durch Kommas getrennt sind. Anstelle von Kommas können auch andere Begrenzungszeichen wie Tabulatoren oder Leerzeichen verwendet werden\n",
    "\n",
    "Beim Öffnen einer CSV-Datei werden die Daten in einem einfachen, tabellenartigen Format dargestellt, das etwa so aussieht:\n",
    "\n",
    "```\n",
    "Name,Age,City\n",
    "Alice,30,New York\n",
    "Bob,25,London\n",
    "Charlie,35,Paris\n",
    "```\n",
    "\n",
    "Aufgrund dieser Grundstruktur werden CSV-Dateien häufig für die Speicherung und den Austausch von Tabellendaten auf verschiedenen Plattformen verwendet.\n",
    "\n",
    "Obwohl CSV-Dateien einfach sind, können sie dennoch komplexe Datensätze enthalten, was sie zu einem leistungsstarken Ausgangspunkt für Analysen mit Bibliotheken wie pandas in Python macht.\n",
    "</div>\n",
    "</div>"
   ]
  },
  {
   "cell_type": "markdown",
   "metadata": {},
   "source": [
    "<div style=\"display: flex; justify-content: space-between;\">\n",
    "<div style=\"width: 48%; line-height: 1.5;\">\n",
    "\n",
    "We'll use the `pd.read_csv()` function to read the data into a DataFrame.\n",
    "\n",
    "</div>\n",
    "<div style=\"width: 48%; line-height: 1.5;color: grey;\">\n",
    "\n",
    "Wir verwenden die Funktion `pd.read_csv()`, um die Daten in einen DataFrame zu lesen.\n",
    "\n",
    "</div>\n",
    "</div>"
   ]
  },
  {
   "cell_type": "code",
   "execution_count": null,
   "metadata": {
    "ExecuteTime": {
     "end_time": "2024-12-10T19:05:42.919986Z",
     "start_time": "2024-12-10T19:05:42.756532Z"
    }
   },
   "outputs": [],
   "source": [
    "wine_reviews = pd.read_csv('07_wine_reviews_sample.csv')"
   ]
  },
  {
   "cell_type": "markdown",
   "metadata": {},
   "source": [
    "<div style=\"display: flex; justify-content: space-between;\">\n",
    "<div style=\"width: 48%; line-height: 1.5;\">\n",
    "\n",
    "FYI: The file `wine_reviews_sample.csv` is a random 10% subset of a much larger dataset. The file size limitation is due to Moodle's constraints, not pandas'.\n",
    "\n",
    "#  First inspection \n",
    "\n",
    "Let's look at it:\n",
    "\n",
    "</div>\n",
    "<div style=\"width: 48%; line-height: 1.5;color: grey;\">\n",
    "\n",
    "Z. I. Die Datei `wine_reviews_sample.csv` ist eine zufällige 10%ige Teilmenge eines viel größeren Datensatzes. Die Begrenzung der Dateigröße liegt an den Moodle-Einschränkungen, nicht an pandas.\n",
    "\n",
    "# Erste Inspektion \n",
    "\n",
    "Schauen wir es uns an:\n",
    "</div>\n",
    "</div>"
   ]
  },
  {
   "cell_type": "code",
   "execution_count": null,
   "metadata": {
    "ExecuteTime": {
     "end_time": "2024-12-10T19:06:54.733597Z",
     "start_time": "2024-12-10T19:06:54.722906Z"
    }
   },
   "outputs": [],
   "source": [
    "wine_reviews"
   ]
  },
  {
   "cell_type": "markdown",
   "metadata": {},
   "source": [
    "<div style=\"display: flex; justify-content: space-between;\">\n",
    "<div style=\"width: 48%; line-height: 1.5;\">\n",
    "\n",
    "When calling the DataFrame, pandas displays a brief summary, showing the first 5 and last 5 rows along with an overview. \n",
    "\n",
    "This includes the total number of rows and columns, in this case, 15093 rows and 11 columns.\n",
    "\n",
    "In addition to the summary provided when calling the DataFrame, pandas offers specific methods for quickly inspecting data:\n",
    "\n",
    "1. `head()` returns the first few rows of the DataFrame, with 5 rows being the default. It's useful for getting a quick look at the beginning of the dataset. You can pass an argument to specify a different number of rows, for example, `df.head(10)` would display the first 10 rows.\n",
    "\n",
    "   ```python\n",
    "   df.head()  # Displays the first 5 rows\n",
    "   ```\n",
    "\n",
    "2. `tail()` returns the last few rows of the DataFrame, with the default being 5 rows. This helps you check the data at the end of the dataset. You can also specify how many rows to display by passing a number, like `df.tail(10)` for the last 10 rows.\n",
    "\n",
    "   ```python\n",
    "   df.tail()  # Displays the last 5 rows\n",
    "   ```\n",
    "\n",
    "3. `shape` provides the dimensions of the DataFrame in the form of a tuple: `(number_of_rows, number_of_columns)`. It's useful when you want to know the size of your dataset at a glance. For example, `wine_reviews.shape` would return `(15093, 11)`.\n",
    "\n",
    "   ```python\n",
    "   df.shape  # Outputs (150930, 11)\n",
    "   ```\n",
    "\n",
    "4. The `df.info()` method provides a concise summary of a DataFrame, showing the number of rows, columns, non-null counts, data types, and memory usage.\n",
    "\n",
    "\n",
    "5. A check on how pandas interpreted each of the column data types can be done by requesting the `dtypes` attribute:\n",
    "\n",
    "   ```python\n",
    "   df.dtypes \n",
    "   ```\n",
    "\n",
    "6. `df.columns` gives you access to the column names of a DataFrame, allowing you to view or change them as needed.\n",
    "\n",
    "   ```python\n",
    "   df.columns       # Returns the column names\n",
    "   df.columns = ['new_name1', 'new_name2', 'new_name3']     # Renames columns\n",
    "   ```\n",
    "\n",
    "**Note**: With the exception of `head()`, `tail()` und `info()`, these are properties and not functions of the data frame, so you do not need brackets to call them.\n",
    "\n",
    "</div>\n",
    "<div style=\"width: 48%; line-height: 1.4;color: grey;\">\n",
    "\n",
    "Beim Aufruf des DataFrame zeigt pandas eine kurze Zusammenfassung mit den ersten 5 und den letzten 5 Zeilen sowie eine Übersicht an.\n",
    "\n",
    "Dazu gehört auch die Gesamtzahl der Zeilen und Spalten, in diesem Fall 15093 Zeilen und 11 Spalten.\n",
    "\n",
    "Zusätzlich bietet pandas spezielle Methoden für die schnelle Inspektion von Daten:\n",
    "\n",
    "1. `head()` gibt die ersten paar Zeilen des DataFrame zurück, wobei 5 Zeilen der Standard sind. Es ist nützlich, um einen schnellen Blick auf den Anfang des Datensatzes zu werfen. Sie können ein Argument übergeben, um eine andere Anzahl von Zeilen anzugeben, z. B. würde `df.head(10)` die ersten 10 Zeilen anzeigen.\n",
    "\n",
    "   ```python\n",
    "   df.head() # Zeigt die ersten 5 Zeilen an\n",
    "   ```\n",
    "\n",
    "2. `tail()` gibt die letzten Zeilen des DataFrame zurück, wobei die Vorgabe 5 Zeilen sind. Dies hilft Ihnen, die Daten am Ende des Datensatzes zu überprüfen. Sie können auch angeben, wie viele Zeilen angezeigt werden sollen, indem Sie eine Zahl übergeben, z. B. `df.tail(10)` für die letzten 10 Zeilen.\n",
    "\n",
    "   ```python\n",
    "   df.tail() # Zeigt die letzten 5 Zeilen an\n",
    "   ```\n",
    "\n",
    "3. `shape` liefert die Dimensionen des DataFrame in Form eines Tupels: `(Anzahl_der_Zeilen, Anzahl_der_Spalten)`. Es ist nützlich, wenn Sie die Größe Ihres Datensatzes auf einen Blick erkennen wollen. Zum Beispiel würde `wine_reviews.shape` `(15093, 11)` zurückgeben.\n",
    "\n",
    "   ```python\n",
    "   df.shape # Outputs (150930, 11)\n",
    "   ```\n",
    "\n",
    "4. Die Methode `df.info()` liefert eine kurze Zusammenfassung eines DataFrame, die die Anzahl der Zeilen, Spalten, Nicht-Null-Zahlen, Datentypen und den Speicherverbrauch anzeigt.\n",
    "\n",
    "\n",
    "5. Eine Überprüfung, wie pandas die einzelnen Datentypen der Spalten interpretiert hat, kann durch Abfrage des Attributs `dtypes` erfolgen:\n",
    "\n",
    "   ```python\n",
    "   df.dtypes\n",
    "   ```\n",
    "\n",
    "6. Mit `df.columns` können Sie auf die Spaltennamen eines DataFrame zugreifen und sie bei Bedarf anzeigen oder ändern:\n",
    "\n",
    "   ```python\n",
    "   df.columns # Liefert die Spaltennamen\n",
    "   df.columns = ['neuer_name1', 'neuer_name2', 'neuer_name3'] # Benennt Spalten um\n",
    "   ```\n",
    "\n",
    "**Hinweis**: Mit Ausnahme von `head()`, `tail()` und `info()` handelt es sich um Eigenschaften und nicht um Funktionen des Dataframes, sodass Sie keine Klammern zum Aufruf benötigen.\n",
    "\n",
    "</div>\n",
    "</div>"
   ]
  },
  {
   "cell_type": "code",
   "execution_count": null,
   "metadata": {},
   "outputs": [],
   "source": [
    "wine_reviews.head()"
   ]
  },
  {
   "cell_type": "markdown",
   "metadata": {},
   "source": [
    "<div class=\"alert alert-block alert-light\">\n",
    "\n",
    "<div style=\"display: flex; justify-content: space-between;\">\n",
    "<div style=\"width: 48%; line-height: 1.5;\">\n",
    "\n",
    "#### Exercise\n",
    "\n",
    "Apply all the commands we have just seen to the `wine_reviews` dataset. Be mindful of brackets.\n",
    "\n",
    "</div>\n",
    "<div style=\"width: 48%; line-height: 1.5;color: grey;\">\n",
    "\n",
    "#### Übung\n",
    "\n",
    "Wenden Sie alle Befehle, die wir gerade gesehen haben, auf den Datensatz `wine_reviews` an. Achten Sie auf die Klammern.\n",
    "\n",
    "</div>\n",
    "</div>"
   ]
  },
  {
   "cell_type": "code",
   "execution_count": null,
   "metadata": {},
   "outputs": [],
   "source": [
    "#countdown\n",
    "countdown_timer(10)"
   ]
  },
  {
   "cell_type": "code",
   "execution_count": null,
   "metadata": {
    "ExecuteTime": {
     "end_time": "2024-12-10T19:12:45.546141Z",
     "start_time": "2024-12-10T19:12:45.495710Z"
    }
   },
   "outputs": [],
   "source": [
    "wine_reviews.info()"
   ]
  },
  {
   "cell_type": "markdown",
   "metadata": {},
   "source": [
    "<div style=\"display: flex; justify-content: space-between;\">\n",
    "<div style=\"width: 48%; line-height: 1.5;\">\n",
    "\n",
    "Data types provide insight into how the data is stored internally. For example, `float64` represents a 64-bit floating point number, while `int64` refers to a 64-bit integer.\n",
    "\n",
    "Columns containing only strings are not assigned a specific string type. Instead, they are classified as `object` type.\n",
    "\n",
    "You can easily convert a column from one data type to another, as long as the conversion is valid, using the `astype()` function.\n",
    "\n",
    "</div>\n",
    "<div style=\"width: 48%; line-height: 1.5;color: grey;\">\n",
    "\n",
    "Datentypen geben Aufschluss darüber, wie die Daten intern gespeichert werden. `float64` steht zum Beispiel für eine 64-Bit-Gleitkommazahl, während `int64` sich auf eine 64-Bit-Ganzzahl bezieht.\n",
    "\n",
    "Spalten, die nur Zeichenketten enthalten, wird kein bestimmter Zeichenkettentyp zugewiesen. Stattdessen werden sie als `object`-Typ klassifiziert.\n",
    "\n",
    "Sie können eine Spalte leicht von einem Datentyp in einen anderen umwandeln, solange die Umwandlung gültig ist, indem Sie die Funktion `astype()` verwenden.\n",
    "\n",
    "</div>\n",
    "</div>"
   ]
  },
  {
   "cell_type": "code",
   "execution_count": null,
   "metadata": {
    "ExecuteTime": {
     "end_time": "2024-12-10T19:12:47.575092Z",
     "start_time": "2024-12-10T19:12:47.565663Z"
    }
   },
   "outputs": [],
   "source": [
    "wine_reviews.dtypes"
   ]
  },
  {
   "cell_type": "markdown",
   "metadata": {},
   "source": [
    "| **Dtype**             | **Description**                                  | **Beschreibung**                                   |\n",
    "|------------------------|---------------------------------------------------------|------------------------------------------------------------|\n",
    "| `int`                 | Integer values (e.g., `int64`, `int32`).                 | Ganzzahlige Werte (z. B. `int64`, `int32`).                |\n",
    "| `float`               | Floating-point numbers (e.g., `float64`, `float32`).     | Gleitkommazahlen (z. B. `float64`, `float32`).             |\n",
    "| `object`              | General object type, often used for strings.             | Allgemeiner Objekttyp, oft für Strings verwendet.           |\n",
    "| `string`              | Pandas-specific string type for better string handling.  | Pandas-spezifischer String-Typ für bessere String-Verarbeitung. |\n",
    "| `bool`                | Boolean values (`True`, `False`).                        | Boolesche Werte (`True`, `False`).                         |\n",
    "| `category`            | Efficient type for categorical data.                    | Effizienter Typ für kategoriale Daten.                     |\n",
    "| `datetime64[ns]`      | Dates and times with nanosecond precision.               | Datums- und Zeitangaben mit Nanosekunden-Genauigkeit.       |\n",
    "| `timedelta64[ns]`     | Differences between two datetime values (durations).     | Differenzen zwischen zwei Datumswerten (Dauer).            |\n",
    "| `Period`              | Represents time periods (e.g., months, quarters).        | Stellt Zeitperioden dar (z. B. Monate, Quartale).          |\n",
    "| `Interval`            | Represents interval ranges (e.g., `(0, 1]`).             | Stellt Intervallbereiche dar (z. B. `(0, 1]`).             |\n",
    "| `complex`             | Complex numbers (e.g., `complex128`).                    | Komplexe Zahlen (z. B. `complex128`).                      |"
   ]
  },
  {
   "cell_type": "markdown",
   "metadata": {},
   "source": [
    "<div style=\"display: flex; justify-content: space-between;\">\n",
    "<div style=\"width: 48%; line-height: 1.5;\">\n",
    "\n",
    "# Indexing (yes, again) \n",
    "\n",
    "</div>\n",
    "<div style=\"width: 48%; line-height: 1.5;color: grey;\">\n",
    "\n",
    "# Indizierung (ja, schon wieder) \n",
    "\n",
    "</div>\n",
    "</div>"
   ]
  },
  {
   "cell_type": "markdown",
   "metadata": {},
   "source": [
    "<div style=\"display: flex; justify-content: space-between;\">\n",
    "<div style=\"width: 48%; line-height: 1.5;\">\n",
    "\n",
    "## Selecting specific columns \n",
    "\n",
    "We can access the columns of a DataFrame using the `[]` indexing operator.\n",
    "\n",
    "```python\n",
    "df['column_name']\n",
    "```\n",
    "\n",
    "</div>\n",
    "<div style=\"width: 48%; line-height: 1.5;color: grey;\">\n",
    "\n",
    "## Auswahl von bestimmten Spalten\n",
    "\n",
    "Wir können auf die Spalten eines DataFrame mit dem Indizierungsoperator `[]` zugreifen.\n",
    "\n",
    "```python\n",
    "df['column_name']\n",
    "```\n",
    "\n",
    "</div>\n",
    "</div>"
   ]
  },
  {
   "cell_type": "markdown",
   "metadata": {},
   "source": [
    "<div style=\"text-align: center;\">\n",
    "    <img src=\"https://pandas.pydata.org/docs/_images/03_subset_columns.svg\" style=\"height: 150px;\">\n",
    "</div>"
   ]
  },
  {
   "cell_type": "code",
   "execution_count": null,
   "metadata": {},
   "outputs": [],
   "source": [
    "wine_reviews['country']"
   ]
  },
  {
   "cell_type": "markdown",
   "metadata": {},
   "source": [
    "<div style=\"display: flex; justify-content: space-between;\">\n",
    "<div style=\"width: 48%; line-height: 1.5;\">\n",
    "\n",
    "To select multiple columns, use a list of column names within the selection brackets `[]`.\n",
    "\n",
    "The inner square brackets define a Python list with column names, whereas the outer brackets are used to select the data from a pandas DataFrame as seen in the previous example.\n",
    "</div>\n",
    "<div style=\"width: 48%; line-height: 1.5;color: grey;\">\n",
    "\n",
    "Um mehrere Spalten auszuwählen, verwenden Sie eine Liste von Spaltennamen innerhalb der Auswahlklammern `[]`.\n",
    "\n",
    "Die inneren eckigen Klammern definieren eine Python-Liste mit Spaltennamen, während die äußeren Klammern verwendet werden, um die Daten aus einem pandas DataFrame auszuwählen, wie im vorherigen Beispiel zu sehen.\n",
    "\n",
    "</div>\n",
    "</div>"
   ]
  },
  {
   "cell_type": "code",
   "execution_count": null,
   "metadata": {
    "ExecuteTime": {
     "end_time": "2024-12-10T19:21:35.025869Z",
     "start_time": "2024-12-10T19:21:35.003208Z"
    }
   },
   "outputs": [],
   "source": [
    "wine_reviews[['country','province']]"
   ]
  },
  {
   "cell_type": "markdown",
   "metadata": {},
   "source": [
    "<div class=\"alert alert-block alert-light\">\n",
    "\n",
    "<div style=\"display: flex; justify-content: space-between;\">\n",
    "<div style=\"width: 48%; line-height: 1.75;\">\n",
    "\n",
    "#### Exercise\n",
    "\n",
    "Select the `description` column from the `wine_reviews` dataset and assign the result to a variable called `descriptions`.\n",
    "Look at `descriptions`.\n",
    "\n",
    "Create a subset of the `wine_reviews` dataset by selecting the columns `country`, `province`, `region_1` and `region_2` and assigning this operation to a variable called `locations`. Look at `locations`.\n",
    "\n",
    "</div>\n",
    "<div style=\"width: 48%; line-height: 1.75;color: grey;\">\n",
    "\n",
    "#### Übung\n",
    "\n",
    "Wählen Sie die Spalte `description` aus dem Datensatz `wine_reviews` aus und weisen Sie das Ergebnis einer Variablen namens `descriptions` zu.\n",
    "Sehen Sie sich `descriptions` an.\n",
    "\n",
    "Erstellen Sie eine Teilmenge des Datensatzes \"wine_reviews\", indem Sie die Spalten `country`, `province`, `region_1` und `region_2` auswählen und weisen Sie das Ergebnis einer Variablen namens `locations` zu. Sehen Sie sich `locations` an.\n",
    "\n",
    "</div>\n",
    "</div>"
   ]
  },
  {
   "cell_type": "code",
   "execution_count": null,
   "metadata": {
    "ExecuteTime": {
     "end_time": "2024-12-10T19:21:42.087802Z",
     "start_time": "2024-12-10T19:21:42.056029Z"
    }
   },
   "outputs": [],
   "source": [
    "countdown_timer(10)"
   ]
  },
  {
   "cell_type": "code",
   "execution_count": null,
   "metadata": {},
   "outputs": [],
   "source": [
    "locations = wine_reviews[[\"country\", \"province\", \"region_1\", \"region_2\"]]\n",
    "\n",
    "locations"
   ]
  },
  {
   "cell_type": "code",
   "execution_count": null,
   "metadata": {
    "ExecuteTime": {
     "end_time": "2024-12-10T19:21:43.577160Z",
     "start_time": "2024-12-10T19:21:43.566168Z"
    }
   },
   "outputs": [],
   "source": [
    "desc = wine_reviews[\"description\"]\n",
    "\n",
    "print(desc)\n",
    "print()\n",
    "print(type(desc))"
   ]
  },
  {
   "cell_type": "markdown",
   "metadata": {},
   "source": [
    "<div style=\"display: flex; justify-content: space-between;\">\n",
    "<div style=\"width: 48%; line-height: 1.7;\">\n",
    "\n",
    "## Selecting specific rows and cells\n",
    "\n",
    "Accessing columns in pandas is straightforward. However, indexing both columns and rows, or selecting specific cells, can quickly lead to ambiguity. \n",
    "\n",
    "If you want to access a row or a single element, you might be tempted to write, for example, `wine_reviews[0, \"country\"]`: this does not work, because the `df[...]` syntax in pandas is reserved for column selection, not combined row and column indexing. \n",
    "\n",
    "The best way to access and assign values to columns, rows, and individual cells, is to use two dedicated DataFrame methods: `.loc` and `.iloc`.\n",
    "\n",
    "</div>\n",
    "<div style=\"width: 48%; line-height: 1.5;color: grey;\">\n",
    "\n",
    "## Auswahl bestimmter Zeilen und Zellen\n",
    "\n",
    "Der Zugriff auf Spalten in pandas ist sehr einfach. Allerdings kann die Indizierung von Spalten und Zeilen oder die Auswahl bestimmter Zellen schnell zu Unklarheiten führen.\n",
    "\n",
    "Wenn Sie auf eine Zeile oder ein einzelnes Element zugreifen wollen, könnten Sie versucht sein, zum Beispiel `wine_reviews[0, \"country\"]` zu schreiben: Das funktioniert nicht, weil die `df[...]`-Syntax in Pandas für die Spaltenauswahl reserviert ist, nicht für die kombinierte Zeilen- und Spaltenindexierung.\n",
    "\n",
    "Der beste Weg, um auf Spalten, Zeilen und einzelne Zellen zuzugreifen und ihnen Werte zuzuweisen, ist die Verwendung von zwei speziellen DataFrame-Methoden: `.loc` und `.iloc`.\n",
    "\n",
    "</div>\n",
    "</div>"
   ]
  },
  {
   "cell_type": "markdown",
   "metadata": {},
   "source": [
    "<div style=\"text-align: left;\">\n",
    "    <img src=\"https://pandas.pydata.org/docs/_images/03_subset_rows.svg\" style=\"height: 150px;\">\n",
    "</div>"
   ]
  },
  {
   "cell_type": "markdown",
   "metadata": {},
   "source": [
    "<div style=\"text-align: left;\">\n",
    "    <img src=\"https://pandas.pydata.org/docs/_images/03_subset_columns_rows.svg\" style=\"height: 150px;\">\n",
    "</div>"
   ]
  },
  {
   "cell_type": "markdown",
   "metadata": {},
   "source": [
    "<div style=\"display: flex; justify-content: space-between;\">\n",
    "<div style=\"width: 48%; line-height: 1.5;\">\n",
    "\n",
    "These are specialized pandas operators designed for more advanced indexing operations:\n",
    "\n",
    "- `iloc`: Allows you to access data by integer positions (row/column indices).\n",
    "\n",
    "- `loc`: Allows you to access data by labels (row/column names).\n",
    "\n",
    "</div>\n",
    "<div style=\"width: 48%; line-height: 1.5; color: grey;\">\n",
    "\n",
    "Dies sind spezialisierte pandas-Operatoren, die für fortgeschrittene Indizierungsoperationen entwickelt wurden:\n",
    "\n",
    "- `iloc`: Ermöglicht den Zugriff auf Daten über ganzzahlige Positionen (Zeilen/Spalten-Indizes).\n",
    "- `loc`: Ermöglicht den Zugriff auf Daten über Bezeichnungen (Zeilen/Spaltennamen).\n",
    "\n",
    "</div>\n",
    "</div>\n",
    "\n",
    "<div style=\"text-align: center;\">\n",
    "\n",
    "```python\n",
    "df.iloc[row_selection, column_selection]\n",
    "df.loc[row_selection, column_selection]\n",
    "```\n",
    "\n",
    "</div>"
   ]
  },
  {
   "cell_type": "markdown",
   "metadata": {},
   "source": [
    "<div style=\"display: flex; justify-content: space-between;\">\n",
    "<div style=\"width: 48%; line-height: 1.5;\">\n",
    "\n",
    "The part before the comma is the rows you want, and the part after the comma is the columns you want to select.\n",
    "\n",
    "For more complex data manipulation tasks, such as filtering by conditions, selecting specific rows or columns, or slicing data based on both row and column labels, `loc` and `iloc` are the preferred methods to use. They offer greater flexibility and control over how you work with DataFrames.\n",
    "\n",
    "</div>\n",
    "<div style=\"width: 48%; line-height: 1.5; color: grey;\">\n",
    "\n",
    "Der Teil vor dem Komma steht für die gewünschten Zeilen und der Teil nach dem Komma für die Spalten, die Sie auswählen möchten.\n",
    "\n",
    "Für komplexere Datenmanipulationsaufgaben, wie z. B. das Filtern nach Bedingungen, die Auswahl bestimmter Zeilen oder Spalten oder das Aufteilen von Daten auf Grundlage von Zeilen- und Spaltenbeschriftungen, sind `loc` und `iloc` die bevorzugten Methoden. Sie bieten mehr Flexibilität und Kontrolle bei der Arbeit mit DataFrames.\n",
    "\n",
    "</div>\n",
    "</div>"
   ]
  },
  {
   "cell_type": "markdown",
   "metadata": {},
   "source": [
    "<div style=\"display: flex; justify-content: space-between;\">\n",
    "<div style=\"width: 48%; line-height: 1.7;\">\n",
    "\n",
    "###  Index-based selection: `iloc`\n",
    "\n",
    "The `iloc` function in pandas is used for **positional indexing**, working similarly to slicing in Python lists or arrays but applied to DataFrames.\n",
    "\n",
    "```python\n",
    "df.iloc[row_selection, column_selection]\n",
    "```\n",
    "\n",
    "- **Row and column selection** <br>\n",
    "Indexing is zero-based. Use `:` to select all. <br>\n",
    "`df.iloc[0, :] == df.iloc[0]` selects the first row. <br> \n",
    "`df.iloc[:, 1]` selects the second column. \n",
    "\n",
    "- **Single element selection**  <br>\n",
    "`df.iloc[2, 3]` retrieves the value at the third row and fourth column.\n",
    "\n",
    "- **Slicing** <br>\n",
    "Like lists, `iloc` supports slicing. <br>\n",
    "For example, `df.iloc[1:4]` selects rows 1, 2, and 3 (start inclusive, stop exclusive).\n",
    "\n",
    "- **Negative indexing** <br>\n",
    "`iloc` supports negative indices to count from the end. <br> \n",
    "`df.iloc[-1]` selects the last row.\n",
    "\n",
    "- **Mixed indexing** <br>\n",
    "Combine scalars and slices.<br>\n",
    "`df. iloc[0, 1:3]` selects the first row and columns 1–2. \n",
    "\n",
    "\n",
    "</div>\n",
    "<div style=\"width: 48%; line-height: 1.7;color: grey;\">\n",
    "\n",
    "### Indexbasierte Auswahl: `iloc`\n",
    "\n",
    "Die Funktion `iloc` in pandas dient der **Positionsindizierung**, die ähnlich wie das Slicing in Python-Listen oder -Arrays funktioniert, aber auf DataFrames angewendet wird.\n",
    "\n",
    "```python\n",
    "df.iloc[row_selection, column_selection]\n",
    "```\n",
    "\n",
    "- **Zeilen- und Spaltenauswahl** <br>\n",
    "Die Indizierung ist nullbasiert. Verwenden Sie `:`, um alles auszuwählen. <br>\n",
    "`df.iloc[0, :] == df.iloc[0]` wählt die erste Zeile aus. <br>\n",
    "`df.iloc[:, 1]` wählt die zweite Spalte aus.\n",
    "\n",
    "- **Einzelelementauswahl** <br>\n",
    "`df.iloc[2, 3]` holt den Wert in der dritten Zeile und vierten Spalte.\n",
    "\n",
    "- **Slicing** <br>\n",
    "Wie Listen unterstützt auch `iloc` das Slicing. <br>\n",
    "`df.iloc[1:4]` wählt die Zeilen 1, 2 und 3 aus (Anfang inklusive, Ende exklusiv).\n",
    "\n",
    "- **Negative Indizierung** <br>\n",
    "`iloc` unterstützt negative Indizes, um vom Ende her zu zählen. <br>\n",
    "`df.iloc[-1]` wählt die letzte Zeile aus.\n",
    "\n",
    "- **Gemischte Indizierung** <br>\n",
    "Kombinieren Sie Skalare und Slices.<br>\n",
    "`df.iloc[0, 1:3]` wählt die erste Zeile und die Spalten 1-2 aus.\n",
    "\n",
    "</div>\n",
    "</div>"
   ]
  },
  {
   "cell_type": "code",
   "execution_count": null,
   "metadata": {
    "ExecuteTime": {
     "end_time": "2024-12-10T19:24:01.325249Z",
     "start_time": "2024-12-10T19:24:01.306670Z"
    }
   },
   "outputs": [],
   "source": [
    "wine_reviews.head()"
   ]
  },
  {
   "cell_type": "code",
   "execution_count": null,
   "metadata": {
    "ExecuteTime": {
     "end_time": "2024-12-10T19:24:02.411721Z",
     "start_time": "2024-12-10T19:24:02.401116Z"
    }
   },
   "outputs": [],
   "source": [
    "wine_reviews.iloc[0,:]"
   ]
  },
  {
   "cell_type": "code",
   "execution_count": null,
   "metadata": {
    "ExecuteTime": {
     "end_time": "2024-12-10T19:24:11.782786Z",
     "start_time": "2024-12-10T19:24:11.763366Z"
    }
   },
   "outputs": [],
   "source": [
    "wine_reviews.iloc[0:5,:]"
   ]
  },
  {
   "cell_type": "code",
   "execution_count": null,
   "metadata": {
    "ExecuteTime": {
     "end_time": "2024-12-10T19:25:15.585317Z",
     "start_time": "2024-12-10T19:25:15.578592Z"
    }
   },
   "outputs": [],
   "source": [
    "wine_reviews.iloc[0,1]"
   ]
  },
  {
   "cell_type": "markdown",
   "metadata": {},
   "source": [
    "<div class=\"alert alert-block alert-light\">\n",
    "\n",
    "<div style=\"display: flex; justify-content: space-between;\">\n",
    "<div style=\"width: 48%; line-height: 1.5;\">\n",
    "\n",
    "#### Exercise\n",
    "\n",
    "1. Select the first 20 rows of the dataset.\n",
    "\n",
    "2. Extract rows 50 to 100 and display columns 0, 2, and 3.\n",
    "\n",
    "3. Get the last 10 rows of the dataset.\n",
    "\n",
    "4. Select every third row and first three columns from the first 50 rows.\n",
    "\n",
    "5. Retrieve rows 5 to 15 and only the first two columns.\n",
    "\n",
    "</div>\n",
    "<div style=\"width: 48%; line-height: 1.5;color: grey;\">\n",
    "\n",
    "#### Übung\n",
    "\n",
    "1. Wählen Sie die ersten 20 Zeilen des Datensatzes aus.\n",
    "\n",
    "2. Extrahieren Sie die Zeilen 50 bis 100 und zeigen Sie die Spalten 0, 2 und 3 an.\n",
    "\n",
    "3. Holen Sie die letzten 10 Zeilen des Datensatzes.\n",
    "\n",
    "4. Wählen Sie jede dritte Zeile und die ersten drei Spalten der ersten 50 Zeilen aus.\n",
    "\n",
    "5. Rufen Sie die Zeilen 5 bis 15 und nur die ersten beiden Spalten ab.\n",
    "\n",
    "</div>\n",
    "</div>"
   ]
  },
  {
   "cell_type": "code",
   "execution_count": null,
   "metadata": {},
   "outputs": [],
   "source": [
    "countdown_timer(15)"
   ]
  },
  {
   "cell_type": "markdown",
   "metadata": {},
   "source": [
    "<details>\n",
    "  <summary>Click to see solution</summary> \n",
    "\n",
    "#### Solution:\n",
    "\n",
    "1. **Select the first 20 rows of the dataset**:\n",
    "   ```python\n",
    "   first_20_rows = df.iloc[:20]\n",
    "   ```\n",
    "\n",
    "2. **Extract rows 50 to 100 and display columns 0, 2, and 3**:\n",
    "   ```python\n",
    "   partial_data = df.iloc[50:101, [0, 2, 3]]\n",
    "   ```\n",
    "\n",
    "3. **Get the last 10 rows of the dataset**:\n",
    "   ```python\n",
    "   last_10_rows = df.iloc[-10:]\n",
    "   ```\n",
    "\n",
    "4. **Select every third row and first three columns from the first 50 rows**:\n",
    "   ```python\n",
    "   subset = df.iloc[0:50:3, :3]\n",
    "   ```\n",
    "\n",
    "5. **Retrieve rows 5 to 15 and only the first two columns**:\n",
    "   ```python\n",
    "   specific_rows_cols = df.iloc[5:16, :2]\n",
    "   ```\n",
    "</details>"
   ]
  },
  {
   "cell_type": "markdown",
   "metadata": {},
   "source": [
    "<div style=\"display: flex; justify-content: space-between;\">\n",
    "<div style=\"width: 48%; line-height: 1.7;\">\n",
    "\n",
    "### Label-based selection: `loc` \n",
    "\n",
    "```python\n",
    "df.iloc[row_selection, column_selection]\n",
    "```\n",
    "\n",
    "The `loc` function in pandas is used for **label-based indexing**, allowing you to access rows and columns by their labels rather than their positions.\n",
    "\n",
    "- **Row and column selection** <br>\n",
    "If your DataFrame has a labeled index, `loc` directly works with those labels instead of numeric positions.<br>\n",
    "`df.loc['row_label'] == df.loc['row_label', :]` selects a row by its label. <br>\n",
    "`df.loc[:, 'column_name']` selects a column by its name. <br>\n",
    "\n",
    "- **Single element selection** <br>\n",
    "`df.loc['row_label', 'column_name']` retrieves the value in the specified row and column based on labels.\n",
    "\n",
    "- **Slicing**  <br>\n",
    "`loc` supports slicing based on labels. Unlike `iloc`, **slicing with `loc` includes both the start and stop labels**. <br>\n",
    "`df.loc['start_label':'stop_label']` selects all rows from the start to the stop label, inclusive.\n",
    "\n",
    "- **Mixed indexing** <br>\n",
    "Combine labels and slices. <br>\n",
    "`df.loc['row_label_1':'row_label_3', 'column_1':'column_3']` selects a subset of rows and columns using their labels.\n",
    "\n",
    "- **Boolean indexing!** <br>\n",
    "Use `loc` with a condition to filter rows. <br>\n",
    "`df.loc[df['column_name'] > 50, 'column_name']` retrieves values in `column_name` where the condition is met.<br>\n",
    "`df.query('column_name > 50')['column_name']` does the same.\n",
    "\n",
    "</div>\n",
    "<div style=\"width: 48%; line-height: 1.7;color: grey;\">\n",
    "\n",
    "### Label-basierte Auswahl: `loc` \n",
    "\n",
    "```python\n",
    "df.iloc[row_selection, column_selection]\n",
    "```\n",
    "\n",
    "Die Funktion `loc` in Pandas dient der **label-basierten Indizierung**, die es Ihnen ermöglicht, auf Zeilen und Spalten anhand ihrer Labels und nicht anhand ihrer Positionen zuzugreifen.\n",
    "\n",
    "- **Zeilen- und Spaltenauswahl** <br>\n",
    "Wenn Ihr DataFrame einen beschrifteten Index hat, arbeitet `loc` direkt mit diesen Beschriftungen anstelle von numerischen Positionen.<br>\n",
    "`df.loc['row_label'] == df.loc['row_label', :]` wählt eine Zeile anhand ihres Labels aus. <br>\n",
    "`df.loc[:, 'column_name']` wählt eine Spalte anhand ihres Namens aus. <br>\n",
    "\n",
    "- **Einzelne Elementauswahl** <br>\n",
    "`df.loc['row_label', 'column_name']` ruft den Wert in der angegebenen Zeile und Spalte anhand der Bezeichnungen ab.\n",
    "\n",
    "- **Slicing** <br>\n",
    "`loc` unterstützt Slicing auf der Basis von Labels. Im Gegensatz zu `iloc` **schließt das Slicing mit `loc` sowohl das Start- als auch das Stopp-Label mit ein**. <br>\n",
    "`df.loc['start_label':'stop_label']` wählt alle Zeilen vom Start- bis zum Stop-Label aus, einschließlich.\n",
    "\n",
    "- **Mixed indexing** <br>\n",
    "Kombiniert Labels und Slices. <br>\n",
    "`df.loc['row_label_1':'row_label_3', 'column_1':'column_3']` wählt eine Teilmenge von Zeilen und Spalten anhand ihrer Labels aus.\n",
    "\n",
    "- **Boolesche Indizierung!** <br>\n",
    "Verwenden Sie `loc` mit einer Bedingung, um Zeilen zu filtern. <br>\n",
    "`df.loc[df['column_name'] > 50, 'column_name']` ruft Werte in `column_name` ab, bei denen die Bedingung erfüllt ist.<br>\n",
    "`df.query('column_name > 50')['column_name']` tut dasselbe.\n",
    "\n",
    "</div>\n",
    "</div>"
   ]
  },
  {
   "cell_type": "markdown",
   "metadata": {},
   "source": [
    "<div style=\"display: flex; justify-content: space-between;\">\n",
    "<div style=\"width: 48%; line-height: 1.5;\">\n",
    "\n",
    "For this example, let’s reload our DataFrame and set the `ID` column as the index, giving us meaningful labels instead of the default numeric index.\n",
    "\n",
    "</div>\n",
    "<div style=\"width: 48%; line-height: 1.5;color: grey;\">\n",
    "\n",
    "Für dieses Beispiel laden wir unseren DataFrame neu und legen die Spalte `ID` als Index fest, wodurch wir aussagekräftige Bezeichnungen anstelle des standardmäßigen numerischen Index erhalten.\n",
    "\n",
    "</div>\n",
    "</div>"
   ]
  },
  {
   "cell_type": "code",
   "execution_count": null,
   "metadata": {
    "ExecuteTime": {
     "end_time": "2024-12-10T19:29:52.609781Z",
     "start_time": "2024-12-10T19:29:52.474935Z"
    }
   },
   "outputs": [],
   "source": [
    "wine_reviews = pd.read_csv('07_wine_reviews_sample.csv', index_col=0)\n",
    "\n",
    "wine_reviews.head(10)"
   ]
  },
  {
   "cell_type": "markdown",
   "metadata": {},
   "source": [
    "<div style=\"display: flex; justify-content: space-between;\">\n",
    "<div style=\"width: 48%; line-height: 1.5;\">\n",
    "\n",
    "##### Get a specific row:\n",
    "\n",
    "</div>\n",
    "<div style=\"width: 48%; line-height: 1.5;color: grey;\">\n",
    "\n",
    "##### Eine bestimmte Zeile abrufen:\n",
    "\n",
    "</div>\n",
    "</div>"
   ]
  },
  {
   "cell_type": "code",
   "execution_count": null,
   "metadata": {
    "ExecuteTime": {
     "end_time": "2024-12-10T19:29:59.389394Z",
     "start_time": "2024-12-10T19:29:59.376632Z"
    }
   },
   "outputs": [],
   "source": [
    "wine_reviews.loc[78169]"
   ]
  },
  {
   "cell_type": "markdown",
   "metadata": {},
   "source": [
    "<div style=\"display: flex; justify-content: space-between;\">\n",
    "<div style=\"width: 48%; line-height: 1.5;\">\n",
    "\n",
    "##### Get a specific element:\n",
    "\n",
    "</div>\n",
    "<div style=\"width: 48%; line-height: 1.5;color: grey;\">\n",
    "\n",
    "##### Ein bestimmtes Element abrufen:\n",
    "\n",
    "</div>\n",
    "</div>"
   ]
  },
  {
   "cell_type": "code",
   "execution_count": null,
   "metadata": {
    "ExecuteTime": {
     "end_time": "2024-12-10T19:30:03.111172Z",
     "start_time": "2024-12-10T19:30:03.103584Z"
    }
   },
   "outputs": [],
   "source": [
    "wine_reviews.loc[78169, 'province']"
   ]
  },
  {
   "cell_type": "markdown",
   "metadata": {},
   "source": [
    "<div style=\"display: flex; justify-content: space-between;\">\n",
    "<div style=\"width: 48%; line-height: 1.5;\">\n",
    "\n",
    "##### Slicing:\n",
    "\n",
    "</div>\n",
    "<div style=\"width: 48%; line-height: 1.5;color: grey;\">\n",
    "\n",
    "##### Slicing:\n",
    "\n",
    "</div>\n",
    "</div>"
   ]
  },
  {
   "cell_type": "code",
   "execution_count": null,
   "metadata": {
    "ExecuteTime": {
     "end_time": "2024-12-10T19:30:06.191661Z",
     "start_time": "2024-12-10T19:30:06.173065Z"
    }
   },
   "outputs": [],
   "source": [
    "wine_reviews.loc[78169:378, 'province':'region_2']      # start and stop labels both included"
   ]
  },
  {
   "cell_type": "markdown",
   "metadata": {},
   "source": [
    "<div style=\"display: flex; justify-content: space-between;\">\n",
    "<div style=\"width: 48%; line-height: 1.5;\">\n",
    "\n",
    "##### Boolean Indexing \n",
    "\n",
    "It is also common to use `loc` in combination with *boolean indexing* (conditional statements) to filter rows by column values: \n",
    "\n",
    "</div>\n",
    "<div style=\"width: 48%; line-height: 1.5;color: grey;\">\n",
    "\n",
    "##### Boolesche Indizierung\n",
    "\n",
    "Es ist auch üblich, `loc` in Kombination mit *boolean indexing* (bedingte Anweisungen) zu verwenden, um Zeilen nach Spaltenwerten zu filtern:\n",
    "\n",
    "</div>\n",
    "</div>"
   ]
  },
  {
   "cell_type": "code",
   "execution_count": null,
   "metadata": {
    "ExecuteTime": {
     "end_time": "2024-12-10T19:30:09.644770Z",
     "start_time": "2024-12-10T19:30:09.623190Z"
    }
   },
   "outputs": [],
   "source": [
    "# Display only the rows where 'country' is Italy\n",
    "\n",
    "wine_reviews.loc[wine_reviews['country'] == 'Italy']"
   ]
  },
  {
   "cell_type": "code",
   "execution_count": null,
   "metadata": {
    "ExecuteTime": {
     "end_time": "2024-12-10T19:30:10.643159Z",
     "start_time": "2024-12-10T19:30:10.624825Z"
    }
   },
   "outputs": [],
   "source": [
    "# Display only the column 'province' of the rows where 'country' is Italy\n",
    "\n",
    "wine_reviews.loc[wine_reviews['country'] == 'Italy', 'province']"
   ]
  },
  {
   "cell_type": "markdown",
   "metadata": {},
   "source": [
    "<div style=\"display: flex; justify-content: space-between;\">\n",
    "<div style=\"width: 48%; line-height: 1.5;\">\n",
    "\n",
    "Boolean indexing with *multiple conditions* allows you to filter a DataFrame based on multiple criteria. \n",
    "\n",
    "When combining multiple conditional statements, each condition must be surrounded by parentheses `()`. Moreover, you can not use `or`/`and`/`not` but need to use `|`/`&`/`~`.\n",
    "\n",
    "\n",
    "</div>\n",
    "<div style=\"width: 48%; line-height: 1.5;color: grey;\">\n",
    "\n",
    "Die boolesche Indizierung mit *Mehrfachbedingungen* ermöglicht es Ihnen, einen DataFrame nach mehreren Kriterien zu filtern.\n",
    "\n",
    "Wenn Sie mehrere bedingte Anweisungen kombinieren, muss jede Bedingung von Klammern `()` umgeben sein. Außerdem können Sie nicht `oder`/`und`/`nicht` verwenden, sondern müssen `|`/`&`/`~` verwenden.\n",
    "\n",
    "</div>\n",
    "</div>"
   ]
  },
  {
   "cell_type": "code",
   "execution_count": null,
   "metadata": {
    "ExecuteTime": {
     "end_time": "2024-12-10T19:30:28.320434Z",
     "start_time": "2024-12-10T19:30:28.276042Z"
    }
   },
   "outputs": [],
   "source": [
    "# Filtering Rows by Multiple Conditions:\n",
    "# Pay attention to parentheses\n",
    "\n",
    "wine_reviews.loc[(wine_reviews['country'] == 'Italy') & (wine_reviews['province'] == 'Tuscany')]"
   ]
  },
  {
   "cell_type": "code",
   "execution_count": null,
   "metadata": {
    "ExecuteTime": {
     "end_time": "2024-12-10T19:30:30.376932Z",
     "start_time": "2024-12-10T19:30:30.331905Z"
    }
   },
   "outputs": [],
   "source": [
    "# Filtering Rows by Multiple Conditions:\n",
    "# Pay attention to parentheses\n",
    "\n",
    "wine_reviews.loc[\n",
    "                (wine_reviews['country'] == 'Italy') \n",
    "                & \n",
    "                (wine_reviews['province'] == 'Tuscany')\n",
    "                ]"
   ]
  },
  {
   "cell_type": "markdown",
   "metadata": {},
   "source": [
    "<div style=\"display: flex; justify-content: space-between;\">\n",
    "<div style=\"width: 48%; line-height: 1.5;\">\n",
    "\n",
    "##### Alternative: `df.query()`\n",
    "\n",
    "The `df.query` method allows you to filter rows in a DataFrame using a concise, natural language-like syntax by writing conditions as a string, avoiding repetitive brackets and making the code cleaner and more agile compared to `loc` with boolean indexing.\n",
    "\n",
    "</div>\n",
    "<div style=\"width: 48%; line-height: 1.5;color: grey;\">\n",
    "\n",
    "##### Alternative: `df.query()`\n",
    "\n",
    "Die Methode `df.query` ermöglicht das Filtern von Zeilen in einem DataFrame unter Verwendung einer prägnanten, der natürlichen Sprache ähnlichen Syntax, indem Bedingungen als String geschrieben werden, wodurch sich wiederholende Klammern vermieden werden und der Code im Vergleich zu `loc` mit boolescher Indizierung sauberer und agiler wird.\n",
    "\n",
    "</div>\n",
    "</div>"
   ]
  },
  {
   "cell_type": "code",
   "execution_count": null,
   "metadata": {
    "ExecuteTime": {
     "end_time": "2024-12-10T19:33:18.827956Z",
     "start_time": "2024-12-10T19:33:18.789515Z"
    }
   },
   "outputs": [],
   "source": [
    "# pay attention to quotation marks\n",
    "\n",
    "wine_reviews.query( ' country == \"Italy\" & province == \"Tuscany\" ' )        # don't use unnecessary spaces: I do it here to highlight the quotation marks"
   ]
  },
  {
   "cell_type": "markdown",
   "metadata": {},
   "source": [
    "<div class=\"alert alert-block alert-light\">\n",
    "\n",
    "<div style=\"display: flex; justify-content: space-between;\">\n",
    "<div style=\"width: 48%; line-height: 1.5;\">\n",
    "\n",
    "#### Exercise\n",
    "\n",
    "Filter the dataset to identify good deals: wines with a score greater than 90 points and a price below $50.\n",
    "\n",
    "- Using `loc`.\n",
    "\n",
    "- Using `query`.\n",
    "\n",
    "</div>\n",
    "<div style=\"width: 48%; line-height: 1.5;color: grey;\">\n",
    "\n",
    "#### Übung\n",
    "\n",
    "Filtern Sie den Datensatz, um Schnäppchen zu identifizieren: Weine mit einer Bewertung von mehr als 90 Punkten und einem Preis unter 50 $.\n",
    "\n",
    "- Mit `loc`.\n",
    "\n",
    "- Mit `query`.\n",
    "\n",
    "</div>\n",
    "</div>"
   ]
  },
  {
   "cell_type": "code",
   "execution_count": null,
   "metadata": {
    "ExecuteTime": {
     "end_time": "2024-12-10T19:37:03.162007Z",
     "start_time": "2024-12-10T19:37:03.121785Z"
    }
   },
   "outputs": [],
   "source": [
    "countdown_timer(10)"
   ]
  },
  {
   "cell_type": "markdown",
   "metadata": {},
   "source": [
    "| **Functionality**   | **Funktionalität**         | **iloc**          | **loc**                                   | **query**             |\n",
    "|--------------------------------|--------------------------------------|---------------------------|--------------------------------------------------|--------------------------------|\n",
    "| **Row Selection**             | Zeilenauswahl                       | `df.iloc[0]`              | `df.loc['row_label']`                            |               N/A                 |\n",
    "| **Column Selection**          | Spaltenauswahl                      | `df.iloc[:, 0]`           | `df.loc[:, 'column_name']`                       |                   N/A             |\n",
    "| **Single Element Selection**  | Auswahl eines einzelnen Elements    | `df.iloc[0, 0]`           | `df.loc['row_label', 'column_name']`            |                            N/A    |\n",
    "| **Slicing**                   | Schneiden                           | `df.iloc[0:3, 0:2]`       | `df.loc['row1':'row3', 'col1':'col3']`            |                           N/A     |\n",
    "| **Boolean Filtering**         | Filterung mit booleschen Bedingungen|      N/A                     | `df.loc[df['column_name'] > 50]`                | `df.query('column_name > 50')`|\n"
   ]
  },
  {
   "cell_type": "markdown",
   "metadata": {},
   "source": [
    "<div class=\"alert alert-warning alert-info\">\n",
    "\n",
    "<div style=\"display: flex; justify-content: space-between;\">\n",
    "<div style=\"width: 48%; line-height: 1.5;\">\n",
    "\n",
    "### Important\n",
    "\n",
    "So far, we have simply displayed subsets of the DataFrame on the screen.\n",
    "\n",
    "Slicing and filtering do not modify the original DataFrame.  \n",
    "**To create a subset of your DataFrame for further analysis, assign the result of any slicing or filtering operation to a new DataFrame**:\n",
    "\n",
    "</div>\n",
    "<div style=\"width: 48%; line-height: 1.5;color: grey;\">\n",
    "\n",
    "### Wichtig\n",
    "\n",
    "Bislang haben wir lediglich Teilmengen des DataFrame auf dem Bildschirm angezeigt.\n",
    "\n",
    "Beim Slicen und Filtern wird der ursprüngliche DataFrame nicht verändert.  \n",
    "**Um eine Teilmenge Ihres DataFrame für die weitere Analyse zu erstellen, weisen Sie das Ergebnis einer beliebigen Zerlegungs- oder Filterungsoperation einem neuen DataFrame zu**:\n",
    "\n",
    "</div>\n",
    "</div>\n",
    "\n",
    "<div style=\"text-align: center;\">\n",
    "\n",
    "```python\n",
    "italian_wines = wine_reviews.query('country == \"Italy\"')\n",
    "```\n",
    "\n",
    "</div>"
   ]
  },
  {
   "cell_type": "markdown",
   "metadata": {},
   "source": [
    "<div style=\"display: flex; justify-content: space-between;\">\n",
    "<div style=\"width: 48%; line-height: 1.5;\">\n",
    "\n",
    "# Assigning values\n",
    "\n",
    "Both `iloc` and `loc` can be used to modify entries in a DataFrame. By assigning a value to the result of a selection, you directly update the DataFrame.\n",
    "\n",
    "**By default, changes made using `loc` and `iloc` do take effect in place**, meaning the original DataFrame is modified.\n",
    "\n",
    "But be reassured: even though the DataFrame is updated directly, your CSV file remains unchanged. Your data is still safely stored on disk.\n",
    "\n",
    "If you want to preserve the original DataFrame and avoid modifying it, make an explicit copy first:\n",
    "\n",
    "</div>\n",
    "<div style=\"width: 48%; line-height: 1.5;color: grey;\">\n",
    "\n",
    "# Zuweisung von Werten\n",
    "\n",
    "Sowohl `iloc` als auch `loc` können verwendet werden, um Einträge in einem DataFrame zu ändern. Indem Sie dem Ergebnis einer Auswahl einen Wert zuweisen, aktualisieren Sie direkt den DataFrame.\n",
    "\n",
    "**Standardmäßig werden Änderungen, die mit `loc` und `iloc` vorgenommen werden, an Ort und Stelle wirksam**, d.h. der ursprüngliche DataFrame wird direkt geändert.\n",
    "\n",
    "Aber seien Sie beruhigt: Auch wenn der DataFrame direkt aktualisiert wird, bleibt Ihre CSV-Datei unverändert. Ihre Daten sind weiterhin sicher auf der Festplatte gespeichert.\n",
    "\n",
    "Wenn Sie den ursprünglichen DataFrame erhalten und nicht verändern wollen, erstellen Sie zunächst eine explizite Kopie:\n",
    "\n",
    "</div>\n",
    "</div>"
   ]
  },
  {
   "cell_type": "code",
   "execution_count": null,
   "metadata": {
    "ExecuteTime": {
     "end_time": "2024-12-10T19:37:39.997160Z",
     "start_time": "2024-12-10T19:37:39.974137Z"
    }
   },
   "outputs": [],
   "source": [
    "modified_reviews = wine_reviews.copy()\n",
    "\n",
    "modified_reviews.head()"
   ]
  },
  {
   "cell_type": "markdown",
   "metadata": {},
   "source": [
    "<div style=\"display: flex; justify-content: space-between;\">\n",
    "<div style=\"width: 48%; line-height: 1.75;\">\n",
    "\n",
    "### Assigning Values with `iloc`\n",
    "\n",
    "- **Updating a single cell** <br>\n",
    "`df.iloc[2, 4] = 30`  assigns 30 to the cell at row 2 and column 4 \n",
    "\n",
    "\n",
    "- **Updating multiple cells in a column** <br>\n",
    "`df.iloc[0:3, 4] = 60`  assigns 60 to the first three rows of column 4\n",
    "\n",
    "\n",
    "- **Updating multiple cells in multiple columns** <br>\n",
    "`df.iloc[1:4, [2, 5]] = 0`  assigns 0 to rows 1-3 for columns 2 and 5\n",
    "\n",
    "\n",
    "### Assigning Values with `loc`\n",
    "\n",
    "- **Updating a single cell** <br>\n",
    "`df.loc[3, 'price'] = 45`  assigns 45 to the `price` column in row with index 3\n",
    "\n",
    "\n",
    "- **Updating multiple cells in a column** <br>\n",
    "`df.loc[df['points'] > 90, 'price'] = 100`  updates the `price` for all rows where `points` > 90, setting those prices to 100\n",
    "\n",
    "\n",
    "- **Updating multiple cells in multiple columns** <br>\n",
    "`df.loc[0:2, ['price', 'points']] = [50, 88]`  updates rows 0, 1, and 2 for `price` and `points`\n",
    "\n",
    "\n",
    "- **Updating whole columns** <br>\n",
    "`df[\"price\"] = df[\"price\"] / 2`   everything is 50% off! <br>\n",
    "`df[\"price\"] = 0`   Everything is free!\n",
    "\n",
    "\n",
    "</div>\n",
    "<div style=\"width: 48%; line-height: 1.75;color: grey;\">\n",
    "\n",
    "### Zuweisung von Werten mit `iloc`\n",
    "\n",
    "- **Aktualisierung einer einzelnen Zelle** <br>\n",
    "`df.iloc[2, 4] = 30` weist der Zelle in Zeile 2 und Spalte 4 den Wert 30 zu\n",
    "\n",
    "\n",
    "- **Aktualisierung mehrerer Zellen in einer Spalte** <br>\n",
    "`df.iloc[0:3, 4] = 60` weist den ersten drei Zeilen der Spalte 4 die Zahl 60 zu\n",
    "\n",
    "\n",
    "- **Aktualisierung mehrerer Zellen in mehreren Spalten** <br>\n",
    "`df.iloc[1:4, [2, 5]] = 0` weist den Zeilen 1-3 der Spalten 2 und 5 die Zahl 0 zu\n",
    "\n",
    "\n",
    "### Zuweisung von Werten mit `loc`\n",
    "\n",
    "- **Aktualisierung einer einzelnen Zelle** <br>\n",
    "`df.loc[3, 'price'] = 45` weist der Spalte `price` in Zeile mit Index 3 den Wert 45 zu\n",
    "\n",
    "\n",
    "- **Aktualisierung mehrerer Zellen in einer Spalte** <br>\n",
    "`df.loc[df['points'] > 90, 'price'] = 100` aktualisiert `price` für alle Zeilen, in denen `points` > 90 sind, und setzt diese Preise auf 100\n",
    "\n",
    "\n",
    "- **Aktualisierung mehrerer Zellen in mehreren Spalten** <br>\n",
    "`df.loc[0:2, ['price', 'points']] = [50, 88]` aktualisiert die Zeilen 0, 1 und 2 für `price` und `points`\n",
    "\n",
    "\n",
    "- **Aktualisierung ganzer Spalten** <br>\n",
    "`df[\"price\"] = df[\"price\"] / 2` alles ist 50% reduziert! <br>\n",
    "`df[\"price\"] = 0` Alles ist kostenlos!\n",
    "\n",
    "</div>\n",
    "</div>"
   ]
  },
  {
   "cell_type": "markdown",
   "metadata": {},
   "source": [
    "<div style=\"display: flex; justify-content: space-between;\">\n",
    "<div style=\"width: 48%; line-height: 1.5;\">\n",
    "\n",
    "## Creating new columns\n",
    "\n",
    "As we have seen in the latest example, we can perform mathematical operations on entire columns simultaneously.\n",
    "\n",
    "**pandas, like NumPy arrays**, supports mathematical operations directly on DataFrame columns, allowing you to easily create new columns based on existing ones. \n",
    "\n",
    "You can perform any operation between columns. \n",
    "The operation is applied element-wise (row by row): you do not need to use a loop to iterate each of the rows!\n",
    "\n",
    "To create a new column, use the `[]` brackets with the new column name at the left side of the assignment.\n",
    "\n",
    "</div>\n",
    "<div style=\"width: 48%; line-height: 1.5;color: grey;\">\n",
    "\n",
    "## Erstellen neuer Spalten\n",
    "\n",
    "Wie wir im letzten Beispiel gesehen haben, können wir mathematische Operationen auf ganzen Spalten gleichzeitig durchführen.\n",
    "\n",
    "**pandas, wie NumPy-Arrays**, unterstützt mathematische Operationen direkt auf DataFrame-Spalten, so dass Sie auf einfache Weise neue Spalten auf der Grundlage bestehender Spalten erstellen können.\n",
    "\n",
    "Sie können jede beliebige Operation zwischen den Spalten durchführen.\n",
    "Die Operation wird elementweise (Zeile für Zeile) durchgeführt: Sie müssen keine Schleife verwenden, um jede Zeile zu durchlaufen!\n",
    "\n",
    "Um eine neue Spalte zu erstellen, verwenden Sie die Klammern `[]` mit dem Namen der neuen Spalte auf der linken Seite der Zuordnung.\n",
    "\n",
    "</div>\n",
    "</div>"
   ]
  },
  {
   "cell_type": "markdown",
   "metadata": {},
   "source": [
    "<div style=\"text-align: center;\">\n",
    "    <img src=\"https://pandas.pydata.org/docs/_images/05_newcolumn_2.svg\" style=\"height: 150px;\">\n",
    "</div>"
   ]
  },
  {
   "cell_type": "markdown",
   "metadata": {},
   "source": [
    "```python\n",
    "# Examples\n",
    "df['C'] = df['A'] + 10\n",
    "df['D'] = df['A'] + df['B']\n",
    "```"
   ]
  },
  {
   "cell_type": "markdown",
   "metadata": {},
   "source": [
    "<div style=\"display: flex; justify-content: space-between;\">\n",
    "<div style=\"width: 48%; line-height: 1.5;\">\n",
    "\n",
    "Using the same logic, you can also override the values in a column to update them.\n",
    "For instance, you can convert the `points` column from its current `int64` data type to `float64` like this:\n",
    "\n",
    "</div>\n",
    "<div style=\"width: 48%; line-height: 1.5;color: grey;\">\n",
    "\n",
    "Mit der gleichen Logik können Sie auch die Werte in einer Spalte überschreiben, um sie zu aktualisieren.\n",
    "So können Sie beispielsweise die Spalte `points` von ihrem derzeitigen Datentyp `int64` in `float64` umwandeln:\n",
    "\n",
    "</div>\n",
    "</div>"
   ]
  },
  {
   "cell_type": "code",
   "execution_count": null,
   "metadata": {},
   "outputs": [],
   "source": [
    "wine_reviews['points'] = wine_reviews['points'].astype('float64')\n",
    "\n",
    "wine_reviews"
   ]
  },
  {
   "cell_type": "markdown",
   "metadata": {},
   "source": [
    "<div class=\"alert alert-block alert-light\">\n",
    "\n",
    "<div style=\"display: flex; justify-content: space-between;\">\n",
    "<div style=\"width: 48%; line-height: 1.5;\">\n",
    "\n",
    "#### Exercise\n",
    "\n",
    "1. As of November 2024, the USD/EUR conversion rate is 0.95. Create a new column that calculates and returns the price in EUR.\n",
    "\n",
    "2. Which wines offer the best value? Create a new column that calculates the ratio of points to price. (We will see next time how to sort the results and actually identify the best value. For now, just create the column.)\n",
    "\n",
    "Assign meaningful names to both of the new columns.\n",
    "\n",
    "</div>\n",
    "<div style=\"width: 48%; line-height: 1.5;color: grey;\">\n",
    "\n",
    "#### Übung\n",
    "\n",
    "1. Im November 2024 beträgt der Umrechnungskurs USD/EUR 0.95. Erstellen Sie eine neue Spalte, die den Preis in EUR berechnet und ausgibt.\n",
    "\n",
    "2. Welche Weine bieten das beste Preis-Leistungs-Verhältnis? Erstellen Sie eine neue Spalte, die das Verhältnis von Punkten zu Preis berechnet. (Wir werden nächstes Mal sehen, wie man die Ergebnisse sortiert und tatsächlich den besten Wert ermittelt. Erstellen Sie jetzt erst einmal die Spalte).\n",
    "\n",
    "Weisen Sie den beiden neuen Spalten aussagekräftige Namen zu.\n",
    "\n",
    "</div>\n",
    "</div>"
   ]
  },
  {
   "cell_type": "code",
   "execution_count": null,
   "metadata": {
    "ExecuteTime": {
     "end_time": "2024-12-10T19:39:16.872747Z",
     "start_time": "2024-12-10T19:39:16.835373Z"
    }
   },
   "outputs": [],
   "source": [
    "countdown_timer(10)"
   ]
  },
  {
   "cell_type": "code",
   "execution_count": null,
   "metadata": {
    "ExecuteTime": {
     "end_time": "2024-12-10T19:39:18.501114Z",
     "start_time": "2024-12-10T19:39:18.466447Z"
    }
   },
   "outputs": [],
   "source": [
    "# I want to know the price in Euros\n",
    "\n",
    "wine_reviews[\"price in EUR\"] = wine_reviews[\"price\"] * 0.95            # USD ≈ 0.95 EUR as of November 2024\n",
    "\n",
    "wine_reviews.head()"
   ]
  },
  {
   "cell_type": "code",
   "execution_count": null,
   "metadata": {
    "ExecuteTime": {
     "end_time": "2024-12-10T19:39:25.093085Z",
     "start_time": "2024-12-10T19:39:25.067019Z"
    }
   },
   "outputs": [],
   "source": [
    "wine_reviews[\"quality/price ratio\"] = wine_reviews[\"points\"] / wine_reviews[\"price\"]\n",
    "\n",
    "wine_reviews"
   ]
  },
  {
   "cell_type": "markdown",
   "metadata": {},
   "source": [
    "<div style=\"display: flex; justify-content: space-between;\">\n",
    "<div style=\"width: 48%; line-height: 1.5;\">\n",
    "\n",
    "### A more relevant example\n",
    "\n",
    "For scientific applications, the formulas used to calculate new columns can be as complex as necessary, fully utilizing the capabilities of NumPy.\n",
    "\n",
    "Let’s say we want to calculate the Lennard-Jones potential analytically, similar to what we did in the lecture about NumPy. \n",
    "At that time, we created two arrays: one representing the interatomic distances (`x` values) and the other representing the potential energy calculated using the Lennard-Jones formula (`y` values). \n",
    "\n",
    "It would be helpful to organize all this data in a table, such as a DataFrame.\n",
    "\n",
    "If you already have a file containing your data, you can easily load it into a DataFrame using the command we discussed earlier (`pd.read_csv()`).\n",
    "\n",
    "For illustration purposes, however, we will first create a new DataFrame containing the interatomic distances. \n",
    "This can be achieved by passing a dictionary where the key represents the column header (e.g., `r`) and the value is the array defining the interatomic distances:\n",
    "\n",
    "</div>\n",
    "<div style=\"width: 48%; line-height: 1.5;color: grey;\">\n",
    "\n",
    "### Ein wichtigeres Beispiel\n",
    "\n",
    "Bei wissenschaftlichen Anwendungen können die Formeln zur Berechnung neuer Spalten so komplex wie nötig sein und die Möglichkeiten von NumPy voll ausschöpfen.\n",
    "\n",
    "Nehmen wir an, wir wollen das Lennard-Jones-Potenzial analytisch berechnen, ähnlich wie wir es in der Vorlesung über NumPy getan haben.\n",
    "Damals haben wir zwei Arrays erstellt: eines für die interatomaren Abstände (`x`-Werte) und das andere für die potenzielle Energie, die mit der Lennard-Jones-Formel berechnet wurde (`y`-Werte).\n",
    "\n",
    "Es wäre hilfreich, all diese Daten in einer Tabelle zu organisieren, z. B. in einem DataFrame.\n",
    "\n",
    "Wenn Sie bereits über eine Datei mit Ihren Daten verfügen, können Sie diese mit dem bereits erwähnten Befehl (`pd.read_csv()`) einfach in einen DataFrame laden.\n",
    "\n",
    "Zur Veranschaulichung werden wir jedoch zunächst einen neuen DataFrame erstellen, der die interatomaren Abstände enthält.\n",
    "Dies kann durch die Übergabe eines Wörterbuchs erreicht werden, wobei der Schlüssel die Spaltenüberschrift darstellt (z. B. `r`) und der Wert das Array ist, das die interatomaren Abstände definiert:\n",
    "\n",
    "</div>\n",
    "</div>"
   ]
  },
  {
   "cell_type": "code",
   "execution_count": null,
   "metadata": {
    "ExecuteTime": {
     "end_time": "2024-12-10T19:40:31.677654Z",
     "start_time": "2024-12-10T19:40:31.661409Z"
    }
   },
   "outputs": [],
   "source": [
    "potentials = pd.DataFrame({'r': np.arange(1, 2.02, 0.025)})\n",
    "\n",
    "potentials.head()"
   ]
  },
  {
   "cell_type": "markdown",
   "metadata": {},
   "source": [
    "<div style=\"display: flex; justify-content: space-between;\">\n",
    "<div style=\"width: 48%; line-height: 1.5;\">\n",
    "\n",
    "To create the column containing the potential energy values, we can apply the same function we previously defined for the Lennard-Jones formula. \n",
    "\n",
    "However, defining a function is not strictly necessary: we could instead directly use the formula with hardcoded values for the parameters.\n",
    "\n",
    "</div>\n",
    "<div style=\"width: 48%; line-height: 1.5;color: grey;\">\n",
    "\n",
    "Um die Spalte mit den Werten der potenziellen Energie zu erstellen, können wir die gleiche Funktion anwenden, die wir zuvor für die Lennard-Jones-Formel definiert haben.\n",
    "\n",
    "Es ist jedoch nicht unbedingt notwendig, eine Funktion zu definieren: Wir könnten stattdessen direkt die Formel mit fest eingegebenen Werten für die Parameter verwenden.\n",
    "\n",
    "</div>\n",
    "</div>"
   ]
  },
  {
   "cell_type": "code",
   "execution_count": null,
   "metadata": {
    "ExecuteTime": {
     "end_time": "2024-12-10T19:40:43.613778Z",
     "start_time": "2024-12-10T19:40:43.594500Z"
    }
   },
   "outputs": [],
   "source": [
    "def lennard_jones(r, epsilon, sigma):\n",
    "    return 4 * epsilon * ((sigma / r) ** 12 - (sigma / r) ** 6)\n",
    "\n",
    "# Parameters for Lennard-Jones potential\n",
    "epsilon = 1.0  # Depth of the potential well\n",
    "sigma = 1.0    # Distance at which the potential is zero\n",
    "\n",
    "# Creating the new column with the header \"Lennard-Jones\"\n",
    "potentials[\"Lennard-Jones\"] = lennard_jones(potentials[\"r\"], epsilon, sigma)\n",
    "\n",
    "potentials.head()"
   ]
  },
  {
   "cell_type": "markdown",
   "metadata": {},
   "source": [
    "<div style=\"display: flex; justify-content: space-between;\">\n",
    "<div style=\"width: 48%; line-height: 1.5;\">\n",
    "\n",
    "Now, let’s say we want to compare the Lennard-Jones potential with another type of potential: the Morse potential. To achieve this, we can simply create another column in the DataFrame that contains the values calculated for the Morse potential:\n",
    "\n",
    "</div>\n",
    "<div style=\"width: 48%; line-height: 1.5;color: grey;\">\n",
    "\n",
    "Angenommen, wir wollen das Lennard-Jones-Potenzial mit einer anderen Art von Potenzial vergleichen: dem Morse-Potenzial. \n",
    "Zu diesem Zweck können wir einfach eine weitere Spalte im DataFrame erstellen, die die für das Morse-Potenzial berechneten Werte enthält:\n",
    "\n",
    "</div>\n",
    "</div>"
   ]
  },
  {
   "cell_type": "code",
   "execution_count": null,
   "metadata": {
    "ExecuteTime": {
     "end_time": "2024-12-10T19:40:56.557384Z",
     "start_time": "2024-12-10T19:40:56.523313Z"
    }
   },
   "outputs": [],
   "source": [
    "def morse(r, D_e, a, r_e):\n",
    "    return D_e * (1 - np.exp(-a * (r - r_e)))**2 - D_e\n",
    "\n",
    "# Parameters for the Morse potential\n",
    "D_e = 1.0   # Depth of the potential well\n",
    "a = 3.5     # Width parameter\n",
    "r_e = 1.2   # Equilibrium bond length\n",
    "\n",
    "potentials[\"Morse\"] = morse(potentials[\"r\"], D_e, a, r_e)\n",
    "\n",
    "potentials.head()"
   ]
  },
  {
   "cell_type": "markdown",
   "metadata": {},
   "source": [
    "<div style=\"display: flex; justify-content: space-between;\">\n",
    "<div style=\"width: 48%; line-height: 1.5;\">\n",
    "\n",
    "The additional column allows for easy comparison between the two potentials, both visually (e.g., via plots) and numerically (e.g., via statistical analysis).\n",
    "\n",
    "Naturally, both Seaborn and Matplotlib can directly use Pandas DataFrame columns as `x` and `y` values! \n",
    "This makes it simple to visualize data stored in a DataFrame by passing the column names to the plotting functions:\n",
    "\n",
    "</div>\n",
    "<div style=\"width: 48%; line-height: 1.5;color: grey;\">\n",
    "\n",
    "Die zusätzliche Spalte ermöglicht einen einfachen Vergleich zwischen den beiden Potenzialen, sowohl visuell (z. B. über Diagramme) als auch numerisch (z. B. über statistische Analysen).\n",
    "\n",
    "Natürlich können sowohl Seaborn als auch Matplotlib Pandas DataFrame-Spalten direkt als `x`- und `y`-Werte verwenden!\n",
    "Dies macht es einfach, in einem DataFrame gespeicherte Daten zu visualisieren, indem die Spaltennamen an die Plotfunktionen übergeben werden:\n",
    "\n",
    "</div>\n",
    "</div>"
   ]
  },
  {
   "cell_type": "code",
   "execution_count": null,
   "metadata": {
    "ExecuteTime": {
     "end_time": "2024-12-10T19:41:17.676215Z",
     "start_time": "2024-12-10T19:41:17.319003Z"
    }
   },
   "outputs": [],
   "source": [
    "import matplotlib.pyplot as plt\n",
    "import seaborn as sns\n",
    "\n",
    "sns.lineplot(x=potentials[\"r\"], y= potentials[\"Lennard-Jones\"], c=\"slategrey\", marker=\"o\", label=\"LJ\")\n",
    "sns.lineplot(x=potentials[\"r\"], y= potentials[\"Morse\"], c=\"orchid\", marker=\">\", label=\"Morse\")\n",
    "\n",
    "plt.ylabel(\"Potential Energy\")\n",
    "plt.grid()\n",
    "\n",
    "plt.show()"
   ]
  },
  {
   "cell_type": "markdown",
   "metadata": {},
   "source": [
    "<div style=\"display: flex; justify-content: space-between;\">\n",
    "<div style=\"width: 48%; line-height: 1.5;\">\n",
    "\n",
    "# Dropping\n",
    "\n",
    "You can drop a column or row from a DataFrame using the `drop()` method. This method allows you to remove specific rows or columns based on labels or indices.\n",
    "\n",
    "</div>\n",
    "<div style=\"width: 48%; line-height: 1.5;color: grey;\">\n",
    "\n",
    "# Löschen\n",
    "\n",
    "Mit der Methode `drop()` können Sie eine Spalte oder Zeile aus einem DataFrame entfernen. Diese Methode ermöglicht es Ihnen, bestimmte Zeilen oder Spalten auf der Grundlage von Bezeichnungen oder Indizes zu entfernen.\n",
    "\n",
    "</div>\n",
    "</div>"
   ]
  },
  {
   "cell_type": "markdown",
   "metadata": {},
   "source": [
    "<div style=\"display: flex; justify-content: space-between;\">\n",
    "<div style=\"width: 48%; line-height: 1.5;\">\n",
    "\n",
    "\n",
    "### Dropping a Row\n",
    "To drop a row, you use `axis=0`, since rows are along the first axis (axis 0). You can also omit the axis, since `axis=0` is the default value:\n",
    "\n",
    "</div>\n",
    "<div style=\"width: 48%; line-height: 1.5;color: grey;\">\n",
    "\n",
    "\n",
    "### Löschen einer Zeile\n",
    "Um eine Zeile zu löschen, verwenden Sie `axis=0`, da die Zeilen entlang der ersten Achse (Achse 0) liegen. Sie können die Achse auch weglassen, da `axis=0` der Standardwert ist:\n",
    "\n",
    "</div>\n",
    "</div>"
   ]
  },
  {
   "cell_type": "code",
   "execution_count": null,
   "metadata": {
    "ExecuteTime": {
     "end_time": "2024-12-10T19:41:50.496349Z",
     "start_time": "2024-12-10T19:41:50.455117Z"
    }
   },
   "outputs": [],
   "source": [
    "wine_reviews.drop([0])      # == wine_reviews.drop([0], axis=0) "
   ]
  },
  {
   "cell_type": "markdown",
   "metadata": {},
   "source": [
    "<div style=\"display: flex; justify-content: space-between;\">\n",
    "<div style=\"width: 48%; line-height: 1.5;\">\n",
    "\n",
    "### Dropping a Column\n",
    "To drop a column, specify the column's name either with `columns=[]` or by using the `axis=1` argument in the `drop()` method, as columns are along the second axis (axis 1).\n",
    "\n",
    "</div>\n",
    "<div style=\"width: 48%; line-height: 1.5;color: grey;\">\n",
    "\n",
    "### Auslassen einer Spalte\n",
    "Um eine Spalte auszulassen, geben Sie den Namen der Spalte entweder mit `columns=[]` oder mit dem Argument `axis=1` in der Methode `drop()` an, da die Spalten auf der zweiten Achse (Achse 1) liegen.\n",
    "\n",
    "</div>\n",
    "</div>"
   ]
  },
  {
   "cell_type": "code",
   "execution_count": null,
   "metadata": {
    "ExecuteTime": {
     "end_time": "2024-12-10T19:44:21.948998Z",
     "start_time": "2024-12-10T19:44:21.937140Z"
    }
   },
   "outputs": [],
   "source": [
    "wine_reviews_cleaned = wine_reviews.drop(columns=[\"quality/price ratio\"])\n",
    "\n",
    "# is equivalent to\n",
    "\n",
    "wine_reviews_cleaned =  wine_reviews.drop([\"quality/price ratio\"], axis=1)"
   ]
  },
  {
   "cell_type": "markdown",
   "metadata": {},
   "source": [
    "<div style=\"display: flex; justify-content: space-between;\">\n",
    "<div style=\"width: 48%; line-height: 1.5;\">\n",
    "\n",
    "If you attempt to drop a row or column that doesn’t exist, pandas will raise a `KeyError`. You can avoid this by setting the `errors` parameter to `'ignore'`.\n",
    "\n",
    "</div>\n",
    "<div style=\"width: 48%; line-height: 1.5;color: grey;\">\n",
    "\n",
    "Wenn Sie versuchen, eine Zeile oder Spalte zu löschen, die nicht existiert, löst pandas einen `KeyError` aus. Sie können dies vermeiden, indem Sie den Parameter `errors` auf `'ignore'` setzen.\n",
    "\n",
    "</div>\n",
    "</div>"
   ]
  },
  {
   "cell_type": "code",
   "execution_count": null,
   "metadata": {
    "ExecuteTime": {
     "end_time": "2024-12-10T19:43:04.874339Z",
     "start_time": "2024-12-10T19:43:01.336345Z"
    }
   },
   "outputs": [],
   "source": [
    "wine_reviews.drop('non_existent_column', axis=1)"
   ]
  },
  {
   "cell_type": "code",
   "execution_count": null,
   "metadata": {
    "ExecuteTime": {
     "end_time": "2024-12-10T19:43:08.764352Z",
     "start_time": "2024-12-10T19:43:08.737045Z"
    }
   },
   "outputs": [],
   "source": [
    "wine_reviews.drop('non_existent_column', axis=1, errors='ignore')"
   ]
  },
  {
   "cell_type": "markdown",
   "metadata": {},
   "source": [
    "<div style=\"display: flex; justify-content: space-between;\">\n",
    "<div style=\"width: 48%; line-height: 1.5;\">\n",
    "\n",
    "## Missing values\n",
    "\n",
    "We saw earlier that the `df.info()` method provides a concise summary of a DataFrame, including, among other properties, the number of *non-null counts*.\n",
    "\n",
    "</div>\n",
    "<div style=\"width: 48%; line-height: 1.5;color: grey;\">\n",
    "\n",
    "## Fehlende Werte\n",
    "\n",
    "Wir haben bereits gesehen, dass die Methode `df.info()` eine knappe Zusammenfassung eines DataFrame liefert, die neben anderen Eigenschaften auch die Anzahl der *Nicht-Null-Zählungen* enthält.\n",
    "\n",
    "</div>\n",
    "</div>"
   ]
  },
  {
   "cell_type": "code",
   "execution_count": null,
   "metadata": {
    "ExecuteTime": {
     "end_time": "2024-12-10T19:46:56.617023Z",
     "start_time": "2024-12-10T19:46:56.591186Z"
    }
   },
   "outputs": [],
   "source": [
    "wine_reviews.info()"
   ]
  },
  {
   "cell_type": "markdown",
   "metadata": {},
   "source": [
    "<div style=\"display: flex; justify-content: space-between;\">\n",
    "<div style=\"width: 48%; line-height: 1.5;\">\n",
    "\n",
    "Entries with missing values are represented by `NaN`, which stands for \"Not a Number.\" Due to technical reasons, these `NaN` values are always of the `float64` data type, regardless of the original data type of the column.\n",
    "\n",
    "`NaN` values aren't inherently problematic, but certain operations (like divisions) or statistical analyses can produce errors or yield skewed results when missing values are involved (see the lecture on NumPy).\n",
    "\n",
    "</div>\n",
    "<div style=\"width: 48%; line-height: 1.5;color: grey;\">\n",
    "\n",
    "Einträge mit fehlenden Werten werden durch `NaN` dargestellt, was für \"Not a Number\" steht. Aus technischen Gründen haben diese `NaN`-Werte immer den Datentyp `float64`, unabhängig vom ursprünglichen Datentyp der Spalte.\n",
    "\n",
    "`NaN`-Werte sind an sich nicht problematisch, aber bestimmte Operationen (z. B. Divisionen) oder statistische Analysen können zu Fehlern führen oder verzerrte Ergebnisse liefern, wenn fehlende Werte beteiligt sind (siehe die Vorlesung über NumPy).\n",
    "</div>\n",
    "</div>"
   ]
  },
  {
   "cell_type": "markdown",
   "metadata": {},
   "source": [
    "<div style=\"display: flex; justify-content: space-between;\">\n",
    "<div style=\"width: 48%; line-height: 1.5;\">\n",
    "\n",
    "pandas provides several built-in methods to handle missing values in DataFrames. \n",
    "\n",
    "**Detect missing values**: The `isnull()` and `notnull()` methods return a boolean mask indicating where `NaN` values are present (`True` for `NaN`, `False` otherwise).\n",
    "\n",
    "</div>\n",
    "<div style=\"width: 48%; line-height: 1.5;color: grey;\">\n",
    "\n",
    "pandas bietet mehrere integrierte Methoden zur Behandlung fehlender Werte in DataFrames.\n",
    "\n",
    "**Fehlenden Werten erkennen**: Die Methoden `isnull()` und `notnull()` geben eine boolesche Maske zurück, die angibt, wo `NaN`-Werte vorhanden sind (`True` für `NaN`, sonst `False`).\n",
    "</div>\n",
    "</div>"
   ]
  },
  {
   "cell_type": "markdown",
   "metadata": {},
   "source": [
    "```python\n",
    "df.isnull()                     # Returns a DataFrame of booleans indicating NaN locations\n",
    "\n",
    "df[df['column_name'].isnull()]  # Returns rows where 'column_name' is NaN\n",
    "\n",
    "df.notnull()                    # Returns a DataFrame of booleans indicating non-NaN locations\n",
    "```"
   ]
  },
  {
   "cell_type": "markdown",
   "metadata": {},
   "source": [
    "<div style=\"display: flex; justify-content: space-between;\">\n",
    "<div style=\"width: 48%; line-height: 1.5;\">\n",
    "\n",
    "**Remove missing values**: The `dropna()` method is used to remove rows or columns that contain `NaN` values. This is useful if you want to exclude missing data from your analysis entirely.\n",
    "\n",
    "</div>\n",
    "<div style=\"width: 48%; line-height: 1.5;color: grey;\">\n",
    "\n",
    "**Fehlende Werte entfernen**: Die Methode `dropna()` wird verwendet, um Zeilen oder Spalten zu entfernen, die `NaN`-Werte enthalten. Dies ist nützlich, wenn Sie fehlende Daten vollständig aus Ihrer Analyse ausschließen möchten.\n",
    "\n",
    "</div>\n",
    "</div>"
   ]
  },
  {
   "cell_type": "markdown",
   "metadata": {},
   "source": [
    "\n",
    "```python\n",
    "df.dropna()                               # Removes rows with at least one NaN\n",
    "\n",
    "df.dropna(subset=['column1', 'column2'])  # Removes rows with NaN in the specified columns\n",
    "\n",
    "df.dropna(axis=1)                         # Removes columns with at least one NaN\n",
    "```"
   ]
  },
  {
   "cell_type": "markdown",
   "metadata": {},
   "source": [
    "<div style=\"display: flex; justify-content: space-between;\">\n",
    "<div style=\"width: 48%; line-height: 1.5;\">\n",
    "\n",
    "**Replace missing values**: The `fillna()` method is used to replace `NaN` values with a specified value or by following certain strategies (such as forward filling or backward filling).\n",
    "\n",
    "</div>\n",
    "<div style=\"width: 48%; line-height: 1.5;color: grey;\">\n",
    "\n",
    "**Fehlende Werte ersetzen**: Die Methode `fillna()` wird verwendet, um `NaN`-Werte durch einen bestimmten Wert oder durch bestimmte Strategien (wie \"forward filling\" oder \"backward filling\") zu ersetzen.\n",
    "\n",
    "</div>\n",
    "</div>"
   ]
  },
  {
   "cell_type": "markdown",
   "metadata": {},
   "source": [
    "\n",
    "```python\n",
    "df['column_name'].fillna(0)                          # Replaces NaN with `0` in a specific column\n",
    "\n",
    "df['column_name'].fillna('Unknown')                  # Replaces NaN with the string Unknown in a specific column\n",
    "\n",
    "df['column_name'].fillna(df['column_name'].mean())   # Fill with the mean, median, or mode (of the column)\n",
    "df['column_name'].fillna(df['column_name'].median())\n",
    "df['column_name'].fillna(df['column_name'].mode())\n",
    "```"
   ]
  },
  {
   "cell_type": "markdown",
   "metadata": {},
   "source": [
    "<div class=\"alert alert-block alert-light\">\n",
    "\n",
    "<div style=\"display: flex; justify-content: space-between;\">\n",
    "<div style=\"width: 48%; line-height: 1.5;\">\n",
    "\n",
    "# Exercises\n",
    "\n",
    "Open the notebook `07_exercises.ipynb`.\n",
    "\n",
    "</div>\n",
    "<div style=\"width: 2%\"></div>\n",
    "<div style=\"width: 48%;; line-height: 1.5;color: grey;\">\n",
    "\n",
    "# Übungen\n",
    "\n",
    "Öffnen Sie das Notebook `07_exercises.ipynb`.\n",
    "\n",
    "</div>\n",
    "</div>"
   ]
  }
 ],
 "metadata": {
  "kernelspec": {
   "display_name": "py24",
   "language": "python",
   "name": "python3"
  },
  "language_info": {
   "codemirror_mode": {
    "name": "ipython",
    "version": 3
   },
   "file_extension": ".py",
   "mimetype": "text/x-python",
   "name": "python",
   "nbconvert_exporter": "python",
   "pygments_lexer": "ipython3",
   "version": "3.13.0"
  }
 },
 "nbformat": 4,
 "nbformat_minor": 2
}
