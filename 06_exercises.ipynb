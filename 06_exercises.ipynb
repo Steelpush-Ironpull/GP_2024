{
 "cells": [
  {
   "cell_type": "markdown",
   "metadata": {},
   "source": [
    "<div style=\"text-align: center;\">\n",
    "    <img src=\"https://upload.wikimedia.org/wikipedia/commons/thumb/3/31/NumPy_logo_2020.svg/1200px-NumPy_logo_2020.svg.png\" style=\"width: 400px;\">\n",
    "</div>"
   ]
  },
  {
   "cell_type": "markdown",
   "metadata": {},
   "source": [
    "<div class=\"alert alert-success\" role=\"alert\">\n",
    "\n",
    "<div style=\"display: flex; justify-content: space-between;\">\n",
    "<div style=\"width: 48%; line-height: 1.5;\">\n",
    "\n",
    "### Instructions\n",
    "\n",
    "- **Enter your matriculation number in the first cell at the line `student_id =` and then execute the cell.**\n",
    "\n",
    "- Modify this notebook directly.\n",
    "\n",
    "- <span style=\"color:red;\"> Do not clear the outputs of your cells!</span>\n",
    "\n",
    "- **Import any necessary modules.**\n",
    "\n",
    "- Insert additional cells as needed after each task.\n",
    "\n",
    "- **Add comments to your code**, either directly in the Python cell or using separate Markdown cells.\n",
    "\n",
    "- Once completed, upload your notebook to the weekly assignment.\n",
    "\n",
    "- **There are 12 points available in total: you need at least 9 points to pass.**\n",
    "\n",
    "</div>\n",
    "<div style=\"width: 4%;\">\n",
    "</div>\n",
    "<div style=\"width: 48%; line-height: 1.5; color: grey;\">\n",
    "\n",
    "### Anweisungen\n",
    "\n",
    "- **Geben Sie Ihre Matrikelnummer in die erste Zelle der Zeile `student_id =` ein und führen Sie dann die Zelle aus.**\n",
    "\n",
    "- Ändern Sie dieses Notizbuch direkt.\n",
    "\n",
    "- <span style=\"color:red;\"> Löschen Sie nicht die Ausgaben Ihrer Zellen!</span>\n",
    "\n",
    "- **Importieren Sie alle notwendigen Module.**\n",
    "\n",
    "- Fügen Sie bei Bedarf nach jeder Aufgabe zusätzliche Zellen ein.\n",
    "\n",
    "- **Fügen Sie Kommentare zu Ihrem Code** hinzu, entweder direkt in der Python-Zelle oder in separaten Markdown-Zellen.\n",
    "\n",
    "- Wenn Sie fertig sind, laden Sie Ihr Notizbuch in die wöchentliche Aufgabe hoch.\n",
    "\n",
    "- **Es gibt insgesamt 12 Punkte: Sie brauchen mindestens 9 Punkte, um zu bestehen.**\n",
    "\n",
    "</div>\n",
    "</div>"
   ]
  },
  {
   "cell_type": "code",
   "metadata": {
    "ExecuteTime": {
     "end_time": "2024-11-26T14:36:59.102833Z",
     "start_time": "2024-11-26T14:36:59.098879Z"
    }
   },
   "source": [
    "from IPython.display import display\n",
    "import IPython\n",
    "from datetime import datetime\n",
    "\n",
    "# Student ID\n",
    "student_id = YOUR MATRICULATION NUMBER HERE\n",
    "\n",
    "def display_student_id(*args, **kwargs):\n",
    "    current_time = datetime.now().strftime(\"%Y-%m-%d %H:%M:%S\")\n",
    "    display(f\"Run by {student_id} at {current_time}\")\n",
    "\n",
    "IPython.get_ipython().events.register('post_run_cell', display_student_id)"
   ],
   "outputs": [
    {
     "ename": "SyntaxError",
     "evalue": "invalid syntax (3074044260.py, line 6)",
     "output_type": "error",
     "traceback": [
      "\u001B[0;36m  Cell \u001B[0;32mIn[3], line 6\u001B[0;36m\u001B[0m\n\u001B[0;31m    student_id = YOUR MATRICULATION NUMBER HERE\u001B[0m\n\u001B[0m                      ^\u001B[0m\n\u001B[0;31mSyntaxError\u001B[0m\u001B[0;31m:\u001B[0m invalid syntax\n"
     ]
    }
   ],
   "execution_count": 3
  },
  {
   "cell_type": "markdown",
   "metadata": {},
   "source": [
    "<div class=\"alert alert-block alert-light\">\n",
    "\n",
    "#### 1 (4 P)\n",
    "\n",
    "<div style=\"display: flex; justify-content: space-between;\">\n",
    "<div style=\"width: 48%; line-height: 1.5;\">\n",
    "\n",
    "The ticker timer, much used in school physics experiments, is a device that marks dots on a strip of paper tape at evenly-spaced intervals of time as the tape moves through it at some (possibly variable) speed. \n",
    "\n",
    "The following data relate to the positions (in cm) of marks on a tape pulled through a ticker timer by a falling weight. The marks are made every 1/10 sec.\n",
    "\n",
    "\n",
    "</div>\n",
    "<div style=\"width: 48%; line-height: 1.5;color: grey;\">\n",
    "\n",
    "Die in physikalischen Schulexperimenten häufig verwendete Zeitschaltuhr ist ein Gerät, das in gleichmäßigen Zeitabständen Punkte auf einem Papierstreifen markiert, während sich der Streifen mit einer bestimmten (möglicherweise variablen) Geschwindigkeit durch das Gerät bewegt.\n",
    "<br>\n",
    "Die folgenden Daten beziehen sich auf die Positionen (in cm) der Markierungen auf einem Band, das von einem fallenden Gewicht durch eine Zeitschaltuhr gezogen wird. Die Markierungen werden alle 1/10 Sekunde gesetzt.\n",
    "\n",
    "</div>\n",
    "</div>\n",
    "\n",
    "```python\n",
    "x = [1.3, 6.0, 20.2, 43.9, 77.0, 119.6, 171.7, 233.2, 304.2, 384.7, 474.7, 574.1, 683.0, 801.3, 929.2, 1066.4, 1213.2, 1369.4, 1535.1, 1710.3, 1894.9]\n",
    "```\n",
    "\n",
    "<div style=\"display: flex; justify-content: space-between;\">\n",
    "<div style=\"width: 48%; line-height: 1.5;\">\n",
    "\n",
    "- Define the equation of motion $x = x_0 + v_0 t + \\frac{1}{2} g t^2$. (1 P)\n",
    "\n",
    "- Fit the given data to the function $x = x_0 + v_0 t + \\frac{1}{2} g t^2$. Use the fit to determine the following quantities directly from the fitting parameters: the initial position ($x_0$), the initial velocity ($v_0$), an approximate value for the acceleration due to gravity, $g$. (1 P)\n",
    "\n",
    "- Adapting the codes we have seen in class, plot the data together with the fitted line. (1 P)\n",
    "    - Produce a printed summary as well as an informative label for the plot using f-strings. (1 P)\n",
    "\n",
    "\n",
    "</div>\n",
    "<div style=\"width: 48%; line-height: 1.5;color: grey;\">\n",
    "\n",
    "- Definieren Sie die Bewegungsgleichung $x = x_0 + v_0 t + \\frac{1}{2} g t^2$. (1 P)\n",
    "\n",
    "- Passen Sie die gegebenen Daten an die Funktion $x = x_0 + v_0 t + \\frac{1}{2} g t^2$ an. Bestimmen Sie direkt aus den Anpassungsparametern die folgenden Größen: die Anfangslage ($x_0$), die Anfangsgeschwindigkeit ($v_0$), einen Näherungswert für die Erdbeschleunigung $g$. (1 P)\n",
    "\n",
    "- Zeichnen Sie die Daten zusammen mit der angepassten Linie unter Verwendung der im Unterricht behandelten Codes. (1 P)\n",
    "    - Erstellen Sie eine gedruckte Zusammenfassung sowie eine informative Beschriftung für den Plot unter Verwendung von f-strings. (1 P)\n",
    "\n",
    "</div>\n",
    "</div>\n",
    "\n",
    "\n",
    "<div style=\"display: flex; justify-content: space-between;\">\n",
    "<div style=\"width: 48%; line-height: 1.5;\">\n",
    "\n",
    "<details>\n",
    "  <summary>Hints</summary>\n",
    "- Create two arrays representing the positions and the time intervals.\n",
    "- Define the equation of motion as a Python function.\n",
    "- Perform the curve fit.\n",
    "- Plot the data points together with the fit.\n",
    "- Print the fitted parameters.\n",
    "</details>\n",
    "\n",
    "</div>\n",
    "<div style=\"width: 48%; line-height: 1.5;color: grey;\">\n",
    "\n",
    "<details>\n",
    "  <summary>Hinweise</summary>\n",
    "- Erstellen Sie zwei Arrays, die die Positionen und die Zeitintervalle darstellen.\n",
    "- Definieren Sie die Gleichung der Bewegung als Python-Funktion.\n",
    "- Führen Sie die Kurvenanpassung durch.\n",
    "- Zeichnen Sie die Datenpunkte zusammen mit der Anpassung.\n",
    "- Drucken Sie die angepassten Parameter.\n",
    "</details>\n",
    "\n",
    "</div>\n",
    "</div>"
   ]
  },
  {
   "cell_type": "code",
   "metadata": {
    "ExecuteTime": {
     "end_time": "2024-11-26T14:52:21.825826Z",
     "start_time": "2024-11-26T14:52:21.823174Z"
    }
   },
   "source": [
    "import numpy as np\n",
    "import seaborn as sns\n",
    "import matplotlib.pyplot as plt\n",
    "from scipy.interpolate import interp1d\n",
    "from scipy.optimize import curve_fit\n",
    "from scipy import constants as constants\n",
    "from sklearn.metrics import r2_score"
   ],
   "outputs": [],
   "execution_count": 16
  },
  {
   "cell_type": "code",
   "metadata": {
    "ExecuteTime": {
     "end_time": "2024-11-26T14:43:22.385912Z",
     "start_time": "2024-11-26T14:43:22.229446Z"
    }
   },
   "source": [
    "# Data: positions (in m) recorded every 1/10 second\n",
    "time_intervals = np.arange(0, 2.1, 0.1)                                                             # Time in seconds\n",
    "positions = np.array([1.3, 6.0, 20.2, 43.9, 77.0, 119.6, 171.7, 233.2, 304.2, 384.7, 474.7, \n",
    "     574.1, 683.0, 801.3, 929.2, 1066.4, 1213.2, 1369.4, 1535.1, 1710.3, 1894.9]) / 100             # Positions in m\n",
    "\n",
    "# Equation of motion: x = x0 + v0 * t + 0.5 * g * t^2\n",
    "def motion_equation(t, x0, v0, g):\n",
    "    return (x0 + v0 * t + 0.5 * g * t**2) \n",
    "\n",
    "# Perform the curve fit\n",
    "initial_guess = [0, 0, 9.8]  # Initial guesses for x0, v0, and g (cm/s^2)\n",
    "params, covariance = curve_fit(motion_equation, time_intervals, positions, p0=initial_guess)\n",
    "\n",
    "# Extract the fitted parameters\n",
    "x0_fit, v0_fit, g_fit = params\n",
    "\n",
    "# Generate fitted positions for plotting\n",
    "fitted_positions = motion_equation(time_intervals, x0_fit, v0_fit, g_fit)\n",
    "\n",
    "r_squared = r2_score(positions, fitted_positions)\n",
    "\n",
    "# Plot the original data and the fitted curve\n",
    "plt.figure(figsize=(5, 5))\n",
    "\n",
    "plt.scatter(time_intervals, positions, color=\"red\", label=\"Data (Measured Positions)\", zorder=3)\n",
    "plt.plot(time_intervals, fitted_positions, label=\"Fitted Curve\", color=\"blue\", linestyle=\"--\")\n",
    "\n",
    "plt.xlabel(\"Time (s)\")\n",
    "plt.ylabel(\"Position (cm)\")\n",
    "\n",
    "plt.title(\"Fitting Motion Data to Extract Parameters\")\n",
    "\n",
    "plt.legend()\n",
    "plt.grid(True)\n",
    "plt.show()\n",
    "\n",
    "# Display the fitted parameters\n",
    "print(f'x0:\\t{x0_fit: .4f} m\\ny0:\\t{v0_fit: .4f} m\\ng:\\t{g_fit: .4f} m/s2\\nR2:\\t{r_squared: .8f}')"
   ],
   "outputs": [
    {
     "data": {
      "text/plain": [
       "<Figure size 500x500 with 1 Axes>"
      ],
      "image/png": "[encoded data removed]"
     },
     "metadata": {},
     "output_type": "display_data"
    },
    {
     "name": "stdout",
     "output_type": "stream",
     "text": [
      "x0:\t 0.0128 m\n",
      "y0:\t-0.0004 m\n",
      "g:\t 9.4686 m/s2\n",
      "R2:\t 1.00000000\n"
     ]
    }
   ],
   "execution_count": 10
  },
  {
   "cell_type": "markdown",
   "metadata": {},
   "source": [
    "<div class=\"alert alert-block alert-light\">\n",
    "\n",
    "#### 2 (4 P)\n",
    "\n",
    "<div style=\"display: flex; justify-content: space-between;\">\n",
    "<div style=\"width: 48%; line-height: 1.5;\">\n",
    "\n",
    "A projectile is launched from ground level ($y_0 = 0$) at an angle of $70^{\\circ}$ with an initial speed of $v_0 = 37\\,\\mathrm{m/s}$. \n",
    "\n",
    "- Define the equation of motion $y=y_{0} + v_{0}\\sin(\\theta)t + \\frac{1}{2} g t^{2}$. Import the standard acceleration of gravity $g$ from SciPy. (1 P)\n",
    "\n",
    "- Determine how long the projectile takes to return to the ground ($y = 0$). (1 P)\n",
    "\n",
    "- Plot the vertical position $y(t)$ as a function of time $t$, starting from $t = 0$ until the projectile touches the ground again ($y = 0$). (1 P)\n",
    "\n",
    "- Determine the maximum height reached by the projectile. (1 P)\n",
    "\n",
    "</div>\n",
    "<div style=\"width: 48%; line-height: 1.5;color: grey;\">\n",
    "\n",
    "Ein Projektil wird vom Boden ($y_0 = 0$) unter einem Winkel von $70^{\\circ}$ mit einer Anfangsgeschwindigkeit von $v_0 = 37\\,\\mathrm{m/s}$ abgeschossen.\n",
    "\n",
    "- Definieren Sie die Bewegungsgleichung $y=y_{0} + v_{0}\\sin(\\theta)t + \\frac{1}{2} g t^{2}$. Importieren Sie die Standard-Gravitationsbeschleunigung $g$ aus SciPy. (1 P)\n",
    "\n",
    "- Bestimmen Sie, wie lange das Projektil braucht, um zum Boden zurückzukehren ($y = 0$). (1 P)\n",
    "\n",
    "- Zeichnen Sie die vertikale Position $y(t)$ in Abhängigkeit von der Zeit $t$, ausgehend von $t = 0$ bis das Projektil wieder den Boden berührt ($y = 0$). (1 P)\n",
    "\n",
    "- Bestimmen Sie die maximale Höhe, die das Projektil erreicht. (1 P)\n",
    "\n",
    "</div>\n",
    "</div>\n",
    "\n",
    "<div style=\"display: flex; justify-content: space-between;\">\n",
    "<div style=\"width: 48%; line-height: 1.5;\">\n",
    "\n",
    "<details>\n",
    "  <summary>Hints</summary>\n",
    "\n",
    "- Define all relevant variables: `y_0, v_0, g, theta`.\n",
    "\n",
    "- Calculate the time it takes for the projectile to hit the ground by finding the roots of the equation when $y = 0$. Ensure angles are expressed in radians, not degrees.\n",
    "\n",
    "- Use NumPy to create an array `time` of 100 equally spaced time values between the two roots you just calculated.\n",
    "\n",
    "</details>\n",
    "\n",
    "</div>\n",
    "<div style=\"width: 48%; line-height: 1.5;color: grey;\">\n",
    "\n",
    "<details>\n",
    "  <summary>Hinweise</summary>\n",
    "\n",
    "- Definieren Sie alle relevanten Variablen: `y_0, v_0, g, theta`.\n",
    "\n",
    "- Berechnen Sie die Zeit, die das Projektil braucht, um den Boden zu treffen, indem Sie die Wurzeln der Gleichung finden, wenn $y = 0$ ist. Achte darauf, dass die Winkel in Bogenmaß und nicht in Grad angegeben werden.\n",
    "\n",
    "- Erstellen Sie mit NumPy ein Array `time` mit 100 gleichmäßig verteilten Zeitwerten zwischen den beiden Wurzeln, die Sie gerade berechnet haben.\n",
    "\n",
    "</details>\n",
    "\n",
    "</div>\n",
    "</div>"
   ]
  },
  {
   "cell_type": "code",
   "metadata": {
    "ExecuteTime": {
     "end_time": "2024-11-26T14:41:22.137798Z",
     "start_time": "2024-11-26T14:41:21.484096Z"
    }
   },
   "source": [
    "y_0 = 0.0\n",
    "v_0 = 37.0\n",
    "g = -9.81\n",
    "theta = np.radians(70.0)\n",
    "\n",
    "c = y_0\n",
    "b = v_0 * np.sin(theta)\n",
    "a = 0.5 * g\n",
    "\n",
    "# Quadratic formula: t = (-b ± sqrt(b^2 - 4ac)) / 2a\n",
    "discriminant = b**2 - 4*a*c\n",
    "t1 = (-b + np.sqrt(discriminant)) / (2*a)\n",
    "t2 = (-b - np.sqrt(discriminant)) / (2*a)\n",
    "\n",
    "t1, t2\n",
    "\n",
    "import matplotlib.pyplot as plt\n",
    "\n",
    "y_0 = 0.0\n",
    "v_0 = 37.0\n",
    "g = -9.81\n",
    "theta = np.radians(70.0)\n",
    "time = np.linspace(0, t2, 50)\n",
    "\n",
    "plt.figure(figsize=(5, 4))\n",
    "sns.lineplot(x=time, y=(y_0 + v_0 * np.sin(theta) * time + 0.5 * g * time**2), marker=\"o\")\n",
    "\n",
    "# Labels\n",
    "plt.xlabel('time (s)')\n",
    "plt.ylabel(r'$y$ (m)')\n",
    "\n",
    "plt.grid()\n",
    "plt.show()"
   ],
   "outputs": [
    {
     "data": {
      "text/plain": [
       "<Figure size 500x400 with 1 Axes>"
      ],
      "image/png": "[encoded data removed]"
     },
     "metadata": {},
     "output_type": "display_data"
    }
   ],
   "execution_count": 9
  },
  {
   "cell_type": "code",
   "metadata": {
    "ExecuteTime": {
     "end_time": "2024-11-26T14:44:54.190230Z",
     "start_time": "2024-11-26T14:44:54.188148Z"
    }
   },
   "source": [
    "print(t1, t2)"
   ],
   "outputs": [
    {
     "name": "stdout",
     "output_type": "stream",
     "text": [
      "-0.0 7.088405090535904\n"
     ]
    }
   ],
   "execution_count": 11
  },
  {
   "cell_type": "code",
   "metadata": {
    "ExecuteTime": {
     "end_time": "2024-11-26T14:44:55.986972Z",
     "start_time": "2024-11-26T14:44:55.984465Z"
    }
   },
   "source": [
    "print(round(np.max(y_0 + v_0 * np.sin(theta) * time + 0.5 * g * time**2),1))"
   ],
   "outputs": [
    {
     "name": "stdout",
     "output_type": "stream",
     "text": [
      "61.6\n"
     ]
    }
   ],
   "execution_count": 12
  },
  {
   "cell_type": "markdown",
   "metadata": {},
   "source": [
    "<div class=\"alert alert-block alert-light\">\n",
    "\n",
    "#### 3 (4 P)\n",
    "\n",
    "<div style=\"display: flex; justify-content: space-between;\">\n",
    "<div style=\"width: 48%; line-height: 1.5;\">\n",
    "\n",
    "The cosmic microwave background (CMB) is the faint radiation left over from the Big Bang, mapped in increasing detail by experiments such as COBE, WMAP, and Planck.\n",
    "\n",
    "Planck's law describes the spectral radiance of a blackbody as a function of frequency or wavelength at a given temperature.\n",
    "\n",
    "</div>\n",
    "<div style=\"width: 48%; line-height: 1.5;color: grey;\">\n",
    "\n",
    "Der kosmische Mikrowellenhintergrund (CMB) ist die schwache Strahlung, die vom Urknall übrig geblieben ist und durch Experimente wie COBE, WMAP und Planck immer detaillierter erfasst wird.\n",
    "\n",
    "Das Planck'sche Gesetz beschreibt die spektrale Strahlungsdichte eines Schwarzen Körpers als Funktion der Frequenz oder Wellenlänge bei einer bestimmten Temperatur.\n",
    "\n",
    "</div>\n",
    "</div>\n",
    "<div style=\"text-align: center; margin-top: 20px;\">\n",
    "\n",
    "$$\n",
    "B = \\frac{2 h \\nu^3}{c^2} \\cdot \\frac{1}{e^{\\frac{h \\nu}{k_B T}} - 1}\n",
    "$$\n",
    "\n",
    "</div>\n",
    "\n",
    "<div style=\"display: flex; justify-content: space-between;\">\n",
    "<div style=\"width: 48%; line-height: 1.5;\">\n",
    "\n",
    "- $B$: Spectral radiance (in $\\mathrm{W} \\cdot \\mathrm{m}^{-2} \\cdot \\mathrm{Hz}^{-1}$).\n",
    "- $\\nu$: Frequency of the radiation (in $\\mathrm{Hz}$).\n",
    "- $T$: Temperature of the blackbody (in $\\mathrm{K}$).\n",
    "- $h$: Planck's constant.\n",
    "- $c$: Speed of light.\n",
    "- $k_B$: Boltzmann constant.\n",
    "\n",
    "\n",
    "You are provided with two arrays representing the [spectral radiance of the CMB as a function of frequency](https://lambda.gsfc.nasa.gov/product/cobe/firas_monopole_get.html).\n",
    "\n",
    "- Define Planck's law in a function (1 P)\n",
    "\n",
    "- Use the provided data to fit Planck’s law.\n",
    "Treat the blackbody temperature T as the fitting parameter. (1 P)\n",
    "\n",
    "- Determine how well Planck's law describes the data by calculating the coefficient of determination $R^2$ (you might need a few digits after the decimal point). \n",
    "Display your results in a formatted string. (1 P)\n",
    "\n",
    "- Plot the original data and the fitted curve in the same graph.\n",
    "Label your axes properly, including units. We have seen in class how to format a label with $\\LaTeX$ (1 P)\n",
    "\n",
    "- Check if it looks like this: https://xkcd.com/54/\n",
    "\n",
    "</div>\n",
    "<div style=\"width: 48%; line-height: 1.5;color: grey;\">\n",
    "\n",
    "- $B$: Spektrale Strahldichte (in $\\mathrm{W} \\cdot \\mathrm{m}^{-2} \\cdot \\mathrm{Hz}^{-1}$).\n",
    "- $\\nu$: Frequenz der Strahlung (in $\\mathrm{Hz}$).\n",
    "- $T$: Temperatur des Schwarzen Körpers (in $\\mathrm{K}$).\n",
    "- $h$: Plancksche Konstante.\n",
    "- $c$: Geschwindigkeit des Lichts.\n",
    "- $k_B$: Boltzmann-Konstante.\n",
    "\n",
    "Sie erhalten zwei Arrays, die [die spektrale Strahldichte des CMB als Funktion der Frequenz darstellen](https://lambda.gsfc.nasa.gov/product/cobe/firas_monopole_get.html).\n",
    "\n",
    "- Definieren Sie das Plancksche Gesetz in einer Funktion (1 P)\n",
    "\n",
    "- Verwenden Sie den bereitgestellten Daten zur Anpassung des Planckschen Gesetzes.\n",
    "Behandeln Sie die Schwarzkörpertemperatur T als Anpassungsparameter. (1 P)\n",
    "\n",
    "- Bestimmen Sie, wie gut das Plancksche Gesetz die Daten beschreibt, indem Sie das Bestimmungskoeffizient $R^2$ berechnen (Sie benötigen eventuell einige Nachkommastellen).\n",
    "Geben Sie Ihre Ergebnisse in einer formatierten Zeichenkette aus. (1 P)\n",
    "\n",
    "- Stellen Sie die ursprünglichen Daten und die angepasste Kurve in demselben Diagramm dar.\n",
    "Beschriften Sie Ihre Achsen richtig, einschließlich der Einheiten. Wir haben im Unterricht gesehen, wie man ein Etikett mit $\\LaTeX$ formatiert. (1 P)\n",
    "\n",
    "- Prüfen Sie, ob es wie folgt aussieht: https://xkcd.com/54/"
   ]
  },
  {
   "cell_type": "code",
   "metadata": {
    "ExecuteTime": {
     "end_time": "2024-11-26T14:49:59.970547Z",
     "start_time": "2024-11-26T14:49:59.965518Z"
    }
   },
   "source": [
    "# Frequency data (Hz)\n",
    "frequency = np.array([\n",
    "    68052887966.0, 81543548576.0, 95334001644.0, 108824662254.0, 122315322864.0,\n",
    "    136105775932.0, 149596436542.0, 163386889610.0, 176877550220.0, 190368210830.0,\n",
    "    204158663898.0, 217649324508.0, 231139985118.0, 244930438186.0, 258421098795.99997,\n",
    "    272211551864.0, 285702212474.0, 299192873084.0, 312983326152.0, 326473986762.0,\n",
    "    339964647372.0, 353755100440.0, 367245761050.0, 381036214118.0, 394526874728.0,\n",
    "    408017535338.0, 421807988406.0, 435298649016.0, 448789309626.0, 462579762694.0,\n",
    "    476070423304.0, 489860876372.0, 503351536982.0, 516842197591.99994, 530632650660.0,\n",
    "    544123311269.99994, 557913764338.0, 571404424948.0, 584895085558.0, 598685538626.0,\n",
    "    612176199236.0, 625666859846.0, 639457312914.0\n",
    "])\n",
    "\n",
    "# Spectral radiance data (W⋅m^-2⋅Hz^-1)\n",
    "spectral_radiance = np.array([\n",
    "    2.00723e-18, 2.49508e-18, 2.93024e-18, 3.2777e-18, 3.54081e-18,\n",
    "    3.72079e-18, 3.81493e-18, 3.83478e-18, 3.78901e-18, 3.68833e-18,\n",
    "    3.54063e-18, 3.36278e-18, 3.16076e-18, 2.93924e-18, 2.71432e-18,\n",
    "    2.48239e-18, 2.2594e-18, 2.04327e-18, 1.83262e-18, 1.6383e-18,\n",
    "    1.4575e-18, 1.28835e-18, 1.13568e-18, 9.9451e-19, 8.7036e-19,\n",
    "    7.5876e-19, 6.5766e-19, 5.7008e-19, 4.9223e-19, 4.2267e-19,\n",
    "    3.6352e-19, 3.1062e-19, 2.658e-19, 2.2644e-19, 1.9255e-19,\n",
    "    1.6391e-19, 1.3811e-19, 1.1716e-19, 9.921e-20, 8.364e-20,\n",
    "    7.087e-20, 5.801e-20, 4.523e-20\n",
    "])"
   ],
   "outputs": [],
   "execution_count": 13
  },
  {
   "cell_type": "code",
   "metadata": {
    "ExecuteTime": {
     "end_time": "2024-11-26T14:55:09.824851Z",
     "start_time": "2024-11-26T14:54:39.903946Z"
    }
   },
   "source": [
    "# Planck's law function\n",
    "def plancks_law(freq, T):\n",
    "    \"\"\"Planck's law of blackbody radiation.\"\"\"\n",
    "    return (2 * constants.h * freq**3 / c**2) / (np.exp(constants.h * freq / (constants.k * T)) - 1)\n",
    "\n",
    "# Initial guess for T (in Kelvin)\n",
    "initial_guess = [300]  # Approximate CMB temperature\n",
    "\n",
    "# Fit the data\n",
    "params, covariance = curve_fit(plancks_law, frequency, spectral_radiance, p0=initial_guess)\n",
    "T_fit = params[0]  # Extract fitted temperature\n",
    "\n",
    "# Calculate fitted intensity\n",
    "fitted_intensity = plancks_law(frequency, T_fit)\n",
    "\n",
    "R_squared = r2_score(spectral_radiance, fitted_intensity)\n",
    "\n",
    "# Plot the data and the fit\n",
    "plt.figure(figsize=(6, 5))\n",
    "\n",
    "sns.scatterplot(x=frequency, y=spectral_radiance, label=\"CMB Data\", color=\"black\", zorder=3)\n",
    "sns.lineplot(x=frequency, y=fitted_intensity, label=rf\"Planck's Law Fit (T = {T_fit:.2f} K)\", color=\"magenta\", linewidth=2)\n",
    "\n",
    "plt.xlabel(\"Frequency (Hz)\")\n",
    "plt.ylabel(r\"Spectral Radiance ($\\mathrm{W} \\cdot \\mathrm{m}^{-2} \\cdot \\mathrm{Hz}^{-1}$)\")\n",
    "plt.title(\"CMB Data Fitted to Planck's Law\")\n",
    "\n",
    "plt.legend()\n",
    "\n",
    "plt.grid(True)\n",
    "\n",
    "plt.show()\n",
    "\n",
    "# Print the fitted temperature\n",
    "print(f\"Fitted Temperature:\\t{T_fit:.4f} K\")\n",
    "print(f\"R^2:\\t\\t\\t{R_squared:.8f}\")  "
   ],
   "outputs": [
    {
     "name": "stderr",
     "output_type": "stream",
     "text": [
      "/tmp/ipykernel_46248/364210753.py:4: RuntimeWarning: divide by zero encountered in divide\n",
      "  return (2 * constants.h * freq**3 / c**2) / (np.exp(constants.h * freq / (constants.k * T)) - 1)\n",
      "/tmp/ipykernel_46248/364210753.py:10: OptimizeWarning: Covariance of the parameters could not be estimated\n",
      "  params, covariance = curve_fit(plancks_law, frequency, spectral_radiance, p0=initial_guess)\n"
     ]
    },
    {
     "ename": "KeyboardInterrupt",
     "evalue": "",
     "output_type": "error",
     "traceback": [
      "\u001B[0;31m---------------------------------------------------------------------------\u001B[0m",
      "\u001B[0;31mKeyboardInterrupt\u001B[0m                         Traceback (most recent call last)",
      "Cell \u001B[0;32mIn[20], line 16\u001B[0m\n\u001B[1;32m     13\u001B[0m \u001B[38;5;66;03m# Calculate fitted intensity\u001B[39;00m\n\u001B[1;32m     14\u001B[0m fitted_intensity \u001B[38;5;241m=\u001B[39m plancks_law(frequency, T_fit)\n\u001B[0;32m---> 16\u001B[0m R_squared \u001B[38;5;241m=\u001B[39m \u001B[43mr2_score\u001B[49m(spectral_radiance, fitted_intensity)\n\u001B[1;32m     18\u001B[0m \u001B[38;5;66;03m# Plot the data and the fit\u001B[39;00m\n\u001B[1;32m     19\u001B[0m plt\u001B[38;5;241m.\u001B[39mfigure(figsize\u001B[38;5;241m=\u001B[39m(\u001B[38;5;241m6\u001B[39m, \u001B[38;5;241m5\u001B[39m))\n",
      "Cell \u001B[0;32mIn[20], line 16\u001B[0m\n\u001B[1;32m     13\u001B[0m \u001B[38;5;66;03m# Calculate fitted intensity\u001B[39;00m\n\u001B[1;32m     14\u001B[0m fitted_intensity \u001B[38;5;241m=\u001B[39m plancks_law(frequency, T_fit)\n\u001B[0;32m---> 16\u001B[0m R_squared \u001B[38;5;241m=\u001B[39m \u001B[43mr2_score\u001B[49m(spectral_radiance, fitted_intensity)\n\u001B[1;32m     18\u001B[0m \u001B[38;5;66;03m# Plot the data and the fit\u001B[39;00m\n\u001B[1;32m     19\u001B[0m plt\u001B[38;5;241m.\u001B[39mfigure(figsize\u001B[38;5;241m=\u001B[39m(\u001B[38;5;241m6\u001B[39m, \u001B[38;5;241m5\u001B[39m))\n",
      "File \u001B[0;32m~/.local/share/JetBrains/Toolbox/apps/pycharm-professional/plugins/python-ce/helpers/pydev/_pydevd_bundle/pydevd_frame.py:755\u001B[0m, in \u001B[0;36mPyDBFrame.trace_dispatch\u001B[0;34m(self, frame, event, arg)\u001B[0m\n\u001B[1;32m    753\u001B[0m \u001B[38;5;66;03m# if thread has a suspend flag, we suspend with a busy wait\u001B[39;00m\n\u001B[1;32m    754\u001B[0m \u001B[38;5;28;01mif\u001B[39;00m info\u001B[38;5;241m.\u001B[39mpydev_state \u001B[38;5;241m==\u001B[39m STATE_SUSPEND:\n\u001B[0;32m--> 755\u001B[0m     \u001B[38;5;28;43mself\u001B[39;49m\u001B[38;5;241;43m.\u001B[39;49m\u001B[43mdo_wait_suspend\u001B[49m\u001B[43m(\u001B[49m\u001B[43mthread\u001B[49m\u001B[43m,\u001B[49m\u001B[43m \u001B[49m\u001B[43mframe\u001B[49m\u001B[43m,\u001B[49m\u001B[43m \u001B[49m\u001B[43mevent\u001B[49m\u001B[43m,\u001B[49m\u001B[43m \u001B[49m\u001B[43marg\u001B[49m\u001B[43m)\u001B[49m\n\u001B[1;32m    756\u001B[0m     \u001B[38;5;66;03m# No need to reset frame.f_trace to keep the same trace function.\u001B[39;00m\n\u001B[1;32m    757\u001B[0m     \u001B[38;5;28;01mreturn\u001B[39;00m \u001B[38;5;28mself\u001B[39m\u001B[38;5;241m.\u001B[39mtrace_dispatch\n",
      "File \u001B[0;32m~/.local/share/JetBrains/Toolbox/apps/pycharm-professional/plugins/python-ce/helpers/pydev/_pydevd_bundle/pydevd_frame.py:412\u001B[0m, in \u001B[0;36mPyDBFrame.do_wait_suspend\u001B[0;34m(self, *args, **kwargs)\u001B[0m\n\u001B[1;32m    411\u001B[0m \u001B[38;5;28;01mdef\u001B[39;00m \u001B[38;5;21mdo_wait_suspend\u001B[39m(\u001B[38;5;28mself\u001B[39m, \u001B[38;5;241m*\u001B[39margs, \u001B[38;5;241m*\u001B[39m\u001B[38;5;241m*\u001B[39mkwargs):\n\u001B[0;32m--> 412\u001B[0m     \u001B[38;5;28;43mself\u001B[39;49m\u001B[38;5;241;43m.\u001B[39;49m\u001B[43m_args\u001B[49m\u001B[43m[\u001B[49m\u001B[38;5;241;43m0\u001B[39;49m\u001B[43m]\u001B[49m\u001B[38;5;241;43m.\u001B[39;49m\u001B[43mdo_wait_suspend\u001B[49m\u001B[43m(\u001B[49m\u001B[38;5;241;43m*\u001B[39;49m\u001B[43margs\u001B[49m\u001B[43m,\u001B[49m\u001B[43m \u001B[49m\u001B[38;5;241;43m*\u001B[39;49m\u001B[38;5;241;43m*\u001B[39;49m\u001B[43mkwargs\u001B[49m\u001B[43m)\u001B[49m\n",
      "File \u001B[0;32m~/.local/share/JetBrains/Toolbox/apps/pycharm-professional/plugins/python-ce/helpers/pydev/pydevd.py:1220\u001B[0m, in \u001B[0;36mPyDB.do_wait_suspend\u001B[0;34m(self, thread, frame, event, arg, send_suspend_message, is_unhandled_exception)\u001B[0m\n\u001B[1;32m   1217\u001B[0m         from_this_thread\u001B[38;5;241m.\u001B[39mappend(frame_id)\n\u001B[1;32m   1219\u001B[0m \u001B[38;5;28;01mwith\u001B[39;00m \u001B[38;5;28mself\u001B[39m\u001B[38;5;241m.\u001B[39m_threads_suspended_single_notification\u001B[38;5;241m.\u001B[39mnotify_thread_suspended(thread_id, stop_reason):\n\u001B[0;32m-> 1220\u001B[0m     \u001B[38;5;28;43mself\u001B[39;49m\u001B[38;5;241;43m.\u001B[39;49m\u001B[43m_do_wait_suspend\u001B[49m\u001B[43m(\u001B[49m\u001B[43mthread\u001B[49m\u001B[43m,\u001B[49m\u001B[43m \u001B[49m\u001B[43mframe\u001B[49m\u001B[43m,\u001B[49m\u001B[43m \u001B[49m\u001B[43mevent\u001B[49m\u001B[43m,\u001B[49m\u001B[43m \u001B[49m\u001B[43marg\u001B[49m\u001B[43m,\u001B[49m\u001B[43m \u001B[49m\u001B[43msuspend_type\u001B[49m\u001B[43m,\u001B[49m\u001B[43m \u001B[49m\u001B[43mfrom_this_thread\u001B[49m\u001B[43m)\u001B[49m\n",
      "File \u001B[0;32m~/.local/share/JetBrains/Toolbox/apps/pycharm-professional/plugins/python-ce/helpers/pydev/pydevd.py:1235\u001B[0m, in \u001B[0;36mPyDB._do_wait_suspend\u001B[0;34m(self, thread, frame, event, arg, suspend_type, from_this_thread)\u001B[0m\n\u001B[1;32m   1232\u001B[0m             \u001B[38;5;28mself\u001B[39m\u001B[38;5;241m.\u001B[39m_call_mpl_hook()\n\u001B[1;32m   1234\u001B[0m         \u001B[38;5;28mself\u001B[39m\u001B[38;5;241m.\u001B[39mprocess_internal_commands()\n\u001B[0;32m-> 1235\u001B[0m         \u001B[43mtime\u001B[49m\u001B[38;5;241;43m.\u001B[39;49m\u001B[43msleep\u001B[49m\u001B[43m(\u001B[49m\u001B[38;5;241;43m0.01\u001B[39;49m\u001B[43m)\u001B[49m\n\u001B[1;32m   1237\u001B[0m \u001B[38;5;28mself\u001B[39m\u001B[38;5;241m.\u001B[39mcancel_async_evaluation(get_current_thread_id(thread), \u001B[38;5;28mstr\u001B[39m(\u001B[38;5;28mid\u001B[39m(frame)))\n\u001B[1;32m   1239\u001B[0m \u001B[38;5;66;03m# process any stepping instructions\u001B[39;00m\n",
      "\u001B[0;31mKeyboardInterrupt\u001B[0m: "
     ]
    }
   ],
   "execution_count": 20
  },
  {
   "cell_type": "code",
   "execution_count": null,
   "metadata": {},
   "outputs": [],
   "source": []
  }
 ],
 "metadata": {
  "kernelspec": {
   "display_name": "py24",
   "language": "python",
   "name": "python3"
  },
  "language_info": {
   "codemirror_mode": {
    "name": "ipython",
    "version": 3
   },
   "file_extension": ".py",
   "mimetype": "text/x-python",
   "name": "python",
   "nbconvert_exporter": "python",
   "pygments_lexer": "ipython3",
   "version": "3.13.0"
  }
 },
 "nbformat": 4,
 "nbformat_minor": 2
}
