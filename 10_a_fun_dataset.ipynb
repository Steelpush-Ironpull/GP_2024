{
 "cells": [
  {
   "cell_type": "markdown",
   "metadata": {},
   "source": [
    "<div class=\"alert alert-warning\" role=\"alert\">\n",
    "\n",
    "<div style=\"display: flex; justify-content: space-between; font-size: 12px;\">\n",
    "<div style=\"width: 48%; line-height: 1.25;\">\n",
    "\n",
    "### Until February 7: Course Evaluation\n",
    "\n",
    "We invite you to take part in the evaluation of this course. \n",
    "Simply scan the QR code below or visit the [link](https://evaluation.tu-darmstadt.de/evasys/online.php?pswd=ZZ95U) to access the evaluation form.\n",
    "\n",
    "If you enjoy the course:<br> Let us know what’s working well. Your positive feedback helps us understand which aspects are effective and should be retained in future courses.\n",
    "\n",
    "If you have suggestions or criticism:<br> This is your chance to highlight areas for improvement. Constructive feedback helps us tailor the course to better meet your needs.  \n",
    "\n",
    "*Speak to Us Directly*:<br>\n",
    "If you are unsatisfied with any aspect of the course, we encourage you to speak to us directly. We still have time to make adjustments, and we can address your concerns faster than the central processing of the evaluation results. Your input matters, and we’re here to help you.  \n",
    "\n",
    "</div>\n",
    "<div style=\"width: 4%;\">\n",
    "</div>\n",
    "<div style=\"width: 48%; line-height: 1.25; color: grey;\">\n",
    "\n",
    "### Bis zum 7. Februar: Lehrveranstaltungsevaluation\n",
    "\n",
    "Wir laden Sie ein, sich an der Bewertung dieses Kurses zu beteiligen.\n",
    "Scannen Sie einfach den nachstehenden QR-Code oder besuchen Sie den [Link](https://evaluation.tu-darmstadt.de/evasys/online.php?pswd=ZZ95U), um das Bewertungsformular aufzurufen.\n",
    "\n",
    "Wenn Ihnen der Kurs gefällt:<br> Lassen Sie uns wissen, was gut funktioniert. Ihr positives Feedback hilft uns zu verstehen, welche Aspekte effektiv sind und in zukünftigen Kursen beibehalten werden sollten.\n",
    "\n",
    "Wenn Sie Vorschläge oder Kritik haben:<br> Hier haben Sie die Möglichkeit, auf verbesserungswürdige Bereiche hinzuweisen. Konstruktives Feedback hilft uns, den Kurs besser auf Ihre Bedürfnisse abzustimmen.  \n",
    "\n",
    "*Sprechen Sie uns direkt an*:<br>\n",
    "Wenn Sie mit irgendeinem Aspekt des Kurses unzufrieden sind, empfehlen wir Ihnen, direkt mit uns zu sprechen. Wir haben noch Zeit, Anpassungen vorzunehmen, und wir können uns schneller um Ihre Anliegen kümmern als die zentrale Verarbeitung der Bewertungsergebnisse. Ihre Meinung ist uns wichtig, und wir sind hier, um Ihnen zu helfen.\n",
    "\n",
    "</div>\n",
    "</div>"
   ]
  },
  {
   "cell_type": "markdown",
   "metadata": {},
   "source": [
    "<div style=\"text-align: center;\">\n",
    "    <img src=\"./evaluation_qr.png\" style=\"width: 150px;\">\n",
    "</div>"
   ]
  },
  {
   "cell_type": "markdown",
   "metadata": {},
   "source": [
    "<div style=\"text-align: center;\">\n",
    "    <img src=\"https://upload.wikimedia.org/wikipedia/commons/e/ed/Pandas_logo.svg\" style=\"width: 500px;\">\n",
    "</div>"
   ]
  },
  {
   "cell_type": "markdown",
   "metadata": {},
   "source": [
    "<div class=\"alert alert-success\" role=\"alert\">\n",
    "\n",
    "<div style=\"display: flex; justify-content: space-between;\">\n",
    "<div style=\"width: 48%; line-height: 1.5;\">\n",
    "\n",
    "### Instructions\n",
    "\n",
    "- Enter your matriculation number in the first cell at the line `student_id =` and then execute the cell.\n",
    "\n",
    "- Modify this notebook directly.\n",
    "\n",
    "- <span style=\"color:red;\"> Do not clear the outputs of your cells!</span>\n",
    "\n",
    "- Comments are essential to clarify your thought process, as we cannot interpret your intentions or debug your code.\n",
    "Subtasks without comments will incur a penalty of 0.5 points per subtask. \n",
    "\n",
    "- Once completed, upload your notebook to the weekly assignment.\n",
    "\n",
    "- There are 16 points available in total: you need at least 11 points to pass.\n",
    "\n",
    "</div>\n",
    "<div style=\"width: 4%;\">\n",
    "</div>\n",
    "<div style=\"width: 48%; line-height: 1.5; color: grey;\">\n",
    "\n",
    "### Anweisungen\n",
    "\n",
    "- Geben Sie Ihre Matrikelnummer in die erste Zelle der Zeile `student_id =` ein und führen Sie dann die Zelle aus.\n",
    "\n",
    "- Ändern Sie dieses Notizbuch direkt.\n",
    "\n",
    "- <span style=\"color:red;\"> Löschen Sie nicht die Ausgaben Ihrer Zellen!</span>\n",
    "\n",
    "- Kommentare sind unerlässlich, um Ihren Gedankengang zu verdeutlichen, da wir Ihre Absichten nicht interpretieren oder Ihren Code debuggen können.\n",
    "Teilaufgaben ohne Kommentare führen zu einem Abzug von 0.5 Punkten pro Teilaufgabe.\n",
    "\n",
    "- Wenn Sie fertig sind, laden Sie Ihr Notizbuch in die wöchentliche Aufgabe hoch.\n",
    "\n",
    "- Es gibt insgesamt 16 Punkte: Sie brauchen mindestens 11 Punkte, um zu bestehen.\n",
    "\n",
    "</div>\n",
    "</div>"
   ]
  },
  {
   "cell_type": "markdown",
   "metadata": {},
   "source": [
    "<div class=\"alert alert-warning\" role=\"alert\">\n",
    "\n",
    "<div style=\"display: flex; justify-content: space-between;\">\n",
    "<div style=\"width: 48%; line-height: 1.5;\">\n",
    "\n",
    "Ensure that your notebook runs from top to bottom. You can verify this by clicking the \"Restart\" button and then \"Run All.\" If your notebook fails to execute properly, the corresponding task will incur a penalty.\n",
    "\n",
    "</div>\n",
    "<div style=\"width: 48%; line-height: 1.5; color: grey;\">\n",
    "\n",
    "Stellen Sie sicher, dass Ihr Notebook von oben nach unten läuft. Sie können dies überprüfen, indem Sie auf die Schaltfläche \"Restart\" und dann auf \"Run All\" klicken. Wenn Ihr Notebook nicht ordnungsgemäß ausgeführt wird, wird die entsprechende Aufgabe mit einer Strafe belegt.\n",
    "\n",
    "</div>\n",
    "</div>"
   ]
  },
  {
   "cell_type": "code",
   "execution_count": null,
   "metadata": {},
   "outputs": [],
   "source": [
    "from IPython.display import display\n",
    "import IPython\n",
    "from datetime import datetime\n",
    "\n",
    "# Student ID\n",
    "student_id = \"YOUR MATRICULATION NUMBER HERE\"\n",
    "\n",
    "def display_student_id(*args, **kwargs):\n",
    "    current_time = datetime.now().strftime(\"%Y-%m-%d %H:%M:%S\")\n",
    "    display(f\"Run by {student_id} at {current_time}\")\n",
    "\n",
    "IPython.get_ipython().events.register('post_run_cell', display_student_id)"
   ]
  },
  {
   "cell_type": "markdown",
   "metadata": {},
   "source": [
    "<div style=\"text-align: center;\">\n",
    "    <img src=\"https://storage.googleapis.com/pr-newsroom-wp/1/2024/01/Spotify_FTR_Header.png\" style=\"width: 400px;\">\n",
    "</div>"
   ]
  },
  {
   "cell_type": "markdown",
   "metadata": {},
   "source": [
    "<div class=\"alert alert-block alert-light\">\n",
    "\n",
    "<div style=\"display: flex; justify-content: space-between;\">\n",
    "<div style=\"width: 48%; line-height: 1.5;<div style=\"width: 48%; line-height: 1.5;\">\n",
    "\n",
    "In this task, you are going to practice your skills on a real-world dataset. \n",
    "This dataset comes from Spotify and has little to do with natural sciences. Nevertheless, it provides valuable opportunities to practice useful operations and enhance your skills.\n",
    "\n",
    "Real-world datasets are often messy, meaning the data may be highly scattered, making it challenging to identify clear trends.  \n",
    "Before diving into detailed analysis and visualization, we will first conduct some preliminary exploration and basic data cleaning to prepare the dataset.\n",
    "\n",
    "</div>\n",
    "\n",
    "<div style=\"width: 48%; line-height: 1.5;<div style=\"width: 48%; line-height: 1.5;color: grey;\">\n",
    "\n",
    "In dieser Aufgabe werden Sie Ihre Fähigkeiten an einem realen Datensatz üben.\n",
    "Dieser Datensatz stammt von Spotify und hat wenig mit Naturwissenschaften zu tun. Dennoch bietet er wertvolle Möglichkeiten, nützliche Operationen zu üben und Ihre Fähigkeiten zu verbessern.\n",
    "\n",
    "Reale Datensätze sind oft unübersichtlich, d. h. die Daten können stark gestreut sein, was es schwierig macht, klare Trends zu erkennen.  \n",
    "Bevor wir uns der detaillierten Analyse und Visualisierung widmen, werden wir zunächst einige Voruntersuchungen und eine grundlegende Datenbereinigung durchführen, um den Datensatz vorzubereiten.\n",
    "   \n",
    "</div>\n",
    "</div>"
   ]
  },
  {
   "cell_type": "code",
   "execution_count": null,
   "metadata": {},
   "outputs": [],
   "source": [
    "import pandas as pd"
   ]
  },
  {
   "cell_type": "markdown",
   "metadata": {},
   "source": [
    "<div class=\"alert alert-block alert-light\">\n",
    "\n",
    "#### 1 (1 P)\n",
    "\n",
    "<div style=\"display: flex; justify-content: space-between;\">\n",
    "<div style=\"width: 48%; line-height: 1.5;<div style=\"width: 48%; line-height: 1.5;\">\n",
    "\n",
    "1. Import the provided dataset, `10_data.csv`. (0.5 P)\n",
    "\n",
    "2. Inspect the dataset using `head()` and `info()`. \n",
    "    - Each operation should be performed in a separate cell. (0.25 P)\n",
    "    - Do not use `print()`: pandas is capable of displaying the relevant information directly. (0.25 P)\n",
    "\n",
    "3. Understand what the columns represent by reading the provided table.\n",
    "\n",
    "</div>\n",
    "<div style=\"width: 48%; line-height: 1.5;<div style=\"width: 48%; line-height: 1.5;color: grey;\">\n",
    "\n",
    "1. Importieren Sie den bereitgestellten Datensatz, `10_data.csv`. (0.5 P)\n",
    "\n",
    "2. Überprüfen Sie den Datensatz mit Hilfe von `head()` und `info()`. \n",
    "    - Jede Operation sollte in einer separaten Zelle durchgeführt werden. (0.25 P)\n",
    "    - Verwenden Sie nicht `print()`: pandas ist in der Lage, die relevanten Informationen direkt anzuzeigen. (0.25 P)\n",
    "\n",
    "3. Verstehen Sie, was die Spalten bedeuten, indem Sie die Tabelle lesen.\n",
    "   \n",
    "</div>\n",
    "</div>"
   ]
  },
  {
   "cell_type": "markdown",
   "metadata": {},
   "source": [
    "| Header         | Description                                                                 | Beschreibung                                                     |\n",
    "|--------------------|----------------------------------------------------------------------------------|----------------------------------------------------------------------------|\n",
    "| Title          | The title of the track.                                                          | Der Titel des Songs.                                                       |\n",
    "| Artist         | The name of the artist or band.                                                   | Der Name des Künstlers oder der Band.                                      |\n",
    "| Year           | The Year the track was released.                                                  | Das Jahr, in dem der Song veröffentlicht wurde.                            |\n",
    "| Acousticness   | A score representing the likelihood that the track is acoustic.          | Ein Wert, der die Wahrscheinlichkeit angibt, dass der Song akustisch ist. |\n",
    "| Danceability   | A score that describes how suitable the track is for dancing.            | Ein Wert, der beschreibt, wie tanzbar der Song ist.               |\n",
    "| Energy         | A score representing the intensity and activity of the track.            | Ein Wert, der die Intensität und Aktivität des Songs darstellt.  |\n",
    "| Instrumentalness | A score estimating the amount of instrumental content (no vocals).     | Ein Wert, der den Anteil instrumentaler Inhalte (ohne Gesang) schätzt. |\n",
    "| Loudness, dB       | The average loudness of the track in decibels (dB).                               | Die durchschnittliche Lautstärke des Songs in Dezibel (dB).                |\n",
    "| Speechiness    | A score indicating the presence of spoken words in the track.            | Ein Wert, der den Anteil gesprochener Worte im Song angibt.      |\n",
    "| Tempo          | The tempo of the track in beats per minute (BPM).                                 | Das Tempo des Songs in Schlägen pro Minute (BPM).                          |\n",
    "| Valence        | A score representing the positivity or \"happiness\" of the track.         | Ein Wert, der die Positivität oder \"Fröhlichkeit\" des Songs darstellt. |\n",
    "| Popularity     | A score indicating the track’s popularity based on streams and ratings.| Ein Wert, der die Popularität des Songs basierend auf Streams und Bewertungen angibt. |\n",
    "Explicit | Whether or not the track has explicit lyrics. | Ob der Titel explizite Texte enthält oder nicht. |\n",
    "| Duration, minutes       | The duration of the track in minutes.                                  | Die Dauer des Songs in in Minuten.                            |"
   ]
  },
  {
   "cell_type": "code",
   "execution_count": null,
   "metadata": {},
   "outputs": [],
   "source": [
    "# RELEVANT TO LATEX EXERCISE\n",
    "\n",
    "data = {\n",
    "    \"Header\": [\n",
    "        \"Title\", \"Artist\", \"Year\", \"Acousticness\", \"Danceability\", \n",
    "        \"Energy\", \"Instrumentalness\", \"Loudness, dB\", \"Speechiness\", \n",
    "        \"Tempo\", \"Valence\", \"Popularity\", \"Explicit\", \"Duration, minutes\"],\n",
    "    \"Description\": [\n",
    "        \"The title of the track.\", \n",
    "        \"The name of the artist or band.\",\n",
    "        \"The Year the track was released.\",\n",
    "        \"A score representing the likelihood that the track is acoustic.\",\n",
    "        \"A score that describes how suitable the track is for dancing.\",\n",
    "        \"A score representing the intensity and activity of the track.\",\n",
    "        \"A score estimating the amount of instrumental content (no vocals).\",\n",
    "        \"The average loudness of the track in decibels (dB).\",\n",
    "        \"A score indicating the presence of spoken words in the track.\",\n",
    "        \"The tempo of the track in beats per minute (BPM).\",\n",
    "        \"A score representing the positivity or 'happiness' of the track.\",\n",
    "        \"A score indicating the track’s popularity based on streams and ratings.\",\n",
    "        \"Whether or not the track has explicit lyrics.\",\n",
    "        \"The duration of the track in minutes.\"]\n",
    "}\n",
    "\n",
    "headers = pd.DataFrame(data)\n",
    "\n",
    "print(headers.to_latex(index=False))"
   ]
  },
  {
   "cell_type": "code",
   "execution_count": null,
   "metadata": {},
   "outputs": [],
   "source": [
    "# RELEVANT TO LATEX EXERCISE\n",
    "\n",
    "datei = {\n",
    "    \"Kopfzeile\": [\n",
    "        \"Title\", \"Artist\", \"Year\", \"Acousticness\", \"Danceability\", \n",
    "        \"Energy\", \"Instrumentalness\", \"Loudness, dB\", \"Speechiness\", \n",
    "        \"Tempo\", \"Valence\", \"Popularity\", \"Explicit\", \"Duration, minutes\"\n",
    "    ],\n",
    "    \"Beschreibung\": [\n",
    "        \"Der Titel des Songs.\", \n",
    "        \"Der Name des Künstlers oder der Band.\",\n",
    "        \"Das Jahr, in dem der Song veröffentlicht wurde.\",\n",
    "        \"Ein Wert, der die Wahrscheinlichkeit angibt, dass der Song akustisch ist.\",\n",
    "        \"Ein Wert, der beschreibt, wie tanzbar der Song ist.\",\n",
    "        \"Ein Wert, der die Intensität und Aktivität des Songs darstellt.\",\n",
    "        \"Ein Wert, der den Anteil instrumentaler Inhalte (ohne Gesang) schätzt.\",\n",
    "        \"Die durchschnittliche Lautstärke des Songs in Dezibel (dB).\",\n",
    "        \"Ein Wert, der den Anteil gesprochener Worte im Song angibt.\",\n",
    "        \"Das Tempo des Songs in Schlägen pro Minute (BPM).\",\n",
    "        \"Ein Wert, der die Positivität oder 'Fröhlichkeit' des Songs darstellt.\",\n",
    "        \"Ein Wert, der die Popularität des Songs basierend auf Streams und Bewertungen angibt.\",\n",
    "        \"Ob der Titel explizite Texte enthält oder nicht.\",\n",
    "        \"Die Dauer des Songs in Minuten.\"\n",
    "    ]\n",
    "}\n",
    "\n",
    "kopfzeilen = pd.DataFrame(datei)\n",
    "\n",
    "print(kopfzeilen.to_latex(index=False))"
   ]
  },
  {
   "cell_type": "code",
   "execution_count": null,
   "metadata": {},
   "outputs": [],
   "source": [
    "import pandas as pd\n",
    "import seaborn as sns\n",
    "import matplotlib.pyplot as plt\n",
    "\n",
    "df = pd.read_csv(\"10_data.csv\")\n",
    "\n",
    "df.head()"
   ]
  },
  {
   "cell_type": "markdown",
   "metadata": {},
   "source": [
    "<div class=\"alert alert-block alert-light\">\n",
    "\n",
    "#### 2 (1 P)\n",
    "\n",
    "<div style=\"display: flex; justify-content: space-between;\">\n",
    "<div style=\"width: 48%; line-height: 1.5;<div style=\"width: 48%; line-height: 1.5;\">\n",
    "\n",
    "In large datasets, duplicate rows are a common issue that can distort statistical analysis. Therefore, it is crucial to identify and remove any duplicates.\n",
    "\n",
    "1. Check for duplicate rows using the following command: (0.5 P)\n",
    "\n",
    "```python\n",
    "df_name[df_name.duplicated()]\n",
    "```\n",
    "\n",
    "2. If duplicates exist, remove them by using the command: (0.5 P)\n",
    "\n",
    "```python\n",
    "df_name = df_name.drop_duplicates()\n",
    "```\n",
    "\n",
    "</div>\n",
    "<div style=\"width: 48%; line-height: 1.5;<div style=\"width: 48%; line-height: 1.5;color: grey;\">\n",
    "\n",
    "In großen Datensätzen sind doppelte Zeilen ein häufiges Problem, das die statistische Analyse verzerren kann. Daher ist es wichtig, Duplikate zu erkennen und zu entfernen.\n",
    "\n",
    "1. Prüfen Sie mit dem folgenden Befehl auf doppelte Zeilen: (0.5 P)\n",
    "\n",
    "```python\n",
    "df_name[df_name.duplicated()]\n",
    "```\n",
    "\n",
    "2. Wenn Duplikate existieren, entfernen Sie diese mit dem Befehl: (0.5 P)\n",
    "\n",
    "```python\n",
    "df_name = df_name.drop_duplicates()\n",
    "```\n",
    "   \n",
    "</div>\n",
    "</div>"
   ]
  },
  {
   "cell_type": "code",
   "execution_count": null,
   "metadata": {},
   "outputs": [],
   "source": [
    "# are there duplicates?\n",
    "\n",
    "df[df.duplicated()]"
   ]
  },
  {
   "cell_type": "code",
   "execution_count": null,
   "metadata": {},
   "outputs": [],
   "source": [
    "# remove duplicates\n",
    "\n",
    "df = df.drop_duplicates()\n",
    "\n",
    "df.shape"
   ]
  },
  {
   "cell_type": "code",
   "execution_count": null,
   "metadata": {},
   "outputs": [],
   "source": [
    "df.dtypes"
   ]
  },
  {
   "cell_type": "markdown",
   "metadata": {},
   "source": [
    "<div class=\"alert alert-block alert-light\">\n",
    "\n",
    "#### 3 (2 P)\n",
    "\n",
    "<div style=\"display: flex; justify-content: space-between;\">\n",
    "<div style=\"width: 48%; line-height: 1.5;<div style=\"width: 48%; line-height: 1.5;\">\n",
    "\n",
    "1. Are there any missing values (`NaN`). If there are, dispose of them. (0.5 P)\n",
    "\n",
    "2. Use the command to check how many unique values each column has. (0.5 P)\n",
    "\n",
    "3. How many unique values does the column `Explicit` has? \n",
    "  - What are they? (0.5 P)\n",
    "  - What type are they? (0.5 P)\n",
    "\n",
    "<details>\n",
    "  <summary>Hint</summary>\n",
    "\n",
    "Data types and `NaN` values have been covered in lecture `07_pandas_basics.ipynb` and unique values in lecture `08_pandas_advanced.ipynb`.\n",
    "</details>\n",
    "\n",
    "</div>\n",
    "<div style=\"width: 48%; line-height: 1.5;<div style=\"width: 48%; line-height: 1.5;color: grey;\">\n",
    "\n",
    "1. Gibt es irgendwelche fehlenden Werte (`NaN`)? Wenn ja, entfernen Sie sie. (0.5 P)\n",
    "\n",
    "2. Verwenden Sie den Befehl, um zu prüfen, wie viele eindeutige Werte jede Spalte hat. (0.5 P)\n",
    "\n",
    "3. Wie viele eindeutige Werte hat die Spalte `Explicit`? \n",
    "  - Welche sind das? (0.5 P)\n",
    "  - Welcher Art sind sie? (0.5 P)\n",
    "\n",
    "<Details>\n",
    "  <summary>Hinweis</summary>\n",
    "\n",
    "Datentypen und `NaN`-Werte wurden in der Vorlesung `07_pandas_basics.ipynb` und die eindeutigen Werte in der Vorlesung `08_pandas_advanced.ipynb` behandelt.\n",
    "</details>\n",
    "   \n",
    "</div>\n",
    "</div>"
   ]
  },
  {
   "cell_type": "code",
   "execution_count": null,
   "metadata": {},
   "outputs": [],
   "source": [
    "# are there NaN values?\n",
    "\n",
    "df.info()"
   ]
  },
  {
   "cell_type": "code",
   "execution_count": null,
   "metadata": {},
   "outputs": [],
   "source": [
    "df.nunique()"
   ]
  },
  {
   "cell_type": "code",
   "execution_count": null,
   "metadata": {},
   "outputs": [],
   "source": [
    "# with only 2 values, explicit looks suspicious\n",
    "# understand which values explicit takes\n",
    "\n",
    "df['Explicit'].unique()"
   ]
  },
  {
   "cell_type": "markdown",
   "metadata": {},
   "source": [
    "<div class=\"alert alert-block alert-light\">\n",
    "\n",
    "#### 4 (1 P)\n",
    "\n",
    "<div style=\"display: flex; justify-content: space-between;\">\n",
    "<div style=\"width: 48%; line-height: 1.5;<div style=\"width: 48%; line-height: 1.5;\">\n",
    "\n",
    "1. Convert the column `Explicit` to string. **Verify that the conversion was successful. If the conversion fails, you won't be able to proceed with this and some of the subsequent tasks**. (0.5 P)\n",
    "\n",
    "2. Use `df_name.loc` to update the values in the `Explicit` column: 0 should be renamed `No`, and 1 should be renamed `Yes`. (0.5 P)\n",
    "\n",
    "<details>\n",
    "  <summary>Hint</summary>\n",
    "\n",
    "Remember that in pandas strings are not assigned a specific string type: instead, they are classified as `object` type.\n",
    "</details>\n",
    "\n",
    "</div>\n",
    "<div style=\"width: 48%; line-height: 1.5;<div style=\"width: 48%; line-height: 1.5;color: grey;\">\n",
    "\n",
    "1. Konvertieren Sie die Spalte `Explicit` in einen String. **Prüfen Sie, ob die Konvertierung erfolgreich war. Wenn die Konvertierung fehlschlägt, können Sie mit dieser und einigen der folgenden Aufgaben nicht fortfahren**. (0.5 P)\n",
    "\n",
    "2. Verwenden Sie `df_name.loc`, um die Werte in der Spalte `Explicit` zu aktualisieren: 0 sollte in `No` umbenannt werden, und 1 sollte in `Yes` umbenannt werden. (0.5 P)\n",
    "\n",
    "<details>\n",
    "  <summary>Hinweis</summary>\n",
    "\n",
    "Denken Sie daran, dass in Pandas Strings kein bestimmter Stringtyp zugewiesen wird: Stattdessen werden sie als `object`-Typ klassifiziert.\n",
    "</details>\n",
    "   \n",
    "</div>\n",
    "</div>"
   ]
  },
  {
   "cell_type": "code",
   "execution_count": null,
   "metadata": {},
   "outputs": [],
   "source": [
    "df['Explicit'] = df['Explicit'].astype('object')"
   ]
  },
  {
   "cell_type": "code",
   "execution_count": null,
   "metadata": {},
   "outputs": [],
   "source": [
    "df.info()"
   ]
  },
  {
   "cell_type": "code",
   "execution_count": null,
   "metadata": {},
   "outputs": [],
   "source": [
    "# or:\n",
    "\n",
    "df.loc[:, 'Explicit'] = df['Explicit'].astype('object')\n",
    "\n",
    "df.info()"
   ]
  },
  {
   "cell_type": "code",
   "execution_count": null,
   "metadata": {},
   "outputs": [],
   "source": [
    "# Using .loc to update the values in the 'explicit' column\n",
    "df.loc[df['Explicit'] == 0, 'Explicit'] = 'No'\n",
    "df.loc[df['Explicit'] == 1, 'Explicit'] = 'Yes'"
   ]
  },
  {
   "cell_type": "code",
   "execution_count": null,
   "metadata": {},
   "outputs": [],
   "source": [
    "df.head()"
   ]
  },
  {
   "cell_type": "markdown",
   "metadata": {},
   "source": [
    "<div class=\"alert alert-block alert-light\">\n",
    "\n",
    "#### 5 (2 P)\n",
    "\n",
    "<div style=\"display: flex; justify-content: space-between;\">\n",
    "<div style=\"width: 48%; line-height: 1.5;<div style=\"width: 48%; line-height: 1.5;\">\n",
    "\n",
    "1. What time span does the dataset cover? (0.5 P)\n",
    "\n",
    "2. Which columns take continuous values between 0 and 1? (You should find six) (0.5 P)\n",
    "\n",
    "3. Make a `subplots`, where every subplot shows the lineplot of one of the six columns against the year. \n",
    "    - The plot should have 2 rows and 3 columns. (0.25 P)\n",
    "    - Set `sharex=True` and `sharey=True`. (0.25 P)\n",
    "    - Set all y-axis labels as empty strings. (0.25 P)\n",
    "    - Set column headers as subplot titles. (0.25 P)\n",
    "    - The plotting will take some time. Don't panic. \n",
    "\n",
    "</div>\n",
    "<div style=\"width: 48%; line-height: 1.5;<div style=\"width: 48%; line-height: 1.5;color: grey;\">\n",
    "\n",
    "1. Welche Zeitspanne deckt der Datensatz ab? (0.5 P)\n",
    "\n",
    "2. Welche Spalten nehmen kontinuierliche Werte zwischen 0 und 1 an? (Sie sollten sechs finden) (0.5 P)\n",
    "\n",
    "3. Erstellen Sie einen Subplot (mittels `subplots`), wobei jeder Subplot den Linienplot einer der sechs Spalten gegen das Jahr zeigt. \n",
    "    - Das Diagramm sollte 2 Zeilen und 3 Spalten haben. (0.25 P)\n",
    "    - Setzen Sie `sharex=True` und `sharey=True`. (0.25 P)\n",
    "    - Setzen Sie alle y-Achsenbeschriftungen als leere Zeichenfolgen. (0.25 P)\n",
    "    - Setzen Sie die Spaltenüberschriften als Subplot-Titel. (0.25 P)\n",
    "    - Die Ausarbeitung des Plots wird einige Zeit in Anspruch nehmen. Nur keine Panik.\n",
    "   \n",
    "</div>\n",
    "</div>"
   ]
  },
  {
   "cell_type": "code",
   "execution_count": null,
   "metadata": {},
   "outputs": [],
   "source": [
    "df.describe()\n",
    "\n",
    "# what's the time span of the dataset?\n",
    "# which columns have values between 0 and 1?"
   ]
  },
  {
   "cell_type": "code",
   "execution_count": null,
   "metadata": {},
   "outputs": [],
   "source": [
    "# lineplot the columns with values between 0 and 1 (will take some time)\n",
    "# List of columns to plot\n",
    "cols = ['Acousticness', 'Danceability', 'Energy', 'Instrumentalness', 'Speechiness', 'Valence']\n",
    "\n",
    "fig, axes = plt.subplots(2, 3, figsize=(9, 5), sharex=True, sharey=True)\n",
    "\n",
    "# Plot each column in its own subplot\n",
    "\n",
    "sns.lineplot(ax=axes[0,0], x=df['Year'], y=df[cols[0]])\n",
    "axes[0,0].set_title(cols[0])\n",
    "\n",
    "sns.lineplot(ax=axes[0,1], x=df['Year'], y=df[cols[1]])\n",
    "axes[0,1].set_title(cols[1])\n",
    "\n",
    "sns.lineplot(ax=axes[0,2], x=df['Year'], y=df[cols[2]])\n",
    "axes[0,2].set_title(cols[2])\n",
    "\n",
    "sns.lineplot(ax=axes[1,0], x=df['Year'], y=df[cols[3]])\n",
    "axes[1,0].set_title(cols[3])\n",
    "\n",
    "sns.lineplot(ax=axes[1,1], x=df['Year'], y=df[cols[4]])\n",
    "axes[1,1].set_title(cols[4])\n",
    "\n",
    "sns.lineplot(ax=axes[1,2], x=df['Year'], y=df[cols[5]])\n",
    "axes[1,2].set_title(cols[5])\n",
    "\n",
    "for i in range(2):\n",
    "    for j in range(3):\n",
    "        axes[i,j].set_ylabel(\"\") \n",
    "\n",
    "plt.tight_layout()\n",
    "plt.show()"
   ]
  },
  {
   "cell_type": "markdown",
   "metadata": {},
   "source": [
    "<div class=\"alert alert-block alert-light\">\n",
    "\n",
    "#### 6 (2 P)\n",
    "\n",
    "<div style=\"display: flex; justify-content: space-between;\">\n",
    "<div style=\"width: 48%; line-height: 1.5;<div style=\"width: 48%; line-height: 1.5;\">\n",
    "\n",
    "1. Plot the time evolution of the column `Loudness, dB` over the years with `lineplot`. If you observe a trend, it might be the [loudness war](https://en.wikipedia.org/wiki/Loudness_war).  (0.5 P)\n",
    "\n",
    "2. How is the loudness distributed? Plot a histogram. (0.5 P)\n",
    "\n",
    "3. The loudness does not have a symmetric distribution: we say that it is *skewed*. \n",
    "    - Use the command `df_name['column_name'].skew()` to compute the skewness. (0.5 P) \n",
    "    - Interpret the result of this operation according to this guidelines: (0.5 P)\n",
    "        - `-0.5 < skew < 0.5`: Approximately symmetrical distribution.\n",
    "        - `-1 < skew < -0.5`: Moderately negatively skewed.\n",
    "        - `1 > skew > 0.5`: Moderately positively skewed.\n",
    "        - `skew < -1`: Highly negatively skewed.\n",
    "        - `skew > 1`: Highly positively skewed.\n",
    "\n",
    "</div>\n",
    "<div style=\"width: 48%; line-height: 1.5;<div style=\"width: 48%; line-height: 1.5;color: grey;\">\n",
    "\n",
    "1. Tragen Sie die zeitliche Entwicklung der Spalte `Loudness, dB` über die Jahre mit `lineplot` auf. Wenn Sie einen Trend beobachten, könnte es der [Lautheitskrieg](https://de.wikipedia.org/wiki/Loudness_War) sein.  (0.5 P)\n",
    "\n",
    "2. Wie ist die Lautstärke verteilt? Plotten Sie ein Histogramm. (0.5 P)\n",
    "\n",
    "3. Die Lautstärke ist nicht symmetrisch verteilt: Man sagt, sie ist *schief*. \n",
    "    - Verwenden Sie den Befehl `df_name['column_name'].skew()`, um die Schiefe zu berechnen. (0.5 P) \n",
    "    - Interpretieren Sie das Ergebnis dieser Operation nach den folgenden Richtlinien: (0.5 P)\n",
    "        - `-0.5 < skew < 0.5`: Annähernd symmetrische Verteilung.\n",
    "        - `-1 < skew < -0.5`: Mäßig negativ verzerrt.\n",
    "        - `1 > skew > 0.5`: Mäßig positiv verzerrt.\n",
    "        - `skew < -1`: Stark negativ verzerrt.\n",
    "        - `skew > 1`: Stark positiv verzerrt.\n",
    "   \n",
    "</div>\n",
    "</div>"
   ]
  },
  {
   "cell_type": "code",
   "execution_count": null,
   "metadata": {},
   "outputs": [],
   "source": [
    "# if you see a trend, it might be the loudness war\n",
    "\n",
    "sns.lineplot(x=df['Year'], y=df['Loudness, dB'])\n",
    "\n",
    "plt.show()"
   ]
  },
  {
   "cell_type": "code",
   "execution_count": null,
   "metadata": {},
   "outputs": [],
   "source": [
    "sns.histplot(df['Loudness, dB'])\n",
    "\n",
    "plt.show()"
   ]
  },
  {
   "cell_type": "code",
   "execution_count": null,
   "metadata": {},
   "outputs": [],
   "source": [
    "df['Loudness, dB'].skew()"
   ]
  },
  {
   "cell_type": "markdown",
   "metadata": {},
   "source": [
    "<div class=\"alert alert-block alert-light\">\n",
    "\n",
    "#### 7 (1 P)\n",
    "\n",
    "<div style=\"display: flex; justify-content: space-between;\">\n",
    "<div style=\"width: 48%; line-height: 1.5;<div style=\"width: 48%; line-height: 1.5;\">\n",
    "\n",
    "1. Calculate the Spearman correlation matrix. (0.5 P)\n",
    "2. Plot it as a heatmap. (0.25 P)\n",
    "  - Ensure that the color map is symmetric around 0. (0.25 P)\n",
    "\n",
    "<details>\n",
    "  <summary>Hint</summary>\n",
    "\n",
    "Remember to apply the `.corr()` command only to numerical columns. There is a built-in method to do just that.\n",
    "</details>\n",
    "\n",
    "\n",
    "</div>\n",
    "<div style=\"width: 48%; line-height: 1.5;<div style=\"width: 48%; line-height: 1.5;color: grey;\">\n",
    "\n",
    "1. Berechnen Sie die Spearman-Korrelationsmatrix. (0.5 P) \n",
    "2. Stellen Sie sie als Heatmap dar. (0.25 P)\n",
    "  - Stellen Sie sicher, dass die Farbskala symmetrisch um 0 ist. (0.25 P)\n",
    "\n",
    "<Details>\n",
    "  <summary>Hinweis</summary>\n",
    "\n",
    "Denken Sie daran, den Befehl `.corr()` nur auf numerische Spalten anzuwenden. Es gibt eine eingebaute Methode, um genau das zu tun.\n",
    "</details>\n",
    "   \n",
    "</div>\n",
    "</div>"
   ]
  },
  {
   "cell_type": "code",
   "execution_count": null,
   "metadata": {},
   "outputs": [],
   "source": [
    "# correlations\n",
    "\n",
    "df_corr = df.corr(method='spearman', numeric_only=True).round(2)\n",
    "df_corr[df_corr.abs() > 0.5]"
   ]
  },
  {
   "cell_type": "code",
   "execution_count": null,
   "metadata": {},
   "outputs": [],
   "source": [
    "# correlations\n",
    "\n",
    "sns.heatmap(df_corr, vmin=-1, vmax=1, cmap=\"seismic\", linewidths=0.5)\n",
    "\n",
    "plt.show()"
   ]
  },
  {
   "cell_type": "markdown",
   "metadata": {},
   "source": [
    "<div class=\"alert alert-block alert-light\">\n",
    "\n",
    "#### 8 (3 P)\n",
    "\n",
    "<div style=\"display: flex; justify-content: space-between;\">\n",
    "<div style=\"width: 48%; line-height: 1.5;<div style=\"width: 48%; line-height: 1.5;\">\n",
    "\n",
    "1. What is the correlation coefficient between energy and loudness? (0.33 P)\n",
    "\n",
    "2. Using a line plot, plot energy against loudness. (0.33 P)\n",
    "    - Use the standard deviation as error bar. (0.33 P)\n",
    "\n",
    "3. This line shows significant scatter at low values, and it is not expected that two Spotify metrics should follow a strict mathematical relationship. Nevertheless, we will approximate this dependency using a function.\n",
    "    - Fit a function $a + b \\cdot \\log_{10}(x)$ to `'Energy'` vs. `'Loudness, dB'` using `curve_fit`. (1 P)\n",
    "    - Calculate the coefficient of determination $R^2$ using `r2_score`. (0.5 P)\n",
    "    - Plot this fitted function on top of the original. (0.5 P)\n",
    "    - The fitting will take some time. Don't panic.\n",
    "\n",
    "</div>\n",
    "<div style=\"width: 48%; line-height: 1.5;<div style=\"width: 48%; line-height: 1.5;color: grey;\">\n",
    "\n",
    "1. Wie hoch ist der Korrelationskoeffizient zwischen Energie und Lautstärke? (0.33 P)\n",
    "\n",
    "2. Stellen Sie die Energie gegen die Lautstärke in einem Liniendiagramm dar. (0.33)\n",
    "    - Verwenden Sie die Standardabweichung als Fehlerbalken. (0.33 P)\n",
    "\n",
    "3. Diese Linie zeigt eine erhebliche Streuung bei niedrigen Werten, und es ist nicht zu erwarten, dass zwei Spotify-Metriken einer strengen mathematischen Beziehung folgen. Dennoch werden wir diese Abhängigkeit mit Hilfe einer Funktion annähern.\n",
    "    - Passen Sie eine Funktion $a + b \\cdot \\log_{10}(x)$ mit `curve_fit` an `'Energy'` vs. `'Loudness, dB'` an. (1 P)\n",
    "    - Berechnen Sie das Bestimmtheitsmaß $R^2$ mit `r2_score`. (0.5 P)\n",
    "    - Plotten Sie diese angepasste Funktion zusammen mit dem Original. (0.5 P)\n",
    "    - Die Anpassung wird einige Zeit in Anspruch nehmen. Nur keine Panik.\n",
    "   \n",
    "</div>\n",
    "</div>"
   ]
  },
  {
   "cell_type": "code",
   "execution_count": null,
   "metadata": {},
   "outputs": [],
   "source": [
    "# use errorbar='sd' because for some reason ci takes forever\n",
    "\n",
    "sns.lineplot(x=df['Energy'], y=df['Loudness, dB'], errorbar='sd')\n",
    "\n",
    "plt.show()"
   ]
  },
  {
   "cell_type": "code",
   "execution_count": null,
   "metadata": {},
   "outputs": [],
   "source": [
    "# will take a while\n",
    "\n",
    "import numpy as np\n",
    "from scipy.optimize import curve_fit\n",
    "from sklearn.metrics import r2_score\n",
    "\n",
    "# Define a logarithmic function to fit\n",
    "def log_func(x, a, b):\n",
    "    return a + b * np.log10(x)\n",
    "\n",
    "# Fit the curve\n",
    "params, _ = curve_fit(log_func, df['Energy'], df['Loudness, dB'])\n",
    "a, b = params\n",
    "\n",
    "# Calculate predicted values and R²\n",
    "df['Predicted_Loudness, dB'] = log_func(df['Energy'], a, b)\n",
    "r2 = r2_score(df['Loudness, dB'], df['Predicted_Loudness, dB'])\n",
    "\n",
    "# Plot the original data and fitted curve\n",
    "plt.figure(figsize=(5, 4))\n",
    "sns.lineplot(x='Energy', y='Loudness, dB', data=df, label='Original Data', alpha=0.4)\n",
    "sns.lineplot(x='Energy', y='Predicted_Loudness, dB', data=df.sort_values('Energy'), label=rf'$x =$ {a:.2f} + {b:.2f} $\\log x$ (R$^2$ = {r2:.4f})', color='red')\n",
    "\n",
    "plt.xlabel('Energy')\n",
    "plt.ylabel('Loudness, dB (log scale)')\n",
    "plt.legend()\n",
    "plt.show()\n",
    "\n",
    "# Output the fit parameters and R² score\n",
    "a, b, r2"
   ]
  },
  {
   "cell_type": "markdown",
   "metadata": {},
   "source": [
    "<div class=\"alert alert-block alert-light\">\n",
    "\n",
    "#### 9 (1 P)\n",
    "\n",
    "<div style=\"display: flex; justify-content: space-between;\">\n",
    "<div style=\"width: 48%; line-height: 1.5;<div style=\"width: 48%; line-height: 1.5;\">\n",
    "\n",
    "1. Are explicit lyrics on the rise? Plot a histogram of the years and use `'Explicit'` as hue semantics. Use a bin width of 1. (0.5 P)\n",
    "\n",
    "2. Are explicit lyrics more popular? Plot a barplot where `'Explicit'` is on the x and `'Popularity'` is on the y. Use the standard deviation as error bar. (0.5 P)\n",
    "\n",
    "</div>\n",
    "<div style=\"width: 48%; line-height: 1.5;<div style=\"width: 48%; line-height: 1.5;color: grey;\">\n",
    "\n",
    "1. Sind explizite Liedtexte auf dem Vormarsch? Plotten Sie ein Histogramm der Jahre und verwenden Sie `'Explicit'` als Farbton-Semantik. Verwenden Sie eine Feldbreite von 1. (0.5 P)\n",
    "\n",
    "2. Sind explizite Liedtexte beliebter? Plotten Sie ein Balkendiagramm, bei dem `'Explicit'` auf der x-Achse und `'Popularity'` auf der y-Achse steht. Verwenden Sie die Standardabweichung als Fehlerbalken. (0.5 P)\n",
    "   \n",
    "</div>\n",
    "</div>"
   ]
  },
  {
   "cell_type": "code",
   "execution_count": null,
   "metadata": {},
   "outputs": [],
   "source": [
    "# are explicit lyrics on the rise?\n",
    "\n",
    "sns.histplot(x=df['Year'], hue=df['Explicit'], binwidth=1, element='step', palette='Set2') \n",
    "\n",
    "plt.show()"
   ]
  },
  {
   "cell_type": "code",
   "execution_count": null,
   "metadata": {},
   "outputs": [],
   "source": [
    "# are explicit lyrics more popular?\n",
    "\n",
    "sns.barplot(x=df['Explicit'], y=df['Popularity'], errorbar='sd', color='lightskyblue') \n",
    "\n",
    "plt.show()"
   ]
  },
  {
   "cell_type": "markdown",
   "metadata": {},
   "source": [
    "<div class=\"alert alert-block alert-light\">\n",
    "\n",
    "#### 10 (2 P)\n",
    "\n",
    "<div style=\"display: flex; justify-content: space-between;\">\n",
    "<div style=\"width: 48%; line-height: 1.5;<div style=\"width: 48%; line-height: 1.5;\">\n",
    "\n",
    "1. In the previous histogram, you observed that explicit lyrics are a relatively recent phenomenon (at least in the given dataset). This would not necessarily be problematic if the metric we are interested in, `'Popularity'`, were independent of time. Check this hypothesis by creating a line plot of `'Popularity'` vs. `'Year'`. (0.5 P)\n",
    "\n",
    "2. It appears that Spotify's algorithm assigns higher popularity to more recent tracks. Consequently, the popularity of explicit lyrics, which are more prominent in recent years, may be overestimated. Calculate the mean and standard deviation of the popularity for explicit and non-explicit lyrics: \n",
    "    - Across all years. (0.2 P)\n",
    "    - Since 1980. (0.2 P)\n",
    "    - Since 1990. (0.2 P)\n",
    "    - Since 2000. (0.2 P)\n",
    "    - Since 2010. (0.2 P)\n",
    "\n",
    "3. Create a line plot of `'Popularity'` vs. `'Year'` from 1980 onward, using `'Explicit'` as the hue. (0.5 P)\n",
    "\n",
    "</div>\n",
    "<div style=\"width: 48%; line-height: 1.5;<div style=\"width: 48%; line-height: 1.5;color: grey;\">\n",
    "\n",
    "1. Im vorherigen Histogramm haben Sie gesehen, dass explizite Liedtexte ein relativ neues Phänomen sind (zumindest in diesem Datensatz). Dies wäre nicht unbedingt problematisch, wenn die Metrik, die uns interessiert – nämlich 'Popularity' – unabhängig von der Zeit wäre. Überprüfen Sie diese Hypothese, indem Sie ein Liniendiagramm von `'Popularity'` gegen `'Year'` erstellen. (0.5 P)\n",
    "\n",
    "2. Es scheint, dass der Algorithmus von Spotify neueren Tracks eine höhere Popularität zuweist. Daher ist es möglich, dass die Popularität expliziter Liedtexte, die in jüngerer Zeit häufiger vorkommen, überschätzt wird. Berechnen Sie den Mittelwert und die Standardabweichung der Popularität für explizite und nicht explizite Liedtexte: (0.5 P)\n",
    "    - Über alle Jahre hinweg. (0.2 P)\n",
    "    - Ab dem Jahr 1980. (0.2 P)\n",
    "    - Ab dem Jahr 1990. (0.2 P)\n",
    "    - Ab dem Jahr 2000. (0.2 P)\n",
    "    - Ab dem Jahr 2010. (0.2 P)\n",
    "\n",
    "3. Erstellen Sie ein Liniendiagramm von `'Popularity'` gegen `'Year'` ab 1980 und verwenden Sie `'Explicit'` als Farbkodierung (hue). (0.5 P)\n",
    "   \n",
    "</div>\n",
    "</div>"
   ]
  },
  {
   "cell_type": "code",
   "execution_count": null,
   "metadata": {},
   "outputs": [],
   "source": [
    "# are explicit lyrics more popular?\n",
    "\n",
    "sns.lineplot(x=df['Year'], y=df['Popularity'], errorbar='sd') \n",
    "\n",
    "plt.show()"
   ]
  },
  {
   "cell_type": "code",
   "execution_count": null,
   "metadata": {},
   "outputs": [],
   "source": [
    "df.groupby(\"Explicit\").agg({\"Popularity\": [\"mean\", \"std\"]}).round(1)"
   ]
  },
  {
   "cell_type": "code",
   "execution_count": null,
   "metadata": {},
   "outputs": [],
   "source": [
    "df[df['Year']>=1980].groupby(\"Explicit\").agg({\"Popularity\": [\"mean\", \"std\"]}).round(1)"
   ]
  },
  {
   "cell_type": "code",
   "execution_count": null,
   "metadata": {},
   "outputs": [],
   "source": [
    "df[df['Year']>=1990].groupby(\"Explicit\").agg({\"Popularity\": [\"mean\", \"std\"]}).round(1)"
   ]
  },
  {
   "cell_type": "code",
   "execution_count": null,
   "metadata": {},
   "outputs": [],
   "source": [
    "df[df['Year']>=2000].groupby(\"Explicit\").agg({\"Popularity\": [\"mean\", \"std\"]}).round(1)"
   ]
  },
  {
   "cell_type": "code",
   "execution_count": null,
   "metadata": {},
   "outputs": [],
   "source": [
    "df[df['Year']>=2010].groupby(\"Explicit\").agg({\"Popularity\": [\"mean\", \"std\"]}).round(1)"
   ]
  },
  {
   "cell_type": "code",
   "execution_count": null,
   "metadata": {},
   "outputs": [],
   "source": [
    "# are explicit lyrics more popular?\n",
    "\n",
    "sns.lineplot(x=df[df['Year']>=1980]['Year'], y=df[df['Year']>=1980]['Popularity'], errorbar='ci', hue=df['Explicit']) \n",
    "\n",
    "plt.show()"
   ]
  },
  {
   "cell_type": "markdown",
   "metadata": {},
   "source": [
    "---\n",
    "---\n",
    "\n",
    "# Feedback from instructor"
   ]
  },
  {
   "cell_type": "code",
   "execution_count": null,
   "metadata": {},
   "outputs": [],
   "source": [
    "# Adjust task points and feedback\n",
    "tasks = [\n",
    "    {\"task\": 1, \"points\": 1, \"feedback\": \"\"},\n",
    "    {\"task\": 2, \"points\": 1, \"feedback\": \"\"},\n",
    "    {\"task\": 3, \"points\": 2, \"feedback\": \"\"},\n",
    "    {\"task\": 4, \"points\": 1, \"feedback\": \"\"},\n",
    "    {\"task\": 5, \"points\": 2, \"feedback\": \"\"},\n",
    "    {\"task\": 6, \"points\": 2, \"feedback\": \"\"},\n",
    "    {\"task\": 7, \"points\": 1, \"feedback\": \"\"},\n",
    "    {\"task\": 8, \"points\": 3, \"feedback\": \"\"},\n",
    "    {\"task\": 9, \"points\": 1, \"feedback\": \"\"},\n",
    "    {\"task\": 10, \"points\": 2, \"feedback\": \"\"},\n",
    "]\n",
    "\n",
    "# Print task details\n",
    "for task in tasks:\n",
    "    print(f\"Task {task['task']:>2} | Points: {task['points']:<2} | {task['feedback']}\\n\")\n",
    "\n",
    "# Calculate and print total points\n",
    "total_points = sum(task['points'] for task in tasks)\n",
    "print(f\"Total Points: {total_points}\")"
   ]
  }
 ],
 "metadata": {
  "kernelspec": {
   "display_name": "Python 3",
   "language": "python",
   "name": "python3"
  },
  "language_info": {
   "codemirror_mode": {
    "name": "ipython",
    "version": 3
   },
   "file_extension": ".py",
   "mimetype": "text/x-python",
   "name": "python",
   "nbconvert_exporter": "python",
   "pygments_lexer": "ipython3",
   "version": "3.11.10"
  }
 },
 "nbformat": 4,
 "nbformat_minor": 2
}
