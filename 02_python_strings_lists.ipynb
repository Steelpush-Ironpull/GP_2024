{
 "cells": [
  {
   "cell_type": "code",
   "execution_count": 108,
   "metadata": {},
   "outputs": [
    {
     "data": {
      "text/html": [
       "<style>\n",
       "    body {\n",
       "        --vscode-font-family: \"CMU Sans Serif\"\n",
       "    }\n",
       "</style>\n"
      ],
      "text/plain": [
       "<IPython.core.display.HTML object>"
      ]
     },
     "metadata": {},
     "output_type": "display_data"
    }
   ],
   "source": [
    "%%HTML\n",
    "<style>\n",
    "    body {\n",
    "        --vscode-font-family: \"CMU Sans Serif\"\n",
    "    }\n",
    "</style>"
   ]
  },
  {
   "cell_type": "code",
   "execution_count": 3,
   "metadata": {},
   "outputs": [],
   "source": [
    "plt.rcParams.update({\n",
    "    \"text.usetex\": True,\n",
    "    \"font.family\": \"sans-serif\",\n",
    "    \"font.sans-serif\": [\"Computer Modern Sans Serif\"]})\n",
    "plt.rcParams['text.latex.preamble'] = r'\\usepackage{sansmath} \\sansmath'"
   ]
  },
  {
   "cell_type": "code",
   "execution_count": 1,
   "metadata": {},
   "outputs": [],
   "source": [
    "from IPython.display import display, clear_output, HTML\n",
    "import time\n",
    "\n",
    "def countdown_timer(minutes):\n",
    "    total_seconds = minutes * 60\n",
    "    for seconds in range(total_seconds, 0, -1):\n",
    "        mins, secs = divmod(seconds, 60)\n",
    "        time_str = f\"{mins:02}'{secs:02}''\"\n",
    "        clear_output(wait=True)\n",
    "        # HTML with styling\n",
    "        display(HTML(f'<div style=\"font-size: 24px; color: blue; font-weight: bold;\">Time remaining: {time_str}</div>'))\n",
    "        time.sleep(1)\n",
    "    clear_output(wait=True)\n",
    "    # Final message with different styling\n",
    "    display(HTML('<div style=\"font-size: 24px; color: green; font-weight: bold;\">Time\\'s up!</div>'))"
   ]
  },
  {
   "cell_type": "markdown",
   "metadata": {},
   "source": [
    "<div style=\"text-align: center;\">\n",
    "    <img src=\"https://upload.wikimedia.org/wikipedia/commons/thumb/f/f8/Python_logo_and_wordmark.svg/972px-Python_logo_and_wordmark.svg.png?20210516005643\" alt=\"The Python logo\" style=\"width: 60%; max-width: 500px;\">\n",
    "</div>"
   ]
  },
  {
   "cell_type": "markdown",
   "metadata": {},
   "source": [
    "<div class=\"alert alert-block alert-info\">\n",
    "\n",
    "<div style=\"display: flex; justify-content: space-between;\">\n",
    "<div style=\"width: 48%; line-height: 1.5;\">\n",
    "\n",
    "### A Clarification\n",
    "\n",
    "Last time, some of you asked why we need VS Code—can’t we just open Jupyter notebooks independently? Yes, you can launch Jupyter notebooks from the command line, which opens them in a browser window. While this works fine, it often results in multiple open tabs mixed with your regular browsing.\n",
    "Moreover, the kernel started from the command line will die when you close your laptop.\n",
    "\n",
    "Let's make this analogy:\n",
    "\n",
    "- **VS Code** is like Microsoft Word: It provides a workspace with tools, plugins, and customization options to help organize and edit various files.\n",
    "\n",
    "- **Jupyter notebooks** are like .doc files: They’re individual, interactive documents that you can open within VS Code, edit directly, and even view independently.\n",
    "\n",
    "Using VS Code with Jupyter notebooks together is like using Microsoft Word to manage and edit multiple .doc files at once, along with other related documents, all in one workspace.\n",
    "\n",
    "</div>\n",
    "<div style=\"width: 48%; line-height: 1.3;color: grey;\">\n",
    "\n",
    "### Eine Klarstellung\n",
    "\n",
    "Letztes Mal haben einige von Ihnen gefragt, warum wir VS Code benötigen—können wir Jupyter-Notebooks nicht einfach unabhängig öffnen? Ja, Sie können Jupyter von der Befehlszeile aus starten, wodurch sie in einem Browserfenster geöffnet werden. Das funktioniert zwar gut, führt aber oft dazu, dass sich mehrere offene Tabs mit dem normalen Browsing vermischen.\n",
    "Außerdem wird der über die Befehlszeile gestartete Kernel beendet, wenn Sie Ihren Laptop schließen.\n",
    "\n",
    "Lassen Sie uns diese Analogie machen:\n",
    "\n",
    "- **VS Code** ist wie Microsoft Word: Es bietet einen Arbeitsbereich mit Werkzeugen, Plugins und Anpassungsoptionen, die bei der Organisation und Bearbeitung verschiedener Dateien helfen.\n",
    "\n",
    "- **Jupyter-Notebook** sind wie .doc-Dateien: Sie sind individuelle, interaktive Dokumente, die Sie in VS Code öffnen, direkt bearbeiten und sogar unabhängig davon anzeigen können.\n",
    "\n",
    "Die Verwendung von VS Code zusammen mit Jupyter-Notizbüchern ist vergleichbar mit der Verwendung von Microsoft Word, um mehrere .doc-Dateien gleichzeitig zu verwalten und zu bearbeiten, zusammen mit anderen verwandten Dokumenten, alles in einem Arbeitsbereich.\n",
    "\n",
    "</div>\n",
    "</div>"
   ]
  },
  {
   "cell_type": "markdown",
   "metadata": {},
   "source": [
    "<div style=\"display: flex; justify-content: space-between;\">\n",
    "<div style=\"width: 48%; line-height: 1.5; margin-right: 20px;\">\n",
    "\n",
    "# Recap and Progress\n",
    "\n",
    "The goal is to \n",
    "\n",
    "- analyze, \n",
    "\n",
    "- perform mathematical operations, \n",
    "\n",
    "- and plot \n",
    "\n",
    "the data you collect in the lab using Python. \n",
    "\n",
    "Why? Because data analysis with Python is both mathematically robust and efficient. \n",
    "\n",
    "Once you establish your workflow, you can reuse your code repeatedly, eliminating the need to redo everything manually each time.\n",
    "\n",
    "</div>\n",
    "<div style=\"width: 4%;\">\n",
    "</div>\n",
    "<div style=\"width: 48%; line-height: 1.5; color: grey;\">\n",
    "\n",
    "# Rückblick und Fortschritte\n",
    "\n",
    "Das Ziel ist es\n",
    "\n",
    "- zu analysieren,\n",
    "\n",
    "- mathematische Operationen durchzuführen,\n",
    "\n",
    "- und zeichnen\n",
    "\n",
    "die im Labor gesammelten Daten mit Python aufzeichnen.\n",
    "\n",
    "Und warum? Weil die Datenanalyse mit Python sowohl mathematisch robust als auch effizient ist.\n",
    "\n",
    "Wenn Sie Ihren Arbeitsablauf einmal festgelegt haben, können Sie Ihren Code immer wieder verwenden, sodass Sie nicht jedes Mal alles von Hand neu machen müssen.\n",
    "\n",
    "</div>\n",
    "</div>"
   ]
  },
  {
   "cell_type": "code",
   "execution_count": 139,
   "metadata": {},
   "outputs": [
    {
     "data": {
      "image/png": "[encoded data removed]",
      "text/plain": [
       "<Figure size 1000x75 with 2 Axes>"
      ]
     },
     "metadata": {},
     "output_type": "display_data"
    }
   ],
   "source": [
    "\n",
    "# You are not supposed to understand this code, yet. It is here for your convenience/curiosity.\n",
    "\n",
    "import matplotlib.pyplot as plt\n",
    "import numpy as np\n",
    "from matplotlib.patches import Rectangle\n",
    "\n",
    "# Topics and x-axis values\n",
    "topics = [\"interface\", \"\", \"\", \"\", \"Python basics\", \"\", \"\", \"\", \"data manipulation\", \"\", \"\", \"visualization\", \"\", \"practice\"]\n",
    "x_values = np.arange(1, 15)\n",
    "\n",
    "# Create figure and axis objects with adjusted y-axis height\n",
    "fig, ax1 = plt.subplots(figsize=(10, 0.75))  # Slightly more vertical space\n",
    "ax1.set(xlim=(0, 14), xticks=x_values - 0.5, xlabel='Course Progression')\n",
    "ax1.set_xticks(x_values - 0.5)  # Align grid lines with x_values\n",
    "ax1.set_xticklabels(x_values, ha='center')\n",
    "ax1.yaxis.set_visible(False)\n",
    "\n",
    "# Secondary axis for labels without ticks\n",
    "ax2 = ax1.twiny()\n",
    "ax2.set(xlim=ax1.get_xlim(), xticks=x_values - 0.5)\n",
    "ax2.set_xticklabels(topics, ha='center')\n",
    "ax2.tick_params(axis='x', length=0)\n",
    "\n",
    "# Add rectangles for progress\n",
    "progress_info = [(0, \"orange\", 1), (1, \"dodgerblue\", 1), (2, \"dodgerblue\", 0.75)]\n",
    "for x, color, alpha in progress_info:\n",
    "    ax1.add_patch(Rectangle((x, 0), 1, 1, facecolor=color, alpha=alpha, edgecolor=\"gainsboro\", linewidth=0.5))\n",
    "\n",
    "# Add text annotations\n",
    "annotations = [\n",
    "    (0.5, \"Jupyter\\n\\nLaTeX\"),\n",
    "    (1.5, \"math\\n\\n(SymPy)\"),\n",
    "    (2.5, \"strings\\n\\nlists\")\n",
    "]\n",
    "for x, label, *color in annotations:\n",
    "    ax1.text(x, 0.5, label, ha='center', va='center', fontsize=9, color=color[0] if color else 'black')\n",
    "\n",
    "plt.show()"
   ]
  },
  {
   "cell_type": "markdown",
   "metadata": {},
   "source": [
    "<div class=\"alert alert-block alert-light\">\n",
    "\n",
    "<div style=\"display: flex; justify-content: space-between;\">\n",
    "<div style=\"width: 48%; line-height: 1.5;\">\n",
    "\n",
    "## Warm-up\n",
    "\n",
    "How many times must a sheet of paper with  thickness, $t = 0.1~\\mathrm{mm}$ be folded to reach the moon (distance from Earth, $d = 384400~\\mathrm{km}$)?\n",
    "\n",
    "- Write your solution first in a Markdown cell using $\\LaTeX$;\n",
    "\n",
    "- Assign variables to each quantity of interest and carry out the calculation.\n",
    "\n",
    "</div>\n",
    "<div style=\"width: 48%; line-height: 1.5;color: grey;\">\n",
    "\n",
    "## Aufwärmen\n",
    "\n",
    "Wie oft muss ein Blatt Papier mit der Dicke $t = 0.1~\\mathrm{mm}$ gefaltet werden, um den Mond zu erreichen (Entfernung von der Erde, $d = 384400~\\mathrm{km}$)?\n",
    "\n",
    "- Schreiben Sie Ihre Lösung zunächst in eine Markdown-Zelle mit $\\LaTeX$;\n",
    "\n",
    "- Weisen Sie jeder Menge von Interesse Variablen zu und führen Sie die Berechnung durch.\n",
    "\n",
    "</div>\n",
    "</div>"
   ]
  },
  {
   "cell_type": "markdown",
   "metadata": {},
   "source": [
    "|   Description                   |  Beschreibung                      |      Syntax                        |     Rendering                        |\n",
    "|------------------------------------------|------------------------------------------|--------------------------------------------|------------------------------------|\n",
    "| Superscript                              | Hochstellung                             | `$x^n, x^{nmk}$`                                | $ x^n, x^{nmk} $                            |\n",
    "| Subscript                                | Tiefstellung                             | `$x_i, x_{ijk}$`                                 | $ x_i, x_{ijk} $                            |\n",
    "| Superscript + Subscript          | Hochstellung + Tiefstellung                      | `$x_i^n$`                                 | $ x_i^n $                            |\n",
    "| Fractions                                | Brüche                                   | `$\\frac{a}{b}$`                              | $ \\frac{a}{b} $                    |\n",
    "| Square Root                              | Quadratwurzel                            | `$\\sqrt{x}, \\sqrt[n]{x}$`                  | $ \\sqrt{x}, \\sqrt[n]{x} $          |\n",
    "| Plus-Minus Sign                          | Plus-Minus-Zeichen                       | `$\\pm$`                                      | $ \\pm $                            |\n",
    "| Multiplication Dot                       | Multiplikationspunkt                     | `$\\cdot$`                                    | $ \\cdot $                          |\n",
    "| Logarithms and Exponentials              | Logarithmen und Exponentialfunktionen     | `$\\log, \\ln, \\exp$`                            | $ \\log, \\ln, \\exp $                |\n",
    "| Auto-sized Parentheses                   | Automatische Klammergrößen               | `$\\left( \\frac{a}{b} \\right)$`               | $ \\left( \\frac{a}{b} \\right) $     |\n",
    "| Auto-sized Brackets                      | Automatische eckige Klammern             | `$\\left[ \\frac{a}{b} \\right]$`               | $ \\left[ \\frac{a}{b} \\right] $     |\n",
    "| Auto-sized Curly Braces                  | Automatische geschweifte Klammern        | `$\\left\\{ \\frac{a}{b} \\right\\}$`             | $ \\left\\{ \\frac{a}{b} \\right\\} $   |\n",
    "| Equality, Less Than, Greater Than        | Gleichheit, kleiner als, größer als      | `$=, <, >$`                                  | $ =, <, > $                        |\n",
    "| Not Equal                                | Ungleich                                 | `$\\neq$`                                     | $ \\neq $                           |\n",
    "| Greater/Less Than or Equal To | Größer gleich, kleiner gleich          | `$\\geq, \\leq$`                               | $ \\geq, \\leq $                     |\n",
    "| Approximation                            | Annäherung                               | `$\\approx$`                                  | $ \\approx $                        |"
   ]
  },
  {
   "cell_type": "code",
   "execution_count": 75,
   "metadata": {},
   "outputs": [
    {
     "ename": "NameError",
     "evalue": "name 'countdown_timer' is not defined",
     "output_type": "error",
     "traceback": [
      "\u001b[0;31m---------------------------------------------------------------------------\u001b[0m",
      "\u001b[0;31mNameError\u001b[0m                                 Traceback (most recent call last)",
      "Cell \u001b[0;32mIn[75], line 2\u001b[0m\n\u001b[1;32m      1\u001b[0m \u001b[38;5;66;03m#countdown\u001b[39;00m\n\u001b[0;32m----> 2\u001b[0m \u001b[43mcountdown_timer\u001b[49m(\u001b[38;5;241m10\u001b[39m)\n",
      "\u001b[0;31mNameError\u001b[0m: name 'countdown_timer' is not defined"
     ]
    }
   ],
   "source": [
    "#countdown\n",
    "countdown_timer(10)"
   ]
  },
  {
   "cell_type": "markdown",
   "metadata": {},
   "source": [
    "<details>\n",
    "  <summary>Click to reveal the solution</summary>\n",
    "\n",
    "<div style=\"display: flex; justify-content: space-between;\">\n",
    "<div style=\"width: 48%; line-height: 1.5;\">\n",
    "\n",
    "Each time we fold the paper, we double its thickness. Therefore, if we fold the paper $n$ times, its thickness becomes $t \\cdot 2^n$. \n",
    "Setting $t \\cdot 2^n \\geq d$ gives us $n = \\log_2\\left(\\frac{d}{t}\\right)$.\n",
    "\n",
    "</div>\n",
    "\n",
    "<div style=\"width: 4%;\">\n",
    "</div>\n",
    "\n",
    "<div style=\"width: 48%; line-height: 1.5;color: grey;\">\n",
    "\n",
    "Jedes Mal, wenn wir das Papier falten, verdoppeln wir seine Dicke. Wenn wir also das Papier $n$ mal falten, wird es $t \\cdot 2^n$ dick.\n",
    "Setzt man $t \\cdot 2^n \\geq d$, so erhält man $n = \\log_2\\left(\\frac{d}{t}\\right)$.\n",
    "\n",
    "</div>\n",
    "</details>"
   ]
  },
  {
   "cell_type": "markdown",
   "metadata": {},
   "source": [
    "<div class=\"alert alert-block alert-warning\">\n",
    "\n",
    "<div style=\"display: flex; justify-content: space-between;\">\n",
    "<div style=\"width: 48%; line-height: 1.5;\">\n",
    "\n",
    "# Strings \n",
    "</div>\n",
    "<div style=\"width: 48%; line-height: 1.3;color: grey;\">\n",
    "\n",
    "# Strings (Text)\n",
    "</div>\n",
    "</div>"
   ]
  },
  {
   "cell_type": "markdown",
   "metadata": {},
   "source": [
    "<div style=\"display: flex; justify-content: space-between;\">\n",
    "<div style=\"width: 48%; line-height: 1.5;\">\n",
    "\n",
    "Last time, we explored various number types: `int`, `float`, `complex`, and `bool` (a unique type of...?). We also introduced the `math` `module`. Today, we’ll dive into working with strings, or `str`.\n",
    "\n",
    "</div>\n",
    "<div style=\"width: 48%; line-height: 1.5;color: grey;\">\n",
    "\n",
    "Letztes Mal haben wir verschiedene Zahlentypen erkundet: `int`, `float`, `complex`, und `bool` (ein einzigartiger Typ von...?). Wir haben auch das `math`-Modul vorgestellt. Heute tauchen wir in die Arbeit mit Zeichenketten, oder `str`, ein.\n",
    "\n",
    "</div>\n",
    "</div>"
   ]
  },
  {
   "cell_type": "markdown",
   "metadata": {},
   "source": [
    "| Data Type      |  Example         |    |\n",
    "|---------------|--------------------------|----|\n",
    "| `int`         | `5`                |&check;|\n",
    "| `float`       | `5.0`              |&check;|\n",
    "| `complex`     | `5 + 3j`           |&check;|\n",
    "| `bool`        | `True`             |&check;|\n",
    "| `module`      | `math`             |&check;|\n",
    "| `str`         | `\"hello\"`          |    |\n",
    "| `list`        | `[1, 2, 3]`        |    |\n",
    "| `tuple`       | `(1, 2, 3)`        |    |\n",
    "| `set`         | `{1, 2, 3}`        |    |\n",
    "| `dict`        | `{\"key\": \"value\"}` |    |\n",
    "| `range`       | `range(5)`         |    |\n",
    "| `function`    | `factorial`        |    |\n",
    "| `numpy.ndarray` | `np.array([1, 2, 3])` |\n",
    "| `NoneType`    | `None`             |    |"
   ]
  },
  {
   "cell_type": "markdown",
   "metadata": {},
   "source": [
    "<div style=\"display: flex; justify-content: space-between;\">\n",
    "<div style=\"width: 48%; line-height: 1.5;\">\n",
    "\n",
    "The `string` data type is a collection of characters (like alphabet letters, punctuation, numerical digits, or symbols) contained in quotation marks. \n",
    "\n",
    "Strings are commonly used to represent text. \n",
    "\n",
    "</div>\n",
    "<div style=\"width: 48%; line-height: 1.5;color: grey;\">\n",
    "\n",
    "Der Datentyp `string` ist eine Sammlung von Zeichen (z. B. Buchstaben des Alphabets, Interpunktionszeichen, Ziffern oder Symbole), die in Anführungszeichen stehen. \n",
    "\n",
    "Strings werden in der Regel zur Darstellung von Text verwendet. \n",
    "\n",
    "</div>\n",
    "</div>"
   ]
  },
  {
   "cell_type": "markdown",
   "metadata": {},
   "source": [
    "<div style=\"display: flex; justify-content: space-between;\">\n",
    "<div style=\"width: 48%; line-height: 1.5;\">\n",
    "\n",
    "#### Why do we need strings?\n",
    "\n",
    "1. Reading and writing data files: Strings are essential for specifying file paths, formats, and content when handling data.\n",
    "\n",
    "2. Manipulating textual data: Text often needs to be analyzed or cleaned in datasets. Inconsistent inputs (e.g., varying spaces, upper/lower case) are common, and string processing ensures consistency.\n",
    "\n",
    "3. **Labeling plots and figures**: Strings are used for axis labels, titles, and legends.\n",
    "\n",
    "4. **Printing summaries**: Strings help generate readable summaries of results.\n",
    "\n",
    "5. Last but not least: **to get familiar with basic data structures**.\n",
    "\n",
    "</div>\n",
    "<div style=\"width: 48%; line-height: 1.3;color: grey;\">\n",
    "\n",
    "#### Warum brauchen wir Strings?\n",
    "\n",
    "1. Lesen und Schreiben von Datendateien: Zeichenketten sind für die Angabe von Dateipfaden, -formaten und -inhalten beim Umgang mit Daten unerlässlich.\n",
    "\n",
    "2. Manipulation von Textdaten: Text muss in Datensätzen oft analysiert oder bereinigt werden. Inkonsistente Eingaben (z. B. unterschiedliche Leerzeichen, Groß-/Kleinschreibung) sind häufig, und die Verarbeitung von Strings gewährleistet die Konsistenz.\n",
    "\n",
    "3. **Beschriftung von Diagrammen und Abbildungen**: Strings werden für Achsenbeschriftungen, Titel und Legenden verwendet.\n",
    "\n",
    "4. **Zusammenfassungen drucken**: Mit Hilfe von Strings lassen sich lesbare Zusammenfassungen der Ergebnisse erstellen.\n",
    "\n",
    "5. Zu guter Letzt: **um sich mit grundlegenden Datenstrukturen vertraut zu machen**.\n",
    "\n",
    "</div>\n",
    "</div>"
   ]
  },
  {
   "cell_type": "code",
   "execution_count": 120,
   "metadata": {},
   "outputs": [
    {
     "data": {
      "image/png": "[encoded data removed]",
      "text/plain": [
       "<Figure size 450x450 with 1 Axes>"
      ]
     },
     "metadata": {},
     "output_type": "display_data"
    },
    {
     "name": "stdout",
     "output_type": "stream",
     "text": [
      "Parameter    Value   \n",
      "--------------------\n",
      "    a        3.17   \n",
      "    b        1.25   \n",
      "    c       -0.49   \n",
      "--------------------\n",
      "    R²      0.9904  \n"
     ]
    }
   ],
   "source": [
    "\n",
    "# You are not supposed to understand this code, yet. It is here for your convenience/curiosity.\n",
    "\n",
    "import numpy as np\n",
    "import seaborn as sns\n",
    "import matplotlib.pyplot as plt\n",
    "from scipy.optimize import curve_fit\n",
    "from sklearn.metrics import r2_score\n",
    "\n",
    "# Generate example data\n",
    "x_data = np.linspace(0, 10, 50)\n",
    "y_data = 3 * x_data**2 + 2 * x_data + 1 + np.random.normal(0, 10, size=x_data.shape)\n",
    "\n",
    "# Define quadratic function and fit\n",
    "def quadratic(x, a, b, c): return a * x**2 + b * x + c\n",
    "params, _ = curve_fit(quadratic, x_data, y_data)\n",
    "y_fit = quadratic(x_data, *params)\n",
    "r_squared = r2_score(y_data, y_fit)\n",
    "\n",
    "# Extract fitted parameters\n",
    "a, b, c = params\n",
    "\n",
    "# Plot using Seaborn with formatted label for the fitted curve\n",
    "plt.figure(figsize=(4.5, 4.5))\n",
    "sns.scatterplot(x=x_data, y=y_data, color='blue', label='Data')\n",
    "sns.lineplot(x=x_data, y=y_fit, color='red',\n",
    "             label=rf'Fitted Curve: $\\mathrm{{y = {a: .2f}x^2 + {b: .2f}x + {c: .2f}}}$')\n",
    "plt.xlabel(r'Time (s)'), plt.ylabel(r'Displacement (m)')\n",
    "plt.legend(fontsize=9), plt.grid(True), plt.show()\n",
    "\n",
    "# Print results in a formatted table\n",
    "print(f\"{'Parameter':^10} {'Value':^10}\\n{'-'*20}\")\n",
    "print(f\"{'a':^10}{a:^10.2f}\")\n",
    "print(f\"{'b':^10}{b:^10.2f}\")\n",
    "print(f\"{'c':^10}{c:^10.2f}\")\n",
    "print(f\"{'-'*20}\")\n",
    "print(f\"{'R²':^10}{r_squared:^10.4f}\")"
   ]
  },
  {
   "cell_type": "markdown",
   "metadata": {},
   "source": [
    "<div style=\"display: flex; justify-content: space-between;\">\n",
    "<div style=\"width: 48%; line-height: 1.5;\">\n",
    "\n",
    "## Creating strings \n",
    "\n",
    "To create a string, enclose the text in either single or double quotes: \n",
    "</div>\n",
    "<div style=\"width: 48%; line-height: 1.5;color: grey;\">\n",
    "\n",
    "## Zeichenketten erstellen\n",
    "\n",
    "Um eine Zeichenkette zu erstellen, schließen Sie den Text entweder in einfache oder doppelte Anführungszeichen ein:\n",
    "</div>\n",
    "</div>"
   ]
  },
  {
   "cell_type": "code",
   "execution_count": null,
   "metadata": {
    "ExecuteTime": {
     "end_time": "2024-10-12T15:29:56.436052Z",
     "start_time": "2024-10-12T15:29:56.425419Z"
    }
   },
   "outputs": [],
   "source": [
    "#Using strings in Python - single line text\n",
    "\n",
    "#Text can be enclosed in single quotes\n",
    "print('Hello, World!')\n",
    "\n",
    "#or double quotes\n",
    "print(\"Hello, World!\")"
   ]
  },
  {
   "cell_type": "markdown",
   "metadata": {},
   "source": [
    "<div style=\"display: flex; justify-content: space-between;\">\n",
    "<div style=\"width: 48%; line-height: 1.5;\">\n",
    "\n",
    "What happens if your string contains quotation marks? Simply use the other type of quotes to enclose the string:\n",
    "\n",
    "</div>\n",
    "<div style=\"width: 48%; line-height: 1.5;color: grey;\">\n",
    "\n",
    "Was passiert, wenn Ihre Zeichenkette Anführungszeichen enthält? Verwenden Sie einfach die andere Art von Anführungszeichen, um die Zeichenkette einzuschließen:\n",
    "</div>\n",
    "</div>"
   ]
  },
  {
   "cell_type": "code",
   "execution_count": 37,
   "metadata": {},
   "outputs": [
    {
     "name": "stdout",
     "output_type": "stream",
     "text": [
      "That's all, folks!\n"
     ]
    }
   ],
   "source": [
    "# Use double quotes to avoid confusion with the apostrophe\n",
    "\n",
    "print(\"That's all, folks!\")"
   ]
  },
  {
   "cell_type": "code",
   "execution_count": 38,
   "metadata": {},
   "outputs": [
    {
     "name": "stdout",
     "output_type": "stream",
     "text": [
      "Quoth the Raven \"Nevermore.\"\n"
     ]
    }
   ],
   "source": [
    "# Use single quotes to avoid confusion with quotation marks\n",
    "\n",
    "print('Quoth the Raven \"Nevermore.\"')"
   ]
  },
  {
   "cell_type": "markdown",
   "metadata": {},
   "source": [
    "<div style=\"display: flex; justify-content: space-between;\">\n",
    "<div style=\"width: 48%; line-height: 1.5;\">\n",
    " Strings can be assigned to variables, as with numbers: \n",
    "</div>\n",
    "<div style=\"width: 48%; line-height: 1.5;color: grey;\">\n",
    "Strings können, wie auch Zahlen, Variablen zugeordnet werden: \n",
    "</div>\n",
    "</div>"
   ]
  },
  {
   "cell_type": "code",
   "execution_count": 2,
   "metadata": {
    "ExecuteTime": {
     "end_time": "2024-10-12T15:09:40.792009Z",
     "start_time": "2024-10-12T15:09:40.782059Z"
    }
   },
   "outputs": [
    {
     "name": "stdout",
     "output_type": "stream",
     "text": [
      "chocolate\n",
      "<class 'str'>\n"
     ]
    }
   ],
   "source": [
    "favorite_food = 'chocolate'\n",
    "\n",
    "print(favorite_food)\n",
    "print(type(favorite_food))"
   ]
  },
  {
   "cell_type": "markdown",
   "metadata": {},
   "source": [
    "<div style=\"display: flex; justify-content: space-between;\">\n",
    "<div style=\"width: 48%; line-height: 1.5;\">\n",
    "\n",
    " You can get the length of a string with `len()`. \n",
    " \n",
    " `Hello, World!` has length 13, because it has 13 characters, including the space, comma, and exclamation mark. \n",
    " \n",
    " Note that the quotation marks are not included when calculating the length. \n",
    "</div>\n",
    "<div style=\"width: 48%; line-height: 1.5;color: grey;\">\n",
    "\n",
    "Sie können die Länge einer Zeichenkette mit `len()` ermitteln. \n",
    "\n",
    "`Hello, World!` hat die Länge 13, weil sie 13 Zeichen hat, einschließlich Leerzeichen, Komma und Ausrufezeichen. \n",
    "\n",
    "Die Anführungszeichen werden bei der Berechnung der Länge nicht mitgezählt.\n",
    "</div>\n",
    "</div>"
   ]
  },
  {
   "cell_type": "code",
   "execution_count": null,
   "metadata": {
    "ExecuteTime": {
     "end_time": "2024-10-12T15:31:21.428830Z",
     "start_time": "2024-10-12T15:31:21.414214Z"
    }
   },
   "outputs": [],
   "source": [
    "len('Hello, World!')"
   ]
  },
  {
   "cell_type": "markdown",
   "metadata": {},
   "source": [
    "<div style=\"display: flex; justify-content: space-between;\">\n",
    "<div style=\"width: 48%; line-height: 1.5;\">\n",
    " If you put a number in quotation marks, it has a string data type:\n",
    "</div>\n",
    "<div style=\"width: 48%; line-height: 1.3;color: grey;\">\n",
    "Wenn Sie eine Zahl in Anführungszeichen setzen, hat sie einen String-Datentyp:\n",
    "</div>\n",
    "</div>"
   ]
  },
  {
   "cell_type": "code",
   "execution_count": 6,
   "metadata": {
    "ExecuteTime": {
     "end_time": "2024-10-12T15:10:04.416462Z",
     "start_time": "2024-10-12T15:10:04.395737Z"
    }
   },
   "outputs": [
    {
     "data": {
      "text/plain": [
       "float"
      ]
     },
     "execution_count": 6,
     "metadata": {},
     "output_type": "execute_result"
    }
   ],
   "source": [
    "# without quotation marks\n",
    "\n",
    "a = 1.1231\n",
    "\n",
    "type(a)"
   ]
  },
  {
   "cell_type": "code",
   "execution_count": 7,
   "metadata": {
    "ExecuteTime": {
     "end_time": "2024-10-12T15:10:05.931575Z",
     "start_time": "2024-10-12T15:10:05.912716Z"
    }
   },
   "outputs": [
    {
     "data": {
      "text/plain": [
       "str"
      ]
     },
     "execution_count": 7,
     "metadata": {},
     "output_type": "execute_result"
    }
   ],
   "source": [
    "# with quotation marks\n",
    "\n",
    "a = \"1.1231\"\n",
    "\n",
    "type(a)"
   ]
  },
  {
   "cell_type": "markdown",
   "metadata": {},
   "source": [
    "<div style=\"display: flex; justify-content: space-between;\">\n",
    "<div style=\"width: 48%; line-height: 1.5;\">\n",
    "\n",
    " Just like you can add two numbers, you can also add two strings. \n",
    " \n",
    " It results in a longer string that combines the two original strings by *concatenating* them.\n",
    "\n",
    " Strings can be concatenated using either the `+` operator or by placing them next to each other on the same line:\n",
    "\n",
    "</div>\n",
    "<div style=\"width: 48%; line-height: 1.3;color: grey;\">\n",
    "\n",
    "Genauso wie Sie zwei Zahlen addieren können, können Sie auch zwei Strings addieren. \n",
    "\n",
    "Das Ergebnis ist eine längere Zeichenkette, die die beiden ursprünglichen Strings durch Verkettung kombiniert.\n",
    "\n",
    "Zeichenketten können entweder mit dem Operator `+` oder durch Aneinanderreihen in derselben Zeile verkettet werden:\n",
    "\n",
    "</div>\n",
    "</div>"
   ]
  },
  {
   "cell_type": "code",
   "execution_count": null,
   "metadata": {
    "ExecuteTime": {
     "end_time": "2024-10-12T15:10:21.420445Z",
     "start_time": "2024-10-12T15:10:21.407876Z"
    }
   },
   "outputs": [],
   "source": [
    "\"abc\" + \"def\"   # Strings can be concatenated with the + operator"
   ]
  },
  {
   "cell_type": "code",
   "execution_count": null,
   "metadata": {
    "ExecuteTime": {
     "end_time": "2024-10-12T15:10:24.234361Z",
     "start_time": "2024-10-12T15:10:24.221806Z"
    }
   },
   "outputs": [],
   "source": [
    "\"abc\" \"def\"     # Strings between quotes defined next to each other are automatically concatenated (no + required)"
   ]
  },
  {
   "cell_type": "code",
   "execution_count": null,
   "metadata": {
    "ExecuteTime": {
     "end_time": "2024-10-12T15:10:26.013823Z",
     "start_time": "2024-10-12T15:10:25.997140Z"
    }
   },
   "outputs": [],
   "source": [
    "\"abc\" \"def\" == \"abc\" + \"def\""
   ]
  },
  {
   "cell_type": "markdown",
   "metadata": {},
   "source": [
    "<div style=\"display: flex; justify-content: space-between;\">\n",
    "<div style=\"width: 48%; line-height: 1.5;\">\n",
    "\n",
    " It is not possible to do subtraction or division with two strings. \n",
    "\n",
    " You also cannot multiply two strings, but you can multiply a string by an integer. \n",
    " \n",
    " This again results in a string that is just the original string concatenated with itself a specified number of times.\n",
    "</div>\n",
    "<div style=\"width: 48%; line-height: 1.3;color: grey;\">\n",
    "\n",
    "Es ist nicht möglich, eine Subtraktion oder Division mit zwei Strings durchzuführen. \n",
    "\n",
    "Sie können auch nicht zwei Strings multiplizieren, aber Sie können eine Zeichenkette mit einer ganzen Zahl multiplizieren. \n",
    "\n",
    "Das Ergebnis ist wiederum eine Zeichenkette, die nur aus der ursprünglichen Zeichenkette besteht, die eine bestimmte Anzahl von Malen mit sich selbst verkettet wird.\n",
    "</div>\n",
    "</div>"
   ]
  },
  {
   "cell_type": "code",
   "execution_count": 42,
   "metadata": {},
   "outputs": [
    {
     "data": {
      "text/plain": [
       "'ABC ABC ABC '"
      ]
     },
     "execution_count": 42,
     "metadata": {},
     "output_type": "execute_result"
    }
   ],
   "source": [
    "# In an FCC (face-centered cubic) lattice, layers are stacked in a...\n",
    "\n",
    "\"ABC \"*3     # ...pattern"
   ]
  },
  {
   "cell_type": "markdown",
   "metadata": {},
   "source": [
    "<div class=\"alert alert-block alert-light\">\n",
    "\n",
    "<div style=\"display: flex; justify-content: space-between;\">\n",
    "<div style=\"width: 48%; line-height: 1.5;\">\n",
    "\n",
    "####   Exercise \n",
    "\n",
    "Gertrude Stein's famous line, \"Rose is a rose is a rose is a rose\", comes from her 1913 poem *Sacred Emily*.\n",
    "\n",
    "Recreate this verse using string concatenation and multiplication.\n",
    "\n",
    "</div>\n",
    "\n",
    "<div style=\"width: 4%;\">\n",
    "</div>\n",
    "\n",
    "<div style=\"width: 48%; line-height: 1.5;color: grey;\">\n",
    "\n",
    "####   Übung \n",
    "\n",
    "Gertrude Steins berühmte Zeile \"Rose ist eine Rose ist eine Rose ist eine Rose\" stammt aus ihrem Gedicht *Sacred Emily* von 1913.\n",
    "\n",
    "Stellen Sie diesen Vers mit Hilfe von String-Verkettung und Multiplikation wieder her.\n",
    "\n",
    "</div>\n",
    "</div>"
   ]
  },
  {
   "cell_type": "code",
   "execution_count": null,
   "metadata": {},
   "outputs": [
    {
     "data": {
      "text/plain": [
       "'Rose is a rose is a rose is a rose '"
      ]
     },
     "metadata": {},
     "output_type": "display_data"
    }
   ],
   "source": [
    "\"Rose \" + \"is a rose \" * 3"
   ]
  },
  {
   "cell_type": "markdown",
   "metadata": {},
   "source": [
    "<div class=\"alert alert-block alert-light\">\n",
    "\n",
    "<div style=\"display: flex; justify-content: space-between;\">\n",
    "<div style=\"width: 48%; line-height: 1.5;\">\n",
    "\n",
    "####   Exercise\n",
    "\n",
    "The molecular formula of dodecane is: $\\mathrm{CH_3CH_2CH_2CH_2CH_2CH_2CH_2CH_2CH_2CH_2CH_2CH_3}$.\n",
    "\n",
    "Recreate this formula using string concatenation and multiplication, ignoring the formatting.\n",
    "\n",
    "</div>\n",
    "\n",
    "<div style=\"width: 4%;\">\n",
    "</div>\n",
    "\n",
    "<div style=\"width: 48%; line-height: 1.5;color: grey;\">\n",
    "\n",
    "####   Übung\n",
    "\n",
    "Die Summenformel von Dodekan lautet: $\\mathrm{CH_3CH_2CH_2CH_2CH_2CH_2CH_2CH_2CH_2CH_2CH_2CH_3}$.\n",
    "\n",
    "Erstellen Sie diese Formel mit Hilfe von String-Verkettung und Multiplikation, ohne die Formatierung zu beachten.\n",
    "\n",
    "</div>\n",
    "</div>"
   ]
  },
  {
   "cell_type": "code",
   "execution_count": null,
   "metadata": {},
   "outputs": [],
   "source": [
    "countdown_timer(10)"
   ]
  },
  {
   "cell_type": "markdown",
   "metadata": {},
   "source": [
    "<div style=\"display: flex; justify-content: space-between;\">\n",
    "<div style=\"width: 48%; line-height: 1.5;\">\n",
    "\n",
    "## String formatting \n",
    "\n",
    "In Python, string formatting allows you to dynamically insert values into strings, making it easy to create informative and readable output.\n",
    "\n",
    "This is useful when we want to insert previously defined variables or operation results into text, such as including the result of a fit in a plot label or summary.\n",
    "\n",
    "This is more convenient and reliable than hardcoding numbers into summaries (speaking from experience).\n",
    "\n",
    "`f-strings` (formatted string literals) allow you to directly embed expressions inside string literals, using curly braces `{}`.\n",
    "\n",
    "</div>\n",
    "<div style=\"width: 48%; line-height: 1.5;color: grey;\">\n",
    "\n",
    "## String-Formatierung\n",
    "\n",
    "In Python ermöglicht die String-Formatierung das dynamische Einfügen von Werten in Strings und erleichtert so die Erstellung informativer und lesbarer Ausgaben.\n",
    "\n",
    "Dies ist nützlich, wenn wir zuvor definierte Variablen oder Operationsergebnisse in den Text einfügen wollen, z. B. um das Ergebnis einer Berechnung in eine Beschriftung oder eine Zusammenfassung aufzunehmen.\n",
    "\n",
    "Dies ist bequemer und zuverlässiger als das Festschreiben von Zahlen in Zusammenfassungen (ich spreche aus Erfahrung).\n",
    "\n",
    "`f-strings` (formatierte String-Literale) erlauben es, Ausdrücke direkt in String-Literale einzubetten, indem geschweifte Klammern `{}` verwendet werden.\n",
    "\n",
    "</div>\n",
    "</div>"
   ]
  },
  {
   "cell_type": "code",
   "execution_count": 122,
   "metadata": {},
   "outputs": [
    {
     "name": "stdout",
     "output_type": "stream",
     "text": [
      "Water is composed of 2 parts H and 1 part O.\n"
     ]
    }
   ],
   "source": [
    "element1 = \"H\"\n",
    "element2 = \"O\"\n",
    "ratio = 2\n",
    "\n",
    "print(f\"Water is composed of {ratio} parts {element1} and 1 part {element2}.\")"
   ]
  },
  {
   "cell_type": "markdown",
   "metadata": {},
   "source": [
    "<div style=\"display: flex; justify-content: space-between;\">\n",
    "<div style=\"width: 48%; line-height: 1.5;\">\n",
    "\n",
    "### Formatting numerical data \n",
    "\n",
    "When a number is printed to the screen, Python converts it to a string.\n",
    "The way that numbers are formatted can be controlled using `f-strings`.\n",
    "\n",
    "String formatting is especially useful for controlling the display of complex numerical data.\n",
    "\n",
    "</div>\n",
    "<div style=\"width: 48%; line-height: 1.5;color: grey;\">\n",
    "\n",
    "### Numerischer Daten Formatieren\n",
    "\n",
    "Wenn eine Zahl auf dem Bildschirm ausgegeben wird, wandelt Python sie in eine Zeichenkette um.\n",
    "Die Art und Weise, wie die Zahlen formatiert werden, kann mit `f-strings` gesteuert werden.\n",
    "Die Formatierung von Zeichenketten ist besonders nützlich, um die Anzeige von komplexen numerischen Daten zu steuern.\n",
    "\n",
    "</div>\n",
    "</div>"
   ]
  },
  {
   "cell_type": "markdown",
   "metadata": {},
   "source": [
    "<div style=\"display: flex; justify-content: space-between;\">\n",
    "<div style=\"width: 48%; line-height: 1.5;\">\n",
    "\n",
    "`{:.2f}` rounds the number to 2 decimal places.\n",
    "\n",
    "</div>\n",
    "<div style=\"width: 48%; line-height: 1.3;color: grey;\">\n",
    "\n",
    "`{:.2f}` rundet die Zahl auf 2 Dezimalstellen.\n",
    "\n",
    "</div>\n",
    "</div>"
   ]
  },
  {
   "cell_type": "code",
   "execution_count": null,
   "metadata": {},
   "outputs": [
    {
     "name": "stdout",
     "output_type": "stream",
     "text": [
      "The chemical formula for water is H2O and its molar mass is 18.01528 g/mol.\n"
     ]
    }
   ],
   "source": [
    "# Without rounding\n",
    "\n",
    "compound = \"H2O\"\n",
    "molar_mass = 18.01528\n",
    "units = 'g/mol'\n",
    "\n",
    "print(f\"The chemical formula for water is {compound} and its molar mass is {molar_mass} {units}.\")"
   ]
  },
  {
   "cell_type": "code",
   "execution_count": null,
   "metadata": {},
   "outputs": [
    {
     "name": "stdout",
     "output_type": "stream",
     "text": [
      "The chemical formula for water is H2O and its molar mass is 18.02 g/mol.\n"
     ]
    }
   ],
   "source": [
    "# With rounding\n",
    "\n",
    "compound = \"H2O\"\n",
    "molar_mass = 18.01528\n",
    "units = 'g/mol'\n",
    "\n",
    "print(f\"The chemical formula for water is {compound} and its molar mass is {molar_mass:.2f} {units}.\")"
   ]
  },
  {
   "cell_type": "code",
   "execution_count": null,
   "metadata": {},
   "outputs": [
    {
     "name": "stdout",
     "output_type": "stream",
     "text": [
      "The compound CO2 has a molar mass of 44 g/mol.\n"
     ]
    }
   ],
   "source": [
    "compound = \"CO2\"\n",
    "molar_mass = 44.01\n",
    "units = 'g/mol'\n",
    "\n",
    "print(f\"The compound {compound} has a molar mass of {molar_mass:.0f} {units}.\")"
   ]
  },
  {
   "cell_type": "markdown",
   "metadata": {},
   "source": [
    "<div style=\"display: flex; justify-content: space-between;\">\n",
    "<div style=\"width: 48%; line-height: 1.5;\">\n",
    "\n",
    "It is even possible to carry out calculations within the interpolation braces, and the result is displayed.\n",
    "\n",
    "To keep code clear, it is better not to include complex expressions in an f-string, but it is common to carry out simple unit conversions if necessary:\n",
    "\n",
    "</div>\n",
    "<div style=\"width: 48%; line-height: 1.5;color: grey;\">\n",
    "\n",
    "Es ist sogar möglich, innerhalb der geschweiften Klammern Berechnungen durchzuführen, und das Ergebnis wird angezeigt. \n",
    "\n",
    "Um den Code übersichtlich zu halten, ist es besser, keine komplexen Ausdrücke in eine f-Zeichenkette einzubauen, aber es ist üblich, einfache Einheitenumrechnungen durchzuführen, wenn dies erforderlich ist:\n",
    "\n",
    "</div>\n",
    "</div>"
   ]
  },
  {
   "cell_type": "code",
   "execution_count": null,
   "metadata": {},
   "outputs": [
    {
     "name": "stdout",
     "output_type": "stream",
     "text": [
      "The speed of light is approximately 299792458 m/s = 299792.458 km/s\n"
     ]
    }
   ],
   "source": [
    "c = 299792458\n",
    "units = 'm/s'\n",
    "\n",
    "print(f'The speed of light is approximately {c} {units} = {c/1000:.3f} km/s')"
   ]
  },
  {
   "cell_type": "markdown",
   "metadata": {},
   "source": [
    "<div style=\"display: flex; justify-content: space-between;\">\n",
    "<div style=\"width: 48%; line-height: 1.5;\">\n",
    "\n",
    "`:.2e` formats the number in scientific notation with 2 decimal places.\n",
    "\n",
    "</div>\n",
    "<div style=\"width: 48%; line-height: 1.3;color: grey;\">\n",
    "\n",
    "`:.2e` formatiert die Zahl in wissenschaftlicher Notation mit 2 Nachkommastellen.\n",
    "\n",
    "</div>\n",
    "</div>"
   ]
  },
  {
   "cell_type": "code",
   "execution_count": null,
   "metadata": {},
   "outputs": [
    {
     "name": "stdout",
     "output_type": "stream",
     "text": [
      "Avogadro's constant is 6.02e+23 particles/mol.\n"
     ]
    }
   ],
   "source": [
    "avogadro_constant = 6.02214076e23\n",
    "\n",
    "print(f\"Avogadro's constant is {avogadro_constant:.2e} particles/mol.\")"
   ]
  },
  {
   "cell_type": "code",
   "execution_count": null,
   "metadata": {},
   "outputs": [],
   "source": [
    "avogadro_constant = 6.02214076e23\n",
    "\n",
    "print(f\"Avogadro's constant is {avogadro_constant:.5e} particles/mol.\")"
   ]
  },
  {
   "cell_type": "code",
   "execution_count": null,
   "metadata": {},
   "outputs": [],
   "source": [
    "avogadro_constant = 6.02214076e23\n",
    "\n",
    "print(f\"Avogadro's constant is {avogadro_constant:.0e} particles/mol.\")"
   ]
  },
  {
   "cell_type": "markdown",
   "metadata": {},
   "source": [
    "<div style=\"display: flex; justify-content: space-between;\">\n",
    "<div style=\"width: 48%; line-height: 1.5;\">\n",
    "\n",
    "You can format values as percentages using `:.2%`.\n",
    "\n",
    "</div>\n",
    "<div style=\"width: 48%; line-height: 1.3;color: grey;\">\n",
    "\n",
    "Mit `:.2%` können Sie Werte als Prozentwerte formatieren.\n",
    "\n",
    "</div>\n",
    "</div>"
   ]
  },
  {
   "cell_type": "code",
   "execution_count": null,
   "metadata": {},
   "outputs": [
    {
     "name": "stdout",
     "output_type": "stream",
     "text": [
      "The percentage yield of the reaction is 76%.\n"
     ]
    }
   ],
   "source": [
    "actual_yield = 0.75836\n",
    "\n",
    "print(f\"The percentage yield of the reaction is {actual_yield:.0%}.\")"
   ]
  },
  {
   "cell_type": "markdown",
   "metadata": {},
   "source": [
    "<div style=\"display: flex; justify-content: space-between;\">\n",
    "<div style=\"width: 48%; line-height: 1.5;\">\n",
    "\n",
    "### Aligning Positive and Negative Numbers \n",
    "\n",
    "By default, the sign of a number is only output if it is negative, resulting in a misalignment between positive and negative numbers.\n",
    "\n",
    "</div>\n",
    "<div style=\"width: 48%; line-height: 1.5;color: grey;\">\n",
    "\n",
    "### Ausrichtung positiver und negativer Zahlen \n",
    "\n",
    "Standardmäßig wird das Vorzeichen einer Zahl nur dann ausgegeben, wenn sie negativ ist, was zu einer falschen Zuordnung zwischen positiven und negativen Zahlen führt.\n",
    "\n",
    "</div>\n",
    "</div>"
   ]
  },
  {
   "cell_type": "code",
   "execution_count": 125,
   "metadata": {},
   "outputs": [
    {
     "name": "stdout",
     "output_type": "stream",
     "text": [
      "42\n",
      "-15\n"
     ]
    }
   ],
   "source": [
    "pos = 42\n",
    "neg = -15\n",
    "\n",
    "print(f\"{pos}\")     # does not look good\n",
    "print(f\"{neg}\")     "
   ]
  },
  {
   "cell_type": "markdown",
   "metadata": {},
   "source": [
    "<div style=\"display: flex; justify-content: space-between;\">\n",
    "<div style=\"width: 48%; line-height: 1.5;\">\n",
    "\n",
    "To align positive and negative numbers, use the `+` or ` ` (space) flag. This ensures positive numbers either display with a `+` sign or an extra space:\n",
    "\n",
    "</div>\n",
    "<div style=\"width: 48%; line-height: 1.5;color: grey;\">\n",
    "\n",
    "Um positive und negative Zahlen aneinander anzugleichen, verwenden Sie das Flag `+` oder ` ` (Leerzeichen). Dadurch wird sichergestellt, dass positive Zahlen entweder mit einem `+`-Zeichen oder einem zusätzlichen Leerzeichen ausgegeben werden:\n",
    "\n",
    "</div>\n",
    "</div>"
   ]
  },
  {
   "cell_type": "code",
   "execution_count": 126,
   "metadata": {},
   "outputs": [
    {
     "name": "stdout",
     "output_type": "stream",
     "text": [
      "+42\n",
      "-15\n",
      "----------\n",
      " 42\n",
      "-15\n"
     ]
    }
   ],
   "source": [
    "print(f\"{pos:+}\")   # looks ok, but questionable\n",
    "print(f\"{neg:+}\")   \n",
    "\n",
    "print(\"-\" * 10)\n",
    "\n",
    "print(f\"{pos: }\")   # looks good\n",
    "print(f\"{neg: }\")   "
   ]
  },
  {
   "cell_type": "markdown",
   "metadata": {},
   "source": [
    "<div style=\"display: flex; justify-content: space-between;\">\n",
    "<div style=\"width: 48%; line-height: 1.5;\">\n",
    "\n",
    "You can also align numbers while controlling the decimal precision. \n",
    "\n",
    "For example, right-align with 2 decimal places *and* add a space padding to align positive and negative numbers:\n",
    "\n",
    "</div>\n",
    "<div style=\"width: 48%; line-height: 1.5;color: grey;\">\n",
    "\n",
    "Sie können Zahlen auch ausrichten und dabei die Genauigkeit der Dezimalstellen steuern. \n",
    "\n",
    "Zum Beispiel rechtsbündig mit 2 Dezimalstellen *und* ein Leerzeichen hinzufügen, um positive und negative Zahlen auszurichten:\n",
    "\n",
    "</div>\n",
    "</div>"
   ]
  },
  {
   "cell_type": "code",
   "execution_count": 79,
   "metadata": {},
   "outputs": [
    {
     "name": "stdout",
     "output_type": "stream",
     "text": [
      " 42.49\n",
      "-15.53\n"
     ]
    }
   ],
   "source": [
    "pos = 42.485201\n",
    "neg = -15.532\n",
    "\n",
    "print(f\"{pos: .2f}\")  \n",
    "print(f\"{neg: .2f}\")   "
   ]
  },
  {
   "cell_type": "markdown",
   "metadata": {},
   "source": [
    "<div style=\"display: flex; justify-content: space-between;\">\n",
    "<div style=\"width: 48%; line-height: 1.5;\">\n",
    "\n",
    "This is particularly helpful when printing summaries like the fit we have seen at the beginning of the lecture.\n",
    "\n",
    "</div>\n",
    "<div style=\"width: 48%; line-height: 1.5;color: grey;\">\n",
    "\n",
    "Dies ist besonders hilfreich, wenn Sie Zusammenfassungen wie die zu Beginn der Vorlesung sehen, ausdrucken möchten.\n",
    "\n",
    "</div>\n",
    "</div>"
   ]
  },
  {
   "cell_type": "markdown",
   "metadata": {},
   "source": [
    "<div style=\"display: flex; justify-content: space-between;\">\n",
    "<div style=\"width: 48%; line-height: 1.5;\">\n",
    "\n",
    "#### Text Alignment \n",
    "\n",
    "By default, the formatted string is aligned to the left; this can be modified to align it to the right or to the center.\n",
    "\n",
    "The single characters `<`, `>`, and `^` control the alignment, but you need to specify the *field width*:\n",
    "\n",
    "</div>\n",
    "<div style=\"width: 48%; line-height: 1.5;color: grey;\">\n",
    "\n",
    "#### Textausrichtung\n",
    "\n",
    "Standardmäßig ist die formatierte Zeichenfolge links ausgerichtet; dies kann geändert werden, um sie rechts oder in der Mitte auszurichten.\n",
    "\n",
    "Die einzelnen Zeichen `<`, `>` und `^` steuern die Ausrichtung, aber Sie müssen die *Feldbreite* angeben:\n",
    "\n",
    "</div>\n",
    "</div>"
   ]
  },
  {
   "cell_type": "code",
   "execution_count": null,
   "metadata": {},
   "outputs": [
    {
     "name": "stdout",
     "output_type": "stream",
     "text": [
      "*Hello               *\n"
     ]
    }
   ],
   "source": [
    "text = \"Hello\"\n",
    "\n",
    "print(f\"*{text:<20}*\")  # Left-align 'Hello' in a field of width 20, * marks the field width"
   ]
  },
  {
   "cell_type": "code",
   "execution_count": null,
   "metadata": {},
   "outputs": [
    {
     "name": "stdout",
     "output_type": "stream",
     "text": [
      "*               Hello*\n"
     ]
    }
   ],
   "source": [
    "text = \"Hello\"\n",
    "\n",
    "print(f\"*{text:>20}*\")  # Right-align 'Hello' in a field of width 20, * marks the field width"
   ]
  },
  {
   "cell_type": "code",
   "execution_count": null,
   "metadata": {},
   "outputs": [
    {
     "name": "stdout",
     "output_type": "stream",
     "text": [
      "*       Hello        *\n"
     ]
    }
   ],
   "source": [
    "text = \"Hello\"\n",
    "\n",
    "print(f\"*{text:^20}*\")  # Center-align 'Hello' in a field of width 20, * marks the field width"
   ]
  },
  {
   "cell_type": "markdown",
   "metadata": {},
   "source": [
    "<div class=\"alert alert-block alert-light\">\n",
    "\n",
    "<div style=\"display: flex; justify-content: space-between;\">\n",
    "<div style=\"width: 48%; line-height: 1.5;\">\n",
    "\n",
    "####   Exercise \n",
    "\n",
    "Given the following values for the Boltzmann constant ($k_B$) in different units:\n",
    "- Joules per Kelvin: $k_B = 1.380649 \\times 10^{-23} \\ \\text{J/K}$\n",
    "- Electron Volts per Kelvin: $k_B = 8.617333262145 \\times 10^{-5} \\ \\text{eV/K}$ \n",
    "- Ergs per Kelvin: $k_B = 1.380649 \\times 10^{-16} \\ \\text{erg/K}$\n",
    "\n",
    "Assign each value of the Boltzmann constant in different units and each respective unit to descriptive variable names.\n",
    "\n",
    "Write a Python script using f-strings to produce the following formatted output:\n",
    "```python\n",
    "k_B = 1.381e-23 J/K = 8.617e-05 eV/K = 1.381e-16 erg/K\n",
    "```\n",
    "Ensure each numerical value is rounded to the third decimal place in scientific notation, and use the correct syntax for rounding in f-strings.\n",
    "\n",
    "</div>\n",
    "\n",
    "<div style=\"width: 4%;\">\n",
    "</div>\n",
    "\n",
    "<div style=\"width: 48%; line-height: 1.5;color: grey;\">\n",
    "\n",
    "####  Übung\n",
    "\n",
    "Gegeben sind die Werte für die Boltzmann-Konstante ($k_B$) in verschiedenen Einheiten:\n",
    "- Joule pro Kelvin: $k_B = 1.380649 \\times 10^{-23} \\text{J/K}$\n",
    "- Elektronenvolt pro Kelvin: $k_B = 8.617333262145 \\times 10^{-5} \\text{eV/K}$\n",
    "- Ergs pro Kelvin: $k_B = 1.380649 \\times 10^{-16} \\ \\text{erg/K}$\n",
    "\n",
    "Weisen Sie jedem Wert der Boltzmann-Konstante verschiedene Einheiten zu und ordnen Sie die jeweiligen Einheiten beschreibenden Variablennamen zu.\n",
    "\n",
    "Schreiben Sie ein Python-Skript mit f-strings, um die folgende Ausgabe zu erzeugen:\n",
    "```python\n",
    "k_B = 1.381e-23 J/K = 8.617e-05 eV/K = 1.381e-16 erg/K\n",
    "```\n",
    "Stellen Sie sicher, dass jeder numerische Wert auf die dritte Dezimalstelle in wissenschaftlicher Notation gerundet wird, und verwenden Sie die korrekte Syntax für die Rundung in f-Strings.\n",
    "\n",
    "</div>\n",
    "</div>"
   ]
  },
  {
   "cell_type": "code",
   "execution_count": null,
   "metadata": {},
   "outputs": [],
   "source": [
    "countdown_timer(10)"
   ]
  },
  {
   "cell_type": "code",
   "execution_count": 134,
   "metadata": {},
   "outputs": [
    {
     "name": "stdout",
     "output_type": "stream",
     "text": [
      "k_B = 1.381e-23 J/K = 8.617e-05 eV/K = 1.381e-16 erg/K\n"
     ]
    }
   ],
   "source": [
    "# Assigning values of k_B in different units to variables with sensible names\n",
    "kb_Joule_K = 1.380649e-23  # J/K\n",
    "kb_eV_K = 8.617333262145e-5  # eV/K\n",
    "kb_erg_K = 1.380649e-16  # erg/K\n",
    "\n",
    "# Assigning units as variables\n",
    "Joule_K = \"J/K\"\n",
    "eV_K = \"eV/K\"\n",
    "erg_K = \"erg/K\"\n",
    "\n",
    "# Using f-strings with the units as variables in the formatted output\n",
    "print(f\"k_B = {kb_Joule_K:.3e} {Joule_K} = {kb_eV_K:.3e} {eV_K} = {kb_erg_K:.3e} {erg_K}\")"
   ]
  },
  {
   "cell_type": "markdown",
   "metadata": {},
   "source": [
    "<div style=\"display: flex; justify-content: space-between;\">\n",
    "<div style=\"width: 48%; line-height: 1.5;\">\n",
    "\n",
    "## Indexing and Slicing \n",
    "\n",
    "*Keep this terminology and syntax in mind, as we will encounter it frequently moving forward.*\n",
    "\n",
    "A string is an *ordered, immutable* sequence of characters.\n",
    "\n",
    "\"Immutable\" means that once a string is created, it cannot be changed. Any modification creates a new string rather than altering the original one.\n",
    "\n",
    "\"Ordered\" means the characters in a string have a specific sequence, and you can access them using *indices*.\n",
    "\n",
    "</div>\n",
    "<div style=\"width: 48%; line-height: 1.5;color: grey;\">\n",
    "\n",
    "## Indexierung und Slicing \n",
    "\n",
    "*Behalten Sie diese Terminologie und Syntax im Gedächtnis, da wir ihr in Zukunft häufig begegnen werden.*\n",
    "\n",
    "Eine Zeichenkette ist eine *geordnete, unveränderliche* Folge von Zeichen.\n",
    "\n",
    "\"Unveränderlich\" bedeutet, dass eine einmal erstellte Zeichenfolge nicht mehr verändert werden kann. Jede Änderung erzeugt eine neue Zeichenfolge, anstatt die ursprüngliche zu verändern.\n",
    "\n",
    "\"Geordnet\" bedeutet, dass die Zeichen in einer Zeichenkette eine bestimmte Reihenfolge haben und dass man mit *Indizes* auf sie zugreifen kann.\n",
    "\n",
    "\n",
    "</div>\n",
    "</div>"
   ]
  },
  {
   "cell_type": "markdown",
   "metadata": {},
   "source": [
    "<div style=\"display: flex; justify-content: space-between;\">\n",
    "<div style=\"width: 48%; line-height: 1.5;\">\n",
    "\n",
    "### Indexing\n",
    "\n",
    "Individual characters can be accessed using the indexing notation `string[i]`, where the index `i` is the position of the character in the string, **starting at $0$**. \n",
    "\n",
    "A nonnegative index counts forward fromt the start of the string.\n",
    "\n",
    "There is a handy notation that allows you to access characters counting backward from the end of the string: in this case, a negative index, starting at $-1$ is used.\n",
    "\n",
    "</div>\n",
    "<div style=\"width: 48%; line-height: 1.5;color: grey;\">\n",
    "\n",
    "### Indexierung\n",
    "\n",
    "Auf einzelne Zeichen kann mit der Indizierungsnotation `string[i]` zugegriffen werden, wobei der Index `i` die Position des Zeichens in der Zeichenkette ist, **beginnend bei $0$**. \n",
    "\n",
    "Ein nichtnegativer Index zählt vom Anfang der Zeichenkette vorwärts.\n",
    "\n",
    "Es gibt eine praktische Notation, mit der Sie auf Zeichen zugreifen können, die vom Ende der Zeichenkette aus rückwärts gezählt werden: In diesem Fall wird ein negativer Index, beginnend bei $-1$, verwendet.\n",
    "\n",
    "</div>\n",
    "</div>"
   ]
  },
  {
   "cell_type": "code",
   "execution_count": 3,
   "metadata": {},
   "outputs": [
    {
     "data": {
      "image/png": "[encoded data removed]",
      "text/plain": [
       "<Figure size 640x480 with 1 Axes>"
      ]
     },
     "metadata": {},
     "output_type": "display_data"
    }
   ],
   "source": [
    "\n",
    "# You are not supposed to understand this code, yet. It is here for your convenience/curiosity.\n",
    "\n",
    "import matplotlib.pyplot as plt\n",
    "import matplotlib.patches as patches\n",
    "\n",
    "# Create a figure and axis\n",
    "fig, ax = plt.subplots()\n",
    "\n",
    "# Set the limits of the plot and equal aspect ratio\n",
    "ax.set_xlim(0, 9.01)\n",
    "ax.set_ylim(0, 3)\n",
    "ax.set_aspect('equal')\n",
    "ax.axis('off')  # Remove axes for a cleaner look\n",
    "\n",
    "string = \"plutonium\"\n",
    "color = 'gainsboro'  # Define color for the rectangles\n",
    "\n",
    "# Add rectangles and text labels\n",
    "for i in range(9):  # 9 columns (characters in \"plutonium\")\n",
    "    for j in range(3):  # 3 rows\n",
    "        if j == 1:  # Middle row\n",
    "            label = string[i]\n",
    "            rect = patches.Rectangle((i, j), 1, 1, edgecolor='black', facecolor=color)\n",
    "            ax.text(i + 0.5, j + 0.5, label, color='blue', fontsize=20, ha='center', va='center')\n",
    "            ax.add_patch(rect)\n",
    "        elif j == 0:  # Bottom row\n",
    "            label = i - len(string)\n",
    "            ax.text(i + 0.5, j + 0.5, label, color='black', fontsize=16, ha='center', va='center')\n",
    "        elif j == 2:  # Top row\n",
    "            label = i\n",
    "            ax.text(i + 0.5, j + 0.5, label, color='black', fontsize=16, ha='center', va='center')\n",
    "\n",
    "# Display the plot\n",
    "plt.show()"
   ]
  },
  {
   "cell_type": "code",
   "execution_count": 136,
   "metadata": {
    "ExecuteTime": {
     "end_time": "2024-10-12T15:14:22.763096Z",
     "start_time": "2024-10-12T15:14:22.737990Z"
    }
   },
   "outputs": [],
   "source": [
    "long_string = \"Rindfleischetikettierungsüberwachungsaufgabenübertragungsgesetz\""
   ]
  },
  {
   "cell_type": "code",
   "execution_count": 15,
   "metadata": {
    "ExecuteTime": {
     "end_time": "2024-10-12T15:14:23.379132Z",
     "start_time": "2024-10-12T15:14:23.365846Z"
    }
   },
   "outputs": [
    {
     "data": {
      "text/plain": [
       "63"
      ]
     },
     "execution_count": 15,
     "metadata": {},
     "output_type": "execute_result"
    }
   ],
   "source": [
    "len(long_string)"
   ]
  },
  {
   "cell_type": "code",
   "execution_count": 16,
   "metadata": {
    "ExecuteTime": {
     "end_time": "2024-10-12T15:14:24.049734Z",
     "start_time": "2024-10-12T15:14:24.030755Z"
    }
   },
   "outputs": [
    {
     "data": {
      "text/plain": [
       "'R'"
      ]
     },
     "execution_count": 16,
     "metadata": {},
     "output_type": "execute_result"
    }
   ],
   "source": [
    "long_string[0]"
   ]
  },
  {
   "cell_type": "code",
   "execution_count": 17,
   "metadata": {
    "ExecuteTime": {
     "end_time": "2024-10-12T15:14:24.890817Z",
     "start_time": "2024-10-12T15:14:24.873561Z"
    }
   },
   "outputs": [
    {
     "data": {
      "text/plain": [
       "'g'"
      ]
     },
     "execution_count": 17,
     "metadata": {},
     "output_type": "execute_result"
    }
   ],
   "source": [
    "long_string[23]"
   ]
  },
  {
   "cell_type": "code",
   "execution_count": 18,
   "metadata": {
    "ExecuteTime": {
     "end_time": "2024-10-12T15:14:32.124743Z",
     "start_time": "2024-10-12T15:14:32.112934Z"
    }
   },
   "outputs": [
    {
     "data": {
      "text/plain": [
       "'z'"
      ]
     },
     "execution_count": 18,
     "metadata": {},
     "output_type": "execute_result"
    }
   ],
   "source": [
    "long_string[-1]"
   ]
  },
  {
   "cell_type": "markdown",
   "metadata": {},
   "source": [
    "<div style=\"display: flex; justify-content: space-between;\">\n",
    "<div style=\"width: 48%; line-height: 1.5;\">\n",
    "\n",
    "### Slicing\n",
    "\n",
    "*Slicing* a string, with the notation `string[i:j]`, produces a substring of a string between the characters at the two indexes, *including* the first (`i`) but *excluding* the second (`j`).\n",
    "\n",
    "*As math set:* $[i,j) $\n",
    "\n",
    "If the first index is omitted, $0$ is assumed; if the second is omitted, the end of the string is assumed.\n",
    "\n",
    "</div>\n",
    "<div style=\"width: 48%; line-height: 1.5;color: grey;\">\n",
    "\n",
    "### Slicing\n",
    "\n",
    "Das *Slicing* einer Zeichenkette mit der Notation `string[i:j]` erzeugt eine Teilzeichenkette zwischen den Zeichen an den beiden Indizes, *einschließlich* des ersten (`i`), aber *ausschließlich* des zweiten (`j`).\n",
    "\n",
    "*Als mathematische Menge:* = $[i,j)$\n",
    "\n",
    "Wenn der erste Index weggelassen wird, wird $0$ angenommen; wenn der zweite weggelassen wird, wird das Ende der Zeichenkette angenommen.\n",
    "\n",
    "</div>\n",
    "</div>"
   ]
  },
  {
   "cell_type": "code",
   "execution_count": 22,
   "metadata": {},
   "outputs": [
    {
     "data": {
      "text/plain": [
       "'Rind'"
      ]
     },
     "execution_count": 22,
     "metadata": {},
     "output_type": "execute_result"
    }
   ],
   "source": [
    "long_string[:4]"
   ]
  },
  {
   "cell_type": "code",
   "execution_count": 20,
   "metadata": {},
   "outputs": [
    {
     "data": {
      "text/plain": [
       "'etikettierung'"
      ]
     },
     "execution_count": 20,
     "metadata": {},
     "output_type": "execute_result"
    }
   ],
   "source": [
    "long_string[11:24]"
   ]
  },
  {
   "cell_type": "code",
   "execution_count": 24,
   "metadata": {},
   "outputs": [
    {
     "data": {
      "text/plain": [
       "'gesetz'"
      ]
     },
     "execution_count": 24,
     "metadata": {},
     "output_type": "execute_result"
    }
   ],
   "source": [
    "long_string[57:]"
   ]
  },
  {
   "cell_type": "markdown",
   "metadata": {},
   "source": [
    "<div style=\"display: flex; justify-content: space-between;\">\n",
    "<div style=\"width: 48%; line-height: 1.5;\">\n",
    "\n",
    "Strings can be sliced backward or stridden differently with a third value: `string[i:j:step]`:\n",
    "</div>\n",
    "<div style=\"width: 48%; line-height: 1.5;color: grey;\">\n",
    "\n",
    "Strings können mit einem dritten Wert rückwärts aufgeschnitten oder anders gestrippt werden: `string[i:j:step]`:\n",
    "</div>\n",
    "</div>"
   ]
  },
  {
   "cell_type": "code",
   "execution_count": 137,
   "metadata": {},
   "outputs": [
    {
     "data": {
      "text/plain": [
       "'ztesegsgnugartrebünebagfuasgnuhcawrebüsgnureittekitehcsielfdniR'"
      ]
     },
     "execution_count": 137,
     "metadata": {},
     "output_type": "execute_result"
    }
   ],
   "source": [
    "long_string[::-1] # reverse order"
   ]
  },
  {
   "cell_type": "code",
   "execution_count": 26,
   "metadata": {
    "ExecuteTime": {
     "end_time": "2024-10-12T15:14:39.426783Z",
     "start_time": "2024-10-12T15:14:39.414431Z"
    }
   },
   "outputs": [
    {
     "data": {
      "text/plain": [
       "'Rnfeshtktirnsbrahnsugbnbrrgnseez'"
      ]
     },
     "execution_count": 26,
     "metadata": {},
     "output_type": "execute_result"
    }
   ],
   "source": [
    "long_string[::2] # every other character"
   ]
  },
  {
   "cell_type": "code",
   "execution_count": 39,
   "metadata": {},
   "outputs": [
    {
     "data": {
      "text/plain": [
       "'idliceieteugüewcugafaeüetauggst'"
      ]
     },
     "execution_count": 39,
     "metadata": {},
     "output_type": "execute_result"
    }
   ],
   "source": [
    "long_string[1::2] # \"the other\" every other character"
   ]
  },
  {
   "cell_type": "code",
   "execution_count": null,
   "metadata": {},
   "outputs": [
    {
     "data": {
      "text/plain": [
       "'zeesngrrbnbgusnharbsnritkthsefnR'"
      ]
     },
     "metadata": {},
     "output_type": "display_data"
    }
   ],
   "source": [
    "long_string[::-2] # every other character in reverse order"
   ]
  },
  {
   "cell_type": "markdown",
   "metadata": {},
   "source": [
    "<div class=\"alert alert-block alert-light\">\n",
    "\n",
    "<div style=\"display: flex; justify-content: space-between;\">\n",
    "<div style=\"width: 48%; line-height: 1.5;\">\n",
    "\n",
    "#### Exercise\n",
    "\n",
    "Slice the string `s='seehemewe'` to produce the following substrings:\n",
    "\n",
    "(a) `'see'`\n",
    "\n",
    "(b) `'he'`\n",
    "\n",
    "(c) `'me'`\n",
    "\n",
    "(d) `'we'`\n",
    "\n",
    "(e) `'hem'`\n",
    "\n",
    "(f) `'meh'`\n",
    "\n",
    "(g) `'wee'`\n",
    "\n",
    "</div>\n",
    "<div style=\"width: 48%; line-height: 1.5;color: grey;\">\n",
    "\n",
    "#### Übung\n",
    "\n",
    "Schneiden Sie die Zeichenkette `s='seehemewe'` so auf, dass die folgenden Teilzeichenketten entstehen:\n",
    "\n",
    "(a) `'see'`\n",
    "\n",
    "(b) `'he'`\n",
    "\n",
    "(c) `'me'`\n",
    "\n",
    "(d) `'we'`\n",
    "\n",
    "(e) `'hem'`\n",
    "\n",
    "(f) `'meh'`\n",
    "\n",
    "(g) `'wee'`\n",
    "\n",
    "</div>\n",
    "</div>"
   ]
  },
  {
   "cell_type": "markdown",
   "metadata": {},
   "source": [
    "<div class=\"alert alert-block alert-light\">\n",
    "\n",
    "<div style=\"display: flex; justify-content: space-between;\">\n",
    "<div style=\"width: 48%; line-height: 1.5;\">\n",
    "\n",
    "#### Exercise\n",
    "\n",
    "Write a single-line expression to determine if a string is a palindrome (reads the same forward as backward).\n",
    "\n",
    "Test your expression on the following words:\n",
    "\n",
    "- stressed\n",
    "- racecar\n",
    "- reward\n",
    "- rotator\n",
    "\n",
    "</div>\n",
    "<div style=\"width: 48%; line-height: 1.5;color: grey;\">\n",
    "\n",
    "#### Übung\n",
    "\n",
    "Schreiben Sie einen einzeiligen Ausdruck, um festzustellen, ob eine Zeichenkette ein Palindrom ist (vorwärts und rückwärts gelesen dasselbe).\n",
    "\n",
    "Testen Sie Ihren Ausdruck anhand der folgenden Wörter:\n",
    "\n",
    "- stressed\n",
    "- racecar\n",
    "- reward\n",
    "- rotator\n",
    "\n",
    "</div>\n",
    "</div>"
   ]
  },
  {
   "cell_type": "code",
   "execution_count": null,
   "metadata": {},
   "outputs": [],
   "source": [
    "countdown_timer(10)"
   ]
  },
  {
   "cell_type": "code",
   "execution_count": 138,
   "metadata": {},
   "outputs": [
    {
     "data": {
      "text/plain": [
       "True"
      ]
     },
     "execution_count": 138,
     "metadata": {},
     "output_type": "execute_result"
    }
   ],
   "source": [
    "string = \"racecar\"\n",
    "\n",
    "string == string[::-1]"
   ]
  },
  {
   "cell_type": "markdown",
   "metadata": {},
   "source": [
    "<div style=\"display: flex; justify-content: space-between;\">\n",
    "<div style=\"width: 48%; line-height: 1.5;\">\n",
    "\n",
    "## Manipulating strings \n",
    "\n",
    "Python strings are *immutable*: that means they cannot be changed in place. \n",
    "\n",
    "One might be tempted to modify strings by directly assigning new values to individual characters. \n",
    "However, unlike some other data structures (which we will explore soon), this is not possible with strings.\n",
    "\n",
    "One needs to find a workaround that uses slicing and concatenation.\n",
    "</div>\n",
    "<div style=\"width: 48%; line-height: 1.3;color: grey;\">\n",
    "\n",
    "## Strings Manipulieren \n",
    "\n",
    "Python-Strings sind *unveränderlich*: das heißt, sie können nicht an Ort und Stelle verändert werden. \n",
    "\n",
    "Man könnte versucht sein, Zeichenketten zu verändern, indem man einzelnen Zeichen direkt neue Werte zuweist.\n",
    "Im Gegensatz zu einigen anderen Datenstrukturen (auf die wir gleich noch eingehen werden) ist dies bei Zeichenketten jedoch nicht möglich.\n",
    "\n",
    "Es muss eine Umgehung gefunden werden, die Slicing und Verkettung verwendet.\n",
    "</div>\n",
    "</div>"
   ]
  },
  {
   "cell_type": "code",
   "execution_count": 31,
   "metadata": {},
   "outputs": [
    {
     "ename": "TypeError",
     "evalue": "'str' object does not support item assignment",
     "output_type": "error",
     "traceback": [
      "\u001b[0;31m---------------------------------------------------------------------------\u001b[0m",
      "\u001b[0;31mTypeError\u001b[0m                                 Traceback (most recent call last)",
      "Cell \u001b[0;32mIn[31], line 3\u001b[0m\n\u001b[1;32m      1\u001b[0m wrong_string \u001b[38;5;241m=\u001b[39m \u001b[38;5;124m\"\u001b[39m\u001b[38;5;124mrindfleischetikettierungsüberwachungsaufgabenübertragungsgesetz\u001b[39m\u001b[38;5;124m\"\u001b[39m        \u001b[38;5;66;03m# a german noun should be capitalized!\u001b[39;00m\n\u001b[0;32m----> 3\u001b[0m \u001b[43mwrong_string\u001b[49m\u001b[43m[\u001b[49m\u001b[38;5;241;43m0\u001b[39;49m\u001b[43m]\u001b[49m \u001b[38;5;241m=\u001b[39m \u001b[38;5;124m\"\u001b[39m\u001b[38;5;124mR\u001b[39m\u001b[38;5;124m\"\u001b[39m\n",
      "\u001b[0;31mTypeError\u001b[0m: 'str' object does not support item assignment"
     ]
    }
   ],
   "source": [
    "wrong_string = \"rindfleischetikettierungsüberwachungsaufgabenübertragungsgesetz\"        # a german noun should be capitalized!\n",
    "\n",
    "wrong_string[0] = \"R\""
   ]
  },
  {
   "cell_type": "markdown",
   "metadata": {},
   "source": [
    "<div style=\"line-height: 1.5;\">\n",
    "\n",
    "| Operation  | Example  | Result/Ergebnis | Description  | Beschreibung  |\n",
    "|------------------------|----------------------------------------------|------------------|--------------------------------------------------|--------------------------------------------------|\n",
    "| **Concatenation**  | `'Hello ' + 'World'`  | `'Hello World'` | Combine two or more strings | Zwei oder mehr Strings zusammenfügen|\n",
    "| **Repetition** | `'Hello ' * 3`  | `'Hello Hello Hello '` | Repeat a string multiple times  | Einen String mehrmals wiederholen|\n",
    "| **Length** | `len('Hello')`  | `5` | Get the number of characters in a string| Die Anzahl der Zeichen in einem String erhalten  |\n",
    "| **Indexing**  | `'Hello World'[0]`  | `'H'` | Extract a character of the string | Ein Zeichen des Strings extrahieren  |\n",
    "| **Slicing**  | `'Hello World'[0:5]`  | `'Hello'` | Extract a part of the string | Einen Teil des Strings extrahieren  |\n",
    "\n",
    "</div>"
   ]
  },
  {
   "cell_type": "markdown",
   "metadata": {},
   "source": [
    "<div class=\"alert alert-block alert-light\">\n",
    "\n",
    "<div style=\"display: flex; justify-content: space-between;\">\n",
    "<div style=\"width: 48%; line-height: 1.5;\">\n",
    "\n",
    "#### Exercise\n",
    " You made a typo and wrote \"alkane\" instead of \"alkene.\" \n",
    " \n",
    " How would you use slicing and concatenation to correct the mistake? \n",
    " \n",
    " Hint: you need to create a new string (don't simply create the string \"alkene\"!).\n",
    "\n",
    "</div>\n",
    "<div style=\"width: 48%; line-height: 1.5;color: grey;\">\n",
    "\n",
    "#### Übung\n",
    "Sie haben einen Tippfehler gemacht und \"Alkan\" statt \"Alken\" geschrieben. \n",
    "\n",
    "Wie würden Sie den Fehler mit Hilfe von Slicing und Verkettung korrigieren? \n",
    "\n",
    "Hinweis: Sie müssen einen neuen String erstellen (erstellen Sie nicht einfach den String \"Alken\"!).\n",
    "\n",
    "</div>\n",
    "</div>"
   ]
  },
  {
   "cell_type": "code",
   "execution_count": null,
   "metadata": {
    "ExecuteTime": {
     "end_time": "2024-10-12T15:14:52.550926Z",
     "start_time": "2024-10-12T15:14:49.669894Z"
    }
   },
   "outputs": [],
   "source": [
    "#countdown\n",
    "countdown_timer(5)"
   ]
  },
  {
   "cell_type": "markdown",
   "metadata": {},
   "source": [
    "<details>\n",
    "  <summary>Click to reveal the solution</summary>\n",
    "\n",
    "```python\n",
    "string = 'alkane'   \n",
    "\n",
    "string[:3] + 'e' + string[4:]\n",
    "```\n",
    "\n",
    "</details>"
   ]
  },
  {
   "cell_type": "markdown",
   "metadata": {},
   "source": [
    "<div class=\"alert alert-block alert-warning\">\n",
    "\n",
    "<div style=\"display: flex; justify-content: space-between;\">\n",
    "<div style=\"width: 48%; line-height: 1.3;\">\n",
    "\n",
    "# Lists \n",
    "</div>\n",
    "<div style=\"width: 48%; line-height: 1.3;color: grey;\">\n",
    "\n",
    "# Listen\n",
    "</div>\n",
    "</div>"
   ]
  },
  {
   "cell_type": "markdown",
   "metadata": {},
   "source": [
    "<div style=\"display: flex; justify-content: space-between;\">\n",
    "<div style=\"width: 48%; line-height: 1.5;\">\n",
    "\n",
    "In data science, organizing data efficiently is essential. \n",
    "\n",
    "Python offers a variety of data structures for this purpose, including *lists, tuples, sets, and dictionaries*. \n",
    "\n",
    "Here, we’ll start with Python lists.\n",
    "\n",
    "We have seen that a string is a *sequence*: a collection of objects (in that case, characters).\n",
    "\n",
    "Lists are also an example of sequences.\n",
    "\n",
    "Lists in Python are used to store ordered collections of values. \n",
    "\n",
    "You can create a list by placing elements inside square brackets `[]`, separated by commas:\n",
    "\n",
    "</div>\n",
    "<div style=\"width: 48%; line-height: 1.5;color: grey;\">\n",
    "\n",
    "In der Datenwissenschaft ist es wichtig, Daten effizient zu organisieren.\n",
    "\n",
    "Python bietet eine Vielzahl von Datenstrukturen für diesen Zweck, darunter *Listen, Tupel, Mengen und Wörterbücher*.\n",
    "\n",
    "Hier beginnen wir mit Python-Listen.\n",
    "\n",
    "Wir haben gesehen, dass eine Zeichenkette eine *Sequenz* ist: eine Sammlung von Objekten (in diesem Fall von Zeichen).\n",
    "\n",
    "Auch Listen sind ein Beispiel für Sequenzen.\n",
    "\n",
    "Listen in Python werden verwendet, um geordnete Sammlungen von Werten zu speichern. \n",
    "\n",
    "Sie können eine Liste erstellen, indem Sie Elemente in eckige Klammern `[]` setzen, die durch Kommas getrennt sind:\n",
    "\n",
    "</div>\n",
    "</div>"
   ]
  },
  {
   "cell_type": "code",
   "execution_count": null,
   "metadata": {},
   "outputs": [
    {
     "data": {
      "text/plain": [
       "list"
      ]
     },
     "metadata": {},
     "output_type": "display_data"
    }
   ],
   "source": [
    "# a list of numbers\n",
    "\n",
    "numbers = [23, 47, 58, 12, 89, 34, 76]\n",
    "\n",
    "type(numbers)"
   ]
  },
  {
   "cell_type": "code",
   "execution_count": null,
   "metadata": {},
   "outputs": [],
   "source": [
    "# a list of strings\n",
    "\n",
    "planets = ['Mercury', 'Venus', 'Earth', 'Mars', 'Jupiter', 'Saturn', 'Uranus', 'Neptune']"
   ]
  },
  {
   "cell_type": "code",
   "execution_count": null,
   "metadata": {},
   "outputs": [],
   "source": [
    "# a list of lists\n",
    "\n",
    "hands = [\n",
    "['J', 'Q', 'K'],\n",
    "['2', '2', '2'],\n",
    "['6', 'A', 'K']\n",
    "]\n",
    "\n",
    "# (it can also be written on one line, but it can get hard to read)\n",
    "# hands = [['J', 'Q', 'K'], ['2', '2', '2'], ['6', 'A', 'K']]"
   ]
  },
  {
   "cell_type": "markdown",
   "metadata": {},
   "source": [
    "<div style=\"display: flex; justify-content: space-between;\">\n",
    "<div style=\"width: 48%; line-height: 1.3;\">\n",
    "\n",
    "The individual entries do not need to have the same type:\n",
    "\n",
    "</div>\n",
    "<div style=\"width: 48%; line-height: 1.3;color: grey;\">\n",
    "\n",
    "Die einzelnen Einträge müssen nicht den gleichen Typ haben:\n",
    "\n",
    "</div>\n",
    "</div>"
   ]
  },
  {
   "cell_type": "code",
   "execution_count": null,
   "metadata": {},
   "outputs": [],
   "source": [
    "# a list of all the data types we have seen so far\n",
    "\n",
    "a = [3, 3.2, (3+2j), True, 'hello', [4, 8, 17.1]] "
   ]
  },
  {
   "cell_type": "markdown",
   "metadata": {},
   "source": [
    "<div style=\"display: flex; justify-content: space-between;\">\n",
    "<div style=\"width: 48%; line-height: 1.5;\">\n",
    "\n",
    "An empty list can be created with:\n",
    "\n",
    "```python\n",
    "list = []\n",
    "```\n",
    "\n",
    "</div>\n",
    "<div style=\"width: 48%; line-height: 1.5;color: grey;\">\n",
    "\n",
    "Eine leere Liste kann mit erstellt werden:\n",
    "\n",
    "</div>\n",
    "</div>\n",
    "\n",
    "<div style=\"display: flex; justify-content: space-between;\">\n",
    "<div style=\"width: 48%; line-height: 1.5;\">\n",
    "\n",
    "Creating an empty list is useful because it allows you to *initialize* a collection that you can dynamically populate with elements as your program runs.\n",
    "\n",
    "</div>\n",
    "<div style=\"width: 48%; line-height: 1.5;color: grey;\">\n",
    "\n",
    "Die Erstellung einer leeren Liste ist nützlich, weil Sie damit eine Sammlung *initialisieren* können, die Sie bei der Ausführung Ihres Programms dynamisch mit Elementen füllen können.\n",
    "\n",
    "</div>\n",
    "</div>"
   ]
  },
  {
   "cell_type": "markdown",
   "metadata": {},
   "source": [
    "<div class=\"alert alert-block alert-light\">\n",
    "\n",
    "<div style=\"display: flex; justify-content: space-between;\">\n",
    "<div style=\"width: 48%; line-height: 1.3;\">\n",
    "\n",
    "#### Exercise\n",
    "Channel your inner Quentin Tarantino and create a Python list that captures the five key names from *Kill Bill*'s notorious death list.\n",
    "\n",
    "</div>\n",
    "<div style=\"width: 48%; line-height: 1.3;color: grey;\">\n",
    "\n",
    "#### Übung\n",
    "Lassen Sie Ihren inneren Quentin Tarantino sprechen und erstellen Sie eine Python-Liste, die die fünf wichtigsten Namen aus der berüchtigten Todesliste von *Kill Bill* enthält.\n",
    "\n",
    "</div>\n",
    "</div>\n",
    "\n",
    "<div style=\"text-align: center;\">\n",
    "<img src=\"./figures/death_list_five.png\" width=\"300\">\n",
    "</div>"
   ]
  },
  {
   "cell_type": "code",
   "execution_count": null,
   "metadata": {},
   "outputs": [],
   "source": [
    "#countdown\n",
    "countdown_timer(5)"
   ]
  },
  {
   "cell_type": "code",
   "execution_count": null,
   "metadata": {},
   "outputs": [],
   "source": [
    "death_list_five = ['O-Ren Ishii', 'Vernita Green', 'Budd', 'Elle Driver', 'Bill']\n",
    "\n",
    "death_list_five"
   ]
  },
  {
   "cell_type": "markdown",
   "metadata": {},
   "source": [
    "<div style=\"display: flex; justify-content: space-between;\">\n",
    "<div style=\"width: 48%; line-height: 1.5;\">\n",
    "\n",
    "You can find the length of a list, or the number of elements it contains, using:\n",
    "\n",
    "```python\n",
    "len(list)\n",
    "```\n",
    "\n",
    "</div>\n",
    "<div style=\"width: 48%; line-height: 1.5;color: grey;\">\n",
    "\n",
    "Sie können die Länge einer Liste oder die Anzahl der Elemente, die sie enthält, mit Hilfe von ermitteln:\n",
    "\n",
    "</div>\n",
    "</div>"
   ]
  },
  {
   "cell_type": "markdown",
   "metadata": {},
   "source": [
    "<div class=\"alert alert-block alert-light\">\n",
    "\n",
    "<div style=\"display: flex; justify-content: space-between;\">\n",
    "<div style=\"width: 48%; line-height: 1.5;\">\n",
    "\n",
    "#### Exercise\n",
    "\n",
    "- Create a list of all prime numbers between 1 and 25. **Note:** [1 *is not* a prime number](https://blogs.scientificamerican.com/roots-of-unity/why-isnt-1-a-prime-number/)\n",
    "\n",
    "- Define a variable to store the count of prime numbers in your list.\n",
    "\n",
    "- Using an f-string, print the following message to the screen: \"Between 1 and 25 there are XX prime numbers.\"\n",
    "\n",
    "    - Replace `XX` with the actual count of prime numbers.\n",
    "\n",
    "</div>\n",
    "<div style=\"width: 48%; line-height: 1.5;color: grey;\">\n",
    "\n",
    "#### Übung\n",
    "\n",
    "- Erstellen Sie eine Liste mit allen Primzahlen zwischen 1 und 25. **Anmerkung:** [1 *ist* keine Primzahl](https://blogs.scientificamerican.com/roots-of-unity/why-isnt-1-a-prime-number/)\n",
    "\n",
    "- Definiere eine Variable, um die Anzahl der Primzahlen in deiner Liste zu speichern.\n",
    "\n",
    "- Geben Sie mit Hilfe eines f-string die folgende Meldung auf dem Bildschirm aus: \"Zwischen 1 und 25 gibt es XX Primzahlen.\"\n",
    "\n",
    "    - Ersetze `XX` durch die tatsächliche Anzahl der Primzahlen."
   ]
  },
  {
   "cell_type": "code",
   "execution_count": null,
   "metadata": {},
   "outputs": [],
   "source": [
    "countdown_timer(10)"
   ]
  },
  {
   "cell_type": "code",
   "execution_count": 34,
   "metadata": {},
   "outputs": [
    {
     "name": "stdout",
     "output_type": "stream",
     "text": [
      "Between 1 and 25, there are 9 prime numbers.\n"
     ]
    }
   ],
   "source": [
    "# Step 1: Create a list of prime numbers between 1 and 25\n",
    "prime_numbers = [2, 3, 5, 7, 11, 13, 17, 19, 23]\n",
    "\n",
    "# Step 2: Define a variable to count the number of primes in the list\n",
    "num_primes = len(prime_numbers)\n",
    "\n",
    "# Step 3: Print the message using an f-string\n",
    "print(f\"Between 1 and 25, there are {num_primes} prime numbers.\")"
   ]
  },
  {
   "cell_type": "markdown",
   "metadata": {},
   "source": [
    "<div style=\"display: flex; justify-content: space-between;\">\n",
    "<div style=\"width: 48%; line-height: 1.5;\">\n",
    "\n",
    "## Indexing \n",
    "\n",
    "Lists are *ordered*, which means that its elements can be referred to with unique integer indexes.\n",
    "\n",
    "Therefore lists can be indexed, sliced and iterated over, just like strings.\n",
    "\n",
    "You can access individual elements `i` in a list using square brackets with the syntax `list[i]`. \n",
    "\n",
    "To retrieve the first element of a list, you would use index `0`, as Python uses zero-based indexing:\n",
    "\n",
    "</div>\n",
    "<div style=\"width: 4%;\">\n",
    "</div>\n",
    "<div style=\"width: 48%; line-height: 1.5;color: grey;\">\n",
    "\n",
    "## Indexierung \n",
    "\n",
    "Listen sind *geordnet*, was bedeutet, dass auf ihre Elemente mit eindeutigen ganzzahligen Indizes verwiesen werden kann.\n",
    "\n",
    "Daher können Listen genau wie Zeichenketten indiziert, zerlegt und iteriert werden.\n",
    "\n",
    "Sie können auf einzelne Elemente `i` in einer Liste zugreifen, indem Sie eckige Klammern mit der Syntax `list[i]` verwenden. \n",
    "\n",
    "Um das erste Element einer Liste abzurufen, verwenden Sie den Index `0`, da Python eine nullbasierte Indizierung verwendet:\n",
    "\n",
    "</div>\n",
    "</div>"
   ]
  },
  {
   "cell_type": "code",
   "execution_count": 10,
   "metadata": {},
   "outputs": [
    {
     "data": {
      "image/png": "[encoded data removed]",
      "text/plain": [
       "<Figure size 640x480 with 1 Axes>"
      ]
     },
     "metadata": {},
     "output_type": "display_data"
    }
   ],
   "source": [
    "\n",
    "# You are not supposed to understand this code, yet. It is here for your convenience/curiosity.\n",
    "\n",
    "import matplotlib.pyplot as plt\n",
    "import matplotlib.patches as patches\n",
    "\n",
    "# Create a figure and axis\n",
    "fig, ax = plt.subplots()\n",
    "\n",
    "# Set the limits of the plot and equal aspect ratio\n",
    "ax.set_xlim(0, 9.1)\n",
    "ax.set_ylim(0, 3)\n",
    "ax.set_aspect('equal')\n",
    "ax.axis('off')  # Remove axes for a cleaner look\n",
    "\n",
    "planets = ['Mercury', 'Venus', 'Earth', 'Mars', 'Jupiter', 'Saturn', 'Uranus', 'Neptune', 'Pluto']\n",
    "color = 'gainsboro'  # Define color for the rectangles\n",
    "\n",
    "# Add rectangles and text labels\n",
    "for i in range(9):  # 9 columns \n",
    "    for j in range(3):  # 3 rows\n",
    "        if j == 1:  # Middle row\n",
    "            label = planets[i]\n",
    "            rect = patches.Rectangle((i, j), 1, 1, edgecolor='black', facecolor=color)\n",
    "            ax.text(i + 0.5, j + 0.5, label, color='blue', fontsize=10, ha='center', va='center')\n",
    "            ax.add_patch(rect)\n",
    "        elif j == 0:  # Bottom row\n",
    "            label = i - len(planets)\n",
    "            ax.text(i + 0.5, j + 0.5, label, color='black', fontsize=16, ha='center', va='center')\n",
    "        elif j == 2:  # Top row\n",
    "            label = i\n",
    "            ax.text(i + 0.5, j + 0.5, label, color='black', fontsize=16, ha='center', va='center')\n",
    "\n",
    "# Display the plot\n",
    "plt.show()"
   ]
  },
  {
   "cell_type": "markdown",
   "metadata": {},
   "source": [
    "<div style=\"display: flex; justify-content: space-between;\">\n",
    "<div style=\"width: 48%; line-height: 1.5;\">\n",
    "\n",
    "The advantage of using negative list indices is that we don't need actively call the length of the list to retrieve the last value as its index will always be `-1` regardless of the list's length.\n",
    "\n",
    "</div>\n",
    "<div style=\"width: 4%;\">\n",
    "</div>\n",
    "<div style=\"width: 48%; line-height: 1.5;color: grey;\">\n",
    "\n",
    "Der Vorteil der Verwendung negativer Listenindizes besteht darin, dass wir nicht aktiv die Länge der Liste aufrufen müssen, um den letzten Wert abzurufen da sein Index unabhängig von der Länge der Liste immer `-1` ist.\n",
    "\n",
    "</div>\n",
    "</div>"
   ]
  },
  {
   "cell_type": "markdown",
   "metadata": {},
   "source": [
    "<div class=\"alert alert-block alert-light\">\n",
    "\n",
    "<div style=\"display: flex; justify-content: space-between;\">\n",
    "<div style=\"width: 48%; line-height: 1.5;\">\n",
    "\n",
    "#### Exercise\n",
    "\n",
    "- Create a list of the nine planets in the solar system.\n",
    "\n",
    "- Use indexing to retrieve the closest and farthest planets from the Sun, and assign each to a relevant variable.\n",
    "\n",
    "- Using an f-string, print the following message to the screen: \"The closest planet to the Sun is XX, and the farthest is YY.\"\n",
    "\n",
    "    - Replace `XX` and `YY` with the appropriate variable for each.\n",
    "\n",
    "</div>\n",
    "<div style=\"width: 4%;\">\n",
    "</div>\n",
    "<div style=\"width: 48%; line-height: 1.5;color: grey;\">\n",
    "\n",
    "#### Übung\n",
    "\n",
    "- Erstellen Sie eine Liste mit den neun Planeten des Sonnensystems.\n",
    "\n",
    "- Verwenden Sie die Indizierung, um den sonnennächsten und den sonnenfernsten Planeten zu finden, und ordnen Sie jedem eine entsprechende Variable zu.\n",
    "\n",
    "- Gib mit Hilfe eines f-string die folgende Meldung auf dem Bildschirm aus: \"Der sonnennächste Planet ist XX, und der sonnenfernste ist YY.\"\n",
    "\n",
    "    - Ersetze `XX` und `YY` durch die entsprechende Variable für jeden.\n",
    "\n",
    "</div>\n",
    "</div>"
   ]
  },
  {
   "cell_type": "code",
   "execution_count": null,
   "metadata": {},
   "outputs": [],
   "source": [
    "#countdown\n",
    "countdown_timer(5)"
   ]
  },
  {
   "cell_type": "code",
   "execution_count": 37,
   "metadata": {},
   "outputs": [
    {
     "name": "stdout",
     "output_type": "stream",
     "text": [
      "The closest planet to the Sun is Mercury, and the farthest is Pluto.\n"
     ]
    }
   ],
   "source": [
    "# Step 1: Create a list of the nine planets in order from the Sun\n",
    "planets = [\"Mercury\", \"Venus\", \"Earth\", \"Mars\", \"Jupiter\", \"Saturn\", \"Uranus\", \"Neptune\", \"Pluto\"]\n",
    "\n",
    "# Step 2: Use indexing to retrieve the closest and farthest planets and assign to variables\n",
    "closest_planet = planets[0]   # Mercury is the closest\n",
    "farthest_planet = planets[-1] # Pluto is the farthest\n",
    "\n",
    "# Step 3: Print the result using an f-string, replacing XX and YY with the appropriate variables\n",
    "print(f\"The closest planet to the Sun is {closest_planet}, and the farthest is {farthest_planet}.\")"
   ]
  },
  {
   "cell_type": "markdown",
   "metadata": {},
   "source": [
    "<div style=\"display: flex; justify-content: space-between;\">\n",
    "<div style=\"width: 48%; line-height: 1.3;\">\n",
    "\n",
    "When an entry in a list is itself a list, we can use a second index to access the elements of this: `list[i][j]`.\n",
    "\n",
    "</div>\n",
    "<div style=\"width: 48%; line-height: 1.3;color: grey;\">\n",
    "\n",
    "Wenn ein Eintrag in einer Liste selbst eine Liste ist, können wir einen zweiten Index verwenden, um auf die Elemente dieser Liste zuzugreifen: `list[i][j]`.\n",
    "\n",
    "</div>\n",
    "</div>"
   ]
  },
  {
   "cell_type": "code",
   "execution_count": 36,
   "metadata": {},
   "outputs": [
    {
     "data": {
      "text/plain": [
       "3"
      ]
     },
     "execution_count": 36,
     "metadata": {},
     "output_type": "execute_result"
    }
   ],
   "source": [
    "hands = [\n",
    "['J', 'Q', 'K'],\n",
    "['2', '2', '2'],\n",
    "['6', 'A', 'K']\n",
    "]\n",
    "\n",
    "len(hands)"
   ]
  },
  {
   "cell_type": "markdown",
   "metadata": {},
   "source": [
    "<div class=\"alert alert-block alert-light\">\n",
    "\n",
    "<div style=\"display: flex; justify-content: space-between;\">\n",
    "<div style=\"width: 48%; line-height: 1.3;\">\n",
    "\n",
    "#### Exercise\n",
    "Find the position of the element `A`.\n",
    "\n",
    "</div>\n",
    "<div style=\"width: 4%;\">\n",
    "</div>\n",
    "<div style=\"width: 48%; line-height: 1.3;color: grey;\">\n",
    "\n",
    "#### Übung\n",
    "Finden Sie die Position des Elements `A`.\n",
    "\n",
    "</div>\n",
    "</div>"
   ]
  },
  {
   "cell_type": "code",
   "execution_count": null,
   "metadata": {},
   "outputs": [],
   "source": [
    "#countdown\n",
    "countdown_timer(5)"
   ]
  },
  {
   "cell_type": "code",
   "execution_count": null,
   "metadata": {},
   "outputs": [
    {
     "data": {
      "text/plain": [
       "'A'"
      ]
     },
     "metadata": {},
     "output_type": "display_data"
    }
   ],
   "source": [
    "hands[2][1] "
   ]
  },
  {
   "cell_type": "markdown",
   "metadata": {},
   "source": [
    "<div style=\"display: flex; justify-content: space-between;\">\n",
    "<div style=\"width: 48%; line-height: 1.5;\">\n",
    " \n",
    "## Slicing \n",
    "\n",
    "Slicing allows you to access a subset of a list by specifying a start index, an end index, and an optional step. \n",
    "\n",
    "Like for strings, the syntax for slicing is:\n",
    "\n",
    "```python\n",
    "list[start:end:step]\n",
    "```\n",
    "\n",
    "</div>\n",
    "<div style=\"width: 4%;\">\n",
    "</div>\n",
    "<div style=\"width: 48%; line-height: 1.5;color: grey;\">\n",
    "\n",
    "## Slicing \n",
    "\n",
    "Mit Slicing können Sie auf eine Teilmenge einer Liste zugreifen, indem Sie einen Startindex, einen Endindex und einen optionalen Schritt angeben. \n",
    "\n",
    "Wie bei Zeichenketten lautet die Syntax für Slicing:\n",
    "\n",
    "</div>\n",
    "</div>"
   ]
  },
  {
   "cell_type": "markdown",
   "metadata": {},
   "source": [
    "<div style=\"display: flex; justify-content: space-between;\">\n",
    "<div style=\"width: 48%; line-height: 1.5;\">\n",
    "\n",
    "Beware: the right slice index specifies where we want to stop slicing, and is **not** included in the returned slice.\n",
    "\n",
    "The starting and ending indices in slicing are both optional.\n",
    "\n",
    "-  If you omit the start index, it defaults to `0`, meaning the slice begins from the start of the list. \n",
    "\n",
    "-  If you omit the end index, it defaults to the length of the list, meaning the slice extends to the end of the list.\n",
    "\n",
    "-  If you omit both the starting and ending indices but keep a value `n` for the step, you get every n-th value from the entire list.\n",
    "\n",
    "</div>\n",
    "<div style=\"width: 4%;\">\n",
    "</div>\n",
    "<div style=\"width: 48%; line-height: 1.5;color: grey;\">\n",
    "\n",
    "Achtung: Der rechte Slice-Index gibt an, wo wir mit dem Slicen aufhören wollen, und ist **nicht** im zurückgegebenen Slice enthalten.\n",
    "\n",
    "Die Start- und Endindizes beim Slicing sind beide optional.\n",
    "\n",
    "- Wenn Sie den Startindex weglassen, ist er standardmäßig `0`, was bedeutet, dass das Slicing am Anfang der Liste beginnt.\n",
    "\n",
    "-  Wenn Sie den Endindex weglassen, wird er auf die Länge der Liste gesetzt, was bedeutet, dass das Slicing bis zum Ende der Liste reicht.\n",
    "\n",
    "-  Wenn Sie sowohl den Start- als auch den Endindex weglassen, aber einen Wert `n` für den Schritt beibehalten, erhalten Sie jeden n-ten Wert der gesamten Liste.\n",
    "\n",
    "</div>\n",
    "</div>"
   ]
  },
  {
   "cell_type": "markdown",
   "metadata": {},
   "source": [
    "<div class=\"alert alert-block alert-light\">\n",
    "\n",
    "<div style=\"display: flex; justify-content: space-between;\">\n",
    "<div style=\"width: 48%; line-height: 1.3;\">\n",
    "\n",
    "#### Exercise\n",
    "\n",
    "-  Create a list of the first 10 integers\n",
    "\n",
    "-  Extract all odd numbers\n",
    "\n",
    "-  Extract all even numbers\n",
    "\n",
    "</div>\n",
    "<div style=\"width: 4%;\">\n",
    "</div>\n",
    "<div style=\"width: 48%; line-height: 1.3;color: grey;\">\n",
    "\n",
    "#### Übung\n",
    "\n",
    "-  Erstellen einer Liste mit den ersten 10 ganzen Zahlen\n",
    "\n",
    "-  Extrahiere alle ungeraden Zahlen\n",
    "\n",
    "-  Extrahiere alle geraden Zahlen\n",
    "\n",
    "</div>\n",
    "</div>"
   ]
  },
  {
   "cell_type": "code",
   "execution_count": null,
   "metadata": {},
   "outputs": [],
   "source": [
    "#countdown\n",
    "countdown_timer(5)"
   ]
  },
  {
   "cell_type": "code",
   "execution_count": null,
   "metadata": {},
   "outputs": [],
   "source": [
    "numbers = [1,2,3,4,5,6,7,8,9,10]\n",
    "\n",
    "odd_numbers = numbers[::2]\n",
    "print(odd_numbers)\n",
    "\n",
    "even_numbers = numbers[1::2]\n",
    "print(even_numbers)"
   ]
  },
  {
   "cell_type": "code",
   "execution_count": 51,
   "metadata": {},
   "outputs": [],
   "source": [
    "german_national_team = [\n",
    "# Goalkeepers/Torhüter\n",
    "\"Manuel Neuer\", \n",
    "\"Marc-André ter Stegen\", \n",
    "\"Oliver Baumann\",\n",
    "\n",
    "# Defenders/Verteidiger\n",
    "\"Antonio Rüdiger\", \n",
    "\"Nico Schlotterbeck\", \n",
    "\"David Raum\", \n",
    "\"Waldemar Anton\", \n",
    "\"Jonathan Tah\", \n",
    "\"Robin Koch\", \n",
    "\"Maximilian Mittelstädt\", \n",
    "\"Benjamin Henrichs\", \n",
    "\"Joshua Kimmich\",\n",
    "\n",
    "# Midfielders/Mittelfeldspieler\n",
    "\"Ilkay Gündogan\", \n",
    "\"Jamal Musiala\", \n",
    "\"Leroy Sané\", \n",
    "\"Florian Wirtz\", \n",
    "\"Pascal Groß\", \n",
    "\"Emre Can\", \n",
    "\"Robert Andrich\", \n",
    "\"Chris Führich\", \n",
    "\"Toni Kroos\",\n",
    "\n",
    "# Forwards/Stürmer\n",
    "\"Kai Havertz\", \n",
    "\"Niclas Füllkrug\", \n",
    "\"Thomas Müller\", \n",
    "\"Maximilian Beier\", \n",
    "\"Deniz Undav\"\n",
    "]"
   ]
  },
  {
   "cell_type": "markdown",
   "metadata": {},
   "source": [
    "<div class=\"alert alert-block alert-light\">\n",
    "\n",
    "<div style=\"display: flex; justify-content: space-between;\">\n",
    "<div style=\"width: 48%; line-height: 1.5;\">\n",
    "\n",
    "#### Exercise\n",
    "\n",
    "- Using list slicing, extract the goalkeepers, defenders, midfielders, and forwards from the `german_national_team` list. \n",
    " \n",
    "- Assign the results to variables with descriptive names for each group of players.\n",
    "\n",
    "</div>\n",
    "<div style=\"width: 4%;\">\n",
    "</div>\n",
    "<div style=\"width: 48%; line-height: 1.5;color: grey;\">\n",
    "\n",
    "#### Übung\n",
    "\n",
    "- Extrahieren Sie mithilfe von List Slicing die Torhüter, Verteidiger, Mittelfeldspieler und Stürmer aus der Liste \"German_national_team\".\n",
    " \n",
    "- Weisen Sie die Ergebnisse den Variablen mit beschreibenden Namen.\n",
    "\n",
    "</div>\n",
    "</div>"
   ]
  },
  {
   "cell_type": "code",
   "execution_count": null,
   "metadata": {},
   "outputs": [],
   "source": [
    "#countdown\n",
    "countdown_timer(10)"
   ]
  },
  {
   "cell_type": "code",
   "execution_count": 64,
   "metadata": {},
   "outputs": [
    {
     "name": "stdout",
     "output_type": "stream",
     "text": [
      "['Manuel Neuer', 'Marc-André ter Stegen', 'Oliver Baumann']\n",
      "['Antonio Rüdiger', 'Nico Schlotterbeck', 'David Raum', 'Waldemar Anton', 'Jonathan Tah', 'Robin Koch', 'Maximilian Mittelstädt', 'Benjamin Henrichs', 'Joshua Kimmich']\n",
      "['Ilkay Gündogan', 'Jamal Musiala', 'Leroy Sané', 'Florian Wirtz', 'Pascal Groß', 'Emre Can', 'Robert Andrich', 'Chris Führich', 'Toni Kroos']\n",
      "['Kai Havertz', 'Niclas Füllkrug', 'Thomas Müller', 'Maximilian Beier', 'Deniz Undav']\n"
     ]
    }
   ],
   "source": [
    "goalkeepers = german_national_team[:3] \n",
    "print(goalkeepers)  \n",
    "\n",
    "defenders = german_national_team[3:12] \n",
    "print(defenders)  \n",
    "\n",
    "midfielders = german_national_team[12:21] \n",
    "print(midfielders)  \n",
    "\n",
    "forwards = german_national_team[21:] \n",
    "print(forwards)  "
   ]
  },
  {
   "cell_type": "markdown",
   "metadata": {},
   "source": [
    "<div style=\"display: flex; justify-content: space-between;\">\n",
    "<div style=\"width: 48%; line-height: 1.5;\">\n",
    "\n",
    "## Manipulating lists \n",
    "\n",
    "Lists are *mutable* (unlike strings!), which means you can change their contents directly. \n",
    "\n",
    "You can modify a list by assigning new values to specific indices or slices. \n",
    "\n",
    "For example, you can update individual elements or replace a range of elements using indexing or slicing.\n",
    "\n",
    "</div>\n",
    "<div style=\"width: 4%;\">\n",
    "</div>\n",
    "<div style=\"width: 48%; line-height: 1.5;color: grey;\">\n",
    "\n",
    "## Listen manipulieren\n",
    "\n",
    "Listen sind *veränderlich* (im Gegensatz zu Strings!), d.h. ihr Inhalt kann direkt geändert werden. \n",
    "\n",
    "Sie können eine Liste ändern, indem Sie bestimmten Indizes oder Slices neue Werte zuweisen. \n",
    "\n",
    "So können Sie beispielsweise einzelne Elemente aktualisieren oder einen Bereich von Elementen durch Indizierung oder Slicing ersetzen.\n",
    "\n",
    "</div>\n",
    "</div>"
   ]
  },
  {
   "cell_type": "code",
   "execution_count": null,
   "metadata": {},
   "outputs": [],
   "source": [
    "planets"
   ]
  },
  {
   "cell_type": "markdown",
   "metadata": {},
   "source": [
    "<div style=\"display: flex; justify-content: space-between;\">\n",
    "<div style=\"width: 48%; line-height: 1.5;\">\n",
    "\n",
    "### Replacing elements   \n",
    "\n",
    " To change the value of an individual element, we assign a new value to its index, similar to how we would assign a new value to a variable:\n",
    " \n",
    "</div>\n",
    "<div style=\"width: 4%;\">\n",
    "</div>\n",
    "<div style=\"width: 48%; line-height: 1.5;color: grey;\">\n",
    "\n",
    "###  Elemente ersetzen \n",
    "\n",
    "Um den Wert eines einzelnen Elements zu ändern, weisen wir seinem Index einen neuen Wert zu, ähnlich wie wir einer Variablen einen neuen Wert zuweisen würden:\n",
    "\n",
    "</div>\n",
    "</div>"
   ]
  },
  {
   "cell_type": "code",
   "execution_count": null,
   "metadata": {},
   "outputs": [],
   "source": [
    "planets[3] = 'Tatooine'\n",
    "\n",
    "planets"
   ]
  },
  {
   "cell_type": "markdown",
   "metadata": {},
   "source": [
    "<div style=\"display: flex; justify-content: space-between;\">\n",
    "<div style=\"width: 48%; line-height: 1.3;\">\n",
    " You can use list slicing to replace several elements simultaneously:\n",
    " \n",
    "</div>\n",
    "<div style=\"width: 4%;\">\n",
    "</div>\n",
    "<div style=\"width: 48%; line-height: 1.3;color: grey;\">\n",
    " Sie können die Listenaufteilung verwenden, um mehrere Elemente gleichzeitig zu ersetzen:\n",
    "\n",
    "</div>\n",
    "</div>"
   ]
  },
  {
   "cell_type": "code",
   "execution_count": null,
   "metadata": {},
   "outputs": [],
   "source": [
    "planets[:2] = ['Krypton', 'Solaris']\n",
    "\n",
    "planets"
   ]
  },
  {
   "cell_type": "markdown",
   "metadata": {},
   "source": [
    "<div class=\"alert alert-block alert-light\">\n",
    "\n",
    "<div style=\"display: flex; justify-content: space-between;\">\n",
    "<div style=\"width: 48%; line-height: 1.5;\">\n",
    "\n",
    "#### Exercise\n",
    "\n",
    "Change the planet names back to those of our solar system using indexing and slicing.\n",
    "\n",
    "</div>\n",
    "<div style=\"width: 4%;\">\n",
    "</div>\n",
    "<div style=\"width: 48%; line-height: 1.5;color: grey;\">\n",
    "\n",
    "#### Übung\n",
    "\n",
    "Ändern Sie die Planetennamen mit Hilfe von Indizierung und Slicing in die Namen unseres Sonnensystems zurück.\n",
    "\n",
    "</div>\n",
    "</div>"
   ]
  },
  {
   "cell_type": "code",
   "execution_count": null,
   "metadata": {},
   "outputs": [],
   "source": [
    "#countdown\n",
    "countdown_timer(5)"
   ]
  },
  {
   "cell_type": "markdown",
   "metadata": {},
   "source": [
    "<div style=\"display: flex; justify-content: space-between;\">\n",
    "<div style=\"width: 48%; line-height: 1.5;\">\n",
    "\n",
    "If an element is a number, we can manipulate it *individually* using mathematical operations:\n",
    "\n",
    "</div>\n",
    "<div style=\"width: 4%;\">\n",
    "</div>\n",
    "<div style=\"width: 48%; line-height: 1.5;color: grey;\">\n",
    "\n",
    "Handelt es sich bei einem Element um eine Zahl, können wir es *einzeln* mit mathematischen Operationen manipulieren:\n",
    "\n",
    "</div>\n",
    "</div>"
   ]
  },
  {
   "cell_type": "code",
   "execution_count": 12,
   "metadata": {},
   "outputs": [],
   "source": [
    "some_numbers = [2, 2, 2, 2]"
   ]
  },
  {
   "cell_type": "code",
   "execution_count": 13,
   "metadata": {},
   "outputs": [
    {
     "data": {
      "text/plain": [
       "[9, 0.6666666666666666, 4, 4096]"
      ]
     },
     "execution_count": 13,
     "metadata": {},
     "output_type": "execute_result"
    }
   ],
   "source": [
    "some_numbers[0] = some_numbers[0]+7\n",
    "\n",
    "some_numbers[1] = some_numbers[1]/3\n",
    "\n",
    "some_numbers[2] = some_numbers[2]*2\n",
    "\n",
    "some_numbers[3] = some_numbers[3]**12\n",
    "\n",
    "some_numbers"
   ]
  },
  {
   "cell_type": "markdown",
   "metadata": {},
   "source": [
    "<div style=\"text-align: center;\">\n",
    "    <img src=\"https://as2.ftcdn.net/v2/jpg/05/69/06/05/1000_F_569060502_YJQ1tWapokv0Rwl6NYZXFF4xraGDwQ6d.jpg\" style=\"width: 60%; max-width: 100px;\">\n",
    "</div>\n",
    "\n",
    "<div style=\"display: flex; justify-content: space-between;\">\n",
    "<div style=\"width: 48%; line-height: 1.5;\">\n",
    "\n",
    "But be careful: \n",
    "\n",
    "This does not mean that you can perform mathematical operations on lists.\n",
    "\n",
    "When you try to perform a mathematical operation on a list (like addition, subtraction, multiplication, or division), Python raises a `TypeError` because lists are not designed to support direct element-wise arithmetic operations.\n",
    "\n",
    "</div>\n",
    "<div style=\"width: 4%;\">\n",
    "</div>\n",
    "<div style=\"width: 48%; line-height: 1.3;color: grey;\">\n",
    "\n",
    "Aber Vorsicht: \n",
    "\n",
    "Das bedeutet nicht, dass Sie mathematische Operationen mit Listen durchführen können.\n",
    "\n",
    "Wenn Sie versuchen, eine mathematische Operation mit einer Liste durchzuführen (wie Addition, Subtraktion, Multiplikation oder Division), gibt Python einen `TypeError` aus, weil Listen nicht dafür ausgelegt sind, direkte elementweise arithmetische Operationen zu unterstützen. \n",
    "\n",
    "</div>\n",
    "</div>"
   ]
  },
  {
   "cell_type": "code",
   "execution_count": 86,
   "metadata": {},
   "outputs": [
    {
     "ename": "TypeError",
     "evalue": "can only concatenate list (not \"int\") to list",
     "output_type": "error",
     "traceback": [
      "\u001b[0;31m---------------------------------------------------------------------------\u001b[0m",
      "\u001b[0;31mTypeError\u001b[0m                                 Traceback (most recent call last)",
      "Cell \u001b[0;32mIn[86], line 1\u001b[0m\n\u001b[0;32m----> 1\u001b[0m \u001b[43msome_numbers\u001b[49m\u001b[43m \u001b[49m\u001b[38;5;241;43m+\u001b[39;49m\u001b[43m \u001b[49m\u001b[38;5;241;43m2\u001b[39;49m\n",
      "\u001b[0;31mTypeError\u001b[0m: can only concatenate list (not \"int\") to list"
     ]
    }
   ],
   "source": [
    "some_numbers + 2"
   ]
  },
  {
   "cell_type": "code",
   "execution_count": 87,
   "metadata": {},
   "outputs": [
    {
     "ename": "TypeError",
     "evalue": "unsupported operand type(s) for /: 'list' and 'int'",
     "output_type": "error",
     "traceback": [
      "\u001b[0;31m---------------------------------------------------------------------------\u001b[0m",
      "\u001b[0;31mTypeError\u001b[0m                                 Traceback (most recent call last)",
      "Cell \u001b[0;32mIn[87], line 1\u001b[0m\n\u001b[0;32m----> 1\u001b[0m \u001b[43msome_numbers\u001b[49m\u001b[43m \u001b[49m\u001b[38;5;241;43m/\u001b[39;49m\u001b[43m \u001b[49m\u001b[38;5;241;43m2\u001b[39;49m\n",
      "\u001b[0;31mTypeError\u001b[0m: unsupported operand type(s) for /: 'list' and 'int'"
     ]
    }
   ],
   "source": [
    "some_numbers / 2"
   ]
  },
  {
   "cell_type": "markdown",
   "metadata": {},
   "source": [
    "<div style=\"display: flex; justify-content: space-between;\">\n",
    "<div style=\"width: 48%; line-height: 1.5;\">\n",
    "\n",
    "Multiplying a list by an integer *repeats* the list, but it doesn’t multiply each element.\n",
    "\n",
    "For element-wise operations, we will use *arrays* and a library called `NumPy`. \n",
    "\n",
    "</div>\n",
    "<div style=\"width: 4%;\">\n",
    "</div>\n",
    "<div style=\"width: 48%; line-height: 1.3;color: grey;\">\n",
    "\n",
    "Die Multiplikation einer Liste mit einer ganzen Zahl *wiederholt* die Liste, aber sie multipliziert nicht jedes Element.\n",
    "\n",
    "Für elementweise Operationen werden wir *arrays* und eine Bibliothek namens `NumPy` verwenden.\n",
    "\n",
    "</div>\n",
    "</div>"
   ]
  },
  {
   "cell_type": "code",
   "execution_count": 30,
   "metadata": {},
   "outputs": [
    {
     "data": {
      "text/plain": [
       "[9,\n",
       " 0.6666666666666666,\n",
       " 4,\n",
       " 4096,\n",
       " 9,\n",
       " 0.6666666666666666,\n",
       " 4,\n",
       " 4096,\n",
       " 9,\n",
       " 0.6666666666666666,\n",
       " 4,\n",
       " 4096]"
      ]
     },
     "execution_count": 30,
     "metadata": {},
     "output_type": "execute_result"
    }
   ],
   "source": [
    "some_numbers * 3"
   ]
  },
  {
   "cell_type": "markdown",
   "metadata": {},
   "source": [
    "<div style=\"display: flex; justify-content: space-between;\">\n",
    "<div style=\"width: 48%; line-height: 1.5;\">\n",
    "\n",
    "### Adding elements    \n",
    " There are several methods for adding single elements to a list, depending on the desired position of the new element.\n",
    " \n",
    "</div>\n",
    "<div style=\"width: 4%;\">\n",
    "</div>\n",
    "<div style=\"width: 48%; line-height: 1.5;color: grey;\">\n",
    "\n",
    "### Elemente hinzufügen \n",
    "Es gibt mehrere Methoden, um einzelne Elemente an eine Liste anzufügen, je nachdem, an welcher Stelle das neue Element stehen soll.\n",
    "\n",
    "</div>\n",
    "</div>"
   ]
  },
  {
   "cell_type": "markdown",
   "metadata": {},
   "source": [
    "#### `append()`"
   ]
  },
  {
   "cell_type": "markdown",
   "metadata": {},
   "source": [
    "<div style=\"display: flex; justify-content: space-between;\">\n",
    "<div style=\"width: 48%; line-height: 1.3;\">\n",
    "\n",
    "To add an element to the end of a list, we use the `append()` method.\n",
    "\n",
    "The `list.append()` method is one of the most commonly used commands to add elements to the end of a list.\n",
    "\n",
    "The `list.append()` method is especially useful when combined with *loops*, allowing you to add multiple elements to a list efficiently. \n",
    "\n",
    "As we’ll see, loops and `append()` work together to make list-building quick and scalable.\n",
    " \n",
    "</div>\n",
    "<div style=\"width: 4%;\">\n",
    "</div>\n",
    "<div style=\"width: 48%; line-height: 1.3;color: grey;\">\n",
    "\n",
    "Um ein Element am Ende einer Liste hinzuzufügen, verwenden wir die Methode `append()`.\n",
    "\n",
    "Die Methode `list.append()` ist einer der am häufigsten verwendeten Befehle, um Elemente an das Ende einer Liste anzufügen.\n",
    "\n",
    "Die Methode `list.append()` ist besonders nützlich, wenn sie mit *Schleifen* kombiniert wird, so dass Sie einer Liste effizient mehrere Elemente hinzufügen können.\n",
    "\n",
    "Wie wir sehen werden, arbeiten Schleifen und `append()` zusammen, um das Erstellen von Listen schnell und skalierbar zu machen.\n",
    "\n",
    "</div>\n",
    "</div>\n",
    "\n",
    "```python\n",
    "list.append(item)\n",
    "```"
   ]
  },
  {
   "cell_type": "code",
   "execution_count": null,
   "metadata": {},
   "outputs": [],
   "source": [
    "letters=[\"b\", \"c\", \"d\", \"f\"]"
   ]
  },
  {
   "cell_type": "code",
   "execution_count": null,
   "metadata": {},
   "outputs": [],
   "source": [
    "letters.append(\"g\")\n",
    "letters.append(\"h\")\n",
    "\n",
    "letters"
   ]
  },
  {
   "cell_type": "markdown",
   "metadata": {},
   "source": [
    "#### `insert()`"
   ]
  },
  {
   "cell_type": "markdown",
   "metadata": {},
   "source": [
    "<div style=\"display: flex; justify-content: space-between;\">\n",
    "<div style=\"width: 48%; line-height: 1.5;\">\n",
    "\n",
    " We use the `insert()` method to add new entries to the beginning or middle of a list. \n",
    " \n",
    " This method is slightly more complex than `append()` because it requires two arguments rather than one. \n",
    " \n",
    " The first argument specifies the position—using the list index—where the new element will be inserted, and the second argument is the new element itself:\n",
    " \n",
    "</div>\n",
    "<div style=\"width: 4%;\">\n",
    "</div>\n",
    "<div style=\"width: 48%; line-height: 1.5;color: grey;\">\n",
    "\n",
    "Wir verwenden die Methode `insert()`, um neue Einträge am Anfang oder in der Mitte einer Liste hinzuzufügen. \n",
    "\n",
    "Diese Methode ist etwas komplizierter als `append()`, da sie zwei Argumente statt einem benötigt. \n",
    "\n",
    "Das erste Argument gibt die Position an, an der das neue Element eingefügt werden soll, und das zweite Argument ist das neue Element selbst:\n",
    "\n",
    "</div>\n",
    "</div>\n",
    "\n",
    "```python\n",
    "list.insert(i, element)\n",
    "```"
   ]
  },
  {
   "cell_type": "code",
   "execution_count": null,
   "metadata": {},
   "outputs": [],
   "source": [
    "letters"
   ]
  },
  {
   "cell_type": "code",
   "execution_count": null,
   "metadata": {},
   "outputs": [],
   "source": [
    "letters.insert(0, \"a\")\n",
    "\n",
    "letters.insert(4, \"e\")\n",
    "\n",
    "letters"
   ]
  },
  {
   "cell_type": "markdown",
   "metadata": {},
   "source": [
    "#### `list_a + list_b`"
   ]
  },
  {
   "cell_type": "markdown",
   "metadata": {},
   "source": [
    "<div style=\"display: flex; justify-content: space-between;\">\n",
    "<div style=\"width: 48%; line-height: 1.3;\">\n",
    " If we \"add\" two lists together, we create a new list containing the elements from each:\n",
    " \n",
    "</div>\n",
    "<div style=\"width: 4%;\">\n",
    "</div>\n",
    "<div style=\"width: 48%; line-height: 1.3;color: grey;\">\n",
    " Wenn wir zwei Listen \"addieren\", erstellen wir eine neue Liste, die die Elemente der beiden Listen enthält:\n",
    "\n",
    "</div>\n",
    "</div>"
   ]
  },
  {
   "cell_type": "code",
   "execution_count": 21,
   "metadata": {},
   "outputs": [
    {
     "name": "stdout",
     "output_type": "stream",
     "text": [
      "[1, 3, 5, 7, 9]\n",
      "[2, 4, 6, 8, 10]\n"
     ]
    }
   ],
   "source": [
    "numbers = [1,2,3,4,5,6,7,8,9,10]\n",
    "\n",
    "odd_numbers = numbers[::2]\n",
    "print(odd_numbers)\n",
    "\n",
    "even_numbers = numbers[1::2]\n",
    "print(even_numbers)"
   ]
  },
  {
   "cell_type": "code",
   "execution_count": 22,
   "metadata": {},
   "outputs": [
    {
     "data": {
      "text/plain": [
       "[1, 3, 5, 7, 9, 2, 4, 6, 8, 10]"
      ]
     },
     "execution_count": 22,
     "metadata": {},
     "output_type": "execute_result"
    }
   ],
   "source": [
    "odd_numbers + even_numbers"
   ]
  },
  {
   "cell_type": "markdown",
   "metadata": {},
   "source": [
    "<div style=\"display: flex; justify-content: space-between;\">\n",
    "<div style=\"width: 48%; line-height: 1.5;\">\n",
    " The elements are added in the order they appear; we will see in a moment how to sort them in a meaningful way.\n",
    " \n",
    "</div>\n",
    "<div style=\"width: 4%;\">\n",
    "</div>\n",
    "<div style=\"width: 48%; line-height: 1.5;color: grey;\">\n",
    " Die Elemente werden in der Reihenfolge hinzugefügt, in der sie erscheinen; wir werden gleich sehen, wie man sie sinnvoll sortiert.\n",
    "\n",
    "</div>\n",
    "</div>"
   ]
  },
  {
   "cell_type": "markdown",
   "metadata": {},
   "source": [
    "<div class=\"alert alert-block alert-light\">\n",
    "\n",
    "<div style=\"display: flex; justify-content: space-between;\">\n",
    "<div style=\"width: 48%; line-height: 1.5;\">\n",
    "\n",
    "#### Exercise\n",
    "\n",
    "The list `powers` in the code below is intended to contain the first eight values of $2^n$ (i.e., for values of n ranging from 0 to 7 inclusive). \n",
    "\n",
    "However, the list currently has some missing elements and contains incorrect values:\n",
    "\n",
    "- Change the value of any existing elements that are incorrect.\n",
    "\n",
    "- Add any missing elements to ensure that the list contains the correct values.\n",
    "\n",
    "</div>\n",
    "<div style=\"width: 4%;\">\n",
    "</div>\n",
    "<div style=\"width: 48%; line-height: 1.5;color: grey;\">\n",
    "\n",
    "#### Übung\n",
    "\n",
    "Die Liste der Potenzen `powers` in der unten stehenden Codebox soll die ersten acht Werte von $2^n$ enthalten (d. h. für Werte von n von 0 bis einschließlich 7). \n",
    "\n",
    "Allerdings fehlen in der Liste derzeit einige Elemente und sie enthält falsche Werte:\n",
    "\n",
    "- Ändern Sie den Wert aller vorhandenen Elemente, die nicht korrekt sind.\n",
    "\n",
    "- Fügen Sie alle fehlenden Elemente hinzu, um sicherzustellen, dass die Liste die richtigen Werte enthält.\n",
    "</div>\n",
    "</div>\n",
    "\n",
    "```python\n",
    "powers=[1, 2, 5, 8, 33, 63]\n",
    "```"
   ]
  },
  {
   "cell_type": "code",
   "execution_count": null,
   "metadata": {},
   "outputs": [],
   "source": [
    "#countdown\n",
    "countdown_timer(5)"
   ]
  },
  {
   "cell_type": "code",
   "execution_count": 74,
   "metadata": {},
   "outputs": [
    {
     "name": "stdout",
     "output_type": "stream",
     "text": [
      "[1, 2, 4, 8, 32, 64, 128]\n"
     ]
    }
   ],
   "source": [
    "powers = [1, 2, 5, 8, 33, 63]\n",
    "\n",
    "powers[2] = 4\n",
    "\n",
    "powers[4] = 32\n",
    "\n",
    "powers[5] = 64\n",
    "\n",
    "powers.append(128)\n",
    "\n",
    "print(powers)"
   ]
  },
  {
   "cell_type": "markdown",
   "metadata": {},
   "source": [
    "<div style=\"display: flex; justify-content: space-between;\">\n",
    "<div style=\"width: 48%; line-height: 1.5;\">\n",
    "\n",
    "### Removing elements    \n",
    "\n",
    "Remove an item from a list with `list.remove()`, and put the item you would like to remove in parentheses:\n",
    " \n",
    "</div>\n",
    "<div style=\"width: 4%;\">\n",
    "</div>\n",
    "<div style=\"width: 48%; line-height: 1.5;color: grey;\">\n",
    "\n",
    "###  Elemente entfernen \n",
    "\n",
    "Entfernen Sie ein Element aus einer Liste mit `list.remove()`, und setzen Sie das Element, das Sie entfernen möchten, in Klammern:\n",
    "\n",
    "</div>\n",
    "</div>\n",
    "\n",
    "```python\n",
    "list.remove(item)\n",
    "```"
   ]
  },
  {
   "cell_type": "code",
   "execution_count": 70,
   "metadata": {},
   "outputs": [],
   "source": [
    "# A list of prime numbers containing incorrect entries\n",
    "\n",
    "prime_numbers = [2, 3, 4, 5, 8, 11, 15]"
   ]
  },
  {
   "cell_type": "code",
   "execution_count": 71,
   "metadata": {},
   "outputs": [],
   "source": [
    "# 4 is not a prime number\n",
    "\n",
    "prime_numbers.remove(4)"
   ]
  },
  {
   "cell_type": "code",
   "execution_count": 72,
   "metadata": {},
   "outputs": [
    {
     "data": {
      "text/plain": [
       "[2, 3, 5, 8, 11, 15]"
      ]
     },
     "execution_count": 72,
     "metadata": {},
     "output_type": "execute_result"
    }
   ],
   "source": [
    "# Please note that after an element is removed, the indexes of all following elements shift down by one.\n",
    "\n",
    "prime_numbers"
   ]
  },
  {
   "cell_type": "code",
   "execution_count": 75,
   "metadata": {},
   "outputs": [
    {
     "data": {
      "text/plain": [
       "[2, 3, 5, 11, 15]"
      ]
     },
     "execution_count": 75,
     "metadata": {},
     "output_type": "execute_result"
    }
   ],
   "source": [
    "# 8 is not a prime number\n",
    "\n",
    "prime_numbers.remove(8)\n",
    "\n",
    "prime_numbers"
   ]
  },
  {
   "cell_type": "markdown",
   "metadata": {},
   "source": [
    "<div style=\"display: flex; justify-content: space-between;\">\n",
    "<div style=\"width: 48%; line-height: 1.3;\">\n",
    "\n",
    "## Some useful functions \n",
    "</div>\n",
    "<div style=\"width: 4%;\">\n",
    "</div>\n",
    "<div style=\"width: 48%; line-height: 1.3;color: grey;\">\n",
    "\n",
    "## Einige nützliche Funktionen\n",
    "</div>\n",
    "</div>"
   ]
  },
  {
   "cell_type": "markdown",
   "metadata": {},
   "source": [
    "#### `in` (membership test)"
   ]
  },
  {
   "cell_type": "markdown",
   "metadata": {},
   "source": [
    "<div style=\"display: flex; justify-content: space-between;\">\n",
    "<div style=\"width: 48%; line-height: 1.5;\">\n",
    "\n",
    "The `in` membership test in Python checks if a specified element exists within a sequence (like a list, tuple, or string) and returns a boolean result:\n",
    " \n",
    "</div>\n",
    "<div style=\"width: 4%;\">\n",
    "</div>\n",
    "<div style=\"width: 48%; line-height: 1.5;color: grey;\">\n",
    "\n",
    "Der `in`-Mitgliedschaftstest in Python prüft, ob ein angegebenes Element innerhalb einer Sequenz (wie einer Liste, einem Tupel oder einer Zeichenkette) existiert und gibt ein boolesches Ergebnis zurück:\n",
    "\n",
    "</div>\n",
    "</div>"
   ]
  },
  {
   "cell_type": "code",
   "execution_count": 27,
   "metadata": {},
   "outputs": [
    {
     "data": {
      "text/plain": [
       "True"
      ]
     },
     "execution_count": 27,
     "metadata": {},
     "output_type": "execute_result"
    }
   ],
   "source": [
    "# Is Pluto a planet?\n",
    "\n",
    "\"Pluto\" in planets"
   ]
  },
  {
   "cell_type": "markdown",
   "metadata": {},
   "source": [
    "#### `sorted()`"
   ]
  },
  {
   "cell_type": "code",
   "execution_count": 23,
   "metadata": {},
   "outputs": [
    {
     "data": {
      "text/plain": [
       "['Earth',\n",
       " 'Jupiter',\n",
       " 'Mars',\n",
       " 'Mercury',\n",
       " 'Neptune',\n",
       " 'Pluto',\n",
       " 'Saturn',\n",
       " 'Uranus',\n",
       " 'Venus']"
      ]
     },
     "execution_count": 23,
     "metadata": {},
     "output_type": "execute_result"
    }
   ],
   "source": [
    "sorted(planets)"
   ]
  },
  {
   "cell_type": "code",
   "execution_count": 26,
   "metadata": {},
   "outputs": [],
   "source": [
    "planets.sort()"
   ]
  },
  {
   "cell_type": "markdown",
   "metadata": {},
   "source": [
    "<div class=\"alert alert-block alert-light\">\n",
    "\n",
    "<div style=\"display: flex; justify-content: space-between;\">\n",
    "<div style=\"width: 48%; line-height: 1.3;\">\n",
    "\n",
    "#### Exercise\n",
    "\n",
    " Sort the outcome of `odd_numbers + even_numbers`.\n",
    "\n",
    "</div>\n",
    "<div style=\"width: 4%;\">\n",
    "</div>\n",
    "<div style=\"width: 48%; line-height: 1.3;color: grey;\">\n",
    "\n",
    "#### Übung\n",
    "\n",
    " Sortieren Sie das Ergebnis von `ungerade_Zahlen + gerade_Zahlen`.\n",
    "</div>\n",
    "</div>"
   ]
  },
  {
   "cell_type": "code",
   "execution_count": null,
   "metadata": {},
   "outputs": [],
   "source": [
    "#countdown\n",
    "countdown_timer(5)"
   ]
  },
  {
   "cell_type": "markdown",
   "metadata": {},
   "source": [
    "#### `sum()`"
   ]
  },
  {
   "cell_type": "code",
   "execution_count": null,
   "metadata": {},
   "outputs": [],
   "source": [
    "prime_numbers = [2, 3, 5, 7, 11, 13]\n",
    "\n",
    "sum(prime_numbers)"
   ]
  },
  {
   "cell_type": "markdown",
   "metadata": {},
   "source": [
    "#### `min()`"
   ]
  },
  {
   "cell_type": "code",
   "execution_count": null,
   "metadata": {},
   "outputs": [],
   "source": [
    "min(prime_numbers)"
   ]
  },
  {
   "cell_type": "markdown",
   "metadata": {},
   "source": [
    "#### `max()`"
   ]
  },
  {
   "cell_type": "code",
   "execution_count": null,
   "metadata": {},
   "outputs": [],
   "source": [
    "max(prime_numbers)"
   ]
  },
  {
   "cell_type": "markdown",
   "metadata": {},
   "source": [
    "<div class=\"alert alert-block alert-light\">\n",
    "\n",
    "<div style=\"display: flex; justify-content: space-between;\">\n",
    "<div style=\"width: 48%; line-height: 1.5;\">\n",
    "\n",
    "####   Exercise \n",
    "\n",
    "You are provided with a list containing the last 100 annual average temperature anomalies [(source: NASA)](https://climate.nasa.gov/vital-signs/global-temperature/?intent=121).\n",
    "\n",
    "- Extract the minimum and maximum values from the list using the `min()` and `max()` functions.\n",
    "\n",
    "- Calculate the average temperature anomaly for the periods 1923-1999 and 2000-2023 by slicing the list and using the `sum()` and `len()` functions.\n",
    "\n",
    "</div>\n",
    "\n",
    "<div style=\"width: 4%;\">\n",
    "</div>\n",
    "\n",
    "<div style=\"width: 48%; line-height: 1.5;color: grey;\">\n",
    "\n",
    "#### Übung\n",
    "\n",
    "Sie erhalten eine Liste mit den letzten 100 jährlichen durchschnittlichen Temperaturanomalien [(Quelle: NASA)](https://climate.nasa.gov/vital-signs/global-temperature/?intent=121).\n",
    "\n",
    "- Extrahieren Sie die minimalen und maximalen Werte aus der Liste mit Hilfe der Funktionen `min()` und `max()`.\n",
    "\n",
    "- Berechnen Sie die durchschnittliche Temperaturanomalie für die Zeiträume 1923-1999 und 2000-2023, indem Sie die Liste schneiden und die Funktionen `sum()` und `len()` verwenden.\n",
    "\n",
    "</div>\n",
    "</div>"
   ]
  },
  {
   "cell_type": "code",
   "execution_count": 88,
   "metadata": {},
   "outputs": [],
   "source": [
    "temperature_anomalies = [\n",
    "    -0.27, -0.22, -0.11, -0.21, -0.20, -0.36, -0.15, -0.09, -0.15, -0.28,  # 1924-1933\n",
    "    -0.12, -0.19, -0.14, -0.03,  0.00, -0.02,  0.13,  0.19,  0.07,  0.09,  # 1934-1943\n",
    "     0.20,  0.09, -0.07, -0.03, -0.11, -0.11, -0.17, -0.07,  0.01,  0.08,  # 1944-1953\n",
    "    -0.13, -0.14, -0.19,  0.05,  0.06,  0.03, -0.02,  0.06,  0.03,  0.05,  # 1954-1963\n",
    "    -0.20, -0.11, -0.06, -0.02, -0.08,  0.05,  0.03, -0.08,  0.01,  0.16,  # 1964-1973\n",
    "    -0.07, -0.01, -0.10,  0.18,  0.07,  0.16,  0.26,  0.32,  0.14,  0.31,  # 1974-1983\n",
    "     0.16,  0.12,  0.18,  0.32,  0.39,  0.27,  0.45,  0.41,  0.22,  0.23,  # 1984-1993\n",
    "     0.31,  0.45,  0.33,  0.47,  0.61,  0.38,  0.39,  0.53,  0.63,  0.62,  # 1994-2003\n",
    "     0.53,  0.68,  0.64,  0.66,  0.54,  0.65,  0.72,  0.61,  0.65,  0.68,  # 2004-2013\n",
    "     0.75,  0.89,  1.01,  0.92,  0.85,  0.97,  1.01,  0.85,  0.89,  1.17   # 2014-2023\n",
    "]"
   ]
  },
  {
   "cell_type": "code",
   "execution_count": 91,
   "metadata": {},
   "outputs": [
    {
     "data": {
      "text/plain": [
       "0.050263157894736815"
      ]
     },
     "execution_count": 91,
     "metadata": {},
     "output_type": "execute_result"
    }
   ],
   "source": [
    "sum(temperature_anomalies[:-24]) / len(temperature_anomalies[:-24])"
   ]
  },
  {
   "cell_type": "code",
   "execution_count": null,
   "metadata": {},
   "outputs": [
    {
     "data": {
      "text/plain": [
       "0.7433333333333335"
      ]
     },
     "metadata": {},
     "output_type": "display_data"
    }
   ],
   "source": [
    "sum(temperature_anomalies[-24:]) / len(temperature_anomalies[-24:])"
   ]
  },
  {
   "cell_type": "code",
   "execution_count": 99,
   "metadata": {},
   "outputs": [
    {
     "data": {
      "text/plain": [
       "0.9309999999999998"
      ]
     },
     "execution_count": 99,
     "metadata": {},
     "output_type": "execute_result"
    }
   ],
   "source": [
    "sum(temperature_anomalies[-10:]) / len(temperature_anomalies[-10:])"
   ]
  },
  {
   "cell_type": "code",
   "execution_count": 111,
   "metadata": {},
   "outputs": [
    {
     "name": "stdout",
     "output_type": "stream",
     "text": [
      "  Decade    Avg \n",
      "1924-1933  -0.20\n",
      "1934-1943  -0.00\n",
      "1944-1953  -0.02\n",
      "1954-1963  -0.02\n",
      "1964-1973  -0.03\n",
      "1974-1983   0.13\n",
      "1984-1993   0.28\n",
      "1994-2003   0.47\n",
      "2004-2013   0.64\n",
      "2014-2023   0.93\n"
     ]
    }
   ],
   "source": [
    "# Decade ranges for display in the table\n",
    "start_year = 1924\n",
    "decade_length = 10\n",
    "\n",
    "# Calculating and printing the average for each decade\n",
    "print(f\"{'Decade':^10} {'Avg':^5}\")\n",
    "for i in range(0, len(temperature_anomalies), decade_length):\n",
    "    decade = f\"{start_year + i}-{start_year + i + decade_length - 1}\"\n",
    "    decade_data = temperature_anomalies[i:i + decade_length]\n",
    "    avg = sum(decade_data) / len(decade_data)\n",
    "    print(f\"{decade:<10} {avg: .2f}\")"
   ]
  },
  {
   "cell_type": "markdown",
   "metadata": {},
   "source": [
    "<div style=\"display: flex; justify-content: space-between;\">\n",
    "<div style=\"width: 48%; line-height: 1.5;\">\n",
    "\n",
    "**Lists** are highly versatile and widely used in Python for several reasons:\n",
    "\n",
    "  - **Ordered collections:** Lists maintain the order of elements, allowing for indexing, slicing, and iteration. This makes them ideal for sequences where the order matters.\n",
    "\n",
    "  - **Mutable:** Lists can be modified after creation, which means you can add, remove, or change elements as needed without creating a new list.\n",
    "  \n",
    "  - **Allow duplicates:** Lists can store duplicate elements, which is useful when the same value might need to appear multiple times.\n",
    "  \n",
    "  - **Heterogeneous data:** Lists can hold elements of different data types, such as integers, strings, or even other lists, making them flexible for various use cases.\n",
    "  \n",
    "  - **Dynamic resizing:** Lists can grow and shrink dynamically, meaning you don't have to specify the size of the list ahead of time.\n",
    "\n",
    "</div>\n",
    "<div style=\"width: 4%;\">\n",
    "</div>\n",
    "<div style=\"width: 48%; line-height: 1.3;color: grey;\">\n",
    "\n",
    "**Listen** sind sehr vielseitig und werden aus mehreren Gründen häufig verwendet:\n",
    "\n",
    "  - **Geordnete Sammlungen:** Listen behalten die Reihenfolge der Elemente bei und ermöglichen Indizierung, Aufteilung und Iteration. Das macht sie ideal für Sequenzen, bei denen die Reihenfolge wichtig ist.\n",
    "  \n",
    "  - **Veränderbar:** Listen können nach der Erstellung geändert werden, d.h. Sie können Elemente hinzufügen, entfernen oder ändern, ohne eine neue Liste zu erstellen.\n",
    "  \n",
    "  - **Zulassen von Duplikaten:** Listen können doppelte Elemente speichern, was nützlich ist, wenn derselbe Wert mehrmals vorkommen muss.\n",
    "  \n",
    "  - **Heterogene Daten:** Listen können Elemente verschiedener Datentypen enthalten, wie z. B. Ganzzahlen, Zeichenketten oder sogar andere Listen, was sie für verschiedene Anwendungsfälle flexibel macht.\n",
    "  \n",
    "  - **Dynamische Größenanpassung:** Listen können dynamisch wachsen und schrumpfen, d.h. Sie müssen die Größe der Liste nicht im Voraus festlegen.\n",
    "\n",
    "</div>\n",
    "</div>"
   ]
  },
  {
   "cell_type": "markdown",
   "metadata": {},
   "source": [
    "|                |                | Strings                       | Lists                         |\n",
    "|-------------------------|----------------------------|-------------------------------|-------------------------------|\n",
    "| **Creation**            | **Erstellung**             | `string = \"hello\"`         | `list = [1, 2, 3]`        |\n",
    "| **Mutability**          | **Veränderbarkeit**        | &cross;                    | &check;            |\n",
    "| **Ordered**               | **Geordnet**                 | &check;                | &check;               |\n",
    "| **Duplicates Allowed**    | **Duplikate erlaubt**        | &check;                | &check;               |\n",
    "| **Indexing**            | **Indexierung**            | `string[3]`              | `list[3]`               |\n",
    "| **Slicing**             | **Slicing**                | `string[1:4]`              | `list[1:4]`               |\n",
    "| **Length**              | **Länge**                  | `len(string)`              | `len(list)`               |\n",
    "| **Concatenate**         | **Verketten**              | `\"hello\" + \" world\"`          | `list + [4, 5, 6]`        |\n",
    "| **Repeat**              | **Wiederholen**            | `\"hello\" * 3`                 | `[1, 2, 3] * 3`              |\n",
    "| **Sort**                | **Sortieren**              | `sorted(string)`                | `sorted(list)`             |\n",
    "| **Add Element**         | **Element hinzufügen**     | N/A (strings are immutable)   | `list.append(4)`          |\n",
    "| **Insert Element**      | **Element einfügen**       | N/A                           | `list.insert(1, 10)`      |\n",
    "| **Remove Element**      | **Element entfernen**      | N/A                           | `list.pop(2)`          |\n",
    "| **Update Element**      | **Element aktualisieren**  | N/A                           | `list[0] = 10`            |"
   ]
  },
  {
   "cell_type": "markdown",
   "metadata": {},
   "source": [
    "<div class=\"alert alert-block alert-light\">\n",
    "\n",
    "<div style=\"display: flex; justify-content: space-between;\">\n",
    "<div style=\"width: 48%; line-height: 1.5;\">\n",
    "\n",
    "# Exercises\n",
    "</div>\n",
    "\n",
    "<div style=\"width: 48%; line-height: 1.3;color: grey;\">\n",
    "\n",
    "# Übungen\n",
    "</div>\n",
    "</div>"
   ]
  },
  {
   "cell_type": "markdown",
   "metadata": {},
   "source": [
    "<div class=\"alert alert-block alert-light\">\n",
    "\n",
    "<div style=\"display: flex; justify-content: space-between;\">\n",
    "<div style=\"width: 48%; line-height: 1.5;\">\n",
    "\n",
    "####   1 \n",
    "\n",
    "Write a Python script using f-strings to produce the following formatted output:\n",
    "```python\n",
    "k_B = 1.383e-23 J/K  \n",
    "      8.617e-05 eV/K  \n",
    "      1.381e-16 erg/K\n",
    "```\n",
    "</div>\n",
    "\n",
    "<div style=\"width: 4%;\">\n",
    "</div>\n",
    "\n",
    "<div style=\"width: 48%; line-height: 1.5;color: grey;\">\n",
    "\n",
    "#### 1\n",
    "\n",
    "Schreiben Sie ein Python-Skript, das f-strings verwendet, um die folgende formatierte Ausgabe zu erzeugen:\n",
    "```python\n",
    "k_B = 1,383e-23 J/K\n",
    "      8,617e-05 eV/K\n",
    "      1.381e-16 erg/K\n",
    "```\n",
    "\n",
    "</div>\n",
    "</div>"
   ]
  },
  {
   "cell_type": "code",
   "execution_count": null,
   "metadata": {},
   "outputs": [
    {
     "name": "stdout",
     "output_type": "stream",
     "text": [
      "k_B = 1.381e-23 J/K\n",
      "      8.617e-05 eV/K\n",
      "      1.381e-16 erg/K\n"
     ]
    }
   ],
   "source": [
    "# Using f-strings to produce formatted output with each unit on a new line, aligned\n",
    "output_multiline = (\n",
    "    f\"k_B = {kb_joules_per_kelvin:.3e} {unit_joules_per_kelvin}\\n\"\n",
    "    f\"      {kb_electron_volts_per_kelvin:.3e} {unit_electron_volts_per_kelvin}\\n\"\n",
    "    f\"      {kb_ergs_per_kelvin:.3e} {unit_ergs_per_kelvin}\"\n",
    ")\n",
    "\n",
    "print(output_multiline)"
   ]
  },
  {
   "cell_type": "code",
   "execution_count": null,
   "metadata": {},
   "outputs": [
    {
     "name": "stdout",
     "output_type": "stream",
     "text": [
      "k_B =  1.381e-23 J/K\n",
      "       8.617e-05 eV/K\n",
      "       1.381e-16 erg/K\n"
     ]
    }
   ],
   "source": [
    "# Using f-strings with a left-aligned field for \"k_B =\" and a field width for the values\n",
    "output_as_table = (\n",
    "    f\"{'k_B =':<5} {kb_joules_per_kelvin:10.3e} {unit_joules_per_kelvin}\\n\"\n",
    "    f\"{'':<5} {kb_electron_volts_per_kelvin:10.3e} {unit_electron_volts_per_kelvin}\\n\"\n",
    "    f\"{'':<5} {kb_ergs_per_kelvin:10.3e} {unit_ergs_per_kelvin}\"\n",
    ")\n",
    "\n",
    "print(output_as_table)"
   ]
  },
  {
   "cell_type": "markdown",
   "metadata": {},
   "source": [
    "<div class=\"alert alert-block alert-light\">\n",
    "\n",
    "<div style=\"display: flex; justify-content: space-between;\">\n",
    "<div style=\"width: 48%; line-height: 1.5;\">\n",
    "\n",
    "####   2 \n",
    "\n",
    "Write a Python script using f-strings to produce the following formatted output:\n",
    "```python\n",
    "Electron charge:  1.602e-19 C\n",
    "Magnetic moment: -9.285e-24 J/T\n",
    "```\n",
    "\n",
    "That is, aligning both positive and negative values at the first digit, and not at the sign.\n",
    "\n",
    "Assign variables to both numerical values and their units.\n",
    "\n",
    "</div>\n",
    "\n",
    "<div style=\"width: 4%;\">\n",
    "</div>\n",
    "\n",
    "<div style=\"width: 48%; line-height: 1.5;color: grey;\">\n",
    "\n",
    "#### 2\n",
    "\n",
    "Schreiben Sie ein Python-Skript, das f-strings verwendet, um die folgende formatierte Ausgabe zu erzeugen:\n",
    "```python\n",
    "Electron charge:  1.602e-19 C\n",
    "Magnetic moment: -9.285e-24 J/T\n",
    "```\n",
    "\n",
    "Das heißt, dass sowohl positive als auch negative Werte an der ersten Ziffer und nicht am Vorzeichen ausgerichtet werden.\n",
    "\n",
    "Weisen Sie den Variablen sowohl numerische Werte als auch deren Einheiten zu.\n",
    "\n",
    "</div>\n",
    "</div>"
   ]
  },
  {
   "cell_type": "code",
   "execution_count": 95,
   "metadata": {},
   "outputs": [
    {
     "name": "stdout",
     "output_type": "stream",
     "text": [
      "Electron charge:  1.602e-19 C\n",
      "Magnetic moment: -9.285e-24 J/T\n"
     ]
    }
   ],
   "source": [
    "# Defining the electron charge and magnetic moment with their units\n",
    "electron_charge = 1.602176634e-19  # Coulombs (C)\n",
    "magnetic_moment = -9.284764e-24  # Joules per Tesla (J/T)\n",
    "\n",
    "# Defining the units as separate variables\n",
    "charge_unit = \"C\"\n",
    "moment_unit = \"J/T\"\n",
    "\n",
    "# Printing with f-strings and space padding for alignment\n",
    "print(f\"Electron charge: {electron_charge: .3e} {charge_unit}\")\n",
    "print(f\"Magnetic moment: {magnetic_moment: .3e} {moment_unit}\")"
   ]
  },
  {
   "cell_type": "markdown",
   "metadata": {},
   "source": [
    "<div class=\"alert alert-block alert-light\">\n",
    "\n",
    "<div style=\"display: flex; justify-content: space-between;\">\n",
    "<div style=\"width: 48%; line-height: 1.5;\">\n",
    "\n",
    "#### 3\n",
    "\n",
    "- Use f-strings to create a neatly aligned table with the following structure:\n",
    "    - Left Column: Position (e.g., \"Goalkeepers\", \"Defenders\").\n",
    "    - Right Column: Player names, each on a separate row under the corresponding position.\n",
    "    - Format the table as shown below:\n",
    "\n",
    "</div>\n",
    "<div style=\"width: 4%;\">\n",
    "</div>\n",
    "<div style=\"width: 48%; line-height: 1.5;color: grey;\">\n",
    "\n",
    "#### 3\n",
    "\n",
    "- Erstellen Sie eine sauber ausgerichtete Tabelle mit der folgenden Struktur mit f-strings:\n",
    "    - Linke Spalte: Position (z. B. \"Torhüter\", \"Verteidiger\").\n",
    "    - Rechte Spalte: Spielernamen, jeder in einer eigenen Zeile unter der entsprechenden Position.\n",
    "    - Formatieren Sie die Tabelle wie unten gezeigt:\n",
    "\n",
    "</div>\n",
    "</div>"
   ]
  },
  {
   "cell_type": "markdown",
   "metadata": {},
   "source": [
    "```python\n",
    "Position        | Players\n",
    "----------------------------------------\n",
    "Goalkeepers     | Player1\n",
    "                | Player2\n",
    "                | Player3\n",
    "```\n",
    "<div class=\"alert alert-block alert-light\">\n",
    "\n",
    "<div style=\"display: flex; justify-content: space-between;\">\n",
    "<div style=\"width: 48%; line-height: 1.5;\">\n",
    "\n",
    "Hints:\n",
    "\n",
    "1. Use about 15 characters for the \"Position\" column width to leave enough room for each position name.\n",
    "You can align this by using f-strings like `f\"{'Position':<15} | Players\"`, which left-aligns the \"Position\" text within a 15-character field.\n",
    "\n",
    "2. Create a separator under the header using `-` symbols. A width of 30–40 characters should be sufficient to match your columns.\n",
    "Use `print(\"-\" * 40)` to generate this line.\n",
    "\n",
    "3. Use indexing to insert player names from the lists (e.g., `goalkeepers[0]`, `goalkeepers[1]`, etc.) rather than manually copying and pasting the names. \n",
    "\n",
    "4. Maintain alignment by using f-strings for the position and player columns. For subsequent players in each position, leave the position name column empty (`''`): use the same syntax as in hint 2, replacing `'Position'` with `''`. Align names in the \"Players\" column.\n",
    "\n",
    "</div>\n",
    "<div style=\"width: 4%;\">\n",
    "</div>\n",
    "<div style=\"width: 48%; line-height: 1.5;color: grey;\">\n",
    "\n",
    "Hinweise:\n",
    "\n",
    "1. Verwenden Sie etwa 15 Zeichen für die Breite der Spalte \"Position\", um genügend Platz für jeden Positionsnamen zu lassen.\n",
    "Sie können dies mit Hilfe von f-Zeichenfolgen wie \"f\"{'Position':<15} | Spieler\"`, die den Text \"Position\" innerhalb eines 15-Zeichen-Feldes linksbündig ausrichtet.\n",
    "\n",
    "2. Erstellen Sie ein Trennzeichen unter der Kopfzeile mit \"-\"-Symbolen. Eine Breite von 30-40 Zeichen sollte ausreichen, um Ihre Spalten anzupassen.\n",
    "Verwenden Sie `print(\"-\" * 40)`, um diese Zeile zu erzeugen.\n",
    "\n",
    "3. Verwenden Sie die Indizierung, um Spielernamen aus den Listen einzufügen (z.B. `Torhüter[0]`, `Torhüter[1]`, usw.), anstatt die Namen manuell zu kopieren und einzufügen.\n",
    "\n",
    "4. Behalten Sie die Ausrichtung bei, indem Sie f-Zeichenfolgen für die Spalten Position und Spieler verwenden. Für nachfolgende Spieler auf jeder Position lassen Sie die Spalte mit dem Positionsnamen leer (`''`): Verwenden Sie die gleiche Syntax wie in Tipp 2, ersetzen Sie `'Position'` durch `''`. Richten Sie die Namen in der Spalte \"Spieler\" aus.\n",
    "\n",
    "</div>\n",
    "</div>"
   ]
  },
  {
   "cell_type": "code",
   "execution_count": null,
   "metadata": {},
   "outputs": [
    {
     "name": "stdout",
     "output_type": "stream",
     "text": [
      "Position        | Players\n",
      "----------------------------------------\n",
      "Goalkeepers     | Manuel Neuer\n",
      "                | Marc-André ter Stegen\n",
      "                | Oliver Baumann\n",
      "Defenders       | Antonio Rüdiger\n",
      "                | Nico Schlotterbeck\n",
      "                | David Raum\n",
      "                | Waldemar Anton\n",
      "                | Jonathan Tah\n",
      "                | Robin Koch\n",
      "                | Maximilian Mittelstädt\n",
      "                | Benjamin Henrichs\n",
      "                | Joshua Kimmich\n",
      "Midfielders     | Ilkay Gündogan\n",
      "                | Jamal Musiala\n",
      "                | Leroy Sané\n",
      "                | Florian Wirtz\n",
      "Forwards        | Kai Havertz\n",
      "                | Niclas Füllkrug\n",
      "                | Thomas Müller\n",
      "                | Maximilian Beier\n",
      "                | Deniz Undav\n"
     ]
    }
   ],
   "source": [
    "# Create the table using f-strings\n",
    "print(f\"{'Position':<15} | Players\")\n",
    "print(\"-\" * 40)\n",
    "print(f\"{'Goalkeepers':<15} | {goalkeepers[0]}\")\n",
    "print(f\"{'':<15} | {goalkeepers[1]}\")\n",
    "print(f\"{'':<15} | {goalkeepers[2]}\")\n",
    "print(f\"{'Defenders':<15} | {defenders[0]}\")\n",
    "print(f\"{'':<15} | {defenders[1]}\")\n",
    "print(f\"{'':<15} | {defenders[2]}\")\n",
    "print(f\"{'':<15} | {defenders[3]}\")\n",
    "print(f\"{'':<15} | {defenders[4]}\")\n",
    "print(f\"{'':<15} | {defenders[5]}\")\n",
    "print(f\"{'':<15} | {defenders[6]}\")\n",
    "print(f\"{'':<15} | {defenders[7]}\")\n",
    "print(f\"{'':<15} | {defenders[8]}\")\n",
    "print(f\"{'Midfielders':<15} | {midfielders[0]}\")\n",
    "print(f\"{'':<15} | {midfielders[1]}\")\n",
    "print(f\"{'':<15} | {midfielders[2]}\")\n",
    "print(f\"{'':<15} | {midfielders[3]}\")\n",
    "print(f\"{'Forwards':<15} | {forwards[0]}\")\n",
    "print(f\"{'':<15} | {forwards[1]}\")\n",
    "print(f\"{'':<15} | {forwards[2]}\")\n",
    "print(f\"{'':<15} | {forwards[3]}\")\n",
    "print(f\"{'':<15} | {forwards[4]}\")"
   ]
  },
  {
   "cell_type": "markdown",
   "metadata": {},
   "source": [
    "<div style=\"display: flex; justify-content: space-between;\">\n",
    "<div style=\"width: 48%; line-height: 1.5;\">\n",
    "\n",
    "Of course, there’s a much faster way to do this using *loops*, one that avoids repeating lines and works dynamically with any list length. \n",
    "\n",
    "We’ll dive into this efficient approach in an upcoming lecture.\n",
    "\n",
    "</div>\n",
    "<div style=\"width: 4%;\">\n",
    "</div>\n",
    "<div style=\"width: 48%; line-height: 1.5;color: grey;\">\n",
    "\n",
    "Natürlich gibt es einen viel schnelleren Weg, dies mit *Schleifen* zu tun, der die Wiederholung von Zeilen vermeidet und dynamisch mit jeder Listenlänge funktioniert.\n",
    "\n",
    "Wir werden diesen effizienten Ansatz in einer der nächsten Vorlesungen näher beleuchten.\n",
    "\n",
    "</div>\n",
    "</div>"
   ]
  }
 ],
 "metadata": {
  "kernelspec": {
   "display_name": "base",
   "language": "python",
   "name": "python3"
  },
  "language_info": {
   "codemirror_mode": {
    "name": "ipython",
    "version": 3
   },
   "file_extension": ".py",
   "mimetype": "text/x-python",
   "name": "python",
   "nbconvert_exporter": "python",
   "pygments_lexer": "ipython3",
   "version": "3.10.14"
  }
 },
 "nbformat": 4,
 "nbformat_minor": 2
}
