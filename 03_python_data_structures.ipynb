{
 "cells": [
  {
   "cell_type": "code",
   "execution_count": null,
   "metadata": {},
   "outputs": [],
   "source": [
    "%%HTML\n",
    "<style>\n",
    "    body {\n",
    "        --vscode-font-family: \"CMU Sans Serif\"\n",
    "    }\n",
    "</style>"
   ]
  },
  {
   "cell_type": "code",
   "execution_count": 3,
   "metadata": {},
   "outputs": [],
   "source": [
    "plt.rcParams.update({\n",
    "    \"text.usetex\": True,\n",
    "    \"font.family\": \"sans-serif\",\n",
    "    \"font.sans-serif\": [\"Computer Modern Sans Serif\"]})\n",
    "plt.rcParams['text.latex.preamble'] = r'\\usepackage{sansmath} \\sansmath'"
   ]
  },
  {
   "cell_type": "code",
   "execution_count": null,
   "metadata": {},
   "outputs": [],
   "source": [
    "from IPython.display import display, clear_output, HTML\n",
    "import time\n",
    "\n",
    "def countdown_timer(minutes):\n",
    "    total_seconds = minutes * 60\n",
    "    for seconds in range(total_seconds, 0, -1):\n",
    "        mins, secs = divmod(seconds, 60)\n",
    "        time_str = f\"{mins:02}'{secs:02}''\"\n",
    "        clear_output(wait=True)\n",
    "        # HTML with styling\n",
    "        display(HTML(f'<div style=\"font-size: 24px; color: blue; font-weight: bold;\">Time remaining: {time_str}</div>'))\n",
    "        time.sleep(1)\n",
    "    clear_output(wait=True)\n",
    "    # Final message with different styling\n",
    "    display(HTML('<div style=\"font-size: 24px; color: green; font-weight: bold;\">Time\\'s up!</div>'))"
   ]
  },
  {
   "cell_type": "markdown",
   "metadata": {},
   "source": [
    "<div style=\"text-align: center;\">\n",
    "    <img src=\"https://upload.wikimedia.org/wikipedia/commons/thumb/f/f8/Python_logo_and_wordmark.svg/972px-Python_logo_and_wordmark.svg.png?20210516005643\" alt=\"The Python logo\" style=\"width: 60%; max-width: 500px;\">\n",
    "</div>"
   ]
  },
  {
   "cell_type": "code",
   "execution_count": null,
   "metadata": {},
   "outputs": [],
   "source": [
    "\n",
    "# You are not supposed to understand this code, yet. It is here for your convenience/curiosity.\n",
    "\n",
    "import matplotlib.pyplot as plt\n",
    "import numpy as np\n",
    "from matplotlib.patches import Rectangle\n",
    "\n",
    "# Topics and x-axis values\n",
    "topics = [\"interface\", \"\", \"\", \"\", \"Python basics\", \"\", \"\", \"\", \"data manipulation\", \"\", \"\", \"visualization\", \"\", \"practice\"]\n",
    "x_values = np.arange(1, 15)\n",
    "\n",
    "# Create figure and axis objects with adjusted y-axis height\n",
    "fig, ax1 = plt.subplots(figsize=(10, 0.75))  # Slightly more vertical space\n",
    "ax1.set(xlim=(0, 14), xticks=x_values - 0.5, xlabel='Course Progression')\n",
    "ax1.set_xticks(x_values - 0.5)  # Align grid lines with x_values\n",
    "ax1.set_xticklabels(x_values, ha='center')\n",
    "ax1.yaxis.set_visible(False)\n",
    "\n",
    "# Secondary axis for labels without ticks\n",
    "ax2 = ax1.twiny()\n",
    "ax2.set(xlim=ax1.get_xlim(), xticks=x_values - 0.5)\n",
    "ax2.set_xticklabels(topics, ha='center')\n",
    "ax2.tick_params(axis='x', length=0)\n",
    "\n",
    "# Add rectangles for progress\n",
    "progress_info = [(0, \"orange\", 1), (1, \"dodgerblue\", 1), (2, \"dodgerblue\", 1), (3, \"dodgerblue\", 0.75)]\n",
    "for x, color, alpha in progress_info:\n",
    "    ax1.add_patch(Rectangle((x, 0), 1, 1, facecolor=color, alpha=alpha, edgecolor=\"gainsboro\", linewidth=0.5))\n",
    "\n",
    "# Add text annotations\n",
    "annotations = [\n",
    "    (0.5, \"Jupyter\\n\\nLaTeX\"),\n",
    "    (1.5, \"math\\n\\n(SymPy)\"),\n",
    "    (2.5, \"strings\\n\\nlists\"),\n",
    "    (3.5, \"other\\ndata\\nstructures\")\n",
    "]\n",
    "for x, label, *color in annotations:\n",
    "    ax1.text(x, 0.5, label, ha='center', va='center', fontsize=9, color=color[0] if color else 'black')\n",
    "\n",
    "plt.show()"
   ]
  },
  {
   "cell_type": "markdown",
   "metadata": {},
   "source": [
    "<div class=\"alert alert-block alert-light\">\n",
    "\n",
    "<div style=\"display: flex; justify-content: space-between;\">\n",
    "<div style=\"width: 48%; line-height: 1.5;\">\n",
    "\n",
    "#### Exercise\n",
    "\n",
    "Insert a `Markdown` cell containing a heading: \"Data Structures\".\n",
    "</div>\n",
    "<div style=\"width: 48%; line-height: 1.5;color: grey;\">\n",
    "\n",
    "#### Übung\n",
    "\n",
    "Fügen Sie eine `Markdown`-Zelle mit einer Überschrift ein: \"Datenstrukturen\".\n",
    "</div>\n",
    "</div>"
   ]
  },
  {
   "cell_type": "code",
   "execution_count": null,
   "metadata": {},
   "outputs": [],
   "source": [
    "#countdown\n",
    "countdown_timer(1)"
   ]
  },
  {
   "cell_type": "markdown",
   "metadata": {},
   "source": [
    "<div class=\"alert alert-block alert-info\">\n",
    "\n",
    "<div style=\"display: flex; justify-content: space-between;\">\n",
    "<div style=\"width: 48%; line-height: 1.5;\">\n",
    "\n",
    "We’ll explore many objects and their methods today. \n",
    "\n",
    "Don’t worry—it might seem like a lot of information, but many features are recurring, and by encountering them repeatedly, you'll start to recognize them over time. \n",
    "\n",
    "The goal is for you to build a mental map of what’s possible.\n",
    "\n",
    "</div>\n",
    "<div style=\"width: 48%; line-height: 1.5;color: grey;\">\n",
    "\n",
    "Wir werden heute viele Objekte und ihre Methoden untersuchen. \n",
    "\n",
    "Keine Sorge - es mag Ihnen wie eine Menge Informationen vorkommen, aber viele Funktionen tauchen immer wieder auf, und wenn Sie ihnen wiederholt begegnen, werden Sie sie mit der Zeit erkennen. \n",
    "\n",
    "Das Ziel ist, dass Sie sich ein Bild davon machen, was möglich ist.\n",
    "\n",
    "</div>\n",
    "</div>"
   ]
  },
  {
   "cell_type": "markdown",
   "metadata": {},
   "source": [
    "| Data Type      |  Example         |    |\n",
    "|---------------|--------------------------|----|\n",
    "| `int`         | `5`                |&check;|\n",
    "| `float`       | `5.0`              |&check;|\n",
    "| `complex`     | `5 + 3j`           |&check;|\n",
    "| `bool`        | `True`             |&check;|\n",
    "| `module`      | `math`             |&check;|\n",
    "| `str`         | `\"hello\"`          |&check;|\n",
    "| `list`        | `[1, 2, 3]`        |&check;|\n",
    "| `tuple`       | `(1, 2, 3)`        |    |\n",
    "| `set`         | `{1, 2, 3}`        |    |\n",
    "| `dict`        | `{\"key\": \"value\"}` |    |\n",
    "| `range`       | `range(5)`         |    |\n",
    "| `function`    | `factorial`        |    |\n",
    "| `numpy.ndarray` | `np.array([1, 2, 3])` |\n",
    "| `NoneType`    | `None`             |    |"
   ]
  },
  {
   "cell_type": "markdown",
   "metadata": {},
   "source": [
    "<div class=\"alert alert-block alert-warning\">\n",
    "\n",
    "<div style=\"display: flex; justify-content: space-between;\">\n",
    "<div style=\"width: 48%; line-height: 1.5;\">\n",
    "\n",
    "# Tuples \n",
    "</div>\n",
    "<div style=\"width: 48%; line-height: 1.5;color: grey;\">\n",
    "\n",
    "# Tupel\n",
    "</div>\n",
    "</div>"
   ]
  },
  {
   "cell_type": "markdown",
   "metadata": {},
   "source": [
    "<div style=\"display: flex; justify-content: space-between;\">\n",
    "<div style=\"width: 48%; line-height: 1.5;\">\n",
    "\n",
    "A *tuple* is an *immutable, ordered* sequence of objects (whereas lists and strings are...?).\n",
    "**A tuple may be thought of as an immutable list.**\n",
    "\n",
    "The process of grouping multiple values into a single tuple is called *tuple packing*. It happens when you assign multiple values to a single variable as a tuple, either explicitly by using parentheses or implicitly without parentheses:\n",
    "\n",
    "</div>\n",
    "<div style=\"width: 4%;\">\n",
    "</div>\n",
    "<div style=\"width: 48%; line-height: 1.5;color: grey;\">\n",
    "\n",
    "Ein *Tupel* ist eine *unveränderliche, geordnete* Folge von Objekten (Listen und Zeichenketten sind...?).\n",
    "**Ein Tupel kann man sich als unveränderliche Liste vorstellen.**\n",
    "\n",
    "Der Prozess der Gruppierung mehrerer Werte in einem einzigen Tupel wird *Tupelpacking* genannt. Dies geschieht, wenn Sie einer einzelnen Variablen mehrere Werte als Tupel zuweisen, entweder explizit durch Verwendung von Klammern oder implizit ohne Klammern:\n",
    "\n",
    "</div>\n",
    "</div>"
   ]
  },
  {
   "cell_type": "code",
   "execution_count": null,
   "metadata": {},
   "outputs": [],
   "source": [
    "tuple = (0, 'a', 2.3, [3,5,7,11])       # like a list, a tuple can contain different data types\n",
    "\n",
    "print(type(tuple))"
   ]
  },
  {
   "cell_type": "code",
   "execution_count": null,
   "metadata": {},
   "outputs": [],
   "source": [
    "tuple = 0, 'a', 2.3, [3,5,7,11]\n",
    "\n",
    "print(type(tuple))"
   ]
  },
  {
   "cell_type": "markdown",
   "metadata": {},
   "source": [
    "<div style=\"display: flex; justify-content: space-between;\">\n",
    "<div style=\"width: 48%; line-height: 1.5;\">\n",
    "\n",
    "**A comma separated sequence of objects, even without enclosing parentheses, becomes a tuple.**\n",
    "\n",
    "Tuple *unpacking* is the process of extracting individual values from a tuple by assigning them to multiple variables. The number of variables on the left must match the number of items in the tuple on the right. \n",
    "This is a common way of assigning multiple variables in one line:\n",
    "\n",
    "</div>\n",
    "<div style=\"width: 4%;\">\n",
    "</div>\n",
    "<div style=\"width: 48%; line-height: 1.5;color: grey;\">\n",
    "\n",
    "**Eine durch Komma getrennte Folge von Objekten, auch ohne einschließende Klammern, wird zu einem Tupel.**\n",
    "\n",
    "Beim Tupel *Entpacken* werden einzelne Werte aus einem Tupel extrahiert, indem sie mehreren Variablen zugewiesen werden. Die Anzahl der Variablen auf der linken Seite muss mit der Anzahl der Elemente im Tupel auf der rechten Seite übereinstimmen. Dies ist eine gängige Methode, um mehrere Variablen in einer Zeile zuzuweisen:\n",
    "\n",
    "</div>\n",
    "</div>"
   ]
  },
  {
   "cell_type": "code",
   "execution_count": null,
   "metadata": {},
   "outputs": [],
   "source": [
    "nu, k_B, k_d, E_a = 1e13, 8.617e-5, 1., 0.875"
   ]
  },
  {
   "cell_type": "markdown",
   "metadata": {},
   "source": [
    "<div style=\"display: flex; justify-content: space-between;\">\n",
    "<div style=\"width: 48%; line-height: 1.5;\">\n",
    "\n",
    "## Indexing, Slicing and manipulation \n",
    "\n",
    "Much functionality for lists is also available for tuples.\n",
    "\n",
    "Tuples can be indexed and sliced in the same way as lists but, being immutable, they cannot be appended to, extended or have elements removed from them.\n",
    "\n",
    "</div>\n",
    "<div style=\"width: 4%;\">\n",
    "</div>\n",
    "<div style=\"width: 48%; line-height: 1.5;color: grey;\">\n",
    "\n",
    "## Indexierung, Slicing und Manipulation \n",
    "\n",
    "Viele Funktionen für Listen sind auch für Tupel verfügbar.\n",
    "\n",
    "Tupel können auf dieselbe Weise indiziert und zerlegt werden wie Listen, aber da sie unveränderlich sind, können an sie keine Elemente angehängt, erweitert oder aus ihnen entfernt werden.\n",
    "\n",
    "</div>\n",
    "</div>"
   ]
  },
  {
   "cell_type": "markdown",
   "metadata": {},
   "source": [
    "<div class=\"alert alert-block alert-light\">\n",
    "\n",
    "<div style=\"display: flex; justify-content: space-between;\">\n",
    "<div style=\"width: 48%; line-height: 1.5;\">\n",
    "\n",
    "#### Exercise\n",
    "\n",
    "You are given the tuple from earlier, `tuple = 0, 'a', 2.3, [3,5,7,11]`. Try out the following operations we've covered for lists and observe which ones work and which do not:\n",
    "\n",
    "- Add `tuple` to `another_tuple = (-1.0, \"five\")`\n",
    "\n",
    "- Index the fourth element of `tuple`\n",
    "\n",
    "- Extract the number `11` by indexing\n",
    "\n",
    "- Slice the first 3 elements of `tuple`\n",
    "\n",
    "- Check if `\"a\"` is contained in `tuple`\n",
    "\n",
    "- Change `0` to `-1`\n",
    "\n",
    "- Append `3` to `tuple`\n",
    "\n",
    "- Remove `2.3` from `tuple`\n",
    "\n",
    "</div>\n",
    "<div style=\"width: 48%; line-height: 1.5;color: grey;\">\n",
    "\n",
    "#### Übung\n",
    "\n",
    "Sie erhalten das Tupel von vorhin, `tuple = 0, 'a', 2.3, [3,5,7,11]`. Probieren Sie die folgenden Operationen aus, die wir für Listen behandelt haben, und beobachten Sie, welche davon funktionieren und welche nicht:\n",
    "\n",
    "- Fügen Sie `tuple` zu `another_tuple = (-1.0, \"five\")` hinzu\n",
    "\n",
    "- Indexieren Sie das vierte Element von `tuple`\n",
    "\n",
    "- Extrahieren Sie der Zahl `11` durch Indizierung\n",
    "\n",
    "- Schneiden Sie die ersten 3 Elemente von `tuple` auf\n",
    "\n",
    "- Prüfen Sie, ob `\"a\"` in `tuple` enthalten ist\n",
    "\n",
    "- Änderen Sie `0` in `-1`\n",
    "\n",
    "- Hängen Sie `3` an `tupel` an\n",
    "\n",
    "- Entfernen Sie `2.3` aus `tuple`.\n",
    "\n",
    "</div>\n",
    "</div>"
   ]
  },
  {
   "cell_type": "code",
   "execution_count": null,
   "metadata": {},
   "outputs": [],
   "source": [
    "countdown_timer(10)"
   ]
  },
  {
   "cell_type": "code",
   "execution_count": null,
   "metadata": {},
   "outputs": [],
   "source": [
    "# Adding two tuples works\n",
    "\n",
    "tuple + (-1.0, \"five\")"
   ]
  },
  {
   "cell_type": "code",
   "execution_count": null,
   "metadata": {},
   "outputs": [],
   "source": [
    "# Indexing works\n",
    "\n",
    "tuple[1]"
   ]
  },
  {
   "cell_type": "code",
   "execution_count": null,
   "metadata": {},
   "outputs": [],
   "source": [
    "# Slicing works\n",
    "\n",
    "tuple[:3]"
   ]
  },
  {
   "cell_type": "code",
   "execution_count": null,
   "metadata": {},
   "outputs": [],
   "source": [
    "# Membership works\n",
    "\n",
    "\"a\" in tuple"
   ]
  },
  {
   "cell_type": "code",
   "execution_count": null,
   "metadata": {},
   "outputs": [],
   "source": [
    "# Item assignment does not work\n",
    "\n",
    "tuple[1] = 4"
   ]
  },
  {
   "cell_type": "markdown",
   "metadata": {},
   "source": [
    "<div style=\"display: flex; justify-content: space-between;\">\n",
    "<div style=\"width: 48%; line-height: 1.5;\">\n",
    "\n",
    "So why do we need tuples when lists can do more than tuples?\n",
    "\n",
    "**Tuples** are useful in Python for several reasons:\n",
    "\n",
    "- **Immutability:** Tuples are immutable, meaning their elements cannot be changed after creation. Immutability ensures data integrity and can help prevent accidental changes.\n",
    "\n",
    "- **Performance:** Since tuples are immutable, they are more memory-efficient and can be faster to access compared to lists. If you need to store a collection of values that won’t change, tuples are a more optimized choice.\n",
    "\n",
    "- **Dictionary Keys:** Tuples can be used as keys in dictionaries because they are immutable. Lists, on the other hand, cannot be used as dictionary keys.\n",
    "\n",
    "- **Return Multiple Values:** Functions can return multiple values as tuples. This is a common pattern in Python when you want to return several results from a function at once.\n",
    "\n",
    "</div>\n",
    "<div style=\"width: 4%;\">\n",
    "</div>\n",
    "<div style=\"width: 48%; line-height: 1.5;color: grey;\">\n",
    "\n",
    "Warum brauchen wir also Tupel, wenn Listen mehr können als Tupel?\n",
    "\n",
    "**Tupel** sind in Python aus mehreren Gründen nützlich:\n",
    "\n",
    "- **Unveränderlichkeit:** Tupel sind unveränderlich, d. h. ihre Elemente können nach der Erstellung nicht geändert werden. Die Unveränderbarkeit gewährleistet die Datenintegrität und kann helfen, versehentliche Änderungen zu verhindern.\n",
    "\n",
    "- **Leistung:** Da Tupel unveränderlich sind, sind sie speichereffizienter und der Zugriff kann im Vergleich zu Listen schneller erfolgen. Wenn Sie eine Sammlung von Werten speichern müssen, die sich nicht ändern werden, sind Tupel die bessere Wahl.\n",
    "\n",
    "- **Wörterbuchschlüssel:** Tupel können als Schlüssel in Wörterbüchern verwendet werden, da sie unveränderlich sind. Listen hingegen können nicht als Wörterbuchschlüssel verwendet werden.\n",
    "\n",
    "- **Mehrere Werte zurückgeben:** Funktionen können mehrere Werte als Tupel zurückgeben. Dies ist ein gängiges Muster in Python, wenn Sie mehrere Ergebnisse von einer Funktion auf einmal zurückgeben möchten.\n",
    "  \n",
    "</div>\n",
    "</div>"
   ]
  },
  {
   "cell_type": "markdown",
   "metadata": {},
   "source": [
    "<div class=\"alert alert-block alert-warning\">\n",
    "\n",
    "<div style=\"display: flex; justify-content: space-between;\">\n",
    "<div style=\"width: 48%; line-height: 1.5;\">\n",
    "\n",
    "# Sets \n",
    "</div>\n",
    "<div style=\"width: 48%; line-height: 1.5;color: grey;\">\n",
    "\n",
    "# Sets (Mengen)\n",
    "</div>\n",
    "</div>"
   ]
  },
  {
   "cell_type": "markdown",
   "metadata": {},
   "source": [
    "<div style=\"display: flex; justify-content: space-between;\">\n",
    "<div style=\"width: 48%; line-height: 1.5;\">\n",
    "\n",
    "A Python set is a *mutable, unordered* collection of *unique* objects, with no duplicate elements.\n",
    "\n",
    "A non-empty set can be defined by providing the elements between braces (but `set = {}` defines a dictionary (see below), not the empty set!):\n",
    "\n",
    "</div>\n",
    "<div style=\"width: 4%;\">\n",
    "</div>\n",
    "<div style=\"width: 48%; line-height: 1.5;color: grey;\">\n",
    "\n",
    "Eine Python-Menge ist eine *veränderliche, ungeordnete* Sammlung von *eindeutigen* Objekten, die keine doppelten Elemente enthält.\n",
    "\n",
    "Ein nicht leeres Set kann definiert werden, indem die Elemente zwischen geschweiften Klammern angegeben werden (aber `set = {}` definiert ein Wörterbuch (siehe unten), nicht die leere Menge!):\n",
    "\n",
    "</div>\n",
    "</div>"
   ]
  },
  {
   "cell_type": "code",
   "execution_count": null,
   "metadata": {},
   "outputs": [],
   "source": [
    "set = {1, 1, 'a', 'b', 1, 2, 'a', 1.0}\n",
    "\n",
    "print(set)"
   ]
  },
  {
   "cell_type": "markdown",
   "metadata": {},
   "source": [
    "<div style=\"display: flex; justify-content: space-between;\">\n",
    "<div style=\"width: 48%; line-height: 1.5;\">\n",
    "\n",
    "What happened?\n",
    "Sets automatically remove duplicate values, and `1.0` is treated as the same value as `1`.\n",
    "\n",
    "A set is useful for removing duplicates from a sequence and for determining the union, intersection and difference between two collections.\n",
    "\n",
    "</div>\n",
    "<div style=\"width: 4%;\">\n",
    "</div>\n",
    "<div style=\"width: 48%; line-height: 1.5;color: grey;\">\n",
    "\n",
    "Was ist passiert?\n",
    "Sets entfernen automatisch doppelte Werte, und `1.0` wird als der gleiche Wert wie `1` behandelt.\n",
    "\n",
    "Eine Menge ist nützlich, um Duplikate aus einer Sequenz zu entfernen und um die Vereinigung, die Schnittmenge und die Differenz zwischen zwei Sammlungen zu bestimmen.\n",
    "\n",
    "</div>\n",
    "</div>"
   ]
  },
  {
   "cell_type": "markdown",
   "metadata": {},
   "source": [
    "<div class=\"alert alert-block alert-light\">\n",
    "\n",
    "<div style=\"display: flex; justify-content: space-between;\">\n",
    "<div style=\"width: 48%; line-height: 1.5;\">\n",
    "\n",
    "#### Exercise\n",
    "\n",
    "Check that `1` is, in fact, equal to `1.0`.\n",
    "\n",
    "</div>\n",
    "<div style=\"width: 48%; line-height: 1.5;color: grey;\">\n",
    "\n",
    "#### Übung\n",
    "\n",
    "Überprüfen Sie, ob `1` tatsächlich gleich `1.0` ist.\n",
    "\n",
    "</div>\n",
    "</div>"
   ]
  },
  {
   "cell_type": "code",
   "execution_count": null,
   "metadata": {},
   "outputs": [],
   "source": [
    "countdown_timer(2)"
   ]
  },
  {
   "cell_type": "markdown",
   "metadata": {},
   "source": [
    "<div style=\"display: flex; justify-content: space-between;\">\n",
    "<div style=\"width: 48%; line-height: 1.5;\">\n",
    "\n",
    "## Indexing and Slicing \n",
    "\n",
    "Sets cannot be indexed, since they are not ordered.\n",
    "\n",
    "</div>\n",
    "<div style=\"width: 4%;\">\n",
    "</div>\n",
    "<div style=\"width: 48%; line-height: 1.5;color: grey;\">\n",
    "\n",
    "## Indexierung und Slicing \n",
    "\n",
    "Sets können nicht indiziert werden, da sie nicht geordnet sind.\n",
    "\n",
    "</div>\n",
    "</div>"
   ]
  },
  {
   "cell_type": "markdown",
   "metadata": {},
   "source": [
    "<div style=\"display: flex; justify-content: space-between;\">\n",
    "<div style=\"width: 48%; line-height: 1.5;\">\n",
    "\n",
    "## Manipulating sets \n",
    "\n",
    "Sets are mutable, so they have methods to add and remove elements.\n",
    "\n",
    "</div>\n",
    "<div style=\"width: 4%;\">\n",
    "</div>\n",
    "<div style=\"width: 48%; line-height: 1.5;color: grey;\">\n",
    "\n",
    "## Indexierung \n",
    "\n",
    "Sets sind veränderbar, d.h. sie haben Methoden, um Elemente hinzuzufügen und zu entfernen.\n",
    "\n",
    "</div>\n",
    "</div>"
   ]
  },
  {
   "cell_type": "markdown",
   "metadata": {},
   "source": [
    "<div style=\"display: flex; justify-content: space-between;\">\n",
    "<div style=\"width: 48%; line-height: 1.5;\">\n",
    "\n",
    "### Adding elements    \n",
    "</div>\n",
    "<div style=\"width: 48%; line-height: 1.5;color: grey;\">\n",
    "\n",
    "### Elemente hinzufügen\n",
    "</div>\n",
    "</div>"
   ]
  },
  {
   "cell_type": "markdown",
   "metadata": {},
   "source": [
    "#### `add()`"
   ]
  },
  {
   "cell_type": "code",
   "execution_count": null,
   "metadata": {},
   "outputs": [],
   "source": [
    "# add a single element\n",
    "\n",
    "set.add(3)\n",
    "set"
   ]
  },
  {
   "cell_type": "markdown",
   "metadata": {},
   "source": [
    "#### `update()`"
   ]
  },
  {
   "cell_type": "code",
   "execution_count": null,
   "metadata": {},
   "outputs": [],
   "source": [
    "# add multiple elements from a collection\n",
    "\n",
    "set.update([4,5,6])\n",
    "set"
   ]
  },
  {
   "cell_type": "markdown",
   "metadata": {},
   "source": [
    "<div style=\"display: flex; justify-content: space-between;\">\n",
    "<div style=\"width: 48%; line-height: 1.5;\">\n",
    "\n",
    "### Removing elements    \n",
    "</div>\n",
    "<div style=\"width: 4%;\">\n",
    "</div>\n",
    "<div style=\"width: 48%; line-height: 1.5;color: grey;\">\n",
    "\n",
    "### Elemente entfernen\n",
    "</div>\n",
    "</div>"
   ]
  },
  {
   "cell_type": "markdown",
   "metadata": {},
   "source": [
    "#### `remove()`"
   ]
  },
  {
   "cell_type": "code",
   "execution_count": null,
   "metadata": {},
   "outputs": [],
   "source": [
    "# remove a specific element\n",
    "\n",
    "set.remove(4)\n",
    "set"
   ]
  },
  {
   "cell_type": "markdown",
   "metadata": {},
   "source": [
    "<div style=\"display: flex; justify-content: space-between;\">\n",
    "<div style=\"width: 48%; line-height: 1.5;\">\n",
    "\n",
    " `remove()` raises an error if the element you are attempting to remove is missing:\n",
    "</div>\n",
    "<div style=\"width: 4%;\">\n",
    "</div>\n",
    "<div style=\"width: 48%; line-height: 1.5;color: grey;\">\n",
    "\n",
    " `remove()` gibt einen Fehler aus, wenn das Element, das man zu entfernen versucht, fehlt:\n",
    "</div>\n",
    "</div>"
   ]
  },
  {
   "cell_type": "code",
   "execution_count": null,
   "metadata": {},
   "outputs": [],
   "source": [
    "# remove a specific element\n",
    "\n",
    "set.remove(7)\n",
    "set"
   ]
  },
  {
   "cell_type": "markdown",
   "metadata": {},
   "source": [
    "#### `discard()`"
   ]
  },
  {
   "cell_type": "markdown",
   "metadata": {},
   "source": [
    "<div style=\"display: flex; justify-content: space-between;\">\n",
    "<div style=\"width: 48%; line-height: 1.5;\">\n",
    "\n",
    " `discard()` does not raise an error if the element you are attempting to remove is missing, therefore it allows you to safely remove elements without worrying about handling exceptions if the element isn't found.\n",
    "</div>\n",
    "<div style=\"width: 4%;\">\n",
    "</div>\n",
    "<div style=\"width: 48%; line-height: 1.5;color: grey;\">\n",
    "\n",
    " `discard()` löst keine Fehlermeldung aus, wenn das Element, das Sie zu entfernen versuchen, fehlt. \n",
    " Daher können Sie Elemente sicher entfernen, ohne sich um die Behandlung von Ausnahmen zu kümmern, wenn das Element nicht gefunden wird.\n",
    "</div>\n",
    "</div>"
   ]
  },
  {
   "cell_type": "code",
   "execution_count": null,
   "metadata": {},
   "outputs": [],
   "source": [
    "# remove a specific element\n",
    "\n",
    "set.discard(7)\n",
    "set"
   ]
  },
  {
   "cell_type": "markdown",
   "metadata": {},
   "source": [
    "#### `pop()`"
   ]
  },
  {
   "cell_type": "code",
   "execution_count": null,
   "metadata": {},
   "outputs": [],
   "source": [
    "# remove and return an arbitrary element\n",
    "\n",
    "print(set.pop())\n",
    "print(set)"
   ]
  },
  {
   "cell_type": "markdown",
   "metadata": {},
   "source": [
    "<div style=\"display: flex; justify-content: space-between;\">\n",
    "<div style=\"width: 48%; line-height: 1.5;\">\n",
    "\n",
    "Since sets are unordered, there is no \"first\" or \"last\" element, so `pop()` removes a random element.\n",
    "\n",
    "Why is it useful? Unlike lists, which need to shift elements when removing items, sets don't require such reorganization, making `pop()` faster for large datasets.\n",
    "</div>\n",
    "<div style=\"width: 4%;\">\n",
    "</div>\n",
    "<div style=\"width: 48%; line-height: 1.5;color: grey;\">\n",
    "\n",
    "Da Sets ungeordnet sind, gibt es kein \"erstes\" oder \"letztes\" Element, so dass `pop()` ein zufälliges Element entfernt.\n",
    "\n",
    "Warum ist das nützlich? Im Gegensatz zu Listen, bei denen die Elemente beim Entfernen von Elementen verschoben werden müssen, ist bei Sets eine solche Reorganisation nicht erforderlich, wodurch `pop()` bei großen Datensätzen schneller ist.\n",
    "</div>\n",
    "</div>"
   ]
  },
  {
   "cell_type": "markdown",
   "metadata": {},
   "source": [
    "<div style=\"display: flex; justify-content: space-between;\">\n",
    "<div style=\"width: 48%; line-height: 1.5;\">\n",
    "\n",
    "**Sets** are useful in Python for several reasons:\n",
    "\n",
    "  - **Uniqueness:** Sets automatically remove duplicate elements, ensuring that each item is unique. This makes them ideal for scenarios where duplicate values need to be filtered out.\n",
    "\n",
    "  - **Efficient membership testing:** Sets provide fast checks for whether an element is present, using the `in` operator. This is much faster compared to lists, especially for large collections.\n",
    "\n",
    "  - **Set operations:** Sets support mathematical set operations such as union, intersection, difference, and symmetric difference, making them useful for tasks involving comparisons between collections.\n",
    "\n",
    "  - **Unordered collections:** Since sets are unordered, they can be more memory efficient and optimized for certain operations, such as searching for unique items in large datasets.\n",
    "\n",
    "</div>\n",
    "<div style=\"width: 4%;\">\n",
    "</div>\n",
    "<div style=\"width: 48%; line-height: 1.5;color: grey;\">\n",
    "\n",
    "**Sets** sind in Python aus mehreren Gründen nützlich:\n",
    "\n",
    "  - **Einzigartigkeit:** Sets entfernen automatisch doppelte Elemente und stellen sicher, dass jedes Element eindeutig ist. Das macht sie ideal für Szenarien, in denen doppelte Werte herausgefiltert werden müssen.\n",
    "\n",
    "  - **Effiziente Zugehörigkeitsprüfung:** Sets bieten schnelle Überprüfungen, ob ein Element vorhanden ist, indem sie den `in`-Operator verwenden. Dies ist im Vergleich zu Listen viel schneller, besonders bei großen Sammlungen.\n",
    "\n",
    "  - **Mengenoperationen:** Mengen unterstützen mathematische Mengenoperationen wie Vereinigung, Schnittmenge, Differenz und symmetrische Differenz, was sie für Aufgaben mit Vergleichen zwischen Sammlungen nützlich macht.\n",
    "\n",
    "  - **Ungeordnete Sammlungen:** Da Mengen ungeordnet sind, können sie speichereffizienter sein und für bestimmte Operationen optimiert werden, z. B. für die Suche nach eindeutigen Elementen in großen Datenbeständen.\n",
    "\n",
    "</div>\n",
    "</div>"
   ]
  },
  {
   "cell_type": "markdown",
   "metadata": {},
   "source": [
    "<div style=\"display: flex; justify-content: space-between;\">\n",
    "<div style=\"width: 48%; line-height: 1.5;\">\n",
    "\n",
    "## Comparison between lists, tuples, and sets \n",
    " Feeling overwhelmed? No need to worry! The table below summarizes the key differences between lists, tuples, and sets. There's no need to memorize them.\n",
    "</div>\n",
    "<div style=\"width: 4%;\">\n",
    "</div>\n",
    "<div style=\"width: 48%; line-height: 1.5;color: grey;\">\n",
    "\n",
    "## Vergleich zwischen Listen, Tupeln und Sets\n",
    "Fühlen Sie sich überwältigt? Kein Grund zur Sorge! In der folgenden Tabelle sind die wichtigsten Unterschiede zwischen Listen, Tupeln und Sets zusammengefasst. Sie brauchen sie nicht auswendig zu lernen.\n",
    "</div>\n",
    "</div>"
   ]
  },
  {
   "cell_type": "markdown",
   "metadata": {},
   "source": [
    "| Operation| Operation   | Lists  | Tuples | Sets   |\n",
    "|--------------------------|--------------------------|------------------------|------------------------|------------------------|\n",
    "| Syntax   | Syntax   | `[ ]`  | `( )`  | `{ }`  |\n",
    "| Mutability   | Veränderbarkeit  | &check;| &cross;| &check;|\n",
    "| Ordered  | Geordnet | &check;| &check;| &cross;|\n",
    "| Duplicates Allowed| Duplikate erlaubt| &check;| &check;| &cross;|\n",
    "| Indexing | Indizierung  | &check;| &check;| &cross;|\n",
    "| Slicing  | Slicing   | &check;| &check;| &cross;|\n",
    "| Iteration| Iteration| &check;| &check;| &check;|\n",
    "| Adding Elements  | Elemente hinzufügen  | `append()`, `insert()` | N/A| `add()`|\n",
    "| Removing Elements | Elemente entfernen   | `remove()`, `pop()`| N/A| `remove()`, `discard()`, `pop()` |\n",
    "| Concatenation| Verkettung   | `+`| `+`| N/A|\n",
    "| Length   | Länge| `len()`| `len()`| `len()`|\n",
    "| Membership Test  | Mitgliedschaftstest  | `in`   | `in`   | `in`   |\n",
    "| Repetition   | Wiederholung | `*`| `*`| N/A|"
   ]
  },
  {
   "cell_type": "markdown",
   "metadata": {},
   "source": [
    "<div style=\"display: flex; justify-content: space-between;\">\n",
    "<div style=\"width: 48%; line-height: 1.5;\">\n",
    "\n",
    "## Operators \n",
    " Additionally, sets support the following operators: \n",
    "\n",
    "-  `-`: difference (NOT)\n",
    "\n",
    "-  `ˆ`: symmetric difference (XOR)\n",
    "\n",
    "-  `&`: intersection (AND)\n",
    "\n",
    "-  `|`: union (OR)\n",
    "\n",
    "\n",
    "</div>\n",
    "<div style=\"width: 4%;\">\n",
    "</div>\n",
    "<div style=\"width: 48%; line-height: 1.5;color: grey;\">\n",
    "\n",
    "## Operatoren \n",
    "Außerdem unterstützen Sets die folgenden Operatoren:\n",
    "\n",
    "-  `-`: Differenz\n",
    "\n",
    "-  `ˆ`: symmetrische Differenz\n",
    "\n",
    "-  `&`: Schnittmenge\n",
    "\n",
    "-  `|`: Vereinigung\n",
    "\n",
    "\n",
    "</div>\n",
    "</div>"
   ]
  },
  {
   "cell_type": "code",
   "execution_count": null,
   "metadata": {},
   "outputs": [],
   "source": [
    "set_1 = {'A', 'B', 'C', 'D'}\n",
    "\n",
    "set_2 = {'C', 'D', 'X', 'Y', 'Z'}"
   ]
  },
  {
   "cell_type": "markdown",
   "metadata": {},
   "source": [
    "<div class=\"alert alert-block alert-light\">\n",
    "\n",
    "<div style=\"display: flex; justify-content: space-between;\">\n",
    "<div style=\"width: 48%; line-height: 1.5;\">\n",
    "\n",
    "#### Exercise\n",
    "\n",
    "Given `set_1 = {'A', 'B', 'C', 'D'}` and `set_2 = {'C', 'D', 'X', 'Y', 'Z'}`, compute the results of the set operations shown above.\n",
    "\n",
    "</div>\n",
    "<div style=\"width: 4%;\">\n",
    "</div>\n",
    "<div style=\"width: 48%; line-height: 1.5;color: grey;\">\n",
    "\n",
    "#### Übung\n",
    "\n",
    "Geben Sie `set_1 = {'A', 'B', 'C', 'D'}` und `set_2 = {'C', 'D', 'X', 'Y', 'Z'}` an und berechnen Sie die Ergebnisse der oben genannten Mengenoperationen.\n",
    "\n",
    "</div>\n",
    "</div>"
   ]
  },
  {
   "cell_type": "code",
   "execution_count": null,
   "metadata": {},
   "outputs": [],
   "source": [
    "countdown_timer(10)"
   ]
  },
  {
   "cell_type": "markdown",
   "metadata": {},
   "source": [
    "<details>\n",
    "  <summary>Click to reveal the solution</summary>\n",
    "\n",
    "```python\n",
    "set_1 - set_2   # elements in set_1 but NOT in set_2\n",
    "\n",
    "set_2 - set_1   # elements in set_2 but NOT in set_1\n",
    "\n",
    "set_1 ^ set_2   # symmetric difference: elements that are not in both sets\n",
    "\n",
    "set_1 & set_2   # intersection: elements common to both sets\n",
    "\n",
    "set_1 | set_2   # union: all unique elements from both sets\n",
    "```\n",
    "\n",
    "</details>"
   ]
  },
  {
   "cell_type": "code",
   "execution_count": null,
   "metadata": {},
   "outputs": [],
   "source": [
    "s = 'The quick brown fox jumps over the lazy dog'\n",
    "set(s.lower()) >= set('abcdefghijklmnopqrstuvwxyz')"
   ]
  },
  {
   "cell_type": "code",
   "execution_count": 48,
   "metadata": {},
   "outputs": [],
   "source": [
    "set_1 = set('abcdefghijklmnopqrstuvwxyz')\n",
    "del set_2\n",
    "set_2 = set('The quick brown fox jumps over the lazy dog'.lower().replace(\" \", \"\"))"
   ]
  },
  {
   "cell_type": "code",
   "execution_count": null,
   "metadata": {},
   "outputs": [],
   "source": [
    "set_2 == set_1"
   ]
  },
  {
   "cell_type": "markdown",
   "metadata": {},
   "source": [
    "<div class=\"alert alert-block alert-light\">\n",
    "\n",
    "<div style=\"display: flex; justify-content: space-between;\">\n",
    "<div style=\"width: 48%; line-height: 1.5;\">\n",
    "\n",
    "#### Exercise\n",
    "The crystal lattice structures of the first-row transition metal elements are given below. Some elements have different crystal structures under varying conditions of temperature and pressure. \n",
    "\n",
    "- fcc: Cu, Co, Fe, Mn, Ni, Sc\n",
    "\n",
    "- bcc: Cr,Fe,Mn,Ti,V\n",
    "\n",
    "- hcp: Co, Ni, Sc, Ti, Zn\n",
    "\n",
    "Use Python sets to group them and determine the following:\n",
    "\n",
    "  - Which metals only exist in face-centered cubic (**fcc**), body-centered cubic (**bcc**), or hexagonal close-packed (**hcp**) structures?\n",
    "\n",
    "  - Which metals exist in only two of these structures?\n",
    "  \n",
    "  - Which metals do not form an **hcp** structure?\n",
    "  \n",
    "  - Do any of them exist in all three structures?\n",
    "\n",
    " Beware: The union operator has lower precedence than the difference operator, so you might need parentheses.\n",
    "</div>\n",
    "<div style=\"width: 4%;\">\n",
    "</div>\n",
    "<div style=\"width: 48%; line-height: 1.5;color: grey;\">\n",
    "\n",
    "#### Übung\n",
    "Die Kristallgitterstrukturen der Elemente der ersten Reihe der Übergangsmetalle sind unten angegeben. Einige Elemente haben unter verschiedenen Temperatur- und Druckbedingungen unterschiedliche Kristallstrukturen. \n",
    "\n",
    "- fcc: Cu, Co, Fe, Mn, Ni, Sc\n",
    "\n",
    "- bcc: Cr,Fe,Mn,Ti,V\n",
    "\n",
    "- hcp: Co, Ni, Sc, Ti, Zn\n",
    "\n",
    "Benutzen Sie Python-Sets, um sie zu gruppieren und folgendes zu bestimmen:\n",
    "\n",
    "  - Welche Metalle kommen nur in kubisch-flächenzentrierten (**fcc**), kubisch-raumzentrierten (**bcc**) oder hexagonal dicht gepackten (**hcp**) Strukturen vor?\n",
    "  \n",
    "  - Welche Metalle kommen nur in zwei dieser Strukturen vor?\n",
    "  \n",
    "  - Welche Metalle bilden keine **hcp**-Struktur?\n",
    "  \n",
    "  - Kommt eines von ihnen in allen drei Strukturen vor?\n",
    "\n",
    "Achtung: Der Vereinigungsoperator hat einen niedrigeren Vorrang als der Differenzoperator, so dass Sie möglicherweise Klammern benötigen.\n",
    "</div>\n",
    "</div>"
   ]
  },
  {
   "cell_type": "code",
   "execution_count": null,
   "metadata": {},
   "outputs": [],
   "source": [
    "#countdown\n",
    "countdown_timer(20)"
   ]
  },
  {
   "cell_type": "markdown",
   "metadata": {},
   "source": [
    "<details>\n",
    "  <summary>Click to reveal the solution</summary>\n",
    "\n",
    "```python\n",
    "fcc = {'Cu', 'Co', 'Fe', 'Mn', 'Ni', 'Sc'}\n",
    "bcc = {'Cr', 'Fe', 'Mn', 'Ti', 'V'}\n",
    "hcp = {'Co', 'Ni', 'Sc', 'Ti', 'Zn'}\n",
    "```\n",
    "\n",
    "#### 1\n",
    "\n",
    "```python\n",
    "# fcc only but NOT bcc and hcp\n",
    "fcc - bcc - hcp\n",
    "\n",
    "# fcc only but NOT bcc and hcp\n",
    "fcc - (bcc | hcp)\n",
    "\n",
    "# bcc only \n",
    "bcc - fcc - hcp\n",
    "\n",
    "# hcp only \n",
    "hcp - fcc - bcc\n",
    "```\n",
    "\n",
    "#### 2\n",
    "\n",
    "```python\n",
    "# fcc AND bcc but NOT hcp\n",
    "fcc & bcc - hcp\n",
    "\n",
    "# fcc AND hcp but NOT bcc\n",
    "fcc & hcp - bcc\n",
    "\n",
    "# bcc AND hcp but NOT fcc\n",
    "bcc & hcp - fcc\n",
    "```\n",
    "\n",
    "#### 3\n",
    "\n",
    "```python\n",
    "# NOT hcp, but either fcc OR bcc\n",
    "(fcc | bcc) - hcp   # the union operator has lower priority than the intersection\n",
    "```\n",
    "\n",
    "#### 4\n",
    "\n",
    "```python\n",
    "# in fcc AND bcc AND hcp\n",
    "fcc & bcc & hcp\n",
    "```\n",
    "\n",
    "</details>"
   ]
  },
  {
   "cell_type": "markdown",
   "metadata": {},
   "source": [
    "<div class=\"alert alert-block alert-warning\">\n",
    "\n",
    "<div style=\"display: flex; justify-content: space-between;\">\n",
    "<div style=\"width: 48%; line-height: 1.5;\">\n",
    "\n",
    "# Dictionaries \n",
    "</div>\n",
    "<div style=\"width: 48%; line-height: 1.5;color: grey;\">\n",
    "\n",
    "# Dictionaries\n",
    "</div>\n",
    "</div>"
   ]
  },
  {
   "cell_type": "markdown",
   "metadata": {},
   "source": [
    "<div style=\"display: flex; justify-content: space-between;\">\n",
    "<div style=\"width: 48%; line-height: 1.5;\">\n",
    "\n",
    "A Python dictionary is a type of associative array: A mapping of key objects to value objects. Instead of indexing with an integer, each value is associated with a unique key (which must be an immutable object).\n",
    "\n",
    "</div>\n",
    "<div style=\"width: 4%;\">\n",
    "</div>\n",
    "<div style=\"width: 48%; line-height: 1.5;color: grey;\">\n",
    "\n",
    "Ein Python-Dictionary ist eine Art assoziatives Array: Ein Mapping von Schlüsselobjekten auf Wertobjekte. Anstatt mit einer ganzen Zahl zu indizieren, ist jeder Wert mit einem eindeutigen Schlüssel verbunden (der ein unveränderliches Objekt sein muss).\n",
    "\n",
    "</div>\n",
    "</div>"
   ]
  },
  {
   "cell_type": "markdown",
   "metadata": {},
   "source": [
    "<div style=\"display: flex; justify-content: space-between;\">\n",
    "<div style=\"width: 48%; line-height: 1.5;\">\n",
    "\n",
    "## Creating dictionaries \n",
    "\n",
    "A dictionary is created using curly braces `{}` with comma-separated `key:value` pairs. For example:\n",
    "\n",
    "</div>\n",
    "<div style=\"width: 4%;\">\n",
    "</div>\n",
    "<div style=\"width: 48%; line-height: 1.5;color: grey;\">\n",
    "\n",
    "## Dictionaries erstellen \n",
    "\n",
    "Ein Dictionary wird durch geschweifte Klammern `{}` mit kommagetrennten `key:value`-Paaren erstellt. Zum Beispiel:\n",
    "\n",
    "</div>\n",
    "</div>"
   ]
  },
  {
   "cell_type": "code",
   "execution_count": null,
   "metadata": {},
   "outputs": [],
   "source": [
    "# The NATO phonetic alphabet is used to spell out words and names clearly over radio or telephone communication. \n",
    "# Here’s a Python dictionary that maps each letter of the alphabet to its corresponding phonetic code word:\n",
    "\n",
    "nato_alphabet = {\n",
    "'A': 'Alpha',\n",
    "'B': 'Bravo',\n",
    "'C': 'Charlie',\n",
    "'D': 'Delta',\n",
    "'E': 'Echo',\n",
    "'F': 'Foxtrot',\n",
    "'G': 'Golf',\n",
    "'H': 'Hotel',\n",
    "'I': 'India',\n",
    "'J': 'Juliett',\n",
    "'K': 'Kilo',\n",
    "'L': 'Lima',\n",
    "'M': 'Mike',\n",
    "'N': 'November',\n",
    "'O': 'Oscar',\n",
    "'P': 'Papa',\n",
    "'Q': 'Quebec',\n",
    "'R': 'Romeo',\n",
    "'S': 'Sierra',\n",
    "'T': 'Tango',\n",
    "'U': 'Uniform',\n",
    "'V': 'Victor',\n",
    "'W': 'Whiskey',\n",
    "'X': 'X-ray',\n",
    "'Y': 'Yankee',\n",
    "'Z': 'Zulu'\n",
    "}\n",
    "\n",
    "# Print the dictionary\n",
    "nato_alphabet"
   ]
  },
  {
   "cell_type": "markdown",
   "metadata": {},
   "source": [
    "<div style=\"display: flex; justify-content: space-between;\">\n",
    "<div style=\"width: 48%; line-height: 1.5;\">\n",
    "\n",
    "## Accessing and Modifying Data \n",
    "\n",
    "You can access values by their keys:\n",
    "\n",
    "</div>\n",
    "<div style=\"width: 4%;\">\n",
    "</div>\n",
    "<div style=\"width: 48%; line-height: 1.5;color: grey;\">\n",
    "\n",
    "## Zugriff auf und Änderung von Daten \n",
    "\n",
    "Sie können auf Werte über ihre Schlüssel zugreifen:\n",
    "\n",
    "</div>\n",
    "</div>"
   ]
  },
  {
   "cell_type": "code",
   "execution_count": null,
   "metadata": {},
   "outputs": [],
   "source": [
    "nato_alphabet['Y']"
   ]
  },
  {
   "cell_type": "markdown",
   "metadata": {},
   "source": [
    "<div style=\"display: flex; justify-content: space-between;\">\n",
    "<div style=\"width: 48%; line-height: 1.5;\">\n",
    "\n",
    "To add or modify entries:\n",
    "\n",
    "</div>\n",
    "<div style=\"width: 4%;\">\n",
    "</div>\n",
    "<div style=\"width: 48%; line-height: 1.5;color: grey;\">\n",
    "\n",
    "Um Einträge hinzuzufügen oder zu ändern:\n",
    "\n",
    "</div>\n",
    "</div>"
   ]
  },
  {
   "cell_type": "code",
   "execution_count": null,
   "metadata": {},
   "outputs": [],
   "source": [
    "# modify one entry\n",
    "nato_alphabet['Y'] = 'Yellow'\n",
    "\n",
    "nato_alphabet"
   ]
  },
  {
   "cell_type": "code",
   "execution_count": null,
   "metadata": {},
   "outputs": [],
   "source": [
    "# add a new entry\n",
    "nato_alphabet['LL'] = 'Llamas'\n",
    "\n",
    "nato_alphabet"
   ]
  },
  {
   "cell_type": "code",
   "execution_count": null,
   "metadata": {},
   "outputs": [],
   "source": [
    "# remove an entry\n",
    "del nato_alphabet['LL']\n",
    "\n",
    "nato_alphabet"
   ]
  },
  {
   "cell_type": "markdown",
   "metadata": {},
   "source": [
    "<div class=\"alert alert-block alert-light\">\n",
    "\n",
    "<div style=\"display: flex; justify-content: space-between;\">\n",
    "<div style=\"width: 48%; line-height: 1.5;\">\n",
    "\n",
    "#### Exercise\n",
    " Create a Python dictionary that links the names of the first 10 elements of the periodic table to their symbols.\n",
    "\n",
    "</div>\n",
    "<div style=\"width: 4%;\">\n",
    "</div>\n",
    "<div style=\"width: 48%; line-height: 1.5;color: grey;\">\n",
    "\n",
    "#### Übung\n",
    " Erstellen Sie ein Python-Wörterbuch, das die Namen der ersten 10 Elemente des Periodensystems mit ihren Symbolen verknüpft.\n",
    "\n",
    "</div>\n",
    "</div>"
   ]
  },
  {
   "cell_type": "code",
   "execution_count": null,
   "metadata": {},
   "outputs": [],
   "source": [
    "#countdown\n",
    "countdown_timer(5)"
   ]
  },
  {
   "cell_type": "code",
   "execution_count": null,
   "metadata": {},
   "outputs": [],
   "source": [
    "elements = {\n",
    "\"Hydrogen\": \"H\",\n",
    "\"Helium\": \"He\",\n",
    "\"Lithium\": \"Li\",\n",
    "\"Beryllium\": \"Be\",\n",
    "\"Boron\": \"B\",\n",
    "\"Carbon\": \"C\",\n",
    "\"Nitrogen\": \"N\",\n",
    "\"Oxygen\": \"O\",\n",
    "\"Fluorine\": \"F\",\n",
    "\"Neon\": \"Ne\"\n",
    "}\n",
    "\n",
    "print(elements)"
   ]
  },
  {
   "cell_type": "markdown",
   "metadata": {},
   "source": [
    "<div style=\"display: flex; justify-content: space-between;\">\n",
    "<div style=\"width: 48%; line-height: 1.5;\">\n",
    "\n",
    "##  It gets interesting \n",
    "\n",
    "One application of a dictionary is as a simple database: Values can be stored in association with keys instead of assigned to individual variable names. \n",
    "\n",
    "This is much easier to maintain and has the advantage that the keys can be arbitrary strings (or other immutable data types) whereas variable names are constrained by the syntax of the Python language.\n",
    "\n",
    "Now, let's assume we want to store more than just the element's symbol; we also want to include its atomic number and atomic weight for easy access.\n",
    "\n",
    "A *nested* dictionary in Python is a dictionary that contains other dictionaries as its values, allowing for the organization of complex, hierarchical data structures within a single dictionary. \n",
    "\n",
    "Consider the following dictionary that stores some information about the first 8 elements of the periodic table:\n",
    "\n",
    "</div>\n",
    "<div style=\"width: 4%;\">\n",
    "</div>\n",
    "<div style=\"width: 48%; line-height: 1.4;color: grey;\">\n",
    "\n",
    "## Es wird interessant \n",
    "\n",
    "Eine Anwendung eines Wörterbuchs ist die einer einfachen Datenbank: Werte können in Verbindung mit Schlüsseln gespeichert werden, anstatt sie einzelnen Variablennamen zuzuordnen. \n",
    "\n",
    "Dies ist viel einfacher zu pflegen und hat den Vorteil, dass die Schlüssel beliebige Zeichenketten (oder andere unveränderliche Datentypen) sein können, während Variablennamen durch die Syntax der Sprache Python eingeschränkt sind.\n",
    "\n",
    "Nehmen wir nun an, dass wir nicht nur das Symbol des Elements speichern wollen, sondern auch die Ordnungszahl und das Atomgewicht, um den Zugriff zu erleichtern. \n",
    "\n",
    "Ein *verschachteltes* Wörterbuch in Python ist ein Wörterbuch, das andere Wörterbücher als Werte enthält, was die Organisation komplexer, hierarchischer Datenstrukturen innerhalb eines einzigen Wörterbuchs ermöglicht. \n",
    "\n",
    "Betrachten Sie das folgende Wörterbuch, das einige Informationen über die ersten 8 Elemente des Periodensystems speichert:\n",
    "\n",
    "</div>\n",
    "</div>"
   ]
  },
  {
   "cell_type": "code",
   "execution_count": 3,
   "metadata": {},
   "outputs": [],
   "source": [
    "elements = {\n",
    "1: {\"Name\": \"Hydrogen\", \"Symbol\": \"H\", \"Atomic Weight\": 1.008},\n",
    "2: {\"Name\": \"Helium\", \"Symbol\": \"He\", \"Atomic Weight\": 4.0026},\n",
    "3: {\"Name\": \"Lithium\", \"Symbol\": \"Li\", \"Atomic Weight\": 6.94},\n",
    "4: {\"Name\": \"Beryllium\", \"Symbol\": \"Be\", \"Atomic Weight\": 9.1022},\n",
    "5: {\"Name\": \"Boron\", \"Symbol\": \"B\", \"Atomic Weight\": 10.81},\n",
    "6: {\"Name\": \"Carbon\", \"Symbol\": \"C\", \"Atomic Weight\": 12.011},\n",
    "7: {\"Name\": \"Nitrogen\", \"Symbol\": \"N\", \"Atomic Weight\": 14.007},\n",
    "8: {\"Name\": \"Oxygen\", \"Symbol\": \"O\", \"Atomic Weight\": 15.999}\n",
    "}"
   ]
  },
  {
   "cell_type": "markdown",
   "metadata": {},
   "source": [
    "<div style=\"display: flex; justify-content: space-between;\">\n",
    "<div style=\"width: 48%; line-height: 1.5;\">\n",
    "\n",
    "In this dictionary, the keys (`1`, `2`, `3`, etc.) represent the atomic numbers of the elements. \n",
    "Think of these as the row numbers in a table or spreadsheet. For example:\n",
    "\n",
    "  -  Row 1 corresponds to Hydrogen.\n",
    "\n",
    "  -  Row 2 corresponds to Helium.\n",
    "  \n",
    "  -  And so on.\n",
    "\n",
    "Inside each element's dictionary, you have keys like `\"Name\"`, `\"Symbol\"`, and `\"Atomic Weight\"`. \n",
    "These are like the column headers in a table or spreadsheet:\n",
    "\n",
    "  -  One column is labeled \"Name\".\n",
    "  \n",
    "  -   Another is labeled \"Symbol\".\n",
    "  \n",
    "  -   Another is labeled \"Atomic Weight\".\n",
    "\n",
    "The values inside the inner dictionaries are the actual data in each cell of the table:\n",
    "\n",
    "  -  For Hydrogen, the Name is \"Hydrogen\", the Symbol is \"H\", and the Atomic Weight is 1. \n",
    "  \n",
    "  -  For Helium, the Name is \"Helium\", the Symbol is \"He\", and the Atomic Weight is 4.\n",
    "\n",
    "\n",
    "</div>\n",
    "<div style=\"width: 4%;\">\n",
    "</div>\n",
    "<div style=\"width: 48%; line-height: 1.5;color: grey;\">\n",
    "\n",
    "In diesem Wörterbuch stellen die Schlüssel (`1`, `2`, `3`, etc.) die Ordnungszahlen der Elemente dar.\n",
    "Stellen Sie sich diese wie die Zeilennummern in einer Tabelle oder einem Arbeitsblatt vor.  Zum Beispiel:\n",
    "\n",
    "  -  Zeile 1 entspricht dem Wasserstoff.\n",
    "  \n",
    "  -  Zeile 2 steht für Helium.\n",
    "  \n",
    "  -  Und so weiter.\n",
    "\n",
    "Innerhalb des Wörterbuchs eines jeden Elements gibt es Schlüssel wie \"Name\", \"Symbol\" und \"Atomgewicht\".\n",
    "Diese sind wie die Spaltenüberschriften in einer Tabelle oder Tabellenkalkulation:\n",
    "\n",
    "  -  Eine Spalte ist mit \"Name\" beschriftet.\n",
    "  \n",
    "  -  Eine andere ist mit \"Symbol\" beschriftet.\n",
    "  \n",
    "  -  Eine weitere ist mit \"Atomgewicht\" beschriftet.\n",
    "\n",
    "Die Werte in den inneren Wörterbüchern sind die tatsächlichen Daten in jeder Zelle der Tabelle:\n",
    "\n",
    "  -  Für Wasserstoff ist der Name \"Hydrogen\", das Symbol ist \"H\" und das Atomgewicht ist 1.\n",
    "  \n",
    "  -  Für Helium ist der Name \"Helium\", das Symbol ist \"He\" und das Atomgewicht ist 4.\n",
    "\n",
    "\n",
    "</div>\n",
    "</div>"
   ]
  },
  {
   "cell_type": "markdown",
   "metadata": {},
   "source": [
    "<div style=\"text-align: center;\">\n",
    "<img src=\"./figures/dict_table.png\" width=\"350\">\n",
    "</div>"
   ]
  },
  {
   "cell_type": "code",
   "execution_count": null,
   "metadata": {},
   "outputs": [],
   "source": [
    "# Example: Accessing information about Oxygen (Atomic Number 8)\n",
    "elements[8]\n",
    "#print(f\"Element: {oxygen_info['Name']}, Symbol: {oxygen_info['Symbol']}, Atomic Weight: {oxygen_info['Atomic Weight']}\")"
   ]
  },
  {
   "cell_type": "code",
   "execution_count": null,
   "metadata": {},
   "outputs": [],
   "source": [
    "elements[8][\"Atomic Weight\"]"
   ]
  },
  {
   "cell_type": "code",
   "execution_count": null,
   "metadata": {},
   "outputs": [],
   "source": [
    "molar_mass_glucose = (6 * elements[6][\"Atomic Weight\"]) + (12 * elements[1][\"Atomic Weight\"]) + (6 * elements[8][\"Atomic Weight\"])\n",
    "molar_mass_glucose"
   ]
  },
  {
   "cell_type": "markdown",
   "metadata": {},
   "source": [
    "<div style=\"display: flex; justify-content: space-between;\">\n",
    "<div style=\"width: 48%; line-height: 1.5;\">\n",
    "\n",
    "Note that, in practice, this sort of data might be better held in a pandas DataFrame (my personal favorite, and the second part of this course.)\n",
    "\n",
    "- Use dictionaries when you're working with small datasets, need fast lookups, or are storing simple, structured data (we are going to see a notable example in a second).\n",
    "\n",
    "- Use Pandas DataFrames when you're working with large datasets, need to perform complex data analysis or manipulation, or require multi-dimensional data handling.\n",
    "\n",
    "\n",
    "</div>\n",
    "<div style=\"width: 4%;\">\n",
    "</div>\n",
    "<div style=\"width: 48%; line-height: 1.5;color: grey;\">\n",
    "\n",
    "Beachten Sie, dass diese Art von Daten in der Praxis besser in einem Pandas DataFrame gespeichert werden sollte (mein persönlicher Favorit und der zweite Teil dieses Kurses).\n",
    "\n",
    "- Verwenden Sie Dictionaries, wenn Sie mit kleinen Datensätzen arbeiten, schnelle Nachschlagewerke benötigen oder einfache, strukturierte Daten speichern (wir werden in einer Sekunde ein bemerkenswertes Beispiel sehen).\n",
    "\n",
    "- Verwenden Sie Pandas DataFrames, wenn Sie mit großen Datensätzen arbeiten, komplexe Datenanalysen oder -manipulationen durchführen müssen oder eine mehrdimensionale Datenverarbeitung benötigen.\n",
    "\n",
    "\n",
    "</div>\n",
    "</div>"
   ]
  },
  {
   "cell_type": "code",
   "execution_count": null,
   "metadata": {},
   "outputs": [],
   "source": [
    "import pandas as pd \n",
    "\n",
    "df = pd.DataFrame(elements).T\n",
    "\n",
    "df"
   ]
  },
  {
   "cell_type": "markdown",
   "metadata": {},
   "source": [
    "<div style=\"display: flex; justify-content: space-between;\">\n",
    "<div style=\"width: 48%; line-height: 1.5;\">\n",
    "\n",
    "###  Example: Physical Constants (SciPy)\n",
    "\n",
    "The package `scipy.constants` provides the numerical values of many of the constants used in physics and chemistry.\n",
    "\n",
    "Importing `scipy.constants` provides a dictionary, `scipy.constants.physical_constants` of *tuples* in the format: `(value, unit, uncertainty)`, keyed by identifying strings.\n",
    "\n",
    "</div>\n",
    "<div style=\"width: 4%;\">\n",
    "</div>\n",
    "<div style=\"width: 48%; line-height: 1.5;color: grey;\">\n",
    "\n",
    "###  Beispiel: Physikalische Konstanten (SciPy)\n",
    "\n",
    "Das Paket `scipy.constants` liefert die numerischen Werte vieler Konstanten, die in Physik und Chemie verwendet werden.\n",
    "\n",
    "Der Import von `scipy.constants` liefert ein Wörterbuch, `scipy.constants.physical_constants` von *Tupeln* im Format: `(Wert, Einheit, Unsicherheit)`, verschlüsselt durch identifizierende Zeichenketten.\n",
    "\n",
    "</div>\n",
    "</div>"
   ]
  },
  {
   "cell_type": "code",
   "execution_count": 4,
   "metadata": {},
   "outputs": [],
   "source": [
    "import scipy.constants as pc# we give it a short alias for convenience"
   ]
  },
  {
   "cell_type": "code",
   "execution_count": null,
   "metadata": {},
   "outputs": [],
   "source": [
    "pc.physical_constants  # behold the dictionary"
   ]
  },
  {
   "cell_type": "code",
   "execution_count": null,
   "metadata": {},
   "outputs": [],
   "source": [
    "pc.physical_constants['Wien displacement law constant']  # access a constant by its identifying string"
   ]
  },
  {
   "cell_type": "markdown",
   "metadata": {},
   "source": [
    "<div style=\"display: flex; justify-content: space-between;\">\n",
    "<div style=\"width: 48%; line-height: 1.5;\">\n",
    "\n",
    "Too much information? The most common constants, in SI units, can be imported directly:\n",
    "\n",
    "</div>\n",
    "<div style=\"width: 4%;\">\n",
    "</div>\n",
    "<div style=\"width: 48%; line-height: 1.5;color: grey;\">\n",
    "\n",
    "Zu viele Informationen? Die gängigsten Konstanten in SI-Einheiten können direkt importiert werden:\n",
    "\n",
    "</div>\n",
    "</div>"
   ]
  },
  {
   "cell_type": "code",
   "execution_count": null,
   "metadata": {},
   "outputs": [],
   "source": [
    "from scipy.constants import e, c, N_A, Boltzmann\n",
    "\n",
    "print(e)\n",
    "print(c)\n",
    "print(N_A)\n",
    "print(Boltzmann)"
   ]
  },
  {
   "cell_type": "markdown",
   "metadata": {},
   "source": [
    "<div style=\"display: flex; justify-content: space-between;\">\n",
    "<div style=\"width: 48%; line-height: 1.5;\">\n",
    "\n",
    "*From now on, there's no need to manually assign variables to constants—you can simply import them directly!*\n",
    "\n",
    "</div>\n",
    "<div style=\"width: 4%;\">\n",
    "</div>\n",
    "<div style=\"width: 48%; line-height: 1.5;color: grey;\">\n",
    "\n",
    "*Von nun an müssen Sie den Konstanten keine Variablen mehr manuell zuweisen, sondern können sie einfach direkt importieren!*\n",
    "\n",
    "</div>\n",
    "</div>"
   ]
  },
  {
   "cell_type": "markdown",
   "metadata": {},
   "source": [
    "| Constant Name| Description (English)  | Description (German)  | Value | Units|\n",
    "|--------------------------|----------------------------------------|-------------------------------------------|------------------------------------|------------------|\n",
    "| `c`  | Speed of light in vacuum   | Lichtgeschwindigkeit im Vakuum| 299,792,458| m/s  |\n",
    "| `G`  | Gravitational constant | Gravitationskonstante | 6.67430 × 10⁻¹¹| m³/kg/s² |\n",
    "| `h`  | Planck's constant  | Plancksches Wirkungsquantum   | 6.62607015 × 10⁻³⁴ | J·s  |\n",
    "| `k` or `Boltzmann`   | Boltzmann constant | Boltzmann-Konstante   | 1.380649 × 10⁻²³   | J/K  |\n",
    "| `e`  | Elementary charge  | Elementarladung   | 1.602176634 × 10⁻¹⁹| C|\n",
    "| `epsilon_0`  | Permittivity of free space | Elektrische Feldkonstante (Vakuum)| 8.8541878128 × 10⁻¹²   | F/m  |\n",
    "| `mu_0`   | Permeability of free space | Magnetische Feldkonstante (Vakuum)| 1.25663706212 × 10⁻⁶   | N/A² |\n",
    "| `N_A` or `Avogadro`  | Avogadro constant  | Avogadro-Konstante| 6.02214076 × 10²³  | mol⁻¹|\n",
    "| `R`  | Gas constant   | Gaskonstante  | 8.314462618| J/mol/K  |\n",
    "| `g`  | Standard acceleration due to gravity   | Standardfallbeschleunigung| 9.80665| m/s² |\n",
    "| `m_e`| Electron mass  | Elektronenmasse   | 9.10938356 × 10⁻³¹ | kg   |\n",
    "| `m_p`| Proton mass| Protonenmasse | 1.67262192369 × 10⁻²⁷  | kg   |\n",
    "| `sigma` or `Stefan_Boltzmann` | Stefan-Boltzmann constant| Stefan-Boltzmann-Konstante| 5.670374419 × 10⁻⁸ | W/m²/K⁴  |\n",
    "| `alpha`  | Fine-structure constant| Feinstrukturkonstante | 7.2973525693 × 10⁻³| /|\n",
    "| `Rydberg`| Rydberg constant   | Rydberg-Konstante | 10,973,731.56816   | m⁻¹  |\n"
   ]
  },
  {
   "cell_type": "markdown",
   "metadata": {},
   "source": [
    "<div class=\"alert alert-block alert-info\">\n",
    "\n",
    "<div style=\"display: flex; justify-content: space-between;\">\n",
    "<div style=\"width: 48%; line-height: 1.5;\">\n",
    "\n",
    "# Summary \n",
    "</div>\n",
    "<div style=\"width: 48%; line-height: 1.5;color: grey;\">\n",
    "\n",
    "# Zusammenfassung\n",
    "</div>\n",
    "</div>"
   ]
  },
  {
   "cell_type": "markdown",
   "metadata": {},
   "source": [
    "| Operation | Beschreibung | Lists  | Arrays (NumPy)| Dictionaries   |\n",
    "|-------------------------------|----------------------------------|------------------------------------|--------------------------------------|--------------------------------|\n",
    "| **Creation**  | **Erstellung**   | `my_list = [1, 2, 3]`  | `import numpy as np``my_array = np.array([1, 2, 3])` | `my_dict = {'a': 1, 'b': 2}`  |\n",
    "| **Access Element**| **Elementzugriff**   | `my_list[0]`| `my_array[0]`| `my_dict['a']`  |\n",
    "| **Add Element**   | **Element hinzufügen**   | `my_list.append(4)`| `np.append(my_array, 4)`  | `my_dict['c'] = 3`  |\n",
    "| **Insert Element**| **Element einfügen** | `my_list.insert(1, 10)`| `np.insert(my_array, 1, 10)`  | N/A  |\n",
    "| **Remove Element**| **Element entfernen**| `my_list.remove(2)`| `np.delete(my_array, 1)`  | `del my_dict['a']`  |\n",
    "| **Update Element**| **Element aktualisieren**| `my_list[0] = 10`  | `my_array[0] = 10`| `my_dict['a'] = 10` |\n",
    "| **Length**| **Länge**| `len(my_list)` | `len(my_array)`   | `len(my_dict)`  |\n",
    "| **Slice** | **Slicing**  | `my_list[1:3]` | `my_array[1:3]`   | N/A  |\n",
    "| **Mathematical Operations**   | **Mathematische Operationen**| Not directly supported | `my_array * 2`| N/A  |\n",
    "| **Sort**  | **Sortieren**| `my_list.sort()`   | `np.sort(my_array)`  | N/A  |\n"
   ]
  },
  {
   "cell_type": "code",
   "execution_count": null,
   "metadata": {},
   "outputs": [],
   "source": []
  }
 ],
 "metadata": {
  "kernelspec": {
   "display_name": "base",
   "language": "python",
   "name": "python3"
  },
  "language_info": {
   "codemirror_mode": {
    "name": "ipython",
    "version": 3
   },
   "file_extension": ".py",
   "mimetype": "text/x-python",
   "name": "python",
   "nbconvert_exporter": "python",
   "pygments_lexer": "ipython3",
   "version": "3.10.14"
  }
 },
 "nbformat": 4,
 "nbformat_minor": 2
}
