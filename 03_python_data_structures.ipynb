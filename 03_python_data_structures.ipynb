{
 "cells": [
  {
   "cell_type": "code",
   "execution_count": 1,
   "metadata": {},
   "outputs": [
    {
     "data": {
      "text/html": [
       "<style>\n",
       "    body {\n",
       "        --vscode-font-family: \"CMU Sans Serif\"\n",
       "    }\n",
       "</style>\n"
      ],
      "text/plain": [
       "<IPython.core.display.HTML object>"
      ]
     },
     "metadata": {},
     "output_type": "display_data"
    }
   ],
   "source": [
    "%%HTML\n",
    "<style>\n",
    "    body {\n",
    "        --vscode-font-family: \"CMU Sans Serif\"\n",
    "    }\n",
    "</style>"
   ]
  },
  {
   "cell_type": "code",
   "execution_count": null,
   "metadata": {},
   "outputs": [],
   "source": [
    "from IPython.display import display, clear_output, HTML\n",
    "import time\n",
    "\n",
    "def countdown_timer(minutes):\n",
    "    total_seconds = minutes * 60\n",
    "    for seconds in range(total_seconds, 0, -1):\n",
    "        mins, secs = divmod(seconds, 60)\n",
    "        time_str = f\"{mins:02}'{secs:02}''\"\n",
    "        clear_output(wait=True)\n",
    "        # HTML with styling\n",
    "        display(HTML(f'<div style=\"font-size: 24px; color: blue; font-weight: bold;\">Time remaining: {time_str}</div>'))\n",
    "        time.sleep(1)\n",
    "    clear_output(wait=True)\n",
    "    # Final message with different styling\n",
    "    display(HTML('<div style=\"font-size: 24px; color: green; font-weight: bold;\">Time\\'s up!</div>'))"
   ]
  },
  {
   "cell_type": "markdown",
   "metadata": {},
   "source": [
    "<div style=\"text-align: center;\">\n",
    "    <img src=\"https://upload.wikimedia.org/wikipedia/commons/thumb/f/f8/Python_logo_and_wordmark.svg/972px-Python_logo_and_wordmark.svg.png?20210516005643\" alt=\"The Python logo\" style=\"width: 60%; max-width: 500px;\">\n",
    "</div>"
   ]
  },
  {
   "cell_type": "markdown",
   "metadata": {},
   "source": [
    "<div class=\"alert alert-block alert-light\">\n",
    "\n",
    "<div style=\"display: flex; justify-content: space-between;\">\n",
    "<div style=\"width: 48%; line-height: 1.3;\">\n",
    "\n",
    "#### Exercise\n",
    "\n",
    "Insert a `Markdown` cell containing a heading: \"Data Structures\".\n",
    "</div>\n",
    "<div style=\"width: 48%; line-height: 1.3;color: grey;\">\n",
    "\n",
    "#### Übung\n",
    "\n",
    "Fügen Sie eine `Markdown`-Zelle mit einer Überschrift ein: \"Datenstrukturen\".\n",
    "</div>\n",
    "</div>"
   ]
  },
  {
   "cell_type": "code",
   "execution_count": null,
   "metadata": {},
   "outputs": [],
   "source": [
    "#countdown\n",
    "countdown_timer(1)"
   ]
  },
  {
   "cell_type": "markdown",
   "metadata": {},
   "source": [
    "<div class=\"alert alert-block alert-info\">\n",
    "\n",
    "<div style=\"display: flex; justify-content: space-between;\">\n",
    "<div style=\"width: 48%; line-height: 1.3;\">\n",
    "\n",
    "We’ll explore many objects and their methods today. \n",
    "\n",
    "Don’t worry—it might seem like a lot of information, but many features are recurring, and by encountering them repeatedly, you'll start to recognize them over time. \n",
    "\n",
    "The goal is for you to build a mental map of what’s possible.\n",
    "\n",
    "</div>\n",
    "<div style=\"width: 48%; line-height: 1.3;color: grey;\">\n",
    "\n",
    "Wir werden heute viele Objekte und ihre Methoden untersuchen. \n",
    "\n",
    "Keine Sorge - es mag Ihnen wie eine Menge Informationen vorkommen, aber viele Funktionen tauchen immer wieder auf, und wenn Sie ihnen wiederholt begegnen, werden Sie sie mit der Zeit erkennen. \n",
    "\n",
    "Das Ziel ist, dass Sie sich ein Bild davon machen, was möglich ist.\n",
    "\n",
    "</div>\n",
    "</div>"
   ]
  },
  {
   "cell_type": "markdown",
   "metadata": {},
   "source": [
    "<div class=\"alert alert-block alert-warning\">\n",
    "\n",
    "<div style=\"display: flex; justify-content: space-between;\">\n",
    "<div style=\"width: 48%; line-height: 1.3;\">\n",
    "\n",
    "# Lists \n",
    "</div>\n",
    "<div style=\"width: 48%; line-height: 1.3;color: grey;\">\n",
    "\n",
    "# Listen\n",
    "</div>\n",
    "</div>"
   ]
  },
  {
   "cell_type": "markdown",
   "metadata": {},
   "source": [
    "<div style=\"display: flex; justify-content: space-between;\">\n",
    "<div style=\"width: 48%; line-height: 1.3;\">\n",
    "\n",
    "A string is a *sequence*: a collection of objects (in that case, characters).\n",
    "Lists are also an example of sequences.\n",
    "Lists in Python are used to store ordered collections of values. You can create a list by placing elements inside square brackets, separated by commas:\n",
    "\n",
    "</div>\n",
    "<div style=\"width: 48%; line-height: 1.3;color: grey;\">\n",
    "\n",
    "Ein String ist eine *Sequenz*: eine Sammlung von Objekten (in diesem Fall von Zeichen).\n",
    "Auch Listen sind ein Beispiel für Sequenzen.\n",
    "Listen in Python werden verwendet, um geordnete Sammlungen von Werten zu speichern. Sie können eine Liste erstellen, indem Sie Elemente in eckige Klammern setzen, die durch Kommas getrennt sind:\n",
    "\n",
    "</div>\n",
    "</div>"
   ]
  },
  {
   "cell_type": "code",
   "execution_count": 16,
   "metadata": {},
   "outputs": [
    {
     "data": {
      "text/plain": [
       "list"
      ]
     },
     "execution_count": 16,
     "metadata": {},
     "output_type": "execute_result"
    }
   ],
   "source": [
    "# a list of numbers\n",
    "\n",
    "prime_numbers = [2, 3, 5, 7, 11, 13]\n",
    "\n",
    "type(prime_numbers)"
   ]
  },
  {
   "cell_type": "code",
   "execution_count": null,
   "metadata": {},
   "outputs": [],
   "source": [
    "# a list of strings\n",
    "\n",
    "planets = ['Mercury', 'Venus', 'Earth', 'Mars', 'Jupiter', 'Saturn', 'Uranus', 'Neptune']"
   ]
  },
  {
   "cell_type": "code",
   "execution_count": null,
   "metadata": {},
   "outputs": [],
   "source": [
    "# a list of lists\n",
    "\n",
    "hands = [\n",
    "['J', 'Q', 'K'],\n",
    "['2', '2', '2'],\n",
    "['6', 'A', 'K']\n",
    "]\n",
    "\n",
    "# (it can also be written on one line, but it can get hard to read)\n",
    "# hands = [['J', 'Q', 'K'], ['2', '2', '2'], ['6', 'A', 'K']]"
   ]
  },
  {
   "cell_type": "markdown",
   "metadata": {},
   "source": [
    "<div style=\"display: flex; justify-content: space-between;\">\n",
    "<div style=\"width: 48%; line-height: 1.3;\">\n",
    "\n",
    "The individual entries do not need to have the same type:\n",
    "\n",
    "</div>\n",
    "<div style=\"width: 48%; line-height: 1.3;color: grey;\">\n",
    "\n",
    "Die einzelnen Einträge müssen nicht den gleichen Typ haben:\n",
    "\n",
    "</div>\n",
    "</div>"
   ]
  },
  {
   "cell_type": "code",
   "execution_count": null,
   "metadata": {},
   "outputs": [],
   "source": [
    "# a list of mixed data types\n",
    "\n",
    "a = [3.2, 'hello', [4, 8, 17.1]] "
   ]
  },
  {
   "cell_type": "markdown",
   "metadata": {},
   "source": [
    "<div class=\"alert alert-block alert-light\">\n",
    "\n",
    "<div style=\"display: flex; justify-content: space-between;\">\n",
    "<div style=\"width: 48%; line-height: 1.3;\">\n",
    "\n",
    "#### Exercise\n",
    "Channel your inner Quentin Tarantino and create a Python list that captures the five key names from \"Kill Bill's\" notorious death list.\n",
    "\n",
    "</div>\n",
    "<div style=\"width: 48%; line-height: 1.3;color: grey;\">\n",
    "\n",
    "#### Übung\n",
    "Lassen Sie Ihren inneren Quentin Tarantino sprechen und erstellen Sie eine Python-Liste, die die fünf wichtigsten Namen aus der berüchtigten Todesliste von \"Kill Bill\" enthält.\n",
    "\n",
    "</div>\n",
    "</div>\n",
    "\n",
    "<div style=\"text-align: center;\">\n",
    "<img src=\"./figures/death_list_five.png\" width=\"300\">\n",
    "</div>"
   ]
  },
  {
   "cell_type": "code",
   "execution_count": null,
   "metadata": {},
   "outputs": [],
   "source": [
    "#countdown\n",
    "countdown_timer(5)"
   ]
  },
  {
   "cell_type": "code",
   "execution_count": null,
   "metadata": {},
   "outputs": [],
   "source": [
    "death_list_five = ['O-Ren Ishii', 'Vernita Green', 'Budd', 'Elle Driver', 'Bill']\n",
    "\n",
    "death_list_five"
   ]
  },
  {
   "cell_type": "markdown",
   "metadata": {},
   "source": [
    "<div style=\"display: flex; justify-content: space-between;\">\n",
    "<div style=\"width: 48%; line-height: 1.3;\">\n",
    "Lists are *ordered*, which means that its elements can be referred to with unique integer indexes.\n",
    "Therefore Lists can be indexed, sliced and iterated over just like strings.\n",
    "</div>\n",
    "<div style=\"width: 4%;\">\n",
    "</div>\n",
    "<div style=\"width: 48%; line-height: 1.3;color: grey;\">\n",
    "Listen sind *geordnet*, was bedeutet, dass auf ihre Elemente mit eindeutigen ganzzahligen Indizes verwiesen werden kann.\n",
    "Daher können Listen genau wie Zeichenketten indiziert, zerlegt und iteriert werden.\n",
    "</div>\n",
    "</div>"
   ]
  },
  {
   "cell_type": "markdown",
   "metadata": {},
   "source": [
    "<div style=\"display: flex; justify-content: space-between;\">\n",
    "<div style=\"width: 48%; line-height: 1.3;\">\n",
    "\n",
    "## Indexing \n",
    "\n",
    "You can access individual elements `i` in a list using square brackets with the syntax `list[i]`. To retrieve the first element of a list, you would use index `0`, as Python uses zero-based indexing:\n",
    "\n",
    "</div>\n",
    "<div style=\"width: 4%;\">\n",
    "</div>\n",
    "<div style=\"width: 48%; line-height: 1.3;color: grey;\">\n",
    "\n",
    "## Indexierung \n",
    "\n",
    " Sie können auf einzelne Elemente `i` in einer Liste zugreifen, indem Sie eckige Klammern mit der Syntax `list[i]` verwenden. Um das erste Element einer Liste abzurufen, verwenden Sie den Index `0`, da Python eine nullbasierte Indizierung verwendet:\n",
    "\n",
    "</div>\n",
    "</div>"
   ]
  },
  {
   "cell_type": "markdown",
   "metadata": {},
   "source": [
    "<div style=\"text-align: center;\">\n",
    "<img src=\"./figures/ListIndex.png\" width=\"400\"> \n",
    "</div>"
   ]
  },
  {
   "cell_type": "code",
   "execution_count": null,
   "metadata": {},
   "outputs": [],
   "source": [
    "planets = ['Mercury', 'Venus', 'Earth', 'Mars', 'Jupiter', 'Saturn', 'Uranus', 'Neptune']"
   ]
  },
  {
   "cell_type": "markdown",
   "metadata": {},
   "source": [
    "<div class=\"alert alert-block alert-light\">\n",
    "\n",
    "<div style=\"display: flex; justify-content: space-between;\">\n",
    "<div style=\"width: 48%; line-height: 1.3;\">\n",
    "\n",
    "#### Exercise\n",
    "What is the first planet (closest to the Sun)?\n",
    "\n",
    "</div>\n",
    "<div style=\"width: 4%;\">\n",
    "</div>\n",
    "<div style=\"width: 48%; line-height: 1.3;color: grey;\">\n",
    "\n",
    "#### Übung\n",
    "Was ist der erste Planet (am nächsten zur Sonne)?\n",
    "\n",
    "</div>\n",
    "</div>"
   ]
  },
  {
   "cell_type": "code",
   "execution_count": null,
   "metadata": {},
   "outputs": [],
   "source": [
    "#countdown\n",
    "countdown_timer(5)"
   ]
  },
  {
   "cell_type": "markdown",
   "metadata": {},
   "source": [
    "<div style=\"display: flex; justify-content: space-between;\">\n",
    "<div style=\"width: 48%; line-height: 1.3;\">\n",
    "\n",
    "When an entry in a list is itself a list, we can use a second index to access the elements of this: `list[i][j]`.\n",
    "\n",
    "</div>\n",
    "<div style=\"width: 48%; line-height: 1.3;color: grey;\">\n",
    "\n",
    "Wenn ein Eintrag in einer Liste selbst eine Liste ist, können wir einen zweiten Index verwenden, um auf die Elemente dieser Liste zuzugreifen: `list[i][j]`.\n",
    "\n",
    "</div>\n",
    "</div>"
   ]
  },
  {
   "cell_type": "code",
   "execution_count": 1,
   "metadata": {
    "ExecuteTime": {
     "end_time": "2024-10-09T12:17:48.973696Z",
     "start_time": "2024-10-09T12:17:48.957085Z"
    }
   },
   "outputs": [
    {
     "data": {
      "text/plain": [
       "3"
      ]
     },
     "execution_count": 1,
     "metadata": {},
     "output_type": "execute_result"
    }
   ],
   "source": [
    "hands = [\n",
    "['J', 'Q', 'K'],\n",
    "['2', '2', '2'],\n",
    "['6', 'A', 'K']\n",
    "]\n",
    "len(hands)"
   ]
  },
  {
   "cell_type": "markdown",
   "metadata": {},
   "source": [
    "<div class=\"alert alert-block alert-light\">\n",
    "\n",
    "<div style=\"display: flex; justify-content: space-between;\">\n",
    "<div style=\"width: 48%; line-height: 1.3;\">\n",
    "\n",
    "#### Exercise\n",
    "Try to get the position of the element \"A\".\n",
    "\n",
    "</div>\n",
    "<div style=\"width: 4%;\">\n",
    "</div>\n",
    "<div style=\"width: 48%; line-height: 1.3;color: grey;\">\n",
    "\n",
    "#### Übung\n",
    "Versuchen Sie, die Position des Elements \"A\" zu ermitteln.\n",
    "\n",
    "</div>\n",
    "</div>"
   ]
  },
  {
   "cell_type": "code",
   "execution_count": null,
   "metadata": {},
   "outputs": [],
   "source": [
    "#countdown\n",
    "countdown_timer(5)"
   ]
  },
  {
   "cell_type": "code",
   "execution_count": 14,
   "metadata": {},
   "outputs": [
    {
     "data": {
      "text/plain": [
       "'A'"
      ]
     },
     "execution_count": 14,
     "metadata": {},
     "output_type": "execute_result"
    }
   ],
   "source": [
    "hands[2][1]"
   ]
  },
  {
   "cell_type": "markdown",
   "metadata": {},
   "source": [
    "<div style=\"display: flex; justify-content: space-between;\">\n",
    "<div style=\"width: 48%; line-height: 1.3;\">\n",
    "\n",
    "Python has a built in convenience features for accessing the Lists. It helps the user here replacing the `len(list)-x` expression with just `-x`, so Elements at the end of the list can be accessed with negative indices starting with the last Element at `-1`.\n",
    "\n",
    "</div>\n",
    "<div style=\"width: 4%;\">\n",
    "</div>\n",
    "<div style=\"width: 48%; line-height: 1.5;color: grey;\">\n",
    "\n",
    "Python verfügt über eine eingebaute Komfortfunktion für den Zugriff auf Listen. Sie hilft dem Benutzer dabei, den Ausdruck `len(list)-x` durch `-x` zu ersetzen, so dass auf Elemente am Ende der Liste mit negativen Indizes zugegriffen werden kann, beginnend mit dem letzten Element bei `-1`.\n",
    "\n",
    "</div>\n",
    "</div>"
   ]
  },
  {
   "cell_type": "markdown",
   "metadata": {},
   "source": [
    "<div class=\"alert alert-block alert-light\">\n",
    "\n",
    "<div style=\"display: flex; justify-content: space-between;\">\n",
    "<div style=\"width: 48%; line-height: 1.3;\">\n",
    "\n",
    "#### Exercise\n",
    "What is the last planet (farthest from the Sun)?\n",
    "\n",
    "</div>\n",
    "<div style=\"width: 4%;\">\n",
    "</div>\n",
    "<div style=\"width: 48%; line-height: 1.3;color: grey;\">\n",
    "\n",
    "#### Übung\n",
    "Welcher ist der letzte Planet (am weitesten von der Sonne entfernt)?\n",
    "\n",
    "</div>\n",
    "</div>"
   ]
  },
  {
   "cell_type": "code",
   "execution_count": null,
   "metadata": {},
   "outputs": [],
   "source": [
    "#countdown\n",
    "countdown_timer(5)"
   ]
  },
  {
   "cell_type": "code",
   "execution_count": null,
   "metadata": {},
   "outputs": [],
   "source": [
    "planets[-1]"
   ]
  },
  {
   "cell_type": "markdown",
   "metadata": {},
   "source": [
    "<div style=\"display: flex; justify-content: space-between;\">\n",
    "<div style=\"width: 48%; line-height: 1.3;\">\n",
    "\n",
    "The advantage of using negative list indices is that we don't need actively call the length of the list to retrieve the last value as its index will always be `-1` regardless of the list's length.\n",
    "\n",
    "</div>\n",
    "<div style=\"width: 4%;\">\n",
    "</div>\n",
    "<div style=\"width: 48%; line-height: 1.3;color: grey;\">\n",
    "\n",
    "Der Vorteil der Verwendung negativer Listenindizes besteht darin, dass wir nicht aktiv die Länge der Liste aufrufen müssen, um den letzten Wert abzurufen da sein Index unabhängig von der Länge der Liste immer `-1` ist.\n",
    "\n",
    "</div>\n",
    "</div>"
   ]
  },
  {
   "cell_type": "markdown",
   "metadata": {},
   "source": [
    "<div style=\"display: flex; justify-content: space-between;\">\n",
    "<div style=\"width: 48%; line-height: 1.3;\">\n",
    " \n",
    "## Slicing \n",
    "\n",
    "Slicing allows you to access a subset of a list by specifying a start index, an end index, and an optional step. The syntax for slicing is:\n",
    "\n",
    "</div>\n",
    "<div style=\"width: 4%;\">\n",
    "</div>\n",
    "<div style=\"width: 48%; line-height: 1.3;color: grey;\">\n",
    "\n",
    "## Slicing \n",
    "\n",
    "Mit Slicing können Sie auf eine Teilmenge einer Liste zugreifen, indem Sie einen Startindex, einen Endindex und einen optionalen Schritt angeben. Die Syntax für Slicing lautet:\n",
    "\n",
    "</div>\n",
    "</div>"
   ]
  },
  {
   "cell_type": "markdown",
   "metadata": {},
   "source": [
    "```python\n",
    "list[start:end:step]        # returns items from start to (end-1) at intervals defined by step\n",
    "```"
   ]
  },
  {
   "cell_type": "markdown",
   "metadata": {},
   "source": [
    "<div style=\"display: flex; justify-content: space-between;\">\n",
    "<div style=\"width: 48%; line-height: 1.3;\">\n",
    "\n",
    "Beware: the right slice index specifies where we want to stop slicing, and <b>is not</b> included in the returned slice.\n",
    "\n",
    "</div>\n",
    "<div style=\"width: 4%;\">\n",
    "</div>\n",
    "<div style=\"width: 48%; line-height: 1.3;color: grey;\">\n",
    "\n",
    "Achtung: Der rechte Slice-Index gibt an, wo wir mit dem Slicen aufhören wollen, und <b>ist nicht</b> im zurückgegebenen Slice enthalten.\n",
    "\n",
    "</div>\n",
    "</div>"
   ]
  },
  {
   "cell_type": "code",
   "execution_count": 18,
   "metadata": {},
   "outputs": [],
   "source": [
    "german_national_team = [\n",
    "# Goalkeepers/Torhüter\n",
    "\"Manuel Neuer\", \n",
    "\"Marc-André ter Stegen\", \n",
    "\"Oliver Baumann\",\n",
    "\n",
    "# Defenders/Verteidiger\n",
    "\"Antonio Rüdiger\", \n",
    "\"Nico Schlotterbeck\", \n",
    "\"David Raum\", \n",
    "\"Waldemar Anton\", \n",
    "\"Jonathan Tah\", \n",
    "\"Robin Koch\", \n",
    "\"Maximilian Mittelstädt\", \n",
    "\"Benjamin Henrichs\", \n",
    "\"Joshua Kimmich\",\n",
    "\n",
    "# Midfielders/Mittelfeldspieler\n",
    "\"Ilkay Gündogan\", \n",
    "\"Jamal Musiala\", \n",
    "\"Leroy Sané\", \n",
    "\"Florian Wirtz\", \n",
    "\"Pascal Groß\", \n",
    "\"Emre Can\", \n",
    "\"Robert Andrich\", \n",
    "\"Chris Führich\", \n",
    "\"Toni Kroos\",\n",
    "\n",
    "# Forwards/Stürmer\n",
    "\"Kai Havertz\", \n",
    "\"Niclas Füllkrug\", \n",
    "\"Thomas Müller\", \n",
    "\"Maximilian Beier\", \n",
    "\"Deniz Undav\"\n",
    "]"
   ]
  },
  {
   "cell_type": "markdown",
   "metadata": {},
   "source": [
    "<div class=\"alert alert-block alert-light\">\n",
    "\n",
    "<div style=\"display: flex; justify-content: space-between;\">\n",
    "<div style=\"width: 48%; line-height: 1.3;\">\n",
    "\n",
    "#### Exercise\n",
    "\n",
    " Using list slicing, extract the goalkeepers, defenders, midfielders, and forwards from the `german_national_team` list. \n",
    " \n",
    " Assign the results to variables with descriptive names for each group of players.\n",
    "</div>\n",
    "<div style=\"width: 4%;\">\n",
    "</div>\n",
    "<div style=\"width: 48%; line-height: 1.3;color: grey;\">\n",
    "\n",
    "#### Übung\n",
    "\n",
    "Extrahieren Sie mithilfe von List Slicing die Torhüter, Verteidiger, Mittelfeldspieler und Stürmer aus der Liste `german_national_team`. \n",
    "\n",
    "Weisen Sie die Ergebnisse den Variablen mit beschreibenden Namen für jede Gruppe von Spielern zu.\n",
    "</div>\n",
    "</div>"
   ]
  },
  {
   "cell_type": "code",
   "execution_count": null,
   "metadata": {},
   "outputs": [],
   "source": [
    "#countdown\n",
    "countdown_timer(10)"
   ]
  },
  {
   "cell_type": "code",
   "execution_count": 19,
   "metadata": {},
   "outputs": [
    {
     "name": "stdout",
     "output_type": "stream",
     "text": [
      "['Manuel Neuer', 'Marc-André ter Stegen', 'Oliver Baumann']\n",
      "['Antonio Rüdiger', 'Nico Schlotterbeck', 'David Raum', 'Waldemar Anton', 'Jonathan Tah', 'Robin Koch', 'Maximilian Mittelstädt', 'Benjamin Henrichs', 'Joshua Kimmich']\n",
      "['Ilkay Gündogan', 'Jamal Musiala', 'Leroy Sané', 'Florian Wirtz', 'Pascal Groß', 'Emre Can', 'Robert Andrich', 'Chris Führich', 'Toni Kroos']\n",
      "['Kai Havertz', 'Niclas Füllkrug', 'Thomas Müller', 'Maximilian Beier', 'Deniz Undav']\n"
     ]
    }
   ],
   "source": [
    "goalkeepers = german_national_team[:3] \n",
    "print(goalkeepers)  \n",
    "\n",
    "defenders = german_national_team[3:12] \n",
    "print(defenders)  \n",
    "\n",
    "midfielders = german_national_team[12:21] \n",
    "print(midfielders)  \n",
    "\n",
    "forwards = german_national_team[21:] \n",
    "print(forwards)  "
   ]
  },
  {
   "cell_type": "markdown",
   "metadata": {},
   "source": [
    "<div style=\"display: flex; justify-content: space-between;\">\n",
    "<div style=\"width: 48%; line-height: 1.3;\">\n",
    "\n",
    "The starting and ending indices in slicing are both optional.\n",
    "\n",
    "-  If you omit the start index, it defaults to `0`, meaning the slice begins from the start of the list. \n",
    "\n",
    "-  If you omit the end index, it defaults to the length of the list, meaning the slice extends to the end of the list.\n",
    "\n",
    "-  If you omit both the starting and ending indices but keep a value `n` for the step, you get every n-th value from the entire list.\n",
    "\n",
    "</div>\n",
    "<div style=\"width: 4%;\">\n",
    "</div>\n",
    "<div style=\"width: 48%; line-height: 1.3;color: grey;\">\n",
    "\n",
    "Die Start- und Endindizes beim Slicing sind beide optional.\n",
    "\n",
    "- Wenn Sie den Startindex weglassen, ist er standardmäßig `0`, was bedeutet, dass das Slicing am Anfang der Liste beginnt.\n",
    "\n",
    "-  Wenn Sie den Endindex weglassen, wird er auf die Länge der Liste gesetzt, was bedeutet, dass das Slicing bis zum Ende der Liste reicht.\n",
    "\n",
    "-  Wenn Sie sowohl den Start- als auch den Endindex weglassen, aber einen Wert `n` für den Schritt beibehalten, erhalten Sie jeden n-ten Wert der gesamten Liste.\n",
    "\n",
    "</div>\n",
    "</div>"
   ]
  },
  {
   "cell_type": "code",
   "execution_count": null,
   "metadata": {},
   "outputs": [],
   "source": [
    "# Get every other planet from the beginning to the end\n",
    "every_other = planets[::2]\n",
    "print(every_other)  "
   ]
  },
  {
   "cell_type": "markdown",
   "metadata": {},
   "source": [
    "<div class=\"alert alert-block alert-light\">\n",
    "\n",
    "<div style=\"display: flex; justify-content: space-between;\">\n",
    "<div style=\"width: 48%; line-height: 1.3;\">\n",
    "\n",
    "#### Exercise\n",
    "\n",
    "-  Create a list of the first 10 integers\n",
    "\n",
    "-  Extract all odd numbers\n",
    "\n",
    "-  Extract all even numbers\n",
    "\n",
    "</div>\n",
    "<div style=\"width: 4%;\">\n",
    "</div>\n",
    "<div style=\"width: 48%; line-height: 1.3;color: grey;\">\n",
    "\n",
    "#### Übung\n",
    "\n",
    "-  Erstellen einer Liste mit den ersten 10 ganzen Zahlen\n",
    "\n",
    "-  Extrahiere alle ungeraden Zahlen\n",
    "\n",
    "-  Extrahiere alle geraden Zahlen\n",
    "\n",
    "</div>\n",
    "</div>"
   ]
  },
  {
   "cell_type": "code",
   "execution_count": null,
   "metadata": {},
   "outputs": [],
   "source": [
    "#countdown\n",
    "countdown_timer(5)"
   ]
  },
  {
   "cell_type": "code",
   "execution_count": null,
   "metadata": {},
   "outputs": [],
   "source": [
    "numbers = [1,2,3,4,5,6,7,8,9,10]\n",
    "\n",
    "odd_numbers = numbers[::2]\n",
    "print(odd_numbers)\n",
    "\n",
    "even_numbers = numbers[1::2]\n",
    "print(even_numbers)"
   ]
  },
  {
   "cell_type": "markdown",
   "metadata": {},
   "source": [
    "<div style=\"display: flex; justify-content: space-between;\">\n",
    "<div style=\"width: 48%; line-height: 1.5;\">\n",
    "\n",
    "## Manipulating lists \n",
    "\n",
    "Lists are *mutable* (unlike strings!), which means you can change their contents directly. \n",
    "\n",
    "You can modify a list by assigning new values to specific indices or slices. \n",
    "\n",
    "For example, you can update individual elements or replace a range of elements using indexing or slicing.\n",
    "\n",
    "</div>\n",
    "<div style=\"width: 4%;\">\n",
    "</div>\n",
    "<div style=\"width: 48%; line-height: 1.3;color: grey;\">\n",
    "\n",
    "## Listen manipulieren\n",
    "\n",
    "Listen sind *veränderlich* (im Gegensatz zu Strings!), d.h. ihr Inhalt kann direkt geändert werden. \n",
    "\n",
    "Sie können eine Liste ändern, indem Sie bestimmten Indizes oder Slices neue Werte zuweisen. \n",
    "\n",
    "So können Sie beispielsweise einzelne Elemente aktualisieren oder einen Bereich von Elementen durch Indizierung oder Slicing ersetzen.\n",
    "\n",
    "</div>\n",
    "</div>"
   ]
  },
  {
   "cell_type": "code",
   "execution_count": null,
   "metadata": {},
   "outputs": [],
   "source": [
    "planets"
   ]
  },
  {
   "cell_type": "markdown",
   "metadata": {},
   "source": [
    "<div style=\"display: flex; justify-content: space-between;\">\n",
    "<div style=\"width: 48%; line-height: 1.5;\">\n",
    "\n",
    "### Replacing elements    \n",
    " To change the value of an individual element, we assign a new value to its index, similar to how we would assign a new value to a variable:\n",
    " \n",
    "</div>\n",
    "<div style=\"width: 4%;\">\n",
    "</div>\n",
    "<div style=\"width: 48%; line-height: 1.5;color: grey;\">\n",
    "\n",
    "###  Elemente ersetzen \n",
    "Um den Wert eines einzelnen Elements zu ändern, weisen wir seinem Index einen neuen Wert zu, ähnlich wie wir einer Variablen einen neuen Wert zuweisen würden:\n",
    "\n",
    "</div>\n",
    "</div>"
   ]
  },
  {
   "cell_type": "code",
   "execution_count": null,
   "metadata": {},
   "outputs": [],
   "source": [
    "planets[3] = 'Tatooine'\n",
    "\n",
    "planets"
   ]
  },
  {
   "cell_type": "markdown",
   "metadata": {},
   "source": [
    "<div style=\"display: flex; justify-content: space-between;\">\n",
    "<div style=\"width: 48%; line-height: 1.3;\">\n",
    " You can use list slicing to replace several elements simultaneously:\n",
    " \n",
    "</div>\n",
    "<div style=\"width: 4%;\">\n",
    "</div>\n",
    "<div style=\"width: 48%; line-height: 1.3;color: grey;\">\n",
    " Sie können die Listenaufteilung verwenden, um mehrere Elemente gleichzeitig zu ersetzen:\n",
    "\n",
    "</div>\n",
    "</div>"
   ]
  },
  {
   "cell_type": "code",
   "execution_count": null,
   "metadata": {},
   "outputs": [],
   "source": [
    "planets[:2] = ['Krypton', 'Solaris']\n",
    "\n",
    "planets"
   ]
  },
  {
   "cell_type": "markdown",
   "metadata": {},
   "source": [
    "<div class=\"alert alert-block alert-light\">\n",
    "\n",
    "<div style=\"display: flex; justify-content: space-between;\">\n",
    "<div style=\"width: 48%; line-height: 1.3;\">\n",
    "\n",
    "#### Exercise\n",
    "\n",
    "Change the planet names back to those of our solar system using indexing and slicing.\n",
    "\n",
    "</div>\n",
    "<div style=\"width: 4%;\">\n",
    "</div>\n",
    "<div style=\"width: 48%; line-height: 1.3;color: grey;\">\n",
    "\n",
    "#### Übung\n",
    "\n",
    "Ändern Sie die Planetennamen mit Hilfe von Indizierung und Slicing in die Namen unseres Sonnensystems zurück.\n",
    "\n",
    "</div>\n",
    "</div>"
   ]
  },
  {
   "cell_type": "code",
   "execution_count": null,
   "metadata": {},
   "outputs": [],
   "source": [
    "#countdown\n",
    "countdown_timer(5)"
   ]
  },
  {
   "cell_type": "markdown",
   "metadata": {},
   "source": [
    "<div style=\"display: flex; justify-content: space-between;\">\n",
    "<div style=\"width: 48%; line-height: 1.3;\">\n",
    "\n",
    "If the element is a number, we can manipulate it mathematically:\n",
    "\n",
    "</div>\n",
    "<div style=\"width: 4%;\">\n",
    "</div>\n",
    "<div style=\"width: 48%; line-height: 1.3;color: grey;\">\n",
    "\n",
    "Handelt es sich bei dem Element um eine Zahl, können wir es mathematisch manipulieren:\n",
    "\n",
    "</div>\n",
    "</div>"
   ]
  },
  {
   "cell_type": "code",
   "execution_count": null,
   "metadata": {},
   "outputs": [],
   "source": [
    "some_numbers=[2, 2, 2, 2]"
   ]
  },
  {
   "cell_type": "code",
   "execution_count": null,
   "metadata": {},
   "outputs": [],
   "source": [
    "some_numbers[0]=some_numbers[0]+7\n",
    "\n",
    "some_numbers[1]=some_numbers[1]/3\n",
    "\n",
    "some_numbers[2]=some_numbers[2]*2\n",
    "\n",
    "some_numbers[3]=some_numbers[3]**12\n",
    "\n",
    "some_numbers"
   ]
  },
  {
   "cell_type": "markdown",
   "metadata": {},
   "source": [
    "<div style=\"display: flex; justify-content: space-between;\">\n",
    "<div style=\"width: 48%; line-height: 1.3;\">\n",
    "\n",
    "### Adding elements    \n",
    " There are several methods for adding single elements to a list, depending on the desired position of the new element.\n",
    " \n",
    "</div>\n",
    "<div style=\"width: 4%;\">\n",
    "</div>\n",
    "<div style=\"width: 48%; line-height: 1.3;color: grey;\">\n",
    "\n",
    "### Elemente hinzufügen \n",
    "Es gibt mehrere Methoden, um einzelne Elemente an eine Liste anzufügen, je nachdem, an welcher Stelle das neue Element stehen soll.\n",
    "\n",
    "</div>\n",
    "</div>"
   ]
  },
  {
   "cell_type": "markdown",
   "metadata": {},
   "source": [
    "#### `append()`"
   ]
  },
  {
   "cell_type": "markdown",
   "metadata": {},
   "source": [
    "<div style=\"display: flex; justify-content: space-between;\">\n",
    "<div style=\"width: 48%; line-height: 1.3;\">\n",
    "\n",
    "To add an element to the end of a list, we use the `append()` method:\n",
    " \n",
    "</div>\n",
    "<div style=\"width: 4%;\">\n",
    "</div>\n",
    "<div style=\"width: 48%; line-height: 1.3;color: grey;\">\n",
    "\n",
    "Um ein Element am Ende einer Liste hinzuzufügen, verwenden wir die Methode `append()`:\n",
    "\n",
    "</div>\n",
    "</div>"
   ]
  },
  {
   "cell_type": "code",
   "execution_count": null,
   "metadata": {},
   "outputs": [],
   "source": [
    "letters=[\"b\", \"c\", \"d\", \"f\"]"
   ]
  },
  {
   "cell_type": "code",
   "execution_count": null,
   "metadata": {},
   "outputs": [],
   "source": [
    "letters.append(\"g\")\n",
    "letters.append(\"h\")\n",
    "\n",
    "letters"
   ]
  },
  {
   "cell_type": "markdown",
   "metadata": {},
   "source": [
    "#### `insert()`"
   ]
  },
  {
   "cell_type": "markdown",
   "metadata": {},
   "source": [
    "<div style=\"display: flex; justify-content: space-between;\">\n",
    "<div style=\"width: 48%; line-height: 1.3;\">\n",
    "\n",
    " We use the `insert()` method to add new entries to the beginning or middle of a list. \n",
    " \n",
    " This method is slightly more complex than `append()` because it requires two arguments rather than one. \n",
    " \n",
    " The first argument specifies the position—using the list index—where the new element will be inserted, and the second argument is the new element itself:\n",
    " \n",
    "</div>\n",
    "<div style=\"width: 4%;\">\n",
    "</div>\n",
    "<div style=\"width: 48%; line-height: 1.3;color: grey;\">\n",
    "\n",
    "Wir verwenden die Methode `insert()`, um neue Einträge am Anfang oder in der Mitte einer Liste hinzuzufügen. \n",
    "\n",
    "Diese Methode ist etwas komplizierter als `append()`, da sie zwei Argumente statt einem benötigt. \n",
    "\n",
    "Das erste Argument gibt die Position an, an der das neue Element eingefügt werden soll, und das zweite Argument ist das neue Element selbst:\n",
    "\n",
    "</div>\n",
    "</div>"
   ]
  },
  {
   "cell_type": "code",
   "execution_count": null,
   "metadata": {},
   "outputs": [],
   "source": [
    "letters"
   ]
  },
  {
   "cell_type": "code",
   "execution_count": null,
   "metadata": {},
   "outputs": [],
   "source": [
    "letters.insert(0, \"a\")\n",
    "\n",
    "letters.insert(4, \"e\")\n",
    "\n",
    "letters"
   ]
  },
  {
   "cell_type": "markdown",
   "metadata": {},
   "source": [
    "#### `list_a + list_b`"
   ]
  },
  {
   "cell_type": "markdown",
   "metadata": {},
   "source": [
    "<div style=\"display: flex; justify-content: space-between;\">\n",
    "<div style=\"width: 48%; line-height: 1.3;\">\n",
    " If we \"add\" two lists together, we create a new list containing the elements from each:\n",
    " \n",
    "</div>\n",
    "<div style=\"width: 4%;\">\n",
    "</div>\n",
    "<div style=\"width: 48%; line-height: 1.3;color: grey;\">\n",
    " Wenn wir zwei Listen \"addieren\", erstellen wir eine neue Liste, die die Elemente der beiden Listen enthält:\n",
    "\n",
    "</div>\n",
    "</div>"
   ]
  },
  {
   "cell_type": "code",
   "execution_count": null,
   "metadata": {},
   "outputs": [],
   "source": [
    "numbers = [1,2,3,4,5,6,7,8,9,10]\n",
    "\n",
    "odd_numbers = numbers[::2]\n",
    "print(odd_numbers)\n",
    "\n",
    "even_numbers = numbers[1::2]\n",
    "print(even_numbers)"
   ]
  },
  {
   "cell_type": "code",
   "execution_count": null,
   "metadata": {},
   "outputs": [],
   "source": [
    "odd_numbers + even_numbers"
   ]
  },
  {
   "cell_type": "markdown",
   "metadata": {},
   "source": [
    "<div style=\"display: flex; justify-content: space-between;\">\n",
    "<div style=\"width: 48%; line-height: 1.3;\">\n",
    " The elements are added in the order they appear; we will see in a moment how to sort them in a meaningful way.\n",
    " \n",
    "</div>\n",
    "<div style=\"width: 4%;\">\n",
    "</div>\n",
    "<div style=\"width: 48%; line-height: 1.3;color: grey;\">\n",
    " Die Elemente werden in der Reihenfolge hinzugefügt, in der sie erscheinen; wir werden gleich sehen, wie man sie sinnvoll sortiert.\n",
    "\n",
    "</div>\n",
    "</div>"
   ]
  },
  {
   "cell_type": "markdown",
   "metadata": {},
   "source": [
    "<div class=\"alert alert-block alert-light\">\n",
    "\n",
    "<div style=\"display: flex; justify-content: space-between;\">\n",
    "<div style=\"width: 48%; line-height: 1.3;\">\n",
    "\n",
    "#### Exercise\n",
    "\n",
    "The list `powers` in the code box below is intended to contain the first eight values of $2^n$ (i.e., for values of n ranging from 0 to 7 inclusive). However, the list currently has some missing elements and contains incorrect values:\n",
    "\n",
    "</div>\n",
    "<div style=\"width: 4%;\">\n",
    "</div>\n",
    "<div style=\"width: 48%; line-height: 1.3;color: grey;\">\n",
    "\n",
    "#### Übung\n",
    "\n",
    "Die Liste der Potenzen `powers` in der unten stehenden Codebox soll die ersten acht Werte von $2^n$ enthalten (d. h. für Werte von n von 0 bis einschließlich 7). Allerdings fehlen in der Liste derzeit einige Elemente und sie enthält falsche Werte:\n",
    "</div>\n",
    "</div>"
   ]
  },
  {
   "cell_type": "code",
   "execution_count": null,
   "metadata": {},
   "outputs": [],
   "source": [
    "powers=[1, 2, 5, 8, 33, 63]"
   ]
  },
  {
   "cell_type": "markdown",
   "metadata": {},
   "source": [
    "<div class=\"alert alert-block alert-light\">\n",
    "\n",
    "<div style=\"display: flex; justify-content: space-between;\">\n",
    "<div style=\"width: 48%; line-height: 1.3;\">\n",
    "\n",
    "- Change the value of any existing elements that are incorrect.\n",
    "\n",
    "- Add any missing elements to ensure that the list contains the correct values.\n",
    "\n",
    "</div>\n",
    "<div style=\"width: 4%;\">\n",
    "</div>\n",
    "<div style=\"width: 48%; line-height: 1.3; color: grey;\">\n",
    "\n",
    "- Ändern Sie den Wert aller vorhandenen Elemente, die nicht korrekt sind.\n",
    "\n",
    "- Fügen Sie alle fehlenden Elemente hinzu, um sicherzustellen, dass die Liste die richtigen Werte enthält.\n",
    "\n",
    "</div>\n",
    "</div>\n",
    "</div>"
   ]
  },
  {
   "cell_type": "code",
   "execution_count": null,
   "metadata": {},
   "outputs": [],
   "source": [
    "#countdown\n",
    "countdown_timer(5)"
   ]
  },
  {
   "cell_type": "code",
   "execution_count": null,
   "metadata": {},
   "outputs": [],
   "source": [
    "powers[2]=4\n",
    "powers[4]=32\n",
    "powers[5]=64\n",
    "powers.append(128)"
   ]
  },
  {
   "cell_type": "markdown",
   "metadata": {},
   "source": [
    "<div style=\"display: flex; justify-content: space-between;\">\n",
    "<div style=\"width: 48%; line-height: 1.3;\">\n",
    "\n",
    "### Removing elements    \n",
    "\n",
    " To remove elements from a list, we can use the `pop()` method by specifying the index of the element we want to remove:\n",
    " \n",
    "</div>\n",
    "<div style=\"width: 4%;\">\n",
    "</div>\n",
    "<div style=\"width: 48%; line-height: 1.3;color: grey;\">\n",
    "\n",
    "###  Elemente entfernen \n",
    "\n",
    "Um Elemente aus einer Liste zu entfernen, kann man die Methode `pop()` verwenden, indem man den Index des zu entfernenden Elements angibt:\n",
    "\n",
    "</div>\n",
    "</div>"
   ]
  },
  {
   "cell_type": "code",
   "execution_count": null,
   "metadata": {},
   "outputs": [],
   "source": [
    "#Create a list called \"vegetables\" containing incorrect entries (fruits)\n",
    "vegetables=[\"carrot\", \"orange\", \"broccoli\", \"onion\", \"strawberry\", \"asparagus\", \"apple\"]"
   ]
  },
  {
   "cell_type": "code",
   "execution_count": null,
   "metadata": {},
   "outputs": [],
   "source": [
    "#orange (list index 1) is a fruit - remove it!\n",
    "vegetables.pop(1)\n",
    "\n",
    "vegetables"
   ]
  },
  {
   "cell_type": "code",
   "execution_count": null,
   "metadata": {},
   "outputs": [],
   "source": [
    "#strawberry is also a fruit - remove it!\n",
    "vegetables.pop(3) #note that because we removed orange from the list, the index for strawberry has decreased by one\n",
    "\n",
    "#apple is certainly not a vegetable - remove it!\n",
    "vegetables.pop(-1) #we can also use negative indices to specify which element to remove\n",
    "\n",
    "#print the correct list\n",
    "vegetables"
   ]
  },
  {
   "cell_type": "markdown",
   "metadata": {},
   "source": [
    "<div style=\"display: flex; justify-content: space-between;\">\n",
    "<div style=\"width: 48%; line-height: 1.3;\">\n",
    "\n",
    "## Some useful functions \n",
    "</div>\n",
    "<div style=\"width: 4%;\">\n",
    "</div>\n",
    "<div style=\"width: 48%; line-height: 1.3;color: grey;\">\n",
    "\n",
    "## Einige nützliche Funktionen\n",
    "</div>\n",
    "</div>"
   ]
  },
  {
   "cell_type": "markdown",
   "metadata": {},
   "source": [
    "#### `len()`"
   ]
  },
  {
   "cell_type": "code",
   "execution_count": 21,
   "metadata": {},
   "outputs": [
    {
     "data": {
      "text/plain": [
       "8"
      ]
     },
     "execution_count": 21,
     "metadata": {},
     "output_type": "execute_result"
    }
   ],
   "source": [
    "planets = [\"Mercury\", \"Venus\", \"Earth\", \"Mars\", \"Jupiter\", \"Saturn\", \"Uranus\", \"Neptune\"]\n",
    "\n",
    "len(planets)"
   ]
  },
  {
   "cell_type": "markdown",
   "metadata": {},
   "source": [
    "<div class=\"alert alert-block alert-light\">\n",
    "\n",
    "<div style=\"display: flex; justify-content: space-between;\">\n",
    "<div style=\"width: 48%; line-height: 1.3;\">\n",
    "\n",
    "#### Exercise\n",
    " How many players are in the german football team?\n",
    "\n",
    "</div>\n",
    "<div style=\"width: 4%;\">\n",
    "</div>\n",
    "<div style=\"width: 48%; line-height: 1.3;color: grey;\">\n",
    "\n",
    "#### Übung\n",
    " Wie viele Spieler sind in der deutschen Fußballmannschaft?\n",
    "</div>\n",
    "</div>"
   ]
  },
  {
   "cell_type": "code",
   "execution_count": null,
   "metadata": {},
   "outputs": [],
   "source": [
    "#countdown\n",
    "countdown_timer(5)"
   ]
  },
  {
   "cell_type": "markdown",
   "metadata": {},
   "source": [
    "#### `sorted()`"
   ]
  },
  {
   "cell_type": "code",
   "execution_count": null,
   "metadata": {},
   "outputs": [],
   "source": [
    "sorted(planets)"
   ]
  },
  {
   "cell_type": "markdown",
   "metadata": {},
   "source": [
    "<div class=\"alert alert-block alert-light\">\n",
    "\n",
    "<div style=\"display: flex; justify-content: space-between;\">\n",
    "<div style=\"width: 48%; line-height: 1.3;\">\n",
    "\n",
    "#### Exercise\n",
    "\n",
    " Sort the outcome of `odd_numbers + even_numbers`.\n",
    "\n",
    "</div>\n",
    "<div style=\"width: 4%;\">\n",
    "</div>\n",
    "<div style=\"width: 48%; line-height: 1.3;color: grey;\">\n",
    "\n",
    "#### Übung\n",
    "\n",
    " Sortieren Sie das Ergebnis von `ungerade_Zahlen + gerade_Zahlen`.\n",
    "</div>\n",
    "</div>"
   ]
  },
  {
   "cell_type": "code",
   "execution_count": null,
   "metadata": {},
   "outputs": [],
   "source": [
    "#countdown\n",
    "countdown_timer(5)"
   ]
  },
  {
   "cell_type": "markdown",
   "metadata": {},
   "source": [
    "#### `in` (membership test)"
   ]
  },
  {
   "cell_type": "code",
   "execution_count": 22,
   "metadata": {},
   "outputs": [
    {
     "data": {
      "text/plain": [
       "False"
      ]
     },
     "execution_count": 22,
     "metadata": {},
     "output_type": "execute_result"
    }
   ],
   "source": [
    "# Is Pluto a planet?\n",
    "\"Pluto\" in planets"
   ]
  },
  {
   "cell_type": "markdown",
   "metadata": {},
   "source": [
    "#### `sum()`"
   ]
  },
  {
   "cell_type": "code",
   "execution_count": null,
   "metadata": {},
   "outputs": [],
   "source": [
    "prime_numbers = [2, 3, 5, 7, 11, 13]\n",
    "\n",
    "sum(prime_numbers)"
   ]
  },
  {
   "cell_type": "markdown",
   "metadata": {},
   "source": [
    "#### `min()`"
   ]
  },
  {
   "cell_type": "code",
   "execution_count": null,
   "metadata": {},
   "outputs": [],
   "source": [
    "min(prime_numbers)"
   ]
  },
  {
   "cell_type": "markdown",
   "metadata": {},
   "source": [
    "#### `max()`"
   ]
  },
  {
   "cell_type": "code",
   "execution_count": null,
   "metadata": {},
   "outputs": [],
   "source": [
    "max(prime_numbers)"
   ]
  },
  {
   "cell_type": "markdown",
   "metadata": {},
   "source": [
    "<div style=\"display: flex; justify-content: space-between;\">\n",
    "<div style=\"width: 48%; line-height: 1.5;\">\n",
    "\n",
    "**Lists** are highly versatile and widely used in Python for several reasons:\n",
    "\n",
    "  - **Ordered collections:** Lists maintain the order of elements, allowing for indexing, slicing, and iteration. This makes them ideal for sequences where the order matters.\n",
    "\n",
    "  - **Mutable:** Lists can be modified after creation, which means you can add, remove, or change elements as needed without creating a new list.\n",
    "  \n",
    "  - **Allow duplicates:** Lists can store duplicate elements, which is useful when the same value might need to appear multiple times.\n",
    "  \n",
    "  - **Heterogeneous data:** Lists can hold elements of different data types, such as integers, strings, or even other lists, making them flexible for various use cases.\n",
    "  \n",
    "  - **Dynamic resizing:** Lists can grow and shrink dynamically, meaning you don't have to specify the size of the list ahead of time.\n",
    "\n",
    "</div>\n",
    "<div style=\"width: 4%;\">\n",
    "</div>\n",
    "<div style=\"width: 48%; line-height: 1.3;color: grey;\">\n",
    "\n",
    "**Listen** sind sehr vielseitig und werden aus mehreren Gründen häufig verwendet:\n",
    "\n",
    "  - **Geordnete Sammlungen:** Listen behalten die Reihenfolge der Elemente bei und ermöglichen Indizierung, Aufteilung und Iteration. Das macht sie ideal für Sequenzen, bei denen die Reihenfolge wichtig ist.\n",
    "  \n",
    "  - **Veränderbar:** Listen können nach der Erstellung geändert werden, d.h. Sie können Elemente hinzufügen, entfernen oder ändern, ohne eine neue Liste zu erstellen.\n",
    "  \n",
    "  - **Zulassen von Duplikaten:** Listen können doppelte Elemente speichern, was nützlich ist, wenn derselbe Wert mehrmals vorkommen muss.\n",
    "  \n",
    "  - **Heterogene Daten:** Listen können Elemente verschiedener Datentypen enthalten, wie z. B. Ganzzahlen, Zeichenketten oder sogar andere Listen, was sie für verschiedene Anwendungsfälle flexibel macht.\n",
    "  \n",
    "  - **Dynamische Größenanpassung:** Listen können dynamisch wachsen und schrumpfen, d.h. Sie müssen die Größe der Liste nicht im Voraus festlegen.\n",
    "\n",
    "</div>\n",
    "</div>"
   ]
  },
  {
   "cell_type": "markdown",
   "metadata": {},
   "source": [
    "<div class=\"alert alert-block alert-warning\">\n",
    "\n",
    "<div style=\"display: flex; justify-content: space-between;\">\n",
    "<div style=\"width: 48%; line-height: 1.3;\">\n",
    "\n",
    "# Tuples \n",
    "</div>\n",
    "<div style=\"width: 48%; line-height: 1.3;color: grey;\">\n",
    "\n",
    "# Tupel\n",
    "</div>\n",
    "</div>"
   ]
  },
  {
   "cell_type": "markdown",
   "metadata": {},
   "source": [
    "<div style=\"display: flex; justify-content: space-between;\">\n",
    "<div style=\"width: 48%; line-height: 1.3;\">\n",
    "\n",
    "A tuple is an *immutable, ordered* sequence of objects (lists are mutable and ordered).\n",
    "\n",
    "\n",
    "Tuples are defined by providing the sequence of elements between parentheses:\n",
    "\n",
    "</div>\n",
    "<div style=\"width: 4%;\">\n",
    "</div>\n",
    "<div style=\"width: 48%; line-height: 1.3;color: grey;\">\n",
    "\n",
    "Ein Tupel ist eine *unveränderliche, geordnete* Folge von Objekten (Listen sind veränderbar und geordnet).\n",
    "\n",
    "\n",
    "Tupel werden definiert, indem die Reihenfolge der Elemente zwischen Klammern angegeben wird:\n",
    "\n",
    "</div>\n",
    "</div>"
   ]
  },
  {
   "cell_type": "code",
   "execution_count": null,
   "metadata": {},
   "outputs": [],
   "source": [
    "tuple = (0, 'a', 2.3)\n",
    "\n",
    "tuple"
   ]
  },
  {
   "cell_type": "markdown",
   "metadata": {},
   "source": [
    "<div style=\"display: flex; justify-content: space-between;\">\n",
    "<div style=\"width: 48%; line-height: 1.3;\">\n",
    "\n",
    "## Indexing, Slicing and manipulation \n",
    "\n",
    "As an immutable data structure, assignment to a tuple is not allowed and appending and removing elements is not supported.\n",
    "\n",
    "</div>\n",
    "<div style=\"width: 4%;\">\n",
    "</div>\n",
    "<div style=\"width: 48%; line-height: 1.3;color: grey;\">\n",
    "\n",
    "## Indexierung, Slicing und Manipulation \n",
    "\n",
    "Da es sich um eine unveränderliche Datenstruktur handelt, ist eine Zuweisung an ein Tupel nicht zulässig, und das Anhängen und Entfernen von Elementen wird nicht unterstützt.\n",
    "\n",
    "</div>\n",
    "</div>"
   ]
  },
  {
   "cell_type": "markdown",
   "metadata": {},
   "source": [
    "<div style=\"display: flex; justify-content: space-between;\">\n",
    "<div style=\"width: 48%; line-height: 1.5;\">\n",
    "\n",
    "**Tuples** are useful in Python for several reasons:\n",
    "\n",
    "\n",
    "  - **Immutability:** Tuples are immutable, meaning their elements cannot be changed after creation. This makes them suitable for representing fixed collections of data that should not be modified, such as coordinates, days of the week, or settings. Immutability also ensures data integrity and can help prevent accidental changes.\n",
    "\n",
    "  - **Performance:** Since tuples are immutable, they are more memory-efficient and can be faster to access compared to lists. If you need to store a collection of values that won’t change, tuples are a more optimized choice.\n",
    "\n",
    "  - **Dictionary Keys:** Tuples can be used as keys in dictionaries because they are immutable. Lists, on the other hand, cannot be used as dictionary keys.\n",
    "\n",
    "  - **Return Multiple Values:** Functions can return multiple values as tuples. This is a common pattern in Python when you want to return several results from a function at once.\n",
    "\n",
    "  - **Data Structure:** Tuples often represent structured data, like a record in a database, where each element has a specific meaning (e.g., `(name, age, city)`).\n",
    "\n",
    "\n",
    "In summary, tuples are important when you need an ordered, fixed collection of elements with benefits in performance, memory efficiency, and data integrity.\n",
    "</div>\n",
    "<div style=\"width: 4%;\">\n",
    "</div>\n",
    "<div style=\"width: 48%; line-height: 1.3;color: grey;\">\n",
    "\n",
    "**Tupel** sind in Python aus mehreren Gründen nützlich:\n",
    "\n",
    "\n",
    "  - **Veränderbarkeit:** Tupel sind unveränderlich, d.h. ihre Elemente können nach der Erstellung nicht geändert werden. Dadurch eignen sie sich zur Darstellung fester Datensammlungen, die nicht geändert werden sollten, wie Koordinaten, Wochentage oder Einstellungen. Die Unveränderlichkeit stellt auch die Datenintegrität sicher und kann dazu beitragen, versehentliche Änderungen zu verhindern.\n",
    "\n",
    "  - **Leistung:** Da Tupel unveränderlich sind, sind sie speichereffizienter und der Zugriff kann im Vergleich zu Listen schneller erfolgen. Wenn Sie eine Sammlung von Werten speichern müssen, die sich nicht ändern, sind Tupel die bessere Wahl.\n",
    "\n",
    "  - **Wörterbuchschlüssel:** Tupel können als Schlüssel in Dictionaries (Wörterbüchern) verwendet werden, da sie unveränderlich sind. Listen hingegen können nicht als Wörterbuchschlüssel verwendet werden.\n",
    "\n",
    "  - **Mehrere Werte zurückgeben:** Funktionen können mehrere Werte als Tupel zurückgeben. Dies ist ein gängiges Muster in Python, wenn man mehrere Ergebnisse von einer Funktion auf einmal zurückgeben möchte.\n",
    "\n",
    "  - **Datenstruktur:** Tupel repräsentieren oft strukturierte Daten, wie einen Datensatz in einer Datenbank, wo jedes Element eine bestimmte Bedeutung hat (z.B. `(Name, Alter, Stadt)`).\n",
    "\n",
    "Zusammenfassend lässt sich sagen, dass Tupel wichtig sind, wenn man eine geordnete, feste Sammlung von Elementen benötigt, die Vorteile in Bezug auf Leistung, Speichereffizienz und Datenintegrität bietet.\n",
    "</div>\n",
    "</div>"
   ]
  },
  {
   "cell_type": "markdown",
   "metadata": {},
   "source": [
    "<div class=\"alert alert-block alert-warning\">\n",
    "\n",
    "<div style=\"display: flex; justify-content: space-between;\">\n",
    "<div style=\"width: 48%; line-height: 1.3;\">\n",
    "\n",
    "# Sets \n",
    "</div>\n",
    "<div style=\"width: 48%; line-height: 1.3;color: grey;\">\n",
    "\n",
    "# Sets\n",
    "</div>\n",
    "</div>"
   ]
  },
  {
   "cell_type": "markdown",
   "metadata": {},
   "source": [
    "<div style=\"display: flex; justify-content: space-between;\">\n",
    "<div style=\"width: 48%; line-height: 1.5;\">\n",
    "\n",
    "A Python set is a *mutable, unordered* collection of objects with no duplicate elements.\n",
    "\n",
    "\n",
    "A non-empty set can be defined by providing the elements between braces (but `set = {}` defines a dictionary (see below), not the empty set!):\n",
    "\n",
    "</div>\n",
    "<div style=\"width: 4%;\">\n",
    "</div>\n",
    "<div style=\"width: 48%; line-height: 1.3;color: grey;\">\n",
    "\n",
    "Ein Python-Set ist eine *veränderliche, ungeordnete* Sammlung von Objekten, die keine doppelten Elemente enthält.\n",
    "\n",
    "\n",
    "Ein nicht leeres Set kann definiert werden, indem die Elemente zwischen geschweiften Klammern angegeben werden (aber `set = {}` definiert ein Wörterbuch (siehe unten), nicht die leere Menge!):\n",
    "\n",
    "</div>\n",
    "</div>"
   ]
  },
  {
   "cell_type": "code",
   "execution_count": 15,
   "metadata": {},
   "outputs": [
    {
     "data": {
      "text/plain": [
       "{1, 2, 'a', 'b'}"
      ]
     },
     "execution_count": 15,
     "metadata": {},
     "output_type": "execute_result"
    }
   ],
   "source": [
    "set = {1, 1, 'a', 'b', 1, 2, 'a', 1.0}\n",
    "\n",
    "set"
   ]
  },
  {
   "cell_type": "markdown",
   "metadata": {},
   "source": [
    "<div style=\"display: flex; justify-content: space-between;\">\n",
    "<div style=\"width: 48%; line-height: 1.3;\">\n",
    "\n",
    "What happened?\n",
    "Sets automatically remove duplicate values, and `1.0` is treated as the same value as `1`.\n",
    "\n",
    "</div>\n",
    "<div style=\"width: 4%;\">\n",
    "</div>\n",
    "<div style=\"width: 48%; line-height: 1.3;color: grey;\">\n",
    "\n",
    "Was ist passiert?\n",
    "Sets entfernen automatisch doppelte Werte, und `1.0` wird als der gleiche Wert wie `1` behandelt.\n",
    "\n",
    "</div>\n",
    "</div>"
   ]
  },
  {
   "cell_type": "markdown",
   "metadata": {},
   "source": [
    "<div style=\"display: flex; justify-content: space-between;\">\n",
    "<div style=\"width: 48%; line-height: 1.3;\">\n",
    "\n",
    "## Indexing and Slicing \n",
    "\n",
    "Sets cannot be indexed, since they are not ordered.\n",
    "\n",
    "</div>\n",
    "<div style=\"width: 4%;\">\n",
    "</div>\n",
    "<div style=\"width: 48%; line-height: 1.3;color: grey;\">\n",
    "\n",
    "## Indexierung und Slicing \n",
    "\n",
    "Sets können nicht indiziert werden, da sie nicht geordnet sind.\n",
    "\n",
    "</div>\n",
    "</div>"
   ]
  },
  {
   "cell_type": "markdown",
   "metadata": {},
   "source": [
    "<div style=\"display: flex; justify-content: space-between;\">\n",
    "<div style=\"width: 48%; line-height: 1.3;\">\n",
    "\n",
    "## Manipulating sets \n",
    "\n",
    "Sets are mutable, so they have methods to add and remove elements.\n",
    "\n",
    "</div>\n",
    "<div style=\"width: 4%;\">\n",
    "</div>\n",
    "<div style=\"width: 48%; line-height: 1.3;color: grey;\">\n",
    "\n",
    "## Indexierung \n",
    "\n",
    "Sets sind veränderbar, d.h. sie haben Methoden, um Elemente hinzuzufügen und zu entfernen.\n",
    "\n",
    "</div>\n",
    "</div>"
   ]
  },
  {
   "cell_type": "markdown",
   "metadata": {},
   "source": [
    "<div style=\"display: flex; justify-content: space-between;\">\n",
    "<div style=\"width: 48%; line-height: 1.3;\">\n",
    "\n",
    "### Adding elements    \n",
    "</div>\n",
    "<div style=\"width: 48%; line-height: 1.3;color: grey;\">\n",
    "\n",
    "### Elemente hinzufügen\n",
    "</div>\n",
    "</div>"
   ]
  },
  {
   "cell_type": "markdown",
   "metadata": {},
   "source": [
    "#### `add()`"
   ]
  },
  {
   "cell_type": "code",
   "execution_count": null,
   "metadata": {},
   "outputs": [],
   "source": [
    "# add a single element\n",
    "\n",
    "set.add(3)\n",
    "set"
   ]
  },
  {
   "cell_type": "markdown",
   "metadata": {},
   "source": [
    "#### `update()`"
   ]
  },
  {
   "cell_type": "code",
   "execution_count": null,
   "metadata": {},
   "outputs": [],
   "source": [
    "# add multiple elements from a collection\n",
    "\n",
    "set.update([4,5,6])\n",
    "set"
   ]
  },
  {
   "cell_type": "markdown",
   "metadata": {},
   "source": [
    "<div style=\"display: flex; justify-content: space-between;\">\n",
    "<div style=\"width: 48%; line-height: 1.3;\">\n",
    "\n",
    "### Removing elements    \n",
    "</div>\n",
    "<div style=\"width: 4%;\">\n",
    "</div>\n",
    "<div style=\"width: 48%; line-height: 1.3;color: grey;\">\n",
    "\n",
    "### Elemente entfernen\n",
    "</div>\n",
    "</div>"
   ]
  },
  {
   "cell_type": "markdown",
   "metadata": {},
   "source": [
    "#### `remove()`"
   ]
  },
  {
   "cell_type": "code",
   "execution_count": null,
   "metadata": {},
   "outputs": [],
   "source": [
    "# remove a specific element\n",
    "\n",
    "set.remove(4)\n",
    "set"
   ]
  },
  {
   "cell_type": "markdown",
   "metadata": {},
   "source": [
    "<div style=\"display: flex; justify-content: space-between;\">\n",
    "<div style=\"width: 48%; line-height: 1.3;\">\n",
    "\n",
    " `remove()` raises an error if the element you are attempting to remove is missing:\n",
    "</div>\n",
    "<div style=\"width: 4%;\">\n",
    "</div>\n",
    "<div style=\"width: 48%; line-height: 1.3;color: grey;\">\n",
    "\n",
    " `remove()` gibt einen Fehler aus, wenn das Element, das man zu entfernen versucht, fehlt:\n",
    "</div>\n",
    "</div>"
   ]
  },
  {
   "cell_type": "code",
   "execution_count": null,
   "metadata": {},
   "outputs": [],
   "source": [
    "# remove a specific element\n",
    "\n",
    "set.remove(7)\n",
    "set"
   ]
  },
  {
   "cell_type": "markdown",
   "metadata": {},
   "source": [
    "#### `discard()`"
   ]
  },
  {
   "cell_type": "markdown",
   "metadata": {},
   "source": [
    "<div style=\"display: flex; justify-content: space-between;\">\n",
    "<div style=\"width: 48%; line-height: 1.3;\">\n",
    "\n",
    " `discard()` does not raise an error if the element you are attempting to remove is missing, therefore it allows you to safely remove elements without worrying about handling exceptions if the element isn't found.\n",
    "</div>\n",
    "<div style=\"width: 4%;\">\n",
    "</div>\n",
    "<div style=\"width: 48%; line-height: 1.3;color: grey;\">\n",
    "\n",
    " `discard()` löst keine Fehlermeldung aus, wenn das Element, das Sie zu entfernen versuchen, fehlt. \n",
    " Daher können Sie Elemente sicher entfernen, ohne sich um die Behandlung von Ausnahmen zu kümmern, wenn das Element nicht gefunden wird.\n",
    "</div>\n",
    "</div>"
   ]
  },
  {
   "cell_type": "code",
   "execution_count": null,
   "metadata": {},
   "outputs": [],
   "source": [
    "# remove a specific element\n",
    "\n",
    "set.discard(7)\n",
    "set"
   ]
  },
  {
   "cell_type": "markdown",
   "metadata": {},
   "source": [
    "#### `pop()`"
   ]
  },
  {
   "cell_type": "code",
   "execution_count": null,
   "metadata": {},
   "outputs": [],
   "source": [
    "# remove and return an arbitrary element\n",
    "\n",
    "print(set.pop())\n",
    "print(set)"
   ]
  },
  {
   "cell_type": "markdown",
   "metadata": {},
   "source": [
    "<div style=\"display: flex; justify-content: space-between;\">\n",
    "<div style=\"width: 48%; line-height: 1.5;\">\n",
    "\n",
    "Since sets are unordered, there is no \"first\" or \"last\" element, so `pop()` removes a random element.\n",
    "\n",
    "Why is it useful? Unlike lists, which need to shift elements when removing items, sets don't require such reorganization, making `pop()` faster for large datasets.\n",
    "</div>\n",
    "<div style=\"width: 4%;\">\n",
    "</div>\n",
    "<div style=\"width: 48%; line-height: 1.3;color: grey;\">\n",
    "\n",
    "Da Sets ungeordnet sind, gibt es kein \"erstes\" oder \"letztes\" Element, so dass `pop()` ein zufälliges Element entfernt.\n",
    "\n",
    "Warum ist das nützlich? Im Gegensatz zu Listen, bei denen die Elemente beim Entfernen von Elementen verschoben werden müssen, ist bei Sets eine solche Reorganisation nicht erforderlich, wodurch `pop()` bei großen Datensätzen schneller ist.\n",
    "</div>\n",
    "</div>"
   ]
  },
  {
   "cell_type": "markdown",
   "metadata": {},
   "source": [
    "<div style=\"display: flex; justify-content: space-between;\">\n",
    "<div style=\"width: 48%; line-height: 1.3;\">\n",
    "\n",
    "**Sets** are useful in Python for several reasons:\n",
    "\n",
    "  - **Uniqueness:** Sets automatically remove duplicate elements, ensuring that each item is unique. This makes them ideal for scenarios where duplicate values need to be filtered out.\n",
    "\n",
    "  - **Efficient membership testing:** Sets provide fast checks for whether an element is present, using the `in` operator. This is much faster compared to lists, especially for large collections.\n",
    "\n",
    "  - **Set operations:** Sets support mathematical set operations such as union, intersection, difference, and symmetric difference, making them useful for tasks involving comparisons between collections.\n",
    "\n",
    "  - **Unordered collections:** Since sets are unordered, they can be more memory efficient and optimized for certain operations, such as searching for unique items in large datasets.\n",
    "\n",
    "</div>\n",
    "<div style=\"width: 4%;\">\n",
    "</div>\n",
    "<div style=\"width: 48%; line-height: 1.3;color: grey;\">\n",
    "\n",
    "**Sets** sind in Python aus mehreren Gründen nützlich:\n",
    "\n",
    "  - **Einzigartigkeit:** Sets entfernen automatisch doppelte Elemente und stellen sicher, dass jedes Element eindeutig ist. Das macht sie ideal für Szenarien, in denen doppelte Werte herausgefiltert werden müssen.\n",
    "\n",
    "  - **Effiziente Zugehörigkeitsprüfung:** Sets bieten schnelle Überprüfungen, ob ein Element vorhanden ist, indem sie den `in`-Operator verwenden. Dies ist im Vergleich zu Listen viel schneller, besonders bei großen Sammlungen.\n",
    "\n",
    "  - **Mengenoperationen:** Mengen unterstützen mathematische Mengenoperationen wie Vereinigung, Schnittmenge, Differenz und symmetrische Differenz, was sie für Aufgaben mit Vergleichen zwischen Sammlungen nützlich macht.\n",
    "\n",
    "  - **Ungeordnete Sammlungen:** Da Mengen ungeordnet sind, können sie speichereffizienter sein und für bestimmte Operationen optimiert werden, z. B. für die Suche nach eindeutigen Elementen in großen Datenbeständen.\n",
    "\n",
    "</div>\n",
    "</div>"
   ]
  },
  {
   "cell_type": "markdown",
   "metadata": {},
   "source": [
    "<div style=\"display: flex; justify-content: space-between;\">\n",
    "<div style=\"width: 48%; line-height: 1.3;\">\n",
    "\n",
    "## Comparison between lists, tuples, and sets \n",
    " Feeling overwhelmed? No need to worry! The table below summarizes the key differences between lists, tuples, and sets. There's no need to memorize them.\n",
    "</div>\n",
    "<div style=\"width: 4%;\">\n",
    "</div>\n",
    "<div style=\"width: 48%; line-height: 1.3;color: grey;\">\n",
    "\n",
    "## Vergleich zwischen Listen, Tupeln und Sets\n",
    "Fühlen Sie sich überwältigt? Kein Grund zur Sorge! In der folgenden Tabelle sind die wichtigsten Unterschiede zwischen Listen, Tupeln und Sets zusammengefasst. Sie brauchen sie nicht auswendig zu lernen.\n",
    "</div>\n",
    "</div>"
   ]
  },
  {
   "cell_type": "markdown",
   "metadata": {},
   "source": [
    "| Operation| Operation (German)   | Lists  | Tuples | Sets   |\n",
    "|--------------------------|--------------------------|------------------------|------------------------|------------------------|\n",
    "| Syntax   | Syntax   | `[ ]`  | `( )`  | `{ }`  |\n",
    "| Mutability   | Veränderbarkeit  | &check;| &cross;| &check;|\n",
    "| Ordered  | Geordnet | &check;| &check;| &cross;|\n",
    "| Duplicates Allowed| Duplikate erlaubt| &check;| &check;| &cross;|\n",
    "| Indexing | Indizierung  | &check;| &check;| &cross;|\n",
    "| Slicing  | Slicing   | &check;| &check;| &cross;|\n",
    "| Iteration| Iteration| &check;| &check;| &check;|\n",
    "| Adding Elements  | Elemente hinzufügen  | `append()`, `insert()` | N/A| `add()`|\n",
    "| Removing Elements | Elemente entfernen   | `remove()`, `pop()`| N/A| `remove()`, `discard()`, `pop()` |\n",
    "| Concatenation| Verkettung   | `+`| `+`| N/A|\n",
    "| Length   | Länge| `len()`| `len()`| `len()`|\n",
    "| Membership Test  | Mitgliedschaftstest  | `in`   | `in`   | `in`   |\n",
    "| Repetition   | Wiederholung | `*`| `*`| N/A|\n",
    "| Conversion to List| Umwandlung zu Liste  | -  | `list()`   | `list()`   |\n",
    "| Conversion to Tuple   | Umwandlung zu Tupel  | `tuple()`  | -  | `tuple()`  |\n",
    "| Conversion to Set | Umwandlung zu Set| `set()`| `set()`| -  |"
   ]
  },
  {
   "cell_type": "markdown",
   "metadata": {},
   "source": [
    "<div style=\"display: flex; justify-content: space-between;\">\n",
    "<div style=\"width: 48%; line-height: 1.3;\">\n",
    "\n",
    "## Operators \n",
    " Additionally, sets support the following operators: \n",
    "\n",
    "-  `-`: difference (NOT)\n",
    "\n",
    "-  `ˆ`: symmetric difference (XOR)\n",
    "\n",
    "-  `&`: intersection (AND)\n",
    "\n",
    "-  `|`: union (OR)\n",
    "\n",
    "\n",
    "</div>\n",
    "<div style=\"width: 4%;\">\n",
    "</div>\n",
    "<div style=\"width: 48%; line-height: 1.3;color: grey;\">\n",
    "\n",
    "## Operatoren \n",
    "Außerdem unterstützen Sets die folgenden Operatoren:\n",
    "\n",
    "-  `-`: Differenz\n",
    "\n",
    "-  `ˆ`: symmetrische Differenz\n",
    "\n",
    "-  `&`: Schnittmenge\n",
    "\n",
    "-  `|`: Vereinigung\n",
    "\n",
    "\n",
    "</div>\n",
    "</div>"
   ]
  },
  {
   "cell_type": "code",
   "execution_count": null,
   "metadata": {},
   "outputs": [],
   "source": [
    "set_1 = {'A', 'B', 'C', 'D'}\n",
    "\n",
    "set_2 = {'C', 'D', 'X', 'Y', 'Z'}"
   ]
  },
  {
   "cell_type": "code",
   "execution_count": null,
   "metadata": {},
   "outputs": [],
   "source": [
    "set_1 - set_2   # elements in set_1 but NOT in set_2"
   ]
  },
  {
   "cell_type": "code",
   "execution_count": null,
   "metadata": {},
   "outputs": [],
   "source": [
    "set_2 - set_1   # elements in set_2 but NOT in set_1"
   ]
  },
  {
   "cell_type": "code",
   "execution_count": null,
   "metadata": {},
   "outputs": [],
   "source": [
    "set_1 ^ set_2   # symmetric difference: elements that are not in both sets"
   ]
  },
  {
   "cell_type": "code",
   "execution_count": null,
   "metadata": {},
   "outputs": [],
   "source": [
    "set_1 & set_2   # intersection: elements common to both sets"
   ]
  },
  {
   "cell_type": "code",
   "execution_count": null,
   "metadata": {},
   "outputs": [],
   "source": [
    "set_1 | set_2   # union: all unique elements from both sets"
   ]
  },
  {
   "cell_type": "markdown",
   "metadata": {},
   "source": [
    "<div class=\"alert alert-block alert-light\">\n",
    "\n",
    "<div style=\"display: flex; justify-content: space-between;\">\n",
    "<div style=\"width: 48%; line-height: 1.3;\">\n",
    "\n",
    "#### Exercise\n",
    "The crystal lattice structures of the first-row transition metal elements are given below. Some elements have different crystal structures under varying conditions of temperature and pressure. \n",
    "\n",
    "- fcc: Cu, Co, Fe, Mn, Ni, Sc\n",
    "\n",
    "- bcc: Cr,Fe,Mn,Ti,V\n",
    "\n",
    "- hcp: Co, Ni, Sc, Ti, Zn\n",
    "\n",
    "Use Python sets to group them and determine the following:\n",
    "\n",
    "  - Which metals only exist in face-centered cubic (**fcc**), body-centered cubic (**bcc**), or hexagonal close-packed (**hcp**) structures?\n",
    "\n",
    "  - Which metals exist in only two of these structures?\n",
    "  \n",
    "  - Which metals do not form an **hcp** structure?\n",
    "  \n",
    "  - Do any of them exist in all three structures?\n",
    "\n",
    " Beware: The union operator has lower precedence than the difference operator, so you might parentheses.\n",
    "</div>\n",
    "<div style=\"width: 4%;\">\n",
    "</div>\n",
    "<div style=\"width: 48%; line-height: 1.3;color: grey;\">\n",
    "\n",
    "#### Übung\n",
    "Die Kristallgitterstrukturen der Elemente der ersten Reihe der Übergangsmetalle sind unten angegeben. Einige Elemente haben unter verschiedenen Temperatur- und Druckbedingungen unterschiedliche Kristallstrukturen. \n",
    "\n",
    "- fcc: Cu, Co, Fe, Mn, Ni, Sc\n",
    "\n",
    "- bcc: Cr,Fe,Mn,Ti,V\n",
    "\n",
    "- hcp: Co, Ni, Sc, Ti, Zn\n",
    "\n",
    "Benutzen Sie Python-Sets, um sie zu gruppieren und folgendes zu bestimmen:\n",
    "\n",
    "  - Welche Metalle kommen nur in kubisch-flächenzentrierten (**fcc**), kubisch-raumzentrierten (**bcc**) oder hexagonal dicht gepackten (**hcp**) Strukturen vor?\n",
    "  \n",
    "  - Welche Metalle kommen nur in zwei dieser Strukturen vor?\n",
    "  \n",
    "  - Welche Metalle bilden keine **hcp**-Struktur?\n",
    "  \n",
    "  - Kommt eines von ihnen in allen drei Strukturen vor?\n",
    "\n",
    "Achtung: Der Vereinigungsoperator hat einen niedrigeren Vorrang als der Differenzoperator, daher können Sie Klammern setzen.\n",
    "</div>\n",
    "</div>"
   ]
  },
  {
   "cell_type": "code",
   "execution_count": null,
   "metadata": {},
   "outputs": [],
   "source": [
    "#countdown\n",
    "countdown_timer(20)"
   ]
  },
  {
   "cell_type": "code",
   "execution_count": null,
   "metadata": {},
   "outputs": [],
   "source": [
    "fcc = {'Cu', 'Co', 'Fe', 'Mn', 'Ni', 'Sc'}\n",
    "bcc = {'Cr', 'Fe', 'Mn', 'Ti', 'V'}\n",
    "hcp = {'Co', 'Ni', 'Sc', 'Ti', 'Zn'}"
   ]
  },
  {
   "cell_type": "markdown",
   "metadata": {},
   "source": [
    "#### 1"
   ]
  },
  {
   "cell_type": "code",
   "execution_count": null,
   "metadata": {},
   "outputs": [],
   "source": [
    "# fcc only but NOT bcc and hcp\n",
    "fcc - bcc - hcp"
   ]
  },
  {
   "cell_type": "code",
   "execution_count": null,
   "metadata": {},
   "outputs": [],
   "source": [
    "# fcc only but NOT bcc and hcp\n",
    "fcc - (bcc | hcp)"
   ]
  },
  {
   "cell_type": "code",
   "execution_count": null,
   "metadata": {},
   "outputs": [],
   "source": [
    "# bcc only \n",
    "bcc - fcc - hcp"
   ]
  },
  {
   "cell_type": "code",
   "execution_count": null,
   "metadata": {},
   "outputs": [],
   "source": [
    "# hcp only \n",
    "hcp - fcc - bcc"
   ]
  },
  {
   "cell_type": "markdown",
   "metadata": {},
   "source": [
    "#### 2"
   ]
  },
  {
   "cell_type": "code",
   "execution_count": null,
   "metadata": {},
   "outputs": [],
   "source": [
    "# fcc AND bcc but NOT hcp\n",
    "fcc & bcc - hcp"
   ]
  },
  {
   "cell_type": "code",
   "execution_count": null,
   "metadata": {},
   "outputs": [],
   "source": [
    "# fcc AND hcp but NOT bcc\n",
    "fcc & hcp - bcc"
   ]
  },
  {
   "cell_type": "code",
   "execution_count": null,
   "metadata": {},
   "outputs": [],
   "source": [
    "# bcc AND hcp but NOT fcc\n",
    "bcc & hcp - fcc"
   ]
  },
  {
   "cell_type": "markdown",
   "metadata": {},
   "source": [
    "#### 3"
   ]
  },
  {
   "cell_type": "code",
   "execution_count": null,
   "metadata": {},
   "outputs": [],
   "source": [
    "# NOT hcp, but either fcc OR bcc\n",
    "(fcc | bcc) - hcp   # the union operator has lower priority than the intersection"
   ]
  },
  {
   "cell_type": "markdown",
   "metadata": {},
   "source": [
    "#### 4"
   ]
  },
  {
   "cell_type": "code",
   "execution_count": null,
   "metadata": {},
   "outputs": [],
   "source": [
    "# in fcc AND bcc AND hcp\n",
    "fcc & bcc & hcp"
   ]
  },
  {
   "cell_type": "markdown",
   "metadata": {},
   "source": [
    "<div class=\"alert alert-block alert-warning\">\n",
    "\n",
    "<div style=\"display: flex; justify-content: space-between;\">\n",
    "<div style=\"width: 48%; line-height: 1.3;\">\n",
    "\n",
    "# Dictionaries \n",
    "</div>\n",
    "<div style=\"width: 48%; line-height: 1.3;color: grey;\">\n",
    "\n",
    "# Dictionaries\n",
    "</div>\n",
    "</div>"
   ]
  },
  {
   "cell_type": "markdown",
   "metadata": {},
   "source": [
    "<div style=\"display: flex; justify-content: space-between;\">\n",
    "<div style=\"width: 48%; line-height: 1.3;\">\n",
    "\n",
    "A Python dictionary is a type of associative array: A mapping of key objects to value objects. Instead of indexing with an integer, each value is associated with a unique key (which must be an immutable object).\n",
    "\n",
    "</div>\n",
    "<div style=\"width: 4%;\">\n",
    "</div>\n",
    "<div style=\"width: 48%; line-height: 1.3;color: grey;\">\n",
    "\n",
    "Ein Python-Dictionary ist eine Art assoziatives Array: Ein Mapping von Schlüsselobjekten auf Wertobjekte. Anstatt mit einer ganzen Zahl zu indizieren, ist jeder Wert mit einem eindeutigen Schlüssel verbunden (der ein unveränderliches Objekt sein muss).\n",
    "\n",
    "</div>\n",
    "</div>"
   ]
  },
  {
   "cell_type": "markdown",
   "metadata": {},
   "source": [
    "<div style=\"display: flex; justify-content: space-between;\">\n",
    "<div style=\"width: 48%; line-height: 1.5;\">\n",
    "\n",
    "## Creating dictionaries \n",
    "\n",
    "A dictionary is created using curly braces `{}` with comma-separated `key:value` pairs. For example:\n",
    "\n",
    "</div>\n",
    "<div style=\"width: 4%;\">\n",
    "</div>\n",
    "<div style=\"width: 48%; line-height: 1.3;color: grey;\">\n",
    "\n",
    "## Dictionaries erstellen \n",
    "\n",
    "Ein Dictionary wird durch geschweifte Klammern `{}` mit kommagetrennten `key:value`-Paaren erstellt. Zum Beispiel:\n",
    "\n",
    "</div>\n",
    "</div>"
   ]
  },
  {
   "cell_type": "code",
   "execution_count": null,
   "metadata": {},
   "outputs": [],
   "source": [
    "# The NATO phonetic alphabet is used to spell out words and names clearly over radio or telephone communication. \n",
    "# Here’s a Python dictionary that maps each letter of the alphabet to its corresponding phonetic code word:\n",
    "\n",
    "nato_alphabet = {\n",
    "'A': 'Alpha',\n",
    "'B': 'Bravo',\n",
    "'C': 'Charlie',\n",
    "'D': 'Delta',\n",
    "'E': 'Echo',\n",
    "'F': 'Foxtrot',\n",
    "'G': 'Golf',\n",
    "'H': 'Hotel',\n",
    "'I': 'India',\n",
    "'J': 'Juliett',\n",
    "'K': 'Kilo',\n",
    "'L': 'Lima',\n",
    "'M': 'Mike',\n",
    "'N': 'November',\n",
    "'O': 'Oscar',\n",
    "'P': 'Papa',\n",
    "'Q': 'Quebec',\n",
    "'R': 'Romeo',\n",
    "'S': 'Sierra',\n",
    "'T': 'Tango',\n",
    "'U': 'Uniform',\n",
    "'V': 'Victor',\n",
    "'W': 'Whiskey',\n",
    "'X': 'X-ray',\n",
    "'Y': 'Yankee',\n",
    "'Z': 'Zulu'\n",
    "}\n",
    "\n",
    "# Print the dictionary\n",
    "nato_alphabet"
   ]
  },
  {
   "cell_type": "markdown",
   "metadata": {},
   "source": [
    "<div style=\"display: flex; justify-content: space-between;\">\n",
    "<div style=\"width: 48%; line-height: 1.3;\">\n",
    "\n",
    "## Accessing and Modifying Data \n",
    "\n",
    "You can access values by their keys:\n",
    "\n",
    "</div>\n",
    "<div style=\"width: 4%;\">\n",
    "</div>\n",
    "<div style=\"width: 48%; line-height: 1.3;color: grey;\">\n",
    "\n",
    "## Zugriff auf und Änderung von Daten \n",
    "\n",
    "Sie können auf Werte über ihre Schlüssel zugreifen:\n",
    "\n",
    "</div>\n",
    "</div>"
   ]
  },
  {
   "cell_type": "code",
   "execution_count": null,
   "metadata": {},
   "outputs": [],
   "source": [
    "nato_alphabet['Y']"
   ]
  },
  {
   "cell_type": "markdown",
   "metadata": {},
   "source": [
    "<div style=\"display: flex; justify-content: space-between;\">\n",
    "<div style=\"width: 48%; line-height: 1.3;\">\n",
    "\n",
    "To add or modify entries:\n",
    "\n",
    "</div>\n",
    "<div style=\"width: 4%;\">\n",
    "</div>\n",
    "<div style=\"width: 48%; line-height: 1.3;color: grey;\">\n",
    "\n",
    "Um Einträge hinzuzufügen oder zu ändern:\n",
    "\n",
    "</div>\n",
    "</div>"
   ]
  },
  {
   "cell_type": "code",
   "execution_count": null,
   "metadata": {},
   "outputs": [],
   "source": [
    "# modify one entry\n",
    "nato_alphabet['Y'] = 'Yellow'\n",
    "\n",
    "nato_alphabet"
   ]
  },
  {
   "cell_type": "code",
   "execution_count": null,
   "metadata": {},
   "outputs": [],
   "source": [
    "# add a new entry\n",
    "nato_alphabet['LL'] = 'Llamas'\n",
    "\n",
    "nato_alphabet"
   ]
  },
  {
   "cell_type": "code",
   "execution_count": null,
   "metadata": {},
   "outputs": [],
   "source": [
    "# remove an entry\n",
    "del nato_alphabet['LL']\n",
    "\n",
    "nato_alphabet"
   ]
  },
  {
   "cell_type": "markdown",
   "metadata": {},
   "source": [
    "<div class=\"alert alert-block alert-light\">\n",
    "\n",
    "<div style=\"display: flex; justify-content: space-between;\">\n",
    "<div style=\"width: 48%; line-height: 1.3;\">\n",
    "\n",
    "#### Exercise\n",
    " Create a Python dictionary that links the names of the first 10 elements of the periodic table to their symbols.\n",
    "\n",
    "</div>\n",
    "<div style=\"width: 4%;\">\n",
    "</div>\n",
    "<div style=\"width: 48%; line-height: 1.3;color: grey;\">\n",
    "\n",
    "#### Übung\n",
    " Erstellen Sie ein Python-Wörterbuch, das die Namen der ersten 10 Elemente des Periodensystems mit ihren Symbolen verknüpft.\n",
    "\n",
    "</div>\n",
    "</div>"
   ]
  },
  {
   "cell_type": "code",
   "execution_count": null,
   "metadata": {},
   "outputs": [],
   "source": [
    "#countdown\n",
    "countdown_timer(5)"
   ]
  },
  {
   "cell_type": "code",
   "execution_count": null,
   "metadata": {},
   "outputs": [],
   "source": [
    "elements = {\n",
    "\"Hydrogen\": \"H\",\n",
    "\"Helium\": \"He\",\n",
    "\"Lithium\": \"Li\",\n",
    "\"Beryllium\": \"Be\",\n",
    "\"Boron\": \"B\",\n",
    "\"Carbon\": \"C\",\n",
    "\"Nitrogen\": \"N\",\n",
    "\"Oxygen\": \"O\",\n",
    "\"Fluorine\": \"F\",\n",
    "\"Neon\": \"Ne\"\n",
    "}\n",
    "\n",
    "print(elements)"
   ]
  },
  {
   "cell_type": "markdown",
   "metadata": {},
   "source": [
    "<div style=\"display: flex; justify-content: space-between;\">\n",
    "<div style=\"width: 48%; line-height: 1.5;\">\n",
    "\n",
    "##  It gets interesting \n",
    "\n",
    "One application of a dictionary is as a simple database: Values can be stored in association with keys instead of assigned to individual variable names. \n",
    "\n",
    "This is much easier to maintain and has the advantage that the keys can be arbitrary strings (or other immutable data types) whereas variable names are constrained by the syntax of the Python language.\n",
    "\n",
    "Now, let's assume we want to store more than just the element's symbol; we also want to include its atomic number and atomic weight for easy access.\n",
    "\n",
    "A *nested* dictionary in Python is a dictionary that contains other dictionaries as its values, allowing for the organization of complex, hierarchical data structures within a single dictionary. \n",
    "\n",
    "Consider the following dictionary that stores some information about the first 8 elements of the periodic table:\n",
    "\n",
    "</div>\n",
    "<div style=\"width: 4%;\">\n",
    "</div>\n",
    "<div style=\"width: 48%; line-height: 1.4;color: grey;\">\n",
    "\n",
    "## Es wird interessant \n",
    "\n",
    "Eine Anwendung eines Wörterbuchs ist die einer einfachen Datenbank: Werte können in Verbindung mit Schlüsseln gespeichert werden, anstatt sie einzelnen Variablennamen zuzuordnen. \n",
    "\n",
    "Dies ist viel einfacher zu pflegen und hat den Vorteil, dass die Schlüssel beliebige Zeichenketten (oder andere unveränderliche Datentypen) sein können, während Variablennamen durch die Syntax der Sprache Python eingeschränkt sind.\n",
    "\n",
    "Nehmen wir nun an, dass wir nicht nur das Symbol des Elements speichern wollen, sondern auch die Ordnungszahl und das Atomgewicht, um den Zugriff zu erleichtern. \n",
    "\n",
    "Ein *verschachteltes* Wörterbuch in Python ist ein Wörterbuch, das andere Wörterbücher als Werte enthält, was die Organisation komplexer, hierarchischer Datenstrukturen innerhalb eines einzigen Wörterbuchs ermöglicht. \n",
    "\n",
    "Betrachten Sie das folgende Wörterbuch, das einige Informationen über die ersten 8 Elemente des Periodensystems speichert:\n",
    "\n",
    "</div>\n",
    "</div>"
   ]
  },
  {
   "cell_type": "code",
   "execution_count": 3,
   "metadata": {},
   "outputs": [],
   "source": [
    "elements = {\n",
    "1: {\"Name\": \"Hydrogen\", \"Symbol\": \"H\", \"Atomic Weight\": 1.008},\n",
    "2: {\"Name\": \"Helium\", \"Symbol\": \"He\", \"Atomic Weight\": 4.0026},\n",
    "3: {\"Name\": \"Lithium\", \"Symbol\": \"Li\", \"Atomic Weight\": 6.94},\n",
    "4: {\"Name\": \"Beryllium\", \"Symbol\": \"Be\", \"Atomic Weight\": 9.1022},\n",
    "5: {\"Name\": \"Boron\", \"Symbol\": \"B\", \"Atomic Weight\": 10.81},\n",
    "6: {\"Name\": \"Carbon\", \"Symbol\": \"C\", \"Atomic Weight\": 12.011},\n",
    "7: {\"Name\": \"Nitrogen\", \"Symbol\": \"N\", \"Atomic Weight\": 14.007},\n",
    "8: {\"Name\": \"Oxygen\", \"Symbol\": \"O\", \"Atomic Weight\": 15.999}\n",
    "}"
   ]
  },
  {
   "cell_type": "markdown",
   "metadata": {},
   "source": [
    "<div style=\"display: flex; justify-content: space-between;\">\n",
    "<div style=\"width: 48%; line-height: 1.5;\">\n",
    "\n",
    "In this dictionary, the keys (`1`, `2`, `3`, etc.) represent the atomic numbers of the elements. \n",
    "Think of these as the row numbers in a table or spreadsheet. For example:\n",
    "\n",
    "  -  Row 1 corresponds to Hydrogen.\n",
    "\n",
    "  -  Row 2 corresponds to Helium.\n",
    "  \n",
    "  -  And so on.\n",
    "\n",
    "Inside each element's dictionary, you have keys like `\"Name\"`, `\"Symbol\"`, and `\"Atomic Weight\"`. \n",
    "These are like the column headers in a table or spreadsheet:\n",
    "\n",
    "  -  One column is labeled \"Name\".\n",
    "  \n",
    "  -   Another is labeled \"Symbol\".\n",
    "  \n",
    "  -   Another is labeled \"Atomic Weight\".\n",
    "\n",
    "The values inside the inner dictionaries are the actual data in each cell of the table:\n",
    "\n",
    "  -  For Hydrogen, the Name is \"Hydrogen\", the Symbol is \"H\", and the Atomic Weight is 1. \n",
    "  \n",
    "  -  For Helium, the Name is \"Helium\", the Symbol is \"He\", and the Atomic Weight is 4.\n",
    "\n",
    "\n",
    "</div>\n",
    "<div style=\"width: 4%;\">\n",
    "</div>\n",
    "<div style=\"width: 48%; line-height: 1.3;color: grey;\">\n",
    "\n",
    "In diesem Wörterbuch stellen die Schlüssel (`1`, `2`, `3`, etc.) die Ordnungszahlen der Elemente dar.\n",
    "Stellen Sie sich diese wie die Zeilennummern in einer Tabelle oder einem Arbeitsblatt vor.  Zum Beispiel:\n",
    "\n",
    "  -  Zeile 1 entspricht dem Wasserstoff.\n",
    "  \n",
    "  -  Zeile 2 steht für Helium.\n",
    "  \n",
    "  -  Und so weiter.\n",
    "\n",
    "Innerhalb des Wörterbuchs eines jeden Elements gibt es Schlüssel wie \"Name\", \"Symbol\" und \"Atomgewicht\".\n",
    "Diese sind wie die Spaltenüberschriften in einer Tabelle oder Tabellenkalkulation:\n",
    "\n",
    "  -  Eine Spalte ist mit \"Name\" beschriftet.\n",
    "  \n",
    "  -  Eine andere ist mit \"Symbol\" beschriftet.\n",
    "  \n",
    "  -  Eine weitere ist mit \"Atomgewicht\" beschriftet.\n",
    "\n",
    "Die Werte in den inneren Wörterbüchern sind die tatsächlichen Daten in jeder Zelle der Tabelle:\n",
    "\n",
    "  -  Für Wasserstoff ist der Name \"Hydrogen\", das Symbol ist \"H\" und das Atomgewicht ist 1.\n",
    "  \n",
    "  -  Für Helium ist der Name \"Helium\", das Symbol ist \"He\" und das Atomgewicht ist 4.\n",
    "\n",
    "\n",
    "</div>\n",
    "</div>"
   ]
  },
  {
   "cell_type": "markdown",
   "metadata": {},
   "source": [
    "<div style=\"text-align: center;\">\n",
    "<img src=\"./figures/dict_table.png\" width=\"350\">\n",
    "</div>"
   ]
  },
  {
   "cell_type": "code",
   "execution_count": null,
   "metadata": {},
   "outputs": [],
   "source": [
    "# Example: Accessing information about Oxygen (Atomic Number 8)\n",
    "elements[8]\n",
    "#print(f\"Element: {oxygen_info['Name']}, Symbol: {oxygen_info['Symbol']}, Atomic Weight: {oxygen_info['Atomic Weight']}\")"
   ]
  },
  {
   "cell_type": "code",
   "execution_count": null,
   "metadata": {},
   "outputs": [],
   "source": [
    "elements[8][\"Atomic Weight\"]"
   ]
  },
  {
   "cell_type": "code",
   "execution_count": null,
   "metadata": {},
   "outputs": [],
   "source": [
    "molar_mass_glucose = (6 * elements[6][\"Atomic Weight\"]) + (12 * elements[1][\"Atomic Weight\"]) + (6 * elements[8][\"Atomic Weight\"])\n",
    "molar_mass_glucose"
   ]
  },
  {
   "cell_type": "markdown",
   "metadata": {},
   "source": [
    "<div style=\"display: flex; justify-content: space-between;\">\n",
    "<div style=\"width: 48%; line-height: 1.3;\">\n",
    "\n",
    "Note that, in practice, this sort of data might be better held in a pandas DataFrame (my personal favorite, and the second part of this course.)\n",
    "\n",
    "- Use dictionaries when you're working with small datasets, need fast lookups, or are storing simple, structured data (we are going to see a notable example in a second).\n",
    "\n",
    "- Use Pandas DataFrames when you're working with large datasets, need to perform complex data analysis or manipulation, or require multi-dimensional data handling.\n",
    "\n",
    "\n",
    "</div>\n",
    "<div style=\"width: 4%;\">\n",
    "</div>\n",
    "<div style=\"width: 48%; line-height: 1.3;color: grey;\">\n",
    "\n",
    "Beachten Sie, dass diese Art von Daten in der Praxis besser in einem Pandas DataFrame gespeichert werden sollte (mein persönlicher Favorit und der zweite Teil dieses Kurses).\n",
    "\n",
    "- Verwenden Sie Dictionaries, wenn Sie mit kleinen Datensätzen arbeiten, schnelle Nachschlagewerke benötigen oder einfache, strukturierte Daten speichern (wir werden in einer Sekunde ein bemerkenswertes Beispiel sehen).\n",
    "\n",
    "- Verwenden Sie Pandas DataFrames, wenn Sie mit großen Datensätzen arbeiten, komplexe Datenanalysen oder -manipulationen durchführen müssen oder eine mehrdimensionale Datenverarbeitung benötigen.\n",
    "\n",
    "\n",
    "</div>\n",
    "</div>"
   ]
  },
  {
   "cell_type": "code",
   "execution_count": 4,
   "metadata": {},
   "outputs": [
    {
     "data": {
      "text/html": [
       "<div>\n",
       "<style scoped>\n",
       "    .dataframe tbody tr th:only-of-type {\n",
       "        vertical-align: middle;\n",
       "    }\n",
       "\n",
       "    .dataframe tbody tr th {\n",
       "        vertical-align: top;\n",
       "    }\n",
       "\n",
       "    .dataframe thead th {\n",
       "        text-align: right;\n",
       "    }\n",
       "</style>\n",
       "<table border=\"1\" class=\"dataframe\">\n",
       "  <thead>\n",
       "    <tr style=\"text-align: right;\">\n",
       "      <th></th>\n",
       "      <th>Name</th>\n",
       "      <th>Symbol</th>\n",
       "      <th>Atomic Weight</th>\n",
       "    </tr>\n",
       "  </thead>\n",
       "  <tbody>\n",
       "    <tr>\n",
       "      <th>1</th>\n",
       "      <td>Hydrogen</td>\n",
       "      <td>H</td>\n",
       "      <td>1.008</td>\n",
       "    </tr>\n",
       "    <tr>\n",
       "      <th>2</th>\n",
       "      <td>Helium</td>\n",
       "      <td>He</td>\n",
       "      <td>4.0026</td>\n",
       "    </tr>\n",
       "    <tr>\n",
       "      <th>3</th>\n",
       "      <td>Lithium</td>\n",
       "      <td>Li</td>\n",
       "      <td>6.94</td>\n",
       "    </tr>\n",
       "    <tr>\n",
       "      <th>4</th>\n",
       "      <td>Beryllium</td>\n",
       "      <td>Be</td>\n",
       "      <td>9.1022</td>\n",
       "    </tr>\n",
       "    <tr>\n",
       "      <th>5</th>\n",
       "      <td>Boron</td>\n",
       "      <td>B</td>\n",
       "      <td>10.81</td>\n",
       "    </tr>\n",
       "    <tr>\n",
       "      <th>6</th>\n",
       "      <td>Carbon</td>\n",
       "      <td>C</td>\n",
       "      <td>12.011</td>\n",
       "    </tr>\n",
       "    <tr>\n",
       "      <th>7</th>\n",
       "      <td>Nitrogen</td>\n",
       "      <td>N</td>\n",
       "      <td>14.007</td>\n",
       "    </tr>\n",
       "    <tr>\n",
       "      <th>8</th>\n",
       "      <td>Oxygen</td>\n",
       "      <td>O</td>\n",
       "      <td>15.999</td>\n",
       "    </tr>\n",
       "  </tbody>\n",
       "</table>\n",
       "</div>"
      ],
      "text/plain": [
       "        Name Symbol Atomic Weight\n",
       "1   Hydrogen      H         1.008\n",
       "2     Helium     He        4.0026\n",
       "3    Lithium     Li          6.94\n",
       "4  Beryllium     Be        9.1022\n",
       "5      Boron      B         10.81\n",
       "6     Carbon      C        12.011\n",
       "7   Nitrogen      N        14.007\n",
       "8     Oxygen      O        15.999"
      ]
     },
     "execution_count": 4,
     "metadata": {},
     "output_type": "execute_result"
    }
   ],
   "source": [
    "import pandas as pd \n",
    "\n",
    "df = pd.DataFrame(elements).T\n",
    "\n",
    "df"
   ]
  },
  {
   "cell_type": "markdown",
   "metadata": {},
   "source": [
    "<div style=\"display: flex; justify-content: space-between;\">\n",
    "<div style=\"width: 48%; line-height: 1.5;\">\n",
    "\n",
    "###  Example: Physical Constants (SciPy)\n",
    "\n",
    "The package `scipy.constants` provides the numerical values of many of the constants used in physics and chemistry.\n",
    "\n",
    "Importing `scipy.constants` provides a dictionary, `scipy.constants.physical_constants` of *tuples* in the format: `(value, unit, uncertainty)`, keyed by identifying strings.\n",
    "\n",
    "</div>\n",
    "<div style=\"width: 4%;\">\n",
    "</div>\n",
    "<div style=\"width: 48%; line-height: 1.5;color: grey;\">\n",
    "\n",
    "###  Beispiel: Physikalische Konstanten (SciPy)\n",
    "\n",
    "Das Paket `scipy.constants` liefert die numerischen Werte vieler Konstanten, die in Physik und Chemie verwendet werden.\n",
    "\n",
    "Der Import von `scipy.constants` liefert ein Wörterbuch, `scipy.constants.physical_constants` von *Tupeln* im Format: `(Wert, Einheit, Unsicherheit)`, verschlüsselt durch identifizierende Zeichenketten.\n",
    "\n",
    "</div>\n",
    "</div>"
   ]
  },
  {
   "cell_type": "code",
   "execution_count": 4,
   "metadata": {},
   "outputs": [],
   "source": [
    "import scipy.constants as pc# we give it a short alias for convenience"
   ]
  },
  {
   "cell_type": "code",
   "execution_count": 6,
   "metadata": {},
   "outputs": [
    {
     "data": {
      "text/plain": [
       "{'Wien displacement law constant': (0.0028977685, 'm K', 5.1e-09),\n",
       " 'atomic unit of 1st hyperpolarizablity': (3.20636151e-53,\n",
       "  'C^3 m^3 J^-2',\n",
       "  2.8e-60),\n",
       " 'atomic unit of 2nd hyperpolarizablity': (6.2353808e-65,\n",
       "  'C^4 m^4 J^-3',\n",
       "  1.1e-71),\n",
       " 'atomic unit of electric dipole moment': (8.47835309e-30, 'C m', 7.3e-37),\n",
       " 'atomic unit of electric polarizablity': (1.648777274e-41,\n",
       "  'C^2 m^2 J^-1',\n",
       "  1.6e-49),\n",
       " 'atomic unit of electric quadrupole moment': (4.48655124e-40,\n",
       "  'C m^2',\n",
       "  3.9e-47),\n",
       " 'atomic unit of magn. dipole moment': (1.8548019e-23, 'J T^-1', 1.6e-30),\n",
       " 'atomic unit of magn. flux density': (235051.756758, 'T', 7.1e-05),\n",
       " 'deuteron magn. moment': (4.33073482e-27, 'J T^-1', 3.8e-34),\n",
       " 'deuteron magn. moment to Bohr magneton ratio': (0.0004669754567, '', 5e-12),\n",
       " 'deuteron magn. moment to nuclear magneton ratio': (0.8574382329,\n",
       "  '',\n",
       "  9.2e-09),\n",
       " 'deuteron-electron magn. moment ratio': (-0.0004664345548, '', 5e-12),\n",
       " 'deuteron-proton magn. moment ratio': (0.3070122084, '', 4.5e-09),\n",
       " 'deuteron-neutron magn. moment ratio': (-0.44820652, '', 1.1e-07),\n",
       " 'electron gyromagn. ratio': (176085963023.0, 's^-1 T^-1', 53.0),\n",
       " 'electron gyromagn. ratio over 2 pi': (28024.9532, 'MHz T^-1', 0.0024),\n",
       " 'electron magn. moment': (-9.28476412e-24, 'J T^-1', 8e-31),\n",
       " 'electron magn. moment to Bohr magneton ratio': (-1.0011596521859,\n",
       "  '',\n",
       "  3.8e-12),\n",
       " 'electron magn. moment to nuclear magneton ratio': (-1838.28197107,\n",
       "  '',\n",
       "  8.5e-07),\n",
       " 'electron magn. moment anomaly': (0.0011596521859, '', 3.8e-12),\n",
       " 'electron to shielded proton magn. moment ratio': (-658.2275956, '', 7.1e-06),\n",
       " 'electron to shielded helion magn. moment ratio': (864.058255, '', 1e-05),\n",
       " 'electron-deuteron magn. moment ratio': (-2143.923493, '', 2.3e-05),\n",
       " 'electron-muon magn. moment ratio': (206.7669894, '', 5.4e-06),\n",
       " 'electron-neutron magn. moment ratio': (960.9205, '', 0.00023),\n",
       " 'electron-proton magn. moment ratio': (-658.2106862, '', 6.6e-06),\n",
       " 'magn. constant': (1.2566370614e-06, 'N A^-2', 0.0),\n",
       " 'magn. flux quantum': (2.067833848e-15, 'Wb', 0.0),\n",
       " 'muon magn. moment': (-4.49044799e-26, 'J T^-1', 4e-33),\n",
       " 'muon magn. moment to Bohr magneton ratio': (-0.00484197045, '', 1.3e-10),\n",
       " 'muon magn. moment to nuclear magneton ratio': (-8.89059698, '', 2.3e-07),\n",
       " 'muon-proton magn. moment ratio': (-3.183345118, '', 8.9e-08),\n",
       " 'neutron gyromagn. ratio': (183247171.0, 's^-1 T^-1', 43.0),\n",
       " 'neutron gyromagn. ratio over 2 pi': (29.164695, 'MHz T^-1', 7.3e-06),\n",
       " 'neutron magn. moment': (-9.6623645e-27, 'J T^-1', 2.4e-33),\n",
       " 'neutron magn. moment to Bohr magneton ratio': (-0.00104187563, '', 2.5e-10),\n",
       " 'neutron magn. moment to nuclear magneton ratio': (-1.91304273, '', 4.5e-07),\n",
       " 'neutron to shielded proton magn. moment ratio': (-0.68499694, '', 1.6e-07),\n",
       " 'neutron-electron magn. moment ratio': (0.00104066882, '', 2.5e-10),\n",
       " 'neutron-proton magn. moment ratio': (-0.68497934, '', 1.6e-07),\n",
       " 'proton gyromagn. ratio': (267522187.44, 's^-1 T^-1', 0.11),\n",
       " 'proton gyromagn. ratio over 2 pi': (42.5774813, 'MHz T^-1', 3.7e-06),\n",
       " 'proton magn. moment': (1.41060671e-26, 'J T^-1', 1.2e-33),\n",
       " 'proton magn. moment to Bohr magneton ratio': (0.001521032206, '', 1.5e-11),\n",
       " 'proton magn. moment to nuclear magneton ratio': (2.792847351, '', 2.8e-08),\n",
       " 'proton magn. shielding correction': (2.5689e-05, '', 1.1e-08),\n",
       " 'proton-neutron magn. moment ratio': (-1.45989805, '', 3.4e-07),\n",
       " 'shielded helion gyromagn. ratio': (203789456.9, 's^-1 T^-1', 2.4),\n",
       " 'shielded helion gyromagn. ratio over 2 pi': (32.4341015,\n",
       "  'MHz T^-1',\n",
       "  2.8e-06),\n",
       " 'shielded helion magn. moment': (-1.074553024e-26, 'J T^-1', 9.3e-34),\n",
       " 'shielded helion magn. moment to Bohr magneton ratio': (-0.001158671474,\n",
       "  '',\n",
       "  1.4e-11),\n",
       " 'shielded helion magn. moment to nuclear magneton ratio': (-2.127497723,\n",
       "  '',\n",
       "  2.5e-08),\n",
       " 'shielded helion to proton magn. moment ratio': (-0.761766562, '', 1.2e-08),\n",
       " 'shielded helion to shielded proton magn. moment ratio': (-0.7617861313,\n",
       "  '',\n",
       "  3.3e-09),\n",
       " 'shielded proton magn. moment': (1.41057047e-26, 'J T^-1', 1.2e-33),\n",
       " 'shielded proton magn. moment to Bohr magneton ratio': (0.001520993132,\n",
       "  '',\n",
       "  1.6e-11),\n",
       " 'shielded proton magn. moment to nuclear magneton ratio': (2.792775604,\n",
       "  '',\n",
       "  3e-08),\n",
       " '{220} lattice spacing of silicon': (1.920155714e-10, 'm', 3.2e-18),\n",
       " 'lattice spacing of silicon': (1.920155762e-10, 'm', 5e-18),\n",
       " 'alpha particle-electron mass ratio': (7294.29954142, '', 2.4e-07),\n",
       " 'alpha particle mass': (6.6446573357e-27, 'kg', 2e-36),\n",
       " 'alpha particle mass energy equivalent': (5.9719201914e-10, 'J', 1.8e-19),\n",
       " 'alpha particle mass energy equivalent in MeV': (3727.3794066,\n",
       "  'MeV',\n",
       "  1.1e-06),\n",
       " 'alpha particle mass in u': (4.001506179127, 'u', 6.3e-11),\n",
       " 'alpha particle molar mass': (0.0040015061777, 'kg mol^-1', 1.2e-12),\n",
       " 'alpha particle-proton mass ratio': (3.97259969009, '', 2.2e-10),\n",
       " 'Angstrom star': (1.00001495e-10, 'm', 9e-17),\n",
       " 'atomic mass constant': (1.6605390666e-27, 'kg', 5e-37),\n",
       " 'atomic mass constant energy equivalent': (1.4924180856e-10, 'J', 4.5e-20),\n",
       " 'atomic mass constant energy equivalent in MeV': (931.49410242,\n",
       "  'MeV',\n",
       "  2.8e-07),\n",
       " 'atomic mass unit-electron volt relationship': (931494102.42, 'eV', 0.28),\n",
       " 'atomic mass unit-hartree relationship': (34231776.874, 'E_h', 0.01),\n",
       " 'atomic mass unit-hertz relationship': (2.25234271871e+23,\n",
       "  'Hz',\n",
       "  68000000000000.0),\n",
       " 'atomic mass unit-inverse meter relationship': (751300661040000.0,\n",
       "  'm^-1',\n",
       "  230000.0),\n",
       " 'atomic mass unit-joule relationship': (1.4924180856e-10, 'J', 4.5e-20),\n",
       " 'atomic mass unit-kelvin relationship': (10809540191600.0, 'K', 3300.0),\n",
       " 'atomic mass unit-kilogram relationship': (1.6605390666e-27, 'kg', 5e-37),\n",
       " 'atomic unit of 1st hyperpolarizability': (3.2063613061e-53,\n",
       "  'C^3 m^3 J^-2',\n",
       "  1.5e-62),\n",
       " 'atomic unit of 2nd hyperpolarizability': (6.2353799905e-65,\n",
       "  'C^4 m^4 J^-3',\n",
       "  3.8e-74),\n",
       " 'atomic unit of action': (1.054571817e-34, 'J s', 0.0),\n",
       " 'atomic unit of charge': (1.602176634e-19, 'C', 0.0),\n",
       " 'atomic unit of charge density': (1081202384570.0, 'C m^-3', 490.0),\n",
       " 'atomic unit of current': (0.00662361823751, 'A', 1.3e-14),\n",
       " 'atomic unit of electric dipole mom.': (8.4783536255e-30, 'C m', 1.3e-39),\n",
       " 'atomic unit of electric field': (514220674763.0, 'V m^-1', 78.0),\n",
       " 'atomic unit of electric field gradient': (9.7173624292e+21,\n",
       "  'V m^-2',\n",
       "  2900000000000.0),\n",
       " 'atomic unit of electric polarizability': (1.64877727436e-41,\n",
       "  'C^2 m^2 J^-1',\n",
       "  5e-51),\n",
       " 'atomic unit of electric potential': (27.211386245988, 'V', 5.3e-11),\n",
       " 'atomic unit of electric quadrupole mom.': (4.4865515246e-40,\n",
       "  'C m^2',\n",
       "  1.4e-49),\n",
       " 'atomic unit of energy': (4.3597447222071e-18, 'J', 8.5e-30),\n",
       " 'atomic unit of force': (8.2387234983e-08, 'N', 1.2e-17),\n",
       " 'atomic unit of length': (5.29177210903e-11, 'm', 8e-21),\n",
       " 'atomic unit of mag. dipole mom.': (1.85480201566e-23, 'J T^-1', 5.6e-33),\n",
       " 'atomic unit of mag. flux density': (235051.756758, 'T', 7.1e-05),\n",
       " 'atomic unit of magnetizability': (7.8910366008e-29, 'J T^-2', 4.8e-38),\n",
       " 'atomic unit of mass': (9.1093837015e-31, 'kg', 2.8e-40),\n",
       " 'atomic unit of momentum': (1.9928519141e-24, 'kg m s^-1', 3e-34),\n",
       " 'atomic unit of permittivity': (1.11265005545e-10, 'F m^-1', 1.7e-20),\n",
       " 'atomic unit of time': (2.4188843265857e-17, 's', 4.7e-29),\n",
       " 'atomic unit of velocity': (2187691.26364, 'm s^-1', 0.00033),\n",
       " 'Avogadro constant': (6.02214076e+23, 'mol^-1', 0.0),\n",
       " 'Bohr magneton': (9.2740100783e-24, 'J T^-1', 2.8e-33),\n",
       " 'Bohr magneton in eV/T': (5.788381806e-05, 'eV T^-1', 1.7e-14),\n",
       " 'Bohr magneton in Hz/T': (13996244936.1, 'Hz T^-1', 4.2),\n",
       " 'Bohr magneton in inverse meters per tesla': (46.68644814,\n",
       "  'm^-1 T^-1',\n",
       "  2.9e-07),\n",
       " 'Bohr magneton in K/T': (0.67171381563, 'K T^-1', 2e-10),\n",
       " 'Bohr radius': (5.29177210903e-11, 'm', 8e-21),\n",
       " 'Boltzmann constant': (1.380649e-23, 'J K^-1', 0.0),\n",
       " 'Boltzmann constant in eV/K': (8.617333262e-05, 'eV K^-1', 0.0),\n",
       " 'Boltzmann constant in Hz/K': (20836619120.0, 'Hz K^-1', 0.0),\n",
       " 'Boltzmann constant in inverse meters per kelvin': (69.503457,\n",
       "  'm^-1 K^-1',\n",
       "  4e-05),\n",
       " 'characteristic impedance of vacuum': (376.730313668, 'ohm', 5.7e-08),\n",
       " 'classical electron radius': (2.8179403262e-15, 'm', 1.3e-24),\n",
       " 'Compton wavelength': (2.42631023867e-12, 'm', 7.3e-22),\n",
       " 'Compton wavelength over 2 pi': (3.8615926764e-13, 'm', 1.8e-22),\n",
       " 'conductance quantum': (7.748091729e-05, 'S', 0.0),\n",
       " 'conventional value of Josephson constant': (483597900000000.0,\n",
       "  'Hz V^-1',\n",
       "  0.0),\n",
       " 'conventional value of von Klitzing constant': (25812.807, 'ohm', 0.0),\n",
       " 'Cu x unit': (1.00207697e-13, 'm', 2.8e-20),\n",
       " 'deuteron-electron mag. mom. ratio': (-0.0004664345551, '', 1.2e-12),\n",
       " 'deuteron-electron mass ratio': (3670.48296788, '', 1.3e-07),\n",
       " 'deuteron g factor': (0.8574382338, '', 2.2e-09),\n",
       " 'deuteron mag. mom.': (4.330735094e-27, 'J T^-1', 1.1e-35),\n",
       " 'deuteron mag. mom. to Bohr magneton ratio': (0.000466975457, '', 1.2e-12),\n",
       " 'deuteron mag. mom. to nuclear magneton ratio': (0.8574382338, '', 2.2e-09),\n",
       " 'deuteron mass': (3.3435837724e-27, 'kg', 1e-36),\n",
       " 'deuteron mass energy equivalent': (3.00506323102e-10, 'J', 9.1e-20),\n",
       " 'deuteron mass energy equivalent in MeV': (1875.61294257, 'MeV', 5.7e-07),\n",
       " 'deuteron mass in u': (2.013553212745, 'u', 4e-11),\n",
       " 'deuteron molar mass': (0.00201355321205, 'kg mol^-1', 6.1e-13),\n",
       " 'deuteron-neutron mag. mom. ratio': (-0.44820653, '', 1.1e-07),\n",
       " 'deuteron-proton mag. mom. ratio': (0.30701220939, '', 7.9e-10),\n",
       " 'deuteron-proton mass ratio': (1.99900750139, '', 1.1e-10),\n",
       " 'deuteron rms charge radius': (2.12799e-15, 'm', 7.4e-19),\n",
       " 'electric constant': (8.8541878128e-12, 'F m^-1', 1.3e-21),\n",
       " 'electron charge to mass quotient': (-175882001076.0, 'C kg^-1', 53.0),\n",
       " 'electron-deuteron mag. mom. ratio': (-2143.9234915, '', 5.6e-06),\n",
       " 'electron-deuteron mass ratio': (0.0002724437107462, '', 9.6e-15),\n",
       " 'electron g factor': (-2.00231930436256, '', 3.5e-13),\n",
       " 'electron gyromag. ratio': (176085963023.0, 's^-1 T^-1', 53.0),\n",
       " 'electron gyromag. ratio over 2 pi': (28024.95164, 'MHz T^-1', 0.00017),\n",
       " 'electron mag. mom.': (-9.2847647043e-24, 'J T^-1', 2.8e-33),\n",
       " 'electron mag. mom. anomaly': (0.00115965218128, '', 1.8e-13),\n",
       " 'electron mag. mom. to Bohr magneton ratio': (-1.00115965218128, '', 1.8e-13),\n",
       " 'electron mag. mom. to nuclear magneton ratio': (-1838.28197188, '', 1.1e-07),\n",
       " 'electron mass': (9.1093837015e-31, 'kg', 2.8e-40),\n",
       " 'electron mass energy equivalent': (8.1871057769e-14, 'J', 2.5e-23),\n",
       " 'electron mass energy equivalent in MeV': (0.51099895, 'MeV', 1.5e-10),\n",
       " 'electron mass in u': (0.000548579909065, 'u', 1.6e-14),\n",
       " 'electron molar mass': (5.4857990888e-07, 'kg mol^-1', 1.7e-16),\n",
       " 'electron-muon mag. mom. ratio': (206.7669883, '', 4.6e-06),\n",
       " 'electron-muon mass ratio': (0.00483633169, '', 1.1e-10),\n",
       " 'electron-neutron mag. mom. ratio': (960.9205, '', 0.00023),\n",
       " 'electron-neutron mass ratio': (0.00054386734424, '', 2.6e-13),\n",
       " 'electron-proton mag. mom. ratio': (-658.21068789, '', 2e-07),\n",
       " 'electron-proton mass ratio': (0.000544617021487, '', 3.3e-14),\n",
       " 'electron-tau mass ratio': (0.000287585, '', 1.9e-08),\n",
       " 'electron to alpha particle mass ratio': (0.0001370933554787, '', 4.5e-15),\n",
       " 'electron to shielded helion mag. mom. ratio': (864.058257, '', 1e-05),\n",
       " 'electron to shielded proton mag. mom. ratio': (-658.2275971, '', 7.2e-06),\n",
       " 'electron volt': (1.602176634e-19, 'J', 0.0),\n",
       " 'electron volt-atomic mass unit relationship': (1.07354410233e-09,\n",
       "  'u',\n",
       "  3.2e-19),\n",
       " 'electron volt-hartree relationship': (0.036749322175655, 'E_h', 7.1e-14),\n",
       " 'electron volt-hertz relationship': (241798924200000.0, 'Hz', 0.0),\n",
       " 'electron volt-inverse meter relationship': (806554.3937, 'm^-1', 0.0),\n",
       " 'electron volt-joule relationship': (1.602176634e-19, 'J', 0.0),\n",
       " 'electron volt-kelvin relationship': (11604.51812, 'K', 0.0),\n",
       " 'electron volt-kilogram relationship': (1.782661921e-36, 'kg', 0.0),\n",
       " 'elementary charge': (1.602176634e-19, 'C', 0.0),\n",
       " 'elementary charge over h': (241798926200000.0, 'A J^-1', 1500000.0),\n",
       " 'Faraday constant': (96485.33212, 'C mol^-1', 0.0),\n",
       " 'Faraday constant for conventional electric current': (96485.3251,\n",
       "  'C_90 mol^-1',\n",
       "  0.0012),\n",
       " 'Fermi coupling constant': (1.1663787e-05, 'GeV^-2', 6e-12),\n",
       " 'fine-structure constant': (0.0072973525693, '', 1.1e-12),\n",
       " 'first radiation constant': (3.741771852e-16, 'W m^2', 0.0),\n",
       " 'first radiation constant for spectral radiance': (1.191042972e-16,\n",
       "  'W m^2 sr^-1',\n",
       "  0.0),\n",
       " 'hartree-atomic mass unit relationship': (2.92126232205e-08, 'u', 8.8e-18),\n",
       " 'hartree-electron volt relationship': (27.211386245988, 'eV', 5.3e-11),\n",
       " 'Hartree energy': (4.3597447222071e-18, 'J', 8.5e-30),\n",
       " 'Hartree energy in eV': (27.211386245988, 'eV', 5.3e-11),\n",
       " 'hartree-hertz relationship': (6579683920502000.0, 'Hz', 13000.0),\n",
       " 'hartree-inverse meter relationship': (21947463.13632, 'm^-1', 4.3e-05),\n",
       " 'hartree-joule relationship': (4.3597447222071e-18, 'J', 8.5e-30),\n",
       " 'hartree-kelvin relationship': (315775.02480407, 'K', 6.1e-07),\n",
       " 'hartree-kilogram relationship': (4.8508702095432e-35, 'kg', 9.4e-47),\n",
       " 'helion-electron mass ratio': (5495.88528007, '', 2.4e-07),\n",
       " 'helion mass': (5.0064127796e-27, 'kg', 1.5e-36),\n",
       " 'helion mass energy equivalent': (4.4995394125e-10, 'J', 1.4e-19),\n",
       " 'helion mass energy equivalent in MeV': (2808.39160743, 'MeV', 8.5e-07),\n",
       " 'helion mass in u': (3.014932247175, 'u', 9.7e-11),\n",
       " 'helion molar mass': (0.00301493224613, 'kg mol^-1', 9.1e-13),\n",
       " 'helion-proton mass ratio': (2.99315267167, '', 1.3e-10),\n",
       " 'hertz-atomic mass unit relationship': (4.4398216652e-24, 'u', 1.3e-33),\n",
       " 'hertz-electron volt relationship': (4.135667696e-15, 'eV', 0.0),\n",
       " 'hertz-hartree relationship': (1.519829846057e-16, 'E_h', 2.9e-28),\n",
       " 'hertz-inverse meter relationship': (3.3356409519815204e-09, 'm^-1', 0.0),\n",
       " 'hertz-joule relationship': (6.62607015e-34, 'J', 0.0),\n",
       " 'hertz-kelvin relationship': (4.799243073e-11, 'K', 0.0),\n",
       " 'hertz-kilogram relationship': (7.372497323e-51, 'kg', 0.0),\n",
       " 'inverse fine-structure constant': (137.035999084, '', 2.1e-08),\n",
       " 'inverse meter-atomic mass unit relationship': (1.3310250501e-15, 'u', 4e-25),\n",
       " 'inverse meter-electron volt relationship': (1.239841984e-06, 'eV', 0.0),\n",
       " 'inverse meter-hartree relationship': (4.556335252912e-08, 'E_h', 8.8e-20),\n",
       " 'inverse meter-hertz relationship': (299792458.0, 'Hz', 0.0),\n",
       " 'inverse meter-joule relationship': (1.986445857e-25, 'J', 0.0),\n",
       " 'inverse meter-kelvin relationship': (0.01438776877, 'K', 0.0),\n",
       " 'inverse meter-kilogram relationship': (2.210219094e-42, 'kg', 0.0),\n",
       " 'inverse of conductance quantum': (12906.40372, 'ohm', 0.0),\n",
       " 'Josephson constant': (483597848400000.0, 'Hz V^-1', 0.0),\n",
       " 'joule-atomic mass unit relationship': (6700535256.5, 'u', 2.0),\n",
       " 'joule-electron volt relationship': (6.241509074e+18, 'eV', 0.0),\n",
       " 'joule-hartree relationship': (2.2937122783963e+17, 'E_h', 450000.0),\n",
       " 'joule-hertz relationship': (1.509190179e+33, 'Hz', 0.0),\n",
       " 'joule-inverse meter relationship': (5.034116567e+24, 'm^-1', 0.0),\n",
       " 'joule-kelvin relationship': (7.242970516e+22, 'K', 0.0),\n",
       " 'joule-kilogram relationship': (1.1126500560536185e-17, 'kg', 0.0),\n",
       " 'kelvin-atomic mass unit relationship': (9.2510873014e-14, 'u', 2.8e-23),\n",
       " 'kelvin-electron volt relationship': (8.617333262e-05, 'eV', 0.0),\n",
       " 'kelvin-hartree relationship': (3.1668115634556e-06, 'E_h', 6.1e-18),\n",
       " 'kelvin-hertz relationship': (20836619120.0, 'Hz', 0.0),\n",
       " 'kelvin-inverse meter relationship': (69.50348004, 'm^-1', 0.0),\n",
       " 'kelvin-joule relationship': (1.380649e-23, 'J', 0.0),\n",
       " 'kelvin-kilogram relationship': (1.536179187e-40, 'kg', 0.0),\n",
       " 'kilogram-atomic mass unit relationship': (6.0221407621e+26, 'u', 1.8e+17),\n",
       " 'kilogram-electron volt relationship': (5.609588603e+35, 'eV', 0.0),\n",
       " 'kilogram-hartree relationship': (2.0614857887409e+34, 'E_h', 4e+22),\n",
       " 'kilogram-hertz relationship': (1.356392489e+50, 'Hz', 0.0),\n",
       " 'kilogram-inverse meter relationship': (4.524438335e+41, 'm^-1', 0.0),\n",
       " 'kilogram-joule relationship': (8.987551787368176e+16, 'J', 0.0),\n",
       " 'kilogram-kelvin relationship': (6.50965726e+39, 'K', 0.0),\n",
       " 'lattice parameter of silicon': (5.431020511e-10, 'm', 8.9e-18),\n",
       " 'Loschmidt constant (273.15 K, 101.325 kPa)': (2.686780111e+25, 'm^-3', 0.0),\n",
       " 'mag. constant': (1.25663706212e-06, 'N A^-2', 1.9e-16),\n",
       " 'mag. flux quantum': (2.067833848e-15, 'Wb', 0.0),\n",
       " 'molar gas constant': (8.314462618, 'J mol^-1 K^-1', 0.0),\n",
       " 'molar mass constant': (0.00099999999965, 'kg mol^-1', 3e-13),\n",
       " 'molar mass of carbon-12': (0.0119999999958, 'kg mol^-1', 3.6e-12),\n",
       " 'molar Planck constant': (3.990312712e-10, 'J Hz^-1 mol^-1', 0.0),\n",
       " 'molar Planck constant times c': (0.119626565582, 'J m mol^-1', 5.4e-11),\n",
       " 'molar volume of ideal gas (273.15 K, 100 kPa)': (0.02271095464,\n",
       "  'm^3 mol^-1',\n",
       "  0.0),\n",
       " 'molar volume of ideal gas (273.15 K, 101.325 kPa)': (0.02241396954,\n",
       "  'm^3 mol^-1',\n",
       "  0.0),\n",
       " 'molar volume of silicon': (1.205883199e-05, 'm^3 mol^-1', 6e-13),\n",
       " 'Mo x unit': (1.00209952e-13, 'm', 5.3e-20),\n",
       " 'muon Compton wavelength': (1.17344411e-14, 'm', 2.6e-22),\n",
       " 'muon Compton wavelength over 2 pi': (1.867594308e-15, 'm', 4.2e-23),\n",
       " 'muon-electron mass ratio': (206.768283, '', 4.6e-06),\n",
       " 'muon g factor': (-2.0023318418, '', 1.3e-09),\n",
       " 'muon mag. mom.': (-4.4904483e-26, 'J T^-1', 1e-33),\n",
       " 'muon mag. mom. anomaly': (0.00116592089, '', 6.3e-10),\n",
       " 'muon mag. mom. to Bohr magneton ratio': (-0.00484197047, '', 1.1e-10),\n",
       " 'muon mag. mom. to nuclear magneton ratio': (-8.89059703, '', 2e-07),\n",
       " 'muon mass': (1.883531627e-28, 'kg', 4.2e-36),\n",
       " 'muon mass energy equivalent': (1.692833804e-11, 'J', 3.8e-19),\n",
       " 'muon mass energy equivalent in MeV': (105.6583755, 'MeV', 2.3e-06),\n",
       " 'muon mass in u': (0.1134289259, 'u', 2.5e-09),\n",
       " 'muon molar mass': (0.0001134289259, 'kg mol^-1', 2.5e-12),\n",
       " 'muon-neutron mass ratio': (0.112454517, '', 2.5e-09),\n",
       " 'muon-proton mag. mom. ratio': (-3.183345142, '', 7.1e-08),\n",
       " 'muon-proton mass ratio': (0.1126095264, '', 2.5e-09),\n",
       " 'muon-tau mass ratio': (0.0594635, '', 4e-06),\n",
       " 'natural unit of action': (1.054571817e-34, 'J s', 0.0),\n",
       " 'natural unit of action in eV s': (6.582119569e-16, 'eV s', 0.0),\n",
       " 'natural unit of energy': (8.1871057769e-14, 'J', 2.5e-23),\n",
       " 'natural unit of energy in MeV': (0.51099895, 'MeV', 1.5e-10),\n",
       " 'natural unit of length': (3.8615926796e-13, 'm', 1.2e-22),\n",
       " 'natural unit of mass': (9.1093837015e-31, 'kg', 2.8e-40),\n",
       " 'natural unit of momentum': (2.730924488e-22, 'kg m s^-1', 3.4e-30),\n",
       " 'natural unit of momentum in MeV/c': (0.5109989461, 'MeV/c', 3.1e-09),\n",
       " 'natural unit of time': (1.28808866819e-21, 's', 3.9e-31),\n",
       " 'natural unit of velocity': (299792458.0, 'm s^-1', 0.0),\n",
       " 'neutron Compton wavelength': (1.31959090581e-15, 'm', 7.5e-25),\n",
       " 'neutron Compton wavelength over 2 pi': (2.1001941536e-16, 'm', 1.4e-25),\n",
       " 'neutron-electron mag. mom. ratio': (0.00104066882, '', 2.5e-10),\n",
       " 'neutron-electron mass ratio': (1838.68366173, '', 8.9e-07),\n",
       " 'neutron g factor': (-3.82608545, '', 9e-07),\n",
       " 'neutron gyromag. ratio': (183247171.0, 's^-1 T^-1', 43.0),\n",
       " 'neutron gyromag. ratio over 2 pi': (29.1646933, 'MHz T^-1', 6.9e-06),\n",
       " 'neutron mag. mom.': (-9.6623651e-27, 'J T^-1', 2.3e-33),\n",
       " 'neutron mag. mom. to Bohr magneton ratio': (-0.00104187563, '', 2.5e-10),\n",
       " 'neutron mag. mom. to nuclear magneton ratio': (-1.91304273, '', 4.5e-07),\n",
       " 'neutron mass': (1.67492749804e-27, 'kg', 9.5e-37),\n",
       " 'neutron mass energy equivalent': (1.50534976287e-10, 'J', 8.6e-20),\n",
       " 'neutron mass energy equivalent in MeV': (939.56542052, 'MeV', 5.4e-07),\n",
       " 'neutron mass in u': (1.00866491595, 'u', 4.9e-10),\n",
       " 'neutron molar mass': (0.0010086649156, 'kg mol^-1', 5.7e-13),\n",
       " 'neutron-muon mass ratio': (8.89248406, '', 2e-07),\n",
       " 'neutron-proton mag. mom. ratio': (-0.68497934, '', 1.6e-07),\n",
       " 'neutron-proton mass ratio': (1.00137841931, '', 4.9e-10),\n",
       " 'neutron-tau mass ratio': (0.528779, '', 3.6e-05),\n",
       " 'neutron to shielded proton mag. mom. ratio': (-0.68499694, '', 1.6e-07),\n",
       " 'Newtonian constant of gravitation': (6.6743e-11, 'm^3 kg^-1 s^-2', 1.5e-15),\n",
       " 'Newtonian constant of gravitation over h-bar c': (6.70883e-39,\n",
       "  '(GeV/c^2)^-2',\n",
       "  1.5e-43),\n",
       " 'nuclear magneton': (5.0507837461e-27, 'J T^-1', 1.5e-36),\n",
       " 'nuclear magneton in eV/T': (3.15245125844e-08, 'eV T^-1', 9.6e-18),\n",
       " 'nuclear magneton in inverse meters per tesla': (0.02542623432,\n",
       "  'm^-1 T^-1',\n",
       "  1.6e-10),\n",
       " 'nuclear magneton in K/T': (0.00036582677756, 'K T^-1', 1.1e-13),\n",
       " 'nuclear magneton in MHz/T': (7.6225932291, 'MHz T^-1', 2.3e-09),\n",
       " 'Planck constant': (6.62607015e-34, 'J Hz^-1', 0.0),\n",
       " 'Planck constant in eV s': (4.135667662e-15, 'eV s', 2.5e-23),\n",
       " 'Planck constant over 2 pi': (1.0545718e-34, 'J s', 1.3e-42),\n",
       " 'Planck constant over 2 pi in eV s': (6.582119514e-16, 'eV s', 4e-24),\n",
       " 'Planck constant over 2 pi times c in MeV fm': (197.3269788,\n",
       "  'MeV fm',\n",
       "  1.2e-06),\n",
       " 'Planck length': (1.616255e-35, 'm', 1.8e-40),\n",
       " 'Planck mass': (2.176434e-08, 'kg', 2.4e-13),\n",
       " 'Planck mass energy equivalent in GeV': (1.22089e+19,\n",
       "  'GeV',\n",
       "  140000000000000.0),\n",
       " 'Planck temperature': (1.416784e+32, 'K', 1.6e+27),\n",
       " 'Planck time': (5.391247e-44, 's', 6e-49),\n",
       " 'proton charge to mass quotient': (95788331.56, 'C kg^-1', 0.029),\n",
       " 'proton Compton wavelength': (1.32140985539e-15, 'm', 4e-25),\n",
       " 'proton Compton wavelength over 2 pi': (2.10308910109e-16, 'm', 9.7e-26),\n",
       " 'proton-electron mass ratio': (1836.15267343, '', 1.1e-07),\n",
       " 'proton g factor': (5.5856946893, '', 1.6e-09),\n",
       " 'proton gyromag. ratio': (267522187.44, 's^-1 T^-1', 0.11),\n",
       " 'proton gyromag. ratio over 2 pi': (42.57747892, 'MHz T^-1', 2.9e-07),\n",
       " 'proton mag. mom.': (1.41060679736e-26, 'J T^-1', 6e-36),\n",
       " 'proton mag. mom. to Bohr magneton ratio': (0.0015210322023, '', 4.6e-13),\n",
       " 'proton mag. mom. to nuclear magneton ratio': (2.79284734463, '', 8.2e-10),\n",
       " 'proton mag. shielding correction': (2.5689e-05, '', 1.1e-08),\n",
       " 'proton mass': (1.67262192369e-27, 'kg', 5.1e-37),\n",
       " 'proton mass energy equivalent': (1.50327761598e-10, 'J', 4.6e-20),\n",
       " 'proton mass energy equivalent in MeV': (938.27208816, 'MeV', 2.9e-07),\n",
       " 'proton mass in u': (1.007276466621, 'u', 5.3e-11),\n",
       " 'proton molar mass': (0.00100727646627, 'kg mol^-1', 3.1e-13),\n",
       " 'proton-muon mass ratio': (8.88024337, '', 2e-07),\n",
       " 'proton-neutron mag. mom. ratio': (-1.45989805, '', 3.4e-07),\n",
       " 'proton-neutron mass ratio': (0.99862347812, '', 4.9e-10),\n",
       " 'proton rms charge radius': (8.414e-16, 'm', 1.9e-18),\n",
       " 'proton-tau mass ratio': (0.528051, '', 3.6e-05),\n",
       " 'quantum of circulation': (0.00036369475516, 'm^2 s^-1', 1.1e-13),\n",
       " 'quantum of circulation times 2': (0.00072738951032, 'm^2 s^-1', 2.2e-13),\n",
       " 'Rydberg constant': (10973731.56816, 'm^-1', 2.1e-05),\n",
       " 'Rydberg constant times c in Hz': (3289841960250800.0, 'Hz', 6400.0),\n",
       " 'Rydberg constant times hc in eV': (13.605693122994, 'eV', 2.6e-11),\n",
       " 'Rydberg constant times hc in J': (2.1798723611035e-18, 'J', 4.2e-30),\n",
       " 'Sackur-Tetrode constant (1 K, 100 kPa)': (-1.15170753706, '', 4.5e-10),\n",
       " 'Sackur-Tetrode constant (1 K, 101.325 kPa)': (-1.16487052358, '', 4.5e-10),\n",
       " 'second radiation constant': (0.01438776877, 'm K', 0.0),\n",
       " 'shielded helion gyromag. ratio': (203789456.9, 's^-1 T^-1', 2.4),\n",
       " 'shielded helion gyromag. ratio over 2 pi': (32.43409966,\n",
       "  'MHz T^-1',\n",
       "  4.3e-07),\n",
       " 'shielded helion mag. mom.': (-1.07455309e-26, 'J T^-1', 1.3e-34),\n",
       " 'shielded helion mag. mom. to Bohr magneton ratio': (-0.001158671471,\n",
       "  '',\n",
       "  1.4e-11),\n",
       " 'shielded helion mag. mom. to nuclear magneton ratio': (-2.127497719,\n",
       "  '',\n",
       "  2.5e-08),\n",
       " 'shielded helion to proton mag. mom. ratio': (-0.7617665618, '', 8.9e-09),\n",
       " 'shielded helion to shielded proton mag. mom. ratio': (-0.7617861313,\n",
       "  '',\n",
       "  3.3e-09),\n",
       " 'shielded proton gyromag. ratio': (267515315.1, 's^-1 T^-1', 2.9),\n",
       " 'shielded proton gyromag. ratio over 2 pi': (42.57638507,\n",
       "  'MHz T^-1',\n",
       "  5.3e-07),\n",
       " 'shielded proton mag. mom.': (1.41057056e-26, 'J T^-1', 1.5e-34),\n",
       " 'shielded proton mag. mom. to Bohr magneton ratio': (0.001520993128,\n",
       "  '',\n",
       "  1.7e-11),\n",
       " 'shielded proton mag. mom. to nuclear magneton ratio': (2.792775599,\n",
       "  '',\n",
       "  3e-08),\n",
       " 'speed of light in vacuum': (299792458.0, 'm s^-1', 0.0),\n",
       " 'standard acceleration of gravity': (9.80665, 'm s^-2', 0.0),\n",
       " 'standard atmosphere': (101325.0, 'Pa', 0.0),\n",
       " 'Stefan-Boltzmann constant': (5.670374419e-08, 'W m^-2 K^-4', 0.0),\n",
       " 'tau Compton wavelength': (6.97771e-16, 'm', 4.7e-20),\n",
       " 'tau Compton wavelength over 2 pi': (1.11056e-16, 'm', 1e-20),\n",
       " 'tau-electron mass ratio': (3477.23, '', 0.23),\n",
       " 'tau mass': (3.16754e-27, 'kg', 2.1e-31),\n",
       " 'tau mass energy equivalent': (2.84684e-10, 'J', 1.9e-14),\n",
       " 'tau mass energy equivalent in MeV': (1776.82, 'MeV', 0.16),\n",
       " 'tau mass in u': (1.90754, 'u', 0.00013),\n",
       " 'tau molar mass': (0.00190754, 'kg mol^-1', 1.3e-07),\n",
       " 'tau-muon mass ratio': (16.817, '', 0.0011),\n",
       " 'tau-neutron mass ratio': (1.89115, '', 0.00013),\n",
       " 'tau-proton mass ratio': (1.89376, '', 0.00013),\n",
       " 'Thomson cross section': (6.6524587321e-29, 'm^2', 6e-38),\n",
       " 'triton-electron mag. mom. ratio': (-0.001620514423, '', 2.1e-11),\n",
       " 'triton-electron mass ratio': (5496.92153573, '', 2.7e-07),\n",
       " 'triton g factor': (5.957924931, '', 1.2e-08),\n",
       " 'triton mag. mom.': (1.5046095202e-26, 'J T^-1', 3e-35),\n",
       " 'triton mag. mom. to Bohr magneton ratio': (0.0016223936651, '', 3.2e-12),\n",
       " 'triton mag. mom. to nuclear magneton ratio': (2.9789624656, '', 5.9e-09),\n",
       " 'triton mass': (5.0073567446e-27, 'kg', 1.5e-36),\n",
       " 'triton mass energy equivalent': (4.500387806e-10, 'J', 1.4e-19),\n",
       " 'triton mass energy equivalent in MeV': (2808.92113298, 'MeV', 8.5e-07),\n",
       " 'triton mass in u': (3.01550071621, 'u', 1.2e-10),\n",
       " 'triton molar mass': (0.00301550071517, 'kg mol^-1', 9.2e-13),\n",
       " 'triton-neutron mag. mom. ratio': (-1.55718553, '', 3.7e-07),\n",
       " 'triton-proton mag. mom. ratio': (1.066639908, '', 1e-08),\n",
       " 'triton-proton mass ratio': (2.99371703414, '', 1.5e-10),\n",
       " 'unified atomic mass unit': (1.6605390666e-27, 'kg', 5e-37),\n",
       " 'von Klitzing constant': (25812.80745, 'ohm', 0.0),\n",
       " 'weak mixing angle': (0.2229, '', 0.0003),\n",
       " 'Wien frequency displacement law constant': (58789257570.0, 'Hz K^-1', 0.0),\n",
       " 'Wien wavelength displacement law constant': (0.002897771955, 'm K', 0.0),\n",
       " 'atomic unit of mom.um': (1.992851882e-24, 'kg m s^-1', 2.4e-32),\n",
       " 'electron-helion mass ratio': (0.0001819543074573, '', 7.9e-15),\n",
       " 'electron-triton mass ratio': (0.0001819200062251, '', 9e-15),\n",
       " 'helion g factor': (-4.255250615, '', 5e-08),\n",
       " 'helion mag. mom.': (-1.074617532e-26, 'J T^-1', 1.3e-34),\n",
       " 'helion mag. mom. to Bohr magneton ratio': (-0.001158740958, '', 1.4e-11),\n",
       " 'helion mag. mom. to nuclear magneton ratio': (-2.127625307, '', 2.5e-08),\n",
       " 'Loschmidt constant (273.15 K, 100 kPa)': (2.651645804e+25, 'm^-3', 0.0),\n",
       " 'natural unit of mom.um': (2.730924488e-22, 'kg m s^-1', 3.4e-30),\n",
       " 'natural unit of mom.um in MeV/c': (0.5109989461, 'MeV/c', 3.1e-09),\n",
       " 'neutron-proton mass difference': (2.30557435e-30, 'kg', 8.2e-37),\n",
       " 'neutron-proton mass difference energy equivalent': (2.07214689e-13,\n",
       "  'J',\n",
       "  7.4e-20),\n",
       " 'neutron-proton mass difference energy equivalent in MeV': (1.29333236,\n",
       "  'MeV',\n",
       "  4.6e-07),\n",
       " 'neutron-proton mass difference in u': (0.00138844933, 'u', 4.9e-10),\n",
       " 'standard-state pressure': (100000.0, 'Pa', 0.0),\n",
       " 'alpha particle relative atomic mass': (4.001506179127, '', 6.3e-11),\n",
       " 'Bohr magneton in inverse meter per tesla': (46.686447783,\n",
       "  'm^-1 T^-1',\n",
       "  1.4e-08),\n",
       " 'Boltzmann constant in inverse meter per kelvin': (69.50348004,\n",
       "  'm^-1 K^-1',\n",
       "  0.0),\n",
       " 'conventional value of ampere-90': (1.00000008887, 'A', 0.0),\n",
       " 'conventional value of coulomb-90': (1.00000008887, 'C', 0.0),\n",
       " 'conventional value of farad-90': (0.9999999822, 'F', 0.0),\n",
       " 'conventional value of henry-90': (1.00000001779, 'H', 0.0),\n",
       " 'conventional value of ohm-90': (1.00000001779, 'ohm', 0.0),\n",
       " 'conventional value of volt-90': (1.00000010666, 'V', 0.0),\n",
       " 'conventional value of watt-90': (1.00000019553, 'W', 0.0),\n",
       " 'deuteron relative atomic mass': (2.013553212745, '', 4e-11),\n",
       " 'electron gyromag. ratio in MHz/T': (28024.9514242, 'MHz T^-1', 8.5e-06),\n",
       " 'electron relative atomic mass': (0.000548579909065, '', 1.6e-14),\n",
       " 'elementary charge over h-bar': (1519267447000000.0, 'A J^-1', 0.0),\n",
       " 'helion relative atomic mass': (3.014932247175, '', 9.7e-11),\n",
       " 'helion shielding shift': (5.996743e-05, '', 1e-10),\n",
       " 'hyperfine transition frequency of Cs-133': (9192631770.0, 'Hz', 0.0),\n",
       " 'lattice spacing of ideal Si (220)': (1.920155716e-10, 'm', 3.2e-18),\n",
       " 'luminous efficacy': (683.0, 'lm W^-1', 0.0),\n",
       " 'neutron gyromag. ratio in MHz/T': (29.1646931, 'MHz T^-1', 6.9e-06),\n",
       " 'neutron relative atomic mass': (1.00866491595, '', 4.9e-10),\n",
       " 'nuclear magneton in inverse meter per tesla': (0.0254262341353,\n",
       "  'm^-1 T^-1',\n",
       "  7.8e-12),\n",
       " 'Planck constant in eV/Hz': (4.135667696e-15, 'eV Hz^-1', 0.0),\n",
       " 'proton gyromag. ratio in MHz/T': (42.577478518, 'MHz T^-1', 1.8e-08),\n",
       " 'proton relative atomic mass': (1.007276466621, '', 5.3e-11),\n",
       " 'reduced Compton wavelength': (3.8615926796e-13, 'm', 1.2e-22),\n",
       " 'reduced muon Compton wavelength': (1.867594306e-15, 'm', 4.2e-23),\n",
       " 'reduced neutron Compton wavelength': (2.1001941552e-16, 'm', 1.2e-25),\n",
       " 'reduced Planck constant': (1.054571817e-34, 'J s', 0.0),\n",
       " 'reduced Planck constant in eV s': (6.582119569e-16, 'eV s', 0.0),\n",
       " 'reduced Planck constant times c in MeV fm': (197.3269804, 'MeV fm', 0.0),\n",
       " 'reduced proton Compton wavelength': (2.10308910336e-16, 'm', 6.4e-26),\n",
       " 'reduced tau Compton wavelength': (1.110538e-16, 'm', 7.5e-21),\n",
       " 'shielded helion gyromag. ratio in MHz/T': (32.43409942, 'MHz T^-1', 3.8e-07),\n",
       " 'shielded proton gyromag. ratio in MHz/T': (42.57638474, 'MHz T^-1', 4.6e-07),\n",
       " 'shielding difference of d and p in HD': (2.02e-08, '', 2e-11),\n",
       " 'shielding difference of t and p in HT': (2.414e-08, '', 2e-11),\n",
       " 'tau energy equivalent': (1776.86, 'MeV', 0.12),\n",
       " 'triton relative atomic mass': (3.01550071621, '', 1.2e-10),\n",
       " 'triton to proton mag. mom. ratio': (1.0666399191, '', 2.1e-09),\n",
       " 'vacuum electric permittivity': (8.8541878128e-12, 'F m^-1', 1.3e-21),\n",
       " 'vacuum mag. permeability': (1.25663706212e-06, 'N A^-2', 1.9e-16),\n",
       " 'W to Z mass ratio': (0.88153, '', 0.00017)}"
      ]
     },
     "execution_count": 6,
     "metadata": {},
     "output_type": "execute_result"
    }
   ],
   "source": [
    "pc.physical_constants  # behold the dictionary"
   ]
  },
  {
   "cell_type": "code",
   "execution_count": 8,
   "metadata": {},
   "outputs": [
    {
     "data": {
      "text/plain": [
       "(0.0028977685, 'm K', 5.1e-09)"
      ]
     },
     "execution_count": 8,
     "metadata": {},
     "output_type": "execute_result"
    }
   ],
   "source": [
    "pc.physical_constants['Wien displacement law constant']  # access a constant by its identifying string"
   ]
  },
  {
   "cell_type": "markdown",
   "metadata": {},
   "source": [
    "<div style=\"display: flex; justify-content: space-between;\">\n",
    "<div style=\"width: 48%; line-height: 1.3;\">\n",
    "\n",
    "Too much information? The most common constants, in SI units, can be imported directly:\n",
    "\n",
    "</div>\n",
    "<div style=\"width: 4%;\">\n",
    "</div>\n",
    "<div style=\"width: 48%; line-height: 1.3;color: grey;\">\n",
    "\n",
    "Zu viele Informationen? Die gängigsten Konstanten in SI-Einheiten können direkt importiert werden:\n",
    "\n",
    "</div>\n",
    "</div>"
   ]
  },
  {
   "cell_type": "code",
   "execution_count": 10,
   "metadata": {},
   "outputs": [
    {
     "name": "stdout",
     "output_type": "stream",
     "text": [
      "1.602176634e-19\n",
      "299792458.0\n",
      "6.02214076e+23\n",
      "1.380649e-23\n"
     ]
    }
   ],
   "source": [
    "from scipy.constants import e, c, N_A, Boltzmann\n",
    "\n",
    "print(e)\n",
    "print(c)\n",
    "print(N_A)\n",
    "print(Boltzmann)"
   ]
  },
  {
   "cell_type": "markdown",
   "metadata": {},
   "source": [
    "<div style=\"display: flex; justify-content: space-between;\">\n",
    "<div style=\"width: 48%; line-height: 1.3;\">\n",
    "\n",
    "*From now on, there's no need to manually assign variables to constants—you can simply import them directly!*\n",
    "\n",
    "</div>\n",
    "<div style=\"width: 4%;\">\n",
    "</div>\n",
    "<div style=\"width: 48%; line-height: 1.3;color: grey;\">\n",
    "\n",
    "*Von nun an müssen Sie den Konstanten keine Variablen mehr manuell zuweisen, sondern können sie einfach direkt importieren!*\n",
    "\n",
    "</div>\n",
    "</div>"
   ]
  },
  {
   "cell_type": "markdown",
   "metadata": {},
   "source": [
    "| Constant Name| Description (English)  | Description (German)  | Value | Units|\n",
    "|--------------------------|----------------------------------------|-------------------------------------------|------------------------------------|------------------|\n",
    "| `c`  | Speed of light in vacuum   | Lichtgeschwindigkeit im Vakuum| 299,792,458| m/s  |\n",
    "| `G`  | Gravitational constant | Gravitationskonstante | 6.67430 × 10⁻¹¹| m³/kg/s² |\n",
    "| `h`  | Planck's constant  | Plancksches Wirkungsquantum   | 6.62607015 × 10⁻³⁴ | J·s  |\n",
    "| `k` or `Boltzmann`   | Boltzmann constant | Boltzmann-Konstante   | 1.380649 × 10⁻²³   | J/K  |\n",
    "| `e`  | Elementary charge  | Elementarladung   | 1.602176634 × 10⁻¹⁹| C|\n",
    "| `epsilon_0`  | Permittivity of free space | Elektrische Feldkonstante (Vakuum)| 8.8541878128 × 10⁻¹²   | F/m  |\n",
    "| `mu_0`   | Permeability of free space | Magnetische Feldkonstante (Vakuum)| 1.25663706212 × 10⁻⁶   | N/A² |\n",
    "| `N_A` or `Avogadro`  | Avogadro constant  | Avogadro-Konstante| 6.02214076 × 10²³  | mol⁻¹|\n",
    "| `R`  | Gas constant   | Gaskonstante  | 8.314462618| J/mol/K  |\n",
    "| `g`  | Standard acceleration due to gravity   | Standardfallbeschleunigung| 9.80665| m/s² |\n",
    "| `m_e`| Electron mass  | Elektronenmasse   | 9.10938356 × 10⁻³¹ | kg   |\n",
    "| `m_p`| Proton mass| Protonenmasse | 1.67262192369 × 10⁻²⁷  | kg   |\n",
    "| `sigma` or `Stefan_Boltzmann` | Stefan-Boltzmann constant| Stefan-Boltzmann-Konstante| 5.670374419 × 10⁻⁸ | W/m²/K⁴  |\n",
    "| `alpha`  | Fine-structure constant| Feinstrukturkonstante | 7.2973525693 × 10⁻³| /|\n",
    "| `Rydberg`| Rydberg constant   | Rydberg-Konstante | 10,973,731.56816   | m⁻¹  |\n"
   ]
  },
  {
   "cell_type": "markdown",
   "metadata": {},
   "source": [
    "<div class=\"alert alert-block alert-info\">\n",
    "\n",
    "<div style=\"display: flex; justify-content: space-between;\">\n",
    "<div style=\"width: 48%; line-height: 1.3;\">\n",
    "\n",
    "# Summary \n",
    "</div>\n",
    "<div style=\"width: 48%; line-height: 1.3;color: grey;\">\n",
    "\n",
    "# Zusammenfassung\n",
    "</div>\n",
    "</div>"
   ]
  },
  {
   "cell_type": "markdown",
   "metadata": {},
   "source": [
    "| Operation | Beschreibung | Lists  | Arrays (NumPy)| Dictionaries   |\n",
    "|-------------------------------|----------------------------------|------------------------------------|--------------------------------------|--------------------------------|\n",
    "| **Creation**  | **Erstellung**   | `my_list = [1, 2, 3]`  | `import numpy as np``my_array = np.array([1, 2, 3])` | `my_dict = {'a': 1, 'b': 2}`  |\n",
    "| **Access Element**| **Elementzugriff**   | `my_list[0]`| `my_array[0]`| `my_dict['a']`  |\n",
    "| **Add Element**   | **Element hinzufügen**   | `my_list.append(4)`| `np.append(my_array, 4)`  | `my_dict['c'] = 3`  |\n",
    "| **Insert Element**| **Element einfügen** | `my_list.insert(1, 10)`| `np.insert(my_array, 1, 10)`  | N/A  |\n",
    "| **Remove Element**| **Element entfernen**| `my_list.remove(2)`| `np.delete(my_array, 1)`  | `del my_dict['a']`  |\n",
    "| **Update Element**| **Element aktualisieren**| `my_list[0] = 10`  | `my_array[0] = 10`| `my_dict['a'] = 10` |\n",
    "| **Length**| **Länge**| `len(my_list)` | `len(my_array)`   | `len(my_dict)`  |\n",
    "| **Slice** | **Slicing**  | `my_list[1:3]` | `my_array[1:3]`   | N/A  |\n",
    "| **Mathematical Operations**   | **Mathematische Operationen**| Not directly supported | `my_array * 2`| N/A  |\n",
    "| **Sort**  | **Sortieren**| `my_list.sort()`   | `np.sort(my_array)`  | N/A  |\n"
   ]
  },
  {
   "cell_type": "code",
   "execution_count": null,
   "metadata": {},
   "outputs": [],
   "source": []
  }
 ],
 "metadata": {
  "kernelspec": {
   "display_name": "base",
   "language": "python",
   "name": "python3"
  },
  "language_info": {
   "codemirror_mode": {
    "name": "ipython",
    "version": 3
   },
   "file_extension": ".py",
   "mimetype": "text/x-python",
   "name": "python",
   "nbconvert_exporter": "python",
   "pygments_lexer": "ipython3",
   "version": "3.10.14"
  }
 },
 "nbformat": 4,
 "nbformat_minor": 2
}
