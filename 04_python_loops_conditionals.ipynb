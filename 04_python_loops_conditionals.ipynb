{
 "cells": [
  {
   "cell_type": "code",
   "metadata": {
    "ExecuteTime": {
     "end_time": "2024-11-13T15:58:58.364299Z",
     "start_time": "2024-11-13T15:58:58.343950Z"
    }
   },
   "source": [
    "%%HTML\n",
    "<style>\n",
    "    body {\n",
    "        --vscode-font-family: \"CMU Sans Serif\"\n",
    "    }\n",
    "</style>"
   ],
   "outputs": [
    {
     "data": {
      "text/plain": [
       "<IPython.core.display.HTML object>"
      ],
      "text/html": [
       "<style>\n",
       "    body {\n",
       "        --vscode-font-family: \"CMU Sans Serif\"\n",
       "    }\n",
       "</style>\n"
      ]
     },
     "metadata": {},
     "output_type": "display_data"
    }
   ],
   "execution_count": 1
  },
  {
   "cell_type": "code",
   "metadata": {
    "ExecuteTime": {
     "end_time": "2024-11-13T15:58:59.352804Z",
     "start_time": "2024-11-13T15:58:58.497086Z"
    }
   },
   "source": [
    "plt.rcParams.update({\n",
    "    \"text.usetex\": True,\n",
    "    \"font.family\": \"sans-serif\",\n",
    "    \"font.sans-serif\": [\"Computer Modern Sans Serif\"]})\n",
    "plt.rcParams['text.latex.preamble'] = r'\\usepackage{sansmath} \\sansmath'"
   ],
   "outputs": [
    {
     "ename": "NameError",
     "evalue": "name 'plt' is not defined",
     "output_type": "error",
     "traceback": [
      "\u001B[0;31m---------------------------------------------------------------------------\u001B[0m",
      "\u001B[0;31mNameError\u001B[0m                                 Traceback (most recent call last)",
      "Cell \u001B[0;32mIn[2], line 1\u001B[0m\n\u001B[0;32m----> 1\u001B[0m \u001B[43mplt\u001B[49m\u001B[38;5;241m.\u001B[39mrcParams\u001B[38;5;241m.\u001B[39mupdate({\n\u001B[1;32m      2\u001B[0m     \u001B[38;5;124m\"\u001B[39m\u001B[38;5;124mtext.usetex\u001B[39m\u001B[38;5;124m\"\u001B[39m: \u001B[38;5;28;01mTrue\u001B[39;00m,\n\u001B[1;32m      3\u001B[0m     \u001B[38;5;124m\"\u001B[39m\u001B[38;5;124mfont.family\u001B[39m\u001B[38;5;124m\"\u001B[39m: \u001B[38;5;124m\"\u001B[39m\u001B[38;5;124msans-serif\u001B[39m\u001B[38;5;124m\"\u001B[39m,\n\u001B[1;32m      4\u001B[0m     \u001B[38;5;124m\"\u001B[39m\u001B[38;5;124mfont.sans-serif\u001B[39m\u001B[38;5;124m\"\u001B[39m: [\u001B[38;5;124m\"\u001B[39m\u001B[38;5;124mComputer Modern Sans Serif\u001B[39m\u001B[38;5;124m\"\u001B[39m]})\n\u001B[1;32m      5\u001B[0m plt\u001B[38;5;241m.\u001B[39mrcParams[\u001B[38;5;124m'\u001B[39m\u001B[38;5;124mtext.latex.preamble\u001B[39m\u001B[38;5;124m'\u001B[39m] \u001B[38;5;241m=\u001B[39m \u001B[38;5;124mr\u001B[39m\u001B[38;5;124m'\u001B[39m\u001B[38;5;124m\\\u001B[39m\u001B[38;5;124musepackage\u001B[39m\u001B[38;5;132;01m{sansmath}\u001B[39;00m\u001B[38;5;124m \u001B[39m\u001B[38;5;124m\\\u001B[39m\u001B[38;5;124msansmath\u001B[39m\u001B[38;5;124m'\u001B[39m\n",
      "\u001B[0;31mNameError\u001B[0m: name 'plt' is not defined"
     ]
    }
   ],
   "execution_count": 2
  },
  {
   "cell_type": "code",
   "execution_count": null,
   "metadata": {},
   "outputs": [],
   "source": [
    "from IPython.display import display, clear_output, HTML\n",
    "import time\n",
    "\n",
    "def countdown_timer(minutes):\n",
    "    total_seconds = minutes * 60\n",
    "    for seconds in range(total_seconds, 0, -1):\n",
    "        mins, secs = divmod(seconds, 60)\n",
    "        time_str = f\"{mins:02}'{secs:02}''\"\n",
    "        clear_output(wait=True)\n",
    "        # HTML with styling\n",
    "        display(HTML(f'<div style=\"font-size: 24px; color: blue; font-weight: bold;\">Time remaining: {time_str}</div>'))\n",
    "        time.sleep(1)\n",
    "    clear_output(wait=True)\n",
    "    # Final message with different styling\n",
    "    display(HTML('<div style=\"font-size: 24px; color: green; font-weight: bold;\">Time\\'s up!</div>'))"
   ]
  },
  {
   "cell_type": "markdown",
   "metadata": {},
   "source": [
    "<div style=\"text-align: center;\">\n",
    "    <img src=\"https://upload.wikimedia.org/wikipedia/commons/thumb/f/f8/Python_logo_and_wordmark.svg/972px-Python_logo_and_wordmark.svg.png?20210516005643\" alt=\"The Python logo\" style=\"width: 60%; max-width: 500px;\">\n",
    "</div>"
   ]
  },
  {
   "cell_type": "markdown",
   "metadata": {},
   "source": [
    "<div style=\"text-align: center;\">\n",
    "    <img src=\"https://imgs.xkcd.com/comics/automation.png\" style=\"width: 400px;\">\n",
    "</div>"
   ]
  },
  {
   "cell_type": "code",
   "metadata": {
    "ExecuteTime": {
     "end_time": "2024-11-13T15:59:48.931814Z",
     "start_time": "2024-11-13T15:59:47.386432Z"
    }
   },
   "source": [
    "\n",
    "# You are not supposed to understand this code, yet. It is here for your convenience/curiosity.\n",
    "\n",
    "import matplotlib.pyplot as plt\n",
    "import numpy as np\n",
    "from matplotlib.patches import Rectangle\n",
    "\n",
    "# Topics and x-axis values\n",
    "topics = [\"interface\", \"\", \"\", \"\", \"Python basics\", \"\", \"\", \"\", \"data manipulation\", \"\", \"visualization\", \"\", \"practice\", \"\"]\n",
    "x_values = np.arange(1, 15)\n",
    "\n",
    "# Create figure and axis objects with adjusted y-axis height\n",
    "fig, ax1 = plt.subplots(figsize=(10*1.4, 0.75*1.4))  # Slightly more vertical space\n",
    "ax1.set_xticks(x_values - 0.5)  # Align grid lines with x_values\n",
    "ax1.set_xticklabels(x_values, ha='center')\n",
    "ax1.yaxis.set_visible(False)\n",
    "\n",
    "# Secondary axis for labels without ticks\n",
    "ax2 = ax1.twiny()\n",
    "ax2.set(xlim=ax1.get_xlim(), xticks=x_values - 0.5)\n",
    "ax2.set_xticklabels(topics, ha='center')\n",
    "ax2.tick_params(axis='x', length=0)\n",
    "\n",
    "# Add rectangles for progress\n",
    "progress_info = [(0, \"orange\", 1), (1, \"dodgerblue\", 1), (2, \"dodgerblue\", 1), (3, \"dodgerblue\", 1),\n",
    "                 (4, \"dodgerblue\", 0.75)]\n",
    "for x, color, alpha in progress_info:\n",
    "    ax1.add_patch(Rectangle((x, 0), 1, 1, facecolor=color, alpha=alpha, edgecolor=\"gainsboro\", linewidth=0.5))\n",
    "\n",
    "# Add text annotations\n",
    "annotations = [\n",
    "    (0.5, \"Jupyter\\n\\nLaTeX\"),\n",
    "    (1.5, \"math\\n\\n(SymPy)\"),\n",
    "    (2.5, \"strings\\n\\nlists\"),\n",
    "    (3.5, \"other\\ndata\\nstructures\"),\n",
    "    (4.5, \"control\\n\\nstructures\"),\n",
    "    (5.5, \"functions\"),\n",
    "    (6.5, \"arrays\"),\n",
    "    (8, \"dataframes\")\n",
    "]\n",
    "for x, label, *color in annotations:\n",
    "    ax1.text(x, 0.5, label, ha='center', va='center', fontsize=9, color=color[0] if color else 'black')\n",
    "\n",
    "# Add text annotations\n",
    "annotations = [\n",
    "    (3, \"data types\"),\n",
    "    (5.5, \"automation\"),\n",
    "    (8.5, rf\"doing useful things $\\longrightarrow$\")\n",
    "]\n",
    "for x, label, *color in annotations:\n",
    "    ax1.text(x, -0.5, label, ha='right', va='center', fontsize=12, color=color[0] if color else 'black')\n",
    "\n",
    "plt.show()"
   ],
   "outputs": [
    {
     "data": {
      "text/plain": [
       "<Figure size 1400x105 with 2 Axes>"
      ],
      "image/png": "[encoded data removed]"
     },
     "metadata": {},
     "output_type": "display_data"
    }
   ],
   "execution_count": 3
  },
  {
   "cell_type": "markdown",
   "metadata": {},
   "source": [
    "| Data Type      |  Example         |    |\n",
    "|---------------|--------------------------|----|\n",
    "| `int`         | `5`                |&check;|\n",
    "| `float`       | `5.0`              |&check;|\n",
    "| `complex`     | `5 + 3j`           |&check;|\n",
    "| `bool`        | `True`             |&check;|\n",
    "| `module`      | `math`             |&check;|\n",
    "| `str`         | `\"hello\"`          |&check;|\n",
    "| `list`        | `[1, 2, 3]`        |&check;|\n",
    "| `tuple`       | `(1, 2, 3)`        |&check;|\n",
    "| `set`         | `{1, 2, 3}`        |&check;|\n",
    "| `dict`        | `{\"key\": \"value\"}` |&check;|\n",
    "| `range`       | `range(5)`         |&#9675;|\n",
    "| `function`    | `print()`        |    |\n",
    "| `numpy.ndarray` | `np.array([1, 2, 3])` |\n",
    "| `NoneType`    | `None`             |    |"
   ]
  },
  {
   "cell_type": "markdown",
   "metadata": {},
   "source": [
    "<div style=\"display: flex; justify-content: space-between;\">\n",
    "<div style=\"width: 48%; line-height: 1.5; margin-right: 20px;\">\n",
    "\n",
    "## Recap \n",
    "\n",
    "- Strings, lists, and tuples are sequences: *ordered* collections where elements are accessed by *index positions*.\n",
    "\n",
    "- Dictionaries are associative arrays: they consist of key-value pairs, where each value is accessed by its *unique key rather than by position*.\n",
    "\n",
    "</div>\n",
    "<div style=\"width: 4%;\">\n",
    "</div>\n",
    "<div style=\"width: 2%; line-height: 1.5;\"> </div>\n",
    "<div style=\"width: 48%; line-height: 1.5;color: grey;\">\n",
    "\n",
    "## Rückblick \n",
    "\n",
    "- Strings, Listen und Tupel sind Sequenzen: *geordnete* Sammlungen, bei denen der Zugriff auf die Elemente über *Indexpositionen* erfolgt.\n",
    "\n",
    "- Dictionaries sind assoziative Arrays: Sie bestehen aus Key-Value-Paaren, wobei der Zugriff auf jeden Wert über seinen *eindeutigen Schlüssel und nicht über die Position* erfolgt.\n",
    "\n",
    "</div>\n",
    "</div>"
   ]
  },
  {
   "cell_type": "markdown",
   "metadata": {},
   "source": [
    "<div style=\"display: flex; justify-content: space-between;\">\n",
    "<div style=\"width: 48%; line-height: 1.5; margin-right: 20px;\">\n",
    "\n",
    "- **Indexing and slicing** allow access to individual elements or subsets of an ordered sequence.\n",
    "\n",
    "    - **Python indices start from `0`**: The first item is always `my_list[0]`\n",
    "\n",
    "    - To slice up to position `n`, you need to specify `n+1` as the endpoint in your slice.\n",
    "\n",
    "        - `my_list[:5]` returns items `0`, `1`, `2`, `3`, and `4`.\n",
    "\n",
    "        - `my_list[5:]` returns all items starting from index 5 to the end of the list.\n",
    "    \n",
    "    - The slicing syntax is structured so that *if you need to continue slicing from where you left off, you can use the `stop` index from the previous slice as the `start` index for the next slice*. This makes it easy to chain slices without having to manually adjust indices.\n",
    "\n",
    "</div>\n",
    "<div style=\"width: 2%; line-height: 1.5;\"> </div>\n",
    "<div style=\"width: 48%; line-height: 1.5;color: grey;\">\n",
    "\n",
    "- **Indizierung und Slicing** ermöglichen den Zugriff auf einzelne Elemente oder Teilmengen einer geordneten Sequenz.\n",
    "\n",
    "    - **Python-Indizes beginnen bei `0`**: Der erste Eintrag ist immer `my_list[0]`.\n",
    "\n",
    "    - Um bis die Werte bis zur Position `n` auszuwählen, müssen Sie `n+1` als Endpunkt in Ihrem Abschnitt (Slice) angeben.\n",
    "\n",
    "        - `my_list[0:5]` gibt die Elemente `0`, `1`, `2`, `3` und `4` zurück.\n",
    "\n",
    "        - `my_list[5:]` gibt alle Elemente ab dem Index 5 bis zum Ende der Liste zurück.\n",
    "    \n",
    "    - Die Slicing-Syntax ist so aufgebaut, dass *wenn Sie das Slicing an der Stelle fortsetzen müssen, an der Sie aufgehört haben, können Sie den `stop`-Index des vorherigen Slice als `start`-Index für das nächste Slice verwenden*. Das macht es einfach, Slices zu verketten, ohne die Indizes manuell anpassen zu müssen.\n",
    "\n",
    "</div>\n",
    "</div>"
   ]
  },
  {
   "cell_type": "markdown",
   "metadata": {},
   "source": [
    "<div style=\"display: flex; justify-content: space-between;\">\n",
    "<div style=\"width: 48%; line-height: 1.5; margin-right: 20px;\">\n",
    "\n",
    "- You can **add elements to a list** dynamically using the `.append()` method. This method appends an element to the end of the list, allowing the list to grow as needed during program execution.\n",
    "\n",
    "</div>\n",
    "<div style=\"width: 2%; line-height: 1.5;\"> </div>\n",
    "<div style=\"width: 48%; line-height: 1.5;color: grey;\">\n",
    "\n",
    "- Sie können **einer Liste dynamisch Elemente hinzufügen**, indem Sie die Methode `.append()` verwenden. Diese Methode hängt ein Element an das Ende der Liste an, so dass die Liste während der Programmausführung nach Bedarf wachsen kann.\n",
    "\n",
    "</div>\n",
    "</div>"
   ]
  },
  {
   "cell_type": "code",
   "metadata": {
    "ExecuteTime": {
     "end_time": "2024-11-13T16:04:08.790558Z",
     "start_time": "2024-11-13T16:04:08.782106Z"
    }
   },
   "source": [
    "planets = ['Mercury', 'Venus', 'Earth', 'Mars', 'Jupiter', 'Saturn', 'Uranus', 'Neptune', 'Pluto']\n",
    "\n",
    "print(f'The 4 closest planets to the sun are {planets[:4]}\\n')\n",
    "\n",
    "print(f'The others are {planets[4:]}\\n')\n",
    "\n",
    "print('I want to add Planet 9 to our solar system:')\n",
    "planets.append('Planet 9')\n",
    "print(planets)"
   ],
   "outputs": [
    {
     "name": "stdout",
     "output_type": "stream",
     "text": [
      "The 4 closest planets to the sun are ['Mercury', 'Venus', 'Earth', 'Mars']\n",
      "\n",
      "The others are ['Jupiter', 'Saturn', 'Uranus', 'Neptune', 'Pluto']\n",
      "\n",
      "I want to add Planet 9 to our solar system:\n",
      "['Mercury', 'Venus', 'Earth', 'Mars', 'Jupiter', 'Saturn', 'Uranus', 'Neptune', 'Pluto', 'Planet 9']\n"
     ]
    }
   ],
   "execution_count": 4
  },
  {
   "cell_type": "code",
   "metadata": {
    "ExecuteTime": {
     "end_time": "2024-11-13T16:04:09.853118Z",
     "start_time": "2024-11-13T16:04:09.682568Z"
    }
   },
   "source": [
    "\n",
    "# You are not supposed to understand this code, yet. It is here for your convenience/curiosity.\n",
    "\n",
    "import matplotlib.pyplot as plt\n",
    "import matplotlib.patches as patches\n",
    "\n",
    "# Create a figure and axis\n",
    "fig, ax = plt.subplots()\n",
    "\n",
    "# Set the limits of the plot and equal aspect ratio\n",
    "ax.set_xlim(0, 9.1)\n",
    "ax.set_ylim(0, 3)\n",
    "ax.set_aspect('equal')\n",
    "ax.axis('off')  # Remove axes for a cleaner look\n",
    "\n",
    "planets = ['Mercury', 'Venus', 'Earth', 'Mars', 'Jupiter', 'Saturn', 'Uranus', 'Neptune', 'Pluto']\n",
    "color = 'gainsboro'  # Define color for the rectangles\n",
    "\n",
    "# Add rectangles and text labels\n",
    "for i in range(9):  # 9 columns \n",
    "    for j in range(3):  # 3 rows\n",
    "        if j == 1:  # Middle row\n",
    "            label = planets[i]\n",
    "            rect = patches.Rectangle((i, j), 1, 1, edgecolor='black', facecolor=color)\n",
    "            ax.text(i + 0.5, j + 0.5, label, color='blue', fontsize=10, rotation=30, ha='center', va='center')\n",
    "            ax.add_patch(rect)\n",
    "        elif j == 0:  # Bottom row\n",
    "            label = i - len(planets)\n",
    "            ax.text(i + 0.5, j + 0.5, label, color='black', fontsize=16, ha='center', va='center')\n",
    "        elif j == 2:  # Top row\n",
    "            label = i\n",
    "            ax.text(i + 0.5, j + 0.5, label, color='black', fontsize=16, c='red', ha='center', va='center')\n",
    "\n",
    "# Display the plot\n",
    "plt.show()"
   ],
   "outputs": [
    {
     "data": {
      "text/plain": [
       "<Figure size 640x480 with 1 Axes>"
      ],
      "image/png": "[encoded data removed]"
     },
     "metadata": {},
     "output_type": "display_data"
    }
   ],
   "execution_count": 5
  },
  {
   "cell_type": "markdown",
   "metadata": {},
   "source": [
    "<div class=\"alert alert-block alert-light\">\n",
    "\n",
    "<div style=\"display: flex; justify-content: space-between;\">\n",
    "<div style=\"width: 48%; line-height: 1.5;\">\n",
    "\n",
    "## Warm-up: Slicing\n",
    "\n",
    "Use list slicing to create separate lists for Marvel characters according to their team: Avengers, Guardians of the Galaxy, and X-Men. Each list should contain only the characters from the specified team.\n",
    "\n",
    "**Proof-check** your result by printing each new list (`avengers`, `guardians`, `xmen`). Ensure that each list contains only the correct characters for that team, without any characters from other teams.\n",
    "\n",
    "</div>\n",
    "<div style=\"width: 4%;\">\n",
    "</div>\n",
    "<div style=\"width: 48%; line-height: 1.3;color: grey;\">\n",
    "\n",
    "## Aufwärmen: Slicing\n",
    "\n",
    "Verwenden Sie Slicing, um separate Listen für die Marvel-Charaktere gemäß ihrem Team zu erstellen: Avengers, Guardians of the Galaxy und X-Men. Jede Liste sollte nur die Charaktere des jeweiligen Teams enthalten.\n",
    "\n",
    "**Überprüfen Sie Ihr Ergebnis**, indem Sie jede neue Liste (`avengers`, `guardians`, `xmen`) ausdrucken. Stellen Sie sicher, dass jede Liste nur die korrekten Charaktere für dieses Team enthält, ohne Charaktere aus anderen Teams.\n",
    "</div>\n",
    "</div>\n",
    "\n",
    "```python\n",
    "# MCU Characters\n",
    "characters = [\n",
    "    \"Iron Man\",              #  0 - Avengers\n",
    "    \"Captain America\",       #  1 - Avengers\n",
    "    \"Thor\",                  #  2 - Avengers\n",
    "    \"Hulk\",                  #  3 - Avengers\n",
    "    \"Black Widow\",           #  4 - Avengers\n",
    "    \"Hawkeye\",               #  5 - Avengers\n",
    "    \"Scarlet Witch\",         #  6 - Avengers\n",
    "    \"Vision\",                #  7 - Avengers\n",
    "    \"Falcon\",                #  8 - Avengers\n",
    "    \"War Machine\",           #  9 - Avengers\n",
    "    \"Ant-Man\",               # 10 - Avengers\n",
    "    \"Captain Marvel\",        # 11 - Avengers\n",
    "    \"Spider-Man\",            # 12 - Avengers\n",
    "    \"Star-Lord\",             # 13 - Guardians of the Galaxy\n",
    "    \"Gamora\",                # 14 - Guardians of the Galaxy\n",
    "    \"Drax\",                  # 15 - Guardians of the Galaxy\n",
    "    \"Rocket\",                # 16 - Guardians of the Galaxy\n",
    "    \"Groot\",                 # 17 - Guardians of the Galaxy\n",
    "    \"Mantis\",                # 18 - Guardians of the Galaxy\n",
    "    \"Nebula\",                # 19 - Guardians of the Galaxy\n",
    "    \"Professor X\",           # 20 - X-Men\n",
    "    \"Wolverine\",             # 21 - X-Men\n",
    "    \"Cyclops\",               # 22 - X-Men\n",
    "    \"Storm\",                 # 23 - X-Men\n",
    "    \"Jean Grey\",             # 24 - X-Men\n",
    "    \"Beast\",                 # 25 - X-Men\n",
    "    \"Rogue\",                 # 26 - X-Men\n",
    "    \"Gambit\",                # 27 - X-Men\n",
    "    \"Iceman\",                # 28 - X-Men\n",
    "    \"Nightcrawler\"           # 29 - X-Men\n",
    "]\n",
    "```"
   ]
  },
  {
   "cell_type": "code",
   "metadata": {
    "ExecuteTime": {
     "end_time": "2024-11-13T16:05:13.752936Z",
     "start_time": "2024-11-13T16:05:13.686620Z"
    }
   },
   "source": [
    "countdown_timer(10)"
   ],
   "outputs": [
    {
     "ename": "NameError",
     "evalue": "name 'countdown_timer' is not defined",
     "output_type": "error",
     "traceback": [
      "\u001B[0;31m---------------------------------------------------------------------------\u001B[0m",
      "\u001B[0;31mNameError\u001B[0m                                 Traceback (most recent call last)",
      "Cell \u001B[0;32mIn[6], line 1\u001B[0m\n\u001B[0;32m----> 1\u001B[0m \u001B[43mcountdown_timer\u001B[49m(\u001B[38;5;241m10\u001B[39m)\n",
      "\u001B[0;31mNameError\u001B[0m: name 'countdown_timer' is not defined"
     ]
    }
   ],
   "execution_count": 6
  },
  {
   "cell_type": "markdown",
   "metadata": {},
   "source": [
    "<div class=\"alert alert-block alert-light\">\n",
    "\n",
    "<div style=\"display: flex; justify-content: space-between;\">\n",
    "<div style=\"width: 48%; line-height: 1.5;\">\n",
    "\n",
    "## Warm-up (2): Manual List Construction\n",
    "\n",
    "Create a Python list that contains the first 10 numbers of the Fibonacci sequence. You need to build this list by hand, calculating each number step by step and `append`ing it to the list. \n",
    "\n",
    "**Do not use loops, functions, or any advanced features—just plain, manual list construction.**\n",
    "\n",
    "The Fibonacci sequence starts with $0$ and $1$, and each subsequent number is the sum of the two preceding ones.\n",
    "\n",
    "*Hint:*\n",
    "\n",
    "1. Start with a list containing the first two numbers: `0, 1`.\n",
    "2. The third number is `0 + 1 = 1`.\n",
    "3. The fourth number is `1 + 1 = 2`.\n",
    "4. The fifth number is `2 + 1 = 3`.\n",
    "5. Continue this process to complete the list up to the 10th number.\n",
    "\n",
    "</div>\n",
    "<div style=\"width: 4%;\">\n",
    "</div>\n",
    "<div style=\"width: 48%; line-height: 1.5;color: grey;\">\n",
    "\n",
    "## Aufwärmen (2): Manuelle Listenkonstruktion\n",
    "\n",
    "Erstellen Sie eine Python-Liste, die die ersten 10 Zahlen der Fibonacci-Folge enthält. Sie müssen diese Liste von Hand erstellen, indem Sie jede Zahl Schritt für Schritt berechnen und an die Liste anhängen (`append`).\n",
    "\n",
    "**Verwenden Sie keine Schleifen, Funktionen oder andere fortgeschrittene Funktionen, sondern nur eine einfache, manuelle Listenkonstruktion.**\n",
    "\n",
    "Die Fibonacci-Folge beginnt mit $0$ und $1$, und jede nachfolgende Zahl ist die Summe der beiden vorangegangenen Zahlen.\n",
    "\n",
    "*Hinweis:*\n",
    "\n",
    "1. Beginnen Sie mit einer Liste, die die ersten beiden Zahlen enthält: `0, 1`.\n",
    "2. Die dritte Zahl ist `0 + 1 = 1`.\n",
    "3. Die vierte Zahl ist `1 + 1 = 2`.\n",
    "4. Die fünfte Zahl ist `2 + 1 = 3`.\n",
    "5. Fahren Sie so fort, um die Liste bis zur 10. Zahl zu vervollständigen.\n",
    "    \n",
    "</div>\n",
    "</div>\n",
    "\n",
    "$$\n",
    "0 \\xrightarrow{} 1 \\xrightarrow{+0} 1 \\xrightarrow{+1} 2 \\xrightarrow{+1} 3 \\xrightarrow{+2} 5 \\xrightarrow{+3} 8 \\xrightarrow{+5} 13 \\xrightarrow{+8} 21 \\xrightarrow{+13} 34\n",
    "$$"
   ]
  },
  {
   "cell_type": "code",
   "metadata": {
    "ExecuteTime": {
     "end_time": "2024-11-13T16:05:52.008616Z",
     "start_time": "2024-11-13T16:05:51.780950Z"
    }
   },
   "source": [
    "\n",
    "# You are not supposed to understand this code, yet. It is here for your convenience/curiosity.\n",
    "import matplotlib.pyplot as plt\n",
    "import matplotlib.patches as patches\n",
    "\n",
    "# Create a figure and axis\n",
    "fig, ax = plt.subplots()\n",
    "\n",
    "# Set the limits of the plot and equal aspect ratio\n",
    "ax.set_xlim(0, 10.1)\n",
    "ax.set_ylim(0, 3)\n",
    "ax.set_aspect('equal')\n",
    "ax.axis('off')  # Remove axes for a cleaner look\n",
    "ax.set_title('The Fibonacci list')\n",
    "\n",
    "fibonacci = [0, 1, 1, 2, 3, 5, 8, 13, 21, 34]\n",
    "color = 'gainsboro'  # Define color for the rectangles\n",
    "\n",
    "# Add rectangles and text labels\n",
    "for i in range(10):  # 10 columns \n",
    "    for j in range(3):  # 3 rows\n",
    "        if j == 1:  # Middle row\n",
    "            label = fibonacci[i]\n",
    "            rect = patches.Rectangle((i, j), 1, 1, edgecolor='black', facecolor=color)\n",
    "            ax.text(i + 0.5, j + 0.5, label, color='blue', fontsize=16, ha='center', va='center')\n",
    "            ax.add_patch(rect)\n",
    "        elif j == 0:  # Bottom row\n",
    "            label = i - len(fibonacci)\n",
    "            ax.text(i + 0.5, j + 0.5, label, color='black', fontsize=16, ha='center', va='center')\n",
    "        elif j == 2:  # Top row\n",
    "            label = i\n",
    "            ax.text(i + 0.5, j + 0.5, label, color='black', fontsize=16, ha='center', va='center')\n",
    "\n",
    "# Display the plot\n",
    "plt.show()"
   ],
   "outputs": [
    {
     "data": {
      "text/plain": [
       "<Figure size 640x480 with 1 Axes>"
      ],
      "image/png": "[encoded data removed]"
     },
     "metadata": {},
     "output_type": "display_data"
    }
   ],
   "execution_count": 7
  },
  {
   "cell_type": "code",
   "metadata": {
    "ExecuteTime": {
     "end_time": "2024-11-13T16:06:40.224271Z",
     "start_time": "2024-11-13T16:06:40.213795Z"
    }
   },
   "source": [
    "fibonacci = []\n",
    "fibonacci.append(0)\n",
    "fibonacci.append(1)\n",
    "fibonacci.append(1+0)\n",
    "fibonacci.append(2+1)\n",
    "fibonacci.append(3+2)\n",
    "fibonacci.append(5+3)\n",
    "fibonacci.append(8+5)\n",
    "fibonacci.append(13+8)\n",
    "fibonacci.append(21+13)\n",
    "\n",
    "fibonacci"
   ],
   "outputs": [
    {
     "data": {
      "text/plain": [
       "[0, 1, 1, 3, 5, 8, 13, 21, 34]"
      ]
     },
     "execution_count": 9,
     "metadata": {},
     "output_type": "execute_result"
    }
   ],
   "execution_count": 9
  },
  {
   "cell_type": "markdown",
   "metadata": {},
   "source": [
    "<div class=\"alert alert-block alert-warning\">\n",
    "\n",
    "<div style=\"display: flex; justify-content: space-between;\">\n",
    "<div style=\"width: 48%; line-height: 1.5;\">\n",
    "\n",
    "# Loops \n",
    "</div>\n",
    "<div style=\"width: 48%; line-height: 1.5;color: grey;\">\n",
    "\n",
    "# Schleifen\n",
    "</div>\n",
    "</div>"
   ]
  },
  {
   "cell_type": "markdown",
   "metadata": {},
   "source": [
    "<div style=\"display: flex; justify-content: space-between;\">\n",
    "<div style=\"width: 48%; line-height: 1.5;\">\n",
    "\n",
    "Repetitive tasks in a program can be *automated* by *loops*.\n",
    "\n",
    "Loops allow us to repeat a block of code multiple times. There are two main types of loops in Python: `for` loops and `while` loops.\n",
    "\n",
    "The main difference between them lies in whether the total number of iterations is specified explicitly in advance (a *definite* iteration) or if the code block will run continuously until a certain condition is met (an *indefinite* iteration).\n",
    "\n",
    "</div>\n",
    "<div style=\"width: 48%; line-height: 1.5;color: grey;\">\n",
    "\n",
    "Sich wiederholende Aufgaben in einem Programm können durch *Schleifen* *automatisiert* werden.\n",
    "\n",
    "Schleifen ermöglichen es uns, einen Codeblock mehrmals zu wiederholen. Es gibt zwei Haupttypen von Schleifen in Python: `for`-Schleifen und `while`-Schleifen.\n",
    "\n",
    "Der Hauptunterschied zwischen ihnen liegt darin, ob die Gesamtzahl der Iterationen im Voraus explizit festgelegt wird (eine *definite* Iteration) oder ob der Codeblock kontinuierlich läuft, bis eine bestimmte Bedingung erfüllt ist (eine *indefinite* Iteration).\n",
    "\n",
    "</div>\n",
    "</div>"
   ]
  },
  {
   "cell_type": "markdown",
   "metadata": {},
   "source": [
    "## `for`"
   ]
  },
  {
   "cell_type": "code",
   "metadata": {
    "ExecuteTime": {
     "end_time": "2024-11-13T16:07:06.185744Z",
     "start_time": "2024-11-13T16:07:06.178280Z"
    }
   },
   "source": [
    "fruits = ['apple', 'banana', 'cherry', 'orange', 'strawberry', 'coconut']"
   ],
   "outputs": [],
   "execution_count": 10
  },
  {
   "cell_type": "markdown",
   "metadata": {},
   "source": [
    "<div style=\"display: flex; justify-content: space-between;\">\n",
    "<div style=\"width: 48%; line-height: 1.5;\">\n",
    "\n",
    "When data are collected in a list, we often want to perform the same operations on each element in the list. We then need to walk through all list elements.\n",
    "\n",
    "A `for` loop is used to iterate over a sequence (like a list) and execute a block of code for each item in the sequence.\n",
    "\n",
    "In a loop, the object we are looping over, which provides the items one at a time, is called the **iterable**. \n",
    "\n",
    "</div>\n",
    "<div style=\"width: 2%; line-height: 1.5;\"> </div>\n",
    "<div style=\"width: 48%; line-height: 1.5;color: grey;\">\n",
    "\n",
    "Wenn Daten in einer Liste gesammelt werden, wollen wir oft die gleichen Operationen an jedem Element der Liste durchführen. Dann müssen wir durch alle Listenelemente gehen.\n",
    "\n",
    "Eine `for`-Schleife wird verwendet, um über eine Sequenz (wie eine Liste) zu iterieren und einen Codeblock für jedes Element in der Sequenz auszuführen.\n",
    "\n",
    "In einer Schleife wird das Objekt, über das wir eine Schleife ziehen und das die Elemente nacheinander bereitstellt, **Iterable** genannt.\n",
    "\n",
    "</div>\n",
    "</div>"
   ]
  },
  {
   "cell_type": "markdown",
   "metadata": {},
   "source": [
    "```python\n",
    "for variable in iterable:\n",
    "    <code block>\n",
    "```"
   ]
  },
  {
   "cell_type": "markdown",
   "metadata": {},
   "source": [
    "<div style=\"display: flex; justify-content: space-between;\">\n",
    "<div style=\"width: 48%; line-height: 1.5;\">\n",
    "\n",
    "The `for` loop needs:\n",
    "\n",
    "- A variable name to use (in this example, `fruit`, or `thing`, or `Sache`), which can be chosen **arbitrarily**; \n",
    "\n",
    "- The set of values to iterate over, which **should be the name of the iterable** (in this example, `fruits`).\n",
    "\n",
    "The `for` loop specification ends with a colon (`:`), and after the colon comes a block of statements that does something useful. \n",
    "\n",
    "Each statement in the block must be indented. Typically, a single tab or 4 spaces are used by default, but the only requirement is that the indentation remains consistent throughout the block.\n",
    "\n",
    "</div>\n",
    "<div style=\"width: 2%; line-height: 1.5;\"> </div>\n",
    "<div style=\"width: 48%; line-height: 1.5;color: grey;\">\n",
    "\n",
    "Die `for`-Schleife braucht:\n",
    "\n",
    "- Einen Variablennamen (in diesem Beispiel `fruit`, `thing` oder `Sache`), der **beliebig** gewählt werden kann; \n",
    "\n",
    "- Die Menge der Werte, über die iteriert werden soll, was **der Name der Iterablen** sein sollte (in diesem Beispiel `fruits`).\n",
    "\n",
    "Die Spezifikation der `for`-Schleife endet mit einem Doppelpunkt (`:`), und nach dem Doppelpunkt folgt ein Block von Anweisungen, die etwas Sinnvolles tun. \n",
    "\n",
    "Jede Anweisung des Blocks muss eingerückt werden. Normalerweise werden standardmäßig ein einzelner Tabulator oder 4 Leerzeichen verwendet, aber die einzige Anforderung ist, dass die Einrückung im gesamten Block konsistent bleibt.\n",
    "\n",
    "</div>\n",
    "</div>"
   ]
  },
  {
   "cell_type": "code",
   "metadata": {
    "ExecuteTime": {
     "end_time": "2024-11-13T16:11:01.665278Z",
     "start_time": "2024-11-13T16:11:01.658450Z"
    }
   },
   "source": [
    "# iterating over a list using a for loop\n",
    "fruits = ['apple', 'banana', 'cherry', 'orange', 'strawberry', 'coconut']\n",
    "\n",
    "for fruit in fruits:        # iteration\n",
    "    print(fruit)            # code to execute"
   ],
   "outputs": [
    {
     "name": "stdout",
     "output_type": "stream",
     "text": [
      "apple\n",
      "banana\n",
      "cherry\n",
      "orange\n",
      "strawberry\n",
      "coconut\n"
     ]
    }
   ],
   "execution_count": 11
  },
  {
   "cell_type": "code",
   "metadata": {
    "ExecuteTime": {
     "end_time": "2024-11-13T16:11:02.860579Z",
     "start_time": "2024-11-13T16:11:02.853151Z"
    }
   },
   "source": [
    "# iterating over a list using a for loop\n",
    "fruits = ['apple', 'banana', 'cherry', 'orange', 'strawberry', 'coconut']\n",
    "\n",
    "for thing in fruits:        # iteration\n",
    "    print(thing)            # code to execute"
   ],
   "outputs": [
    {
     "name": "stdout",
     "output_type": "stream",
     "text": [
      "apple\n",
      "banana\n",
      "cherry\n",
      "orange\n",
      "strawberry\n",
      "coconut\n"
     ]
    }
   ],
   "execution_count": 12
  },
  {
   "cell_type": "code",
   "metadata": {
    "ExecuteTime": {
     "end_time": "2024-11-13T16:11:04.325086Z",
     "start_time": "2024-11-13T16:11:04.318778Z"
    }
   },
   "source": [
    "# iterating over a list using a for loop\n",
    "fruits = ['apple', 'banana', 'cherry', 'orange', 'strawberry', 'coconut']\n",
    "\n",
    "for Sache in fruits:        # iteration\n",
    "    print(Sache)            # code to execute"
   ],
   "outputs": [
    {
     "name": "stdout",
     "output_type": "stream",
     "text": [
      "apple\n",
      "banana\n",
      "cherry\n",
      "orange\n",
      "strawberry\n",
      "coconut\n"
     ]
    }
   ],
   "execution_count": 13
  },
  {
   "cell_type": "markdown",
   "metadata": {},
   "source": [
    "<div style=\"display: flex; justify-content: space-between;\">\n",
    "<div style=\"width: 48%; line-height: 1.5;\">\n",
    "\n",
    "When working with dictionaries, which consist of key-value pairs, the syntax of the `for` loop changes slightly. \n",
    "\n",
    "Instead of iterating over individual elements, you iterate over key-value pairs using `dict_name.items()`:\n",
    "\n",
    "</div>\n",
    "<div style=\"width: 2%; line-height: 1.5;\"> </div>\n",
    "<div style=\"width: 48%; line-height: 1.5;color: grey;\">\n",
    "\n",
    "Bei der Arbeit mit Dictionaries, die aus Schlüssel-Wert-Paaren bestehen, ändert sich die Syntax der `for`-Schleife leicht.\n",
    "\n",
    "Anstatt über einzelne Elemente zu iterieren, iterieren Sie über Schlüssel-Wert-Paare mit `dict_name.items()`:\n",
    "\n",
    "</div>\n",
    "</div>"
   ]
  },
  {
   "cell_type": "markdown",
   "metadata": {},
   "source": [
    "```python\n",
    "for key, value in dict_name.items():\n",
    "    <code block>\n",
    "```"
   ]
  },
  {
   "cell_type": "code",
   "metadata": {
    "ExecuteTime": {
     "end_time": "2024-11-13T16:11:38.699776Z",
     "start_time": "2024-11-13T16:11:38.691531Z"
    }
   },
   "source": [
    "# iterating over a dictionary using a for loop\n",
    "nato_alphabet = {\n",
    "'A': 'Alpha',\n",
    "'B': 'Bravo',\n",
    "'C': 'Charlie',\n",
    "'D': 'Delta',\n",
    "'E': 'Echo',\n",
    "'F': 'Foxtrot',\n",
    "'G': 'Golf',\n",
    "'H': 'Hotel',\n",
    "'I': 'India',\n",
    "'J': 'Juliett',\n",
    "'K': 'Kilo',\n",
    "'L': 'Lima',\n",
    "'M': 'Mike',\n",
    "'N': 'November',\n",
    "'O': 'Oscar',\n",
    "'P': 'Papa',\n",
    "'Q': 'Quebec',\n",
    "'R': 'Romeo',\n",
    "'S': 'Sierra',\n",
    "'T': 'Tango',\n",
    "'U': 'Uniform',\n",
    "'V': 'Victor',\n",
    "'W': 'Whiskey',\n",
    "'X': 'X-ray',\n",
    "'Y': 'Yankee',\n",
    "'Z': 'Zulu'\n",
    "}\n",
    "\n",
    "for key, value in nato_alphabet.items():        # dict_name.items() returns the key:value pairs\n",
    "    print(key, value)                 # or, with some formatting, print(f\"{key}: {value}\")"
   ],
   "outputs": [
    {
     "name": "stdout",
     "output_type": "stream",
     "text": [
      "A Alpha\n",
      "B Bravo\n",
      "C Charlie\n",
      "D Delta\n",
      "E Echo\n",
      "F Foxtrot\n",
      "G Golf\n",
      "H Hotel\n",
      "I India\n",
      "J Juliett\n",
      "K Kilo\n",
      "L Lima\n",
      "M Mike\n",
      "N November\n",
      "O Oscar\n",
      "P Papa\n",
      "Q Quebec\n",
      "R Romeo\n",
      "S Sierra\n",
      "T Tango\n",
      "U Uniform\n",
      "V Victor\n",
      "W Whiskey\n",
      "X X-ray\n",
      "Y Yankee\n",
      "Z Zulu\n"
     ]
    }
   ],
   "execution_count": 14
  },
  {
   "cell_type": "code",
   "execution_count": null,
   "metadata": {},
   "outputs": [],
   "source": [
    "import scipy.constants as pc \n",
    "\n",
    "for key, value in pc.physical_constants.items():\n",
    "    print(f\"{key} = {value[0]:.2e} ± {value[2]:.1e} {value[1]}\")  "
   ]
  },
  {
   "cell_type": "markdown",
   "metadata": {},
   "source": [
    "<div style=\"display: flex; justify-content: space-between;\">\n",
    "<div style=\"width: 48%; line-height: 1.5;\">\n",
    "\n",
    "### The `range()` function\n",
    "\n",
    "In the example above, we saw how a `for` loop iterates over a list of objects, running as many times as there are items in the list. \n",
    "\n",
    "When we want to iterate over a numeric range, we can use the built-in `range()` function to simplify this process. \n",
    "\n",
    "For example, to loop through the values from 0 to 4, we could create a list with these numbers and iterate over it as follows:\n",
    "\n",
    "</div>\n",
    "<div style=\"width: 2%; line-height: 1.5;\"> </div>\n",
    "<div style=\"width: 48%; line-height: 1.5;color: grey;\">\n",
    "\n",
    "### Die Funktion `range()`\n",
    "\n",
    "In den obigen Beispielen haben wir gesehen, wie eine `for`-Schleife über eine Liste von Objekten iteriert, wobei die Schleife so oft durchlaufen wird, wie es Elemente in der Liste gibt. \n",
    "\n",
    "Wenn wir über einen numerischen Bereich iterieren wollen, können wir Pythons eingebaute Funktion `range()` verwenden, um diesen Prozess zu vereinfachen. \n",
    "\n",
    "Um zum Beispiel die Werte von 0 bis 4 in einer Schleife zu durchlaufen, könnten wir eine Liste mit diesen Zahlen erstellen und wie folgt darüber iterieren:\n",
    "\n",
    "</div>\n",
    "</div>\n"
   ]
  },
  {
   "cell_type": "code",
   "execution_count": null,
   "metadata": {},
   "outputs": [],
   "source": [
    "# Create a list containing the integers 0-4 inclusive\n",
    "integer_list = [0, 1, 2, 3, 4]\n",
    "\n",
    "# Loop through the items in 'integer_list', printing each number\n",
    "for i in integer_list:\n",
    "    print(i)"
   ]
  },
  {
   "cell_type": "markdown",
   "metadata": {},
   "source": [
    "<div style=\"display: flex; justify-content: space-between;\">\n",
    "<div style=\"width: 48%; line-height: 1.5;\">\n",
    "\n",
    "While this approach works fine for a small number of values, it becomes cumbersome for larger ranges. \n",
    "Instead, we can use the `range()` function to generate the sequence automatically. \n",
    "\n",
    "The `range()` function provides a more efficient way to generate sequences of integers.\n",
    "\n",
    "The `range()` function generates a sequence of numbers, starting from a specified `start` (default `0`), up to but *not including* a specified `stop`, and increments by a specified `step` (default `1`).\n",
    "\n",
    "You might notice the similarity with Python’s slicing syntax.\n",
    "\n",
    "\n",
    "</div>\n",
    "<div style=\"width: 2%; line-height: 1.5;\"> </div>\n",
    "<div style=\"width: 48%; line-height: 1.3; color: grey;\">\n",
    "\n",
    "Während dieser Ansatz für eine kleine Anzahl von Werten gut funktioniert, wird er bei größeren Bereichen mühsam. \n",
    "Stattdessen können wir die Funktion `range()` verwenden, um die Folge automatisch zu erzeugen. \n",
    "\n",
    "Die Funktion \"Bereich()\" bietet eine effizientere Möglichkeit, Folgen von ganzen Zahlen zu erzeugen.\n",
    "\n",
    "Die Funktion `range()` erzeugt eine Folge von Zahlen, beginnend mit einem angegebenen `start` (Standardwert `0`), bis zu einem angegebenen `stop`, aber *ohne* diesen, und erhöht sich um einen angegebenen `step` (Standardwert `1`).\n",
    "\n",
    "Vielleicht bemerken Sie die Ähnlichkeit mit Pythons Slicing-Syntax.\n",
    "\n",
    "</div>\n",
    "</div>\n",
    "\n",
    "```python\n",
    "range(start, stop, step)\n",
    "```"
   ]
  },
  {
   "cell_type": "code",
   "execution_count": null,
   "metadata": {},
   "outputs": [],
   "source": [
    "range(5) == range(0,5,1)"
   ]
  },
  {
   "cell_type": "code",
   "execution_count": null,
   "metadata": {},
   "outputs": [],
   "source": [
    "# Loop through integers from 0 to 4\n",
    "for i in range(5):\n",
    "    print(i)"
   ]
  },
  {
   "cell_type": "code",
   "execution_count": null,
   "metadata": {},
   "outputs": [],
   "source": [
    "# you can always ask for help\n",
    "\n",
    "help(range)"
   ]
  },
  {
   "cell_type": "markdown",
   "metadata": {},
   "source": [
    "<div class=\"alert alert-block alert-light\">\n",
    "\n",
    "<div style=\"display: flex; justify-content: space-between;\">\n",
    "<div style=\"width: 48%; line-height: 1.5;\">\n",
    "\n",
    "#### Exercise\n",
    "\n",
    "Utilize a `for` loop in conjunction with the `range` function to print all odd numbers from 1 to 25, inclusive. \n",
    "\n",
    "Ensure that 25 is included in the output.\n",
    "\n",
    "<details>\n",
    "  <summary>Hint</summary>\n",
    "Simply print every second number in a sequence that starts at 1 and ends at 25.\n",
    "</details>\n",
    "\n",
    "</div>\n",
    "<div style=\"width: 2%; line-height: 1.5;\"> </div>\n",
    "<div style=\"width: 48%; line-height: 1.5;color: grey;\">\n",
    "\n",
    "#### Übung\n",
    "\n",
    "Benutzen Sie eine `for`-Schleife in Verbindung mit der `range`-Funktion, um alle ungeraden Zahlen von 1 bis einschließlich 25 auszugeben. \n",
    "\n",
    "Achten Sie darauf, dass 25 in der Ausgabe enthalten ist.\n",
    "\n",
    "<details>\n",
    "  <summary>Hinweis</summary>\n",
    "Drucken Sie einfach jede zweite Zahl in einer Folge, die bei 1 beginnt und bei 25 endet.\n",
    "\n",
    "</details>\n",
    "</div>\n",
    "</div>"
   ]
  },
  {
   "cell_type": "code",
   "execution_count": null,
   "metadata": {},
   "outputs": [],
   "source": [
    "#countdown\n",
    "countdown_timer(10)"
   ]
  },
  {
   "cell_type": "code",
   "execution_count": null,
   "metadata": {},
   "outputs": [],
   "source": [
    "for i in range(1,26,2):\n",
    "    print(i)"
   ]
  },
  {
   "cell_type": "markdown",
   "metadata": {},
   "source": [
    "<div style=\"display: flex; justify-content: space-between;\">\n",
    "<div style=\"width: 48%; line-height: 1.5;\">\n",
    "\n",
    "### Some applications of the `for` loop \n",
    "#### Running totals \n",
    "\n",
    "A common application of `for` loops is in calculating running totals. \n",
    "\n",
    "For example, consider the task of summing all odd numbers between $1$ and $100$: \n",
    "\n",
    "$$\n",
    "0 \\xrightarrow{+1} 1 \\xrightarrow{+3} 4 \\xrightarrow{+5} 9 \\xrightarrow{+7} 16 \\xrightarrow{+9} 25 \\xrightarrow{+11} \\ldots\n",
    "$$\n",
    "\n",
    "This method involves repeated additions, maintaining a cumulative total until the final number is added.\n",
    "\n",
    "\n",
    "</div>\n",
    "<div style=\"width: 2%; line-height: 1.5;\"> </div>\n",
    "<div style=\"width: 48%; line-height: 1.5;color: grey;\">\n",
    "\n",
    "### Einige Anwendungen der `for`-Schleife\n",
    "#### Summen laufen lassen\n",
    "\n",
    "Eine häufige Anwendung von `for`-Schleifen ist die Berechnung von laufenden Summen. \n",
    "\n",
    "Zum Beispiel möchten wir alle ungeraden Zahlen zwischen $1$ und $100$ summieren:\n",
    "\n",
    "$$\n",
    "0 \\xrightarrow{+1} 1 \\xrightarrow{+3} 4 \\xrightarrow{+5} 9 \\xrightarrow{+7} 16 \\xrightarrow{+9} 25 \\xrightarrow{+11} \\ldots\n",
    "$$\n",
    "\n",
    "Bei dieser Methode wird immer wieder addiert, so dass die Gesamtsumme bis zur letzten Zahl erhalten bleibt.\n",
    "\n",
    "</div>\n",
    "</div>\n"
   ]
  },
  {
   "cell_type": "markdown",
   "metadata": {},
   "source": [
    "<div style=\"display: flex; justify-content: space-between;\">\n",
    "<div style=\"width: 48%; line-height: 1.5;\">\n",
    "\n",
    "We can use a `for` loop to calculate a running total by adding numbers one at a time to a variable called an *accumulator*. For this example, we’ll call the accumulator `s`.\n",
    "\n",
    "1. *Initialize the Accumulator*: We start with `s = 0` because no numbers have been added yet.\n",
    "\n",
    "2. *Update the Accumulator*: In each step of the loop, we add the current number to `s` to update its value. For instance:\n",
    "   - First, add 1: `s = s + 1`, so `s = 1`.\n",
    "   - Then, add the next number (3): `s = s + 3`, so `s = 4`.\n",
    "\n",
    "3. *Repeat the Process*: This process continues until all numbers have been added, resulting in the final total stored in `s`.\n",
    "\n",
    "</div>\n",
    "<div style=\"width: 2%; line-height: 1.5;\"> </div>\n",
    "<div style=\"width: 48%; line-height: 1.5;color: grey;\">\n",
    "\n",
    "Wir können eine `for`-Schleife verwenden, um eine laufende Summe zu berechnen, indem wir eine Zahl nach der anderen zu einer Variablen namens *Akkumulator* hinzufügen. In diesem Beispiel nennen wir den Akkumulator `s`.\n",
    "\n",
    "1. *Initialisiere den Akkumulator*: Wir beginnen mit `s = 0`, weil noch keine Zahlen hinzugefügt wurden.\n",
    "\n",
    "2. *Aktualisierung des Akkumulators*: In jedem Schritt der Schleife addieren wir die aktuelle Zahl zu `s`, um seinen Wert zu aktualisieren. Zum Beispiel:\n",
    "   - Zuerst addieren wir 1: `s = s + 1`, also `s = 1`.\n",
    "   - Dann addieren wir die nächste Zahl (3): `s = s + 3`, also `s = 4`.\n",
    "\n",
    "3. *Wiederhole den Vorgang*: Dieser Vorgang wird so lange fortgesetzt, bis alle Zahlen addiert sind und die Endsumme in `s` gespeichert ist.\n",
    "\n",
    "</div>\n",
    "</div>\n"
   ]
  },
  {
   "cell_type": "code",
   "execution_count": null,
   "metadata": {},
   "outputs": [],
   "source": [
    "# Set the inital value of our accumulator, s, to 0: needs to be done before initializing the loop\n",
    "s = 0\n",
    "\n",
    "# Use 'range(1,101,2)' to generate an iterable containing all the odd numbers between 1 and 100.\n",
    "# The for loop then adds each of these numbers in turn to our accumulator\n",
    "\n",
    "for i in range(1,101,2):\n",
    "    s += i                      # 's += i' is shorthand notation for 's = s+i'\n",
    "\n",
    "# print the value of the accumulator to screen after the for loop has finished adding all the values\n",
    "print(s)"
   ]
  },
  {
   "cell_type": "markdown",
   "metadata": {},
   "source": [
    "<div class=\"alert alert-block alert-light\">\n",
    "\n",
    "<div style=\"display: flex; justify-content: space-between;\">\n",
    "<div style=\"width: 48%; line-height: 1.5;\">\n",
    "\n",
    "#### Exercise\n",
    "\n",
    "`for` loops are useful for approximating the sums of converging series by computing partial sums up to a certain number of terms. The larger the number of terms, the closer the approximation will be to the actual sum of the series.\n",
    "\n",
    "Evaluate the following sum:\n",
    "\n",
    "</div>\n",
    "<div style=\"width: 2%; line-height: 1.5;\"> </div>\n",
    "<div style=\"width: 48%; line-height: 1.5;color: grey;\">\n",
    "\n",
    "#### Übung\n",
    "\n",
    "`for`-Schleifen sind nützlich, um die Summen konvergierender Reihen durch Berechnung von Teilsummen bis zu einer bestimmten Anzahl von Termen zu approximieren. Je größer die Anzahl der Terme ist, desto näher kommt die Annäherung an die tatsächliche Summe der Reihe.\n",
    "\n",
    "Berechnen Sie die folgende Summe:\n",
    "\n",
    "</div>\n",
    "</div>\n",
    "\n",
    "$$\n",
    "\\sum_{i=1}^{25}\\frac{1}{2^{i}} = \\frac{1}{2^{1}}+\\frac{1}{2^{2}}+\\frac{1}{2^{3}}+\\ldots+\\frac{1}{2^{25}} = ?\n",
    "$$"
   ]
  },
  {
   "cell_type": "code",
   "execution_count": null,
   "metadata": {},
   "outputs": [],
   "source": [
    "countdown_timer(10)"
   ]
  },
  {
   "cell_type": "markdown",
   "metadata": {},
   "source": [
    "<div style=\"display: flex; justify-content: space-between;\">\n",
    "<div style=\"width: 48%; line-height: 1.5;\">\n",
    "\n",
    "#### Creating lists \n",
    "\n",
    "Another common use of `for` loops is to build lists, similar to the method for tracking a running sum with an accumulator. \n",
    "\n",
    "The key difference is that instead of updating a variable to store only the final value, we store all the values in a list.\n",
    "\n",
    "Let's use a loop to create a list of the squares of the numbers between 1 and 15. \n",
    "\n",
    "First, we create an empty list to hold our values (analogous to initializing an accumulator). \n",
    "\n",
    "After each iteration of the loop, we add the calculated value to the list using the `.append()` method, which we have seen in the previous lecture:\n",
    "\n",
    "</div>\n",
    "<div style=\"width: 2%; line-height: 1.5;\"> </div>\n",
    "<div style=\"width: 48%; line-height: 1.5;color: grey;\">\n",
    "\n",
    "#### Listen erstellen\n",
    "\n",
    "Eine weitere häufige Verwendung von `for`-Schleifen ist die Erstellung von Listen, ähnlich wie bei der Methode zur Verfolgung einer laufenden Summe mit einem Akkumulator. \n",
    "\n",
    "Der Hauptunterschied besteht darin, dass wir, anstatt eine Variable zu aktualisieren, die nur den Endwert speichert, alle Werte in einer Liste speichern.\n",
    "\n",
    "Verwenden wir eine Schleife, um eine Liste mit den Quadraten der Zahlen zwischen 1 und 15 zu erstellen.\n",
    "\n",
    "Zunächst erstellen wir eine leere Liste, die unsere Werte enthält (analog zur Initialisierung eines Akkumulators). \n",
    "\n",
    "Nach jeder Iteration der Schleife fügen wir den berechneten Wert zur Liste hinzu, indem wir die Methode `.append()` verwenden, den wir in der vorherigen Vorlesung gesehen haben:\n",
    "\n",
    "</div>\n",
    "</div>\n"
   ]
  },
  {
   "cell_type": "code",
   "execution_count": null,
   "metadata": {},
   "outputs": [],
   "source": [
    "# Create an empty list called 'squares' to store our values\n",
    "squares = []\n",
    "\n",
    "# We want to store the squares of the numbers 1-15 inclusive, so use the 'range(1,16)' command.\n",
    "# To add values to the end of a list we use the 'list_name.append(x)' command\n",
    "\n",
    "for i in range(1,16):\n",
    "    squares.append(i**2)\n",
    "\n",
    "print(squares)"
   ]
  },
  {
   "cell_type": "markdown",
   "metadata": {},
   "source": [
    "<div style=\"display: flex; justify-content: space-between;\">\n",
    "<div style=\"width: 48%; line-height: 1.5;\">\n",
    "\n",
    "#### List comprehensions\n",
    "\n",
    "We have seen that the syntax to create a list with a `for` loop is the following:\n",
    "\n",
    "</div>\n",
    "<div style=\"width: 2%; line-height: 1.5;\"> </div>\n",
    "<div style=\"width: 48%; line-height: 1.5;color: grey;\">\n",
    "\n",
    "#### Listen-Abstraktion\n",
    "\n",
    "Wir haben gesehen, dass die Syntax zur Erstellung einer Liste mit einer `for`-Schleife die folgende ist:\n",
    "\n",
    "</div>\n",
    "</div>\n",
    "\n",
    "```python\n",
    "s = []\n",
    "\n",
    "for i in range(n):\n",
    "    s.append(expression)\n",
    "```"
   ]
  },
  {
   "cell_type": "markdown",
   "metadata": {},
   "source": [
    "<div style=\"display: flex; justify-content: space-between;\">\n",
    "<div style=\"width: 48%; line-height: 1.5;\">\n",
    "\n",
    "*List comprehensions* provide a concise way to create lists with one line of code:\n",
    "\n",
    "</div>\n",
    "<div style=\"width: 2%; line-height: 1.5;\"> </div>\n",
    "<div style=\"width: 48%; line-height: 1.5;color: grey;\">\n",
    "\n",
    "*Listen-Abstraktionen* bieten eine übersichtliche Möglichkeit, Listen mit einer Zeile Code zu erstellen:\n",
    "\n",
    "</div>\n",
    "</div>\n",
    "\n",
    "```python\n",
    "s = [expression for i in range(n)]\n",
    "```"
   ]
  },
  {
   "cell_type": "code",
   "execution_count": null,
   "metadata": {},
   "outputs": [],
   "source": [
    "# for loop from earlier\n",
    "\n",
    "squares=[]\n",
    "\n",
    "for i in range(1,16):\n",
    "    squares.append(i**2)\n",
    "\n",
    "squares"
   ]
  },
  {
   "cell_type": "code",
   "execution_count": null,
   "metadata": {},
   "outputs": [],
   "source": [
    "# list comprehension\n",
    "\n",
    "squares = [i**2 for i in range(1,16)]\n",
    "\n",
    "squares"
   ]
  },
  {
   "cell_type": "markdown",
   "metadata": {},
   "source": [
    "<div style=\"display: flex; justify-content: space-between;\">\n",
    "<div style=\"width: 48%; line-height: 1.5;\">\n",
    "<p style=\"line-height: 1.5;\">\n",
    "We can also add a conditional: let us only store even numbers.\n",
    "\n",
    "</div>\n",
    "<div style=\"width: 2%; line-height: 1.5;\"> </div>\n",
    "<div style=\"width: 48%; line-height: 1.5;color: grey;\">\n",
    "<p style=\"line-height: 1.5;\">\n",
    "Wir können auch eine Bedingung hinzufügen: Lassen Sie uns nur gerade Zahlen speichern.\n",
    "\n",
    "</div>\n",
    "</div>\n"
   ]
  },
  {
   "cell_type": "code",
   "execution_count": null,
   "metadata": {},
   "outputs": [],
   "source": [
    "even_squares = [i**2 for i in range(1,16) if (i**2 % 2) == 0]   # for en even number, the remainder of the division by 2 is 0\n",
    "\n",
    "even_squares"
   ]
  },
  {
   "cell_type": "markdown",
   "metadata": {},
   "source": [
    "## `while`"
   ]
  },
  {
   "cell_type": "markdown",
   "metadata": {},
   "source": [
    "<div style=\"display: flex; justify-content: space-between;\">\n",
    "<div style=\"width: 48%; line-height: 1.5;\">\n",
    "\n",
    "A `while` loop is used when the number of iterations is not known beforehand; it continues to execute as long as a specified condition remains true.\n",
    "\n",
    "</div>\n",
    "<div style=\"width: 48%; line-height: 1.5;color: grey;\">\n",
    "\n",
    "Eine `while`-Schleife wird verwendet, wenn die Anzahl der Iterationen vorher nicht bekannt ist; sie wird so lange ausgeführt, wie eine bestimmte Bedingung erfüllt bleibt.\n",
    "\n",
    "</div>\n",
    "</div>\n",
    "\n",
    "```python\n",
    "while <condition>:\n",
    "    <code block>\n",
    "```"
   ]
  },
  {
   "cell_type": "markdown",
   "metadata": {},
   "source": [
    "<div style=\"display: flex; justify-content: space-between;\">\n",
    "<div style=\"width: 48%; line-height: 1.5;\">\n",
    "<p style=\"line-height: 1.5;\">\n",
    "\n",
    "The condition is a statement that evaluates to either `True` or `False`. \n",
    "\n",
    "The code block consists of the Python commands executed during each iteration of the loop. \n",
    "\n",
    "The condition typically includes:\n",
    "\n",
    "- A variable initialized before the loop begins, whose value is modified by the commands in the code block.\n",
    "\n",
    "- (Usually, but not always) a <a href=\"https://en.wikipedia.org/wiki/Relational_operator\">relational operator</a> that compares the value of this variable to another value and returns `True` or `False`. \n",
    "\n",
    "When a `while` loop is encountered in Python, the condition is evaluated first. \n",
    "\n",
    "If it evaluates to `True`, the commands in the code block are executed. \n",
    "\n",
    "After this, the condition is re-evaluated. The loop continues to run as long as the condition remains `True`. Once it becomes `False`, the loop exits. \n",
    "\n",
    "The six relational operators in Python are:\n",
    "</div>\n",
    "<div style=\"width: 2%; line-height: 1.5;\"> </div>\n",
    "<div style=\"width: 48%; line-height: 1.5;color: grey;\">\n",
    "<p style=\"line-height: 1.5;\"> \n",
    "\n",
    "Die Bedingung (condition) ist eine Aussage, die entweder `True` oder `False` ergibt. \n",
    "\n",
    "Der Codeblock besteht aus den Python-Befehlen, die bei jeder Iteration der Schleife ausgeführt werden. \n",
    "<br>\n",
    "Die Bedingung enthält typischerweise:\n",
    "\n",
    "- Eine Variable, die vor Beginn der Schleife initialisiert wird und deren Wert durch die Befehle im `body` geändert wird.\n",
    "\n",
    "- (Normalerweise, aber nicht immer) ein <a href=\"https://en.wikipedia.org/wiki/Relational_operator\">relationaler Operator</a>, der den Wert dieser Variablen mit einem anderen Wert vergleicht und `True` oder `False` zurückgibt.\n",
    "\n",
    "Wenn man in Python auf eine `while`-Schleife trifft, wird zuerst die Bedingung ausgewertet.\n",
    "<true>\n",
    "Wenn sie zu `True` ausgewertet wird, werden die Befehle im Codeblock ausgeführt. \n",
    "\n",
    "Danach wird die Bedingung erneut ausgewertet. Die Schleife läuft so lange weiter, wie die Bedingung `True` bleibt. Sobald sie `Falsch` wird, wird die Schleife beendet.\n",
    "\n",
    "Die sechs relationalen Operatoren in Python sind:\n",
    "</div>\n",
    "</div>"
   ]
  },
  {
   "cell_type": "markdown",
   "metadata": {},
   "source": [
    "| Operator | Description| Beschreibung   |\n",
    "|----------|------------------------------------|--------------------------------------------|\n",
    "| `<`  | Less than  | Kleiner als|\n",
    "| `<=` | Less than or equal to  | Kleiner oder gleich|\n",
    "| `>`  | Greater than   | Größer als |\n",
    "| `>=` | Greater than or equal to   | Größer oder gleich |\n",
    "| `==` | Equal to   | Gleich |\n",
    "| `!=` | Not equal to   | Ungleich   |\n"
   ]
  },
  {
   "cell_type": "markdown",
   "metadata": {},
   "source": [
    "<div style=\"display: flex; justify-content: space-between;\">\n",
    "<div style=\"width: 48%; line-height: 1.5;\">\n",
    "\n",
    "For example, `a < b` returns `True` if the value of `a` is less than `b`, and `False` otherwise (try typing `5 > 6` in a code cell to see what is returned).\n",
    "\n",
    "</div>\n",
    "<div style=\"width: 48%; line-height: 1.5;color: grey;\">\n",
    "\n",
    "Zum Beispiel gibt `a < b` `True` zurück, wenn der Wert von `a` kleiner als `b` ist, und andernfalls `False` (versuchen Sie, `5 > 6` in eine Codezelle einzugeben, um zu sehen, was zurückgegeben wird).\n",
    "\n",
    "</div>\n",
    "</div>"
   ]
  },
  {
   "cell_type": "markdown",
   "metadata": {},
   "source": [
    "<div style=\"display: flex; justify-content: space-between;\">\n",
    "<div style=\"width: 48%; line-height: 1.5;\">\n",
    "\n",
    "Let's print the first 10 natural numbers using a `while` loop.\n",
    "\n",
    "</div>\n",
    "<div style=\"width: 48%; line-height: 1.5;color: grey;\">\n",
    "\n",
    "Drucken wir die ersten 10 natürlichen Zahlen mit Hilfe einer `while`-Schleife.\n",
    "\n",
    "</div>\n",
    "</div>"
   ]
  },
  {
   "cell_type": "code",
   "execution_count": null,
   "metadata": {},
   "outputs": [],
   "source": [
    "n = 1                   # initialize\n",
    "\n",
    "while n <= 10:          # as long as n <= 10...\n",
    "    print(n)            # ...return the value of n...\n",
    "    n += 1              # ...and increase the counter"
   ]
  },
  {
   "cell_type": "code",
   "execution_count": null,
   "metadata": {},
   "outputs": [],
   "source": [
    "n = 1                   # initialize\n",
    "\n",
    "while n <= 10:          # as long as n <= 10...\n",
    "    n += 1              # ...increase the counter\n",
    "\n",
    "print(n)                # return the value of n that breaks the loop, i.e. the last value + 1"
   ]
  },
  {
   "cell_type": "markdown",
   "metadata": {},
   "source": [
    "<div class=\"alert alert-block alert-light\">\n",
    "\n",
    "<div style=\"display: flex; justify-content: space-between;\">\n",
    "<div style=\"width: 48%; line-height: 1.5;\">\n",
    "\n",
    "#### Exercise\n",
    "\n",
    "Find the smallest positive integer the square of which is larger than 1500.\n",
    "\n",
    "*Hint*: adapt the code we just ran to carry out the proper operation and print the value that breaks the loop.\n",
    "\n",
    "</div>\n",
    "<div style=\"width: 2%; line-height: 1.5;\"> </div>\n",
    "<div style=\"width: 48%; line-height: 1.5;color: grey;\">\n",
    "\n",
    "#### Übung\n",
    "\n",
    "Finden Sie die kleinste positive ganze Zahl, deren Quadrat größer als 1500 ist.\n",
    "\n",
    "*Hinweis*: Passen Sie den Code an, den wir gerade ausgeführt haben, um die richtige Operation auszuführen und den Wert zu drucken, der die Schleife unterbricht.\n",
    "\n",
    "</div>\n",
    "</div>"
   ]
  },
  {
   "cell_type": "code",
   "execution_count": null,
   "metadata": {},
   "outputs": [],
   "source": [
    "countdown_timer(10)"
   ]
  },
  {
   "cell_type": "markdown",
   "metadata": {},
   "source": [
    "| Feature | `for` loop  | `for`-Schleife  | `while` loop   | `while`-Schleife  |\n",
    "|---------------------------------|-----------------------------------------------------|----------------------------------------------------|-----------------------------------------------------|-----------------------------------------------------|\n",
    "| **Use Case**| Iterates over a sequence (e.g., list, range)| Durchläuft eine Sequenz (z.B. Liste, Bereich)   | Repeats as long as a condition is true   | Wiederholt sich, solange eine Bedingung wahr ist|\n",
    "| **Variable Initialization** | Automatic; variable is initialized by the loop  | Automatisch; die Variable wird von der Schleife initialisiert | Must be initialized before the loop | Muss vor der Schleife initialisiert werden   |\n",
    "| **Loop Control**| Controlled by the sequence being iterated over  | Wird durch die zu durchlaufende Sequenz gesteuert   | Controlled by a condition that must eventually become false | Wird durch eine Bedingung gesteuert, die schließlich falsch werden muss |\n",
    "| **Typical Usage**   | Known number of iterations or when iterating over a collection | Bekannte Anzahl von Iterationen oder beim Durchlaufen einer Sammlung | Unknown number of iterations or when condition-based looping is required | Unbekannte Anzahl von Iterationen oder wenn bedingungsbasierte Schleifen erforderlich sind |\n",
    "| **Automatic Update**| Loop variable is automatically updated  | Die Schleifenvariable wird automatisch aktualisiert | Manual update required within the loop  | Manuelle Aktualisierung innerhalb der Schleife erforderlich |\n",
    "| **Examples**| `for i in range(5):`| `for i in range(5):`   | `while i < 5:`  | `while i < 5:`  |\n"
   ]
  },
  {
   "cell_type": "markdown",
   "metadata": {},
   "source": [
    "<div class=\"alert alert-block alert-warning\">\n",
    "\n",
    "<div style=\"display: flex; justify-content: space-between;\">\n",
    "<div style=\"width: 48%; line-height: 1.5;\">\n",
    "\n",
    "# Conditional Statements \n",
    "</div>\n",
    "<div style=\"width: 48%; line-height: 1.5;color: grey;\">\n",
    "\n",
    "# Bedingte Anweisungen\n",
    "</div>\n",
    "</div>"
   ]
  },
  {
   "cell_type": "markdown",
   "metadata": {},
   "source": [
    "<div style=\"display: flex; justify-content: space-between;\">\n",
    "<div style=\"width: 48%; line-height: 1.5;\">\n",
    "\n",
    "Conditional statements in Python allow you to execute different blocks of code based on whether a condition is `True` or `False`.\n",
    "\n",
    "</div>\n",
    "<div style=\"width: 48%; line-height: 1.5;color: grey;\">\n",
    "\n",
    "Mit bedingten Anweisungen in Python können Sie verschiedene Codeblöcke ausführen, je nachdem, ob eine Bedingung `True` oder `False` ist.\n",
    "\n",
    "</div>\n",
    "</div>"
   ]
  },
  {
   "cell_type": "markdown",
   "metadata": {},
   "source": [
    "## `if`"
   ]
  },
  {
   "cell_type": "markdown",
   "metadata": {},
   "source": [
    "<div style=\"display: flex; justify-content: space-between;\">\n",
    "<div style=\"width: 48%; line-height: 1.5;\">\n",
    "\n",
    "The `if` statement is a fundamental control structure in Python. It is used to run a block of code conditionally, based on whether an expression evaluates to `True`. The syntax is as follows:\n",
    "\n",
    "</div>\n",
    "<div style=\"width: 48%; line-height: 1.5;color: grey;\">\n",
    "\n",
    "Die `if`-Anweisung ist eine grundlegende Kontrollstruktur in Python. Sie wird verwendet, um einen Codeblock bedingt auszuführen, je nachdem, ob ein Ausdruck als `Wahr` ausgewertet wird. Die Syntax lautet wie folgt:\n",
    "\n",
    "</div>\n",
    "</div>"
   ]
  },
  {
   "cell_type": "markdown",
   "metadata": {},
   "source": [
    "```python\n",
    "if <condition>:\n",
    "    <body>\n",
    "```"
   ]
  },
  {
   "cell_type": "code",
   "execution_count": null,
   "metadata": {},
   "outputs": [],
   "source": [
    "import math\n",
    "\n",
    "a = math.pi\n",
    "\n",
    "if a > 3:\n",
    "    print('a is greater than 3')"
   ]
  },
  {
   "cell_type": "markdown",
   "metadata": {},
   "source": [
    "<div style=\"display: flex; justify-content: space-between;\">\n",
    "<div style=\"width: 48%; line-height: 1.5;\">\n",
    "\n",
    "We can use the logical `and` and `or` operators to check two or more conditions simultaneously:\n",
    "\n",
    " - `(condition 1)  and  (condition 2)` : both conditions must be met for the statement to be evaluated as `True`\n",
    "\n",
    " - `(condition 1)  or  (condition 2)` : either (or both) can be met for the statement to be evaluated as `True`\n",
    "\n",
    "</div>\n",
    "<div style=\"width: 48%; line-height: 1.5;color: grey;\">\n",
    "\n",
    "Wir können die logischen Operatoren `and` und `or` verwenden, um zwei oder mehr Bedingungen gleichzeitig zu prüfen:\n",
    "\n",
    " - `(condition 1)  and  (condition 2)` : beide Bedingungen müssen erfüllt sein, damit die Aussage als `True` ausgewertet wird\n",
    " \n",
    " - `(condition 1)  or  (condition 2)` : eine (oder beide) Bedingungen können erfüllt sein, damit die Anweisung als `True` ausgewertet wird\n",
    "\n",
    "</div>\n",
    "</div>"
   ]
  },
  {
   "cell_type": "code",
   "execution_count": null,
   "metadata": {},
   "outputs": [],
   "source": [
    "a = 214\n",
    "\n",
    "if a > 200 and a < 250 and a != 213:\n",
    "    print(\"'a' is between 201 and 249 (inclusive) but isn't 213\")"
   ]
  },
  {
   "cell_type": "code",
   "execution_count": null,
   "metadata": {},
   "outputs": [],
   "source": [
    "a = 213\n",
    "\n",
    "if a > 200 and a < 250 and a != 213:\n",
    "    print(\"'a' is between 201 and 249 (inclusive) but isn't 213\")"
   ]
  },
  {
   "cell_type": "markdown",
   "metadata": {},
   "source": [
    "### `if... else`"
   ]
  },
  {
   "cell_type": "markdown",
   "metadata": {},
   "source": [
    "<div style=\"display: flex; justify-content: space-between;\">\n",
    "<div style=\"width: 48%; line-height: 1.5;\">\n",
    "\n",
    "Frequently, we need to evaluate a condition and execute one block of code if the condition is `True`, and a different block if it is `False`. \n",
    "\n",
    "In such scenarios, the `else` clause provides an alternative path when the initial condition is not met.\n",
    "\n",
    "</div>\n",
    "<div style=\"width: 48%; line-height: 1.5;color: grey;\">\n",
    "\n",
    "Häufig müssen wir eine Bedingung auswerten und einen Codeblock ausführen, wenn die Bedingung `True` ist, und einen anderen Block, wenn sie `False` ist. \n",
    "\n",
    "In solchen Fällen bietet die `else`-Klausel einen alternativen Weg, wenn die Ausgangsbedingung nicht erfüllt ist.\n",
    "\n",
    "</div>\n",
    "</div>"
   ]
  },
  {
   "cell_type": "markdown",
   "metadata": {},
   "source": [
    "```python\n",
    "if <condition>:\n",
    "    <body 1>\n",
    "else:\n",
    "    <body 2>\n",
    "```"
   ]
  },
  {
   "cell_type": "markdown",
   "metadata": {},
   "source": [
    "<div style=\"display: flex; justify-content: space-between;\">\n",
    "<div style=\"width: 48%; line-height: 1.5;\">\n",
    "\n",
    "In the previous example, an `if` statement was used to print a message to screen if a number was greater than 200, but the code did nothing if the number was less than or equal to 200. \n",
    "\n",
    "Using an additional `else` statement allows us to modify our code to explicitly tell us if the number is less than or equal to 200:\n",
    "\n",
    "</div>\n",
    "<div style=\"width: 48%; line-height: 1.5;color: grey;\">\n",
    "\n",
    "Im vorigen Beispiel wurde eine `if`-Anweisung verwendet, um eine Meldung auf dem Bildschirm auszugeben, wenn eine Zahl größer als 200 war, aber der Code tat nichts, wenn die Zahl kleiner oder gleich 200 war. \n",
    "\n",
    "Mit einer zusätzlichen `else`-Anweisung können wir unseren Code so ändern, dass er uns explizit sagt, ob die Zahl kleiner oder gleich 200 ist:\n",
    "\n",
    "</div>\n",
    "</div>"
   ]
  },
  {
   "cell_type": "code",
   "execution_count": null,
   "metadata": {},
   "outputs": [],
   "source": [
    "a = 150\n",
    "\n",
    "if a > 200 and a < 250 and a != 213:\n",
    "    print(\"'a' is between 201 and 249 (inclusive) but isn't 213\")\n",
    "else:\n",
    "    print(\"'a' is less than 200\")"
   ]
  },
  {
   "cell_type": "markdown",
   "metadata": {},
   "source": [
    "### `if... elif... else`"
   ]
  },
  {
   "cell_type": "markdown",
   "metadata": {},
   "source": [
    "<div style=\"display: flex; justify-content: space-between;\">\n",
    "<div style=\"width: 48%; line-height: 1.5;\">\n",
    "\n",
    "If you need to include multiple branching options in your code, you can use one or more `elif` (short for `else if`) clauses to handle additional conditions.\n",
    "\n",
    "</div>\n",
    "<div style=\"width: 48%; line-height: 1.5;color: grey;\">\n",
    "\n",
    "Wenn Sie mehrere Verzweigungsoptionen in Ihren Code einfügen müssen, können Sie eine oder mehrere `elif`-Klauseln (kurz für `else if`) verwenden, um zusätzliche Bedingungen zu behandeln.\n",
    "\n",
    "</div>\n",
    "</div>\n",
    "\n",
    "```python\n",
    "if <condition 1>:\n",
    "    <body 1>\n",
    "elif <condition 2>:\n",
    "    <body 2>   \n",
    "else:\n",
    "    <body 3>\n",
    "```"
   ]
  },
  {
   "cell_type": "markdown",
   "metadata": {},
   "source": [
    "<div style=\"display: flex; justify-content: space-between;\">\n",
    "<div style=\"width: 48%; line-height: 1.5;\">\n",
    "\n",
    "You can specify any number of `elif` statements, but only a single `else` clause is allowed, and it must appear as the final condition.\n",
    "\n",
    "Only one code block will be executed. Python evaluates each `condition` sequentially, and the first condition that evaluates to `True` triggers the execution of its corresponding `body` block. If none of the conditions are `True`, the code within the `else` clause (if present) will be executed.\n",
    "\n",
    "The `else` clause is optional. However, if it is omitted and no conditions evaluate to `True`, none of the code blocks will be executed.\n",
    "\n",
    "</div>\n",
    "<div style=\"width: 48%; line-height: 1.5;color: grey;\">\n",
    "\n",
    "Sie können eine beliebige Anzahl von `elif`-Anweisungen angeben, aber nur eine einzige `else`-Klausel ist erlaubt, und diese muss als letzte Bedingung erscheinen.\n",
    "\n",
    "Es wird nur ein Codeblock ausgeführt. Python wertet jede `condition` der Reihe nach aus, und die erste Bedingung, die `True` ergibt, löst die Ausführung des entsprechenden `body`-Blocks aus. Wenn keine der Bedingungen `True` ist, wird der Code in der `else`-Klausel (falls vorhanden) ausgeführt.\n",
    "\n",
    "Die `else`-Klausel ist optional. Wenn sie jedoch weggelassen wird und keine der Bedingungen als `True` ausgewertet wird, wird keiner der Codeblöcke ausgeführt.\n",
    "\n",
    "</div>\n",
    "</div>"
   ]
  },
  {
   "cell_type": "code",
   "execution_count": null,
   "metadata": {},
   "outputs": [],
   "source": [
    "n = 200\n",
    "\n",
    "if n > 200:\n",
    "    print(\"'n' is greater than 200\")\n",
    "elif n < 200:\n",
    "    print(\"'n' is less than 200\")\n",
    "elif n == 200:                          # an `else` clause could be used here instead\n",
    "    print(\"'n' is equal to 200\")"
   ]
  },
  {
   "cell_type": "code",
   "execution_count": null,
   "metadata": {},
   "outputs": [],
   "source": [
    "n = 200\n",
    "\n",
    "if n > 200:\n",
    "    print(\"'n' is greater than 200\")\n",
    "elif n < 200:\n",
    "    print(\"'n' is less than 200\")\n",
    "else:   \n",
    "    print(\"'n' is equal to 200\") "
   ]
  },
  {
   "cell_type": "code",
   "execution_count": null,
   "metadata": {},
   "outputs": [],
   "source": [
    "n = 200\n",
    "\n",
    "if n > 200:\n",
    "    print(\"'n' is greater than 200\")\n",
    "elif n < 200:\n",
    "    print(\"'n' is less than 200\")\n",
    "                                        # we omitted the `else` clause, but the two previous conditions are False, so nothing happens"
   ]
  },
  {
   "cell_type": "markdown",
   "metadata": {},
   "source": [
    "<div style=\"display: flex; justify-content: space-between;\">\n",
    "<div style=\"width: 48%; line-height: 1.5;\">\n",
    "\n",
    "If you need to include multiple branching options in your code, you can use one or more `elif` (short for `else if`) clauses to handle additional conditions.\n",
    "\n",
    "</div>\n",
    "<div style=\"width: 48%; line-height: 1.5;color: grey;\">\n",
    "\n",
    "Wenn Sie mehrere Verzweigungsoptionen in Ihren Code einfügen müssen, können Sie eine oder mehrere `elif`-Klauseln (kurz für `else if`) verwenden, um zusätzliche Bedingungen zu behandeln.\n",
    "\n",
    "</div>\n",
    "</div>\n",
    "\n",
    "```python\n",
    "if <condition 1>:\n",
    "    <body 1>\n",
    "elif <condition 2>:\n",
    "    <body 2>   \n",
    "else:\n",
    "    <body 3>\n",
    "```"
   ]
  },
  {
   "cell_type": "markdown",
   "metadata": {},
   "source": [
    "#### `if... if...` vs. `if... elif...`"
   ]
  },
  {
   "cell_type": "markdown",
   "metadata": {},
   "source": [
    "<div style=\"display: flex; justify-content: space-between;\">\n",
    "<div style=\"width: 48%; line-height: 1.5;\">\n",
    "\n",
    "Using multiple `if` statements (rather than an `if-elif` structure) allows each condition to be evaluated *independently*. \n",
    "\n",
    "This approach is useful when you want multiple conditions to execute *in sequence* if they are all true, rather than only one of them.\n",
    "\n",
    "For example, you might want to apply a series of checks or transformations to a variable, where each if condition modifies the variable in a specific way if the condition is met.\n",
    "\n",
    "</div>\n",
    "<div style=\"width: 48%; line-height: 1.5;color: grey;\">\n",
    "\n",
    "Durch die Verwendung mehrerer `if`-Anweisungen (anstelle einer `if-elif`-Struktur) kann jede Bedingung *unabhängig* ausgewertet werden.\n",
    "\n",
    "Dieser Ansatz ist nützlich, wenn Sie möchten, dass mehrere Bedingungen *nacheinander* ausgeführt werden, wenn sie alle wahr sind, und nicht nur eine von ihnen.\n",
    "\n",
    "Wenn sie zum Beispiel eine Reihe von Prüfungen oder Transformationen auf eine Variable anwenden wollen, wobei jede if-Bedingung die Variable auf eine bestimmte Weise verändert, wenn die Bedingung erfüllt ist.\n",
    "\n",
    "</div>\n",
    "</div>"
   ]
  },
  {
   "cell_type": "code",
   "metadata": {
    "ExecuteTime": {
     "end_time": "2024-11-13T16:17:06.604678Z",
     "start_time": "2024-11-13T16:17:06.595476Z"
    }
   },
   "source": [
    "n = 250\n",
    "\n",
    "if n > 200:\n",
    "    print(\"'n' is greater than 200\")\n",
    "    b = 'foo'\n",
    "\n",
    "if n > 225:\n",
    "    print(\"'n' is greater than 225\")\n",
    "    b = 'bar'\n",
    "\n",
    "else:\n",
    "    print(\"'n' is less than 200\")\n",
    "\n",
    "print(b)\n"
   ],
   "outputs": [
    {
     "name": "stdout",
     "output_type": "stream",
     "text": [
      "'n' is greater than 200\n",
      "'n' is greater than 225\n",
      "bar\n"
     ]
    }
   ],
   "execution_count": 15
  },
  {
   "cell_type": "markdown",
   "metadata": {},
   "source": [
    "<div style=\"display: flex; justify-content: space-between;\">\n",
    "<div style=\"width: 48%; line-height: 1.5;\">\n",
    "\n",
    "- A variable `n` is set to 250.\n",
    "\n",
    "- The first `if` statement checks if `n` is greater than 200.\n",
    "\n",
    "    - Since `n` (250) is greater than 200, the code prints `\"'n' is greater than 200\"` and sets `b` to `'foo'`.\n",
    "\n",
    "- The next `if` statement, which is *not connected to the previous* `if` statement, checks if `n` is greater than 225.\n",
    "\n",
    "    - Since `n` (250) is also greater than 225, it prints `\"'n' is greater than 225\"` and then *overwrites* `b` to `'bar'`.\n",
    "\n",
    "- This `else` is linked *only to the second* `if` statement (`if n > 225`).\n",
    "\n",
    "    - Since `n` (250) satisfies the condition `n > 225`, this else block does *not* execute.\n",
    "\n",
    "- Finally, `b` is printed, and since it was last set to `'bar'`, it prints `'bar'`.\n",
    "\n",
    "</div>\n",
    "<div style=\"width: 48%; line-height: 1.5;color: grey;\">\n",
    "\n",
    "- Eine Variable `n` wird auf 250 gesetzt.\n",
    "\n",
    "- Die erste `if`-Anweisung prüft, ob `n` größer als 200 ist.\n",
    "\n",
    "    - Da `n` (250) größer als 200 ist, druckt der Code `\"'n' ist größer als 200\"` und setzt `b` auf `'foo'`.\n",
    "\n",
    "- Die nächste `if`-Anweisung, die *nicht mit der vorherigen* `if`-Anweisung verbunden ist, prüft, ob `n` größer als 225 ist.\n",
    "\n",
    "    - Da `n` (250) ebenfalls größer als 225 ist, wird `\"'n' ist größer als 225\"` gedruckt und `b` wird auf `'bar'` gesetzt.\n",
    "\n",
    "- Dieses `else` ist *nur mit der zweiten* `if`-Anweisung verknüpft (`if n > 225`).\n",
    "\n",
    "    - Da `n` (250) die Bedingung `n > 225` erfüllt, wird dieser else-Block *nicht* ausgeführt.\n",
    "\n",
    "- Schließlich wird `b` gedruckt, und da es zuletzt auf `'bar'` gesetzt wurde, wird `'bar'` gedruckt.\n",
    "\n",
    "</div>\n",
    "</div>"
   ]
  },
  {
   "cell_type": "markdown",
   "metadata": {},
   "source": [
    "<div class=\"alert alert-block alert-light\">\n",
    "\n",
    "<div style=\"display: flex; justify-content: space-between;\">\n",
    "<div style=\"width: 48%; line-height: 1.5;\">\n",
    "\n",
    "#### Exercise\n",
    "\n",
    "Change the second `if` statement to `elif` and see what happens.\n",
    "\n",
    "</div>\n",
    "<div style=\"width: 2%; line-height: 1.5;\"> </div>\n",
    "<div style=\"width: 48%; line-height: 1.5;color: grey;\">\n",
    "\n",
    "#### Übung\n",
    "\n",
    "Ändern Sie die zweite `if`-Anweisung in `elif` und sehen Sie, was passiert.\n",
    "\n",
    "</div>\n",
    "</div>"
   ]
  },
  {
   "cell_type": "code",
   "execution_count": null,
   "metadata": {},
   "outputs": [],
   "source": [
    "countdown_timer(5)"
   ]
  },
  {
   "cell_type": "code",
   "metadata": {
    "ExecuteTime": {
     "end_time": "2024-11-13T16:17:18.144399Z",
     "start_time": "2024-11-13T16:17:18.135977Z"
    }
   },
   "source": [
    "n = 250\n",
    "\n",
    "if n > 200:\n",
    "    print(\"'n' is greater than 200\")\n",
    "    b = 'foo'\n",
    "\n",
    "elif n > 225:\n",
    "    print(\"'n' is greater than 225\")\n",
    "    b = 'bar'\n",
    "\n",
    "else:\n",
    "    print(\"'n' is less than 200\")\n",
    "\n",
    "print(b)\n"
   ],
   "outputs": [
    {
     "name": "stdout",
     "output_type": "stream",
     "text": [
      "'n' is greater than 200\n",
      "foo\n"
     ]
    }
   ],
   "execution_count": 16
  },
  {
   "cell_type": "markdown",
   "metadata": {},
   "source": [
    "<div style=\"display: flex; justify-content: space-between;\">\n",
    "<div style=\"width: 48%; line-height: 1.5;\">\n",
    "\n",
    "This sequential use of `if` statements is conceptually different from using `if-elif`. \n",
    "\n",
    "If you replace the `if` on line 7 with `elif`, `b` would end up as `'foo'` rather than `'bar'`, because the `elif` block would not be executed once the first `if` condition is true.\n",
    "\n",
    "</div>\n",
    "<div style=\"width: 2%; line-height: 1.5;\"> </div>\n",
    "<div style=\"width: 48%; line-height: 1.5;color: grey;\">\n",
    "\n",
    "Diese sequentielle Verwendung von `if`-Anweisungen unterscheidet sich konzeptionell von der Verwendung von `if-elif`.\n",
    "\n",
    "Wenn Sie das `if` in Zeile 7 durch `elif` ersetzen, würde `b` als `'foo'` und nicht als `'bar'` enden, weil der `elif`-Block nicht ausgeführt würde, sobald die erste `if`-Bedingung wahr ist.\n",
    "\n",
    "</div>\n",
    "</div>"
   ]
  },
  {
   "cell_type": "markdown",
   "metadata": {},
   "source": [
    "<div style=\"display: flex; justify-content: space-between;\">\n",
    "<div style=\"width: 48%; line-height: 1.5;\">\n",
    "\n",
    "##  Using conditional statements within loops\n",
    "\n",
    "All of the `if`, `else`, and `elif` statements can be used inside loops. \n",
    "\n",
    "For example, if we wanted to print the numbers 0-10 inclusive, but replace 5 with the string `'Five'` and 8 with the string `'Eight'`, we could use an `if-elif-else` structure within a `for` loop as follows:\n",
    "</div>\n",
    "<div style=\"width: 48%; line-height: 1.5;color: grey;\">\n",
    "\n",
    "## Bedingte Anweisungen innerhalb von Schleifen\n",
    "\n",
    "Alle `if`-, `else`- und `elif`-Anweisungen können innerhalb von Schleifen verwendet werden.\n",
    "\n",
    "Wenn wir zum Beispiel die Zahlen 0-10 einschließlich ausgeben wollen, aber 5 durch die Zeichenkette `'Five'` und 8 durch die Zeichenkette `'Eight'` ersetzen wollen, könnten wir eine `if-elif-else`-Struktur innerhalb einer `for`-Schleife wie folgt verwenden:\n",
    "</div>\n",
    "</div>"
   ]
  },
  {
   "cell_type": "code",
   "execution_count": null,
   "metadata": {},
   "outputs": [],
   "source": [
    "for i in range(11):\n",
    "    if i == 5:\n",
    "        print(\"Five\")\n",
    "    elif i == 8:\n",
    "        print(\"Eight\")\n",
    "    else:  \n",
    "        print(i)"
   ]
  },
  {
   "cell_type": "code",
   "execution_count": null,
   "metadata": {},
   "outputs": [],
   "source": [
    "text = 'steganograpHy is the practicE of conceaLing a fiLe, message, image, Or video wiTHin another filE, message, image, oR vidEo.'\n",
    "\n",
    "# print all the uppercase letters in text, one at a time\n",
    "for char in text:\n",
    "    if char.isupper():\n",
    "        print(char)   "
   ]
  },
  {
   "cell_type": "markdown",
   "metadata": {},
   "source": [
    "<div class=\"alert alert-block alert-light\">\n",
    "\n",
    "<div style=\"display: flex; justify-content: space-between;\">\n",
    "<div style=\"width: 48%; line-height: 1.5;\">\n",
    "\n",
    "# Exercises\n",
    "\n",
    "Open the notebook `04_exercises.ipynb`.\n",
    "\n",
    "</div>\n",
    "<div style=\"width: 48%; line-height: 1.5;color: grey;\">\n",
    "\n",
    "# Übungen\n",
    "\n",
    "Öffnen Sie das Notebook `04_exercises.ipynb`.\n",
    "\n",
    "</div>\n",
    "</div>"
   ]
  }
 ],
 "metadata": {
  "kernelspec": {
   "display_name": "base",
   "language": "python",
   "name": "python3"
  },
  "language_info": {
   "codemirror_mode": {
    "name": "ipython",
    "version": 3
   },
   "file_extension": ".py",
   "mimetype": "text/x-python",
   "name": "python",
   "nbconvert_exporter": "python",
   "pygments_lexer": "ipython3",
   "version": "3.10.14"
  }
 },
 "nbformat": 4,
 "nbformat_minor": 2
}
