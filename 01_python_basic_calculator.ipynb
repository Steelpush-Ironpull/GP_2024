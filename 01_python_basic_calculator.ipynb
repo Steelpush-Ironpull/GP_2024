{
 "cells": [
  {
   "cell_type": "code",
   "execution_count": null,
   "metadata": {},
   "outputs": [],
   "source": [
    "from IPython.display import display, clear_output, HTML\n",
    "import time\n",
    "\n",
    "def countdown_timer(minutes):\n",
    "    total_seconds = minutes * 60\n",
    "    for seconds in range(total_seconds, 0, -1):\n",
    "        mins, secs = divmod(seconds, 60)\n",
    "        time_str = f\"{mins:02}'{secs:02}''\"\n",
    "        clear_output(wait=True)\n",
    "        # HTML with styling\n",
    "        display(HTML(f'<div style=\"font-size: 24px; color: blue; font-weight: bold;\">Time remaining: {time_str}</div>'))\n",
    "        time.sleep(1)\n",
    "    clear_output(wait=True)\n",
    "    # Final message with different styling\n",
    "    display(HTML('<div style=\"font-size: 24px; color: green; font-weight: bold;\">Time\\'s up!</div>'))"
   ]
  },
  {
   "cell_type": "markdown",
   "metadata": {},
   "source": [
    "<div style=\"text-align: center;\">\n",
    "    <img src=\"https://upload.wikimedia.org/wikipedia/commons/thumb/f/f8/Python_logo_and_wordmark.svg/972px-Python_logo_and_wordmark.svg.png?20210516005643\" alt=\"The Python logo\" style=\"width: 60%; max-width: 500px;\">\n",
    "</div>"
   ]
  },
  {
   "cell_type": "markdown",
   "metadata": {},
   "source": [
    "<div class=\"alert alert-block alert-info\">\n",
    "\n",
    "<div style=\"display: flex; justify-content: space-between;\">\n",
    "<div style=\"width: 48%; line-height: 1.5;\">\n",
    "\n",
    "### Disclaimer\n",
    "\n",
    "This is an introductory class. If you're already comfortable with Python and find the material too easy, feel free to reach out to us, and we’ll be happy to provide you with more challenging tasks.\n",
    "\n",
    "</div>\n",
    "<div style=\"width: 48%; line-height: 1.5;color: grey;\">\n",
    "\n",
    "### Disclaimer\n",
    "\n",
    "Dies ist ein Einführungskurs. Wenn Sie bereits mit Python vertraut sind und das Material zu einfach finden, können Sie sich gerne an uns wenden, und wir werden Ihnen gerne anspruchsvollere Aufgaben stellen. \n",
    "\n",
    "</div>\n",
    "</div>"
   ]
  },
  {
   "cell_type": "markdown",
   "metadata": {},
   "source": [
    "<div class=\"alert alert-block alert-light\">\n",
    "\n",
    "<div style=\"display: flex; justify-content: space-between;\">\n",
    "<div style=\"width: 48%; line-height: 1.3;\">\n",
    "\n",
    "## Warm-up\n",
    "</div>\n",
    "<div style=\"width: 48%; line-height: 1.3;color: grey;\">\n",
    "\n",
    "## Aufwärmen\n",
    "</div>\n",
    "</div>"
   ]
  },
  {
   "cell_type": "markdown",
   "metadata": {},
   "source": [
    "<div style=\"display: flex; justify-content: space-between;\">\n",
    "<div style=\"width: 48%; line-height: 1.5; margin-right: 20px;\">\n",
    "\n",
    "A notebook is comprised of cells. \n",
    "There are three types of input cells where you can write the content for your\n",
    "notebook:\n",
    "\n",
    "- **Code cells**: The default type of cell, this type of cell consists of executable code.\n",
    "As far as this notebook is concerned, the code you write here will be Python, but\n",
    "Jupyter does provide an option for executing code written in other languages.\n",
    "\n",
    "- **Markdown cells**: This type of cell allows for a rich form of documentation for\n",
    "your code (see below). When executed, the input to a markdown cell is converted\n",
    "into HTML, which can include mathematical equations, font effects, lists, tables,\n",
    "embedded images and videos.\n",
    "\n",
    "- **Raw cells**: Input into this type of cell is not changed by the notebook: its content\n",
    "and formatting is preserved exactly.\n",
    "</div>\n",
    "<div style=\"width: 4%;\">\n",
    "</div>\n",
    "<div style=\"width: 48%; line-height: 1.35; color: grey;\">\n",
    "\n",
    "Ein Notebook setzt sich aus Zellen zusammen.\n",
    "Es gibt drei Arten von Eingabezellen, in die Sie den Inhalt Ihres Notebooks schreiben können:\n",
    "\n",
    "- **Code Zellen**: Dieser Zellentyp ist der Standardtyp und besteht aus ausführbarem Code.\n",
    "Soweit es dieses Notebook betrifft, ist der Code, den Sie hier schreiben, Python, aber Jupyter bietet Optionen zur Ausführung von Code, der in anderen Sprachen geschrieben wurde.\n",
    "\n",
    "- **Markdown Zellen**: Diese Art von Zellen ermöglicht eine umfangreiche Dokumentation für\n",
    "Ihren Code (siehe unten). Bei der Ausführung wird die Eingabe in eine Markdown-Zelle in HTML umgewandelt, das mathematische Gleichungen, Schrifteffekte, Listen, Tabellen und eingebettete Bilder und Videos enthalten kann.\n",
    "\n",
    "- **Raw Zellen**: Eingaben in diesen Zellentyp werden vom Notebook nicht verändert: ihr Inhalt\n",
    "und die Formatierung werden exakt beibehalten.\n",
    "</div>\n",
    "</div>"
   ]
  },
  {
   "cell_type": "markdown",
   "metadata": {},
   "source": [
    "<div class=\"alert alert-block alert-light\">\n",
    "\n",
    "<div style=\"display: flex; justify-content: space-between;\">\n",
    "<div style=\"width: 48%; line-height: 1.3;\">\n",
    "\n",
    "### 1\n",
    "\n",
    "Explore the Jupyter interface:\n",
    "\n",
    "- Toolbar: Learn about different buttons (save, add cell, run cell, stop, etc.).\n",
    "\n",
    "- Cell types: Switch between code and Markdown cells.\n",
    "\n",
    "Learn some keyboard shortcuts:\n",
    "\n",
    "-  `Shift+Enter`: Run the current cell.\n",
    "\n",
    "-  `Ctrl+Enter`: Run the cell and stay in the same cell.\n",
    "\n",
    "-  `A`: Insert a cell above the current cell.\n",
    "\n",
    "-  `B`: Insert a cell below the current cell.\n",
    "\n",
    "-  `C`: Copy the current cell.\n",
    "\n",
    "-  `V`: Paste the copied cell.\n",
    "\n",
    "-  `X`: Delete the current cell.\n",
    " \n",
    "       \n",
    "</div>\n",
    "<div style=\"width: 4%;\">\n",
    "</div>\n",
    "<div style=\"width: 48%; line-height: 1.3;color: grey;\">\n",
    "\n",
    "### 1\n",
    "\n",
    "Erkunden Sie die Jupyter-Schnittstelle:\n",
    "\n",
    "- Symbolleiste: Lernen Sie die verschiedenen Schaltflächen kennen (Speichern, Zelle hinzufügen, Zelle ausführen, Stopp usw.).\n",
    "\n",
    "- Zelltypen: Wechseln Sie zwischen Code- und Markdown-Zellen.\n",
    "\n",
    "Lernen Sie einige Tastaturkürzel:\n",
    "\n",
    "- `Shift+Enter`: Die aktuelle Zelle ausführen.\n",
    "\n",
    "- `Strg+Enter`: Die Zelle ausführen und in der gleichen Zelle bleiben.\n",
    "\n",
    "- `A`: Eine Zelle oberhalb der aktuellen Zelle einfügen.\n",
    "\n",
    "- `B`: Eine Zelle unterhalb der aktuellen Zelle einfügen.\n",
    "\n",
    "- `C`: Kopieren der aktuellen Zelle.\n",
    "\n",
    "- `V`: Einfügen der kopierten Zelle.\n",
    "\n",
    "- `X`: Löschen der aktuellen Zelle.\n",
    "\n",
    "       \n",
    "</div>\n",
    "</div>"
   ]
  },
  {
   "cell_type": "markdown",
   "metadata": {},
   "source": [
    "<div class=\"alert alert-block alert-light\">\n",
    "\n",
    "<div style=\"display: flex; justify-content: space-between;\">\n",
    "  <div style=\"width: 48%; line-height: 1.3;\">\n",
    "\n",
    "### 2\n",
    "Create a notebook structure using different heading levels:\n",
    "        \n",
    "- Chapter: Python\n",
    "\n",
    "- Section: Python as a basic calculator\n",
    "\n",
    "- Text: Today we are doing some math with Python\n",
    "\n",
    "You can either write everything in a single cell or use a separate cell for each text block. \n",
    "Try both approaches.\n",
    "       \n",
    "</div>\n",
    "<div style=\"width: 4%;\">\n",
    "</div>\n",
    "<div style=\"width: 48%; line-height: 1.3;color: grey;\">\n",
    "\n",
    "### 2\n",
    "Erstellen Sie eine Notebookstruktur mit verschiedenen Überschriftenebenen:\n",
    "        \n",
    "- Kapitel: Python\n",
    "\n",
    "- Abschnitt: Python als einfacher Taschenrechner\n",
    "\n",
    "- Text: Heute machen wir etwas Mathematik mit Python\n",
    "\n",
    "Sie können entweder alles in eine einzige Zelle schreiben oder für jeden Textblock eine eigene Zelle verwenden.\n",
    "Probieren Sie beide Ansätze aus.\n",
    "       \n",
    "</div>\n",
    "</div>"
   ]
  },
  {
   "cell_type": "raw",
   "metadata": {
    "vscode": {
     "languageId": "raw"
    }
   },
   "source": [
    "# Chapter\n",
    "## Section\n",
    "### Subsection\n",
    "#### Subsubsection\n",
    "\n",
    "- a list item\n",
    "    - a sublist item\n",
    "        - and so on\n",
    "        \n",
    "**some bold text**\n",
    "\n",
    "_some italic text_"
   ]
  },
  {
   "cell_type": "markdown",
   "metadata": {},
   "source": [
    "<div class=\"alert alert-block alert-light\">\n",
    "\n",
    "<div style=\"display: flex; justify-content: space-between;\">\n",
    "<div style=\"width: 48%; line-height: 1.3;\">\n",
    " \n",
    "### 3\n",
    "Learn to create bullet and numbered lists in Markdown:\n",
    "        \n",
    "- Bullet list: Use `-`, `+`, or `*`.\n",
    "- Numbered list: Just type the numbers (`1.`, `2.`, etc.).\n",
    "    \n",
    "       \n",
    "</div>\n",
    "<div style=\"width: 4%;\">\n",
    "</div>\n",
    "<div style=\"width: 48%; line-height: 1.3;color: grey;\">\n",
    "\n",
    "### 3\n",
    "Lernen Sie, Aufzählungslisten und nummerierte Listen in Markdown zu erstellen:\n",
    "        \n",
    "- Aufzählungsliste: Verwende `-`, `+` oder `*`.\n",
    "- Nummerierte Liste: Geben Sie einfach die Zahlen ein (`1.`, `2.`, etc.).\n",
    "\n",
    "       \n",
    "</div>\n",
    "</div>"
   ]
  },
  {
   "cell_type": "code",
   "execution_count": null,
   "metadata": {},
   "outputs": [],
   "source": [
    "#countdown\n",
    "countdown_timer(15)"
   ]
  },
  {
   "cell_type": "markdown",
   "metadata": {},
   "source": [
    "<div class=\"alert alert-block alert-info\">\n",
    "\n",
    "<div style=\"display: flex; justify-content: space-between;\">\n",
    "<div style=\"width: 48%; line-height: 1.5;\">\n",
    "\n",
    "At any point during these tutorials, feel encouraged to insert your own cells to take notes or experiment with commands.\n",
    "</div>\n",
    "<div style=\"width: 48%; line-height: 1.5;color: grey;\">\n",
    "\n",
    "Sie können während der Übungen jederzeit Ihre eigenen Zellen einzufügen, um Notizen zu machen oder mit Befehlen zu experimentieren.\n",
    "</div>\n",
    "</div>"
   ]
  },
  {
   "cell_type": "markdown",
   "metadata": {},
   "source": [
    "<div class=\"alert alert-block alert-warning\">\n",
    "\n",
    "<div style=\"display: flex; justify-content: space-between;\">\n",
    "<div style=\"width: 48%; line-height: 1.5;\">\n",
    "\n",
    "# Numbers (Python as calculator) \n",
    "</div>\n",
    "<div style=\"width: 4%;\">\n",
    "</div>\n",
    "<div style=\"width: 48%; line-height: 1.3; color: grey;\">\n",
    "\n",
    "# Zahlen (Python als Rechner)\n",
    "</div>\n",
    "</div>\n",
    "\n",
    "</div>"
   ]
  },
  {
   "cell_type": "markdown",
   "metadata": {},
   "source": [
    "<div style=\"display: flex; justify-content: space-between;\">\n",
    "<div style=\"width: 48%; line-height: 1.5;\">\n",
    "\n",
    "Python can be used as a simple calculator to add, multiply, and subtract numbers. \n",
    "\n",
    "There are three main types of numbers in Python: \n",
    "\n",
    "- integers `int`, \n",
    "\n",
    "- real numbers `float`, \n",
    "\n",
    "- complex numbers `complex`. \n",
    "\n",
    "In an interactive session like a Jupyter Notebook, you can combine these numbers using operators, and the result is immediately displayed.\n",
    "\n",
    "Please note: Calculations must be performed in cells of type `Code`, not in Markdown cells!\n",
    "</div>\n",
    "<div style=\"width: 4%;\">\n",
    "</div>\n",
    "<div style=\"width: 48%; line-height: 1.3;color: grey;\">\n",
    "\n",
    "Python kann als einfacher Taschenrechner verwendet werden, um Zahlen zu addieren, zu multiplizieren und zu subtrahieren. \n",
    "\n",
    "Es gibt drei Haupttypen von Zahlen in Python: \n",
    "\n",
    "- Ganzzahlen `int`, \n",
    "\n",
    "- reelle Zahlen `float`, \n",
    "\n",
    "- komplexe Zahlen `complex`. \n",
    "\n",
    "In einer interaktiven Sitzung wie einem Jupyter-Notebook können Sie diese Zahlen mit Hilfe von Operatoren kombinieren und das Ergebnis wird sofort angezeigt.\n",
    "\n",
    "Bitte beachten Sie: Berechnungen müssen in Zellen des Typs `Code` durchgeführt werden, nicht in Markdown-Zellen!\n",
    "</div>\n",
    "</div>"
   ]
  },
  {
   "cell_type": "code",
   "execution_count": null,
   "metadata": {},
   "outputs": [],
   "source": [
    "1 + 2"
   ]
  },
  {
   "cell_type": "code",
   "execution_count": null,
   "metadata": {},
   "outputs": [],
   "source": [
    "10 / 6"
   ]
  },
  {
   "cell_type": "code",
   "execution_count": null,
   "metadata": {},
   "outputs": [],
   "source": [
    "6897 * 743657"
   ]
  },
  {
   "cell_type": "markdown",
   "metadata": {},
   "source": [
    "<div style=\"display: flex; justify-content: space-between;\">\n",
    "<div style=\"width: 48%; line-height: 1.5;\">\n",
    "\n",
    "**A word of caution:**\n",
    "\n",
    "What happens if you enter two lines of calculations and execute the cell? \n",
    "\n",
    "Try something like:\n",
    "\n",
    "</div>\n",
    "<div style=\"width: 4%;\">\n",
    "</div>\n",
    "<div style=\"width: 48%; line-height: 1.3;color: grey;\">\n",
    "\n",
    "**Warnung:**\n",
    "\n",
    "Was passiert, wenn Sie zwei Zeilen mit Berechnungen eingeben und die Zelle ausführen?\n",
    "\n",
    "Versuchen Sie etwas wie:\n",
    "</div>\n",
    "</div>"
   ]
  },
  {
   "cell_type": "code",
   "execution_count": 1,
   "metadata": {},
   "outputs": [
    {
     "data": {
      "text/plain": [
       "45"
      ]
     },
     "execution_count": 1,
     "metadata": {},
     "output_type": "execute_result"
    }
   ],
   "source": [
    "3 + 17\n",
    "5 * 9"
   ]
  },
  {
   "cell_type": "markdown",
   "metadata": {},
   "source": [
    "<div style=\"display: flex; justify-content: space-between;\">\n",
    "<div style=\"width: 48%; line-height: 1.5;\">\n",
    "\n",
    "You only see the result of the second calculation (`5 * 9`), which is `45`. This happens because in Python (and most programming languages), the notebook only displays the result of the last expression in a cell by default.\n",
    "\n",
    "To display both results, you need to explicitly tell the notebook to output both calculations. \n",
    "You can use the `print()` function:\n",
    "\n",
    "</div>\n",
    "<div style=\"width: 4%;\">\n",
    "</div>\n",
    "<div style=\"width: 48%; line-height: 1.5;color: grey;\">\n",
    "\n",
    "Sie sehen nur das Ergebnis der zweiten Berechnung (`5 * 9`), das `45` ist. Das liegt daran, dass in Python (und den meisten Programmiersprachen) das Notebook standardmäßig nur das Ergebnis des letzten Ausdrucks in einer Zelle anzeigt.\n",
    "\n",
    "Um beide Ergebnisse anzuzeigen, müssen Sie dem Notizbuch explizit sagen, dass es beide Berechnungen ausgeben soll.\n",
    "Dazu können Sie die Funktion `print()` verwenden:\n",
    "</div>\n",
    "</div>"
   ]
  },
  {
   "cell_type": "code",
   "execution_count": 2,
   "metadata": {},
   "outputs": [
    {
     "name": "stdout",
     "output_type": "stream",
     "text": [
      "20\n",
      "45\n"
     ]
    }
   ],
   "source": [
    "print(3 + 17)\n",
    "print(5 * 9)"
   ]
  },
  {
   "cell_type": "markdown",
   "metadata": {},
   "source": [
    "<div style=\"display: flex; justify-content: space-between;\">\n",
    "<div style=\"width: 48%; line-height: 1.5;\">\n",
    "\n",
    "####  Comment your code! \n",
    "\n",
    "To make code more understandable, it is good practice to add comments: Everything on a single line following a `#` character is ignored by the Python interpreter and so can be used to write human-readable remarks providing explanation and context to the code.\n",
    "\n",
    "</div>\n",
    "<div style=\"width: 4%;\">\n",
    "</div>\n",
    "<div style=\"width: 48%; line-height: 1.5;color: grey;\">\n",
    "\n",
    "####  Kommentieren Sie Ihren Code!\n",
    "\n",
    "Um den Code verständlicher zu machen, ist es eine gute Praxis, Kommentare hinzuzufügen: Alles, was in einer einzelnen Zeile auf ein `#`-Zeichen folgt, wird vom Python-Interpreter ignoriert und kann daher dazu verwendet werden, um menschenlesbare Anmerkungen zu schreiben, die den Code und dessen Kontext erklären.\n",
    "\n",
    "</div>\n",
    "</div>"
   ]
  },
  {
   "cell_type": "markdown",
   "metadata": {},
   "source": [
    "<div style=\"display: flex; justify-content: space-between;\">\n",
    "<div style=\"width: 48%; line-height: 1.5;\">\n",
    "Without comments: \n",
    "</div>\n",
    "<div style=\"width: 4%;\">\n",
    "</div>\n",
    "<div style=\"width: 48%; line-height: 1.3;color: grey;\">\n",
    "Ohne Kommentaren: \n",
    "</div>\n",
    "</div>"
   ]
  },
  {
   "cell_type": "code",
   "execution_count": 16,
   "metadata": {},
   "outputs": [
    {
     "name": "stdout",
     "output_type": "stream",
     "text": [
      "120\n"
     ]
    }
   ],
   "source": [
    "def factorial(n):\n",
    "    result = 1\n",
    "    while n > 0:\n",
    "        result *= n\n",
    "        n -= 1\n",
    "    return result\n",
    "\n",
    "print(factorial(5))"
   ]
  },
  {
   "cell_type": "markdown",
   "metadata": {},
   "source": [
    "<div style=\"display: flex; justify-content: space-between;\">\n",
    "<div style=\"width: 48%; line-height: 1.5;\">\n",
    "With comments: \n",
    "</div>\n",
    "<div style=\"width: 4%;\">\n",
    "</div>\n",
    "<div style=\"width: 48%; line-height: 1.3;color: grey;\">\n",
    "Mit Kommentaren: \n",
    "</div>\n",
    "</div>"
   ]
  },
  {
   "cell_type": "code",
   "execution_count": 6,
   "metadata": {},
   "outputs": [
    {
     "name": "stdout",
     "output_type": "stream",
     "text": [
      "120\n"
     ]
    }
   ],
   "source": [
    "def factorial(n):\n",
    "# Initialize result to 1, as the factorial of 0 is 1 and it is the multiplicative identity\n",
    "    result = 1\n",
    "\n",
    "# Loop through numbers from n down to 1\n",
    "    while n > 0:\n",
    "# Multiply the current result by n\n",
    "        result *= n\n",
    "# Decrement n by 1\n",
    "        n -= 1\n",
    "\n",
    "# Return the computed factorial\n",
    "    return result\n",
    "\n",
    "# Print the factorial of 5 (which is 120)\n",
    "print(factorial(5))"
   ]
  },
  {
   "cell_type": "markdown",
   "metadata": {},
   "source": [
    "<div style=\"display: flex; justify-content: space-between;\">\n",
    "<div style=\"width: 48%; line-height: 1.5;\">\n",
    "\n",
    "*Don't confuse the `#` used in a code cell for comments with the `#` used in a Markdown cell to create headings.*\n",
    "</div>\n",
    "<div style=\"width: 4%;\">\n",
    "</div>\n",
    "<div style=\"width: 48%; line-height: 1.5;color: grey;\">\n",
    "\n",
    "*Verwechseln Sie nicht das `#` in einer Code-Zelle für Kommentare mit dem `#` in einer Markdown-Zelle, um Überschriften zu erstellen.*\n",
    "</div>\n",
    "</div>"
   ]
  },
  {
   "cell_type": "markdown",
   "metadata": {},
   "source": [
    "<div style=\"display: flex; justify-content: space-between;\">\n",
    "<div style=\"width: 48%; line-height: 1.5;\">\n",
    "\n",
    "####  ...but not excessively! \n",
    "\n",
    "In reality, though, don't comment every individual statement. A good comment does not state what the code obviously does.\n",
    "\n",
    "More realistic example with function docstring: \n",
    "</div>\n",
    "<div style=\"width: 4%;\">\n",
    "</div>\n",
    "<div style=\"width: 48%; line-height: 1.5;color: grey;\">\n",
    "\n",
    "####  ...aber nicht exzessiv!\n",
    "\n",
    "In der Praxis sollten Sie nicht jede einzelne Anweisung kommentieren. Ein guter Kommentar beschreibt nicht, was das Programm offensichtlicherweise macht.\n",
    "\n",
    "Realistischeres Beispiel mit Dokumentationsstring der Funktion: \n",
    "</div>\n",
    "</div>"
   ]
  },
  {
   "cell_type": "code",
   "execution_count": 34,
   "metadata": {},
   "outputs": [
    {
     "name": "stdout",
     "output_type": "stream",
     "text": [
      "120\n"
     ]
    }
   ],
   "source": [
    "def factorial(n):\n",
    "    \"\"\"\n",
    "    Compute the factorial of a non-negative integer n.\n",
    "\n",
    "    Parameters\n",
    "    ----------\n",
    "    n : int\n",
    "        The number to compute the factorial of.\n",
    "\n",
    "    Returns\n",
    "    -------\n",
    "    result : int\n",
    "        The factorial of n.\n",
    "    \"\"\"\n",
    "    result = 1\n",
    "    while n > 0:\n",
    "        result *= n\n",
    "        n -= 1\n",
    "    return result\n",
    "\n",
    "print(factorial(5))"
   ]
  },
  {
   "cell_type": "markdown",
   "metadata": {},
   "source": [
    "<div style=\"display: flex; justify-content: space-between;\">\n",
    "<div style=\"width: 48%; line-height: 1.5;\">\n",
    "\n",
    "The terms \"function\" and \"docstring\" will be explained in detail in an upcoming lecture. This was just an example of good practice.\n",
    "</div>\n",
    "<div style=\"width: 4%;\">\n",
    "</div>\n",
    "<div style=\"width: 48%; line-height: 1.5;color: grey;\">\n",
    "\n",
    "Die Begriffe \"Funktion\" und \"Docstring\" werden in einer der nächsten Vorlesungen ausführlich erklärt. Dies war nur ein Beispiel für gute Praxis.\n",
    "</div>\n",
    "</div>"
   ]
  },
  {
   "cell_type": "markdown",
   "metadata": {},
   "source": [
    "## Integer (`int`)"
   ]
  },
  {
   "cell_type": "markdown",
   "metadata": {},
   "source": [
    "<div style=\"display: flex; justify-content: space-between;\">\n",
    "<div style=\"width: 48%; line-height: 1.5;\">\n",
    "Represent whole numbers without any fractional part. They can be positive, negative, or zero.\n",
    "</div>\n",
    "<div style=\"width: 4%;\">\n",
    "</div>\n",
    "<div style=\"width: 48%; line-height: 1.3;color: grey;\">\n",
    "Sie stellen Ganzzahlen ohne Bruchteile dar. Sie können positiv, negativ oder Null sein.\n",
    "</div>\n",
    "</div>"
   ]
  },
  {
   "cell_type": "code",
   "execution_count": 37,
   "metadata": {},
   "outputs": [
    {
     "name": "stdout",
     "output_type": "stream",
     "text": [
      "10\n",
      "-5\n",
      "0\n"
     ]
    }
   ],
   "source": [
    "x = 10  # Positive integer\n",
    "y = -5  # Negative integer\n",
    "z = 0   # Zero\n",
    "\n",
    "print(x)\n",
    "print(y)\n",
    "print(z)"
   ]
  },
  {
   "cell_type": "markdown",
   "metadata": {},
   "source": [
    "## Floating-point (`float`)]"
   ]
  },
  {
   "cell_type": "markdown",
   "metadata": {},
   "source": [
    "<div style=\"display: flex; justify-content: space-between;\">\n",
    "<div style=\"width: 48%; line-height: 1.5;\">\n",
    "Represent real numbers with a fractional part. They are used to handle decimal values.\n",
    "</div>\n",
    "<div style=\"width: 4%;\">\n",
    "</div>\n",
    "<div style=\"width: 48%; line-height: 1.3;color: grey;\">\n",
    "Sie stellen reelle Zahlen mit einem Bruchteil dar. Sie werden verwendet, um Dezimalwerte zu verarbeiten.\n",
    "</div>\n",
    "</div>"
   ]
  },
  {
   "cell_type": "code",
   "execution_count": 41,
   "metadata": {},
   "outputs": [
    {
     "name": "stdout",
     "output_type": "stream",
     "text": [
      "3.14\n",
      "-2.718\n",
      "0.0\n",
      "1.7380952380952381\n"
     ]
    }
   ],
   "source": [
    "a = 3.14        # Positive float\n",
    "b = -2.718      # Negative float\n",
    "c = 0.0         # Zero float\n",
    "d = 73/42       # Rational number\n",
    "\n",
    "print(a)\n",
    "print(b)\n",
    "print(c)\n",
    "print(d)"
   ]
  },
  {
   "cell_type": "markdown",
   "metadata": {},
   "source": [
    "<div style=\"text-align: center;\">\n",
    "    <img src=\"https://imgs.xkcd.com/comics/large_number_formats.png\" style=\"width: 60%; max-width: 350px;\">\n",
    "</div>"
   ]
  },
  {
   "cell_type": "markdown",
   "metadata": {},
   "source": [
    "<div style=\"display: flex; justify-content: space-between;\">\n",
    "<div style=\"width: 48%; line-height: 1.5;\">\n",
    "\n",
    "####  Exponential notation\n",
    "\n",
    "In chemistry we often deal with either very small (e.g., Planck's constant) or very large numbers (e.g., Avogadro's number) . \n",
    "\n",
    "To specify these we make use exponential notation, where Planck's constant is written `6.626e-34`, and the Avogadro's number is `6.022e23`. \n",
    "\n",
    "Numbers written in exponential notation are always floating-point (`float`).\n",
    "</div>\n",
    "<div style=\"width: 4%;\">\n",
    "</div>\n",
    "<div style=\"width: 48%; line-height: 1.3;color: grey;\">\n",
    "\n",
    "####  Exponentialschreibweise\n",
    "\n",
    "In der Chemie beschäftigen wir uns häufig entweder mit sehr kleinen (z.B. die Planck-Konstante) oder sehr großen Zahlen (z.B. die Avogadro-Konstante). \n",
    "\n",
    "Um diese anzugeben, verwenden wir die Exponentialschreibweise, wobei die Planck-Konstante als `6.626e-34` geschrieben wird und die Avogadro-Konstante als `6.022e23`. \n",
    "\n",
    "Zahlen, die in Exponentialschreibweise dargestellt werden, sind immer Gleitkommazahlen (`float`).\n",
    "\n",
    "</div>\n",
    "</div>"
   ]
  },
  {
   "cell_type": "code",
   "execution_count": 42,
   "metadata": {},
   "outputs": [
    {
     "data": {
      "image/png": "[encoded data removed]",
      "text/latex": [
       "$\\displaystyle 400000.0$"
      ],
      "text/plain": [
       "400000.0"
      ]
     },
     "execution_count": 42,
     "metadata": {},
     "output_type": "execute_result"
    }
   ],
   "source": [
    "# Using exponential notation: 4e5 = 4x10^5 = 400000\n",
    "\n",
    "4e5"
   ]
  },
  {
   "cell_type": "markdown",
   "metadata": {},
   "source": [
    "## Complex Numbers (`complex`)"
   ]
  },
  {
   "cell_type": "markdown",
   "metadata": {},
   "source": [
    "<div style=\"display: flex; justify-content: space-between;\">\n",
    "<div style=\"width: 48%; line-height: 1.5;\">\n",
    "\n",
    "Represent numbers with a real part and an imaginary part. Complex numbers are written in the form `a + bj`, where `a` is the real part and `b` is the imaginary part.\n",
    "</div>\n",
    "<div style=\"width: 4%;\">\n",
    "</div>\n",
    "<div style=\"width: 48%; line-height: 1.5;color: grey;\">\n",
    "\n",
    "Sie stellen Zahlen mit einem Realteil und einem Imaginärteil dar. Komplexe Zahlen werden in der Form `a + bj` geschrieben, wobei `a` für den Realteil und `b` für den Imaginärteil steht.\n",
    "</div>\n",
    "</div>"
   ]
  },
  {
   "cell_type": "code",
   "execution_count": null,
   "metadata": {},
   "outputs": [],
   "source": [
    "p = 3 + 4j  # Real part is 3, imaginary part is 4\n",
    "q = -1 - 2j # Real part is -1, imaginary part is -2"
   ]
  },
  {
   "cell_type": "markdown",
   "metadata": {},
   "source": [
    "<div style=\"display: flex; justify-content: space-between;\">\n",
    "<div style=\"width: 48%; line-height: 1.5;\">\n",
    "\n",
    "### Key Properties and Operations \n",
    "</div>\n",
    "<div style=\"width: 4%;\">\n",
    "</div>\n",
    "<div style=\"width: 48%; line-height: 1.3;color: grey;\">\n",
    "\n",
    "### Hauptfunktionen und Operationen \n",
    "</div>\n",
    "</div>"
   ]
  },
  {
   "cell_type": "markdown",
   "metadata": {},
   "source": [
    "| Operation            | Result                                        | Ergebnis                           |\n",
    "|----------------------|-----------------------------------------------|---------------------------------------------|\n",
    "| `x + y`              | sum of $x$ and $y$                               | Summe von $x$ und $y$                          |\n",
    "| `x - y`              | difference of $x$ and $y$                        | Differenz von $x$ und $y$                      |\n",
    "| `x * y`              | product of $x$ and $y$                           | Produkt von $x$ und $y$                        |\n",
    "| `x ** y`             | $x$ to the power $y$                             | $x$ hoch $y$                                   |\n",
    "| `x / y`              | quotient of $x$ and $y$                          | Quotient von $x$ und $y$                       |\n",
    "| `x // y`             | integer division (aka floor division) of $x$ and $y$     | Ganzzahlige Division von $x$ und $y$         |\n",
    "| `x % y`              | remainder (aka modulus $mod$), of $x$ / $y$          | Rest ($mod$) von $x$ / $y$                             |\n",
    "| `divmod(x, y)`       | the pair (`x // y`, `x % y`)                    | Das Paar (`x // y`, `x % y`)                  |\n",
    "| `-x`                 | $x$ negated                                    | $x$ negiert                                   |\n",
    "| `abs(x)`             | absolute value (magnitude), of $x$             | Absoluter Wert (Betrag) von $x$           |\n",
    "| `int(x)`             | $x$ converted to integer                       | $x$ in Ganzzahl umgewandelt                  |\n",
    "| `float(x)`           | $x$ converted to floating point                 | $x$ in Gleitkommazahl umgewandelt            |\n",
    "| `complex(re, im)`    | a complex number with real part $re$, imaginary part $im$ ($im$ defaults to zero) | Eine komplexe Zahl mit dem Realteil $re$, Imaginärteil $im$ ($im$ standardmäßig null) |\n",
    "| `c.conjugate()`      | conjugate of the complex number $c$            | Konjugierte der komplexen Zahl $c$           |"
   ]
  },
  {
   "cell_type": "markdown",
   "metadata": {},
   "source": [
    "<div style=\"display: flex; justify-content: space-between;\">\n",
    "<div style=\"width: 48%; line-height: 1.5;\">\n",
    "\n",
    "About complex numbers:\n",
    "https://mathworld.wolfram.com/topics/ComplexNumbers.html\n",
    "</div>\n",
    "<div style=\"width: 4%;\">\n",
    "</div>\n",
    "<div style=\"width: 48%; line-height: 1.3;color: grey;\">\n",
    "\n",
    "Über komplexe Zahlen:\n",
    "https://mathworld.wolfram.com/topics/ComplexNumbers.html\n",
    "</div>\n",
    "</div>"
   ]
  },
  {
   "cell_type": "markdown",
   "metadata": {},
   "source": [
    "<div class=\"alert alert-block alert-light\">\n",
    "\n",
    "<div style=\"display: flex; justify-content: space-between;\">\n",
    "<div style=\"width: 48%; line-height: 1.5;\">\n",
    "\n",
    "#### Exercise\n",
    "\n",
    "Insert as many code cells as you need and apply the various mathematical operations to: \n",
    "\n",
    "- Two integers, $10$ and $6$.\n",
    "- Two floating-point numbers, $3.14$ and $2.71$. \n",
    "- Two complex numbers, $3+4j$ and $1-2j$.\n",
    "\n",
    "Comment on your code snippets. Alternatively, for a more polished presentation, use markdown syntax to explain your steps.\n",
    "\n",
    "- What is the difference between division and integer division?\n",
    "- What is the remainder? \n",
    "- Are all operations supported for every number type?\n",
    "\n",
    "</div>\n",
    "<div style=\"width: 4%;\">\n",
    "</div>\n",
    "<div style=\"width: 48%; line-height: 1.3;color: grey;\">\n",
    "\n",
    "#### Übung\n",
    "\n",
    "Fügen Sie so viele Code Zellen ein, wie Sie benötigen, und wenden Sie die verschiedenen mathematischen Operationen an:\n",
    "\n",
    "- Zwei ganze Zahlen, $10$ und $6$.\n",
    "- Zwei Gleitkommazahlen, $3.14$ und $2.71$.\n",
    "- Zwei komplexe Zahlen, $3+4j$ und $1-2j$.\n",
    "\n",
    "Kommentieren Sie Ihre Codeschnipsel. Für eine bessere Präsentation können Sie auch die Markdown-Syntax verwenden, um Ihre Schritte zu erklären.\n",
    "\n",
    "- Was ist der Unterschied zwischen Division und ganzzahliger Division?\n",
    "- Was ist der Rest?\n",
    "- Werden alle Operationen für jeden Zahlentyp unterstützt?\n",
    "\n",
    "</div>\n",
    "</div>"
   ]
  },
  {
   "cell_type": "code",
   "execution_count": null,
   "metadata": {},
   "outputs": [],
   "source": [
    "#countdown\n",
    "countdown_timer(15)"
   ]
  },
  {
   "cell_type": "markdown",
   "metadata": {},
   "source": [
    "<details>\n",
    "  <summary>Click to reveal the solution</summary>\n",
    "\n",
    "``` python\n",
    "# Integer\n",
    "x = 10\n",
    "y = 6\n",
    "print(\"Integer Operations:\")\n",
    "print(\"Addition:\", x + y)\n",
    "print(\"Subtraction:\", x - y)\n",
    "print(\"Multiplication:\", x * y)\n",
    "print(\"Division:\", x / y)   \n",
    "print(\"Integer Division:\", x // y)\n",
    "print(\"Modulus:\", x % y)\n",
    "print(\"Exponentiation:\", x ** y)\n",
    "\n",
    "# Float\n",
    "a = 3.14\n",
    "b = 2.71\n",
    "print(\"\\nFloating-Point Operations:\")\n",
    "print(\"Addition:\", a + b)\n",
    "print(\"Subtraction:\", a - b)\n",
    "print(\"Multiplication:\", a * b)\n",
    "print(\"Division:\", a / b)\n",
    "print(\"Integer Division:\", a // b)\n",
    "print(\"Modulus:\", a % b)\n",
    "print(\"Exponentiation:\", a ** b)\n",
    "\n",
    "# Complex Numbers\n",
    "p = 3 + 4j\n",
    "q = 1 - 2j\n",
    "print(\"\\nComplex Number Operations:\")\n",
    "print(\"Addition:\", p + q)\n",
    "print(\"Subtraction:\", p - q)\n",
    "print(\"Multiplication:\", p * q)\n",
    "print(\"Division:\", p / q)\n",
    "#print(\"Integer Division:\", p // q)              # TypeError: unsupported operand type(s) for //: 'complex' and 'complex'\n",
    "#print(\"Modulus:\", p % q)                        # TypeError: unsupported operand type(s) for %: 'complex' and 'complex'\n",
    "print(\"Exponentiation:\", p ** q)\n",
    "print(\"Conjugate of p:\", p.conjugate())\n",
    "\n",
    "Integer Operations:\n",
    "Addition: 16\n",
    "Subtraction: 4\n",
    "Multiplication: 60\n",
    "Division: 1.6666666666666667\n",
    "Integer Division: 1\n",
    "Modulus: 4\n",
    "Exponentiation: 1000000\n",
    "\n",
    "Floating-Point Operations:\n",
    "Addition: 5.85\n",
    "Subtraction: 0.43000000000000016\n",
    "Multiplication: 8.5094\n",
    "Division: 1.1586715867158672\n",
    "Integer Division: 1.0\n",
    "Modulus: 0.43000000000000016\n",
    "Exponentiation: 22.21668954600232\n",
    "\n",
    "Complex Number Operations:\n",
    "Addition: (4+2j)\n",
    "Subtraction: (2+6j)\n",
    "Multiplication: (11-2j)\n",
    "Division: (-1+2j)\n",
    "Exponentiation: (-21.083139690689016-24.00021070941257j)\n",
    "Conjugate of p: (3-4j)\n",
    "```\n",
    "\n",
    "</details>"
   ]
  },
  {
   "cell_type": "markdown",
   "metadata": {},
   "source": [
    "<div style=\"display: flex; justify-content: space-between;\">\n",
    "<div style=\"width: 48%; line-height: 1.5;\">\n",
    "\n",
    "The result `3.14 - 2.71 = 0.43000000000000016` occurs due to the way floating-point numbers are represented internally in computers.\n",
    "\n",
    "Floating-point numbers are stored in a format that can't precisely represent all decimal numbers.\n",
    "\n",
    "Python (and most programming languages) uses the IEEE 754 standard for floating-point arithmetic, which approximates real numbers with a finite number of binary digits.\n",
    "\n",
    "Some numbers cannot be represented exactly in binary, similar to how `10/6` cannot be represented exactly in decimal as it becomes a repeating decimal, $1.\\bar{6}$.\n",
    "\n",
    "As a result, when Python calculates `3.14 - 2.71`, it performs the subtraction on slightly imprecise representations of those numbers, leading to the tiny difference seen in the output.\n",
    "\n",
    "</div>\n",
    "\n",
    "<div style=\"width: 4%;\">\n",
    "</div>\n",
    "\n",
    "<div style=\"width: 48%; line-height: 1.5;color: grey;\">\n",
    "\n",
    "Das Ergebnis `3.14 - 2.71 = 0.43000000000000016` ergibt sich aus der Art und Weise, wie Fließkommazahlen in Computern intern dargestellt werden.\n",
    "\n",
    "Fließkommazahlen werden in einem Format gespeichert, das nicht alle Dezimalzahlen präzise darstellen kann.\n",
    "\n",
    "Python (und die meisten Programmiersprachen) verwenden den IEEE 754-Standard für Fließkomma-Arithmetik, der reelle Zahlen mit einer endlichen Anzahl von Binärziffern approximiert.\n",
    "\n",
    "Einige Zahlen können nicht exakt in Binärzahlen dargestellt werden, ähnlich wie `10/6` nicht exakt in Dezimalzahlen dargestellt werden kann, da sie zu einer periodischen Dezimalzahl wird, $1.\\bar{6}$.\n",
    "\n",
    "Wenn Python also `3.14 - 2.71` berechnet, führt es die Subtraktion auf leicht ungenauen Darstellungen dieser Zahlen durch, was zu dem winzigen Unterschied in der Ausgabe führt.\n",
    "\n",
    "</div>\n",
    "</div>"
   ]
  },
  {
   "cell_type": "markdown",
   "metadata": {},
   "source": [
    "<div style=\"display: flex; justify-content: space-between;\">\n",
    "<div style=\"width: 48%; line-height: 1.5;\">\n",
    "\n",
    "The same happens with `3.14 // 2.71`.\n",
    "\n",
    "Internally, Python calculates:\n",
    "\n",
    "$$\n",
    "\\frac{3.14}{2.71} \\approx 1.15867\n",
    "$$\n",
    "\n",
    "Then, the remainder (modulus) is computed as:\n",
    "$$\n",
    "3.14 - (1 \\times 2.71) = 3.14 - 2.71 = 0.43000000000000016\n",
    "$$\n",
    "\n",
    "which is the subtraction we have just seen.\n",
    "\n",
    "</div>\n",
    "\n",
    "<div style=\"width: 4%;\">\n",
    "</div>\n",
    "\n",
    "<div style=\"width: 48%; line-height: 1.5;color: grey;\">\n",
    "\n",
    "Dasselbe geschieht mit `3.14 // 2.71`.\n",
    "\n",
    "Intern rechnet Python:\n",
    "\n",
    "$$\n",
    "\\frac{3.14}{2.71} \\approx 1.15867\n",
    "$$\n",
    "\n",
    "Dann wird der Rest (Modul) wie folgt berechnet:\n",
    "\n",
    "$$\n",
    "3.14 - (1 \\times 2.71) = 3.14 - 2.71 = 0.43000000000000016\n",
    "$$\n",
    "\n",
    "das ist die Subtraktion, die wir gerade gesehen haben.\n",
    "\n",
    "</div>\n",
    "</div>"
   ]
  },
  {
   "cell_type": "markdown",
   "metadata": {},
   "source": [
    "## Boolean (`bool`)"
   ]
  },
  {
   "cell_type": "markdown",
   "metadata": {},
   "source": [
    "<div style=\"display: flex; justify-content: space-between;\">\n",
    "<div style=\"width: 48%; line-height: 1.5;\">\n",
    "\n",
    "A subtype of integers representing truth values. There are only two boolean values: `True` and `False`.\n",
    "\n",
    "The `==` operator is used to compare two values for equality: It checks whether the values on the left and right sides of the operator are equal. If they are equal, the expression evaluates to `True`; if not, it evaluates to `False`.\n",
    "\n",
    "**The *equality* operator is `==`: two equals signs, not to be confused with the single equals, `=`, used for assignment.**\n",
    "</div>\n",
    "<div style=\"width: 4%;\">\n",
    "</div>\n",
    "<div style=\"width: 48%; line-height: 1.5;color: grey;\">\n",
    "\n",
    "Ein Subtyp von Ganzzahlen, der Wahrheitswerte darstellt. Es gibt nur zwei boolesche Werte: `True` (\"Wahr\") und `False` (\"Falsch\").\n",
    "\n",
    "Der Operator `==` wird verwendet, um zwei Werte auf Gleichheit zu vergleichen: Er prüft, ob die Werte auf der linken und rechten Seite des Operators gleich sind. Wenn sie gleich sind, wird der Ausdruck als `True` ausgewertet; wenn nicht, wird er als `False` ausgewertet.\n",
    "\n",
    "**Der *Gleichheits*-Operator ist `==`: zwei Gleichheitszeichen, nicht zu verwechseln mit dem einzelnen Gleichheitszeichen, `=`, das für Zuweisungen verwendet wird.**\n",
    "</div>\n",
    "</div>"
   ]
  },
  {
   "cell_type": "code",
   "execution_count": null,
   "metadata": {},
   "outputs": [],
   "source": [
    "2 + 2 == 4      # Boolean True"
   ]
  },
  {
   "cell_type": "code",
   "execution_count": null,
   "metadata": {},
   "outputs": [],
   "source": [
    "2 + 2 == 5      # Boolean False"
   ]
  },
  {
   "cell_type": "markdown",
   "metadata": {},
   "source": [
    "<div style=\"display: flex; justify-content: space-between;\">\n",
    "<div style=\"width: 48%; line-height: 1.5;\">\n",
    "\n",
    "In addition to the equality operator, you find the following comparison operations, too:\n",
    "</div>\n",
    "<div style=\"width: 4%;\">\n",
    "</div>\n",
    "<div style=\"width: 48%; line-height: 1.3;color: grey;\">\n",
    "\n",
    "Neben dem Gleichheitsoperator gibt es auch noch die folgenden Vergleichsoperationen:\n",
    "</div>\n",
    "</div>"
   ]
  },
  {
   "cell_type": "markdown",
   "metadata": {},
   "source": [
    "| Operation | Meaning                        | Bedeutung                   |\n",
    "|-----------|--------------------------------|--------------------------------------|\n",
    "| `==`      | equal                          | gleich                               |\n",
    "| `!=`      | not equal                     | ungleich                             |\n",
    "| `<`       | strictly less than             | strikt kleiner als                   |\n",
    "| `<=`      | less than or equal            | kleiner oder gleich                  |\n",
    "| `>`       | strictly greater than          | strikt größer als                    |\n",
    "| `>=`      | greater than or equal         | größer oder gleich                   |"
   ]
  },
  {
   "cell_type": "markdown",
   "metadata": {},
   "source": [
    "<div style=\"display: flex; justify-content: space-between;\">\n",
    "<div style=\"width: 48%; line-height: 1.5;\">\n",
    "\n",
    "Comparison operators are like questions that help a program decide what to do next (truth value testing). They compare two values and check if one is greater than, less than, or equal to the other. \n",
    "\n",
    "Based on the answer (which is either `True` or `False`), the program can choose to perform certain actions. <br>We will revisit this concept in the context of loops and conditional statements.\n",
    "\n",
    "</div>\n",
    "<div style=\"width: 4%;\">\n",
    "</div>\n",
    "<div style=\"width: 48%; line-height: 1.5;color: grey;\">\n",
    "\n",
    "Vergleichsoperatoren sind wie Fragen, die einem Programm helfen zu entscheiden, was als nächstes zu tun ist (Wahrheitswertprüfung). Sie vergleichen zwei Werte und prüfen, ob der eine größer, kleiner oder gleich dem anderen ist. \n",
    "\n",
    "Anhand der Antwort (die entweder `True` oder `False` ist) kann das Programm entscheiden, ob es bestimmte Aktionen durchführen will. Wir werden dieses Konzept im Zusammenhang mit Schleifen und bedingten Anweisungen wieder aufgreifen.\n",
    "</div>\n",
    "</div>"
   ]
  },
  {
   "cell_type": "markdown",
   "metadata": {},
   "source": [
    "<div class=\"alert alert-block alert-light\">\n",
    "\n",
    "<div style=\"display: flex; justify-content: space-between;\">\n",
    "<div style=\"width: 48%; line-height: 1.5;\">\n",
    "\n",
    "#### Exercise\n",
    " \n",
    "Evaluate the truthfulness of the following comparisons:\n",
    "\n",
    "</div>\n",
    "<div style=\"width: 4%;\">\n",
    "</div>\n",
    "<div style=\"width: 48%; line-height: 1.5;color: grey;\">\n",
    "\n",
    "#### Übung\n",
    "\n",
    "Evaluieren Sie den Wahrheitsgehalt der folgenden Vergleiche:\n",
    "\n",
    "</div>\n",
    "</div>\n",
    "\n",
    "<div style=\"text-align: center;\">\n",
    "\n",
    "a) $3^2 \\times 2 - 5 < \\dfrac{4^2}{2}$\n",
    "\n",
    "b) $2^5 - 3^3 == 7^2 - 20$\n",
    "\n",
    "c) $2^4 - 5 == 11$\n",
    "\n",
    "d) $(6 \\times 3) + 12 \\leq 5^2$\n",
    "\n",
    "e) $9^2 - 5^3 \\neq 2^7 - 1$\n",
    "\n",
    "f) $0.1 + 0.2 == 0.3$\n",
    "\n",
    "g) $0.1^2 == 0.01$\n",
    "</div>\n",
    "\n",
    "<div style=\"display: flex; justify-content: space-between;\">\n",
    "<div style=\"width: 48%; line-height: 1.5;\">\n",
    " \n",
    "Do you notice something strange?\n",
    "\n",
    "</div>\n",
    "<div style=\"width: 4%;\">\n",
    "</div>\n",
    "<div style=\"width: 48%; line-height: 1.5;color: grey;\">\n",
    "\n",
    "Fällt Ihnen etwas Merkwürdiges auf?\n",
    "\n",
    "</div>\n",
    "</div>"
   ]
  },
  {
   "cell_type": "code",
   "execution_count": null,
   "metadata": {},
   "outputs": [],
   "source": [
    "countdown_timer(10)"
   ]
  },
  {
   "cell_type": "code",
   "execution_count": 37,
   "metadata": {},
   "outputs": [
    {
     "data": {
      "text/plain": [
       "False"
      ]
     },
     "execution_count": 37,
     "metadata": {},
     "output_type": "execute_result"
    }
   ],
   "source": [
    "1.01 - 0.99 == 0.02"
   ]
  },
  {
   "cell_type": "markdown",
   "metadata": {},
   "source": [
    "<div style=\"display: flex; justify-content: space-between;\">\n",
    "<div style=\"width: 48%; line-height: 1.5;\">\n",
    "\n",
    "### What happened?\n",
    "\n",
    "It is tempting to compare mathematical expressions for equality that are equal on paper. \n",
    "\n",
    "However, we now know that computers have only a finite representation of numbers and that in particular decimal numbers are converted to binary numbers. \n",
    "\n",
    "For this reason a rather harmless expression like *f)* or *g)* can yield quite an unexpected result. Please never compare floating point expressions for equality with the equality operator. \n",
    "\n",
    "We will see an alternative in a few minutes.\n",
    "\n",
    "</div>\n",
    "<div style=\"width: 4%;\">\n",
    "</div>\n",
    "<div style=\"width: 48%; line-height: 1.5;color: grey;\">\n",
    "\n",
    "### Was ist passiert?\n",
    "\n",
    "Es ist verführerisch, mathematische Ausdrücke auf Gleichheit zu überprüfen, die auf dem Papier gleich sind. Wir müssen allerdings beachten, dass Computer nur eine begrenzte Darstellung von Zahlen besitzen und insbesondere alle Dezimalzahlen erst in Binärzahlen umgewandelt werden müssen. \n",
    "<br>\n",
    "Aus diesem Grund kann schon ein recht harmloser Ausdruck wie *f)* oder *g)* ein unerwartetes Ergebnis liefern. Bitte niemals Gleitkommazahlausdrücke mittels des Gleichheitsoperators auf Gleichheit überprüfen. \n",
    "<br>\n",
    "In wenigen Minuten werden wir eine Alternative sehen.\n",
    "\n",
    "</div>\n",
    "</div>"
   ]
  },
  {
   "cell_type": "markdown",
   "metadata": {},
   "source": [
    "<div style=\"display: flex; justify-content: space-between;\">\n",
    "<div style=\"width: 48%; line-height: 1.5;\">\n",
    "\n",
    "#### Fun fact\n",
    "\n",
    "In Python, *booleans are treated as integers*: `True` is equivalent to `1` and `False` is equivalent to `0`. \n",
    "This means that when performing arithmetic operations, `True` and `False` can be used like integers. \n",
    "\n",
    "For example, the expression `True + True` evaluates to `2`, while `True + False` evaluates to `1`.\n",
    "\n",
    "This can be very convenient, for example, when counting true or false values in the columns of a data table. \n",
    "</div>\n",
    "<div style=\"width: 4%;\">\n",
    "</div>\n",
    "<div style=\"width: 48%; line-height: 1.5;color: grey;\">\n",
    "\n",
    "#### Spaß Fakt \n",
    "\n",
    "*In Python werden Boolesche Werte wie ganze Zahlen behandelt*, wobei `True` gleich `1` und `False` gleich `0` ist. Das bedeutet, dass bei der Durchführung von arithmetischen Operationen `True` und `False` wie ganze Zahlen verwendet werden können. \n",
    "\n",
    "Zum Beispiel ergibt der Ausdruck `True + True` den Wert `2`, während `True + False` den Wert `1` ergibt.\n",
    "\n",
    "Dies kann sehr praktisch sein, wenn man zum Beispiel wahre oder falsche Werte in den Spalten einer Datentabelle zählen will.\n",
    "</div>\n",
    "</div>"
   ]
  },
  {
   "cell_type": "markdown",
   "metadata": {},
   "source": [
    "<div style=\"display: flex; justify-content: space-between;\">\n",
    "<div style=\"width: 48%; line-height: 1.5;\">\n",
    "\n",
    "#### Everything is an object, and every object has a type\n",
    "\n",
    "If we are not sure if a number is an integer, floating point, or complex, we can use the `type()` command:\n",
    "</div>\n",
    "<div style=\"width: 4%;\">\n",
    "</div>\n",
    "<div style=\"width: 48%; line-height: 1.5;color: grey;\">\n",
    "\n",
    "#### Alles ist ein Objekt, und jedes Objekt hat einen Typ\n",
    "\n",
    "Wenn wir nicht sicher sind, ob eine Zahl eine Ganzzahl, eine Fließkommazahl oder eine komplexe Zahl ist, können wir den Befehl `type()` verwenden:\n",
    "</div>\n",
    "</div>"
   ]
  },
  {
   "cell_type": "code",
   "execution_count": 14,
   "metadata": {},
   "outputs": [
    {
     "data": {
      "text/plain": [
       "int"
      ]
     },
     "execution_count": 14,
     "metadata": {},
     "output_type": "execute_result"
    }
   ],
   "source": [
    "type(4)"
   ]
  },
  {
   "cell_type": "code",
   "execution_count": null,
   "metadata": {},
   "outputs": [],
   "source": [
    "type(4.0)"
   ]
  },
  {
   "cell_type": "code",
   "execution_count": 43,
   "metadata": {},
   "outputs": [
    {
     "data": {
      "text/plain": [
       "bool"
      ]
     },
     "execution_count": 43,
     "metadata": {},
     "output_type": "execute_result"
    }
   ],
   "source": [
    "type(4 == 8)"
   ]
  },
  {
   "cell_type": "markdown",
   "metadata": {},
   "source": [
    "<div style=\"display: flex; justify-content: space-between;\">\n",
    "<div style=\"width: 48%; line-height: 1.5;\">\n",
    "\n",
    "Here are a few data types that we will see today and in the next lectures:\n",
    "</div>\n",
    "<div style=\"width: 4%;\">\n",
    "</div>\n",
    "<div style=\"width: 48%; line-height: 1.5;color: grey;\">\n",
    "\n",
    "Hier sind einige Datentypen, die wir heute und in den nächsten Vorlesungen sehen werden:\n",
    "</div>\n",
    "</div>"
   ]
  },
  {
   "cell_type": "markdown",
   "metadata": {},
   "source": [
    "| Data Type      | Command Example         |\n",
    "|---------------|--------------------------|\n",
    "| `int`         | `type(5)`                |\n",
    "| `float`       | `type(5.0)`              |\n",
    "| `complex`     | `type(5 + 3j)`           |\n",
    "| `bool`        | `type(True)`             |\n",
    "| `module`      | `type(math)`             |\n",
    "| `str`         | `type(\"hello\")`          |\n",
    "| `list`        | `type([1, 2, 3])`        |\n",
    "| `tuple`       | `type((1, 2, 3))`        |\n",
    "| `set`         | `type({1, 2, 3})`        |\n",
    "| `dict`        | `type({\"key\": \"value\"})` |\n",
    "| `range`       | `type(range(5))`         |\n",
    "| `function`    | `type(factorial)`        |\n",
    "| `NoneType`    | `type(None)`             |"
   ]
  },
  {
   "cell_type": "markdown",
   "metadata": {},
   "source": [
    "<div style=\"display: flex; justify-content: space-between;\">\n",
    "<div style=\"width: 48%; line-height: 1.5;\">\n",
    "\n",
    "## More complex mathematical operations\n",
    "\n",
    "One of the best aspects of Python is its extensive collection of high-quality custom libraries. \n",
    "Some of these libraries are part of the \"standard library,\" meaning they are available wherever Python is installed. \n",
    "Other libraries can be easily added, even if they are not included with Python by default. \n",
    "In either case, we access these libraries through imports. \n",
    "\n",
    "For example, if we wish to use more complicated mathematical operators, such as trigonometric functions, we need to import the `math` module.\n",
    "</div>\n",
    "<div style=\"width: 4%;\">\n",
    "</div>\n",
    "<div style=\"width: 48%; line-height: 1.5;color: grey;\">\n",
    "\n",
    "## Kompliziertere Operationen\n",
    "\n",
    "Einer der besten Aspekte von Python ist seine umfangreiche Sammlung von qualitativ hochwertigen benutzerdefinierten Bibliotheken. \n",
    "Einige dieser Bibliotheken sind Teil der \"Standardbibliothek\", d. h. sie sind überall verfügbar, wo Python installiert ist. \n",
    "Andere Bibliotheken können leicht hinzugefügt werden, auch wenn sie nicht standardmäßig in Python enthalten sind. \n",
    "In jedem Fall greifen wir auf diese Bibliotheken über Importe zu. \n",
    "\n",
    "Wenn wir kompliziertere mathematische Operatoren, wie trigonometrische Funktionen, verwenden wollen, müssen wir das Modul `math` importieren.\n",
    "</div>\n",
    "</div>"
   ]
  },
  {
   "cell_type": "code",
   "execution_count": 14,
   "metadata": {},
   "outputs": [
    {
     "data": {
      "text/plain": [
       "module"
      ]
     },
     "execution_count": 14,
     "metadata": {},
     "output_type": "execute_result"
    }
   ],
   "source": [
    "import math     # only needs to be loaded once per notebook\n",
    "\n",
    "type(math)"
   ]
  },
  {
   "cell_type": "markdown",
   "metadata": {},
   "source": [
    "<div style=\"display: flex; justify-content: space-between;\">\n",
    "<div style=\"width: 48%; line-height: 1.5;\">\n",
    "\n",
    "*For convenience, all necessary modules are typically imported at the beginning of the notebook.*\n",
    "\n",
    "</div>\n",
    "<div style=\"width: 4%;\">\n",
    "</div>\n",
    "<div style=\"width: 48%; line-height: 1.5;color: grey;\">\n",
    "\n",
    "*Der Einfachheit halber werden alle erforderlichen Module in der Regel zu Beginn des Notebooks importiert.*\n",
    "\n",
    "</div>\n",
    "</div>"
   ]
  },
  {
   "cell_type": "code",
   "execution_count": 46,
   "metadata": {},
   "outputs": [
    {
     "name": "stdout",
     "output_type": "stream",
     "text": [
      "Help on module math:\n",
      "\n",
      "NAME\n",
      "    math\n",
      "\n",
      "MODULE REFERENCE\n",
      "    https://docs.python.org/3.10/library/math.html\n",
      "    \n",
      "    The following documentation is automatically generated from the Python\n",
      "    source files.  It may be incomplete, incorrect or include features that\n",
      "    are considered implementation detail and may vary between Python\n",
      "    implementations.  When in doubt, consult the module reference at the\n",
      "    location listed above.\n",
      "\n",
      "DESCRIPTION\n",
      "    This module provides access to the mathematical functions\n",
      "    defined by the C standard.\n",
      "\n",
      "FUNCTIONS\n",
      "    acos(x, /)\n",
      "        Return the arc cosine (measured in radians) of x.\n",
      "        \n",
      "        The result is between 0 and pi.\n",
      "    \n",
      "    acosh(x, /)\n",
      "        Return the inverse hyperbolic cosine of x.\n",
      "    \n",
      "    asin(x, /)\n",
      "        Return the arc sine (measured in radians) of x.\n",
      "        \n",
      "        The result is between -pi/2 and pi/2.\n",
      "    \n",
      "    asinh(x, /)\n",
      "        Return the inverse hyperbolic sine of x.\n",
      "    \n",
      "    atan(x, /)\n",
      "        Return the arc tangent (measured in radians) of x.\n",
      "        \n",
      "        The result is between -pi/2 and pi/2.\n",
      "    \n",
      "    atan2(y, x, /)\n",
      "        Return the arc tangent (measured in radians) of y/x.\n",
      "        \n",
      "        Unlike atan(y/x), the signs of both x and y are considered.\n",
      "    \n",
      "    atanh(x, /)\n",
      "        Return the inverse hyperbolic tangent of x.\n",
      "    \n",
      "    ceil(x, /)\n",
      "        Return the ceiling of x as an Integral.\n",
      "        \n",
      "        This is the smallest integer >= x.\n",
      "    \n",
      "    comb(n, k, /)\n",
      "        Number of ways to choose k items from n items without repetition and without order.\n",
      "        \n",
      "        Evaluates to n! / (k! * (n - k)!) when k <= n and evaluates\n",
      "        to zero when k > n.\n",
      "        \n",
      "        Also called the binomial coefficient because it is equivalent\n",
      "        to the coefficient of k-th term in polynomial expansion of the\n",
      "        expression (1 + x)**n.\n",
      "        \n",
      "        Raises TypeError if either of the arguments are not integers.\n",
      "        Raises ValueError if either of the arguments are negative.\n",
      "    \n",
      "    copysign(x, y, /)\n",
      "        Return a float with the magnitude (absolute value) of x but the sign of y.\n",
      "        \n",
      "        On platforms that support signed zeros, copysign(1.0, -0.0)\n",
      "        returns -1.0.\n",
      "    \n",
      "    cos(x, /)\n",
      "        Return the cosine of x (measured in radians).\n",
      "    \n",
      "    cosh(x, /)\n",
      "        Return the hyperbolic cosine of x.\n",
      "    \n",
      "    degrees(x, /)\n",
      "        Convert angle x from radians to degrees.\n",
      "    \n",
      "    dist(p, q, /)\n",
      "        Return the Euclidean distance between two points p and q.\n",
      "        \n",
      "        The points should be specified as sequences (or iterables) of\n",
      "        coordinates.  Both inputs must have the same dimension.\n",
      "        \n",
      "        Roughly equivalent to:\n",
      "            sqrt(sum((px - qx) ** 2.0 for px, qx in zip(p, q)))\n",
      "    \n",
      "    erf(x, /)\n",
      "        Error function at x.\n",
      "    \n",
      "    erfc(x, /)\n",
      "        Complementary error function at x.\n",
      "    \n",
      "    exp(x, /)\n",
      "        Return e raised to the power of x.\n",
      "    \n",
      "    expm1(x, /)\n",
      "        Return exp(x)-1.\n",
      "        \n",
      "        This function avoids the loss of precision involved in the direct evaluation of exp(x)-1 for small x.\n",
      "    \n",
      "    fabs(x, /)\n",
      "        Return the absolute value of the float x.\n",
      "    \n",
      "    factorial(x, /)\n",
      "        Find x!.\n",
      "        \n",
      "        Raise a ValueError if x is negative or non-integral.\n",
      "    \n",
      "    floor(x, /)\n",
      "        Return the floor of x as an Integral.\n",
      "        \n",
      "        This is the largest integer <= x.\n",
      "    \n",
      "    fmod(x, y, /)\n",
      "        Return fmod(x, y), according to platform C.\n",
      "        \n",
      "        x % y may differ.\n",
      "    \n",
      "    frexp(x, /)\n",
      "        Return the mantissa and exponent of x, as pair (m, e).\n",
      "        \n",
      "        m is a float and e is an int, such that x = m * 2.**e.\n",
      "        If x is 0, m and e are both 0.  Else 0.5 <= abs(m) < 1.0.\n",
      "    \n",
      "    fsum(seq, /)\n",
      "        Return an accurate floating point sum of values in the iterable seq.\n",
      "        \n",
      "        Assumes IEEE-754 floating point arithmetic.\n",
      "    \n",
      "    gamma(x, /)\n",
      "        Gamma function at x.\n",
      "    \n",
      "    gcd(*integers)\n",
      "        Greatest Common Divisor.\n",
      "    \n",
      "    hypot(...)\n",
      "        hypot(*coordinates) -> value\n",
      "        \n",
      "        Multidimensional Euclidean distance from the origin to a point.\n",
      "        \n",
      "        Roughly equivalent to:\n",
      "            sqrt(sum(x**2 for x in coordinates))\n",
      "        \n",
      "        For a two dimensional point (x, y), gives the hypotenuse\n",
      "        using the Pythagorean theorem:  sqrt(x*x + y*y).\n",
      "        \n",
      "        For example, the hypotenuse of a 3/4/5 right triangle is:\n",
      "        \n",
      "            >>> hypot(3.0, 4.0)\n",
      "            5.0\n",
      "    \n",
      "    isclose(a, b, *, rel_tol=1e-09, abs_tol=0.0)\n",
      "        Determine whether two floating point numbers are close in value.\n",
      "        \n",
      "          rel_tol\n",
      "            maximum difference for being considered \"close\", relative to the\n",
      "            magnitude of the input values\n",
      "          abs_tol\n",
      "            maximum difference for being considered \"close\", regardless of the\n",
      "            magnitude of the input values\n",
      "        \n",
      "        Return True if a is close in value to b, and False otherwise.\n",
      "        \n",
      "        For the values to be considered close, the difference between them\n",
      "        must be smaller than at least one of the tolerances.\n",
      "        \n",
      "        -inf, inf and NaN behave similarly to the IEEE 754 Standard.  That\n",
      "        is, NaN is not close to anything, even itself.  inf and -inf are\n",
      "        only close to themselves.\n",
      "    \n",
      "    isfinite(x, /)\n",
      "        Return True if x is neither an infinity nor a NaN, and False otherwise.\n",
      "    \n",
      "    isinf(x, /)\n",
      "        Return True if x is a positive or negative infinity, and False otherwise.\n",
      "    \n",
      "    isnan(x, /)\n",
      "        Return True if x is a NaN (not a number), and False otherwise.\n",
      "    \n",
      "    isqrt(n, /)\n",
      "        Return the integer part of the square root of the input.\n",
      "    \n",
      "    lcm(*integers)\n",
      "        Least Common Multiple.\n",
      "    \n",
      "    ldexp(x, i, /)\n",
      "        Return x * (2**i).\n",
      "        \n",
      "        This is essentially the inverse of frexp().\n",
      "    \n",
      "    lgamma(x, /)\n",
      "        Natural logarithm of absolute value of Gamma function at x.\n",
      "    \n",
      "    log(...)\n",
      "        log(x, [base=math.e])\n",
      "        Return the logarithm of x to the given base.\n",
      "        \n",
      "        If the base not specified, returns the natural logarithm (base e) of x.\n",
      "    \n",
      "    log10(x, /)\n",
      "        Return the base 10 logarithm of x.\n",
      "    \n",
      "    log1p(x, /)\n",
      "        Return the natural logarithm of 1+x (base e).\n",
      "        \n",
      "        The result is computed in a way which is accurate for x near zero.\n",
      "    \n",
      "    log2(x, /)\n",
      "        Return the base 2 logarithm of x.\n",
      "    \n",
      "    modf(x, /)\n",
      "        Return the fractional and integer parts of x.\n",
      "        \n",
      "        Both results carry the sign of x and are floats.\n",
      "    \n",
      "    nextafter(x, y, /)\n",
      "        Return the next floating-point value after x towards y.\n",
      "    \n",
      "    perm(n, k=None, /)\n",
      "        Number of ways to choose k items from n items without repetition and with order.\n",
      "        \n",
      "        Evaluates to n! / (n - k)! when k <= n and evaluates\n",
      "        to zero when k > n.\n",
      "        \n",
      "        If k is not specified or is None, then k defaults to n\n",
      "        and the function returns n!.\n",
      "        \n",
      "        Raises TypeError if either of the arguments are not integers.\n",
      "        Raises ValueError if either of the arguments are negative.\n",
      "    \n",
      "    pow(x, y, /)\n",
      "        Return x**y (x to the power of y).\n",
      "    \n",
      "    prod(iterable, /, *, start=1)\n",
      "        Calculate the product of all the elements in the input iterable.\n",
      "        \n",
      "        The default start value for the product is 1.\n",
      "        \n",
      "        When the iterable is empty, return the start value.  This function is\n",
      "        intended specifically for use with numeric values and may reject\n",
      "        non-numeric types.\n",
      "    \n",
      "    radians(x, /)\n",
      "        Convert angle x from degrees to radians.\n",
      "    \n",
      "    remainder(x, y, /)\n",
      "        Difference between x and the closest integer multiple of y.\n",
      "        \n",
      "        Return x - n*y where n*y is the closest integer multiple of y.\n",
      "        In the case where x is exactly halfway between two multiples of\n",
      "        y, the nearest even value of n is used. The result is always exact.\n",
      "    \n",
      "    sin(x, /)\n",
      "        Return the sine of x (measured in radians).\n",
      "    \n",
      "    sinh(x, /)\n",
      "        Return the hyperbolic sine of x.\n",
      "    \n",
      "    sqrt(x, /)\n",
      "        Return the square root of x.\n",
      "    \n",
      "    tan(x, /)\n",
      "        Return the tangent of x (measured in radians).\n",
      "    \n",
      "    tanh(x, /)\n",
      "        Return the hyperbolic tangent of x.\n",
      "    \n",
      "    trunc(x, /)\n",
      "        Truncates the Real x to the nearest Integral toward 0.\n",
      "        \n",
      "        Uses the __trunc__ magic method.\n",
      "    \n",
      "    ulp(x, /)\n",
      "        Return the value of the least significant bit of the float x.\n",
      "\n",
      "DATA\n",
      "    e = 2.718281828459045\n",
      "    inf = inf\n",
      "    nan = nan\n",
      "    pi = 3.141592653589793\n",
      "    tau = 6.283185307179586\n",
      "\n",
      "FILE\n",
      "    /opt/homebrew/Caskroom/miniforge/base/lib/python3.10/lib-dynload/math.cpython-310-darwin.so\n",
      "\n",
      "\n"
     ]
    }
   ],
   "source": [
    "# you can always ask for help\n",
    "\n",
    "help(math)"
   ]
  },
  {
   "cell_type": "markdown",
   "metadata": {},
   "source": [
    "<div style=\"display: flex; justify-content: space-between;\">\n",
    "<div style=\"width: 48%; line-height: 1.5;\">\n",
    "\n",
    "#### Some operators available in the `math` module\n",
    " <b>Angles are assumed to be in radians.</b>\n",
    "</div>\n",
    "<div style=\"width: 4%;\">\n",
    "</div>\n",
    "<div style=\"width: 48%; line-height: 1.3;color: grey;\">\n",
    "\n",
    "#### Einige im `math`-modul verfügbare Operatoren\n",
    " <b>Die Winkel werden im Bogenmaß angenommen.</b>\n",
    "</div>\n",
    "</div>"
   ]
  },
  {
   "cell_type": "markdown",
   "metadata": {},
   "source": [
    "|                     |                    | Python `math` Function   |\n",
    "|------------------------------|-----------------------------|--------------------------|\n",
    "| Square Root                  | Quadratwurzel               | `math.sqrt(x)`           |\n",
    "| Exponentiation               | Exponentiation              | `math.exp(x)`            |\n",
    "| **Logarithm (base $e$)**     | **Logarithmus (Basis $e$)** | `math.log(x)`            |\n",
    "| **Logarithm (base 10)**      | **Logarithmus (Basis 10)**  | `math.log10(x)`          |\n",
    "| **Logarithm (base $n$)**      | **Logarithmus (Basis $n$)**  | `math.log(x, n)`          |\n",
    "| Sine                         | Sinus                       | `math.sin(x)`            |\n",
    "| Cosine                       | Kosinus                     | `math.cos(x)`            |\n",
    "| Tangent                      | Tangens                     | `math.tan(x)`            |\n",
    "| Arcsine                      | Arkussinus                  | `math.asin(x)`           |\n",
    "| Arccosine                    | Arkuskosinus                | `math.acos(x)`           |\n",
    "| Arctangent                   | Arkustangens                | `math.atan(x)`           |\n",
    "| Hyperbolic Sine              | Hyperbolischer Sinus        | `math.sinh(x)`           |\n",
    "| Hyperbolic Cosine            | Hyperbolischer Kosinus      | `math.cosh(x)`           |\n",
    "| Hyperbolic Tangent           | Hyperbolischer Tangens      | `math.tanh(x)`           |\n",
    "| Convert Degrees to Radians   | Grad in Bogenmaß umwandeln  | `math.radians(x)`        |\n",
    "| Convert Radians to Degrees   | Bogenmaß in Grad umwandeln  | `math.degrees(x)`        |\n",
    "| Power                        | Potenz                      | `math.pow(x, y)`         |\n",
    "| Absolute Value               | Absoluter Wert              | `math.abs(x)`            |\n",
    "| Factorial                    | Fakultät                    | `math.factorial(x)`      |\n",
    "| Pi ($\\pi$)                   | Pi ($\\pi$)                  | `math.pi`                |\n",
    "| Euler's Number ($e$)           | Eulersche Zahl ($e$)          | `math.e`                 |"
   ]
  },
  {
   "cell_type": "code",
   "execution_count": null,
   "metadata": {},
   "outputs": [],
   "source": [
    "# We use the operators in the math module by typing 'math.' followed by the name of the operator\n",
    "\n",
    "# math.sqrt(x) calculates the square-root of the number x\n",
    "\n",
    "math.sqrt(81) "
   ]
  },
  {
   "cell_type": "code",
   "execution_count": null,
   "metadata": {},
   "outputs": [],
   "source": [
    "# math.e returns the value of Euler's number\n",
    "\n",
    "math.e"
   ]
  },
  {
   "cell_type": "code",
   "execution_count": null,
   "metadata": {},
   "outputs": [],
   "source": [
    "# math.pi returns the value of Pi\n",
    "\n",
    "math.pi "
   ]
  },
  {
   "cell_type": "code",
   "execution_count": null,
   "metadata": {},
   "outputs": [],
   "source": [
    "# The area of a circle with radius = 1.5 is \n",
    "math.pi * 1.5**2"
   ]
  },
  {
   "cell_type": "markdown",
   "metadata": {},
   "source": [
    "<div style=\"display: flex; justify-content: space-between;\">\n",
    "<div style=\"width: 48%; line-height: 1.5;\">\n",
    "\n",
    " `round` rounds a number to a given precision in decimal digits (or to the nearest integer if no precision is specified):\n",
    "</div>\n",
    "<div style=\"width: 4%;\">\n",
    "</div>\n",
    "<div style=\"width: 48%; line-height: 1.5;color: grey;\">\n",
    "\n",
    " `round` rundet eine Zahl auf eine bestimmte Genauigkeit in Dezimalstellen (oder auf die nächste Ganzzahl, wenn keine Genauigkeit angegeben ist):\n",
    "</div>\n",
    "</div>"
   ]
  },
  {
   "cell_type": "code",
   "execution_count": null,
   "metadata": {},
   "outputs": [],
   "source": [
    "round(math.pi, 4)"
   ]
  },
  {
   "cell_type": "code",
   "execution_count": null,
   "metadata": {},
   "outputs": [],
   "source": [
    "round(math.pi)"
   ]
  },
  {
   "cell_type": "markdown",
   "metadata": {},
   "source": [
    "<div style=\"display: flex; justify-content: space-between;\">\n",
    "<div style=\"width: 48%; line-height: 1.5;\">\n",
    "\n",
    "You can use `round` on floating-point numbers before comparing them to avoid floating-point precision issues:\n",
    "</div>\n",
    "<div style=\"width: 4%;\">\n",
    "</div>\n",
    "<div style=\"width: 48%; line-height: 1.5;color: grey;\">\n",
    "\n",
    "Sie können reelle Zahlen vor dem Vergleich runden, um Probleme mit der Fließkommagenauigkeit zu vermeiden:\n",
    "</div>\n",
    "</div>"
   ]
  },
  {
   "cell_type": "code",
   "execution_count": 30,
   "metadata": {},
   "outputs": [
    {
     "data": {
      "text/plain": [
       "True"
      ]
     },
     "execution_count": 30,
     "metadata": {},
     "output_type": "execute_result"
    }
   ],
   "source": [
    "round(0.1+0.2, 16) == round(0.3, 16)        # 0.1 + 0.2 and 0.3 are equal up to the 16th digit after the comma"
   ]
  },
  {
   "cell_type": "code",
   "execution_count": 36,
   "metadata": {},
   "outputs": [
    {
     "data": {
      "text/plain": [
       "True"
      ]
     },
     "execution_count": 36,
     "metadata": {},
     "output_type": "execute_result"
    }
   ],
   "source": [
    "0.01 == round(0.1**2, 17)"
   ]
  },
  {
   "cell_type": "markdown",
   "metadata": {},
   "source": [
    "<div style=\"display: flex; justify-content: space-between;\">\n",
    "<div style=\"width: 48%; line-height: 1.5;\">\n",
    "\n",
    "The `math` module provides a function, `isclose`, to test whether two floating-point numbers are equal to within a given tolerance (which defaults to `1e-9`):\n",
    "\n",
    "</div>\n",
    "<div style=\"width: 4%;\">\n",
    "</div>\n",
    "<div style=\"width: 48%; line-height: 1.5;color: grey;\">\n",
    "\n",
    "Das `math`-Modul stellt eine Funktion, `isclose`, zur Verfügung, mit der man prüfen kann, ob zwei Fließkommazahlen innerhalb einer bestimmten Toleranz (die standardmäßig auf `1e-9` eingestellt ist) gleich sind:\n",
    "</div>\n",
    "</div>"
   ]
  },
  {
   "cell_type": "code",
   "execution_count": 15,
   "metadata": {},
   "outputs": [
    {
     "data": {
      "text/plain": [
       "True"
      ]
     },
     "execution_count": 15,
     "metadata": {},
     "output_type": "execute_result"
    }
   ],
   "source": [
    "math.isclose(0.01, 0.1**2)"
   ]
  },
  {
   "cell_type": "code",
   "execution_count": 16,
   "metadata": {},
   "outputs": [
    {
     "data": {
      "text/plain": [
       "True"
      ]
     },
     "execution_count": 16,
     "metadata": {},
     "output_type": "execute_result"
    }
   ],
   "source": [
    "math.isclose(0.1+0.2, 0.3)"
   ]
  },
  {
   "cell_type": "markdown",
   "metadata": {},
   "source": [
    "<div style=\"display: flex; justify-content: space-between;\">\n",
    "<div style=\"width: 48%; line-height: 1.5;\">\n",
    "\n",
    "Mission accomplished.\n",
    "\n",
    "</div>\n",
    "<div style=\"width: 4%;\">\n",
    "</div>\n",
    "<div style=\"width: 48%; line-height: 1.5;color: grey;\">\n",
    "\n",
    "Mission erfüllt.\n",
    "</div>\n",
    "</div>"
   ]
  },
  {
   "cell_type": "markdown",
   "metadata": {},
   "source": [
    "<div class=\"alert alert-block alert-light\">\n",
    "\n",
    "<div style=\"display: flex; justify-content: space-between;\">\n",
    "<div style=\"width: 48%; line-height: 1.3;\">\n",
    "\n",
    "## Exercises\n",
    "</div>\n",
    "<div style=\"width: 48%; line-height: 1.3;color: grey;\">\n",
    "\n",
    "## Übungen\n",
    "</div>\n",
    "</div>"
   ]
  },
  {
   "cell_type": "markdown",
   "metadata": {},
   "source": [
    "<div class=\"alert alert-block alert-light\">\n",
    "\n",
    "<div style=\"display: flex; justify-content: space-between;\">\n",
    "<div style=\"width: 48%; line-height: 1.5;\">\n",
    "\n",
    "#### 1\n",
    "\n",
    "Calculate the volume of various geometric shapes based on provided dimensions:\n",
    "</div>\n",
    "<div style=\"width: 4%;\">\n",
    "</div>\n",
    "<div style=\"width: 48%; line-height: 1.3;color: grey;\">\n",
    "\n",
    "#### 1\n",
    "\n",
    "Berechnen Sie das Volumen verschiedener geometrischer Formen auf der Grundlage der eingegebenen Maße:\n",
    "</div>\n",
    "</div>\n",
    "<div style=\"display: flex; justify-content: space-between;\">\n",
    "<div style=\"text-align: center; margin-top: 20px; width: 48%\">\n",
    "    \n",
    "**Cube/Würfel**: $ V = s^3 $\n",
    "\n",
    "**Cylinder/Zylinder**: $ V = \\pi r^2 h $\n",
    "\n",
    "**Sphere/Kugel**: $ V = \\frac{4}{3} \\pi r^3 $\n",
    "\n",
    "**Cone/Kegel**: $ V = \\frac{1}{3} \\pi r^2 h $\n",
    "</div>\n",
    "<div style=\"text-align: center; margin-top: 20px;\">\n",
    "where:\n",
    "    \n",
    "$$s = 5.5$$\n",
    "\n",
    "$$r = 3.7$$\n",
    "\n",
    "$$h = 9.2$$\n",
    "</div>\n",
    "</div>"
   ]
  },
  {
   "cell_type": "markdown",
   "metadata": {},
   "source": [
    "<div class=\"alert alert-block alert-light\">\n",
    "\n",
    "<div style=\"display: flex; justify-content: space-between;\">\n",
    "<div style=\"width: 48%; line-height: 1.5;\">\n",
    "\n",
    "#### 2\n",
    "\n",
    " What is the kinetic energy of $4.3~\\mathrm{kg}$ projectile travelling at a speed of $1.2~\\mathrm{m/s}$? \n",
    " \n",
    " Recall the kinetic energy is given as: \n",
    "</div>\n",
    "<div style=\"width: 4%;\">\n",
    "</div>\n",
    "<div style=\"width: 48%; line-height: 1.5;color: grey;\">\n",
    "\n",
    "#### 2\n",
    "\n",
    " Wie hoch ist die kinetische Energie eines $4.3~\\mathrm{kg}$ schweren Geschosses, das sich mit einer Geschwindigkeit von $1.2~\\mathrm{m/s}$ bewegt? \n",
    " \n",
    " Die kinetische Energie ist gegeben als: \n",
    "</div>\n",
    "</div>\n",
    "<div style=\"text-align: center;\">\n",
    "\n",
    "$$\n",
    "K = \\frac{1}{2} m v^2\n",
    "$$\n",
    "</div>"
   ]
  },
  {
   "cell_type": "markdown",
   "metadata": {},
   "source": [
    "<div class=\"alert alert-block alert-light\">\n",
    "\n",
    "<div style=\"display: flex; justify-content: space-between;\">\n",
    "<div style=\"width: 48%; line-height: 1.5;\">\n",
    "\n",
    "#### 3\n",
    "\n",
    "In the previous table, we saw a method for calculating a square root. \n",
    "Now, how would you calculate a cubic root? \n",
    "\n",
    "Calculate the cubic root of $27$ using: \n",
    "\n",
    "- a function from the `math` module, and \n",
    "\n",
    "- a standard arithmetic operation.\n",
    "\n",
    "</div>\n",
    "<div style=\"width: 4%;\">\n",
    "</div>\n",
    "<div style=\"width: 48%; line-height: 1.5;color: grey;\">\n",
    "\n",
    "#### 3\n",
    "\n",
    "In der vorherigen Tabelle haben wir eine Methode zur Berechnung der Quadratwurzel gesehen.\n",
    "Wie würden Sie nun eine Kubikwurzel berechnen?\n",
    "\n",
    "Berechnen Sie die Kubikwurzel von $27$ mit: \n",
    "\n",
    "- einer Funktion aus dem Modul `math` und \n",
    "\n",
    "- einer Standardrechenoperation.\n",
    "\n",
    "</div>\n",
    "</div>"
   ]
  },
  {
   "cell_type": "code",
   "execution_count": null,
   "metadata": {},
   "outputs": [],
   "source": [
    "#countdown\n",
    "countdown_timer(15)"
   ]
  },
  {
   "cell_type": "markdown",
   "metadata": {},
   "source": [
    "<details>\n",
    "  <summary>Click to reveal the solution</summary>\n",
    "\n",
    "```python\n",
    "solution_1 = math.pow(27, 1/3)\n",
    "\n",
    "solution_2 = 27 ** (1/3)\n",
    "```\n",
    "</details>"
   ]
  },
  {
   "cell_type": "markdown",
   "metadata": {},
   "source": [
    "<div class=\"alert alert-block alert-warning\">\n",
    "\n",
    "<div style=\"display: flex; justify-content: space-between;\">\n",
    "<div style=\"width: 48%; line-height: 1.5;\">\n",
    "\n",
    "# Variables \n",
    "</div>\n",
    "<div style=\"width: 48%; line-height: 1.3;color: grey;\">\n",
    "\n",
    "# Variablen\n",
    "</div>\n",
    "</div>"
   ]
  },
  {
   "cell_type": "markdown",
   "metadata": {},
   "source": [
    "<div class=\"alert alert-block alert-light\">\n",
    "\n",
    "<div style=\"display: flex; justify-content: space-between;\">\n",
    "<div style=\"width: 48%; line-height: 1.5;\">\n",
    "\n",
    "#### Exercise\n",
    "\n",
    "The Arrhenius equation for the desorption rate of a molecule is given by:\n",
    "</div>\n",
    "<div style=\"width: 4%;\">\n",
    "</div>\n",
    "<div style=\"width: 48%; line-height: 1.5;color: grey;\">\n",
    "\n",
    "#### Übung\n",
    "\n",
    "Die Arrhenius-Gleichung für die Desorptionsrate eines Moleküls ist gegeben durch:\n",
    "</div>\n",
    "</div>\n",
    "<div style=\"text-align: center; margin-top: 20px;\">\n",
    "\n",
    "$$ k_d = \\nu \\cdot \\exp\\left(-\\frac{E_a}{k_B \\cdot T}\\right)$$\n",
    "</div>\n",
    "<div style=\"display: flex; justify-content: space-between;\">\n",
    "<div style=\"width: 48%; line-height: 1.5;\">\n",
    "\n",
    "Calculate the desorption temperature of a molecule with an adsorption energy of $-0.875~\\mathrm{eV}$. \n",
    "\n",
    "**Recall from the previous table that the natural logarithm is represented by `math.log()` in Python.**\n",
    "\n",
    "Use the following values:\n",
    "</div>\n",
    "<div style=\"width: 4%;\">\n",
    "</div>\n",
    "<div style=\"width: 48%; line-height: 1.5;color: grey;\">\n",
    "\n",
    "Berechnen Sie die Desorptionstemperatur eines Moleküls mit einer Adsorptionsenergie von $-0.875~\\mathrm{eV}$.\n",
    "\n",
    "**Erinnern Sie sich an die vorherige Tabelle, dass der natürliche Logarithmus in Python durch `math.log()` dargestellt wird.**\n",
    "\n",
    "Verwenden Sie die folgenden Werte:\n",
    "</div>\n",
    "</div>\n",
    "<div style=\"text-align: center; margin-top: 20px;\">\n",
    "\n",
    "$$ k_B = 8.617 \\cdot 10^{-5} \\, \\text{eV/K} $$\n",
    "\n",
    "$$ \\nu = 10^{13} \\, \\text{s}^{-1} $$\n",
    "\n",
    "$$ k_d = 1 \\, \\text{s}^{-1} $$\n",
    "</div>"
   ]
  },
  {
   "cell_type": "code",
   "execution_count": null,
   "metadata": {},
   "outputs": [],
   "source": [
    "countdown_timer(10)"
   ]
  },
  {
   "cell_type": "markdown",
   "metadata": {},
   "source": [
    "<div style=\"display: flex; justify-content: space-between;\">\n",
    "<div style=\"width: 48%; line-height: 1.5;\">\n",
    "\n",
    "*If you hate math, there's a Pythonic way to solve this. We'll cover the details as the final topic today, after the exercises.*\n",
    "\n",
    "</div>\n",
    "<div style=\"width: 4%;\">\n",
    "</div>\n",
    "<div style=\"width: 48%; line-height: 1.5;color: grey;\">\n",
    "\n",
    "*Wenn Sie Mathe hassen, gibt es einen pythonischen Weg, dies zu lösen. Die Details werden wir heute als letztes Thema behandeln, nach den Übungen.*\n",
    "\n",
    "</div>\n",
    "</div>"
   ]
  },
  {
   "cell_type": "markdown",
   "metadata": {},
   "source": [
    "<details>\n",
    "  <summary>Click to reveal the solution</summary>\n",
    "\n",
    "$ T = - \\frac{E_a}{k_B \\ln(\\frac{k_d}{\\nu})} = \\frac{E_a}{k_B \\ln(\\frac{\\nu}{k_d})}$\n",
    "\n",
    "```python\n",
    "round(0.875 / (8.617e-5 * math.log(1e13 / 1.)), 2)\n",
    "```\n",
    "\n",
    "</details>"
   ]
  },
  {
   "cell_type": "markdown",
   "metadata": {},
   "source": [
    "<div style=\"display: flex; justify-content: space-between;\">\n",
    "<div style=\"width: 48%; line-height: 1.5;\">\n",
    "\n",
    "Writing something like \n",
    "\n",
    "`0.875 / (8.617e-5 * math.log(1e13 / 1.))`\n",
    "\n",
    "can be a bit tedious, especially when we want to change values on the fly. \n",
    "\n",
    "It is very easy to miss an instance if you need to dig through your code every time. Furthermore, we might need to reuse those values or the result of our operation later on, and we do not want to copy and paste their numerical value every time.\n",
    "\n",
    "That is why we can assign *variables*</em>* to their values.\n",
    "Creating a variable in Python is extremely simple, all we need to do is use the `=` sign! Python automatically assigns a class (i.e., integer, float, string, etc.) to the variable.\n",
    "\n",
    "Once we have created a variable, we can use it anywhere else in our code, and its value will be substituted automatically:\n",
    "\n",
    "</div>\n",
    "<div style=\"width: 4%;\">\n",
    "</div>\n",
    "<div style=\"width: 48%; line-height: 1.5;color: grey;\">\n",
    "\n",
    "Es kann mühsam sein, etwas wie \n",
    "\n",
    "`0.875 / (8.617e-5 * math.log(1e13 / 1.))`\n",
    "\n",
    "zu schreiben, vor allem, wenn wir Werte spontan ändern wollen. \n",
    "\n",
    "Es ist sehr leicht, eine Instanz zu übersehen, wenn man jedes Mal seinen Code durchforsten muss. Außerdem kann es sein, dass wir diese Werte oder das Ergebnis unserer Operation zu einem späteren Zeitpunkt wiederverwenden müssen, und wir wollen nicht jedes Mal ihren numerischen Wert kopieren und einfügen\n",
    "\n",
    "Deshalb können wir *Variablen* ihre Werte zugewiesen.\n",
    "Eine Variable in Python zu erstellen ist extrem einfach, alles was wir tun müssen, ist das `=` Zeichen zu verwenden! Python weist der Variablen automatisch eine Klasse zu ( Integer, Float, String, etc.).\n",
    "\n",
    "Sobald wir eine Variable erstellt haben, können wir sie an jeder anderen Stelle in unserem Code verwenden, und ihr Wert wird automatisch ersetzt:\n",
    "\n",
    "</div>\n",
    "</div>"
   ]
  },
  {
   "cell_type": "code",
   "execution_count": 48,
   "metadata": {},
   "outputs": [
    {
     "name": "stdout",
     "output_type": "stream",
     "text": [
      "The desorption temperature is 339 K.\n"
     ]
    }
   ],
   "source": [
    "# Constants\n",
    "nu = 1e13           # Pre-exponential factor in s^-1\n",
    "k_B = 8.617e-5      # Boltzmann constant in eV/K\n",
    "k_d = 1.            # Desorption rate in s^-1\n",
    "\n",
    "# Adsorption energy\n",
    "E_a = 0.875\n",
    "\n",
    "# Calculate desorption temperature and assign that result to a variable named T\n",
    "T = E_a / (k_B * math.log(nu / k_d))\n",
    "\n",
    "print(f\"The desorption temperature is {T:.0f} K.\")"
   ]
  },
  {
   "cell_type": "code",
   "execution_count": 39,
   "metadata": {},
   "outputs": [
    {
     "name": "stdout",
     "output_type": "stream",
     "text": [
      "The desorption temperature is 277.8163242995391 K.\n"
     ]
    }
   ],
   "source": [
    "# Constants\n",
    "nu = 5e12           # Pre-exponential factor in s^-1\n",
    "k_B = 8.617e-5      # Boltzmann constant in eV/K\n",
    "k_d = 1.            # Desorption rate in s^-1\n",
    "\n",
    "# Adsorption energy\n",
    "E_a = 0.7\n",
    "\n",
    "# Calculate desorption temperature and assign that result to a variable named T\n",
    "T = E_a / (k_B * math.log(nu / k_d))\n",
    "\n",
    "print(f\"The desorption temperature is {T} K.\")"
   ]
  },
  {
   "cell_type": "code",
   "execution_count": 41,
   "metadata": {},
   "outputs": [
    {
     "data": {
      "image/png": "[encoded data removed]",
      "text/latex": [
       "$\\displaystyle 8.6902600850082$"
      ],
      "text/plain": [
       "8.690260085008198"
      ]
     },
     "execution_count": 41,
     "metadata": {},
     "output_type": "execute_result"
    }
   ],
   "source": [
    "# Constants\n",
    "nu = 5e12           # Pre-exponential factor in s^-1\n",
    "k_B = 8.617e-5      # Boltzmann constant in eV/K\n",
    "E_a = 0.7\n",
    "T = 300\n",
    "\n",
    "# Calculate desorption temperature and assign that result to a variable named T\n",
    "k_d = nu * math.exp(-E_a/(k_B*T))\n",
    "\n",
    "k_d"
   ]
  },
  {
   "cell_type": "markdown",
   "metadata": {},
   "source": [
    "<div style=\"display: flex; justify-content: space-between;\">\n",
    "<div style=\"width: 48%; line-height: 1.5;\">\n",
    "\n",
    "Once we have created a variable, we can use it anywhere else in our code, and its value will be substituted automatically:\n",
    "\n",
    "</div>\n",
    "<div style=\"width: 4%;\">\n",
    "</div>\n",
    "<div style=\"width: 48%; line-height: 1.3;color: grey;\">\n",
    "\n",
    "Sobald wir eine Variable erstellt haben, können wir sie an jeder anderen Stelle in unserem Code verwenden, und ihr Wert wird automatisch ersetzt:\n",
    "\n",
    "</div>\n",
    "</div>"
   ]
  },
  {
   "cell_type": "code",
   "execution_count": 49,
   "metadata": {},
   "outputs": [
    {
     "name": "stdout",
     "output_type": "stream",
     "text": [
      "10000000000000.0\n",
      "8.617e-05\n",
      "1.0\n",
      "0.875\n",
      "339.22895855718605\n"
     ]
    }
   ],
   "source": [
    "# Let's see if Python remembers what we set earlier:\n",
    "\n",
    "print(nu)\n",
    "print(k_B)\n",
    "print(k_d)\n",
    "print(E_a)\n",
    "print(T)"
   ]
  },
  {
   "cell_type": "markdown",
   "metadata": {},
   "source": [
    "<div style=\"display: flex; justify-content: space-between;\">\n",
    "<div style=\"width: 48%; line-height: 1.5;\">\n",
    "\n",
    "In general, to work with a variable, you need to begin by selecting the name you want to use. Variable names are ideally short and descriptive. \n",
    "\n",
    "They also need to satisfy several requirements:\n",
    "\n",
    "- They cannot have spaces (e.g., `k B` is NOT allowed)\n",
    "\n",
    "- They can only include letters, numbers, and underscores (e.g., `k_B*` is NOT allowed)\n",
    "\n",
    "- They have to start with a letter or underscore (e.g., `1_k_B` is NOT allowed)\n",
    "   \n",
    "\n",
    "</div>\n",
    "<div style=\"width: 4%;\">\n",
    "</div>\n",
    "<div style=\"width: 48%; line-height: 1.5;color: grey;\">\n",
    "\n",
    "Um mit einer Variablen zu arbeiten, müssen Sie zunächst den Namen auswählen, den Sie verwenden möchten. Variablennamen sind idealerweise kurz und beschreibend. \n",
    "\n",
    "Sie müssen außerdem mehrere Anforderungen erfüllen:\n",
    "\n",
    "- Sie dürfen keine Leerzeichen enthalten (z.B. `k B` ist NICHT erlaubt)\n",
    "\n",
    "- Sie dürfen nur Buchstaben, Zahlen und Unterstriche enthalten (z.B. `k_B*` ist NICHT erlaubt)\n",
    "\n",
    "- Sie müssen mit einem Buchstaben oder Unterstrich beginnen ( `1_k_B` ist NICHT erlaubt)\n",
    "\n",
    "</div>\n",
    "</div>"
   ]
  },
  {
   "cell_type": "markdown",
   "metadata": {},
   "source": [
    "<div style=\"display: flex; justify-content: space-between;\">\n",
    "<div style=\"width: 48%; line-height: 1.5;\">\n",
    "\n",
    "Attempting to use a variable before you have created it will result in an error. This is a reason why the cells in a Jupyter notebook should be run in order.\n",
    "\n",
    "</div>\n",
    "<div style=\"width: 4%;\">\n",
    "</div>\n",
    "<div style=\"width: 48%; line-height: 1.3;color: grey;\">\n",
    "\n",
    "Wenn Sie versuchen, eine Variable zu verwenden, bevor Sie sie erstellt haben, führt dies zu einem Fehler. Dies ist ein Grund, warum die Zellen in einem Jupyter-Notebook in der richtigen Reihenfolge ausgeführt werden sollten.\n",
    "\n",
    "</div>\n",
    "</div>"
   ]
  },
  {
   "cell_type": "code",
   "execution_count": 51,
   "metadata": {},
   "outputs": [
    {
     "ename": "NameError",
     "evalue": "name 'plasma_frequency' is not defined",
     "output_type": "error",
     "traceback": [
      "\u001b[0;31m---------------------------------------------------------------------------\u001b[0m",
      "\u001b[0;31mNameError\u001b[0m                                 Traceback (most recent call last)",
      "Cell \u001b[0;32mIn[51], line 1\u001b[0m\n\u001b[0;32m----> 1\u001b[0m \u001b[43mplasma_frequency\u001b[49m\n",
      "\u001b[0;31mNameError\u001b[0m: name 'plasma_frequency' is not defined"
     ]
    }
   ],
   "source": [
    "plasma_frequency"
   ]
  },
  {
   "cell_type": "markdown",
   "metadata": {},
   "source": [
    "<div style=\"display: flex; justify-content: space-between;\">\n",
    "<div style=\"width: 48%; line-height: 1.5;\">\n",
    "\n",
    "You can always change the value assigned to a variable by overriding the previous value.\n",
    "\n",
    "</div>\n",
    "<div style=\"width: 4%;\">\n",
    "</div>\n",
    "<div style=\"width: 48%; line-height: 1.5;color: grey;\">\n",
    "\n",
    "Sie können den einer Variablen zugewiesenen Wert jederzeit ändern, indem Sie den vorherigen Wert überschreiben.\n",
    "\n",
    "</div>\n",
    "</div>"
   ]
  },
  {
   "cell_type": "code",
   "execution_count": 52,
   "metadata": {},
   "outputs": [
    {
     "name": "stdout",
     "output_type": "stream",
     "text": [
      "0.875\n",
      "1.3\n",
      "1.522\n"
     ]
    }
   ],
   "source": [
    "# Set the value E_a\n",
    "E_a = 0.875\n",
    "\n",
    "# Print the value assigned to E_a\n",
    "print(E_a)\n",
    "\n",
    "# Change the value of the variable \n",
    "E_a = 1.3\n",
    "\n",
    "# Print the new value\n",
    "print(E_a)\n",
    "\n",
    "# Increase the current value by 0.222\n",
    "E_a = E_a + 0.222\n",
    "\n",
    "# Print the new value\n",
    "print(E_a)"
   ]
  },
  {
   "cell_type": "markdown",
   "metadata": {},
   "source": [
    "<div style=\"display: flex; justify-content: space-between;\">\n",
    "<div style=\"width: 48%; line-height: 1.5;\">\n",
    "\n",
    "Let's take the last expression, `E_a = E_a + 0.222`: \n",
    "\n",
    "It is important to realize that this does not represent some (impossible) mathematical equation to be solved for the number `E_a`, but is rather an instruction to take the value of `E_a`, add `0.222` to it, and then reassign (“rebind”) the name `E_a` to the result. \n",
    "\n",
    "The original value of `1.3` is then “forgotten”. \n",
    "\n",
    "Expressions like this are so common in programming that Python provides a shortcut (`+=`, so-called “augmented assignment”):\n",
    "\n",
    "</div>\n",
    "<div style=\"width: 4%;\">\n",
    "</div>\n",
    "<div style=\"width: 48%; line-height: 1.3;color: grey;\">\n",
    "\n",
    "Nehmen wir den letzten Ausdruck, `E_a = E_a + 0.222`: \n",
    "\n",
    "Es ist wichtig zu erkennen, dass dies keine (unmögliche) mathematische Gleichung darstellt, die für die Zahl `E_a` gelöst werden muss, sondern vielmehr eine Anweisung ist, den Wert von `E_a` zu nehmen, `0.222` dazu zu addieren und dann dem Ergebnis den Namen `E_a` neu zuzuweisen (\"rebind\"). \n",
    "\n",
    "Der ursprüngliche Wert von `1.3` ist dann \"vergessen\". \n",
    "\n",
    "Ausdrücke wie dieser kommen in der Programmierung so häufig vor, dass Python eine Abkürzung bereitstellt (`+=`, sogenannte \"erweiterte Zuweisung\"):\n",
    "\n",
    "</div>\n",
    "</div>"
   ]
  },
  {
   "cell_type": "code",
   "execution_count": null,
   "metadata": {},
   "outputs": [],
   "source": [
    "E_a = 1.3\n",
    "\n",
    "E_a += 0.222\n",
    "\n",
    "E_a"
   ]
  },
  {
   "cell_type": "code",
   "execution_count": null,
   "metadata": {},
   "outputs": [],
   "source": [
    "E_a -= 0.222\n",
    "\n",
    "E_a"
   ]
  },
  {
   "cell_type": "code",
   "execution_count": null,
   "metadata": {},
   "outputs": [],
   "source": [
    "E_a /= 2\n",
    "\n",
    "E_a"
   ]
  },
  {
   "cell_type": "code",
   "execution_count": null,
   "metadata": {},
   "outputs": [],
   "source": [
    "E_a *= 2\n",
    "\n",
    "E_a"
   ]
  },
  {
   "cell_type": "markdown",
   "metadata": {},
   "source": [
    "<div style=\"display: flex; justify-content: space-between;\">\n",
    "<div style=\"width: 48%; line-height: 1.5;\">\n",
    "\n",
    "Another useful shortcut is the use of comma-separated values (actually, tuples) to assign several variables at once, for example:\n",
    "\n",
    "</div>\n",
    "<div style=\"width: 4%;\">\n",
    "</div>\n",
    "<div style=\"width: 48%; line-height: 1.5;color: grey;\">\n",
    "\n",
    "Eine weitere nützliche Abkürzung ist die Verwendung von kommagetrennten Werten (eigentlich Tupeln), um beispielsweise mehrere Variablen auf einmal zuzuweisen:\n",
    "\n",
    "</div>\n",
    "</div>"
   ]
  },
  {
   "cell_type": "code",
   "execution_count": null,
   "metadata": {},
   "outputs": [],
   "source": [
    "nu, k_B, k_d, E_a = 1e13, 8.617e-5, 1., 0.875\n",
    "\n",
    "print(nu, k_B, k_d, E_a)"
   ]
  },
  {
   "cell_type": "markdown",
   "metadata": {},
   "source": [
    "<div class=\"alert alert-block alert-light\">\n",
    "\n",
    "<div style=\"display: flex; justify-content: space-between;\">\n",
    "<div style=\"width: 48%; line-height: 1.5;\">\n",
    "\n",
    "# Exercises\n",
    "</div>\n",
    "<div style=\"width: 4%;\">\n",
    "</div>\n",
    "<div style=\"width: 48%; line-height: 1.3;color: grey;\">\n",
    "\n",
    "# Übungen\n",
    "</div>\n",
    "</div>"
   ]
  },
  {
   "cell_type": "markdown",
   "metadata": {},
   "source": [
    "<div class=\"alert alert-block alert-info\">\n",
    "\n",
    "<div style=\"display: flex; justify-content: space-between;\">\n",
    "<div style=\"width: 48%; line-height: 1.3;\">\n",
    "\n",
    "*Please don't leave class once you're finished: there are some post-credit scenes to follow.*\n",
    "\n",
    "</div>\n",
    "<div style=\"width: 4%;\">\n",
    "</div>\n",
    "<div style=\"width: 48%; line-height: 1.3; color: grey;\">\n",
    "\n",
    "*Bitte verlassen Sie die Klasse nicht, wenn Sie fertig sind: es gibt noch ein paar Abspannszenen.*\n",
    "\n",
    "</div>\n",
    "</div>"
   ]
  },
  {
   "cell_type": "markdown",
   "metadata": {},
   "source": [
    "<div class=\"alert alert-block alert-light\">\n",
    "\n",
    "<div style=\"display: flex; justify-content: space-between;\">\n",
    "<div style=\"width: 48%; line-height: 1.5;\">\n",
    "\n",
    "####   1 \n",
    "\n",
    "*Operator precedence* dictates the order in which operations are evaluated in an expression, with some operators taking priority over others.\n",
    "\n",
    "Parentheses can be used to override the standard precedence rules.\n",
    "\n",
    "Evaluate the following expressions and observe how precedence is applied.\n",
    "\n",
    "a. `2.7 / 2`\n",
    "\n",
    "b. `2 / 4 - 1`\n",
    "\n",
    "c. `2 // 4 - 1`\n",
    "\n",
    "d. `(2 + 5) % 3`\n",
    "\n",
    "e. `2 + 5 % 3`\n",
    "\n",
    "f. `3 * 4 // 6`\n",
    "\n",
    "g. `3 * (4 // 6)`\n",
    "\n",
    "h. `3 * 2 ** 2`\n",
    "\n",
    "i. `3 ** 2 * 2`\n",
    "\n",
    "</div>\n",
    "<div style=\"width: 4%;\">\n",
    "</div>\n",
    "<div style=\"width: 48%; line-height: 1.5;color: grey;\">\n",
    "\n",
    "####   1 \n",
    "\n",
    "Die *Priorität der Operatoren* bestimmt die Reihenfolge, in der die Operationen in einem Ausdruck ausgewertet werden, wobei einige Operatoren Vorrang vor anderen haben.\n",
    "\n",
    "Klammern können verwendet werden, um die Standardvorrangregeln außer Kraft zu setzen.\n",
    "\n",
    "Werten Sie die folgenden Ausdrücke aus und beobachten Sie, wie die Rangfolge angewendet wird.\n",
    "\n",
    "a. `2.7 / 2`\n",
    "\n",
    "b. `2 / 4 - 1`\n",
    "\n",
    "c. `2 // 4 - 1`\n",
    "\n",
    "d. `(2 + 5) % 3`\n",
    "\n",
    "e. `2 + 5 % 3`\n",
    "\n",
    "f. `3 * 4 // 6`\n",
    "\n",
    "g. `3 * (4 // 6)`\n",
    "\n",
    "h. `3 * 2 ** 2`\n",
    "\n",
    "i. `3 ** 2 * 2`\n",
    "\n",
    "</div>\n",
    "</div>"
   ]
  },
  {
   "cell_type": "markdown",
   "metadata": {},
   "source": [
    "<div class=\"alert alert-block alert-light\">\n",
    "\n",
    "<div style=\"display: flex; justify-content: space-between;\">\n",
    "<div style=\"width: 48%; line-height: 1.5;\">\n",
    "\n",
    "####   2 \n",
    "\n",
    "The World Geodetic System (WGS-84) approximates Earth's geoid as an oblate spheroid with semi-major axis $a = 6378137.0 \\, \\text{m}$ and semi-minor axis $c = 6356752.314245 \\, \\text{m}$. Use the formula for the surface area of an oblate spheroid:\n",
    "$$\n",
    "S_{\\text{obl}} = 2 \\pi a^2 \\left( 1 + \\frac{(1 - e^2)}{e} \\text{atanh}(e) \\right)\n",
    "$$\n",
    "where \n",
    "$$\n",
    "e^2 = 1 - \\frac{c^2}{a^2},\n",
    "$$ \n",
    "to calculate the surface area of this ellipsoid. Compare it with the surface area of a sphere with radius $6371 \\, \\text{km}$.\n",
    "\n",
    "</div>\n",
    "\n",
    "<div style=\"width: 4%;\">\n",
    "</div>\n",
    "\n",
    "<div style=\"width: 48%; line-height: 1.5;color: grey;\">\n",
    "\n",
    "####   2 \n",
    "\n",
    "Das World Geodetic System (WGS-84) approximiert das Geoid der Erde als ein abgeflachtes Sphäroid mit der Hauptachse $a = 6378137.0 \\, \\text{m}$ und der Nebenachse $c = 6356752.314245 \\, \\text{m}$. Verwenden Sie die Formel für den Flächeninhalt eines abgeflachten Sphäroids:\n",
    "$$\n",
    "S_{\\text{obl}} = 2 \\pi a^2 \\left( 1 + \\frac{(1 - e^2)}{e} \\text{atanh}(e) \\right)\n",
    "$$\n",
    "wobei\n",
    "$$\n",
    "e^2 = 1 - \\frac{c^2}{a^2},\n",
    "$$\n",
    "um den Flächeninhalt dieses Ellipsoids zu berechnen. Vergleichen Sie sie mit der Fläche einer Kugel mit dem Radius $6371 \\, \\text{km}$.\n",
    "\n",
    "</div>\n",
    "</div>"
   ]
  },
  {
   "cell_type": "code",
   "execution_count": 61,
   "metadata": {},
   "outputs": [
    {
     "name": "stdout",
     "output_type": "stream",
     "text": [
      "510065621724078.94\n",
      "510064471909788.25\n",
      "-0.00022542477707103626\n"
     ]
    }
   ],
   "source": [
    "a, c, r = 6_378_137, 6_356_752.314245, 6_371_000\n",
    "\n",
    "e = math.sqrt(1 - (c**2/a**2))\n",
    "\n",
    "S_obl = 2 * math.pi * a**2 * (1 + ((1 - e**2) * math.atanh(e) / e))\n",
    "\n",
    "S_sphere = 4* math.pi * r**2\n",
    "\n",
    "print(S_obl)\n",
    "print(S_sphere)\n",
    "print(100 * (S_sphere - S_obl) / S_obl)"
   ]
  },
  {
   "cell_type": "markdown",
   "metadata": {},
   "source": [
    "<div class=\"alert alert-block alert-light\">\n",
    "\n",
    "<div style=\"display: flex; justify-content: space-between;\">\n",
    "<div style=\"width: 48%; line-height: 1.5;\">\n",
    "\n",
    "####   3 \n",
    "\n",
    "How many times must a sheet of paper with  thickness, $t = 0.1~\\mathrm{mm}$ be folded to reach the moon (distance from Earth, $d = 384400~\\mathrm{km}$)?\n",
    "\n",
    "</div>\n",
    "\n",
    "<div style=\"width: 4%;\">\n",
    "</div>\n",
    "\n",
    "<div style=\"width: 48%; line-height: 1.5;color: grey;\">\n",
    "\n",
    "####   3 \n",
    "\n",
    "Wie oft muss ein Blatt Papier mit der Dicke $t = 0.1~\\mathrm{mm}$ gefaltet werden, um den Mond zu erreichen (Entfernung von der Erde, $d = 384400~\\mathrm{km}$)?\n",
    "\n",
    "</div>\n",
    "</div>"
   ]
  },
  {
   "cell_type": "markdown",
   "metadata": {},
   "source": [
    "<details>\n",
    "  <summary>Click to reveal the solution</summary>\n",
    "\n",
    "<div style=\"display: flex; justify-content: space-between;\">\n",
    "<div style=\"width: 48%; line-height: 1.5;\">\n",
    "\n",
    "Each time we fold the paper, we double its thickness. Therefore, if we fold the paper $n$ times, its thickness becomes $t \\cdot 2^n$. \n",
    "Setting $t \\cdot 2^n \\geq d$ gives us $n = \\log_2\\left(\\frac{d}{t}\\right)$.\n",
    "\n",
    "</div>\n",
    "\n",
    "<div style=\"width: 4%;\">\n",
    "</div>\n",
    "\n",
    "<div style=\"width: 48%; line-height: 1.5;color: grey;\">\n",
    "\n",
    "Jedes Mal, wenn wir das Papier falten, verdoppeln wir seine Dicke. Wenn wir also das Papier $n$ mal falten, wird es $t \\cdot 2^n$ dick.\n",
    "Setzt man $t \\cdot 2^n \\geq d$, so erhält man $n = \\log_2\\left(\\frac{d}{t}\\right)$.\n",
    "\n",
    "</div>\n",
    "</details>"
   ]
  },
  {
   "cell_type": "markdown",
   "metadata": {},
   "source": [
    "<div class=\"alert alert-block alert-light\">\n",
    "\n",
    "<div style=\"display: flex; justify-content: space-between;\">\n",
    "<div style=\"width: 48%; line-height: 1.5;\">\n",
    "\n",
    "####   4 \n",
    "The mole is defined as an Avogadro's number of anything.  For example, $1$ mole (mol) of carbon atoms is equal to $6.022 \\cdot 10^{23}$ atoms. Calculate the number of moles of carbon atoms in a sample of $1.67 \\cdot 10^{24}$ carbon atoms. \n",
    "</div>\n",
    "<div style=\"width: 4%;\">\n",
    "</div>\n",
    "<div style=\"width: 48%; line-height: 1.5;color: grey;\">\n",
    "\n",
    "####   4 \n",
    "Das Mol ist definiert als die Avogadrosche Zahl von irgendetwas.  Zum Beispiel ist $1$ Mol (mol) von Kohlenstoff-Atomen gleich $6.022 \\cdot 10^{23}$ Atome. Berechne die Anzahl der Mole der Kohlenstoffatome in einer Probe von $1.67 \\cdot 10^{24}$ Kohlenstoffatomen.\n",
    "</div>\n",
    "</div>"
   ]
  },
  {
   "cell_type": "code",
   "execution_count": null,
   "metadata": {},
   "outputs": [],
   "source": [
    "1.67e24 / 6.022e23"
   ]
  },
  {
   "cell_type": "markdown",
   "metadata": {},
   "source": [
    "<div class=\"alert alert-block alert-light\">\n",
    "\n",
    "<div style=\"display: flex; justify-content: space-between;\">\n",
    "<div style=\"width: 48%; line-height: 1.5;\">\n",
    "\n",
    "####   5 \n",
    "The periodic table shows valuable information for all known elements. Use variables to store the atomic masses ($\\mathrm{g/mol}$) for carbon, hydrogen, and oxygen, which are $12.011$, $1.008$, and $15.999$, respectively.\n",
    "</div>\n",
    "<div style=\"width: 4%;\">\n",
    "</div>\n",
    "<div style=\"width: 48%; line-height: 1.5;color: grey;\">\n",
    "\n",
    "####   5 \n",
    "Das Periodensystem enthält wertvolle Informationen für alle bekannten Elemente. Verwenden Sie Variablen, um die Atommassen ($\\mathrm{g/mol}$) für Kohlenstoff, Wasserstoff und Sauerstoff zu speichern, die $12.011$, $1.008$ bzw. $15.999$ betragen.\n",
    "</div>\n",
    "</div>"
   ]
  },
  {
   "cell_type": "code",
   "execution_count": null,
   "metadata": {},
   "outputs": [],
   "source": [
    "carbon = 12.011\n",
    "hydrogen = 1.008\n",
    "oxygen = 15.999"
   ]
  },
  {
   "cell_type": "markdown",
   "metadata": {},
   "source": [
    "<div class=\"alert alert-block alert-light\">\n",
    "\n",
    "<div style=\"display: flex; justify-content: space-between;\">\n",
    "<div style=\"width: 48%; line-height: 1.5;\">\n",
    "\n",
    "####   6 \n",
    "The atomic mass of carbon is $12.011\\, \\mathrm{g \\cdot mol^{-1}}$. This means that $1\\, \\mathrm{mol}$ of carbon is equal to $12.011\\, \\mathrm{g}$. Calculate the mass of $0.56$ mol of carbon using the variable you assigned for the carbon atomic mass.\n",
    "</div>\n",
    "<div style=\"width: 4%;\">\n",
    "</div>\n",
    "<div style=\"width: 48%; line-height: 1.5;color: grey;\">\n",
    "\n",
    "####   6 \n",
    "Die Atommasse von Kohlenstoff beträgt $12.011\\, \\mathrm{g \\cdot mol^{-1}}$. Das bedeutet, dass $1\\, \\mathrm{mol}$ Kohlenstoff $12.011\\, \\mathrm{g}$ entspricht. Berechnen Sie die Masse von $0.56$ Mol Kohlenstoff mit Hilfe der Variablen, die Sie für die Atommasse des Kohlenstoffs vergeben haben.\n",
    "</div>\n",
    "</div>"
   ]
  },
  {
   "cell_type": "code",
   "execution_count": null,
   "metadata": {},
   "outputs": [],
   "source": [
    "mass_carbon = 0.56 * carbon\n",
    "\n",
    "mass_carbon"
   ]
  },
  {
   "cell_type": "markdown",
   "metadata": {},
   "source": [
    "<div class=\"alert alert-block alert-light\">\n",
    "\n",
    "<div style=\"display: flex; justify-content: space-between;\">\n",
    "<div style=\"width: 48%; line-height: 1.5;\">\n",
    "\n",
    "####   7 \n",
    "The molar mass of a molecule is calculated by adding the atomic masses of all of the atoms in the molecule. Calculate the molar mass of glucose, $\\mathrm{C_6H_{12}O_6}$, using variables you assigned for the atomic masses of the elements in the molecule.\n",
    "</div>\n",
    "<div style=\"width: 4%;\">\n",
    "</div>\n",
    "<div style=\"width: 48%; line-height: 1.5;color: grey;\">\n",
    "\n",
    "####   7 \n",
    "Die molare Masse eines Moleküls wird durch Addition der Atommassen aller Atome des Moleküls berechnet. Berechnen Sie die molare Masse von Glucose $\\mathrm{C_6H_{12}O_6}$ mit Hilfe der Variablen, die Sie für die Atommassen der Elemente im Molekül vergeben haben.\n",
    "</div>\n",
    "</div>"
   ]
  },
  {
   "cell_type": "code",
   "execution_count": null,
   "metadata": {},
   "outputs": [],
   "source": [
    "molar_mass_glucose = (6 * carbon) + (12 * hydrogen) + (6 * oxygen)\n",
    "\n",
    "molar_mass_glucose"
   ]
  },
  {
   "cell_type": "markdown",
   "metadata": {},
   "source": [
    "<div class=\"alert alert-block alert-light\">\n",
    "\n",
    "<div style=\"display: flex; justify-content: space-between;\">\n",
    "<div style=\"width: 48%; line-height: 1.5;\">\n",
    "\n",
    "####   8 \n",
    "Use a variable to store the value of the atomic mass of glucose. Use this variable to calculate the number of moles contained in a $12.7\\, \\mathrm{g}$ sample of glucose. How many <i>molecules</i> of glucose are contained in the sample?\n",
    "</div>\n",
    "<div style=\"width: 4%;\">\n",
    "</div>\n",
    "<div style=\"width: 48%; line-height: 1.3;color: grey;\">\n",
    "\n",
    "####   8 \n",
    "Verwenden Sie eine Variable, um den Wert der Atommasse von Glukose zu speichern. Verwenden Sie diese Variable, um die Anzahl der Mole zu berechnen, die in einer $12.7\\, \\mathrm{g}$ schweren Glukoseprobe enthalten sind. Wie viele <i>Moleküle</i> von Glucose sind in der Probe enthalten?\n",
    "</div>\n",
    "</div>"
   ]
  },
  {
   "cell_type": "code",
   "execution_count": null,
   "metadata": {},
   "outputs": [],
   "source": [
    "mols_glucose = 12.7 / molar_mass_glucose\n",
    "\n",
    "molecules_glucose = mols_glucose * 6.022e23\n",
    "\n",
    "molecules_glucose"
   ]
  },
  {
   "cell_type": "markdown",
   "metadata": {},
   "source": [
    "<div class=\"alert alert-block alert-light\">\n",
    "\n",
    "<div style=\"display: flex; justify-content: space-between;\">\n",
    "<div style=\"width: 48%; line-height: 1.5;\">\n",
    "\n",
    "####   9 \n",
    "\n",
    "The concentration of hydronium ions, $\\mathrm{H_3O^+}$, can range over large magnitudes of concentration, therefore, this concentration is more readily represented using the <i>pH</i> scale, which is a logarithmic scale.  \n",
    "\n",
    "The relationship between the concentration of $\\mathrm{H_3O^+}$ and pH is given by the equation: \n",
    "</div>\n",
    "<div style=\"width: 4%;\">\n",
    "</div>\n",
    "<div style=\"width: 48%; line-height: 1.5;color: grey;\">\n",
    "\n",
    "####   9 \n",
    "\n",
    "Die Konzentration von Hydronium-Ionen, $\\mathrm{H_3O^+}$, kann sich über große Konzentrationsbereiche erstrecken, daher lässt sich diese Konzentration besser mit der <i>pH</i>-Skala darstellen, die eine logarithmische Skala ist.  \n",
    "\n",
    "Die Beziehung zwischen der Konzentration von $\\mathrm{H_3O^+}$ und dem pH-Wert wird durch die folgende Gleichung dargestellt: \n",
    "</div>\n",
    "</div>\n",
    "<div style=\"text-align: center; margin-top: 20px;\">\n",
    "\n",
    "$$\n",
    "\\mathrm{pH = - \\log \\left[ H_3O^+ \\right]}\n",
    "$$\n",
    "</div>\n",
    "<div style=\"display: flex; justify-content: space-between;\">\n",
    "<div style=\"width: 48%; line-height: 1.5;\">\n",
    "\n",
    "where $\\log$ is the logarithm to the base $10$. \n",
    "\n",
    "Calculate the pH of a solution containing $\\mathrm{\\left[ H_3O^+ \\right] = 5.3 \\cdot 10^{-3} M}$. \n",
    "\n",
    "Note: Molarity $\\mathrm{M}$ (mole of solute per liter of solution) is the unit of concentration used when calculating pH. \n",
    "</div>\n",
    "<div style=\"width: 4%;\">\n",
    "</div>\n",
    "<div style=\"width: 48%; line-height: 1.5;color: grey;\">\n",
    "\n",
    "wobei $\\log$ der Logarithmus zur Basis $10$ ist. \n",
    "\n",
    "Berechnen Sie den pH-Wert einer Lösung mit $\\mathrm{\\left[ H_3O^+ \\right] = 5.3 \\cdot 10^{-3} M}$. \n",
    "\n",
    "Anmerkung: Die Molarität $\\mathrm{M}$ (Mol der gelösten Substanz pro Liter Lösung) ist die Konzentrationseinheit, die bei der Berechnung des pH-Wertes verwendet wird.\n",
    "</div>\n",
    "</div>"
   ]
  },
  {
   "cell_type": "code",
   "execution_count": null,
   "metadata": {},
   "outputs": [],
   "source": [
    "import math\n",
    "\n",
    "M = 5.3e-3\n",
    "\n",
    "pH = -math.log10(M)\n",
    "\n",
    "round(pH, 2)"
   ]
  },
  {
   "cell_type": "markdown",
   "metadata": {},
   "source": [
    "<div class=\"alert alert-block alert-light\">\n",
    "\n",
    "<div style=\"display: flex; justify-content: space-between;\">\n",
    "<div style=\"width: 48%; line-height: 1.5;\">\n",
    "\n",
    "####   10 \n",
    "\n",
    "How many molecules of water are there in a $250\\, \\mathrm{mL}$ glass of water?\n",
    "Use the following values for the density and the molar mass:\n",
    "</div>\n",
    "<div style=\"width: 4%;\">\n",
    "</div>\n",
    "<div style=\"width: 48%; line-height: 1.5;color: grey;\">\n",
    "\n",
    "####   10 \n",
    "\n",
    "Wie viele Wassermoleküle befinden sich in einem $250\\, \\mathrm{mL}$ Glas Wasser?\n",
    "Verwenden Sie die folgenden Werte für die Dichte und die molare Masse:\n",
    "</div>\n",
    "</div>\n",
    "<div style=\"text-align: center; margin-top: 20px;\">\n",
    "\n",
    "$$\n",
    "\\rho = 1\\, \\mathrm{g \\cdot cm^{-3}}\n",
    "$$\n",
    "$$\n",
    "M = 18\\, \\mathrm{g \\cdot mol^{-1}}\n",
    "$$"
   ]
  },
  {
   "cell_type": "code",
   "execution_count": null,
   "metadata": {},
   "outputs": [],
   "source": [
    "N_A = 6.022e23  # Avogadro constant\n",
    "V = 250 # V = 250 mL = 250 cm^3\n",
    "rho = 1 # density\n",
    "molar_mass = 18 # molar mass\n",
    "\n",
    "mass = V * rho\n",
    "\n",
    "moles = mass / molar_mass\n",
    "\n",
    "molecules = moles * N_A\n",
    "\n",
    "molecules"
   ]
  },
  {
   "cell_type": "markdown",
   "metadata": {},
   "source": [
    "<div class=\"alert alert-block alert-light\">\n",
    "\n",
    "<div style=\"display: flex; justify-content: space-between;\">\n",
    "<div style=\"width: 48%; line-height: 1.5;\">\n",
    "\n",
    "####  11 \n",
    "\n",
    "The speed of sound in a gas of molar mass M at temperature T is:\n",
    "</div>\n",
    "<div style=\"width: 4%;\">\n",
    "</div>\n",
    "<div style=\"width: 48%; line-height: 1.5;color: grey;\">\n",
    "\n",
    "####  11 \n",
    "\n",
    "Die Schallgeschwindigkeit in einem Gas der molaren Masse M bei der Temperatur T ist:\n",
    "</div>\n",
    "</div>\n",
    "<div style=\"text-align: center; margin-top: 20px;\">\n",
    "\n",
    "$$\n",
    "c = \\sqrt{\\frac{\\gamma R T}{M}},\n",
    "$$\n",
    "</div>\n",
    "<div style=\"display: flex; justify-content: space-between;\">\n",
    "<div style=\"width: 48%; line-height: 1.5;\">\n",
    "\n",
    "where $R$ is the gas constant, $M$ is the molar mass, and $\\gamma$ is the adiabatic index, defined as the ratio of the heat capacities $\\frac{C_p}{C_V}$. (Don’t worry, you weren’t expected to know that!) \n",
    "\n",
    "For air, $\\gamma = \\frac{7}{5}$.\n",
    "\n",
    "Estimate the speed of sound in air at the following temperatures:\n",
    "\n",
    "- $25^{\\circ}\\, \\mathrm{C}$\n",
    "- $-20^{\\circ}\\, \\mathrm{C}$\n",
    "\n",
    "Please note that according to SI units, $c$ should be in $\\mathrm{m \\cdot s^{-1}}$, and that implies expressing $M$ in $\\mathrm{kg \\cdot mol^{-1}}$ and the temperature in Kelvin.\n",
    "</div>\n",
    "<div style=\"width: 4%;\">\n",
    "</div>\n",
    "<div style=\"width: 48%; line-height: 1.5;color: grey;\">\n",
    "\n",
    "wobei ist $R$ die Gaskonstante, $M$ die molare Masse und $\\gamma$ der adiabatische Index, definiert als das Verhältnis der Wärmekapazitäten $\\frac{C_p}{C_V}$. (Keine Sorge, das sollten Sie nicht wissen!) \n",
    "\n",
    "Für Luft ist $\\gamma = \\frac{7}{5}$.\n",
    "\n",
    "Schätzen Sie die Schallgeschwindigkeit in Luft bei den folgenden Temperaturen:\n",
    "\n",
    "- $25^{\\circ}\\, \\mathrm{C}$\n",
    "- $-20^{\\circ}\\, \\mathrm{C}$\n",
    "\n",
    "Bitte beachten Sie, dass nach den SI-Einheiten $c$ in $\\mathrm{m \\cdot s^{-1}}$ angegeben werden sollte, was bedeutet, dass $M$ in $\\mathrm{kg \\cdot mol^{-1}}$ und die Temperatur in Kelvin ausgedrückt werden.\n",
    "</div>\n",
    "</div>"
   ]
  },
  {
   "cell_type": "code",
   "execution_count": null,
   "metadata": {},
   "outputs": [],
   "source": [
    "R = 8.314   # gas constant in J K / mol\n",
    "molar_mass = 29/1000# M in kg/mol\n",
    "gamma = 7/5 # gamma\n",
    "\n",
    "T_1 = 25 + 273  # T_1 in Kelvin\n",
    "T_2 = -20 + 273  # T_2 in Kelvin\n",
    "\n",
    "c_1 = math.sqrt((gamma * R * T_1)/molar_mass)\n",
    "print(round(c_1)) \n",
    "\n",
    "c_2 = math.sqrt((gamma * R * T_2)/molar_mass)\n",
    "print(round(c_2)) "
   ]
  },
  {
   "cell_type": "markdown",
   "metadata": {},
   "source": [
    "<div class=\"alert alert-block alert-light\">\n",
    "\n",
    "<div style=\"display: flex; justify-content: space-between;\">\n",
    "<div style=\"width: 48%; line-height: 1.5;\">\n",
    "\n",
    "####   12 \n",
    "\n",
    "Calculate the gravitational force that attracts two bodies with masses $M$ and $m$:\n",
    "</div>\n",
    "<div style=\"width: 4%;\">\n",
    "</div>\n",
    "<div style=\"width: 48%; line-height: 1.3;color: grey;\">\n",
    "\n",
    "####   12 \n",
    "\n",
    "Berechnen Sie die Gravitationskraft, die zwei Körper mit den Massen $M$ und $m$ anzieht:\n",
    "</div>\n",
    "</div>\n",
    "<div style=\"text-align: center; margin-top: 20px;\">\n",
    "\n",
    "$$\n",
    "F_g= - G \\frac{M \\cdot m}{r^2}.\n",
    "$$\n",
    "</div>\n",
    "<div style=\"display: flex; justify-content: space-between;\">\n",
    "<div style=\"width: 48%; line-height: 1.5;\">\n",
    "\n",
    "Use the following values (what are they? can you guess?):\n",
    "</div>\n",
    "<div style=\"width: 4%;\">\n",
    "</div>\n",
    "<div style=\"width: 48%; line-height: 1.3;color: grey;\">\n",
    "\n",
    "Verwenden Sie die folgenden Werte (Was sind sie? Können Sie es erraten?):\n",
    "</div>\n",
    "</div>\n",
    "<div style=\"text-align: center; margin-top: 20px;\">\n",
    "\n",
    "$$ G = 6.67430 \\cdot 10^{-11} \\, \\text{m}^3 \\cdot \\mathrm{kg}^{-1\\cdot} \\text{s}^{-2} \n",
    "$$\n",
    "$$\n",
    "M = 5.972 \\cdot 10^{24} \\, \\mathrm{kg}\n",
    "$$\n",
    "$$\n",
    "m = 7.348 \\cdot 10^{22} \\, \\mathrm{kg}\n",
    "$$\n",
    "$$\n",
    "r = 3.844 \\cdot 10^{8} \\, \\mathrm{m}$$\n",
    "</div>"
   ]
  },
  {
   "cell_type": "code",
   "execution_count": 1,
   "metadata": {},
   "outputs": [
    {
     "name": "stdout",
     "output_type": "stream",
     "text": [
      "The gravitational force between the Earth and the Moon is approximately -1.98e+20 N\n"
     ]
    }
   ],
   "source": [
    "# Constants\n",
    "G = 6.67430e-11  # Gravitational constant in m^3 kg^-1 s^-2\n",
    "M = 5.972e24  # Mass of Earth in kg\n",
    "m = 7.348e22  # Mass of Moon in kg\n",
    "r = 3.844e8  # Average distance between Earth and Moon in meters\n",
    "\n",
    "# Compute the force\n",
    "F = - G * (M * m) / r**2\n",
    "\n",
    "# Print the result\n",
    "print(f\"The gravitational force between the Earth and the Moon is approximately {F:.2e} N\")"
   ]
  },
  {
   "cell_type": "markdown",
   "metadata": {},
   "source": [
    "<div style=\"display: flex; justify-content: space-between;\">\n",
    "<div style=\"width: 48%; line-height: 1.5;\">\n",
    "\n",
    "# Bonus content\n",
    "</div>\n",
    "<div style=\"width: 4%;\">\n",
    "</div>\n",
    "<div style=\"width: 48%; line-height: 1.3;color: grey;\">\n",
    "\n",
    "# Bonus-Inhalt\n",
    "</div>\n",
    "</div>\n",
    "\n",
    "<div style=\"text-align: center;\">\n",
    "    <img src=\"https://fabiofigueiredo.net/assets/2022-05-25-sympy-intro/sympy.svg\" style=\"width: 750px;\">\n",
    "</div>"
   ]
  },
  {
   "cell_type": "markdown",
   "metadata": {},
   "source": [
    "<div style=\"display: flex; justify-content: space-between;\">\n",
    "<div style=\"width: 48%; line-height: 1.5;\">\n",
    "\n",
    "While Python is great for performing basic calculations and working with variables, sometimes you need to perform algebraic manipulations like solving equations, differentiating, or integrating expressions symbolically. \n",
    "This is where `SymPy` comes in.\n",
    "\n",
    "`SymPy` is a powerful Python library for *symbolic mathematics* (algebra). It allows you to manipulate mathematical expressions, solve equations, work with calculus, and even simplify complex algebraic formulas.\n",
    "\n",
    "We import `SymPy` as we did `math`, we the command `import`. We imprt it under the alias `sp` to make it easier to reference.\n",
    "\n",
    "</div>\n",
    "\n",
    "<div style=\"width: 4%;\">\n",
    "</div>\n",
    "\n",
    "<div style=\"width: 48%; line-height: 1.3;color: grey;\">\n",
    "\n",
    "Python eignet sich zwar hervorragend für die Durchführung grundlegender Berechnungen und die Arbeit mit Variablen, aber manchmal müssen Sie algebraische Manipulationen wie das Lösen von Gleichungen, Differenzieren oder Integrieren von Ausdrücken symbolisch durchführen.\n",
    "Hier kommt `SymPy` ins Spiel.\n",
    "\n",
    "`SymPy` ist eine leistungsstarke Python-Bibliothek für *symbolische Mathematik* (Algebra). Sie ermöglicht es Ihnen, mathematische Ausdrücke zu manipulieren, Gleichungen zu lösen, mit Kalkül zu arbeiten und sogar komplexe algebraische Formeln zu vereinfachen.\n",
    "\n",
    "Wir importieren `SymPy` wie wir `math` importiert haben, mit dem Befehl `import`. Wir importieren es unter dem Alias `sp`, um es leichter referenzieren zu können.\n",
    "\n",
    "</div>\n",
    "</div>"
   ]
  },
  {
   "cell_type": "code",
   "execution_count": 4,
   "metadata": {},
   "outputs": [],
   "source": [
    "import sympy as sp      # one import per notebook is enough\n",
    "from sympy import *     # we are importing all methods available in SymPy\n",
    "init_printing()         # including \"pretty printing\", which returns formatted expressions"
   ]
  },
  {
   "cell_type": "markdown",
   "metadata": {},
   "source": [
    "<div style=\"display: flex; justify-content: space-between;\">\n",
    "<div style=\"width: 48%; line-height: 1.5;\">\n",
    "\n",
    "### Solving equations (`solve`)\n",
    "\n",
    "First, let’s look at an example to understand how things work. We’ll revisit the Arrhenius task, where we needed to solve the Arrhenius equation for $T$:\n",
    "\n",
    "</div>\n",
    "\n",
    "<div style=\"width: 4%;\">\n",
    "</div>\n",
    "\n",
    "<div style=\"width: 48%; line-height: 1.3;color: grey;\">\n",
    "\n",
    "### Lösen von Gleichungen (`solve`)\n",
    "\n",
    "First, let’s look at an example to understand how things work. We’ll revisit the Arrhenius task, where we needed to solve the Arrhenius equation for $T$:\n",
    "\n",
    "</div>\n",
    "</div>\n",
    "\n",
    "$$ k_d = \\nu \\cdot \\exp\\left(-\\frac{E_a}{k_B \\cdot T}\\right) \\implies T = \\frac{E_a}{k_B \\ln(\\frac{\\nu}{k_d})}$$"
   ]
  },
  {
   "cell_type": "markdown",
   "metadata": {},
   "source": [
    "<div style=\"display: flex; justify-content: space-between;\">\n",
    "<div style=\"width: 48%; line-height: 1.5;\">\n",
    "\n",
    "The code to solve the equation with `SymPy` is as follows:\n",
    "\n",
    "</div>\n",
    "\n",
    "<div style=\"width: 4%;\">\n",
    "</div>\n",
    "\n",
    "<div style=\"width: 48%; line-height: 1.3;color: grey;\">\n",
    "\n",
    "Der Code zur Lösung der Gleichung mit `SymPy` lautet wie folgt:\n",
    "\n",
    "</div>\n",
    "</div>"
   ]
  },
  {
   "cell_type": "code",
   "execution_count": 5,
   "metadata": {},
   "outputs": [
    {
     "name": "stdout",
     "output_type": "stream",
     "text": [
      "[E_a/(k_B*log(nu/k_d))]\n"
     ]
    },
    {
     "data": {
      "image/png": "[encoded data removed]",
      "text/latex": [
       "$\\displaystyle \\left[ \\frac{E_{a}}{k_{B} \\log{\\left(\\frac{\\nu}{k_{d}} \\right)}}\\right]$"
      ],
      "text/plain": [
       "⎡     Eₐ     ⎤\n",
       "⎢────────────⎥\n",
       "⎢       ⎛ ν ⎞⎥\n",
       "⎢k_B⋅log⎜───⎟⎥\n",
       "⎣       ⎝k_d⎠⎦"
      ]
     },
     "metadata": {},
     "output_type": "display_data"
    }
   ],
   "source": [
    "# Step 1: Define the symbols (variables and constants) that will be used in the equation\n",
    "k_d, nu, E_a, k_B, T = sp.symbols('k_d nu E_a k_B T')\n",
    "\n",
    "\n",
    "# Step 2: Define the equation we want to solve\n",
    "# The equation represents: k_d = nu * exp(-E_a / (k_B * T))\n",
    "equation = sp.Eq(k_d, nu * sp.exp(-E_a / (k_B * T)))\n",
    "\n",
    "\n",
    "# Step 3: Solve the equation for T (temperature), which is the unknown variable\n",
    "T_solution = sp.solve(equation, T)\n",
    "\n",
    "\n",
    "# Step 4: Output the solution for T.\n",
    "print(T_solution)\n",
    "display(T_solution)"
   ]
  },
  {
   "cell_type": "markdown",
   "metadata": {},
   "source": [
    "<div style=\"display: flex; justify-content: space-between;\">\n",
    "<div style=\"width: 48%; line-height: 1.5;\">\n",
    "\n",
    "When you execute the code, you'll see that it returns the same result we previously calculated by hand.\n",
    "\n",
    "Now, let's go through the code step by step.\n",
    "\n",
    "</div>\n",
    "\n",
    "<div style=\"width: 4%;\">\n",
    "</div>\n",
    "\n",
    "<div style=\"width: 48%; line-height: 1.3;color: grey;\">\n",
    "\n",
    "Wenn Sie den Code ausführen, werden Sie sehen, dass er dasselbe Ergebnis liefert, das wir zuvor von Hand berechnet haben.\n",
    "\n",
    "Gehen wir nun den Code Schritt für Schritt durch.\n",
    "\n",
    "</div>\n",
    "</div>"
   ]
  },
  {
   "cell_type": "markdown",
   "metadata": {},
   "source": [
    "```python\n",
    "# Define the symbols\n",
    "k_d, nu, E_a, k_B, T = sp.symbols('k_d nu E_a k_B T')\n",
    "```\n",
    "\n",
    "<div style=\"display: flex; justify-content: space-between;\">\n",
    "<div style=\"width: 48%; line-height: 1.5;\">\n",
    "\n",
    "This line defines the variables (symbols) that we will use in the equation. In `SymPy`, we use `sp.symbols()` to create symbolic variables that represent mathematical quantities:\n",
    "\n",
    "- `k_d`: Symbol for the rate constant.\n",
    "\n",
    "- `nu`: Symbol for the frequency factor (pre-exponential factor).\n",
    "\n",
    "- `E_a`: Symbol for activation energy.\n",
    "\n",
    "- `k_B`: Symbol for Boltzmann constant.\n",
    "\n",
    "- `T`: Symbol for temperature, which we want to solve for.\n",
    "\n",
    "</div>\n",
    "\n",
    "<div style=\"width: 4%;\">\n",
    "</div>\n",
    "\n",
    "<div style=\"width: 48%; line-height: 1.3;color: grey;\">\n",
    "\n",
    "Diese Zeile definiert die Variablen (Symbole), die wir in der Gleichung verwenden werden. In `SymPy` verwenden wir `sp.symbols()`, um symbolische Variablen zu erstellen, die mathematische Größen darstellen:\n",
    "\n",
    "- `k_d`: Symbol für die Geschwindigkeitskonstante.\n",
    "\n",
    "- `nu`: Symbol für den Frequenzfaktor (vorexponentieller Faktor).\n",
    "\n",
    "- `E_a`: Symbol für die Aktivierungsenergie.\n",
    "\n",
    "- `k_B`: Symbol für die Boltzmann-Konstante.\n",
    "\n",
    "- `T`: Symbol für die Temperatur, für die wir eine Lösung finden wollen.\n",
    "\n",
    "</div>\n",
    "</div>"
   ]
  },
  {
   "cell_type": "markdown",
   "metadata": {},
   "source": [
    "$$ k_d = \\nu \\cdot \\exp\\left(-\\frac{E_a}{k_B \\cdot T}\\right) $$"
   ]
  },
  {
   "cell_type": "markdown",
   "metadata": {},
   "source": [
    "```python\n",
    "# Define the equation\n",
    "equation = sp.Eq(k_d, nu * sp.exp(-E_a / (k_B * T)))\n",
    "```\n",
    "\n",
    "<div style=\"display: flex; justify-content: space-between;\">\n",
    "<div style=\"width: 48%; line-height: 1.5;\">\n",
    "\n",
    "Here, we define the equation that we want to solve. `SymPy` uses `sp.Eq()` to represent an equation, where the first argument is the left-hand side and the second argument is the right-hand side of the equation.\n",
    "\n",
    "- `sp.Eq(k_d, ...)` sets the left-hand side of the equation to `k_d`.\n",
    "\n",
    "- `nu * sp.exp(-E_a / (k_B * T))` is the right-hand side of the equation, representing the frequency factor ($\\nu$) multiplied by the exponential term with the activation energy.\n",
    "\n",
    "In this case:\n",
    "\n",
    "</div>\n",
    "\n",
    "<div style=\"width: 4%;\">\n",
    "</div>\n",
    "\n",
    "<div style=\"width: 48%; line-height: 1.5;color: grey;\">\n",
    "\n",
    "Hier definieren wir die Gleichung, die wir lösen wollen. `SymPy` verwendet `sp.Eq()` zur Darstellung einer Gleichung, wobei das erste Argument die linke Seite und das zweite Argument die rechte Seite der Gleichung ist.\n",
    "\n",
    "- `sp.Eq(k_d, ...)` setzt die linke Seite der Gleichung auf `k_d`.\n",
    "\n",
    "- `nu * sp.exp(-E_a / (k_B * T))` ist die rechte Seite der Gleichung, die den Frequenzfaktor ($\\nu$) multipliziert mit dem Exponentialterm mit der Aktivierungsenergie darstellt.\n",
    "\n",
    "In diesem Fall:\n",
    "\n",
    "</div>\n",
    "</div>\n",
    "\n",
    "$$\n",
    "k_d = \\nu \\cdot \\exp\\left(-\\frac{E_a}{k_B \\cdot T}\\right)\n",
    "$$"
   ]
  },
  {
   "cell_type": "markdown",
   "metadata": {},
   "source": [
    "```python\n",
    "# Solve for T\n",
    "T_solution = sp.solve(equation, T)\n",
    "```\n",
    "\n",
    "<div style=\"display: flex; justify-content: space-between;\">\n",
    "<div style=\"width: 48%; line-height: 1.5;\">\n",
    "\n",
    "This line solves the equation for $T$. \n",
    "\n",
    "- `sp.solve(equation, T)` tells `SymPy` to solve the equation with respect to $T$. `SymPy` will isolate $T$ on one side of the equation and express it in terms of the other symbols ($k_d$, $\\nu$, $E_a$, and $k_B$).\n",
    "\n",
    "The result is stored in `T_solution`, which will contain the mathematical solution for $T$.\n",
    "\n",
    "</div>\n",
    "\n",
    "<div style=\"width: 4%;\">\n",
    "</div>\n",
    "\n",
    "<div style=\"width: 48%; line-height: 1.5;color: grey;\">\n",
    "\n",
    "Diese Linie löst die Gleichung für $T$.\n",
    "\n",
    "- `sp.solve(equation, T)` weist `SymPy` an, die Gleichung in Bezug auf $T$ zu lösen. `SymPy` isoliert $T$ auf einer Seite der Gleichung und drückt sie in Form der anderen Symbole ($k_d$, $\\nu$, $E_a$ und $k_B$) aus.\n",
    "\n",
    "Das Ergebnis wird in `T_solution` gespeichert, das die mathematische Lösung für $T$ enthält.\n",
    "\n",
    "</div>\n",
    "</div>"
   ]
  },
  {
   "cell_type": "markdown",
   "metadata": {},
   "source": [
    "<div style=\"display: flex; justify-content: space-between;\">\n",
    "<div style=\"width: 48%; line-height: 1.5;\">\n",
    "\n",
    "`SymPy` offers many more features:\n",
    "\n",
    "### Simplifying Expressions (`simplify`)\n",
    "\n",
    "In this example, `SymPy` recognizes that $\\dfrac{x^2 - 1}{x - 1}$ simplifies to $x + 1$, and automatically performs the simplification for you:\n",
    "\n",
    "</div>\n",
    "\n",
    "<div style=\"width: 4%;\">\n",
    "</div>\n",
    "\n",
    "<div style=\"width: 48%; line-height: 1.5;color: grey;\">\n",
    "\n",
    "`SymPy` bietet viele weitere Funktionen:\n",
    "\n",
    "### Vereinfachung von Ausdrücken (`simplify`)\n",
    "\n",
    "In diesem Beispiel erkennt `SymPy`, dass $\\dfrac{x^2 - 1}{x - 1}$ sich zu $x + 1$ vereinfacht, und führt die Vereinfachung automatisch für Sie durch:\n",
    "\n",
    "</div>\n",
    "</div>"
   ]
  },
  {
   "cell_type": "code",
   "execution_count": 24,
   "metadata": {},
   "outputs": [
    {
     "data": {
      "image/png": "[encoded data removed]",
      "text/latex": [
       "$\\displaystyle x + 1$"
      ],
      "text/plain": [
       "x + 1"
      ]
     },
     "execution_count": 24,
     "metadata": {},
     "output_type": "execute_result"
    }
   ],
   "source": [
    "x = sp.symbols('x')\n",
    "\n",
    "expr = (x**2 - 1) / (x - 1)\n",
    "\n",
    "simplified_expr = sp.simplify(expr)\n",
    "\n",
    "simplified_expr  # Output: x + 1"
   ]
  },
  {
   "cell_type": "markdown",
   "metadata": {},
   "source": [
    "<div style=\"display: flex; justify-content: space-between;\">\n",
    "<div style=\"width: 48%; line-height: 1.5;\">\n",
    "\n",
    "\n",
    "### Differentiation (`diff`)\n",
    "\n",
    "</div>\n",
    "\n",
    "<div style=\"width: 4%;\">\n",
    "</div>\n",
    "\n",
    "<div style=\"width: 48%; line-height: 1.5;color: grey;\">\n",
    "\n",
    "\n",
    "### Differenzierung (`diff`)\n",
    "\n",
    "</div>\n",
    "</div>"
   ]
  },
  {
   "cell_type": "code",
   "execution_count": 26,
   "metadata": {},
   "outputs": [
    {
     "data": {
      "image/png": "[encoded data removed]",
      "text/latex": [
       "$\\displaystyle 3 x^{2} + 6 x + 2$"
      ],
      "text/plain": [
       "   2          \n",
       "3⋅x  + 6⋅x + 2"
      ]
     },
     "metadata": {},
     "output_type": "display_data"
    }
   ],
   "source": [
    "x = sp.symbols('x')\n",
    "\n",
    "f = x**3 + 3*x**2 + 2*x + 1\n",
    "\n",
    "derivative = sp.diff(f, x)\n",
    "\n",
    "display(derivative)  # Output: 3*x**2 + 6*x + 2"
   ]
  },
  {
   "cell_type": "markdown",
   "metadata": {},
   "source": [
    "<div style=\"display: flex; justify-content: space-between;\">\n",
    "<div style=\"width: 48%; line-height: 1.5;\">\n",
    "\n",
    "\n",
    "### Integration (`integrate`)\n",
    "\n",
    "</div>\n",
    "\n",
    "<div style=\"width: 4%;\">\n",
    "</div>\n",
    "\n",
    "<div style=\"width: 48%; line-height: 1.5;color: grey;\">\n",
    "\n",
    "\n",
    "### Integration (`integrate`)\n",
    "\n",
    "</div>\n",
    "</div>"
   ]
  },
  {
   "cell_type": "code",
   "execution_count": 27,
   "metadata": {},
   "outputs": [
    {
     "data": {
      "image/png": "[encoded data removed]",
      "text/latex": [
       "$\\displaystyle \\frac{x^{4}}{4} + x^{3} + x^{2} + x$"
      ],
      "text/plain": [
       " 4              \n",
       "x     3    2    \n",
       "── + x  + x  + x\n",
       "4               "
      ]
     },
     "execution_count": 27,
     "metadata": {},
     "output_type": "execute_result"
    }
   ],
   "source": [
    "x = sp.symbols('x')\n",
    "\n",
    "f = x**3 + 3*x**2 + 2*x + 1\n",
    "\n",
    "integral = sp.integrate(f, x)\n",
    "\n",
    "integral  # Output: x**4/4 + x**3 + x**2 + x"
   ]
  },
  {
   "cell_type": "markdown",
   "metadata": {},
   "source": [
    "<div style=\"text-align: center;\">\n",
    "    <img src=\"https://imgs.xkcd.com/comics/differentiation_and_integration.png\" style=\"width: 60%; max-width: 500px;\">\n",
    "</div>"
   ]
  },
  {
   "cell_type": "markdown",
   "metadata": {},
   "source": [
    "<div class=\"alert alert-block alert-light\">\n",
    "\n",
    "<div style=\"display: flex; justify-content: space-between;\">\n",
    "<div style=\"width: 48%; line-height: 1.5;\">\n",
    "\n",
    "####   Exercise \n",
    "\n",
    "Integrate the gravitational force between two masses, $m_1$ and $m_2$, to determine the potential energy. Then, differentiate the potential energy to obtain the gravitational force.\n",
    "\n",
    "</div>\n",
    "<div style=\"width: 4%;\">\n",
    "</div>\n",
    "<div style=\"width: 48%; line-height: 1.3;color: grey;\">\n",
    "\n",
    "####   Übung \n",
    "\n",
    "Integrieren Sie die Gravitationskraft zwischen zwei Massen $m_1$ und $m_2$, um die potentielle Energie zu bestimmen. Anschließend differenzieren Sie die potentielle Energie, um die Gravitationskraft zu erhalten.\n",
    "\n",
    "</div>\n",
    "</div>"
   ]
  },
  {
   "cell_type": "code",
   "execution_count": 59,
   "metadata": {},
   "outputs": [
    {
     "data": {
      "image/png": "[encoded data removed]",
      "text/latex": [
       "$\\displaystyle - \\frac{G m_{1} m_{2}}{r}$"
      ],
      "text/plain": [
       "-G⋅m₁⋅m₂ \n",
       "─────────\n",
       "    r    "
      ]
     },
     "metadata": {},
     "output_type": "display_data"
    },
    {
     "data": {
      "image/png": "[encoded data removed]",
      "text/latex": [
       "$\\displaystyle - \\frac{G m_{1} m_{2}}{r^{2}}$"
      ],
      "text/plain": [
       "-G⋅m₁⋅m₂ \n",
       "─────────\n",
       "     2   \n",
       "    r    "
      ]
     },
     "metadata": {},
     "output_type": "display_data"
    },
    {
     "name": "stdout",
     "output_type": "stream",
     "text": [
      "True\n"
     ]
    }
   ],
   "source": [
    "# Define variables\n",
    "m1, m2, G, r = sp.symbols('m1 m2 G r')\n",
    "\n",
    "# Gravitational force equation\n",
    "force = - G * m1 * m2 / r**2\n",
    "\n",
    "# Integrate the force to derive potential energy\n",
    "potential_energy = sp.integrate(-force, r)\n",
    "\n",
    "# Differentiate the potential energy to find the force again\n",
    "force_from_potential = sp.diff(-potential_energy, r)\n",
    "\n",
    "display(potential_energy, force_from_potential)\n",
    "print(force_from_potential == force)"
   ]
  },
  {
   "cell_type": "markdown",
   "metadata": {},
   "source": [
    "<div style=\"display: flex; justify-content: space-between;\">\n",
    "<div style=\"width: 48%; line-height: 1.5;\">\n",
    "\n",
    "\n",
    "### Substituting Values into Expressions (`subs`)\n",
    "\n",
    "This substitutes $x = 3$ into the expression $x^2 + 2x + 1$, evaluating the result as 16:\n",
    "\n",
    "</div>\n",
    "\n",
    "<div style=\"width: 4%;\">\n",
    "</div>\n",
    "\n",
    "<div style=\"width: 48%; line-height: 1.5;color: grey;\">\n",
    "\n",
    "\n",
    "### Ersetzen von Werten in Ausdrücken (`subs`)\n",
    "\n",
    "Damit wird $x = 3$ in den Ausdruck $x^2 + 2x + 1$ eingesetzt und das Ergebnis als 16 gewertet:\n",
    "\n",
    "</div>\n",
    "</div>"
   ]
  },
  {
   "cell_type": "code",
   "execution_count": 28,
   "metadata": {},
   "outputs": [
    {
     "data": {
      "image/png": "[encoded data removed]",
      "text/latex": [
       "$\\displaystyle 16$"
      ],
      "text/plain": [
       "16"
      ]
     },
     "execution_count": 28,
     "metadata": {},
     "output_type": "execute_result"
    }
   ],
   "source": [
    "x = sp.symbols('x')\n",
    "\n",
    "expr = x**2 + 2*x + 1\n",
    "\n",
    "evaluated_expr = expr.subs(x, 3)\n",
    "\n",
    "evaluated_expr  # Output: 16"
   ]
  },
  {
   "cell_type": "markdown",
   "metadata": {},
   "source": [
    "<div style=\"display: flex; justify-content: space-between;\">\n",
    "<div style=\"width: 48%; line-height: 1.5;\">\n",
    "\n",
    "\n",
    "### Expanding Expressions (`expand`)\n",
    "\n",
    "</div>\n",
    "\n",
    "<div style=\"width: 4%;\">\n",
    "</div>\n",
    "\n",
    "<div style=\"width: 48%; line-height: 1.5;color: grey;\">\n",
    "\n",
    "\n",
    "### Erweitern von Ausdrücken (`expand`)\n",
    "\n",
    "</div>\n",
    "</div>"
   ]
  },
  {
   "cell_type": "code",
   "execution_count": 29,
   "metadata": {},
   "outputs": [
    {
     "data": {
      "image/png": "[encoded data removed]",
      "text/latex": [
       "$\\displaystyle x^{2} + 2 x + 1$"
      ],
      "text/plain": [
       " 2          \n",
       "x  + 2⋅x + 1"
      ]
     },
     "execution_count": 29,
     "metadata": {},
     "output_type": "execute_result"
    }
   ],
   "source": [
    "x = sp.symbols('x')\n",
    "\n",
    "expr = (x + 1) ** 2\n",
    "\n",
    "expanded_expr = sp.expand(expr)\n",
    "\n",
    "expanded_expr  # Output: x**2 + 2*x + 1"
   ]
  },
  {
   "cell_type": "markdown",
   "metadata": {},
   "source": [
    "<div style=\"display: flex; justify-content: space-between;\">\n",
    "<div style=\"width: 48%; line-height: 1.5;\">\n",
    "\n",
    "\n",
    "### Factoring Expressions (`factor`)\n",
    "\n",
    "</div>\n",
    "\n",
    "<div style=\"width: 4%;\">\n",
    "</div>\n",
    "\n",
    "<div style=\"width: 48%; line-height: 1.5;color: grey;\">\n",
    "\n",
    "\n",
    "### Faktorisierung von Ausdrücken (`Faktor`)\n",
    "\n",
    "</div>\n",
    "</div>"
   ]
  },
  {
   "cell_type": "code",
   "execution_count": 23,
   "metadata": {},
   "outputs": [
    {
     "data": {
      "image/png": "[encoded data removed]",
      "text/latex": [
       "$\\displaystyle \\left(x + 1\\right)^{2}$"
      ],
      "text/plain": [
       "       2\n",
       "(x + 1) "
      ]
     },
     "execution_count": 23,
     "metadata": {},
     "output_type": "execute_result"
    }
   ],
   "source": [
    "x = sp.symbols('x')\n",
    "\n",
    "expr = x**2 + 2*x + 1\n",
    "\n",
    "factored_expr = sp.factor(expr)\n",
    "\n",
    "factored_expr  # Output: (x + 1)**2"
   ]
  },
  {
   "cell_type": "markdown",
   "metadata": {},
   "source": [
    "<div style=\"display: flex; justify-content: space-between;\">\n",
    "<div style=\"width: 48%; line-height: 1.5;\">\n",
    "\n",
    "\n",
    "### Limits (`limit`)\n",
    "\n",
    "</div>\n",
    "\n",
    "<div style=\"width: 4%;\">\n",
    "</div>\n",
    "\n",
    "<div style=\"width: 48%; line-height: 1.5;color: grey;\">\n",
    "\n",
    "\n",
    "### Grenzwerte (`limit`)\n",
    "\n",
    "</div>\n",
    "</div>"
   ]
  },
  {
   "cell_type": "code",
   "execution_count": 30,
   "metadata": {},
   "outputs": [
    {
     "data": {
      "image/png": "[encoded data removed]",
      "text/latex": [
       "$\\displaystyle \\infty$"
      ],
      "text/plain": [
       "∞"
      ]
     },
     "execution_count": 30,
     "metadata": {},
     "output_type": "execute_result"
    }
   ],
   "source": [
    "x = sp.symbols('x')\n",
    "\n",
    "expr = 1/x\n",
    "\n",
    "limit_expr = sp.limit(expr, x, 0)\n",
    "\n",
    "limit_expr  # Output: oo (infinity)"
   ]
  },
  {
   "cell_type": "markdown",
   "metadata": {},
   "source": [
    "<div style=\"display: flex; justify-content: space-between;\">\n",
    "<div style=\"width: 48%; line-height: 1.5;\">\n",
    "\n",
    "There is much more:\n",
    "\n",
    "- Calculating the roots of polynomials;\n",
    "\n",
    "- Systems of linear and nonlinear equations;\n",
    "\n",
    "- Evaluation of finite or infinite summations;\n",
    "\n",
    "- Taylor series expansions;\n",
    "\n",
    "- Ordinary differential equations (ODEs);\n",
    "\n",
    "- Partial differential equations (PDEs);\n",
    "\n",
    "- Matrix operations;\n",
    "\n",
    "- Laplace and Fourier transforms;\n",
    "\n",
    "- Complex analysis;\n",
    "\n",
    "- ...\n",
    "\n",
    "You are encouraged to look up the syntax if you come across a task you'd like to solve using `SymPy`.\n",
    "\n",
    "</div>\n",
    "\n",
    "<div style=\"width: 4%;\">\n",
    "</div>\n",
    "\n",
    "<div style=\"width: 48%; line-height: 1.5;color: grey;\">\n",
    "\n",
    "\n",
    "Es gibt noch viel mehr:\n",
    "\n",
    "- Berechnung der Wurzeln von Polynomen;\n",
    "\n",
    "- Systeme von linearen und nichtlinearen Gleichungen;\n",
    "\n",
    "- Auswertung von endlichen oder unendlichen Summen;\n",
    "\n",
    "- Erweiterungen von Taylorreihen;\n",
    "\n",
    "- Gewöhnliche Differentialgleichungen (ODEs);\n",
    "\n",
    "- Partielle Differentialgleichungen (PDEs);\n",
    "\n",
    "- Matrix-Operationen;\n",
    "\n",
    "- Laplace- und Fourier-Transformationen;\n",
    "\n",
    "- Komplexe Analyse;\n",
    "\n",
    "- ...\n",
    "\n",
    "Sie sind aufgefordert, die Syntax nachzuschlagen, wenn Sie auf eine Aufgabe stoßen, die Sie mit `SymPy` lösen möchten.\n",
    "\n",
    "</div>\n",
    "</div>"
   ]
  },
  {
   "cell_type": "markdown",
   "metadata": {},
   "source": [
    "<div class=\"alert alert-danger\" role=\"alert\">\n",
    "\n",
    "<div style=\"display: flex; justify-content: space-between;\">\n",
    "<div style=\"width: 48%; line-height: 1.3;\">\n",
    "\n",
    "### Reminder\n",
    "\n",
    "Don't forget to save a backup of this notebook to your device.\n",
    "</div>\n",
    "<div style=\"width: 4%;\">\n",
    "</div>\n",
    "<div style=\"width: 48%; line-height: 1.3; color: grey;\">\n",
    "\n",
    "### Erinnerung\n",
    "\n",
    "Vergessen Sie nicht, eine Sicherungskopie dieses Notizbuchs auf Ihrem Gerät zu speichern.\n",
    "</div>\n",
    "</div>"
   ]
  }
 ],
 "metadata": {
  "kernelspec": {
   "display_name": "base",
   "language": "python",
   "name": "python3"
  },
  "language_info": {
   "codemirror_mode": {
    "name": "ipython",
    "version": 3
   },
   "file_extension": ".py",
   "mimetype": "text/x-python",
   "name": "python",
   "nbconvert_exporter": "python",
   "pygments_lexer": "ipython3",
   "version": "3.10.14"
  }
 },
 "nbformat": 4,
 "nbformat_minor": 2
}
