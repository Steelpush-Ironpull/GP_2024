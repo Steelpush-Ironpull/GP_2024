{
 "cells": [
  {
   "cell_type": "markdown",
   "metadata": {},
   "source": [
    "<style>\n",
    "    body {\n",
    "        --vscode-font-family: \"CMU Sans Serif\"\n",
    "    }\n",
    "</style>"
   ]
  },
  {
   "cell_type": "markdown",
   "metadata": {},
   "source": [
    "<div class=\"alert alert-block alert-warning\">\n",
    "\n",
    "<div style=\"display: flex; justify-content: space-between;\">\n",
    "<div style=\"width: 48%; line-height: 1.5;\">\n",
    "\n",
    "# Classes\n",
    "\n",
    "</div>\n",
    "<div style=\"width: 48%; line-height: 1.5;color: grey;\">\n",
    "\n",
    "# Klassen\n",
    "\n",
    "</div>\n",
    "</div>"
   ]
  },
  {
   "cell_type": "markdown",
   "metadata": {},
   "source": [
    "<div class=\"alert alert-block alert-light\">\n",
    "\n",
    "<div style=\"display: flex; justify-content: space-between;\">\n",
    "<div style=\"width: 48%; line-height: 1.75;\">\n",
    "\n",
    "Copy & Paste from the Python docs (https://docs.python.org/3/tutorial/classes.html):\n",
    "\n",
    "'Classes provide a means of bundling data and functionality together. Creating a new class creates a new type of object, allowing new instances of that type to be made. Each class instance can have attributes attached to it for maintaining its state. Class instances can also have methods (defined by its class) for modifying its state.'\n",
    "\n",
    "Well, what does this mean and why should you know it?\n",
    "For simple scripts and small programs you can easily get away without knowing anything about classes.\n",
    "However, nearly everything we use in Python is a class,\n",
    "for example in data types like lists, NumPy arrays and pandas dataframes,\n",
    "but also Matplotlib figures.\n",
    "Consequently, it is useful to have some basic knowledge of classes and how they work.\n",
    "\n",
    "\n",
    "</div>\n",
    "<div style=\"width: 4%;\">\n",
    "</div>\n",
    "<div style=\"width: 2%\"></div>\n",
    "<div style=\"width: 48%;; line-height: 1.75;color: grey;\">\n",
    "\n",
    "Aus der Python Dokumentation (https://docs.python.org/3/tutorial/classes.html) übernommene Einleitung zu Klassen:\n",
    "\n",
    "'Klassen bieten eine Möglichkeit Daten und Funktionen zu bündeln. Die Erstellung neuer Klassen erschafft neue Objekttypen\n",
    "und erlaubt Instanzen dieser Objekte zu erstellen. Jede Klasseninstanz kann Attribute haben um ihren Zustand zu erhalten.\n",
    "Klasseninstanzen können auch Methoden (definiert durch ihre Klasse) zum modifizieren ihres Zustands haben.'\n",
    "\n",
    "Nun, was heißt das und warum solltet ihr es wissen?\n",
    "Für einfache Skripte und kleine Programme benötigt man kein Wissen über Klassen.\n",
    "Allerding ist in Python quasi alles womit wir arbeiten eine Klasse,\n",
    "zum Beispiel Datenstrukturen wie Listen, numpy Arrays oder pandas dataframes,\n",
    "aber auch Matplotlib figures.\n",
    "\n",
    "</div>\n",
    "</div>\n",
    "\n"
   ]
  },
  {
   "cell_type": "markdown",
   "metadata": {},
   "source": []
  },
  {
   "cell_type": "code",
   "execution_count": null,
   "metadata": {},
   "outputs": [],
   "source": [
    "# Lets take apart the quote from the documentation, sentence for sentence.\n",
    "\n",
    "# 'Classes provide a means of bundling data and functionality together.'\n",
    "\n",
    "class MyClass: # Class names are commonly uppercase letters.\n",
    "    attribute_1 = 1 # Classes can have attributes that store some data.\n",
    "    # They can be defined and manipulated at the class or instance level, as seen below.\n",
    "\n",
    "    def method_1(self): # They also have methods, which are functions that can interact with the class and its attributes.\n",
    "        return 'Hi there'\n",
    "\n",
    "print(MyClass.attribute_1)\n",
    "MyClass.method_1('_')\n"
   ]
  },
  {
   "cell_type": "code",
   "execution_count": null,
   "metadata": {},
   "outputs": [],
   "source": [
    "\n",
    "# 'Creating a new class creates a new type of object, allowing new instances of that type to be made.'\n",
    "# Normally, we want to use instances of the class, called objects, instead of the class itself.\n",
    "# They are created by calling the class like a function\n",
    "\n",
    "my_object1 = MyClass()\n",
    "print(my_object1.attribute_1)\n",
    "my_object1.method_1()"
   ]
  },
  {
   "cell_type": "code",
   "execution_count": null,
   "metadata": {},
   "outputs": [],
   "source": [
    "# 'Each class instance can have attributes attached to it for maintaining its state.'\n",
    "\n",
    "print(f'attribut_1 of my_object1: {my_object1.attribute_1}')\n",
    "\n",
    "# Now we change the state:\n",
    "my_object1.attribute_1 = 'No attribute_1 is a string for this instance'\n",
    "print(my_object1.attribute_1)"
   ]
  },
  {
   "cell_type": "code",
   "execution_count": null,
   "metadata": {},
   "outputs": [],
   "source": [
    "# Multiple object instances of a class can exist independently of each other\n",
    "my_object2 = MyClass()\n",
    "print(my_object2.attribute_1)\n"
   ]
  },
  {
   "cell_type": "code",
   "execution_count": null,
   "metadata": {},
   "outputs": [],
   "source": [
    "# 'Class instances can also have methods (defined by its class) for modifying its state.'\n",
    "\n",
    "class MyClass:\n",
    "    attribute = 1\n",
    "    # To interact with the attributes and methods of the class within other methods there is the 'self' keyword.\n",
    "    def set_attribute(self, val): \n",
    "        self.attribute = val\n",
    "\n",
    "    # Note that it is convention to use self, but the first argument in a method always has the 'self' functionality independent of its name.\n",
    "    def set_attribute_2(object, val): # This method does exactly the same as the previous one\n",
    "        object.attribute = val\n",
    "\n",
    "    # Forgetting the 'self' keyword leads to an error when it is called with the val argument\n",
    "    def set_attribute_3(val):\n",
    "        attribute = val\n"
   ]
  },
  {
   "cell_type": "code",
   "execution_count": null,
   "metadata": {},
   "outputs": [],
   "source": [
    "obj = MyClass()\n",
    "obj.set_attribute(5)\n",
    "print(obj.attribute)\n"
   ]
  },
  {
   "cell_type": "code",
   "execution_count": null,
   "metadata": {},
   "outputs": [],
   "source": [
    "obj.set_attribute_2(10)\n",
    "print(obj.attribute)"
   ]
  },
  {
   "cell_type": "code",
   "execution_count": null,
   "metadata": {},
   "outputs": [],
   "source": [
    "obj.set_attribute_3(15)"
   ]
  },
  {
   "cell_type": "code",
   "execution_count": null,
   "metadata": {},
   "outputs": [],
   "source": [
    "try:\n",
    "    obj.set_attribute_3(15)\n",
    "except TypeError:\n",
    "    pass"
   ]
  },
  {
   "cell_type": "markdown",
   "metadata": {},
   "source": [
    "<div class=\"alert alert-success\" role=\"alert\">\n",
    "\n",
    "<div style=\"display: flex; justify-content: space-between;\">\n",
    "<div style=\"width: 48%; line-height: 1.5;\">\n",
    "\n",
    "## Special methods\n",
    "\n",
    "Method names starting and ending with double underscores are used for methods with special functionality,\n",
    "for example the behavior when performing mathematical operations on the class.\n",
    "The most commonly defined method is `__init__`, which controls the behavior when instantiating class objects.\n",
    "\n",
    "</div>\n",
    "<div style=\"width: 48%; line-height: 1.5;color: grey;\">\n",
    "\n",
    "## Spezielle Methoden\n",
    "\n",
    "Methoden namen die mit doppelten unterstrichen beginnen und enden werden benutzt um spezielle Funktionalitäten zu erhalten,\n",
    "beispielsweise beim Ausführen mathematischer Operationen mit der Klasse.\n",
    "Die am häufigsten definitiert Methode ist `__init__`, welche das Verhalten beim instazieren von Objekten kontrolliert.\n",
    "\n",
    "\n",
    "\n",
    "</div>\n",
    "</div>"
   ]
  },
  {
   "cell_type": "code",
   "execution_count": null,
   "metadata": {},
   "outputs": [],
   "source": [
    "class MyClass:\n",
    "    def __init__(self, attribute1=1): #\n",
    "        print('Everthing in __init__ is called upon instantiation')\n",
    "        self.attribute1 = attribute1 # The attribute is only defined at the instance level\n",
    "\n",
    "# The init function is called when instantiating an object\n",
    "obj = MyClass(5)\n",
    "obj.attribute1\n",
    "\n"
   ]
  },
  {
   "cell_type": "markdown",
   "metadata": {},
   "source": [
    "<div style=\"display: flex; justify-content: space-between;\">\n",
    "<div style=\"width: 48%; line-height: 1.5;\">\n",
    "\n",
    "### Exercise\n",
    "Create a class that offers some mathematic functionality similar to numpy arrays:\n",
    "\n",
    "- Define a class SimpleArray, which can be instantiated with an attribute called data to store a list of numeric values\n",
    "- Define the methods `__add__` and `__mul__`, mimicking numpys functionality when adding or multiplying arrays.\n",
    "- The code should throw a ValueError if the lengths of the arrays are incompatible.\n",
    "- Test your implementation with the provided code and make sure that it runs.\n",
    "\n",
    "As a general note, when you write code doing complex tasks, also try to think of some test cases to make sure that it does what you want.\n",
    "</div>\n",
    "<div style=\"width: 48%; line-height: 1.5;color: grey;\">\n",
    "\n",
    "### übung\n",
    "\n",
    "Erstellen Sie eine Klasse die einige mit numpy arrays vergleichbare Funktionalitäten bietet:\n",
    "\n",
    "- Definieren Sie die Klasse SimpleArray, die bei instanzierung eine Liste numerischer Werte als 'data' Attribut speichert.\n",
    "- Definieren Sie die Methoden `__add__` und `__mul__`, um die numpy Funktionalität zum addieren und multiplizieren von arrays nachzuahmen.\n",
    "- Der code sollte einen Fehler ausgeben, wenn die Längen der Arrays inkompatibel sind.\n",
    "- Testen sie Ihre Implementation mit dem dafür bereitgestellten code und stellen Sie sicher das er funktioniert.\n",
    "\n",
    "Wenn Sie code schreiben der komplexe Aufgaben erledigt, ist es generell eine gute Idee Tests für diesen zu entwickeln um sicherzustellen das er das macht was Sie möchten.\n",
    "</div>\n",
    "</div>"
   ]
  },
  {
   "cell_type": "markdown",
   "metadata": {},
   "source": [
    "Hint: Errors can be raised with:\n",
    "```python\n",
    "raise ErrorType('Message that should be send')\n",
    "```\n",
    "where ErrorType could for example be a ValueError. The full list of built-in errorscan be found at https://docs.python.org/3/library/exceptions.html."
   ]
  },
  {
   "cell_type": "code",
   "execution_count": null,
   "metadata": {},
   "outputs": [],
   "source": [
    "class SimpleArray:\n",
    "    def __init__(self, data):\n",
    "        self.data = data\n",
    "\n",
    "\n",
    "    def _test_same_len(self, other):\n",
    "        if len(self.data)!=len(other):\n",
    "            raise ValueError('Arrays must have the same length')\n",
    "\n",
    "\n",
    "    def _add_arr_scalar(self, arr, scalar):\n",
    "        res = []\n",
    "        for val in arr:\n",
    "            res.append(val+scalar)\n",
    "        return res\n",
    "         \n",
    "    def _mul_arr_scalar(self, arr, scalar):\n",
    "        res = []\n",
    "        for val in arr:\n",
    "            res.append(val*scalar)\n",
    "        return res\n",
    "\n",
    "    def __add__(self, other):\n",
    "        if len(self.data) == len(other.data):\n",
    "            res = []\n",
    "            for val1, val2 in zip(self.data, other.data):\n",
    "                res.append(val1 + val2)\n",
    "            return res\n",
    "        \n",
    "        elif len(self.data) == 1:\n",
    "            return self._add_arr_scalar(other.data, self.data[0])\n",
    "        \n",
    "        elif len(other.data) == 1:\n",
    "            return self._add_arr_scalar(self.data, other.data[0])\n",
    "        \n",
    "        else:\n",
    "            raise ValueError(f'Arrays with lengths {len(self.data)} and {len(other.data)} are not compatible')\n",
    "        \n",
    "    def __mul__(self, other):\n",
    "\n",
    "        if len(self.data) == len(other.data):\n",
    "            res = []\n",
    "            for val1, val2 in zip(self.data, other.data):\n",
    "                res.append(val1 * val2)\n",
    "            return res\n",
    "        \n",
    "        elif len(self.data) == 1:\n",
    "            return self._mul_arr_scalar(other.data, self.data[0])\n",
    "        \n",
    "        elif len(other.data) == 1:\n",
    "            return self._mul_arr_scalar(self.data, other.data[0])\n",
    "        \n",
    "        else:\n",
    "            raise ValueError(f'Arrays with lengths {len(self.data)} and {len(other.data)} are not compatible')\n",
    "        \n",
    "           "
   ]
  },
  {
   "cell_type": "code",
   "execution_count": null,
   "metadata": {},
   "outputs": [],
   "source": [
    "# Code to test your implementation\n",
    "import numpy as np\n",
    "import unittest\n",
    "\n",
    "values_1 = [1,2,3]\n",
    "values_2 = [4,5,6]\n",
    "values_3 = np.ones(5)\n",
    "\n",
    "np_arr1 = np.array(values_1)\n",
    "np_arr2 = np.array(values_2)\n",
    "np_arr3 = np.array(values_3)\n",
    "\n",
    "simple_arr1 = SimpleArray(values_1)\n",
    "simple_arr2 = SimpleArray(values_2)\n",
    "simple_arr3 = SimpleArray(values_3)\n",
    "\n",
    "\n",
    "\n",
    "assert np.all(np_arr1 + np_arr2 == np.array(simple_arr1 + simple_arr2))\n",
    "assert np.all(np_arr1 * np_arr2 == np.array(simple_arr1 * simple_arr2))\n",
    "assert np.all(np_arr1 + 5 == np.array(simple_arr1 + SimpleArray([5])))\n",
    "\n",
    "class TestFunc(unittest.TestCase):\n",
    "    def test_incompatible_len(self):\n",
    "        with self.assertRaises(ValueError):\n",
    "            simple_arr1 + simple_arr3\n",
    "        \n",
    "test = TestFunc()\n",
    "test.test_incompatible_len()\n",
    "\n",
    "print('Assertions finished succesfully, great job!')"
   ]
  },
  {
   "cell_type": "markdown",
   "metadata": {},
   "source": []
  },
  {
   "cell_type": "markdown",
   "metadata": {},
   "source": [
    "<div class=\"alert alert-success\" role=\"alert\">\n",
    "\n",
    "<div style=\"display: flex; justify-content: space-between;\">\n",
    "<div style=\"width: 48%; line-height: 1.5;\">\n",
    "\n",
    "## Inheritance\n",
    "\n",
    "One of the most useful features of classes is inheritance. By changing the class definition to `class MyClass(ParentClass)`, MyClass inherits all the methods and attributes of ParentClass, allowing to reuse code.\n",
    "\n",
    "</div>\n",
    "<div style=\"width: 48%; line-height: 1.5;color: grey;\">\n",
    "\n",
    "## Vererbung\n",
    "\n",
    "Eines der nütlichsten Eigenschaften von Klassen ist Vererbung. Durch ändern der Klassendefinition zu `class MyClass(ParentClass)` erbt MyClass alle Methoden und Attribute von ParentClass, was die Wiederverwendung von Code erlaubt.\n",
    "\n",
    "</div>\n",
    "</div>"
   ]
  },
  {
   "cell_type": "code",
   "execution_count": null,
   "metadata": {
    "ExecuteTime": {
     "end_time": "2025-01-23T13:28:14.061778Z",
     "start_time": "2025-01-23T13:28:14.054319Z"
    }
   },
   "outputs": [],
   "source": [
    "class Person:\n",
    "    def __init__(self, age, height, shoe_size):\n",
    "        self.age = age\n",
    "        self.height = height\n",
    "        self.shoe_size = shoe_size\n",
    "\n",
    "    def laugh(self):\n",
    "        print(\"😂\")\n",
    "\n",
    "\n",
    "class Student(Person):\n",
    "    def __init__(self, age, height, shoe_size, matriculation_number):\n",
    "        super().__init__(age, height, shoe_size)\n",
    "        self.matriculation_number = matriculation_number\n",
    "\n",
    "    def study(self):\n",
    "        print('🤓 + 📚 = 🎓')\n",
    "\n",
    "    def drink(self):\n",
    "        print('🍻')\n",
    "\n",
    "    def cry(self):\n",
    "        print('😢')"
   ]
  },
  {
   "cell_type": "code",
   "execution_count": null,
   "metadata": {},
   "outputs": [],
   "source": [
    "student = Student(25,172, 41, 123456)\n",
    "# Students have nothing to laugh about.\n",
    "student.study()\n",
    "student.drink()\n",
    "student.cry()\n",
    "# As they are also Persons they can still laugh though.\n",
    "student.laugh()"
   ]
  },
  {
   "cell_type": "code",
   "execution_count": null,
   "metadata": {},
   "outputs": [],
   "source": []
  },
  {
   "cell_type": "code",
   "execution_count": null,
   "metadata": {},
   "outputs": [],
   "source": []
  },
  {
   "cell_type": "code",
   "execution_count": null,
   "metadata": {},
   "outputs": [],
   "source": []
  },
  {
   "cell_type": "markdown",
   "metadata": {},
   "source": [
    "# Further Reading\n",
    "\n",
    "If you are interested in more class functionality, some interesting aspects are decorators for methods https://docs.python.org/3/glossary.html#term-decorators,\n",
    "multiple inheritance https://docs.python.org/3/tutorial/classes.html#multiple-inheritance and data classes https://docs.python.org/3/library/dataclasses.html#module-dataclasses."
   ]
  },
  {
   "cell_type": "code",
   "execution_count": null,
   "metadata": {},
   "outputs": [],
   "source": [
    "class PeriodicList(list):\n",
    "    def __getitem__(self, key):\n",
    "        image = key//self.__len__()\n",
    "        if image != 0:\n",
    "            key -= image*self.__len__()\n",
    "            print(f'Using periodicity. Shifted index to {key} to obtain value of image {image}.')\n",
    "        return super().__getitem__(key)\n",
    "\n",
    "\n",
    "pl = PeriodicList([1,2,3])\n",
    "pl[20]"
   ]
  },
  {
   "cell_type": "markdown",
   "metadata": {},
   "source": []
  }
 ],
 "metadata": {
  "kernelspec": {
   "display_name": "base",
   "language": "python",
   "name": "python3"
  },
  "language_info": {
   "codemirror_mode": {
    "name": "ipython",
    "version": 3
   },
   "file_extension": ".py",
   "mimetype": "text/x-python",
   "name": "python",
   "nbconvert_exporter": "python",
   "pygments_lexer": "ipython3",
   "version": "3.11.11"
  }
 },
 "nbformat": 4,
 "nbformat_minor": 2
}
