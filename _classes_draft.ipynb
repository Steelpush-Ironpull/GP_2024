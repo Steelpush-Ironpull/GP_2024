{
 "cells": [
  {
   "cell_type": "markdown",
   "metadata": {},
   "source": [
    "<style>\n",
    "    body {\n",
    "        --vscode-font-family: \"CMU Sans Serif\"\n",
    "    }\n",
    "</style>"
   ]
  },
  {
   "cell_type": "markdown",
   "metadata": {},
   "source": [
    "<div class=\"alert alert-block alert-warning\">\n",
    "\n",
    "<div style=\"display: flex; justify-content: space-between;\">\n",
    "<div style=\"width: 48%; line-height: 1.5;\">\n",
    "\n",
    "# Classes\n",
    "\n",
    "</div>\n",
    "<div style=\"width: 48%; line-height: 1.5;color: grey;\">\n",
    "\n",
    "# Klassen\n",
    "\n",
    "</div>\n",
    "</div>"
   ]
  },
  {
   "cell_type": "markdown",
   "metadata": {},
   "source": [
    "<div class=\"alert alert-block alert-light\">\n",
    "\n",
    "<div style=\"display: flex; justify-content: space-between;\">\n",
    "<div style=\"width: 48%; line-height: 1.75;\">\n",
    "\n",
    "Copy & Paste from the Python docs (https://docs.python.org/3/tutorial/classes.html):\n",
    "\n",
    "'Classes provide a means of bundling data and functionality together. Creating a new class creates a new type of object, allowing new instances of that type to be made. Each class instance can have attributes attached to it for maintaining its state. Class instances can also have methods (defined by its class) for modifying its state.'\n",
    "\n",
    "Well, what does this mean and why should you know it?\n",
    "For simple scripts and small programs you can easily get away without knowing anything about classes.\n",
    "However, nearly everything we use in Python is a class,\n",
    "for example built in data types like lists, NumPy arrays and pandas dataframes,\n",
    "but also Matplotlib figures.\n",
    "Consequently, it is useful to have some basic knowledge of classes and how they work.\n",
    "Classes are defined with the following syntax:\n",
    "\n",
    "\n",
    "</div>\n",
    "<div style=\"width: 4%;\">\n",
    "</div>\n",
    "<div style=\"width: 2%\"></div>\n",
    "<div style=\"width: 48%;; line-height: 1.75;color: grey;\">\n",
    "\n",
    "Aus der Python Dokumentation (https://docs.python.org/3/tutorial/classes.html) übernommene Einleitung zu Klassen:\n",
    "\n",
    "'Klassen bieten eine Möglichkeit Daten und Funktionen zu bündeln. Die Erstellung neuer Klassen erschafft new Objekttypen\n",
    "und erlaubt Instanzen dieser Objekte zu erstellen. Jede Klasseninstanz kann Attribute haben um ihren Zustand zu erhalten.\n",
    "Klasseninstanzen können auch Methoden (definiert durch ihre Klasse) zum modifizieren ihres Zustands haben.'\n",
    "\n",
    "Nun, was heißt das und warum solltet ihr es wissen?\n",
    "Für einfache Skripte und kleine Programme benötigt man kein Wissen über Klassen.\n",
    "Allerding ist in Python quasi alles womit wir arbeiten eine Klasse,\n",
    "zum Beispiel Datenstrukturen wie Listen, numpy Arrays oder pandas dataframes,\n",
    "aber auch Matplotlib figures.\n",
    "Klassen werden mit der folgenden Syntax definiert:\n",
    "\n",
    "</div>\n",
    "</div>"
   ]
  },
  {
   "cell_type": "code",
   "execution_count": null,
   "metadata": {},
   "outputs": [],
   "source": [
    "import numpy as np\n",
    "help"
   ]
  },
  {
   "cell_type": "code",
   "execution_count": null,
   "metadata": {},
   "outputs": [],
   "source": [
    "class MyClass: # For classes it is common to start words with uppercase letters.\n",
    "    attribute_1 = 1 # A class can have attributes that stored\n",
    "    \n",
    "    def method_1(self): # and methods, which are functions interacting with the class.\n",
    "        return 'Hi there'"
   ]
  },
  {
   "cell_type": "code",
   "execution_count": null,
   "metadata": {},
   "outputs": [],
   "source": [
    "# Normally, we want to use instances of the class, called objects\n",
    "# They are created by calling the class like a function\n",
    "\n",
    "my_object1 = MyClass()"
   ]
  },
  {
   "cell_type": "code",
   "execution_count": null,
   "metadata": {},
   "outputs": [],
   "source": [
    "# Multiple object instances of a class can exist independently of each other\n",
    "my_object2 = MyClass()"
   ]
  },
  {
   "cell_type": "markdown",
   "metadata": {},
   "source": [
    "<div class=\"alert alert-success\" role=\"alert\">\n",
    "\n",
    "<div style=\"display: flex; justify-content: space-between;\">\n",
    "<div style=\"width: 48%; line-height: 1.5;\">\n",
    "\n",
    "## Attributes\n",
    "\n",
    "</div>\n",
    "<div style=\"width: 48%; line-height: 1.5;color: grey;\">\n",
    "\n",
    "## Attribute\n",
    "\n",
    "</div>\n",
    "</div>"
   ]
  },
  {
   "cell_type": "markdown",
   "metadata": {},
   "source": [
    "<div class=\"alert alert-block alert-light\">\n",
    "\n",
    "<div style=\"display: flex; justify-content: space-between;\">\n",
    "<div style=\"width: 48%; line-height: 1.75;\">\n",
    "\n",
    "Attributes are data associated with a class or an object.\n",
    "They can be set as default values, during object instantiation and modified directly.\n",
    "\n",
    "</div>\n",
    "<div style=\"width: 4%;\">\n",
    "</div>\n",
    "<div style=\"width: 2%\"></div>\n",
    "<div style=\"width: 48%;; line-height: 1.75;color: grey;\">\n",
    "\n",
    "Attribute sind Daten die mit einer Klasse oder einem Objekt assoziert sind.\n",
    "Sie können mit Standardwerten, während der Objekt Instanzierung oder direkt gesetzt werden.\n",
    "\n",
    "</div>\n",
    "</div>"
   ]
  },
  {
   "cell_type": "code",
   "execution_count": null,
   "metadata": {},
   "outputs": [],
   "source": [
    "# The object can be modified without changing the class\n",
    "my_object1.attribute_1 = 2\n",
    "print(f'my_object1 attribute1 is {my_object1.attribute_1}')\n",
    "print(f'MyClass attribute1 is still {MyClass.attribute_1}')\n",
    "# or other object instances:\n",
    "print(f'my_object2 attribute1 is also {my_object2.attribute_1}')"
   ]
  },
  {
   "cell_type": "markdown",
   "metadata": {},
   "source": [
    "<div class=\"alert alert-block alert-light\">\n",
    "\n",
    "<div style=\"display: flex; justify-content: space-between;\">\n",
    "<div style=\"width: 48%; line-height: 1.75;\">\n",
    "\n",
    "In the previous example attribute_1 is a class attribute, because it is defined at the class level.\n",
    "Attributes can also be defined for objects only.\n",
    "\n",
    "</div>\n",
    "<div style=\"width: 4%;\">\n",
    "</div>\n",
    "<div style=\"width: 2%\"></div>\n",
    "<div style=\"width: 48%;; line-height: 1.75;color: grey;\">\n",
    "\n",
    "Im vorherigen Beispiel is attribute_1 ein Klassen Attribut, weil es auf dem Level der Klasse definiert ist.\n",
    "Attribute können auch nur für objekte definiert werden.\n",
    "\n",
    "</div>\n",
    "</div>"
   ]
  },
  {
   "cell_type": "code",
   "execution_count": null,
   "metadata": {},
   "outputs": [],
   "source": [
    "class MyOtherClass:\n",
    "    # The __init__ function is a special method of classes.\n",
    "    # It is called whenever an object is created from a class.\n",
    "    # Another important aspect here is the key word self,\n",
    "    # which should be the first argument for all\n",
    "    # class methods.\n",
    "    # It allows objects to reference themselves.\n",
    "    def __init__(self, object_attribute=1):\n",
    "        self.object_attribute = object_attribute"
   ]
  },
  {
   "cell_type": "code",
   "execution_count": null,
   "metadata": {},
   "outputs": [],
   "source": [
    "MyOtherClass.object_attribute"
   ]
  },
  {
   "cell_type": "code",
   "execution_count": null,
   "metadata": {},
   "outputs": [],
   "source": [
    "my_other_object_1 = MyOtherClass()\n",
    "my_other_object_1.object_attribute"
   ]
  },
  {
   "cell_type": "code",
   "execution_count": null,
   "metadata": {},
   "outputs": [],
   "source": []
  },
  {
   "cell_type": "code",
   "execution_count": null,
   "metadata": {},
   "outputs": [],
   "source": []
  },
  {
   "cell_type": "markdown",
   "metadata": {},
   "source": [
    "<div class=\"alert alert-success\" role=\"alert\">\n",
    "\n",
    "<div style=\"display: flex; justify-content: space-between;\">\n",
    "<div style=\"width: 48%; line-height: 1.5;\">\n",
    "\n",
    "## (Special) Methods\n",
    "\n",
    "</div>\n",
    "<div style=\"width: 48%; line-height: 1.5;color: grey;\">\n",
    "\n",
    "## (Spezielle) Methoden\n",
    "\n",
    "</div>\n",
    "</div>"
   ]
  },
  {
   "cell_type": "markdown",
   "metadata": {},
   "source": []
  },
  {
   "cell_type": "code",
   "execution_count": null,
   "metadata": {},
   "outputs": [],
   "source": []
  },
  {
   "cell_type": "markdown",
   "metadata": {},
   "source": []
  },
  {
   "cell_type": "code",
   "execution_count": null,
   "metadata": {},
   "outputs": [],
   "source": []
  },
  {
   "cell_type": "markdown",
   "metadata": {},
   "source": [
    "<div class=\"alert alert-success\" role=\"alert\">\n",
    "\n",
    "<div style=\"display: flex; justify-content: space-between;\">\n",
    "<div style=\"width: 48%; line-height: 1.5;\">\n",
    "\n",
    "## Operators\n",
    "\n",
    "</div>\n",
    "<div style=\"width: 48%; line-height: 1.5;color: grey;\">\n",
    "\n",
    "## Operatoren\n",
    "\n",
    "</div>\n",
    "</div>"
   ]
  },
  {
   "cell_type": "markdown",
   "metadata": {},
   "source": []
  },
  {
   "cell_type": "code",
   "execution_count": null,
   "metadata": {},
   "outputs": [],
   "source": [
    "class AClass:\n",
    "    def __init__(self, a):\n",
    "        self.a = a\n",
    "    \n",
    "    def __add__(self, other):\n",
    "        return self.a + other.a\n",
    "    \n",
    "a1 = AClass(1)\n",
    "a2 = AClass(2)\n",
    "a1+a2"
   ]
  },
  {
   "cell_type": "markdown",
   "metadata": {},
   "source": [
    "<div class=\"alert alert-success\" role=\"alert\">\n",
    "\n",
    "<div style=\"display: flex; justify-content: space-between;\">\n",
    "<div style=\"width: 48%; line-height: 1.5;\">\n",
    "\n",
    "## Inheritance\n",
    "\n",
    "</div>\n",
    "<div style=\"width: 48%; line-height: 1.5;color: grey;\">\n",
    "\n",
    "## Vererbung\n",
    "\n",
    "</div>\n",
    "</div>"
   ]
  },
  {
   "cell_type": "code",
   "execution_count": null,
   "metadata": {},
   "outputs": [],
   "source": [
    "class PeriodicList(list):\n",
    "    def __getitem__(self, key):\n",
    "        image = key//self.__len__()\n",
    "        if image != 0:\n",
    "            key -= image*self.__len__()\n",
    "            print(f'Using periodicity. Shifted index to {key} to obtain value of image {image}.')\n",
    "        return super().__getitem__(key)\n",
    "\n",
    "\n",
    "pl = PeriodicList([1,2,3])\n",
    "pl[20]"
   ]
  },
  {
   "cell_type": "code",
   "execution_count": null,
   "metadata": {},
   "outputs": [],
   "source": []
  },
  {
   "cell_type": "code",
   "execution_count": null,
   "metadata": {},
   "outputs": [],
   "source": []
  },
  {
   "cell_type": "code",
   "execution_count": null,
   "metadata": {},
   "outputs": [],
   "source": []
  }
 ],
 "metadata": {
  "kernelspec": {
   "display_name": "base",
   "language": "python",
   "name": "python3"
  },
  "language_info": {
   "codemirror_mode": {
    "name": "ipython",
    "version": 3
   },
   "file_extension": ".py",
   "mimetype": "text/x-python",
   "name": "python",
   "nbconvert_exporter": "python",
   "pygments_lexer": "ipython3",
   "version": "3.11.11"
  }
 },
 "nbformat": 4,
 "nbformat_minor": 2
}
