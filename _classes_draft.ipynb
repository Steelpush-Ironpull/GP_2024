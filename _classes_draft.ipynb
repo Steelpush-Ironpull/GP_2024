{
 "cells": [
  {
   "cell_type": "markdown",
   "metadata": {},
   "source": [
    "<style>\n",
    "    body {\n",
    "        --vscode-font-family: \"CMU Sans Serif\"\n",
    "    }\n",
    "</style>"
   ]
  },
  {
   "cell_type": "markdown",
   "metadata": {},
   "source": [
    "<div class=\"alert alert-block alert-warning\">\n",
    "\n",
    "<div style=\"display: flex; justify-content: space-between;\">\n",
    "<div style=\"width: 48%; line-height: 1.5;\">\n",
    "\n",
    "# Classes\n",
    "\n",
    "</div>\n",
    "<div style=\"width: 48%; line-height: 1.5;color: grey;\">\n",
    "\n",
    "# Klassen\n",
    "\n",
    "</div>\n",
    "</div>"
   ]
  },
  {
   "cell_type": "markdown",
   "metadata": {},
   "source": [
    "<div class=\"alert alert-block alert-light\">\n",
    "\n",
    "<div style=\"display: flex; justify-content: space-between;\">\n",
    "<div style=\"width: 48%; line-height: 1.75;\">\n",
    "\n",
    "Copy & Paste from the Python docs (https://docs.python.org/3/tutorial/classes.html):\n",
    "\n",
    "'Classes provide a means of bundling data and functionality together. Creating a new class creates a new type of object, allowing new instances of that type to be made. Each class instance can have attributes attached to it for maintaining its state. Class instances can also have methods (defined by its class) for modifying its state.'\n",
    "\n",
    "Well, what does this mean and why should you know it?\n",
    "For simple scripts and small programs you can easily get away without knowing anything about classes.\n",
    "However, nearly everything we use in Python is a class,\n",
    "for example built in data types like lists, NumPy arrays and pandas dataframes,\n",
    "but also Matplotlib figures.\n",
    "Consequently, it is useful to have some basic knowledge of classes and how they work.\n",
    "Classes are defined with the following syntax:\n",
    "\n",
    "\n",
    "</div>\n",
    "<div style=\"width: 4%;\">\n",
    "</div>\n",
    "<div style=\"width: 2%\"></div>\n",
    "<div style=\"width: 48%;; line-height: 1.75;color: grey;\">\n",
    "\n",
    "Aus der Python Dokumentation (https://docs.python.org/3/tutorial/classes.html) übernommene Einleitung zu Klassen:\n",
    "\n",
    "'Klassen bieten eine Möglichkeit Daten und Funktionen zu bündeln. Die Erstellung neuer Klassen erschafft new Objekttypen\n",
    "und erlaubt Instanzen dieser Objekte zu erstellen. Jede Klasseninstanz kann Attribute haben um ihren Zustand zu erhalten.\n",
    "Klasseninstanzen können auch Methoden (definiert durch ihre Klasse) zum modifizieren ihres Zustands haben.'\n",
    "\n",
    "Nun, was heißt das und warum solltet ihr es wissen?\n",
    "Für einfache Skripte und kleine Programme benötigt man kein Wissen über Klassen.\n",
    "Allerding ist in Python quasi alles womit wir arbeiten eine Klasse,\n",
    "zum Beispiel Datenstrukturen wie Listen, numpy Arrays oder pandas dataframes,\n",
    "aber auch Matplotlib figures.\n",
    "Klassen werden mit der folgenden Syntax definiert:\n",
    "\n",
    "</div>\n",
    "</div>"
   ]
  },
  {
   "cell_type": "code",
   "execution_count": null,
   "metadata": {},
   "outputs": [],
   "source": [
    "class MyClass: # For classes it is common to start words with uppercase letters.\n",
    "    attribute_1 = 1 # A class can have attributes\n",
    "    \n",
    "    def method_1(self): # and methods\n",
    "        return 'Hi there'"
   ]
  },
  {
   "cell_type": "code",
   "execution_count": 23,
   "metadata": {},
   "outputs": [],
   "source": [
    "# Normally, we want to use instances of the class, called objects\n",
    "# They are created by calling the class like a function\n",
    "\n",
    "my_object1 = MyClass()"
   ]
  },
  {
   "cell_type": "code",
   "execution_count": 24,
   "metadata": {},
   "outputs": [
    {
     "name": "stdout",
     "output_type": "stream",
     "text": [
      "my_object1 attribute1 is 2\n",
      "MyClass attribute1 is still 1\n",
      "my_object2 attribute1 is also 1\n"
     ]
    }
   ],
   "source": [
    "# The object can be modified without changing the class\n",
    "my_object1.attribute_1 = 2\n",
    "print(f'my_object1 attribute1 is {my_object1.attribute_1}')\n",
    "print(f'MyClass attribute1 is still {MyClass.attribute_1}')\n",
    "# or other object instances:\n",
    "my_object2 = MyClass()\n",
    "print(f'my_object2 attribute1 is also {my_object2.attribute_1}')"
   ]
  },
  {
   "cell_type": "code",
   "execution_count": null,
   "metadata": {},
   "outputs": [],
   "source": []
  },
  {
   "cell_type": "code",
   "execution_count": null,
   "metadata": {},
   "outputs": [],
   "source": []
  },
  {
   "cell_type": "markdown",
   "metadata": {},
   "source": [
    "<div class=\"alert alert-success\" role=\"alert\">\n",
    "\n",
    "<div style=\"display: flex; justify-content: space-between;\">\n",
    "<div style=\"width: 48%; line-height: 1.5;\">\n",
    "\n",
    "## Attributes\n",
    "\n",
    "</div>\n",
    "<div style=\"width: 48%; line-height: 1.5;color: grey;\">\n",
    "\n",
    "## Attribute\n",
    "\n",
    "</div>\n",
    "</div>"
   ]
  },
  {
   "cell_type": "markdown",
   "metadata": {},
   "source": []
  },
  {
   "cell_type": "code",
   "execution_count": null,
   "metadata": {},
   "outputs": [],
   "source": []
  },
  {
   "cell_type": "markdown",
   "metadata": {},
   "source": [
    "<div class=\"alert alert-success\" role=\"alert\">\n",
    "\n",
    "<div style=\"display: flex; justify-content: space-between;\">\n",
    "<div style=\"width: 48%; line-height: 1.5;\">\n",
    "\n",
    "## (Special) Methods\n",
    "\n",
    "</div>\n",
    "<div style=\"width: 48%; line-height: 1.5;color: grey;\">\n",
    "\n",
    "## (Spezielle) Methoden\n",
    "\n",
    "</div>\n",
    "</div>"
   ]
  },
  {
   "cell_type": "markdown",
   "metadata": {},
   "source": []
  },
  {
   "cell_type": "code",
   "execution_count": null,
   "metadata": {},
   "outputs": [],
   "source": []
  },
  {
   "cell_type": "markdown",
   "metadata": {},
   "source": []
  },
  {
   "cell_type": "code",
   "execution_count": null,
   "metadata": {},
   "outputs": [],
   "source": []
  },
  {
   "cell_type": "markdown",
   "metadata": {},
   "source": [
    "<div class=\"alert alert-success\" role=\"alert\">\n",
    "\n",
    "<div style=\"display: flex; justify-content: space-between;\">\n",
    "<div style=\"width: 48%; line-height: 1.5;\">\n",
    "\n",
    "## Operators\n",
    "\n",
    "</div>\n",
    "<div style=\"width: 48%; line-height: 1.5;color: grey;\">\n",
    "\n",
    "## Operatoren\n",
    "\n",
    "</div>\n",
    "</div>"
   ]
  },
  {
   "cell_type": "markdown",
   "metadata": {},
   "source": []
  },
  {
   "cell_type": "code",
   "execution_count": 8,
   "metadata": {},
   "outputs": [
    {
     "data": {
      "text/plain": [
       "3"
      ]
     },
     "execution_count": 8,
     "metadata": {},
     "output_type": "execute_result"
    }
   ],
   "source": [
    "class AClass:\n",
    "    def __init__(self, a):\n",
    "        self.a = a\n",
    "    \n",
    "    def __add__(self, other):\n",
    "        return self.a + other.a\n",
    "    \n",
    "a1 = AClass(1)\n",
    "a2 = AClass(2)\n",
    "a1+a2"
   ]
  },
  {
   "cell_type": "markdown",
   "metadata": {},
   "source": [
    "<div class=\"alert alert-success\" role=\"alert\">\n",
    "\n",
    "<div style=\"display: flex; justify-content: space-between;\">\n",
    "<div style=\"width: 48%; line-height: 1.5;\">\n",
    "\n",
    "## Inheritance\n",
    "\n",
    "</div>\n",
    "<div style=\"width: 48%; line-height: 1.5;color: grey;\">\n",
    "\n",
    "## Vererbung\n",
    "\n",
    "</div>\n",
    "</div>"
   ]
  },
  {
   "cell_type": "code",
   "execution_count": 10,
   "metadata": {},
   "outputs": [
    {
     "name": "stdout",
     "output_type": "stream",
     "text": [
      "Using periodicity. Shifted index to 2 to obtain value of image 6.\n"
     ]
    },
    {
     "data": {
      "text/plain": [
       "3"
      ]
     },
     "execution_count": 10,
     "metadata": {},
     "output_type": "execute_result"
    }
   ],
   "source": [
    "class PeriodicList(list):\n",
    "    def __getitem__(self, key):\n",
    "        image = key//self.__len__()\n",
    "        if image != 0:\n",
    "            key -= image*self.__len__()\n",
    "            print(f'Using periodicity. Shifted index to {key} to obtain value of image {image}.')\n",
    "        return super().__getitem__(key)\n",
    "\n",
    "\n",
    "pl = PeriodicList([1,2,3])\n",
    "pl[20]"
   ]
  },
  {
   "cell_type": "code",
   "execution_count": null,
   "metadata": {},
   "outputs": [],
   "source": []
  },
  {
   "cell_type": "code",
   "execution_count": null,
   "metadata": {},
   "outputs": [
    {
     "name": "stdout",
     "output_type": "stream",
     "text": [
      "Using periodicity. Shifted index to 0\n"
     ]
    },
    {
     "data": {
      "text/plain": [
       "1"
      ]
     },
     "execution_count": 71,
     "metadata": {},
     "output_type": "execute_result"
    }
   ],
   "source": []
  },
  {
   "cell_type": "code",
   "execution_count": null,
   "metadata": {},
   "outputs": [],
   "source": []
  }
 ],
 "metadata": {
  "kernelspec": {
   "display_name": "nequip",
   "language": "python",
   "name": "python3"
  },
  "language_info": {
   "codemirror_mode": {
    "name": "ipython",
    "version": 3
   },
   "file_extension": ".py",
   "mimetype": "text/x-python",
   "name": "python",
   "nbconvert_exporter": "python",
   "pygments_lexer": "ipython3",
   "version": "3.9.18"
  }
 },
 "nbformat": 4,
 "nbformat_minor": 2
}
