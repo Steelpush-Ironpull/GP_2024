{
 "cells": [
  {
   "cell_type": "code",
   "execution_count": null,
   "metadata": {},
   "outputs": [],
   "source": [
    "%%HTML\n",
    "<style>\n",
    "    body {\n",
    "        --vscode-font-family: \"CMU Sans Serif\"\n",
    "    }\n",
    "</style>"
   ]
  },
  {
   "cell_type": "code",
   "execution_count": 9,
   "metadata": {},
   "outputs": [],
   "source": [
    "import matplotlib.pyplot as plt\n",
    "plt.rcParams.update({\n",
    "    \"text.usetex\": True,\n",
    "    \"font.family\": \"sans-serif\",\n",
    "    \"font.sans-serif\": [\"Computer Modern Sans Serif\"]})\n",
    "plt.rcParams['text.latex.preamble'] = r'\\usepackage{sansmath} \\sansmath'"
   ]
  },
  {
   "cell_type": "code",
   "execution_count": null,
   "metadata": {},
   "outputs": [],
   "source": [
    "from IPython.display import display, clear_output, HTML\n",
    "import time\n",
    "\n",
    "def countdown_timer(minutes):\n",
    "    total_seconds = minutes * 60\n",
    "    for seconds in range(total_seconds, 0, -1):\n",
    "        mins, secs = divmod(seconds, 60)\n",
    "        time_str = f\"{mins:02}'{secs:02}''\"\n",
    "        clear_output(wait=True)\n",
    "        # HTML with styling\n",
    "        display(HTML(f'<div style=\"font-size: 24px; color: blue; font-weight: bold;\">Time remaining: {time_str}</div>'))\n",
    "        time.sleep(1)\n",
    "    clear_output(wait=True)\n",
    "    # Final message with different styling\n",
    "    display(HTML('<div style=\"font-size: 24px; color: green; font-weight: bold;\">Time\\'s up!</div>'))"
   ]
  },
  {
   "cell_type": "markdown",
   "metadata": {},
   "source": [
    "<div style=\"text-align: center;\">\n",
    "<img src=\"christmas_tree_large.gif\" alt=\"Image\" style=\"width: 500px; height: 350px; object-fit: cover; overflow: hidden;\">\n",
    "</div>"
   ]
  },
  {
   "cell_type": "markdown",
   "metadata": {},
   "source": [
    "<div style=\"text-align: center;\">\n",
    "    <img src=\"https://upload.wikimedia.org/wikipedia/commons/e/ed/Pandas_logo.svg\" style=\"width: 500px;\">\n",
    "</div>"
   ]
  },
  {
   "cell_type": "code",
   "execution_count": 8,
   "metadata": {},
   "outputs": [
    {
     "data": {
      "image/png": "[encoded data removed]",
      "text/plain": [
       "<Figure size 1400x105 with 2 Axes>"
      ]
     },
     "metadata": {},
     "output_type": "display_data"
    }
   ],
   "source": [
    "\n",
    "\n",
    "import matplotlib.pyplot as plt\n",
    "import numpy as np\n",
    "from matplotlib.patches import Rectangle\n",
    "\n",
    "# Topics and x-axis values\n",
    "topics = [\"interface\", \"\", \"\", \"\", \"Python basics\", \"\", \"\", \"\", \"data manipulation\", \"\",  \"visualization\", \"\", \"practice\", \"\"]\n",
    "x_values = np.arange(1, 15)\n",
    "\n",
    "# Create figure and axis objects with adjusted y-axis height\n",
    "fig, ax1 = plt.subplots(figsize=(10*1.4, 0.75*1.4))  # Slightly more vertical space\n",
    "ax1.set(xlim=(0, 14), xticks=x_values - 0.5, xlabel='Course Progression')\n",
    "ax1.set_xticks(x_values - 0.5)  # Align grid lines with x_values\n",
    "ax1.set_xticklabels(x_values, ha='center')\n",
    "ax1.yaxis.set_visible(False)\n",
    "\n",
    "# Secondary axis for labels without ticks\n",
    "ax2 = ax1.twiny()\n",
    "ax2.set(xlim=ax1.get_xlim(), xticks=x_values - 0.5)\n",
    "ax2.set_xticklabels(topics, ha='center')\n",
    "ax2.tick_params(axis='x', length=0)\n",
    "\n",
    "# Add rectangles for progress\n",
    "progress_info = [(0, \"orange\", 1), (1, \"dodgerblue\", 1), (2, \"dodgerblue\", 1), (3, \"dodgerblue\", 1),\n",
    "                 (4, \"dodgerblue\", 1), (5, \"dodgerblue\", 1), (6, \"dodgerblue\", 1), (7, \"dodgerblue\", 1),\n",
    "                 (8, \"dodgerblue\", 0.75)]\n",
    "for x, color, alpha in progress_info:\n",
    "    ax1.add_patch(Rectangle((x, 0), 1, 1, facecolor=color, alpha=alpha, edgecolor=\"gainsboro\", linewidth=0.5))\n",
    "\n",
    "# Add text annotations\n",
    "annotations = [\n",
    "    (0.5, \"Jupyter\\n\\nLaTeX\"),\n",
    "    (1.5, \"math\\n\\n(SymPy)\"),\n",
    "    (2.5, \"strings\\n\\nlists\"),\n",
    "    (3.5, \"other\\ndata\\nstructures\"),\n",
    "    (4.5, \"control\\n\\nstructures\"),\n",
    "    (5.5, \"functions\"),\n",
    "    (6.5, \"arrays\"),\n",
    "    (7.5, \"pandas\\nbasics\"),\n",
    "    (8.5, \"pandas\\nadvanced\")\n",
    "]\n",
    "for x, label, *color in annotations:\n",
    "    ax1.text(x, 0.5, label, ha='center', va='center', fontsize=9, color=color[0] if color else 'black')\n",
    "\n",
    "plt.show()"
   ]
  },
  {
   "cell_type": "markdown",
   "metadata": {},
   "source": [
    "<div class=\"alert alert-block alert-light\">\n",
    "\n",
    "<div style=\"display: flex; justify-content: space-between;\">\n",
    "<div style=\"width: 48%; line-height: 1.5;\">\n",
    "\n",
    "## Warm-up\n",
    "\n",
    "The `isnull()` function returns a DataFrame of boolean values (`True` for missing values and `False` for non-missing values). To count how many `NaN` values there are in each column, you can sum the boolean values because `True` is treated as `1` and `False` as `0` in pandas. By summing the result of `isnull()` for each column, you'll get the total count of missing values. \n",
    "\n",
    "1. Count how many missing values there are in each column of `wine_reviews` using `isnull()`. \n",
    "\n",
    "Optional:\n",
    "\n",
    "2. Remove all rows where the `region_2` column has missing values.\n",
    "\n",
    "3. Replace all missing values in the `price` column with the median price.\n",
    "\n",
    "4. Fill missing values in the `points` column with the mean value of the column.\n",
    "\n",
    "5. What are the most common wine-producing regions? Count the occurrences of each value in the `region_1` column. Since this field often has missing data, replace any `NaN` values with 'Unknown' before counting.\n",
    "\n",
    "\n",
    "</div>\n",
    "<div style=\"width: 48%; line-height: 1.5;color: grey;\">\n",
    "\n",
    "## Aufwärmen\n",
    "\n",
    "Die Funktion \"isnull()\" gibt einen DataFrame mit booleschen Werten zurück (`True` für fehlende Werte und `False` für nicht fehlende Werte). Um zu zählen, wie viele `NaN`-Werte es in jeder Spalte gibt, kann man die booleschen Werte summieren, da `True` als `1` und `False` als `0` in pandas behandelt wird. Wenn Sie das Ergebnis von `isnull()` für jede Spalte addieren, erhalten Sie die Gesamtzahl der fehlenden Werte. \n",
    "\n",
    "1. Zählen Sie mit `isnull()`, wie viele fehlende Werte es in jeder Spalte von `wine_reviews` gibt.\n",
    "\n",
    "Optional:\n",
    "\n",
    "2. Entfernen Sie alle Zeilen, in denen die Spalte `region_2` fehlende Werte enthält.\n",
    "\n",
    "3. Ersetze alle fehlenden Werte in der Spalte `price` durch den Medianpreis.\n",
    "\n",
    "4. Fülle fehlende Werte in der Spalte `points` mit dem Mittelwert der Spalte auf.\n",
    "\n",
    "5. Welches sind die häufigsten Weinbauregionen? Zählen Sie die Häufigkeit der einzelnen Werte in der Spalte `region_1`. Da in diesem Feld häufig Daten fehlen, ersetzen Sie vor der Zählung alle `NaN`-Werte durch \"Unbekannt\".\n",
    "\n",
    "</div>\n",
    "</div>"
   ]
  },
  {
   "cell_type": "code",
   "execution_count": null,
   "metadata": {},
   "outputs": [],
   "source": [
    "countdown_timer(15)"
   ]
  },
  {
   "cell_type": "markdown",
   "metadata": {},
   "source": [
    "<details>\n",
    "  <summary>Click to see solution</summary> \n",
    "\n",
    "Count how many missing values there are in each column using `isnull()`.\n",
    "\n",
    "   ```python\n",
    "   wine_reviews.isnull().sum()\n",
    "   ```\n",
    "\n",
    "Remove all rows where the `region_2` column has missing values.\n",
    "\n",
    "   ```python\n",
    "   wine_reviews.dropna(subset=['region_2'], inplace=True)\n",
    "   ```\n",
    "\n",
    "Replace all missing values in the `price` column with the median price.\n",
    "\n",
    "   ```python\n",
    "   median_price = wine_reviews['price'].median()\n",
    "   wine_reviews['price'].fillna(median_price)\n",
    "   ```\n",
    "\n",
    "Fill missing values in the `points` column with the mean value of the column.\n",
    "\n",
    "   ```python\n",
    "   mean_points = wine_reviews['points'].mean()\n",
    "   wine_reviews['points'].fillna(mean_points)\n",
    "   ```\n",
    "</details>"
   ]
  },
  {
   "cell_type": "code",
   "execution_count": null,
   "metadata": {},
   "outputs": [],
   "source": [
    "import pandas as pd\n",
    "\n",
    "wine_reviews = pd.read_csv('07_wine_reviews_sample.csv')"
   ]
  },
  {
   "cell_type": "code",
   "execution_count": null,
   "metadata": {},
   "outputs": [],
   "source": [
    "wine_reviews"
   ]
  },
  {
   "cell_type": "markdown",
   "metadata": {},
   "source": [
    "<div style=\"display: flex; justify-content: space-between;\">\n",
    "<div style=\"width: 48%; line-height: 1.5;\">\n",
    "\n",
    "## Summary statistics (aggregation)\n",
    "\n",
    "</div>\n",
    "<div style=\"width: 48%; line-height: 1.5;color: grey;\">\n",
    "\n",
    "## Zusammenfassende Statistiken (Aggregation)\n",
    "\n",
    "</div>\n",
    "</div>\n",
    "\n",
    "<div style=\"text-align: center;\">\n",
    "    <img src=\"https://pandas.pydata.org/docs/_images/06_aggregate.svg\" style=\"height: 150px;\">\n",
    "</div>\n",
    "\n",
    "<div style=\"display: flex; justify-content: space-between;\">\n",
    "<div style=\"width: 48%; line-height: 1.5;\">\n",
    "\n",
    "As we have seen in the lecture on Numpy arrays, aggregation refers to the process of applying a function to summarize or combine a collection of data into a single value or a smaller set of values. \n",
    "\n",
    "These aggregation functions are used to compute metrics like sums, averages, min/max values, and more.\n",
    "\n",
    "\n",
    "The `describe()` method provides basic statistics for the numerical data in the dataset. **By default, it excludes textual data from the analysis**.\n",
    "\n",
    "\n",
    "</div>\n",
    "<div style=\"width: 48%; line-height: 1.5;color: grey;\">\n",
    "\n",
    "Wie wir in der Vorlesung über Numpy-Arrays gesehen haben, bezeichnet Aggregation den Prozess der Anwendung einer Funktion, um eine Sammlung von Daten zu einem einzigen Wert oder einer kleineren Gruppe von Werten zusammenzufassen oder zu kombinieren.\n",
    "\n",
    "Diese Aggregationsfunktionen werden verwendet, um Metriken wie Summen, Durchschnittswerte, Min/Max-Werte und mehr zu berechnen.\n",
    "\n",
    "Die Methode `describe()` liefert grundlegende Statistiken für die numerischen Daten im Datensatz. **Standardmäßig schließt sie Textdaten von der Analyse aus**.\n",
    "\n",
    "</div>\n",
    "</div>"
   ]
  },
  {
   "cell_type": "code",
   "execution_count": null,
   "metadata": {},
   "outputs": [],
   "source": [
    "wine_reviews.describe()"
   ]
  },
  {
   "cell_type": "markdown",
   "metadata": {},
   "source": [
    "<div style=\"display: flex; justify-content: space-between;\">\n",
    "<div style=\"width: 48%; line-height: 1.5;\">\n",
    "\n",
    "All the properties returned by the `describe()` command in pandas are also accessible through dedicated commands. Using these commands can sometimes be more efficient or informative when you only need specific metrics or wish to customize the computation.\n",
    "\n",
    "</div>\n",
    "<div style=\"width: 48%; line-height: 1.25;color: grey;\">\n",
    "\n",
    "Alle Eigenschaften, die vom Befehl `describe()` in Pandas zurückgegeben werden, sind auch über spezielle Befehle zugänglich. Die Verwendung dieser Befehle kann manchmal effizienter oder informativer sein, wenn Sie nur bestimmte Metriken benötigen oder die Berechnung anpassen möchten.\n",
    "\n",
    "</div>\n",
    "</div>"
   ]
  },
  {
   "cell_type": "markdown",
   "metadata": {},
   "source": [
    "| **Quantity**   | **Definition**                                                                                  | **Beschreibung**                                              | **Dedicated Command**                   |\n",
    "|----------------|--------------------------------------------------------------------------------------------------|-------------------------------------------------------------------------|-----------------------------------------|\n",
    "| **count**      | The number of non-missing values in the column.                                                 | Anzahl der Nicht-Null-Werte in der Spalte.                             | `df['column_name'].count()`             |\n",
    "| **mean**       | The average of the column's values.                                                             | Der Durchschnitt der Werte in der Spalte.                              | `df['column_name'].mean()`              |\n",
    "| **std**        | The standard deviation, a measure of the column's value dispersion around the mean.             | Die Standardabweichung, ein Maß für die Streuung der Werte um den Mittelwert. | `df['column_name'].std()`               |\n",
    "| **min**        | The smallest value in the column.                                                               | Der kleinste Wert in der Spalte.                                       | `df['column_name'].min()`               |\n",
    "| **25%**        | The 25th percentile (first quartile), below which 25% of the data falls.                        | Das 25. Perzentil (erstes Quartil), unterhalb dessen 25 % der Daten liegen. | `df['column_name'].quantile(0.25)`      |\n",
    "| **50%**        | The 50th percentile (median), the middle value of the column when sorted.                       | Das 50. Perzentil (Median), der mittlere Wert der Spalte nach Sortierung. | `df['column_name'].median()`            |\n",
    "| **75%**        | The 75th percentile (third quartile), below which 75% of the data falls.                        | Das 75. Perzentil (drittes Quartil), unterhalb dessen 75 % der Daten liegen. | `df['column_name'].quantile(0.75)`      |\n",
    "| **max**        | The largest value in the column.                                                                | Der größte Wert in der Spalte.                                         | `df['column_name'].max()`               |\n",
    "| **idxmin**        | Returns the index of the first occurrence of the minimum value | Gibt den Index des ersten Auftretens des Minimalwerts zurück | `df['column_name'].idxmin()`               |\n",
    "| **idxmax**        | Returns the index of the first occurrence of the maximum value | Gibt den Index des ersten Auftretens des Maximalwerts zurück | `df['column_name'].idxmax()`               |\n"
   ]
  },
  {
   "cell_type": "markdown",
   "metadata": {},
   "source": [
    "<div style=\"display: flex; justify-content: space-between;\">\n",
    "<div style=\"width: 48%; line-height: 1.75;\">\n",
    "\n",
    "By default, the `min()` and `max()` methods return the minimum and maximum values for each column, ignoring `NaN` values.\n",
    "\n",
    "To return the index labels corresponding to the minimum or maximum values in each column, use `idxmin()` and `idxmax()`.\n",
    "\n",
    "Unlike `min()` and `max()`, which return the actual value, `idxmin()` and `idxmax()` help you identify where in your data those values are located (please recall that we saw the same concept with `np.argmin()` and `np.argmax()` for NumPy arrays).\n",
    "\n",
    "Naturally, the value returned can be passed to `df.loc` to obtain the entire row. \n",
    "\n",
    "</div>\n",
    "<div style=\"width: 48%; line-height: 1.75;color: grey;\">\n",
    "\n",
    "Standardmäßig geben die Methoden `min()` und `max()` die Mindest- und Höchstwerte für jede Spalte zurück, wobei \"NaN\"-Werte ignoriert werden.\n",
    "\n",
    "Um die Indexbezeichnungen zurückzugeben, die den minimalen oder maximalen Werten in jeder Spalte entsprechen, verwenden Sie `idxmin()` und `idxmax()`.\n",
    "\n",
    "Im Gegensatz zu `min()` und `max()`, die den tatsächlichen Wert zurückgeben, helfen `idxmin()` und `idxmax()` dabei, herauszufinden, wo in Ihren Daten diese Werte zu finden sind (bitte erinnern Sie sich daran, dass wir das gleiche Konzept mit `np.argmin()` und `np.argmax()` für NumPy-Arrays gesehen haben).\n",
    "\n",
    "Natürlich kann der zurückgegebene Wert an `df.loc` übergeben werden, um die gesamte Zeile zu erhalten.\n",
    "\n",
    "</div>\n",
    "</div>"
   ]
  },
  {
   "cell_type": "code",
   "execution_count": null,
   "metadata": {},
   "outputs": [],
   "source": [
    "wine_reviews[\"price\"].min()"
   ]
  },
  {
   "cell_type": "code",
   "execution_count": null,
   "metadata": {},
   "outputs": [],
   "source": [
    "cheapest_wine = wine_reviews[\"price\"].idxmin()\n",
    "\n",
    "wine_reviews.loc[cheapest_wine]"
   ]
  },
  {
   "cell_type": "markdown",
   "metadata": {},
   "source": [
    "<div style=\"display: flex; justify-content: space-between;\">\n",
    "<div style=\"width: 48%; line-height: 1.5;\">\n",
    "\n",
    "Additional statistical operations of interest are listed below. We will explore only some of these along with relevant examples; the rest are provided for your information and potential future needs.\n",
    "\n",
    "</div>\n",
    "<div style=\"width: 48%; line-height: 1.75;color: grey;\">\n",
    "\n",
    "Weitere statistische Operationen von Interesse sind unten aufgeführt. Wir werden nur einige davon zusammen mit relevanten Beispielen untersuchen; die übrigen werden zu Ihrer Information und für mögliche zukünftige Bedürfnisse bereitgestellt.\n",
    "\n",
    "</div>\n",
    "</div>"
   ]
  },
  {
   "cell_type": "markdown",
   "metadata": {},
   "source": [
    "| **Syntax**       | **Description**                                          | **Beschreibung**                                   |\n",
    "|-------------------|----------------------------------------------------------|---------------------------------------------------|\n",
    "|                   | **Summarization & Basic Statistics**                    | **Zusammenfassung und grundlegende Statistik**   |\n",
    "| `size()`          | Returns the number of total elements (including NaN)     | Gibt die Gesamtanzahl der Elemente zurück (einschließlich NaN) |\n",
    "| `nunique()`       | Counts the number of unique values                       | Zählt die Anzahl einzigartiger Werte             |\n",
    "| `unique()`        | Returns an array of unique values in a Series or DataFrame | Gibt ein Array einzigartiger Werte in einer Serie oder einem DataFrame zurück |\n",
    "| `var()`           | Computes the variance                                    | Berechnet die Varianz                            |\n",
    "|                   | **Distribution & Frequency**                            | **Verbreitung und Häufigkeit**                   |\n",
    "| `mode()`          | Returns the mode (most frequent value)                   | Gibt den Modus (häufigster Wert) zurück          |\n",
    "| `value_counts()`  | Returns the frequency of unique values                   | Gibt die Häufigkeit einzigartiger Werte zurück   |\n",
    "|                   | **Correlation & Covariance**                            | **Korrelation und Kovarianz**                    |\n",
    "| `corr()`          | Computes pairwise correlation (Correlation is the normalized version of covariance) | Berechnet die paarweise Korrelation der Spalten (Die Korrelation ist die normalisierte Version der Kovarianz) |\n",
    "| `cov()`           | Computes pairwise covariance  | Berechnet die paarweise Kovarianz                |\n",
    "|                   | **Cumulative Operations**                               | **Kumulative Operationen**                       |\n",
    "| `cumsum()`        | Computes the cumulative sum of values                    | Berechnet die kumulative Summe der Werte         |\n",
    "| `cumprod()`       | Computes the cumulative product of values                | Berechnet das kumulative Produkt der Werte       |\n",
    "| `cummin()`        | Computes the cumulative minimum                          | Berechnet das kumulative Minimum                 |\n",
    "| `cummax()`        | Computes the cumulative maximum                          | Berechnet das kumulative Maximum                 |\n",
    "|                   | **Distribution Shape**                                  | **Verteilungsform**                              |\n",
    "| `skew()`          | Returns the skewness of the distribution                 | Gibt die Schiefe der Verteilung zurück           |\n",
    "| `kurt()`          | Returns the kurtosis of the distribution                 | Gibt die Kurtosis der Verteilung zurück          |  "
   ]
  },
  {
   "cell_type": "markdown",
   "metadata": {},
   "source": [
    "<div style=\"display: flex; justify-content: space-between;\">\n",
    "<div style=\"width: 48%; line-height: 1.5;\">\n",
    "\n",
    "## Correlation (does not imply causation)\n",
    "\n",
    "</div>\n",
    "<div style=\"width: 48%; line-height: 1.5;color: grey;\">\n",
    "\n",
    "## Korrelation (impliziert keine Kausalität)\n",
    "\n",
    "</div>\n",
    "</div>"
   ]
  },
  {
   "cell_type": "markdown",
   "metadata": {},
   "source": [
    "<div style=\"text-align: center;\">\n",
    "    <img src=\"https://tylervigen.com/spurious/correlation/image/27141_ufo-sightings-in-illinois_correlates-with_total-number-of-successful-mount-everest-climbs.svg\" style=\"width: 550px;\">\n",
    "</div>"
   ]
  },
  {
   "cell_type": "markdown",
   "metadata": {},
   "source": [
    "<div style=\"display: flex; justify-content: space-between;\">\n",
    "<div style=\"width: 48%; line-height: 1.5;\">\n",
    "\n",
    "```python\n",
    "df.corr(numeric_only=True)\n",
    "```\n",
    "\n",
    "Correlation is a statistical measure that quantifies the relationship between two variables. \n",
    "\n",
    "The correlation values range between -1 and 1, where:\n",
    "\n",
    "- 1 indicates a perfect positive correlation.\n",
    "- -1 indicates a perfect negative correlation.\n",
    "- 0 indicates no correlation.\n",
    "\n",
    "`df.corr()` calculates pairwise correlation coefficients between numerical columns, providing insights into how variables are related.\n",
    "\n",
    "In recent versions of pandas the default behavior has been clarified:\n",
    "\n",
    "If the DataFrame has mixed data types, you need to explicitly set `numeric_only=True` to compute the correlation matrix for numeric columns. If not specified, an error may occur.\n",
    "\n",
    "The `method` argument allows you to specify which correlation coefficient to compute. The default is `'pearson'`:\n",
    "\n",
    "- Pearson Correlation assesses the strength and direction of a **linear** relationship, making it ideal when variables change proportionally.\n",
    "- Spearman Correlation evaluates the strength and direction of a **monotonic** relationship by ranking the data, making it effective for non-linear but consistently increasing or decreasing trends.\n",
    "\n",
    "</div>\n",
    "<div style=\"width: 48%; line-height: 1.5;color: grey;\">\n",
    "\n",
    "```python\n",
    "df.corr(numeric_only=True)\n",
    "```\n",
    "\n",
    "Die Korrelation ist ein statistisches Maß, das die Beziehung zwischen zwei Variablen quantifiziert.\n",
    "\n",
    "Die Korrelationswerte liegen zwischen -1 und 1, wobei:\n",
    "\n",
    "- 1 steht für eine perfekte positive Korrelation.\n",
    "-1 steht für eine perfekte negative Korrelation.\n",
    "- 0 zeigt keine Korrelation an.\n",
    "\n",
    "Die Funktion `df.corr()` berechnet paarweise Korrelationskoeffizienten zwischen numerischen Spalten und gibt Aufschluss darüber, wie die Variablen zusammenhängen.\n",
    "\n",
    "In neueren Versionen von Pandas wurde das Standardverhalten präzisiert:\n",
    "\n",
    "Wenn der DataFrame gemischte Datentypen hat, müssen Sie explizit `numeric_only=True` setzen, um die Korrelationsmatrix für numerische Spalten zu berechnen. Wenn dies nicht angegeben wird, kann ein Fehler auftreten.\n",
    "\n",
    "Mit dem Argument `method` können Sie angeben, welcher Korrelationskoeffizient berechnet werden soll. Der Standard ist `pearson`:\n",
    "\n",
    "- Die Pearson-Korrelation bewertet die Stärke und Richtung einer **linearen** Beziehung und ist daher ideal, wenn sich Variablen proportional ändern.\n",
    "- Die Spearman-Korrelation bewertet die Stärke und Richtung einer **monotonen** Beziehung, indem sie die Daten in eine Rangfolge bringt, was sie für nicht lineare, aber konstant ansteigende oder abfallende Trends geeignet macht.\n",
    "\n",
    "</div>\n",
    "</div>"
   ]
  },
  {
   "cell_type": "code",
   "execution_count": 16,
   "metadata": {},
   "outputs": [
    {
     "data": {
      "image/png": "[encoded data removed]",
      "text/plain": [
       "<Figure size 1800x750 with 4 Axes>"
      ]
     },
     "metadata": {},
     "output_type": "display_data"
    }
   ],
   "source": [
    "import seaborn as sns\n",
    "import matplotlib.pyplot as plt\n",
    "import numpy as np\n",
    "import pandas as pd\n",
    "\n",
    "# Assuming df is already defined with columns 'x', 'y', 'z', 'v', and 'w'\n",
    "# For completeness, let's define df with appropriate columns\n",
    "\n",
    "# Create the DataFrame\n",
    "x_values = np.arange(1, 10.01, 0.1)\n",
    "data = {\n",
    "    \"x\": x_values,\n",
    "    \"y\": x_values * 2,                   # Linear relationship\n",
    "    \"z\": x_values ** 5,                  # Nonlinear monotonic relationship\n",
    "    \"v\": np.exp(-x_values),             # Another nonlinear relationship\n",
    "    \"w\": np.sin(x_values)                # Non-monotonic relationship\n",
    "}\n",
    "df = pd.DataFrame(data)\n",
    "\n",
    "# Prepare the figure and subplots\n",
    "fig, axes = plt.subplots(1, 4, figsize=(18, 7.5), sharex=True)\n",
    "\n",
    "# Flatten the axes array for easy iteration\n",
    "axes = axes.flatten()\n",
    "\n",
    "# Define columns and their corresponding titles\n",
    "columns = ['y', 'z', 'v', 'w']\n",
    "titles = [\n",
    "    r'$y=2x$, linear',\n",
    "    r'$y=x^5$, nonlinear monotonic',\n",
    "    r'$y=e^{-x}$, negative',\n",
    "    r'$y= \\sin(x)$, non-monotonic'\n",
    "]\n",
    "\n",
    "# Calculate correlations\n",
    "correlations = {\n",
    "    col: {\n",
    "        \"pearson\": df['x'].corr(df[col], method='pearson'),\n",
    "        \"spearman\": df['x'].corr(df[col], method='spearman')\n",
    "    }\n",
    "    for col in columns\n",
    "}\n",
    "\n",
    "# Colors\n",
    "colors = ['tomato', 'slategrey', 'dodgerblue', 'rebeccapurple']\n",
    "\n",
    "# Plot each column as a subplot\n",
    "for ax, col, title, coloring in zip(axes, columns, titles, colors):\n",
    "    sns.lineplot(x='x', y=col, data=df, ax=ax, c=coloring, lw=2)\n",
    "    corr_values = correlations[col]\n",
    "    legend_text = (\n",
    "        f\"Pearson: {corr_values['pearson']:.2f}\\n\"\n",
    "        f\"Spearman: {corr_values['spearman']:.2f}\"\n",
    "    )\n",
    "    ax.legend([legend_text], bbox_to_anchor=[0.5, -0.2], loc='upper center')\n",
    "    ax.set_title(title)\n",
    "    ax.set_xlabel('x')\n",
    "    ax.set_ylabel(col)\n",
    "    ax.grid()\n",
    "\n",
    "# Adjust layout\n",
    "plt.tight_layout()\n",
    "plt.show()"
   ]
  },
  {
   "cell_type": "markdown",
   "metadata": {},
   "source": [
    "<div style=\"display: flex; justify-content: space-between;\">\n",
    "<div style=\"width: 48%; line-height: 1.5;\">\n",
    "\n",
    "**Fun fact:**\n",
    "\n",
    "For simple linear regression, $R^2$ is the square of the correlation coefficient: \n",
    "\n",
    "$$\n",
    "R^2 = \\text{(Pearson coefficient)}^2.\n",
    "$$\n",
    "\n",
    "That means that if we tried to fit $y=x^5$ with a line, we would get $R^2 = 0.85^2 = 0.72$. For $y=e^{-x}$, $R^2 = 0.72^2 = 0.52$.\n",
    "\n",
    "</div>\n",
    "<div style=\"width: 48%; line-height: 1.5;color: grey;\">\n",
    "\n",
    "**Fun fact:**\n",
    "\n",
    "Bei einer einfachen linearen Regression ist $R^2$ das Quadrat des Korrelationskoeffizienten:\n",
    "\n",
    "$$\n",
    "R^2 = \\text{(Pearson-Koeffizient)}^2.\n",
    "$$\n",
    "\n",
    "Das bedeutet, dass, wenn wir versuchen würden, $y=x^5$ mit einer Linie anzupassen, wir $R^2 = 0.85^2 = 0.72$ erhalten würden. Für $y=e^{-x}$ ist $R^2 = 0.72^2 = 0.52$.\n",
    "\n",
    "</div>\n",
    "</div>"
   ]
  },
  {
   "cell_type": "markdown",
   "metadata": {},
   "source": [
    "<div style=\"display: flex; justify-content: space-between;\">\n",
    "<div style=\"width: 48%; line-height: 1.5;\">\n",
    "\n",
    "A correlation matrix shows the correlation coefficients for every pair of numerical variables in your dataset.\n",
    "Rows and columns represent the variables, and the intersection contains their correlation value.\n",
    "\n",
    "**The diagonal of the matrix always contains 1 because a variable is perfectly correlated with itself.**\n",
    "\n",
    "</div>\n",
    "<div style=\"width: 48%; line-height: 1.5;color: grey;\">\n",
    "\n",
    "Eine Korrelationsmatrix zeigt die Korrelationskoeffizienten für jedes Paar von numerischen Variablen in Ihrem Datensatz.\n",
    "Die Zeilen und Spalten stellen die Variablen dar, und die Schnittmenge enthält ihren Korrelationswert.\n",
    "\n",
    "**Die Diagonale der Matrix enthält immer 1, da eine Variable perfekt mit sich selbst korreliert ist.**\n",
    "\n",
    "</div>\n",
    "</div>"
   ]
  },
  {
   "cell_type": "code",
   "execution_count": null,
   "metadata": {},
   "outputs": [],
   "source": [
    "df.corr()"
   ]
  },
  {
   "cell_type": "code",
   "execution_count": null,
   "metadata": {},
   "outputs": [],
   "source": [
    "df.corr().round(2)"
   ]
  },
  {
   "cell_type": "code",
   "execution_count": null,
   "metadata": {},
   "outputs": [],
   "source": [
    "df.corr().style.background_gradient(cmap=\"bwr\", vmin=-1, vmax=1).format(\"{:.2f}\")"
   ]
  },
  {
   "cell_type": "markdown",
   "metadata": {},
   "source": [
    "<div style=\"display: flex; justify-content: space-between;\">\n",
    "<div style=\"width: 48%; line-height: 1.5;\">\n",
    "\n",
    "A better way to visualize correlation matrices is through *heatmaps*, which provide an intuitive graphical representation of the data and can be saved as figures. However, we will explore heatmaps in detail in a dedicated lecture. \n",
    "\n",
    "In the meantime: [all colormaps.](https://matplotlib.org/stable/users/explain/colors/colormaps.html)\n",
    "\n",
    "</div>\n",
    "<div style=\"width: 48%; line-height: 1.5;color: grey;\">\n",
    "\n",
    "Eine bessere Möglichkeit zur Visualisierung von Korrelationsmatrizen sind *Heatmaps*, die eine intuitive grafische Darstellung der Daten bieten und als Abbildungen gespeichert werden können. Wir werden Heatmaps jedoch in einer eigenen Vorlesung im Detail untersuchen.\n",
    "\n",
    "In der Zwischenzeit: [alle Farbkarten.](https://matplotlib.org/stable/users/explain/colors/colormaps.html)\n",
    "\n",
    "</div>\n",
    "</div>"
   ]
  },
  {
   "cell_type": "markdown",
   "metadata": {},
   "source": [
    "<div class=\"alert alert-block alert-light\">\n",
    "\n",
    "<div style=\"display: flex; justify-content: space-between;\">\n",
    "<div style=\"width: 48%; line-height: 1.5;\">\n",
    "\n",
    "#### Exercise\n",
    "\n",
    "1. What is the median of the points in the `wine_reviews` dataset?\n",
    "\n",
    "2. What countries are represented in the dataset? (Your answer should not include any duplicates.) Find the command in the table above.\n",
    "\n",
    "3. Is there any correlation between `points` and `price`?\n",
    "\n",
    "4. Which wine has the highest points-to-price ratio?\n",
    "\n",
    "</div>\n",
    "<div style=\"width: 48%; line-height: 1.5;color: grey;\">\n",
    "\n",
    "#### Übung\n",
    "\n",
    "1. Was ist der Median der Punkte im Datensatz `wine_reviews`?\n",
    "\n",
    "2. Welche Länder sind in dem Datensatz vertreten? (Ihre Antwort sollte keine Duplikate enthalten.) Suchen Sie den Befehl in der obigen Tabelle.\n",
    "\n",
    "3. Gibt es eine Korrelation zwischen `points` und `price`?\n",
    "\n",
    "4. Welcher Wein hat das höchste Preis-Punkte-Verhältnis?\n",
    "\n",
    "</div>\n",
    "</div>"
   ]
  },
  {
   "cell_type": "code",
   "execution_count": null,
   "metadata": {},
   "outputs": [],
   "source": [
    "countdown_timer(15)"
   ]
  },
  {
   "cell_type": "code",
   "execution_count": null,
   "metadata": {},
   "outputs": [],
   "source": [
    "# 1. \n",
    "median_points = wine_reviews['points'].median()\n",
    "\n",
    "# 2. \n",
    "countries = wine_reviews['country'].dropna().unique()\n",
    "\n",
    "# 3. \n",
    "correlation = wine_reviews.corr(method='spearman', numeric_only=True)\n",
    "\n",
    "# 4. \n",
    "wine_reviews['points_to_price_ratio'] = wine_reviews['points'] / wine_reviews['price']\n",
    "highest_ratio_wine = wine_reviews.loc[wine_reviews['points_to_price_ratio'].idxmax()]\n",
    "\n",
    "print(median_points)\n",
    "print(countries)\n",
    "print(correlation)\n",
    "print(highest_ratio_wine)"
   ]
  },
  {
   "cell_type": "markdown",
   "metadata": {},
   "source": [
    "<div style=\"display: flex; justify-content: space-between;\">\n",
    "<div style=\"width: 48%; line-height: 1.75;\">\n",
    "\n",
    "## Sorting\n",
    "\n",
    "The `sort_values()` function in pandas allows you to sort a DataFrame by one or more columns, either in ascending or descending order. It’s a versatile tool for organizing data based on specified criteria.\n",
    "\n",
    "- `by`: The column(s) to sort by. You can pass a single column name as a string or multiple column names as a list.\n",
    "- `ascending`: A boolean or a list of booleans that determines the sort order. `True` (default) sorts in ascending order, and `False` sorts in descending order.\n",
    "- `inplace`: If `True`, the sorting operation will modify the DataFrame in place without returning a new DataFrame. Default: `False`.\n",
    "\n",
    "</div>\n",
    "<div style=\"width: 48%; line-height: 1.75;color: grey;\">\n",
    "\n",
    "## Sortieren\n",
    "\n",
    "Die Funktion `sort_values()` in pandas ermöglicht es Ihnen, einen DataFrame nach einer oder mehreren Spalten zu sortieren, entweder in aufsteigender oder absteigender Reihenfolge. Sie ist ein vielseitiges Werkzeug, um Daten nach bestimmten Kriterien zu ordnen.\n",
    "\n",
    "- `by`: Die Spalte(n), nach denen sortiert werden soll. Sie können einen einzelnen Spaltennamen als String oder mehrere Spaltennamen als Liste übergeben.\n",
    "- `ascending`: Ein boolescher Wert oder eine Liste von booleschen Werten, die die Sortierreihenfolge bestimmen. `True` (Defaultwert) sortiert in aufsteigender Reihenfolge, und \"False\" sortiert in absteigender Reihenfolge.\n",
    "- `inplace`: Wenn `True`, wird die Sortieroperation den DataFrame an Ort und Stelle ändern, ohne einen neuen DataFrame zurückzugeben. Defaultwert: `False`.\n",
    "\n",
    "</div>\n",
    "</div>"
   ]
  },
  {
   "cell_type": "markdown",
   "metadata": {},
   "source": [
    "```python\n",
    "df.sort_values(by='column_name')\n",
    "```"
   ]
  },
  {
   "cell_type": "code",
   "execution_count": null,
   "metadata": {},
   "outputs": [],
   "source": [
    "# Sorting by a Single Column\n",
    "\n",
    "# Sorting the DataFrame by the 'points' column in ascending order\n",
    "wine_reviews_sorted = wine_reviews.sort_values(by='points')\n",
    "\n",
    "wine_reviews_sorted"
   ]
  },
  {
   "cell_type": "code",
   "execution_count": null,
   "metadata": {},
   "outputs": [],
   "source": [
    "# Sorting by a Single Column\n",
    "\n",
    "# Use kind='mergesort' to preserve the original order of ties (rows with the same valus)\n",
    "wine_reviews_sorted = wine_reviews.sort_values(by='points', kind='mergesort')\n",
    "\n",
    "wine_reviews_sorted"
   ]
  },
  {
   "cell_type": "code",
   "execution_count": null,
   "metadata": {},
   "outputs": [],
   "source": [
    "# Sorting by Multiple Columns\n",
    "\n",
    "# Sorting by 'points' in ascending order, then by 'price' in descending order\n",
    "# pandas resolves ties in 'points' by looking at 'price'\n",
    "wine_reviews_sorted = wine_reviews.sort_values(by=['points', 'price'], ascending=[True, False])\n",
    "\n",
    "wine_reviews_sorted"
   ]
  },
  {
   "cell_type": "code",
   "execution_count": null,
   "metadata": {},
   "outputs": [],
   "source": [
    "# Sorting the DataFrame in place\n",
    "\n",
    "wine_reviews.sort_values(by='points', ascending=False, inplace=True)\n",
    "\n",
    "wine_reviews"
   ]
  },
  {
   "cell_type": "code",
   "execution_count": null,
   "metadata": {},
   "outputs": [],
   "source": [
    "#Handling Missing Values\n",
    "\n",
    "# Sorting by 'points' and placing NaN values at the beginning\n",
    "wine_reviews_sorted = wine_reviews.sort_values(by='designation', na_position='first')\n",
    "\n",
    "wine_reviews_sorted"
   ]
  },
  {
   "cell_type": "markdown",
   "metadata": {},
   "source": [
    "<div style=\"display: flex; justify-content: space-between;\">\n",
    "<div style=\"width: 48%; line-height: 1.5;\">\n",
    "\n",
    "## Grouping\n",
    "\n",
    "</div>\n",
    "<div style=\"width: 48%; line-height: 1.5;color: grey;\">\n",
    "\n",
    "## Gruppierung\n",
    "\n",
    "</div>\n",
    "</div>\n",
    "\n",
    "<div style=\"text-align: center;\">\n",
    "    <img src=\"https://pandas.pydata.org/docs/_images/06_groupby.svg\" style=\"height: 300px;\">\n",
    "</div>\n",
    "\n",
    "<div style=\"display: flex; justify-content: space-between;\">\n",
    "<div style=\"width: 48%; line-height: 1.5;\">\n",
    "\n",
    "Suppose we want to calculate the average `points` awarded to wines from each country.\n",
    "\n",
    "</div>\n",
    "<div style=\"width: 48%; line-height: 1.5;color: grey;\">\n",
    "\n",
    "Nehmen wir an, wir wollen die durchschnittliche `points` für Weine aus jedem Land berechnen.\n",
    "\n",
    "</div>\n",
    "</div>"
   ]
  },
  {
   "cell_type": "code",
   "execution_count": null,
   "metadata": {},
   "outputs": [],
   "source": [
    "wine_reviews = pd.read_csv('07_wine_reviews_sample.csv')      # Let's reload the dataset for a fresh start\n",
    "\n",
    "print(wine_reviews['country'].unique())"
   ]
  },
  {
   "cell_type": "markdown",
   "metadata": {},
   "source": [
    "<div style=\"display: flex; justify-content: space-between;\">\n",
    "<div style=\"width: 48%; line-height: 1.5;\">\n",
    "\n",
    "We can *group* the data by `country` and compute the mean of the `points` for each group (i.e., each country).\n",
    "\n",
    "The `groupby()` function in pandas is used precisely to group data based on the values in one or more columns. \n",
    "\n",
    "It’s particularly useful for aggregating, summarizing, or transforming data by applying a function (like `sum()`, `mean()`, etc.) to each group.\n",
    "\n",
    "</div>\n",
    "<div style=\"width: 48%; line-height: 1.5;color: grey;\">\n",
    "\n",
    "Wir können die Daten nach `country` gruppieren und den Mittelwert der `points` für jede Gruppe (d. h. jedes Land) berechnen.\n",
    "\n",
    "Die Funktion `groupby()` in pandas wird genau dazu verwendet, Daten auf der Grundlage der Werte in einer oder mehreren Spalten zu gruppieren.\n",
    "\n",
    "Sie ist besonders nützlich, um Daten zu aggregieren, zusammenzufassen oder umzuwandeln, indem eine Funktion (wie `sum()`, `mean()`, usw.) auf jede Gruppe angewendet wird.\n",
    "\n",
    "</div>\n",
    "</div>"
   ]
  },
  {
   "cell_type": "markdown",
   "metadata": {},
   "source": [
    "```python\n",
    "df.groupby('column_name').agg_function()\n",
    "```"
   ]
  },
  {
   "cell_type": "code",
   "execution_count": null,
   "metadata": {},
   "outputs": [],
   "source": [
    "wine_reviews.groupby('country')"
   ]
  },
  {
   "cell_type": "markdown",
   "metadata": {},
   "source": [
    "<div style=\"display: flex; justify-content: space-between;\">\n",
    "<div style=\"width: 48%; line-height: 1.5;\">\n",
    "\n",
    "This output indicates that a GroupBy object has been created in pandas. \n",
    "It represents a \"lazy\" grouping operation, meaning that the actual computations (like aggregation, filtering, or transformation) are not performed until a specific method such as `mean()`, `sum()`, `apply()` is called.\n",
    "\n",
    "</div>\n",
    "<div style=\"width: 48%; line-height: 1.5;color: grey;\">\n",
    "\n",
    "Diese Ausgabe zeigt an, dass ein GroupBy-Objekt in Pandas erstellt wurde.\n",
    "Es stellt eine \"faule\" Gruppierungsoperation dar, was bedeutet, dass die eigentlichen Berechnungen (wie Aggregation, Filterung oder Transformation) erst dann durchgeführt werden, wenn eine bestimmte Methode wie `mean()`, `sum()` oder `apply()` aufgerufen wird.\n",
    "\n",
    "</div>\n",
    "</div>"
   ]
  },
  {
   "cell_type": "code",
   "execution_count": null,
   "metadata": {},
   "outputs": [],
   "source": [
    "wine_reviews.groupby('country')['points'].mean()"
   ]
  },
  {
   "cell_type": "code",
   "execution_count": null,
   "metadata": {},
   "outputs": [],
   "source": [
    "# agg(['mean']) returns a polished data frame instead\n",
    "\n",
    "wine_reviews.groupby('country')['points'].agg(['mean'])"
   ]
  },
  {
   "cell_type": "code",
   "execution_count": null,
   "metadata": {},
   "outputs": [],
   "source": [
    "# You can also apply multiple aggregation functions at once:\n",
    "\n",
    "wine_reviews.groupby('country')['points'].agg(['mean', 'std', 'median'])"
   ]
  },
  {
   "cell_type": "markdown",
   "metadata": {},
   "source": [
    "<div style=\"display: flex; justify-content: space-between;\">\n",
    "<div style=\"width: 48%; line-height: 1.5;\">\n",
    "\n",
    "The output of `groupby()` is, by default, sorted by the group labels. But what if we want to sort it by the result of the aggregation function we just applied?\n",
    "\n",
    "We can apply `sort_values()`, and pandas offers a very efficient way to handle this directly:\n",
    "\n",
    "**Chaining** in pandas refers to the practice of *applying multiple methods consecutively in a single line of code*. \n",
    "\n",
    "This allows you to perform a series of operations step by step, without needing to store intermediate results in separate variables. \n",
    "\n",
    "It's a clean and efficient way to work with data.\n",
    "\n",
    "</div>\n",
    "<div style=\"width: 48%; line-height: 1.5;color: grey;\">\n",
    "\n",
    "Die Ausgabe von `groupby()` wird standardmäßig nach den Gruppenbezeichnungen sortiert. Was aber, wenn wir sie nach dem Ergebnis der gerade angewandten Aggregationsfunktion sortieren wollen?\n",
    "\n",
    "Wir können `sort_values()` anwenden, und pandas bietet eine sehr effiziente Möglichkeit, dies direkt zu tun:\n",
    "\n",
    "*Chaining* in pandas bezieht sich auf die Praxis der *Anwendung mehrerer Methoden nacheinander in einer einzigen Codezeile*.\n",
    "\n",
    "Dadurch können Sie eine Reihe von Operationen Schritt für Schritt durchführen, ohne Zwischenergebnisse in separaten Variablen speichern zu müssen.\n",
    "\n",
    "Dies ist eine saubere und effiziente Art, mit Daten zu arbeiten.\n",
    "\n",
    "</div>\n",
    "</div>"
   ]
  },
  {
   "cell_type": "code",
   "execution_count": null,
   "metadata": {},
   "outputs": [],
   "source": [
    "wine_reviews.groupby('country')['points'].mean().sort_values(ascending=False)"
   ]
  },
  {
   "cell_type": "markdown",
   "metadata": {},
   "source": [
    "<div style=\"display: flex; justify-content: space-between;\">\n",
    "<div style=\"width: 48%; line-height: 1.75;\">\n",
    "\n",
    "`wine_reviews.groupby('country')` groups the `wine_reviews` DataFrame by the values in the `country` column.\n",
    "\n",
    "`['points']` selects the `points` column from the grouped data and focuses the subsequent operations on the `points` column for each group.\n",
    "\n",
    "`.mean()` computes the mean of the `points` column for each group (i.e., each country).\n",
    "\n",
    "`.sort_values(ascending=False)` sorts the resulting Series in descending order based on the mean `points` values.\n",
    "\n",
    "</div>\n",
    "<div style=\"width: 48%; line-height: 1.75;color: grey;\">\n",
    "\n",
    "`wine_reviews.groupby('country')` gruppiert den DataFrame `wine_reviews` nach den Werten in der Spalte `country`.\n",
    "\n",
    "`['points']` wählt die Spalte `points` aus den gruppierten Daten aus und konzentriert die nachfolgenden Operationen auf die Spalte `points` für jede Gruppe.\n",
    "\n",
    "`.mean()` berechnet den Mittelwert der Spalte `points` für jede Gruppe (d. h. jedes Land).\n",
    "\n",
    "`.sort_values(ascending=False)` sortiert die sich ergebenden Reihen in absteigender Reihenfolge auf der Grundlage der mittleren `points`-Werte.\n",
    "\n",
    "</div>\n",
    "</div>"
   ]
  },
  {
   "cell_type": "markdown",
   "metadata": {},
   "source": [
    "<div class=\"alert alert-block alert-light\">\n",
    "\n",
    "<div style=\"display: flex; justify-content: space-between;\">\n",
    "<div style=\"width: 48%; line-height: 1.5;<div style=\"width: 48%; line-height: 1.5;\">\n",
    "\n",
    "####  Exercise\n",
    "\n",
    "What is the best wine I can buy for a given price?\n",
    "Group the wines by price, find the maximum points for each group, and sort the result by price.\n",
    "\n",
    "</div>\n",
    "<div style=\"width: 48%; line-height: 1.5;<div style=\"width: 48%; line-height: 1.5;color: grey;\">\n",
    "\n",
    "####  Übung\n",
    "\n",
    "Welches ist der beste Wein, den ich für einen bestimmten Preis kaufen kann?\n",
    "Gruppieren Sie die Weine nach Preis, ermitteln Sie die Höchstpunktzahl für jede Gruppe und sortieren Sie das Ergebnis nach Preis.\n",
    "\n",
    "</div>\n",
    "</div>"
   ]
  },
  {
   "cell_type": "code",
   "execution_count": null,
   "metadata": {},
   "outputs": [],
   "source": [
    "countdown_timer(10)"
   ]
  },
  {
   "cell_type": "code",
   "execution_count": null,
   "metadata": {},
   "outputs": [],
   "source": [
    "wine_reviews.groupby('price')['points'].max().sort_values()"
   ]
  },
  {
   "cell_type": "code",
   "execution_count": null,
   "metadata": {},
   "outputs": [],
   "source": [
    "wine_reviews.groupby(['country', 'variety']).size().sort_values(ascending=False)"
   ]
  },
  {
   "cell_type": "markdown",
   "metadata": {},
   "source": [
    "<div style=\"display: flex; justify-content: space-between;\">\n",
    "<div style=\"width: 48%; line-height: 1.5;\">\n",
    "\n",
    "## Combining multiple datasets\n",
    "\n",
    "</div>\n",
    "<div style=\"width: 48%; line-height: 1.5;color: grey;\">\n",
    "\n",
    "## Kombination mehrerer Datensätze\n",
    "\n",
    "</div>\n",
    "</div>\n",
    "\n",
    "<div style=\"text-align: center;\">\n",
    "    <img src=\"https://pandas.pydata.org/docs/_images/08_concat_row.svg\" style=\"height: 250px;\">\n",
    "</div>\n",
    "\n",
    "<div style=\"display: flex; justify-content: space-between;\">\n",
    "<div style=\"width: 48%; line-height: 1.5;\">\n",
    "\n",
    "Combining datasets in pandas allows you to bring together data from multiple DataFrames.\n",
    "\n",
    "#### `pd.concat()`\n",
    "\n",
    "The `pd.concat()` function performs concatenation operations of multiple tables along one of the axes (row-wise or column-wise).\n",
    "\n",
    "Suppose we have two datasets with similar structures, and we want to combine them into a single table by stacking one below the other.\n",
    "\n",
    "</div>\n",
    "<div style=\"width: 48%; line-height: 1.5;color: grey;\">\n",
    "\n",
    "Die Kombination von Datensätzen in \"Pandas\" ermöglicht es Ihnen, Daten aus mehreren DataFrames zusammenzuführen.\n",
    "\n",
    "#### `pd.concat()`\n",
    "\n",
    "Die Funktion `pd.concat()` führt Verkettungsoperationen von mehreren Tabellen entlang einer der Achsen (zeilenweise oder spaltenweise) durch.\n",
    "\n",
    "Angenommen, wir haben zwei Datensätze mit ähnlicher Struktur und möchten sie in einer einzigen Tabelle kombinieren, indem wir sie übereinander stapeln.\n",
    "\n",
    "</div>\n",
    "</div>"
   ]
  },
  {
   "cell_type": "markdown",
   "metadata": {},
   "source": [
    "```python\n",
    "result = pd.concat([df1, df2], axis=0)  # Vertical concatenation (default)\n",
    "result = pd.concat([df1, df2], axis=1)  # Horizontal concatenation\n",
    "```"
   ]
  },
  {
   "cell_type": "code",
   "execution_count": null,
   "metadata": {},
   "outputs": [],
   "source": [
    "air_quality_no2 = pd.read_csv(\"08_air_quality_no2_long.csv\", parse_dates=True)\n",
    "\n",
    "air_quality_no2.head()"
   ]
  },
  {
   "cell_type": "code",
   "execution_count": null,
   "metadata": {},
   "outputs": [],
   "source": [
    "air_quality_pm25 = pd.read_csv(\"08_air_quality_pm25_long.csv\", parse_dates=True)\n",
    "\n",
    "air_quality_pm25.head()"
   ]
  },
  {
   "cell_type": "code",
   "execution_count": null,
   "metadata": {},
   "outputs": [],
   "source": [
    "air_quality = pd.concat([air_quality_pm25, air_quality_no2], axis=0)\n",
    "\n",
    "air_quality"
   ]
  },
  {
   "cell_type": "markdown",
   "metadata": {},
   "source": [
    "<div style=\"display: flex; justify-content: space-between;\">\n",
    "<div style=\"width: 48%; line-height: 1.75;\">\n",
    "\n",
    "Here, we have appended `air_quality_no2` below `air_quality_pm25`.\n",
    "\n",
    "However, we notice that `air_quality_pm25` and `air_quality_no2` do not only share the same structure but also have identical values in several columns (`city`, `country`, `date.utc`, `location`, and `unit`), except for `parameter` and `value`. \n",
    "\n",
    "It would be more efficient to combine them into a single DataFrame where `no2` and `pm25` are represented as two separate columns.\n",
    "\n",
    "To achieve this, we first clean up the two DataFrames by removing the `parameter` column and renaming the `value` column to `no2` and `pm25`, respectively:\n",
    "\n",
    "</div>\n",
    "<div style=\"width: 48%; line-height: 1.75;color: grey;\">\n",
    "\n",
    "Hier haben wir `air_quality_no2` unter `air_quality_pm25` angehängt.\n",
    "\n",
    "Es fällt jedoch auf, dass `air_quality_pm25` und `air_quality_no2` nicht nur dieselbe Struktur haben, sondern auch in mehreren Spalten (`city`, `country`, `date.utc`, `location` und `unit`) identische Werte aufweisen, mit Ausnahme von `parameter` und `value`.\n",
    "\n",
    "Es wäre effizienter, sie in einem einzigen DataFrame zusammenzufassen, in dem `no2` und `pm25` als zwei separate Spalten dargestellt werden.\n",
    "\n",
    "Um dies zu erreichen, bereinigen wir zunächst die beiden DataFrames, indem wir die Spalte `parameter` entfernen und die Spalte `value` in `no2` bzw. `pm25` umbenennen:\n",
    "\n",
    "</div>\n",
    "</div>"
   ]
  },
  {
   "cell_type": "code",
   "execution_count": null,
   "metadata": {},
   "outputs": [],
   "source": [
    "# Drop the 'parameter' column since it's no longer needed\n",
    "pm25 = air_quality_pm25.drop(columns=['parameter'])\n",
    "no2 = air_quality_no2.drop(columns=['parameter'])\n",
    "\n",
    "# Rename the 'value' columns to differentiate them\n",
    "pm25 = pm25.rename(columns={'value': 'value pm25'})\n",
    "no2 = no2.rename(columns={'value': 'value no2'})"
   ]
  },
  {
   "cell_type": "code",
   "execution_count": null,
   "metadata": {},
   "outputs": [],
   "source": [
    "no2.head()"
   ]
  },
  {
   "cell_type": "markdown",
   "metadata": {},
   "source": [
    "<div style=\"display: flex; justify-content: space-between;\">\n",
    "<div style=\"width: 48%; line-height: 1.5;\">\n",
    "\n",
    "#### `pd.merge()`\n",
    "\n",
    "`pd.merge()` is a pandas function used to combine two DataFrames based on common columns or indexes.\n",
    "\n",
    "</div>\n",
    "<div style=\"width: 48%; line-height: 1.5;color: grey;\">\n",
    "\n",
    "#### `pd.merge()`\n",
    "\n",
    "`pd.merge()` ist eine pandas-Funktion, mit der zwei DataFrames auf der Grundlage gemeinsamer Spalten oder Indizes kombiniert werden können.\n",
    "\n",
    "</div>\n",
    "</div>"
   ]
  },
  {
   "cell_type": "markdown",
   "metadata": {},
   "source": [
    "```python\n",
    "pd.merge(df1, df2, on='key')\n",
    "```"
   ]
  },
  {
   "cell_type": "code",
   "execution_count": null,
   "metadata": {},
   "outputs": [],
   "source": [
    "air_quality = pd.merge(pm25, no2, \n",
    "                       on=['city', 'country', 'date.utc', 'location', 'unit'])\n",
    "\n",
    "air_quality"
   ]
  },
  {
   "cell_type": "markdown",
   "metadata": {},
   "source": [
    "<div style=\"display: flex; justify-content: space-between;\">\n",
    "<div style=\"width: 48%; line-height: 1.5;\">\n",
    "\n",
    "There are multiple ways to merge two DataFrames.\n",
    "\n",
    "**Inner Merge** (`how='inner'`):\n",
    "*Keeps only rows with matching keys* in both DataFrames.\n",
    "Acts like an *intersection*.\n",
    "  \n",
    "```python\n",
    "pd.merge(df1, df2, how='inner', on='key')\n",
    "```\n",
    "\n",
    "**Outer Merge** (`how='outer'`):\n",
    "*Keeps all rows* from both DataFrames, filling with `NaN` for missing values.\n",
    "Acts like a *union*.\n",
    "  \n",
    "```python\n",
    "pd.merge(df1, df2, how='outer', on='key')\n",
    "```\n",
    "\n",
    "**Left Merge** (`how='left'`):\n",
    "*Keeps all rows from the left DataFrame (df1)* and only the matching rows from the right DataFrame (df2). \n",
    "Rows in the left DataFrame with no match in the right DataFrame will have `NaN` for the columns from the right DataFrame.\n",
    "  \n",
    "```python\n",
    "pd.merge(df1, df2, how='left', on='key')\n",
    "```\n",
    "\n",
    "**Right Merge** (`how='right'`):\n",
    "*Keeps all rows from the right DataFrame (df2)* and only the matching rows from the left DataFrame (df1). \n",
    "Rows in the right DataFrame with no match in the left DataFrame will have `NaN` for the columns from the left DataFrame.\n",
    "  \n",
    "```python\n",
    "pd.merge(df1, df2, how='right', on='key')\n",
    "```\n",
    "\n",
    "</div>\n",
    "<div style=\"width: 48%; line-height: 1.5;color: grey;\">\n",
    "\n",
    "Es gibt mehrere Möglichkeiten, zwei DataFrames zusammenzuführen.\n",
    "\n",
    "`how='inner'`:\n",
    "*Behält nur Zeilen mit übereinstimmenden Schlüsseln* in beiden DataFrames.\n",
    "Wirkt wie eine *Schnittstelle*.\n",
    "  \n",
    "```python\n",
    "pd.merge(df1, df2, how='inner', on='key')\n",
    "```\n",
    "\n",
    "`how='outer'`:\n",
    "*Behält alle Zeilen* aus beiden DataFrames und füllt mit `NaN` für fehlende Werte.\n",
    "Wirkt wie eine *Zusammenführung*.\n",
    "  \n",
    "```python\n",
    "pd.merge(df1, df2, how='outer', on='key')\n",
    "```\n",
    "\n",
    "`how='left'`:\n",
    "*Behält alle Zeilen aus dem linken DataFrame (df1)* und nur die passenden Zeilen aus dem rechten DataFrame (df2).\n",
    "Zeilen im linken DataFrame, die im rechten DataFrame nicht übereinstimmen, haben `NaN` für die Spalten aus dem rechten DataFrame.\n",
    "  \n",
    "```python\n",
    "pd.merge(df1, df2, how='left', on='key')\n",
    "```\n",
    "\n",
    "`how='right'`:\n",
    "*Behält alle Zeilen aus dem rechten DataFrame (df2)* und nur die passenden Zeilen aus dem linken DataFrame (df1).\n",
    "Zeilen im rechten DataFrame, die im linken DataFrame nicht übereinstimmen, haben `NaN` für die Spalten aus dem linken DataFrame.\n",
    "  \n",
    "```python\n",
    "pd.merge(df1, df2, how='right', on='key')\n",
    "```\n",
    "\n",
    "</div>\n",
    "</div>"
   ]
  },
  {
   "cell_type": "markdown",
   "metadata": {},
   "source": [
    "<div style=\"text-align: center;\">\n",
    "    <img src=\"https://miro.medium.com/v2/resize:fit:1200/1*9eH1_7VbTZPZd9jBiGIyNA.png\" style=\"height: 300px;\">\n",
    "</div>"
   ]
  },
  {
   "cell_type": "code",
   "execution_count": null,
   "metadata": {},
   "outputs": [],
   "source": [
    "air_quality = pd.merge(pm25, no2, \n",
    "                       on=['city', 'country', 'date.utc', 'location', 'unit'], \n",
    "                       how='outer')\n",
    "\n",
    "air_quality"
   ]
  },
  {
   "cell_type": "markdown",
   "metadata": {},
   "source": [
    "<div style=\"display: flex; justify-content: space-between;\">\n",
    "<div style=\"width: 48%; line-height: 1.5;\">\n",
    "\n",
    "### Commentary: In-place operations\n",
    "\n",
    "</div>\n",
    "<div style=\"width: 48%; line-height: 1.5;color: grey;\">\n",
    "\n",
    "### Kommentar: In-place (Vor Ort) Operationen\n",
    "\n",
    "</div>\n",
    "</div>\n"
   ]
  },
  {
   "cell_type": "markdown",
   "metadata": {},
   "source": [
    "<div style=\"text-align: center;\">\n",
    "    <img src=\"https://miro.medium.com/v2/resize:fit:1400/format:webp/1*zzjwTgzpXTieLnhZ_ysYeQ.gif\" style=\"width: 600px;\">\n",
    "<figcaption> Replacing NaN values in a DataFrame: standard (right) and in-place operation (left).<br> Ersetzen von NaN-Werten in einem DataFrame: Standard (rechts) und In-Place-Operation (links). </figcaption>\n",
    "</div>\n",
    "\n"
   ]
  },
  {
   "cell_type": "markdown",
   "metadata": {},
   "source": [
    "<div style=\"display: flex; justify-content: space-between;\">\n",
    "<div style=\"width: 48%; line-height: 1.5;\">\n",
    "\n",
    "Last time, we saw that some operations return a copy of the DataFrame without changing it, while others change the DataFrame directly. \n",
    "\n",
    "In-place assignment operations are widely used for transforming pandas DataFrames. As the name suggests, the core idea behind *in-place* assignment is to avoid creating a new DataFrame object with each modification and instead make changes directly to the original DataFrame.\n",
    "\n",
    "This table summarizes common pandas operations, highlighting whether they modify the original DataFrame or return a new one.\n",
    "\n",
    "Use cautiously if you want to preserve the original data. Always create a backup copy (`df.copy()`) if you are unsure.\n",
    "\n",
    "</div>\n",
    "<div style=\"width: 48%; line-height: 1.5;color: grey;\">\n",
    "\n",
    "Beim letzten Mal haben wir gesehen, dass einige Operationen eine Kopie des DataFrame zurückgeben, ohne ihn zu verändern, während andere den DataFrame direkt verändern. \n",
    "\n",
    "In-place-Zuweisungsoperationen werden häufig für die Transformation von Pandas DataFrames verwendet. Wie der Name schon andeutet, besteht die Kernidee hinter der *in-place*-Zuweisung darin, die Erstellung eines neuen DataFrame-Objekts bei jeder Änderung zu vermeiden und stattdessen Änderungen direkt am ursprünglichen DataFrame vorzunehmen.\n",
    "\n",
    "Diese Tabelle fasst häufige pandas-Operationen zusammen und hebt hervor, ob sie den ursprünglichen DataFrame verändern oder einen neuen zurückgeben.\n",
    "\n",
    "Seien Sie vorsichtig, wenn Sie die Originaldaten erhalten wollen. Erstellen Sie immer eine Sicherungskopie (`df.copy()`), wenn Sie unsicher sind.\n",
    "\n",
    "</div>\n",
    "</div>"
   ]
  },
  {
   "cell_type": "markdown",
   "metadata": {},
   "source": [
    "<div style=\"display: flex; justify-content: space-between;\">\n",
    "<div style=\"width: 100%; line-height: 1.75;\">\n",
    "\n",
    "| **Operation**                                  | **Effect In-Place**            | **Explanation**                                                                 | **Erklärung**                                                                   |\n",
    "|------------------------------------------------|---------------------------------|---------------------------------------------------------------------------------|---------------------------------------------------------------------------------|\n",
    "| `df.loc[...]`                                  | ❌ No                           | Filters rows or columns by label and returns a new DataFrame or Series.         | Filtert Zeilen oder Spalten basierend auf Labels und gibt ein neues DataFrame oder Series zurück. |\n",
    "| `df.iloc[...]`                                 | ❌ No                           | Filters rows or columns by position and returns a new DataFrame or Series.      | Filtert Zeilen oder Spalten basierend auf Positionen und gibt ein neues DataFrame oder Series zurück. |\n",
    "| `df.query(...)`                                | ❌ No                           | Filters rows and returns a new DataFrame without modifying the original.        | Filtert Zeilen und gibt ein neues DataFrame zurück, ohne das Original zu ändern.|\n",
    "| `df.loc[...] = ...`                            | ✅ Yes                          | Updates values by label indexing.                                              | Aktualisiert Werte basierend auf Label-Indexierung.                            |\n",
    "| `df.iloc[...] = ...`                           | ✅ Yes                          | Updates values by positional indexing.                                          | Aktualisiert Werte basierend auf Positions-Indexierung.                        |\n",
    "| `df['new_column'] = ...`                       | ✅ Yes                          | Adds or updates a column in the DataFrame.                                      | Fügt eine Spalte hinzu oder aktualisiert eine bestehende.                      |\n",
    "| `df.drop(columns=['column_name'], inplace=True)` | ✅ Yes (with `inplace=True`)    | Removes specified columns from the DataFrame permanently.                       | Entfernt angegebene Spalten dauerhaft aus dem DataFrame.                       |\n",
    "| `df.sort_values(..., inplace=True)`            | ✅ Yes (with `inplace=True`)    | Sorts the DataFrame in place without creating a new one.                        | Sortiert das DataFrame direkt, ohne ein neues zu erstellen.                    |\n",
    "| `df.rename(..., inplace=True)`                 | ✅ Yes (with `inplace=True`)    | Renames columns or indices in place.                                            | Benennt Spalten oder Indizes direkt um.                                        |                                           |\n",
    "| `df.fillna(..., inplace=True)`                 | ✅ Yes (with `inplace=True`)    | Fills missing values in place.                                                  | Füllt fehlende Werte direkt auf.                                               |\n",
    "| `df.dropna(..., inplace=True)`                 | ✅ Yes (with `inplace=True`)    | Drops rows or columns with missing values in place.                             | Entfernt Zeilen oder Spalten mit fehlenden Werten direkt.                      |\n",
    "| `df.reset_index(..., inplace=True)`            | ✅ Yes (with `inplace=True`)    | Resets the index without creating a new DataFrame.                              | Setzt den Index zurück, ohne ein neues DataFrame zu erstellen.                 |\n",
    "| `pd.concat([...])`     | ❌ No               | Combines DataFrames and returns a new one; does not modify the originals.       | Kombiniert DataFrames und gibt ein neues zurück; die Originale bleiben unverändert. |\n",
    "| `df.merge(...)`                                | ❌ No                           | Combines DataFrames and returns a new one; does not modify the originals.       | Kombiniert DataFrames und gibt ein neues zurück; die Originale bleiben unverändert. |\n",
    "| `df.groupby(...)`                              | ❌ No                           | Creates a grouped object for aggregation but does not modify the original.      | Erstellt ein gruppiertes Objekt zur Aggregation, ohne das Original zu ändern.  | \n",
    "\n",
    "</div>\n",
    "</div>"
   ]
  }
 ],
 "metadata": {
  "kernelspec": {
   "display_name": "base",
   "language": "python",
   "name": "python3"
  },
  "language_info": {
   "codemirror_mode": {
    "name": "ipython",
    "version": 3
   },
   "file_extension": ".py",
   "mimetype": "text/x-python",
   "name": "python",
   "nbconvert_exporter": "python",
   "pygments_lexer": "ipython3",
   "version": "3.11.11"
  }
 },
 "nbformat": 4,
 "nbformat_minor": 2
}
