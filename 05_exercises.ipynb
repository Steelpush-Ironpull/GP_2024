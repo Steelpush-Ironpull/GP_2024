{
 "cells": [
  {
   "cell_type": "markdown",
   "metadata": {},
   "source": [
    "<div style=\"text-align: center;\">\n",
    "    <img src=\"https://upload.wikimedia.org/wikipedia/commons/thumb/f/f8/Python_logo_and_wordmark.svg/972px-Python_logo_and_wordmark.svg.png?20210516005643\" alt=\"The Python logo\" style=\"width: 60%; max-width: 500px;\">\n",
    "</div>"
   ]
  },
  {
   "cell_type": "markdown",
   "metadata": {},
   "source": [
    "<div class=\"alert alert-success\" role=\"alert\">\n",
    "\n",
    "<div style=\"display: flex; justify-content: space-between;\">\n",
    "<div style=\"width: 48%; line-height: 1.5;\">\n",
    "\n",
    "### Instructions\n",
    "\n",
    "- **Enter your matriculation number in the first cell at the line `student_id =` and then execute the cell.**\n",
    "\n",
    "- Modify this notebook directly.\n",
    "\n",
    "- <span style=\"color:red;\"> Do not clear the outputs of your cells!</span>\n",
    "\n",
    "- **Import any necessary modules.**\n",
    "\n",
    "- Insert additional cells as needed after each task.\n",
    "\n",
    "- **Add comments to your code**, either directly in the Python cell or using separate Markdown cells.\n",
    "\n",
    "- Once completed, upload your notebook to the weekly assignment.\n",
    "\n",
    "- **There are 11 points available in total: you need at least 7 points to pass.**\n",
    "\n",
    "</div>\n",
    "<div style=\"width: 4%;\">\n",
    "</div>\n",
    "<div style=\"width: 48%; line-height: 1.5; color: grey;\">\n",
    "\n",
    "### Anweisungen\n",
    "\n",
    "- **Geben Sie Ihre Matrikelnummer in die erste Zelle der Zeile `student_id =` ein und führen Sie dann die Zelle aus.**\n",
    "\n",
    "- Ändern Sie dieses Notizbuch direkt.\n",
    "\n",
    "- <span style=\"color:red;\"> Löschen Sie nicht die Ausgaben Ihrer Zellen!</span>\n",
    "\n",
    "- **Importieren Sie alle notwendigen Module.**\n",
    "\n",
    "- Fügen Sie bei Bedarf nach jeder Aufgabe zusätzliche Zellen ein.\n",
    "\n",
    "- **Fügen Sie Kommentare zu Ihrem Code** hinzu, entweder direkt in der Python-Zelle oder in separaten Markdown-Zellen.\n",
    "\n",
    "- Wenn Sie fertig sind, laden Sie Ihr Notizbuch in die wöchentliche Aufgabe hoch.\n",
    "\n",
    "- **Es gibt insgesamt 11 Punkte: Sie brauchen mindestens 7 Punkte, um zu bestehen.**\n",
    "\n",
    "</div>\n",
    "</div>"
   ]
  },
  {
   "cell_type": "code",
   "execution_count": null,
   "metadata": {},
   "outputs": [],
   "source": [
    "from IPython.display import display\n",
    "import IPython\n",
    "from datetime import datetime\n",
    "\n",
    "# Student ID\n",
    "student_id = \n",
    "\n",
    "def display_student_id(*args, **kwargs):\n",
    "    current_time = datetime.now().strftime(\"%Y-%m-%d %H:%M:%S\")\n",
    "    display(f\"Run by {student_id} at {current_time}\")\n",
    "\n",
    "IPython.get_ipython().events.register('post_run_cell', display_student_id)"
   ]
  },
  {
   "cell_type": "markdown",
   "metadata": {},
   "source": [
    "<div class=\"alert alert-block alert-light\">\n",
    "\n",
    "#### 1 (1 P)\n",
    "\n",
    "<div style=\"display: flex; justify-content: space-between;\">\n",
    "<div style=\"width: 48%; line-height: 1.5;\">\n",
    "\n",
    "The code below attempts to calculate the balance of a savings account at the end of each year for a maximum of four years.  The account starts with a balance of 100 EUR, and the annual interest rate is 0.72%.  \n",
    "\n",
    "However, the code is not functioning as expected. Identify the issue and offer a corrected version.\n",
    "\n",
    "</div>\n",
    "<div style=\"width: 48%; line-height: 1.5;color: grey;\">\n",
    "\n",
    "Der folgende Code versucht, den Saldo eines Sparkontos am Ende eines jeden Jahres für maximal vier Jahre zu berechnen.  Das Konto beginnt mit einem Saldo von 100 EUR, und der jährliche Zinssatz beträgt 0.72%.  \n",
    "\n",
    "Der Code funktioniert jedoch nicht wie erwartet. Ermitteln Sie den Fehler und bieten Sie eine korrigierte Version an.\n",
    "</div>\n",
    "</div>\n",
    "\n",
    "```python\n",
    "# The following code does not work as intended - identify the problem and correct it\n",
    "balance = 100\n",
    "\n",
    "def add_interest(balance, rate):\n",
    "    balance += balance * rate/100\n",
    "    \n",
    "for year in range(1, 5):\n",
    "    add_interest(balance, 0.72)\n",
    "    print ('Balance after year', year, '=', balance)\n",
    "```"
   ]
  },
  {
   "cell_type": "markdown",
   "metadata": {},
   "source": [
    "<div style=\"display: flex; justify-content: space-between;\">\n",
    "<div style=\"width: 48%; line-height: 1.5;\">\n",
    "\n",
    "The code fails because the `balance` variable inside the function is treated as local, creating a separate variable that does not affect the global `balance`. To fix this, the function must return the updated value, and you need to reassign it outside the function.\n",
    "\n",
    "You can modify the function to return the updated balance and then capture the returned value in the main code loop.\n",
    "\n",
    "- The function returns the updated `balance`, which is then reassigned to the global `balance` variable after each year.\n",
    "- This way, the global `balance` is updated correctly, and the output reflects the change.\n",
    "\n",
    "</div>\n",
    "<div style=\"width: 48%; line-height: 1.5;color: grey;\">\n",
    "\n",
    "Der Code schlägt fehl, weil die Variable `balance` innerhalb der Funktion als lokal behandelt wird, wodurch eine separate Variable entsteht, die die globale Variable `balance` nicht beeinflusst. Um dies zu beheben, muss die Funktion den aktualisierten Wert zurückgeben, und Sie müssen ihn außerhalb der Funktion neu zuweisen.\n",
    "\n",
    "Sie können die Funktion so ändern, dass sie den aktualisierten Saldo zurückgibt, und den zurückgegebenen Wert dann in der Hauptcodeschleife erfassen.\n",
    "\n",
    "- Die Funktion gibt den aktualisierten `balance` zurück, der dann nach jedem Jahr der globalen Variable `balance` neu zugewiesen wird.\n",
    "- Auf diese Weise wird der globale `balance` korrekt aktualisiert, und die Ausgabe spiegelt die Änderung wider.\n",
    "\n",
    "</div>\n",
    "</div>"
   ]
  },
  {
   "cell_type": "code",
   "execution_count": 17,
   "metadata": {},
   "outputs": [
    {
     "name": "stdout",
     "output_type": "stream",
     "text": [
      "Balance after year 1 = 100.72\n",
      "Balance after year 2 = 101.445184\n",
      "Balance after year 3 = 102.1755893248\n",
      "Balance after year 4 = 102.91125356793856\n"
     ]
    }
   ],
   "source": [
    "balance = 100\n",
    "\n",
    "def add_interest(balance, rate):\n",
    "    balance += balance * rate / 100\n",
    "    return balance  # Return the updated balance\n",
    "\n",
    "# Now capture the returned value in the loop\n",
    "for year in range(1, 5):\n",
    "    balance = add_interest(balance, 0.72)  # Update balance with the returned value\n",
    "    print('Balance after year', year, '=', balance)"
   ]
  },
  {
   "cell_type": "markdown",
   "metadata": {},
   "source": [
    "<div class=\"alert alert-block alert-light\">\n",
    "\n",
    "#### 2 (2 P)\n",
    "\n",
    "<div style=\"display: flex; justify-content: space-between;\">\n",
    "<div style=\"width: 48%; line-height: 1.5;\">\n",
    "\n",
    "The **first-principles definition** of a derivative:\n",
    "</div>\n",
    "<div style=\"width: 48%; line-height: 1.5;color: grey;\">\n",
    "\n",
    "der **Erstprinzipien-Definition** einer Ableitung:\n",
    "</div>\n",
    "</div>\n",
    "<div style=\"text-align: center; margin-top: 20px;\">\n",
    "\n",
    "$$\n",
    "f'(x) = \\lim_{h \\to 0} \\frac{f(x+h) - f(x)}{h}\n",
    "$$\n",
    "</div>\n",
    "<div style=\"display: flex; justify-content: space-between;\">\n",
    "<div style=\"width: 48%; line-height: 1.5;\">\n",
    "\n",
    "shows that to compute a derivative numerically, we only need the definition of the function $f(x)$ and a value for the step size.\n",
    "\n",
    "Here, $f(x)$ is the original function, $f'(x)$ is its derivative, and $h$ is the step size. \n",
    "\n",
    "Calculate the derivative of $f(x) = x^4$ at $x = 1.3$. \n",
    "\n",
    "The analytical solution, $f'(x) = 4x^3$, gives a result of $8.788$. \n",
    "\n",
    "1. Define the mathematical function $f(x)=x^{4}$ using python.\n",
    "\n",
    "2. Using the first principles definition of a derivative, write a second function, `derivative()`, containing two parameters: the stepsize, $h$ (which we shall give a default value of $0.01$), and the value of $x$ we are using to evaluate the derivative.\n",
    "\n",
    "**Useful tips:**\n",
    "\n",
    "- Functions can be called from within other functions, and their output used as normal.\n",
    "\n",
    "- Both `x` and `h` are numbers, therefore `x+h` is also a number, and can be passed to a function as an argument.\n",
    "</div>\n",
    "<div style=\"width: 48%; line-height: 1.5;color: grey;\">\n",
    "\n",
    "zeigt, dass wir für die numerische Berechnung einer Ableitung nur die Definition der Funktion $f(x)$ und einen Wert für die Schrittweite benötigen.\n",
    "\n",
    "$f(x)$ ist die Funktion, $f'(x)$ ist ihre Ableitung und $h$ ist die Schrittweite. \n",
    "\n",
    "Berechnen Sie die Ableitung von $f(x) = x^4$ bei $x = 1.3$. \n",
    "\n",
    "Die analytische Lösung, $f'(x) = 4x^3$, liefert ein Ergebnis von $8.788$.\n",
    "\n",
    "1. Definieren Sie die mathematische Funktion $f(x)=x^{4}$ mit Python.\n",
    "\n",
    "2. Schreiben Sie unter Verwendung der Definition einer Ableitung nach den ersten Prinzipien eine zweite Funktion, `derivative()`, die zwei Parameter enthält: die Schrittweite $h$ (die wir mit $0.01$ vorgeben) und den Wert von $x$, den wir zur Auswertung der Ableitung verwenden.\n",
    "\n",
    "**Nützliche Tipps:**\n",
    "\n",
    "- Funktionen können aus anderen Funktionen heraus aufgerufen werden, und ihre Ausgabe wird wie üblich verwendet.\n",
    "\n",
    "- Sowohl `x` als auch `h` sind Zahlen, daher ist `x+h` auch eine Zahl und kann als Argument an eine Funktion übergeben werden.\n",
    "</div>\n",
    "</div>"
   ]
  },
  {
   "cell_type": "code",
   "execution_count": 2,
   "metadata": {},
   "outputs": [
    {
     "data": {
      "text/plain": [
       "4096"
      ]
     },
     "execution_count": 2,
     "metadata": {},
     "output_type": "execute_result"
    }
   ],
   "source": [
    "def f(x):\n",
    "    y = x**4\n",
    "    return y\n",
    "\n",
    "f(8)"
   ]
  },
  {
   "cell_type": "code",
   "execution_count": 3,
   "metadata": {},
   "outputs": [
    {
     "data": {
      "text/plain": [
       "8.889921000000012"
      ]
     },
     "execution_count": 3,
     "metadata": {},
     "output_type": "execute_result"
    }
   ],
   "source": [
    "def derivative(x, h=0.01):\n",
    "    f_prime = (f(x+h) - f(x)) / h\n",
    "    return f_prime\n",
    "\n",
    "derivative(1.3, 0.01)"
   ]
  },
  {
   "cell_type": "markdown",
   "metadata": {},
   "source": [
    "<div class=\"alert alert-block alert-light\">\n",
    "\n",
    "#### 3  (2 P)\n",
    "\n",
    "<div style=\"display: flex; justify-content: space-between;\">\n",
    "<div style=\"width: 48%; line-height: 1.5;\">\n",
    "\n",
    "Your `derivative()` function should have returned a value of approximately 8.89 for the derivative of $x^4$ evaluated at $x=1.3$. \n",
    "While this is close to the exact value of $8.788$, can we improve the accuracy?\n",
    "\n",
    "The first-principles definition of a derivative assumes the limit as $h$ approaches zero. \n",
    "This implies that by decreasing $h$ (getting closer to $h = 0$), our numerical approximation should become more precise. \n",
    "\n",
    "Using your `derivative()` function, repeat the calculation above with step sizes of \n",
    "$$ h = 1, 0.1, 0.01, 0.001, 0.0001, 0.00001.$$ \n",
    "\n",
    "Use a loop in your code to automate the function calls, instead of manually invoking the function for each step size.\n",
    "\n",
    "Print the results as an f-string table.\n",
    "\n",
    "</div>\n",
    "<div style=\"width: 48%; line-height: 1.5;color: grey;\">\n",
    "\n",
    "Ihre Funktion `derivative()` sollte für die Ableitung von $x^4$ nach $x=1.3$ einen Wert von etwa 8.89 liefern. \n",
    "Dies liegt zwar nahe am exakten Wert von $8.788$, aber können wir die Genauigkeit verbessern?\n",
    "\n",
    "Die Definition einer Ableitung nach den ersten Grundsätzen geht davon aus, dass der Grenzwert bei $h$ gegen Null geht. \n",
    "Das bedeutet, dass unsere numerische Näherung mit abnehmendem $h$ (näher an $h = 0$) präziser werden sollte.\n",
    "\n",
    "Wiederholen Sie die obige Berechnung mit der Funktion `derivative()` mit Schrittweiten von\n",
    "$$ h = 1, 0.1, 0.01, 0.001, 0.0001, 0.00001.$$ \n",
    "\n",
    "Verwenden Sie eine Schleife in Ihrem Code, um die Funktionsaufrufe zu automatisieren, anstatt die Funktion für jede Schrittweite manuell aufzurufen.\n",
    "\n",
    "Geben Sie die Ergebnisse als f-String-Tabelle aus.\n",
    "\n",
    "</div>\n",
    "</div>"
   ]
  },
  {
   "cell_type": "code",
   "execution_count": 8,
   "metadata": {},
   "outputs": [
    {
     "name": "stdout",
     "output_type": "stream",
     "text": [
      "1e+00\t 25.128000\n",
      "1e-01\t  9.855000\n",
      "1e-02\t  8.889921\n",
      "1e-03\t  8.798145\n",
      "1e-04\t  8.789014\n",
      "1e-05\t  8.788101\n"
     ]
    }
   ],
   "source": [
    "step_sizes = [1, 0.1, 0.01, 0.001, 0.0001, 0.00001]\n",
    "\n",
    "for h in step_sizes:\n",
    "    print(f'{h:.0e}\\t{derivative(1.3, h):>10.6f}')"
   ]
  },
  {
   "cell_type": "markdown",
   "metadata": {},
   "source": [
    "<div class=\"alert alert-block alert-light\">\n",
    "\n",
    "#### 4 (1 P)\n",
    "\n",
    "<div style=\"display: flex; justify-content: space-between;\">\n",
    "<div style=\"width: 48%; line-height: 1.5;\">\n",
    "\n",
    "Write a program that can compute the derivative with respect to $x$ for any mathematical function of the form:\n",
    "$f(x) = ax^p$.\n",
    "\n",
    "Test your program by evaluating the derivative of $f(x) = 4x^3$ at $x = 3$. \n",
    "\n",
    "If your code is working correctly, it should return a value close to $108$ (the exact value may vary slightly depending on the step size chosen).\n",
    "</div>\n",
    "<div style=\"width: 48%; line-height: 1.5;color: grey;\">\n",
    "\n",
    "Schreiben Sie ein Programm, das die Ableitung nach $x$ für eine beliebige mathematische Funktion der Form berechnen kann:\n",
    "$f(x) = ax^p$.\n",
    "\n",
    "Testen Sie Ihr Programm, indem Sie die Ableitung von $f(x) = 4x^3$ nach $x = 3$ auswerten. \n",
    "\n",
    "Wenn Ihr Programm korrekt arbeitet, sollte es einen Wert nahe $108$ zurückgeben (der genaue Wert kann je nach der gewählten Schrittweite leicht variieren).\n",
    "</div>\n",
    "</div>"
   ]
  },
  {
   "cell_type": "code",
   "execution_count": 23,
   "metadata": {},
   "outputs": [
    {
     "name": "stdout",
     "output_type": "stream",
     "text": [
      "108.00003602184916\n"
     ]
    }
   ],
   "source": [
    "def f(x, a, p):\n",
    "    y = 4*x**p\n",
    "    return y\n",
    "\n",
    "def derivative(x, a, p, h):\n",
    "    value = (f(x+h, a, p) - f(x, a, p)) / h\n",
    "    print(value)\n",
    "    \n",
    "derivative(x=3, a=4, p=3, h=1.e-6)"
   ]
  },
  {
   "cell_type": "markdown",
   "metadata": {},
   "source": [
    "<div class=\"alert alert-block alert-light\">\n",
    "\n",
    "#### 5 (2 P)\n",
    "\n",
    "<div style=\"display: flex; justify-content: space-between;\">\n",
    "<div style=\"width: 48%; line-height: 1.5;\">\n",
    "\n",
    "Write a Python function to calculate the heat capacity according to the Einstein model given below.\n",
    "\n",
    "Then, calculate the heat capacities of sodium and diamond at 300 K, given that $\\Theta_E$ is 192 K for sodium and 1450 K for diamond.\n",
    "\n",
    "</div>\n",
    "<div style=\"width: 48%; line-height: 1.5;color: grey;\">\n",
    "\n",
    "Schreiben Sie eine Python-Funktion zur Berechnung der Wärmekapazität nach dem unten angegebenen Einstein-Modell.\n",
    "\n",
    "Berechnen Sie dann die Wärmekapazitäten von Natrium und Diamant bei 300 K, wobei $\\Theta_E$ für Natrium 192 K und für Diamant 1450 K beträgt.\n",
    "\n",
    "</div>\n",
    "</div>\n",
    "<div style=\"text-align: center; margin-top: 20px;\">\n",
    "\n",
    "$$\n",
    "C_{V,m} = 3R \\left( \\frac{\\Theta_E}{T} \\right)^2 \\frac{\\exp\\left( \\frac{\\Theta_E}{T} \\right)}{\\left[ \\exp\\left( \\frac{\\Theta_E}{T} \\right) - 1 \\right]^2}\n",
    "$$\n",
    "</div>\n",
    "<div style=\"display: flex; justify-content: space-between;\">\n",
    "<div style=\"width: 48%; line-height: 1.5;\">\n",
    "\n",
    "**Hints**:\n",
    "\n",
    "- Remember to import all relevant modules (and constants).\n",
    "\n",
    "- Define a variable $\\Theta_E / T$ for your convenience.\n",
    "\n",
    "</div>\n",
    "<div style=\"width: 48%; line-height: 1.5;color: grey;\">\n",
    "\n",
    "**Hinweise**:\n",
    "\n",
    "- Denken Sie daran, alle relevanten Module (und Konstanten) zu importieren.\n",
    "\n",
    "- Definieren Sie eine Variable $\\Theta_E / T$ für Ihre Bequemlichkeit.\n",
    "\n",
    "</div>\n",
    "</div>"
   ]
  },
  {
   "cell_type": "code",
   "execution_count": 27,
   "metadata": {},
   "outputs": [
    {
     "name": "stdout",
     "output_type": "stream",
     "text": [
      "Na: 24.109144168075208\n",
      "diamond: 4.713033453464986\n"
     ]
    }
   ],
   "source": [
    "from scipy.constants import R\n",
    "import math\n",
    "\n",
    "def C_V(T, Theta_E):\n",
    "    x = Theta_E / T\n",
    "    return 3 * R * x**2 * math.exp(x) / (math.exp(x) - 1)**2\n",
    "\n",
    "print(f\"Na: {C_V(300, 192)}\")\n",
    "print(f\"diamond: {C_V(300, 1450)}\")"
   ]
  },
  {
   "cell_type": "markdown",
   "metadata": {},
   "source": [
    "<div class=\"alert alert-block alert-light\">\n",
    "\n",
    "#### 6 (3 P)\n",
    "\n",
    "<div style=\"display: flex; justify-content: space-between;\">\n",
    "<div style=\"width: 48%; line-height: 1.5;\">\n",
    "\n",
    "For the following equations of state, define Python functions returning the pressure of a gas, $p$, given its volume $V$, amount $n$, and temperature $T$.\n",
    "\n",
    "- **Ideal gas equation of state**: $$ p = \\frac{nRT}{V},$$\n",
    "- **Van der Waals equation of state**: $$ p = \\frac{nRT}{V-nb} - \\frac{n^2a}{V^2},$$\n",
    "- **Dieterici equation of state**: $$ p = \\frac{nRT \\exp \\left( -\\frac{nc}{RTV} \\right)}{V-nd}.$$\n",
    "\n",
    "Use the following parameters:\n",
    "\n",
    "- $T = 273.15 \\, \\text{K}$;\n",
    "- $V = 20 \\, \\text{L}$;\n",
    "- $a = 3.640 \\, \\text{L}^2 \\, \\text{bar} \\, \\text{mol}^{-2}, \\quad b = 0.04267 \\, \\text{L} \\, \\text{mol}^{-1}$;\n",
    "- $c = 4.692 \\, \\text{L}^2 \\, \\text{bar} \\, \\text{mol}^{-2}, \\quad d = 0.04639 \\, \\text{L} \\, \\text{mol}^{-1}$;\n",
    "- $n = 1 \\, \\text{mol}$.\n",
    "\n",
    "Repeat the calculation for $n = 0.1 \\, \\text{mol}$.\n",
    "\n",
    "Print summaries using string formatting.\n",
    "</div>\n",
    "<div style=\"width: 48%; line-height: 1.5;color: grey;\">\n",
    "\n",
    "Definieren Sie für die folgenden Zustandsgleichungen Python-Funktionen, die den Druck eines Gases $p$ wiedergeben, wenn das Volumen $V$, die Menge $n$ und die Temperatur $T$ gegeben sind.\n",
    "\n",
    "- **Ideale Gaszustandsgleichung**: $$ p = \\frac{nRT}{V},$$\n",
    "- **Van-der-Waals-Zustandsgleichung**: $$ p = \\frac{nRT}{V-nb} - \\frac{n^2a}{V^2},$$\n",
    "- **Dieterici-Zustandsgleichung**: $$ p = \\frac{nRT \\exp \\left( -\\frac{nc}{RTV} \\right)}{V-nd}.$$\n",
    "\n",
    "Verwenden Sie die folgenden Parameter:\n",
    "\n",
    "- $T = 273.15 \\, \\text{K}$;\n",
    "- $V = 20 \\, \\text{L}$;\n",
    "- $a = 3.640 \\, \\text{L}^2 \\, \\text{bar} \\, \\text{mol}^{-2}, \\quad b = 0.04267 \\, \\text{L} \\, \\text{mol}^{-1}$;\n",
    "- $c = 4.692 \\, \\text{L}^2 \\, \\text{bar} \\, \\text{mol}^{-2}, \\quad d = 0.04639 \\, \\text{L} \\, \\text{mol}^{-1}$;\n",
    "- $n = 1 \\, \\text{mol}$.\n",
    "\n",
    "Wiederholen Sie die Berechnung für $n = 0.1 \\, \\text{mol}$.\n",
    "\n",
    "Zusammenfassungen unter Verwendung der String-Formatierung drucken.\n",
    "</div>\n",
    "</div>"
   ]
  }
 ],
 "metadata": {
  "kernelspec": {
   "display_name": "py24",
   "language": "python",
   "name": "python3"
  },
  "language_info": {
   "codemirror_mode": {
    "name": "ipython",
    "version": 3
   },
   "file_extension": ".py",
   "mimetype": "text/x-python",
   "name": "python",
   "nbconvert_exporter": "python",
   "pygments_lexer": "ipython3",
   "version": "3.13.0"
  }
 },
 "nbformat": 4,
 "nbformat_minor": 2
}
