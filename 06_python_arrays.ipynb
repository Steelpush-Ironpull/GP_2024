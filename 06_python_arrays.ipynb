{
 "cells": [
  {
   "cell_type": "code",
   "execution_count": 3,
   "metadata": {},
   "outputs": [
    {
     "data": {
      "text/html": [
       "<style>\n",
       "    body {\n",
       "        --vscode-font-family: \"CMU Sans Serif\"\n",
       "    }\n",
       "</style>\n"
      ],
      "text/plain": [
       "<IPython.core.display.HTML object>"
      ]
     },
     "metadata": {},
     "output_type": "display_data"
    }
   ],
   "source": [
    "%%HTML\n",
    "<style>\n",
    "    body {\n",
    "        --vscode-font-family: \"CMU Sans Serif\"\n",
    "    }\n",
    "</style>"
   ]
  },
  {
   "cell_type": "code",
   "execution_count": 26,
   "metadata": {},
   "outputs": [],
   "source": [
    "plt.rcParams.update({\n",
    "    \"text.usetex\": True,\n",
    "    \"font.family\": \"sans-serif\",\n",
    "    \"font.sans-serif\": [\"Computer Modern Sans Serif\"]})\n",
    "plt.rcParams['text.latex.preamble'] = r'\\usepackage{sansmath} \\sansmath'"
   ]
  },
  {
   "cell_type": "code",
   "execution_count": null,
   "metadata": {},
   "outputs": [],
   "source": [
    "from IPython.display import display, clear_output, HTML\n",
    "import time\n",
    "\n",
    "def countdown_timer(minutes):\n",
    "    total_seconds = minutes * 60\n",
    "    for seconds in range(total_seconds, 0, -1):\n",
    "        mins, secs = divmod(seconds, 60)\n",
    "        time_str = f\"{mins:02}'{secs:02}''\"\n",
    "        clear_output(wait=True)\n",
    "        # HTML with styling\n",
    "        display(HTML(f'<div style=\"font-size: 24px; color: blue; font-weight: bold;\">Time remaining: {time_str}</div>'))\n",
    "        time.sleep(1)\n",
    "    clear_output(wait=True)\n",
    "    # Final message with different styling\n",
    "    display(HTML('<div style=\"font-size: 24px; color: green; font-weight: bold;\">Time\\'s up!</div>'))"
   ]
  },
  {
   "cell_type": "markdown",
   "metadata": {},
   "source": [
    "<div style=\"text-align: center;\">\n",
    "    <img src=\"https://upload.wikimedia.org/wikipedia/commons/thumb/f/f8/Python_logo_and_wordmark.svg/972px-Python_logo_and_wordmark.svg.png?20210516005643\" alt=\"The Python logo\" style=\"width: 60%; max-width: 500px;\">\n",
    "</div>"
   ]
  },
  {
   "cell_type": "code",
   "execution_count": 1,
   "metadata": {},
   "outputs": [
    {
     "data": {
      "image/png": "[encoded data removed]",
      "text/plain": [
       "<Figure size 1400x105 with 2 Axes>"
      ]
     },
     "metadata": {},
     "output_type": "display_data"
    }
   ],
   "source": [
    "\n",
    "# You are not supposed to understand this code, yet. It is here for your convenience/curiosity.\n",
    "\n",
    "import matplotlib.pyplot as plt\n",
    "import numpy as np\n",
    "from matplotlib.patches import Rectangle\n",
    "\n",
    "# Topics and x-axis values\n",
    "topics = [\"interface\", \"\", \"\", \"\", \"Python basics\", \"\", \"\", \"\", \"data manipulation\", \"\", \"\", \"visualization\", \"\", \"practice\"]\n",
    "x_values = np.arange(1, 15)\n",
    "\n",
    "# Create figure and axis objects with adjusted y-axis height\n",
    "fig, ax1 = plt.subplots(figsize=(10*1.4, 0.75*1.4))  # Slightly more vertical space\n",
    "ax1.set(xlim=(0, 14), xticks=x_values - 0.5, xlabel='Course Progression')\n",
    "ax1.set_xticks(x_values - 0.5)  # Align grid lines with x_values\n",
    "ax1.set_xticklabels(x_values, ha='center')\n",
    "ax1.yaxis.set_visible(False)\n",
    "\n",
    "# Secondary axis for labels without ticks\n",
    "ax2 = ax1.twiny()\n",
    "ax2.set(xlim=ax1.get_xlim(), xticks=x_values - 0.5)\n",
    "ax2.set_xticklabels(topics, ha='center')\n",
    "ax2.tick_params(axis='x', length=0)\n",
    "\n",
    "# Add rectangles for progress\n",
    "progress_info = [(0, \"orange\", 1), (1, \"dodgerblue\", 1), (2, \"dodgerblue\", 1), (3, \"dodgerblue\", 1),\n",
    "                 (4, \"dodgerblue\", 1), (5, \"dodgerblue\", 1), (6, \"dodgerblue\", 0.75)]\n",
    "for x, color, alpha in progress_info:\n",
    "    ax1.add_patch(Rectangle((x, 0), 1, 1, facecolor=color, alpha=alpha, edgecolor=\"gainsboro\", linewidth=0.5))\n",
    "\n",
    "# Add text annotations\n",
    "annotations = [\n",
    "    (0.5, \"Jupyter\\n\\nLaTeX\"),\n",
    "    (1.5, \"math\\n\\n(SymPy)\"),\n",
    "    (2.5, \"strings\\n\\nlists\"),\n",
    "    (3.5, \"other\\ndata\\nstructures\"),\n",
    "    (4.5, \"control\\n\\nstructures\"),\n",
    "    (5.5, \"functions\"),\n",
    "    (6.5, \"arrays\")\n",
    "]\n",
    "for x, label, *color in annotations:\n",
    "    ax1.text(x, 0.5, label, ha='center', va='center', fontsize=9, color=color[0] if color else 'black')\n",
    "\n",
    "plt.show()"
   ]
  },
  {
   "cell_type": "markdown",
   "metadata": {},
   "source": [
    "| Data Type      |  Example         |    |\n",
    "|---------------|--------------------------|----|\n",
    "| `int`         | `5`                |&check;|\n",
    "| `float`       | `5.0`              |&check;|\n",
    "| `complex`     | `5 + 3j`           |&check;|\n",
    "| `bool`        | `True`             |&check;|\n",
    "| `module`      | `math`             |&check;|\n",
    "| `str`         | `\"hello\"`          |&check;|\n",
    "| `list`        | `[1, 2, 3]`        |&check;|\n",
    "| `tuple`       | `(1, 2, 3)`        |&check;|\n",
    "| `set`         | `{1, 2, 3}`        |&check;|\n",
    "| `dict`        | `{\"key\": \"value\"}` |&check;|\n",
    "| `range`       | `range(5)`         |&check;|\n",
    "| `function`    | `print()`          |&check;|\n",
    "| `numpy.ndarray` | `np.array([1, 2, 3])` |&#9675;|\n",
    "| `NoneType`    | `None`             |    |"
   ]
  },
  {
   "cell_type": "markdown",
   "metadata": {},
   "source": [
    "<div class=\"alert alert-block alert-warning\">\n",
    "\n",
    "<div style=\"display: flex; justify-content: space-between;\">\n",
    "<div style=\"width: 48%; line-height: 1.5;\">\n",
    "\n",
    "# Arrays \n",
    "</div>\n",
    "<div style=\"width: 48%; line-height: 1.5;color: grey;\">\n",
    "\n",
    "# Arrays\n",
    "</div>\n",
    "</div>"
   ]
  },
  {
   "cell_type": "markdown",
   "metadata": {},
   "source": [
    "<div style=\"display: flex; justify-content: space-between;\">\n",
    "<div style=\"width: 48%; line-height: 1.5;\">\n",
    "\n",
    "In the lecture `02_python_strings_lists.ipynb`, we have seen how mathematical operations can be applied to *individual* numerical elements within a list. \n",
    "\n",
    "However, *lists do not support element-wise operations*. \n",
    "\n",
    "When you try to perform a mathematical operation on a list (like addition, subtraction, or division), Python raises a `TypeError`.\n",
    "\n",
    "Multiplying a list by an integer does not perform element-wise multiplication; instead, it repeats (concatenates) the list content.\n",
    "        \n",
    "</div>\n",
    "<div style=\"width: 48%; line-height: 1.5;color: grey;\">\n",
    "\n",
    "In der Vorlesung `02_python_strings_lists.ipynb` haben wir gesehen, wie mathematische Operationen auf *einzelne* numerische Elemente innerhalb einer Liste angewendet werden können.\n",
    "\n",
    "Allerdings *unterstützen Listen keine elementweisen Operationen*.\n",
    "\n",
    "Wenn Sie versuchen, eine mathematische Operation auf einer Liste durchzuführen (wie Addition, Subtraktion oder Division), gibt Python einen `TypeError` aus.\n",
    "\n",
    "Die Multiplikation einer Liste mit einer ganzen Zahl führt keine elementweise Multiplikation durch; stattdessen wird der Inhalt der Liste wiederholt (verkettet).\n",
    "        \n",
    "</div>\n",
    "</div>"
   ]
  },
  {
   "cell_type": "code",
   "execution_count": null,
   "metadata": {},
   "outputs": [],
   "source": [
    "some_numbers = [1, 2, 3, 4]"
   ]
  },
  {
   "cell_type": "code",
   "execution_count": null,
   "metadata": {},
   "outputs": [],
   "source": [
    "some_numbers - 2"
   ]
  },
  {
   "cell_type": "code",
   "execution_count": null,
   "metadata": {},
   "outputs": [],
   "source": [
    "some_numbers * 3"
   ]
  },
  {
   "cell_type": "markdown",
   "metadata": {},
   "source": [
    "<div style=\"display: flex; justify-content: space-between;\">\n",
    "<div style=\"width: 48%; line-height: 1.5;\">\n",
    "\n",
    "To multiply every element in `some_numbers` by 3, we need to write a `for` loop that iterates over each element in the list and performs the multiplication. \n",
    "        \n",
    "</div>\n",
    "<div style=\"width: 48%; line-height: 1.5;color: grey;\">\n",
    "\n",
    "To multiply every element in `some_numbers` by 3, we need to write a `for` loop that iterates over each element in the list and performs the multiplication. \n",
    "        \n",
    "</div>\n",
    "</div>"
   ]
  },
  {
   "cell_type": "code",
   "execution_count": null,
   "metadata": {},
   "outputs": [],
   "source": [
    "for i in range(len(some_numbers)):\n",
    "    some_numbers[i] *= 3\n",
    "\n",
    "print(some_numbers)"
   ]
  },
  {
   "cell_type": "code",
   "execution_count": null,
   "metadata": {},
   "outputs": [],
   "source": [
    "square_numbers = [x**2 for x in some_numbers]\n",
    "\n",
    "print(square_numbers)"
   ]
  },
  {
   "cell_type": "markdown",
   "metadata": {},
   "source": [
    "<div style=\"display: flex; justify-content: space-between;\">\n",
    "<div style=\"width: 48%; line-height: 1.5;\">\n",
    "\n",
    "For scientific computing and data manipulation, an array is often preferred. \n",
    "\n",
    "Unlike lists, **arrays are designed specifically for handling numerical data and can represent vectors and matrices efficiently**.  \n",
    "\n",
    "For working with arrays, we use a powerful library called NumPy, which stands for Numerical Python.  \n",
    "\n",
    "To use NumPy in your code, you need to import the module using the `import` statement, as we did to import `math` in the previous lecture. \n",
    "\n",
    "To simplify code and avoid typing \"numpy\" repeatedly, we commonly use the alias `np`. Here’s how you do it:\n",
    "        \n",
    "</div>\n",
    "<div style=\"width: 48%; line-height: 1.5;color: grey;\">\n",
    "\n",
    "Für wissenschaftliche Berechnungen und Datenmanipulationen wird oft ein Array bevorzugt. \n",
    "\n",
    "Im Gegensatz zu Listen **sind Arrays speziell für die Verarbeitung numerischer Daten konzipiert und können Vektoren und Matrizen effizient darstellen**.\n",
    "\n",
    "Für die Arbeit mit Arrays verwenden wir eine leistungsstarke Bibliothek namens NumPy, was für Numerical Python steht.  \n",
    "\n",
    "Um NumPy in Ihrem Code zu verwenden, müssen Sie das Modul mit der Anweisung `import` importieren, so wie wir es für den Import von `math` in der vorherigen Vorlesung getan haben. \n",
    "\n",
    "Um den Code zu vereinfachen und die wiederholte Eingabe von \"numpy\" zu vermeiden, verwenden wir häufig den Alias `np`. So geht's:\n",
    "        \n",
    "</div>\n",
    "</div>"
   ]
  },
  {
   "cell_type": "code",
   "execution_count": 2,
   "metadata": {},
   "outputs": [],
   "source": [
    "import numpy as np"
   ]
  },
  {
   "cell_type": "markdown",
   "metadata": {},
   "source": [
    "<div style=\"display: flex; justify-content: space-between;\">\n",
    "<div style=\"width: 48%; line-height: 1.5;\">\n",
    "\n",
    "With this import statement, you can now use `np` as a shorthand to access all the functionality provided by NumPy.\n",
    "        \n",
    "</div>\n",
    "<div style=\"width: 48%; line-height: 1.5;color: grey;\">\n",
    "\n",
    "Mit dieser Import-Anweisung können Sie nun `np` als Abkürzung für den Zugriff auf alle von NumPy bereitgestellten Funktionen verwenden.\n",
    "        \n",
    "</div>\n",
    "</div>"
   ]
  },
  {
   "cell_type": "markdown",
   "metadata": {},
   "source": [
    "| Feature                             | Lists                                                                                     | Arrays                                      |\n",
    "|-------------------------------------|-------------------------------------------------------------------------------------------|---------------------------------------------|\n",
    "| **Data Type Storage**               | Can store elements of different data types.                                               | Designed to store elements of the same data type. |\n",
    "| **Datentypenspeicherung** | Können Elemente verschiedener Datentypen speichern.                                               | Entwickelt, um Elemente desselben Datentyps zu speichern. |\n",
    "|                              |                                                   |                                   |\n",
    "| **Versatility and Efficiency**      | Very versatile, but slower and less efficient.                                            | Less flexible but computationally much more efficient. |\n",
    "| **Vielseitigkeit und Effizienz** | Sehr vielseitig, aber langsamer und weniger effizient.                                            | Weniger flexibel, aber rechnerisch viel effizienter. |\n",
    "|                              |                                                   |                                   |\n",
    "| **Mathematical Operations**         | Do not support direct mathematical operations on elements.                                | Support vectorized operations (*no need for loops!*). |\n",
    "| **Mathematische Operationen** |Unterstützen keine direkten mathematischen Operationen auf Elementen.                                | Unterstützen vektorisierte Operationen (*keine Schleifen erforderlich!*). |\n",
    "|                              |                                                   |                                   |\n",
    "| **Usage Recommendation**            | Flexibility for adding/removing elements or mixed data types. | Faster computations, lower memory usage, and extensive support for mathematical operations. |\n",
    "| **Anwendungsempfehlung** | Flexibilität beim Hinzufügen/Entfernen von Elementen oder gemischten Datentypen. | Schnellere Berechnungen, geringerer Speicherverbrauch und umfangreiche Unterstützung für mathematische Operationen. |"
   ]
  },
  {
   "cell_type": "markdown",
   "metadata": {},
   "source": [
    "<div style=\"display: flex; justify-content: space-between;\">\n",
    "<div style=\"width: 48%; line-height: 1.5;\">\n",
    "\n",
    "## Creating arrays \n",
    "### Converting lists to arrays \n",
    "\n",
    "You can convert existing lists to arrays using the `np.array(list)` function. \n",
    "\n",
    "In this command, list can be either the name of an existing list or a new list defined by a sequence of comma-separated elements enclosed in square brackets: \n",
    "        \n",
    "</div>\n",
    "<div style=\"width: 48%; line-height: 1.5;color: grey;\">\n",
    "\n",
    "## Arrays erstellen \n",
    "### Konvertierung von Listen in Arrays\n",
    "\n",
    "Sie können vorhandene Listen mit der Funktion `np.array(list)` in Arrays umwandeln. \n",
    "\n",
    "In diesem Befehl kann list entweder der Name einer vorhandenen Liste oder eine neue Liste sein, die durch eine Folge von durch Kommata getrennten Elementen in eckigen Klammern definiert ist:\n",
    "        \n",
    "</div>\n",
    "</div>"
   ]
  },
  {
   "cell_type": "code",
   "execution_count": null,
   "metadata": {},
   "outputs": [],
   "source": [
    "#create the list \"number_list\" containing a sequence of integers\n",
    "number_list = [1, 2, 3, 4, 5, 6]\n",
    "\n",
    "#convert list to an array using np.array() command.\n",
    "number_array = np.array(number_list)\n",
    "\n",
    "#print array and confirm that it is a NumPy array\n",
    "print(number_list, type(number_list))\n",
    "print(number_array, type(number_array))"
   ]
  },
  {
   "cell_type": "code",
   "execution_count": null,
   "metadata": {},
   "outputs": [],
   "source": [
    "# this works, too\n",
    "number_array = np.array([1, 2, 3, 4, 5, 6])\n",
    "\n",
    "number_array"
   ]
  },
  {
   "cell_type": "markdown",
   "metadata": {},
   "source": [
    "<div style=\"display: flex; justify-content: space-between;\">\n",
    "<div style=\"width: 48%; line-height: 1.5;\">\n",
    "\n",
    "### Using built-in commands \n",
    "</div>\n",
    "<div style=\"width: 48%; line-height: 1.5;color: grey;\">\n",
    "   \n",
    "### Verwendung integrierter Befehle\n",
    "</div>\n",
    "</div>"
   ]
  },
  {
   "cell_type": "markdown",
   "metadata": {},
   "source": [
    "##### `arange`"
   ]
  },
  {
   "cell_type": "markdown",
   "metadata": {},
   "source": [
    "```python\n",
    "np.arange(start, stop, step)\n",
    "``` \n",
    "\n",
    "<div style=\"display: flex; justify-content: space-between;\">\n",
    "<div style=\"width: 48%; line-height: 1.5;\">\n",
    "\n",
    "creates an array of evenly spaced values starting from `start` (inclusive) up to `stop` (<b>exclusive</b>) with a spacing of `step` between consecutive values. \n",
    "        \n",
    "</div>\n",
    "<div style=\"width: 48%; line-height: 1.5;color: grey;\">\n",
    "\n",
    "erzeugt ein Array von gleichmäßig verteilten Werten von `start` (inklusive) bis `stop` (<b>ausgeschlossen</b>) mit einem Abstand von `step` zwischen aufeinanderfolgenden Werten.\n",
    "        \n",
    "</div>\n",
    "</div>"
   ]
  },
  {
   "cell_type": "code",
   "execution_count": null,
   "metadata": {},
   "outputs": [],
   "source": [
    "a = np.arange(0, 10, 1) \n",
    "\n",
    "a"
   ]
  },
  {
   "cell_type": "code",
   "execution_count": null,
   "metadata": {},
   "outputs": [],
   "source": [
    "a = np.arange(0, 10, 1.1) \n",
    "\n",
    "a"
   ]
  },
  {
   "cell_type": "markdown",
   "metadata": {},
   "source": [
    "<div style=\"display: flex; justify-content: space-between;\">\n",
    "<div style=\"width: 48%; line-height: 1.5;\">\n",
    "\n",
    "You may notice the similarity in syntax between `np.arange()` and the `range()` function we discussed in the previous lecture. However, keep the following distinctions in mind:\n",
    "\n",
    "- `range()` returns a **range object** that produces only integers.\n",
    "- `np.arange()` returns a **NumPy array** that can contain both integers and floating-point numbers, offering greater flexibility for numerical operations.\n",
    "        \n",
    "</div>\n",
    "<div style=\"width: 48%; line-height: 1.5;color: grey;\">\n",
    "\n",
    "Vielleicht fällt Ihnen die Ähnlichkeit der Syntax zwischen `np.arange()` und der Funktion `range()` auf. Behalten Sie jedoch die folgenden Unterschiede im Hinterkopf:\n",
    "\n",
    "- `range()` gibt ein **range-objekt** zurück, das *nur ganze Zahlen* erzeugt.\n",
    "- `np.arange()` gibt ein **NumPy-Array** zurück, das *sowohl Ganzzahlen als auch Gleitkommazahlen* enthalten kann, was eine größere Flexibilität für numerische Operationen bietet.\n",
    "        \n",
    "</div>\n",
    "</div>"
   ]
  },
  {
   "cell_type": "markdown",
   "metadata": {},
   "source": [
    "##### `linspace`"
   ]
  },
  {
   "cell_type": "markdown",
   "metadata": {},
   "source": [
    "```python\n",
    "np.linspace(start, stop, num)\n",
    "``` \n",
    "\n",
    "<div style=\"display: flex; justify-content: space-between;\">\n",
    "\n",
    "<div style=\"width: 48%; line-height: 1.5;\">\n",
    "\n",
    "generates an array of `num` evenly spaced values between `start` and `stop`, <b>inclusive</b> of both endpoints. \n",
    "\n",
    "This method is useful for initializing an array to store future data, provided you know the size in advance, as replacing elements in a NumPy array is faster than appending to an existing one.\n",
    "        \n",
    "</div>\n",
    "<div style=\"width: 48%; line-height: 1.5;color: grey;\">\n",
    "\n",
    "erzeugt ein Array von `num` mit gleichmäßigen Abständen zwischen `start` und `stop`, <b>einschließlich</b> der beiden Endpunkte. \n",
    "\n",
    "Diese Methode ist nützlich für die Initialisierung eines Arrays, um zukünftige Daten zu speichern, vorausgesetzt, man kennt die Größe im Voraus, da das Ersetzen von Elementen in einem NumPy-Array schneller ist als das Anhängen an ein bestehendes Array.\n",
    "        \n",
    "</div>\n",
    "</div>"
   ]
  },
  {
   "cell_type": "code",
   "execution_count": null,
   "metadata": {},
   "outputs": [
    {
     "name": "stdout",
     "output_type": "stream",
     "text": [
      "[ 0  5 10]\n",
      "[ 0.    3.75  7.5  11.25 15.  ]\n"
     ]
    }
   ],
   "source": [
    "print(np.arange(0,15,5))    # arange gives the step size, 15 is NOT included\n",
    "\n",
    "print(np.linspace(0,15,5))  # linspace gives the number of points, 15 is included"
   ]
  },
  {
   "cell_type": "markdown",
   "metadata": {},
   "source": [
    "##### `zeros`"
   ]
  },
  {
   "cell_type": "markdown",
   "metadata": {},
   "source": [
    "```python\n",
    "np.zeros(num)\n",
    "``` \n",
    "\n",
    "<div style=\"display: flex; justify-content: space-between;\">\n",
    "<div style=\"width: 48%; line-height: 1.5;\">\n",
    "\n",
    "creates an array filled with zeros, where `num` specifies the length of the array.\n",
    "        \n",
    "</div>\n",
    "<div style=\"width: 48%; line-height: 1.5;color: grey;\">\n",
    "\n",
    "erzeugt ein mit Nullen gefülltes Array, wobei `num` die Länge des Arrays angibt.\n",
    "        \n",
    "</div>\n",
    "</div>"
   ]
  },
  {
   "cell_type": "code",
   "execution_count": null,
   "metadata": {},
   "outputs": [],
   "source": [
    "#Create an array with 10 elements, each of them equal to zero\n",
    "np.zeros(10)"
   ]
  },
  {
   "cell_type": "markdown",
   "metadata": {},
   "source": [
    "##### `ones`"
   ]
  },
  {
   "cell_type": "markdown",
   "metadata": {},
   "source": [
    "```python\n",
    "np.ones(num)\n",
    "``` \n",
    "\n",
    "<div style=\"display: flex; justify-content: space-between;\">\n",
    "<div style=\"width: 48%; line-height: 1.5;\">\n",
    "\n",
    "creates an array filled with ones, where `num` specifies the length of the array.\n",
    "        \n",
    "</div>\n",
    "<div style=\"width: 48%; line-height: 1.5;color: grey;\">\n",
    "\n",
    "erzeugt ein Array, das mit Einsen gefüllt ist, wobei `num` die Länge des Arrays angibt.\n",
    "        \n",
    "</div>\n",
    "</div>"
   ]
  },
  {
   "cell_type": "code",
   "execution_count": 7,
   "metadata": {},
   "outputs": [
    {
     "data": {
      "text/plain": [
       "array([1., 1., 1., 1., 1., 1., 1., 1., 1., 1.])"
      ]
     },
     "execution_count": 7,
     "metadata": {},
     "output_type": "execute_result"
    }
   ],
   "source": [
    "#Create an array with 10 elements, each of them equal to zero\n",
    "np.ones(10)"
   ]
  },
  {
   "cell_type": "markdown",
   "metadata": {},
   "source": [
    "<div class=\"alert alert-block alert-light\">\n",
    "\n",
    "<div style=\"display: flex; justify-content: space-between;\">\n",
    "<div style=\"width: 48%; line-height: 1.5;\">\n",
    "\n",
    "#### Exercise\n",
    "\n",
    "Create the arrays for the first 10 integers, odd numbers up to 10, and even numbers up to 10 using:\n",
    "\n",
    "- `np.array()` \n",
    "\n",
    "- `np.linspace()`\n",
    "\n",
    "- `np.arange()`\n",
    "</div>\n",
    "<div style=\"width: 48%; line-height: 1.5;color: grey;\">\n",
    "\n",
    "#### Übung\n",
    "\n",
    "Erstellen Sie die Arrays für die ersten 10 ganzen Zahlen, die ungeraden Zahlen bis 10 und die geraden Zahlen bis 10 mit:\n",
    "\n",
    "- `np.array()`\n",
    "\n",
    "- `np.linspace()`\n",
    "\n",
    "- `np.arange()`\n",
    "</div>\n",
    "</div>"
   ]
  },
  {
   "cell_type": "code",
   "execution_count": null,
   "metadata": {},
   "outputs": [],
   "source": [
    "#countdown\n",
    "countdown_timer(10)"
   ]
  },
  {
   "cell_type": "markdown",
   "metadata": {},
   "source": [
    "<div style=\"display: flex; justify-content: space-between;\">\n",
    "<div style=\"width: 48%; line-height: 1.5;\">\n",
    "\n",
    "## Indexing and Slicing \n",
    "\n",
    "Arrays are indexed and sliced in the same manner as lists:\n",
    "        \n",
    "</div>\n",
    "<div style=\"width: 48%; line-height: 1.5;color: grey;\">\n",
    "\n",
    "## Indexierung und Slicing \n",
    "\n",
    "Arrays werden auf die gleiche Weise indiziert und zerlegt wie Listen:\n",
    "        \n",
    "</div>\n",
    "</div>"
   ]
  },
  {
   "cell_type": "code",
   "execution_count": 8,
   "metadata": {},
   "outputs": [
    {
     "data": {
      "image/png": "[encoded data removed]",
      "text/plain": [
       "<Figure size 640x480 with 1 Axes>"
      ]
     },
     "metadata": {},
     "output_type": "display_data"
    }
   ],
   "source": [
    "\n",
    "# You are not supposed to understand this code, yet. It is here for your convenience/curiosity.\n",
    "import matplotlib.pyplot as plt\n",
    "import matplotlib.patches as patches\n",
    "\n",
    "# Create a figure and axis\n",
    "fig, ax = plt.subplots()\n",
    "\n",
    "# Set the limits of the plot and equal aspect ratio\n",
    "ax.set_xlim(0, 9.1)\n",
    "ax.set_ylim(0, 3)\n",
    "ax.set_aspect('equal')\n",
    "ax.axis('off')  # Remove axes for a cleaner look\n",
    "\n",
    "fibonacci = [0, 1, 1, 2, 3, 5, 8, 13, 21]\n",
    "color = 'gainsboro'  # Define color for the rectangles\n",
    "\n",
    "# Add rectangles and text labels\n",
    "for i in range(9):  # 9 columns \n",
    "    for j in range(3):  # 3 rows\n",
    "        if j == 1:  # Middle row\n",
    "            label = fibonacci[i]\n",
    "            rect = patches.Rectangle((i, j), 1, 1, edgecolor='black', facecolor=color)\n",
    "            ax.text(i + 0.5, j + 0.5, label, color='blue', fontsize=16, ha='center', va='center')\n",
    "            ax.add_patch(rect)\n",
    "        elif j == 0:  # Bottom row\n",
    "            label = i - len(fibonacci)\n",
    "            ax.text(i + 0.5, j + 0.5, label, color='black', fontsize=16, ha='center', va='center')\n",
    "        elif j == 2:  # Top row\n",
    "            label = i\n",
    "            ax.text(i + 0.5, j + 0.5, label, color='black', fontsize=16, ha='center', va='center')\n",
    "\n",
    "# Display the plot\n",
    "plt.show()"
   ]
  },
  {
   "cell_type": "markdown",
   "metadata": {},
   "source": [
    "<div class=\"alert alert-block alert-light\">\n",
    "\n",
    "<div style=\"display: flex; justify-content: space-between;\">\n",
    "<div style=\"width: 48%; line-height: 1.5;\">\n",
    "\n",
    "#### Exercise\n",
    "\n",
    "- Use `np.arange()` to automatically generate an array containing numbers between 25 and 200 with a step size of 23.\n",
    "\n",
    "- Get the value of the third element using indexing. \n",
    "\n",
    "- Get the value of the penultimate element using negative indexing.\n",
    "\n",
    "- Get the value of the fourth through the seventh element using slicing.\n",
    "</div>\n",
    "<div style=\"width: 48%; line-height: 1.5;color: grey;\">\n",
    "\n",
    "#### Übung\n",
    "\n",
    "- Verwenden Sie `np.arange()`, um automatisch ein Array mit Zahlen zwischen 25 und 200 mit einer Schrittweite von 23 zu erzeugen.\n",
    "\n",
    "- Ermitteln Sie den Wert des dritten Elements mithilfe der Indizierung.\n",
    "\n",
    "- Ermitteln Sie den Wert des vorletzten Elements mit Hilfe der negativen Indizierung.\n",
    "\n",
    "- Ermitteln Sie den Wert des vierten bis siebten Elements mithilfe von Slicing.\n",
    "</div>\n",
    "</div>"
   ]
  },
  {
   "cell_type": "code",
   "execution_count": null,
   "metadata": {},
   "outputs": [],
   "source": [
    "#countdown\n",
    "countdown_timer(10)"
   ]
  },
  {
   "cell_type": "code",
   "execution_count": null,
   "metadata": {},
   "outputs": [],
   "source": [
    "a = np.arange(25,201,23)\n",
    "\n",
    "print(a)\n",
    "print(a[2])\n",
    "print(a[-2])\n",
    "print(a[3:7])"
   ]
  },
  {
   "cell_type": "markdown",
   "metadata": {},
   "source": [
    "<div style=\"display: flex; justify-content: space-between;\">\n",
    "<div style=\"width: 48%; line-height: 1.5;\">\n",
    "\n",
    "However, whilst nested lists must be indexed with sequences of square brackets:\n",
    "</div>\n",
    "<div style=\"width: 48%; line-height: 1.5;color: grey;\">\n",
    "\n",
    "Während verschachtelte Listen jedoch mit Folgen von eckigen Klammern indiziert werden müssen:\n",
    "</div>\n",
    "</div>"
   ]
  },
  {
   "cell_type": "code",
   "execution_count": 10,
   "metadata": {},
   "outputs": [
    {
     "data": {
      "text/plain": [
       "4"
      ]
     },
     "execution_count": 10,
     "metadata": {},
     "output_type": "execute_result"
    }
   ],
   "source": [
    "list = [[1, 2, 0], \n",
    "        [1, 3, 4], \n",
    "        [-2, 0.5, 1]]\n",
    "\n",
    "list[1][2]"
   ]
  },
  {
   "cell_type": "markdown",
   "metadata": {},
   "source": [
    "<div style=\"display: flex; justify-content: space-between;\">\n",
    "<div style=\"width: 48%; line-height: 1.5;\">\n",
    "\n",
    "The preferred way of indexing into multidimensional NumPy arrays is with comma-separated values:\n",
    "</div>\n",
    "<div style=\"width: 48%; line-height: 1.5;color: grey;\">\n",
    "\n",
    "Die bevorzugte Art der Indizierung in mehrdimensionalen NumPy-Arrays ist die Verwendung von kommagetrennten Werten:\n",
    "</div>\n",
    "</div>"
   ]
  },
  {
   "cell_type": "code",
   "execution_count": 11,
   "metadata": {},
   "outputs": [
    {
     "data": {
      "text/plain": [
       "array([[ 1. ,  2. ,  0. ],\n",
       "       [ 1. ,  3. ,  4. ],\n",
       "       [-2. ,  0.5,  1. ]])"
      ]
     },
     "execution_count": 11,
     "metadata": {},
     "output_type": "execute_result"
    }
   ],
   "source": [
    "array = np.array(list)\n",
    "\n",
    "array"
   ]
  },
  {
   "cell_type": "code",
   "execution_count": null,
   "metadata": {},
   "outputs": [],
   "source": [
    "array[1, 2]"
   ]
  },
  {
   "cell_type": "markdown",
   "metadata": {},
   "source": [
    "<div style=\"display: flex; justify-content: space-between;\">\n",
    "<div style=\"width: 48%; line-height: 1.5;\">\n",
    "\n",
    "*Note also that NumPy converted all original integers to floats: The presence of* `0.5` *in the initializing statement forced the entire array to become one of floating-point values: **NumPy arrays only ever have a single type**.*\n",
    "\n",
    "</div>\n",
    "<div style=\"width: 48%; line-height: 1.5;color: grey;\">\n",
    "\n",
    "*Beachten Sie auch, dass NumPy alle ursprünglichen Ganzzahlen in Gleitkommawerte umgewandelt hat: Das Vorhandensein von `0.5` in der Initialisierungsanweisung zwang das gesamte Array dazu, ein Array mit Fließkommawerten zu werden: **NumPy-Arrays haben immer nur einen einzigen Typ**.*\n",
    "\n",
    "</div>\n",
    "</div>"
   ]
  },
  {
   "cell_type": "markdown",
   "metadata": {},
   "source": [
    "<div style=\"display: flex; justify-content: space-between;\">\n",
    "<div style=\"width: 48%; line-height: 1.5;\">\n",
    "\n",
    "## Manipulating arrays \n",
    "\n",
    "Array elements are manipulated using the same methods as those used for lists:\n",
    "        \n",
    "</div>\n",
    "<div style=\"width: 48%; line-height: 1.5;color: grey;\">\n",
    "\n",
    "## Manipulation von Arrays\n",
    "\n",
    "Array-Elemente werden mit denselben Methoden bearbeitet, die auch für Listen verwendet werden:\n",
    "        \n",
    "</div>\n",
    "</div>"
   ]
  },
  {
   "cell_type": "markdown",
   "metadata": {},
   "source": [
    "<div class=\"alert alert-block alert-light\">\n",
    "\n",
    "<div style=\"display: flex; justify-content: space-between;\">\n",
    "<div style=\"width: 48%; line-height: 1.5;\">\n",
    "\n",
    "#### Exercise\n",
    "\n",
    "- Use `np.linspace()` to automatically create an array containing 11 evenly spaced elements between 0 and 1 inclusive.\n",
    "\n",
    "- Change the value of the first element in the array to 5: what type does this element have? \n",
    "\n",
    "- Change the value of the final element to 100.\n",
    "\n",
    "- Change the values of elements 5-7 to 0.16, 0.25, 0.36, respectively, simultaneously using slicing.\n",
    "</div>\n",
    "<div style=\"width: 48%; line-height: 1.5;color: grey;\">\n",
    "\n",
    "#### Übung\n",
    "\n",
    "- Verwenden Sie `np.linspace()`, um automatisch ein Array zu erstellen, das 11 gleichmäßig verteilte Elemente zwischen 0 und einschließlich 1 enthält.\n",
    "\n",
    "- Ändere den Wert des ersten Elements im Array auf 5: Welchen Typ hat dieses Element?\n",
    "\n",
    "- Ändern Sie den Wert des letzten Elements in 100.\n",
    "\n",
    "- Ändern Sie die Werte der Elemente 5-7 auf 0,16, 0,25 bzw. 0,36, und zwar gleichzeitig durch Slicing.\n",
    "</div>\n",
    "</div>"
   ]
  },
  {
   "cell_type": "code",
   "execution_count": null,
   "metadata": {},
   "outputs": [],
   "source": [
    "#countdown\n",
    "countdown_timer(10)"
   ]
  },
  {
   "cell_type": "markdown",
   "metadata": {},
   "source": [
    "#### Solution"
   ]
  },
  {
   "cell_type": "code",
   "execution_count": null,
   "metadata": {},
   "outputs": [],
   "source": [
    "a = np.linspace(0,1,11)\n",
    "\n",
    "a"
   ]
  },
  {
   "cell_type": "code",
   "execution_count": null,
   "metadata": {},
   "outputs": [],
   "source": [
    "a[0] = 5\n",
    "\n",
    "a"
   ]
  },
  {
   "cell_type": "code",
   "execution_count": null,
   "metadata": {},
   "outputs": [],
   "source": [
    "a[-1] = 100\n",
    "\n",
    "a"
   ]
  },
  {
   "cell_type": "code",
   "execution_count": null,
   "metadata": {},
   "outputs": [],
   "source": [
    "a[4:7] = 0.16, 0.25, 0.36\n",
    "\n",
    "a"
   ]
  },
  {
   "cell_type": "markdown",
   "metadata": {},
   "source": [
    "<div style=\"display: flex; justify-content: space-between;\">\n",
    "<div style=\"width: 48%; line-height: 1.5;\">\n",
    "\n",
    "## Using arrays in mathematical computations \n",
    "\n",
    "The biggest difference between lists and arrays lies in their handling of mathematical operations. \n",
    "\n",
    "For instance, consider the list of numbers `number_list = [1, 2, 3, 4]`. \n",
    "\n",
    "If we want to create a new list where each element is 3 times larger than the corresponding value in `number_list` (i.e., 3, 6, 9, 12), one might be tempted to simply multiply the original list by 3:\n",
    "</div>\n",
    "<div style=\"width: 48%; line-height: 1.5;color: grey;\">\n",
    "\n",
    "## Verwendung von Arrays in mathematischen Berechnungen\n",
    "\n",
    "Der größte Unterschied zwischen Listen und Arrays liegt in der Handhabung von mathematischen Operationen. \n",
    "\n",
    "Betrachten wir zum Beispiel die Zahlenliste `number_list = [1, 2, 3, 4]`. \n",
    "\n",
    "Wenn wir eine neue Liste erstellen wollen, in der jedes Element dreimal so groß ist wie der entsprechende Wert in `number_list` (d.h. 3, 6, 9, 12), könnte man versucht sein, die ursprüngliche Liste einfach mit 3 zu multiplizieren:\n",
    "</div>\n",
    "</div>"
   ]
  },
  {
   "cell_type": "code",
   "execution_count": 13,
   "metadata": {},
   "outputs": [
    {
     "data": {
      "text/plain": [
       "[1, 2, 3, 4, 1, 2, 3, 4, 1, 2, 3, 4]"
      ]
     },
     "execution_count": 13,
     "metadata": {},
     "output_type": "execute_result"
    }
   ],
   "source": [
    "#Create list of numbers\n",
    "number_list = [1,2,3,4]\n",
    "\n",
    "#Multiply this list by 3\n",
    "number_list = number_list*3\n",
    "\n",
    "#look at the result\n",
    "number_list"
   ]
  },
  {
   "cell_type": "markdown",
   "metadata": {},
   "source": [
    "<div style=\"display: flex; justify-content: space-between;\">\n",
    "<div style=\"width: 48%; line-height: 1.5;\">\n",
    "\n",
    "Clearly, this approach does not achieve our intended result! \n",
    "\n",
    "The situation worsens with other simple operations (such as adding 1 to each element or computing the sine), which will likely fail and produce error messages (try it yourself).\n",
    "\n",
    "To mathematically manipulate the numbers in lists, you must process each element individually:\n",
    "        \n",
    "</div>\n",
    "<div style=\"width: 48%; line-height: 1.5;color: grey;\">\n",
    "\n",
    "Es ist klar, dass dieser Ansatz nicht zum gewünschten Ergebnis führt! \n",
    "\n",
    "Die Situation verschlimmert sich bei anderen einfachen Operationen (z.B. Addition von 1 zu jedem Element oder Berechnung des Sinus), die wahrscheinlich fehlschlagen und Fehlermeldungen erzeugen werden (probieren Sie es selbst aus).\n",
    "\n",
    "Um die Zahlen in Listen mathematisch zu manipulieren, müssen Sie jedes Element einzeln verarbeiten:\n",
    "        \n",
    "</div>\n",
    "</div>"
   ]
  },
  {
   "cell_type": "code",
   "execution_count": 14,
   "metadata": {},
   "outputs": [
    {
     "name": "stdout",
     "output_type": "stream",
     "text": [
      "[3, 6, 9, 12, 3, 6, 9, 12, 3, 6, 9, 12]\n"
     ]
    }
   ],
   "source": [
    "for i in range(len(number_list)):\n",
    "    number_list[i] *= 3\n",
    "\n",
    "print(number_list)"
   ]
  },
  {
   "cell_type": "markdown",
   "metadata": {},
   "source": [
    "<div style=\"display: flex; justify-content: space-between;\">\n",
    "<div style=\"width: 48%; line-height: 1.5;\">\n",
    "\n",
    "On the other hand, if we had used an array for our original data, the first approach would have worked as intended:\n",
    "        \n",
    "</div>\n",
    "<div style=\"width: 48%; line-height: 1.5;color: grey;\">\n",
    "\n",
    "Hätten wir hingegen ein Array für unsere ursprünglichen Daten verwendet, hätte der erste Ansatz wie vorgesehen funktioniert:\n",
    "        \n",
    "</div>\n",
    "</div>"
   ]
  },
  {
   "cell_type": "code",
   "execution_count": null,
   "metadata": {},
   "outputs": [],
   "source": [
    "#Create array of numbers \n",
    "number_array = np.array([1, 2, 3, 4])\n",
    "\n",
    "#Multiply this array by 3\n",
    "number_array = number_array*3\n",
    "\n",
    "#look at the result\n",
    "number_array"
   ]
  },
  {
   "cell_type": "code",
   "execution_count": null,
   "metadata": {},
   "outputs": [
    {
     "data": {
      "text/plain": [
       "array([-2., -1.,  0.,  1.,  2.,  3.,  4.,  5.])"
      ]
     },
     "execution_count": 9,
     "metadata": {},
     "output_type": "execute_result"
    }
   ],
   "source": [
    "#create an array containing all the whole numbers from -2 to 5, inclusive\n",
    "a = np.linspace(-2,5,8)\n",
    "\n",
    "a"
   ]
  },
  {
   "cell_type": "code",
   "execution_count": null,
   "metadata": {},
   "outputs": [],
   "source": [
    "a + 3"
   ]
  },
  {
   "cell_type": "code",
   "execution_count": null,
   "metadata": {},
   "outputs": [],
   "source": [
    "a/2"
   ]
  },
  {
   "cell_type": "code",
   "execution_count": null,
   "metadata": {},
   "outputs": [],
   "source": [
    "a**3+1"
   ]
  },
  {
   "cell_type": "markdown",
   "metadata": {},
   "source": [
    "<div style=\"display: flex; justify-content: space-between;\">\n",
    "<div style=\"width: 48%; line-height: 1.5;\">\n",
    "\n",
    "####  Boolean arrays \n",
    "\n",
    "Comparison operations on a NumPy array are vectorized and return an array of `True` and `False` values:\n",
    "</div>\n",
    "<div style=\"width: 48%; line-height: 1.5;color: grey;\">\n",
    "\n",
    "#### Boolesche Arrays\n",
    "\n",
    "Vergleichsoperationen auf einem NumPy-Array sind vektorisiert und geben ein Array mit `True` und `False` Werten zurück:\n",
    "</div>\n",
    "</div>"
   ]
  },
  {
   "cell_type": "code",
   "execution_count": null,
   "metadata": {},
   "outputs": [],
   "source": [
    "arr = np.array([0, 1, 2, 4, 2, 1])\n",
    "\n",
    "print(arr > 1)\n",
    "print(arr == 1)\n",
    "print(arr**2 > 10)"
   ]
  },
  {
   "cell_type": "markdown",
   "metadata": {},
   "source": [
    "<div style=\"display: flex; justify-content: space-between;\">\n",
    "<div style=\"width: 48%; line-height: 1.5;\">\n",
    "\n",
    "Since the boolean quantities `True` and `False` are equal to the integer values `1` and `0`, respectively, these boolean arrays can be passed to `np.sum` to count the number of `True` values:\n",
    "</div>\n",
    "<div style=\"width: 48%; line-height: 1.5;color: grey;\">\n",
    "\n",
    "Da die booleschen Größen `True` und `False` gleich den ganzzahligen Werten `1` bzw. `0` sind, können diese booleschen Arrays an `np.sum` übergeben werden, um die Anzahl der `True`-Werte zu zählen:\n",
    "</div>\n",
    "</div>"
   ]
  },
  {
   "cell_type": "code",
   "execution_count": null,
   "metadata": {},
   "outputs": [],
   "source": [
    "np.sum(arr > 1)     # Number of elements greater than 1"
   ]
  },
  {
   "cell_type": "markdown",
   "metadata": {},
   "source": [
    "<div style=\"display: flex; justify-content: space-between;\">\n",
    "<div style=\"width: 48%; line-height: 1.5;\">\n",
    "\n",
    "###  Summary statistics (aggregation) \n",
    "\n",
    "We’ve seen that lists in Python support basic statistical operations like `sum`, `min`, and `max`. \n",
    "\n",
    "However, even calculating a basic property like the average is not built-in, so we need to compute it manually using the formula `sum(list) / len(list)`.\n",
    "\n",
    "**Numpy aggregation** refers to the process of applying a function to summarize or combine a collection of data, typically an array or a matrix, into a single value or a smaller set of values. \n",
    "\n",
    "These aggregation functions in NumPy are used to compute metrics like sums, averages, min/max values, and more, over an entire array or along specific axes.\n",
    "\n",
    "</div>\n",
    "<div style=\"width: 48%; line-height: 1.5;color: grey;\">\n",
    "\n",
    "###  Zusammenfassende Statistiken (Aggregation)\n",
    "\n",
    "Wir haben gesehen, dass Listen in Python grundlegende statistische Operationen wie `sum`, `min` und `max` unterstützen.\n",
    "Allerdings ist selbst die Berechnung einer grundlegenden Eigenschaft wie des Durchschnitts nicht eingebaut, so dass wir ihn manuell mit der Formel `sum(list) / len(list)` berechnen müssen.\n",
    "\n",
    "Die **Numpy-Aggregation** bezieht sich auf den Prozess der Anwendung einer Funktion, um eine Sammlung von Daten, typischerweise ein Array oder eine Matrix, zu einem einzigen Wert oder einer kleineren Menge von Werten zusammenzufassen oder zu kombinieren. \n",
    "\n",
    "Diese Aggregationsfunktionen in NumPy werden verwendet, um Metriken wie Summen, Mittelwerte, Min/Max-Werte und mehr über ein ganzes Array oder entlang bestimmter Achsen zu berechnen.\n",
    "\n",
    "</div>\n",
    "</div>"
   ]
  },
  {
   "cell_type": "markdown",
   "metadata": {},
   "source": [
    "<div style=\"text-align: center;\">\n",
    "    <img src=\"https://api.www.labxchange.org/api/v1/xblocks/lb:LabXchange:10d3270e:html:1/storage/14__spread-61626365223536-6deac6d3a35d8e08fa3459f146298339.png\"; style=\"width: 1000px;\">\n",
    "</div>"
   ]
  },
  {
   "cell_type": "markdown",
   "metadata": {},
   "source": [
    "| Function                              | Description                                         | Beschreibung                              |\n",
    "|---------------------------------------|-----------------------------------------------------|-------------------------------------------------|\n",
    "| `np.sum()`                            | Adds up all the elements in an array.               | Summiert alle Elemente in einem Array.           |\n",
    "| `np.mean()`                           | Calculates the average (mean) of the elements.      | Berechnet den Durchschnitt (Mittelwert) der Elemente. |\n",
    "| `np.min()`, `np.max()`               | Finds the minimum or maximum value.                 | Findet den minimalen oder maximalen Wert.        |\n",
    "| `np.median()`                         | Computes the median value.                          | Berechnet den Medianwert.                        |\n",
    "| `np.std()`                            | Computes the standard deviation.                    | Berechnet die Standardabweichung.                |\n",
    "| `np.prod()`                           | Multiplies all elements together.                   | Multipliziert alle Elemente miteinander.         |\n",
    "| `np.var()`                            | Calculates the variance of the elements.            | Berechnet die Varianz der Elemente.              |\n",
    "| `np.cumsum()`                         | Returns the cumulative sum of elements.             | Gibt die kumulative Summe der Elemente zurück.   |\n",
    "| `np.cumprod()`                        | Returns the cumulative product of elements.         | Gibt das kumulative Produkt der Elemente zurück. |\n",
    "| `np.argmax()`, `np.argmin()`         | Returns the indices of the maximum or minimum value.| Gibt die Indizes des maximalen oder minimalen Werts zurück. |\n",
    "\n",
    "#### Aggregation along axes:\n",
    "For multidimensional arrays, you can aggregate over specific axes (rows or columns) by passing the `axis` argument. For example:\n",
    "- `np.sum(arr, axis=0)` sums along the columns. *(Summiert entlang der Spalten.)*\n",
    "- `np.sum(arr, axis=1)` sums along the rows. *(Summiert entlang der Zeilen.)*"
   ]
  },
  {
   "cell_type": "markdown",
   "metadata": {},
   "source": [
    "<div style=\"display: flex; justify-content: space-between;\">\n",
    "<div style=\"width: 48%; line-height: 1.5;\">\n",
    "\n",
    "The following table contrasts the statistical operations between Python lists and NumPy arrays. \n",
    "        \n",
    "</div>\n",
    "<div style=\"width: 48%; line-height: 1.5;color: grey;\">\n",
    "\n",
    "In der folgenden Tabelle werden die statistischen Operationen zwischen Python-Listen und NumPy-Arrays gegenübergestellt.\n",
    "        \n",
    "</div>\n",
    "</div>"
   ]
  },
  {
   "cell_type": "markdown",
   "metadata": {},
   "source": [
    "| Operation              | Description                                        | Beschreibung                          | Lists                         | Arrays                         |\n",
    "|------------------------|----------------------------------------------------|---------------------------------------|--------------------------------|--------------------------------|\n",
    "| **Mean**               | Average of all elements                           | Durchschnitt aller Elemente           | `sum(list) / len(list)`         | `np.mean(array)`               |\n",
    "| **Median**             | Middle value of the sorted collection             | Mittlerer Wert der sortierten Sammlung | `sorted(list)[len(list)//2]`    | `np.median(array)`             |\n",
    "| **Standard Deviation** | Measure of the dispersion of the data             | Maß für die Streuung der Daten         | N/A | `np.std(array)`                |\n",
    "| **Variance**           | Measure of the spread of the data                 | Maß für die Variabilität der Daten     | N/A | `np.var(array)`                |\n",
    "| **Minimum**            | Smallest value in the collection                   | Kleinster Wert in der Sammlung         | `min(list)`                     | `np.min(array)`                |\n",
    "| **Maximum**            | Largest value in the collection                    | Größter Wert in der Sammlung           | `max(list)`                     | `np.max(array)`                |\n",
    "| **Sum**                | Total sum of all elements                         | Gesamtsumme aller Elemente            | `sum(list)`                     | `np.sum(array)`                |\n",
    "| **Count**              | Number of elements in the collection              | Anzahl der Elemente in der Sammlung    | `len(list)`                     | `np.size(array)`               |\n",
    "| **Percentile**         | Value below which a given percentage of observations fall | Wert, unter dem ein bestimmter Prozentsatz der Beobachtungen liegt | N/A | `np.percentile(array, q)`      |\n",
    "| **Correlation Coefficient** | Measure of linear relationship between two collections | Maß für die lineare Beziehung zwischen zwei Sammlungen | N/A | `np.corrcoef(array1, array2)`  |\n"
   ]
  },
  {
   "cell_type": "markdown",
   "metadata": {},
   "source": [
    "<div class=\"alert alert-block alert-light\">\n",
    "\n",
    "<div style=\"display: flex; justify-content: space-between;\">\n",
    "<div style=\"width: 48%; line-height: 1.5;\">\n",
    "\n",
    "#### Exercise\n",
    "You are given an array of grades from a recent exam.\n",
    "\n",
    "1. Analyze this distribution of grades using only those aggregation functions that provide meaningful insights about the overall performance.\n",
    "Using these aggregation functions, summarize the overall performance of the class and reflect on the spread and central tendencies of the grades.\n",
    "\n",
    "2. Assuming the indexes uniquely identify students, which student received the highest grade?\n",
    "\n",
    "</div>\n",
    "<div style=\"width: 48%; line-height: 1.5;color: grey;\">\n",
    "\n",
    "#### Übung\n",
    "Sie erhalten eine Reihe von Noten aus einer kürzlich durchgeführten Prüfung.\n",
    "\n",
    "1. Analysieren Sie diese Verteilung der Noten, indem Sie nur die Aggregationsfunktionen verwenden, die aussagekräftige Erkenntnisse über die Gesamtleistung liefern.\n",
    "Fassen Sie anhand dieser Aggregationsfunktionen die Gesamtleistung der Klasse zusammen und betrachten Sie die Verteilung und die zentralen Tendenzen der Noten.\n",
    "\n",
    "2. Angenommen, die Indizes identifizieren die Schüler eindeutig, welcher Schüler hat die beste Note erhalten?\n",
    "\n",
    "</div>\n",
    "</div>\n",
    "\n",
    "```python\n",
    "grades = [5.0, 5.0, 2.7, 5.0, 2.7, 1.7, 5.0, 5.0, 3.3, 3.7, 5.0, \n",
    "          2.7, 3.3, 3.0, 2.7, 4.0, 3.0, 3.3, 2.7, 3.7, 3.3, 3.7, \n",
    "          5.0, 1.3, 2.7, 3.3, 2.7, 5.0, 3.7, 5.0, 2.7, 2.7, 5.0, \n",
    "          3.0, 1.7, 3.0, 1.0, 2.3, 5.0, 5.0, 2.3, 2.3, 5.0, 3.7]\n",
    " ```"
   ]
  },
  {
   "cell_type": "code",
   "execution_count": null,
   "metadata": {},
   "outputs": [],
   "source": [
    "countdown_timer(10)"
   ]
  },
  {
   "cell_type": "code",
   "execution_count": 6,
   "metadata": {},
   "outputs": [
    {
     "name": "stdout",
     "output_type": "stream",
     "text": [
      "1.0, 5.0, 3.475, 3.3, 1.153\n"
     ]
    }
   ],
   "source": [
    "min_grade = np.min(grades)\n",
    "max_grade = np.max(grades)\n",
    "\n",
    "mean_grade = np.mean(grades)\n",
    "median_grade = np.median(grades)\n",
    "std_dev_grade = round(np.std(grades),3)\n",
    "\n",
    "print(f\"{min_grade}, {max_grade}, {mean_grade}, {median_grade}, {std_dev_grade}\")"
   ]
  },
  {
   "cell_type": "code",
   "execution_count": null,
   "metadata": {},
   "outputs": [],
   "source": [
    "top_performer = np.argmin(grades)\n",
    "\n",
    "top_performer"
   ]
  },
  {
   "cell_type": "markdown",
   "metadata": {},
   "source": [
    "<div style=\"display: flex; justify-content: space-between;\">\n",
    "<div style=\"width: 48%; line-height: 1.5;\">\n",
    "\n",
    "###  NaN: Not a Number \n",
    "\n",
    "In the standard floating point description of numbers, there is a special value, “NaN,” which stands for “Not a Number,” denoting an undefined or invalid value. NumPy’s representation of NaN is `numpy.nan`. \n",
    "\n",
    "For example: There is no number, $x$, for which $\\sin(x) = 1.5$ is defined, and so attempting to find the arcsin of 1.5 yields NaN (with a warning).\n",
    "</div>\n",
    "<div style=\"width: 48%; line-height: 1.5;color: grey;\">\n",
    "\n",
    "###  NaN: Keine Zahl \n",
    "\n",
    "In der Standard-Gleitkomma-Beschreibung von Zahlen gibt es einen speziellen Wert, \"NaN\", der für \"Not a Number\" steht und einen undefinierten oder ungültigen Wert bezeichnet. NumPy's Darstellung von NaN ist `numpy.nan`. \n",
    "\n",
    "Zum Beispiel: Es gibt keine Zahl $x$, für die $\\sin(x) = 1.5$ definiert ist, so dass der Versuch, den Bogensinus von 1.5 zu finden, NaN ergibt (mit einer Warnung).\n",
    "</div>\n",
    "</div>"
   ]
  },
  {
   "cell_type": "code",
   "execution_count": null,
   "metadata": {},
   "outputs": [],
   "source": [
    "arr = np.arcsin([-0.5, 0, 0.5, np.sqrt(3)/2, 1, 1.5])\n",
    "\n",
    "arr"
   ]
  },
  {
   "cell_type": "markdown",
   "metadata": {},
   "source": [
    "<div style=\"display: flex; justify-content: space-between;\">\n",
    "<div style=\"width: 48%; line-height: 1.5;\">\n",
    "\n",
    "Dealing with NaN entries in an array can be cumbersome and if an array includes such values, the aggregation functions will also return `numpy.nan`.\n",
    "\n",
    "Luckily, where it is appropriate to simply ignore these invalid array entries there are a family of related methods, `nanmin`, `nanmax`, etc. that do so:\n",
    "</div>\n",
    "<div style=\"width: 48%; line-height: 1.5;color: grey;\">\n",
    "\n",
    "Der Umgang mit NaN-Einträgen in einem Array kann mühsam sein, und wenn ein Array solche Werte enthält, geben die Aggregationsfunktionen auch `numpy.nan` zurück.\n",
    "\n",
    "Glücklicherweise gibt es für die Fälle, in denen es angebracht ist, diese ungültigen Array-Einträge einfach zu ignorieren, eine Reihe verwandter Methoden, `nanmin`, `nanmax`, usw., die dies tun:\n",
    "</div>\n",
    "</div>"
   ]
  },
  {
   "cell_type": "code",
   "execution_count": null,
   "metadata": {},
   "outputs": [],
   "source": [
    "print(np.nanmax(arr))          # Maximum valid value, ignoring nans\n",
    "print(np.nanmean(arr))         # Mean of all valid values in arr\n",
    "print(np.nanargmax(arr))       # Index of the maximum valid value in arr"
   ]
  },
  {
   "cell_type": "markdown",
   "metadata": {},
   "source": [
    "<div style=\"display: flex; justify-content: space-between;\">\n",
    "<div style=\"width: 48%; line-height: 1.5;\">\n",
    "\n",
    "NumPy has the same mathematical functions as the `math` module introduced in the previous lecture.\n",
    "        \n",
    "</div>\n",
    "<div style=\"width: 48%; line-height: 1.5;color: grey;\">\n",
    "\n",
    "NumPy hat die gleichen mathematischen Funktionen wie das `math`-Modul, das in der vorherigen Vorlesung vorgestellt wurde.\n",
    "        \n",
    "</div>\n",
    "</div>"
   ]
  },
  {
   "cell_type": "code",
   "execution_count": null,
   "metadata": {},
   "outputs": [],
   "source": [
    "np.cos(a) "
   ]
  },
  {
   "cell_type": "code",
   "execution_count": null,
   "metadata": {},
   "outputs": [],
   "source": [
    "10**a"
   ]
  },
  {
   "cell_type": "markdown",
   "metadata": {},
   "source": [
    "| Operation                    | Operation                   | Python `math` Function   | NumPy `np` Function      |\n",
    "|------------------------------|-----------------------------|--------------------------|--------------------------|\n",
    "| Square Root                  | Quadratwurzel               | `math.sqrt(x)`           | `np.sqrt(x)`             |\n",
    "| Exponentiation               | Exponentiation              | `math.exp(x)`            | `np.exp(x)`              |\n",
    "| Logarithm (base e)           | Logarithmus (Basis e)       | `math.log(x)`            | `np.log(x)`              |\n",
    "| Logarithm (base 10)          | Logarithmus (Basis 10)      | `math.log10(x)`          | `np.log10(x)`            |\n",
    "| Sine                         | Sinus                       | `math.sin(x)`            | `np.sin(x)`              |\n",
    "| Cosine                       | Kosinus                     | `math.cos(x)`            | `np.cos(x)`              |\n",
    "| Tangent                      | Tangens                     | `math.tan(x)`            | `np.tan(x)`              |\n",
    "| Arcsine                      | Arkussinus                  | `math.asin(x)`           | `np.arcsin(x)`           |\n",
    "| Arccosine                    | Arkuskosinus                | `math.acos(x)`           | `np.arccos(x)`           |\n",
    "| Arctangent                   | Arkustangens                | `math.atan(x)`           | `np.arctan(x)`           |\n",
    "| Hyperbolic Sine              | Hyperbolischer Sinus        | `math.sinh(x)`           | `np.sinh(x)`             |\n",
    "| Hyperbolic Cosine            | Hyperbolischer Kosinus      | `math.cosh(x)`           | `np.cosh(x)`             |\n",
    "| Hyperbolic Tangent           | Hyperbolischer Tangens      | `math.tanh(x)`           | `np.tanh(x)`             |\n",
    "| Convert Degrees to Radians   | Grad in Bogenmaß umwandeln  | `math.radians(x)`        | `np.deg2rad(x)`          |\n",
    "| Convert Radians to Degrees   | Bogenmaß in Grad umwandeln  | `math.degrees(x)`        | `np.rad2deg(x)`          |\n",
    "| Power                        | Potenz                      | `math.pow(x, y)`         | `np.power(x, y)`         |\n",
    "| Absolute Value               | Absoluter Wert              | `math.abs(x)`            | `np.abs(x)`              |\n",
    "| Factorial                    | Fakultät                    | `math.factorial(x)`      | `np.factorial(x)`   |\n",
    "| Pi (π)                       | Pi (π)                      | `math.pi`                | `np.pi`                  |\n",
    "| Euler's Number (e)            | Eulersche Zahl (e)          | `math.e`                 | `np.e`                   |"
   ]
  },
  {
   "cell_type": "markdown",
   "metadata": {},
   "source": [
    "<div style=\"display: flex; justify-content: space-between;\">\n",
    "<div style=\"width: 48%; line-height: 1.5;\">\n",
    "\n",
    "Arrays can be added, subtracted, multiplied, and divided on an element-by-element basis, as long as the two arrays have the same length:\n",
    "        \n",
    "</div>\n",
    "<div style=\"width: 48%; line-height: 1.5;color: grey;\">\n",
    "\n",
    "Arrays können Element für Element addiert, subtrahiert, multipliziert und geteilt werden, solange die beiden Arrays die gleiche Länge haben:\n",
    "        \n",
    "</div>\n",
    "</div>"
   ]
  },
  {
   "cell_type": "code",
   "execution_count": null,
   "metadata": {},
   "outputs": [],
   "source": [
    "#Create two arrays, each with four elements\n",
    "a = np.array([1, 2, 3, 4])\n",
    "b = np.array([5, 6, 7, 8])\n",
    "\n",
    "print(\"a+b =\", a+b)\n",
    "print(\"a-b =\", a-b)\n",
    "print(\"a*b =\", a*b) # this is NOT equivalent to the dot or cross product of two vectors!\n",
    "print(\"b/a =\", b/a)"
   ]
  },
  {
   "cell_type": "markdown",
   "metadata": {},
   "source": [
    "<div style=\"display: flex; justify-content: space-between;\">\n",
    "<div style=\"width: 48%; line-height: 1.5;\">\n",
    "\n",
    "## Plotting Functions\n",
    "### Plotting with Calculated Data Points\n",
    "\n",
    "Performing vectorized operations using `np.array` allows us to quickly and efficiently calculate mathematical functions when we have their analytical expressions. \n",
    "\n",
    "For instance, if we have a function $f(x) = \\sin (x)$, we can evaluate it for all elements of an array in one step, resulting in two arrays of equal length.\n",
    "\n",
    "The value of the function is calculated at each corresponding value of $x$ in the array, resulting in an array of $y$ values that represent the function's output for every input $x$.\n",
    "        \n",
    "</div>\n",
    "<div style=\"width: 48%; line-height: 1.5;color: grey;\">\n",
    "\n",
    "## Funktionen plotten\n",
    "### Plotten mit berechneten Datenpunkten\n",
    "\n",
    "Die Durchführung von vektorisierten Operationen mit `np.array` ermöglicht es uns, mathematische Funktionen schnell und effizient zu berechnen, wenn wir ihre analytischen Ausdrücke haben.\n",
    "\n",
    "Wenn wir zum Beispiel eine Funktion $f(x) = \\sin (x)$ haben, können wir sie für alle Elemente eines Arrays in einem Schritt auswerten, was zu zwei Arrays gleicher Länge führt.\n",
    "\n",
    "Der Wert der Funktion wird für jeden entsprechenden Wert von $x$ in der Matrix berechnet, was zu einer Matrix von $y$-Werten führt, die die Ausgabe der Funktion für jede Eingabe $x$ darstellen.\n",
    "\n",
    "        \n",
    "</div>\n",
    "</div>"
   ]
  },
  {
   "cell_type": "code",
   "execution_count": 37,
   "metadata": {},
   "outputs": [
    {
     "name": "stdout",
     "output_type": "stream",
     "text": [
      "x values = [0.         0.33069396 0.66138793 0.99208189 1.32277585 1.65346982\n",
      " 1.98416378 2.31485774 2.64555171 2.97624567 3.30693964 3.6376336\n",
      " 3.96832756 4.29902153 4.62971549 4.96040945 5.29110342 5.62179738\n",
      " 5.95249134 6.28318531]\n",
      "y values = [ 0.00000000e+00  3.24699469e-01  6.14212713e-01  8.37166478e-01\n",
      "  9.69400266e-01  9.96584493e-01  9.15773327e-01  7.35723911e-01\n",
      "  4.75947393e-01  1.64594590e-01 -1.64594590e-01 -4.75947393e-01\n",
      " -7.35723911e-01 -9.15773327e-01 -9.96584493e-01 -9.69400266e-01\n",
      " -8.37166478e-01 -6.14212713e-01 -3.24699469e-01 -2.44929360e-16]\n"
     ]
    }
   ],
   "source": [
    "x = np.linspace(0, 2*np.pi, 20)\n",
    "y = np.sin(x)\n",
    "\n",
    "print(f\"x values = {x}\")\n",
    "print(f\"y values = {y}\")"
   ]
  },
  {
   "cell_type": "markdown",
   "metadata": {},
   "source": [
    "<div style=\"display: flex; justify-content: space-between;\">\n",
    "<div style=\"width: 48%; line-height: 1.5;\">\n",
    "\n",
    "To better visualize these arrays on screen, we can use the `zip()` function to pair the elements (and some f-string magic), creating a view similar to an Excel spreadsheet with two columns.\n",
    "\n",
    "*However, this approach is primarily for demonstration purposes. In the future, we will use Pandas DataFrames, which are far better suited for displaying and manipulating structured collections of data.*\n",
    "        \n",
    "</div>\n",
    "<div style=\"width: 48%; line-height: 1.5;color: grey;\">\n",
    "\n",
    "Um diese Arrays auf dem Bildschirm besser zu visualisieren, können wir die Funktion `zip()` (und etwas f-string Magie) verwenden, um die Elemente zu paaren und eine Ansicht ähnlich einer Excel-Tabelle mit zwei Spalten zu erstellen.\n",
    "\n",
    "*Dieser Ansatz dient jedoch in erster Linie zu Demonstrationszwecken. In Zukunft werden wir Pandas DataFrames verwenden, die für die Anzeige und Bearbeitung von strukturierten Datensammlungen weitaus besser geeignet sind.*\n",
    "\n",
    "</div>\n",
    "</div>"
   ]
  },
  {
   "cell_type": "code",
   "execution_count": 48,
   "metadata": {},
   "outputs": [
    {
     "name": "stdout",
     "output_type": "stream",
     "text": [
      " 0.000\t\t 0.000\n",
      " 0.000\t\t 0.325\n",
      " 0.000\t\t 0.614\n",
      " 0.000\t\t 0.837\n",
      " 0.000\t\t 0.969\n",
      " 0.000\t\t 0.997\n",
      " 0.000\t\t 0.916\n",
      " 0.000\t\t 0.736\n",
      " 0.000\t\t 0.476\n",
      " 0.000\t\t 0.165\n",
      " 0.000\t\t-0.165\n",
      " 0.000\t\t-0.476\n",
      " 0.000\t\t-0.736\n",
      " 0.000\t\t-0.916\n",
      " 0.000\t\t-0.997\n",
      " 0.000\t\t-0.969\n",
      " 0.000\t\t-0.837\n",
      " 0.000\t\t-0.614\n",
      " 0.000\t\t-0.325\n",
      " 0.000\t\t-0.000\n",
      " 0.331\t\t 0.000\n",
      " 0.331\t\t 0.325\n",
      " 0.331\t\t 0.614\n",
      " 0.331\t\t 0.837\n",
      " 0.331\t\t 0.969\n",
      " 0.331\t\t 0.997\n",
      " 0.331\t\t 0.916\n",
      " 0.331\t\t 0.736\n",
      " 0.331\t\t 0.476\n",
      " 0.331\t\t 0.165\n",
      " 0.331\t\t-0.165\n",
      " 0.331\t\t-0.476\n",
      " 0.331\t\t-0.736\n",
      " 0.331\t\t-0.916\n",
      " 0.331\t\t-0.997\n",
      " 0.331\t\t-0.969\n",
      " 0.331\t\t-0.837\n",
      " 0.331\t\t-0.614\n",
      " 0.331\t\t-0.325\n",
      " 0.331\t\t-0.000\n",
      " 0.661\t\t 0.000\n",
      " 0.661\t\t 0.325\n",
      " 0.661\t\t 0.614\n",
      " 0.661\t\t 0.837\n",
      " 0.661\t\t 0.969\n",
      " 0.661\t\t 0.997\n",
      " 0.661\t\t 0.916\n",
      " 0.661\t\t 0.736\n",
      " 0.661\t\t 0.476\n",
      " 0.661\t\t 0.165\n",
      " 0.661\t\t-0.165\n",
      " 0.661\t\t-0.476\n",
      " 0.661\t\t-0.736\n",
      " 0.661\t\t-0.916\n",
      " 0.661\t\t-0.997\n",
      " 0.661\t\t-0.969\n",
      " 0.661\t\t-0.837\n",
      " 0.661\t\t-0.614\n",
      " 0.661\t\t-0.325\n",
      " 0.661\t\t-0.000\n",
      " 0.992\t\t 0.000\n",
      " 0.992\t\t 0.325\n",
      " 0.992\t\t 0.614\n",
      " 0.992\t\t 0.837\n",
      " 0.992\t\t 0.969\n",
      " 0.992\t\t 0.997\n",
      " 0.992\t\t 0.916\n",
      " 0.992\t\t 0.736\n",
      " 0.992\t\t 0.476\n",
      " 0.992\t\t 0.165\n",
      " 0.992\t\t-0.165\n",
      " 0.992\t\t-0.476\n",
      " 0.992\t\t-0.736\n",
      " 0.992\t\t-0.916\n",
      " 0.992\t\t-0.997\n",
      " 0.992\t\t-0.969\n",
      " 0.992\t\t-0.837\n",
      " 0.992\t\t-0.614\n",
      " 0.992\t\t-0.325\n",
      " 0.992\t\t-0.000\n",
      " 1.323\t\t 0.000\n",
      " 1.323\t\t 0.325\n",
      " 1.323\t\t 0.614\n",
      " 1.323\t\t 0.837\n",
      " 1.323\t\t 0.969\n",
      " 1.323\t\t 0.997\n",
      " 1.323\t\t 0.916\n",
      " 1.323\t\t 0.736\n",
      " 1.323\t\t 0.476\n",
      " 1.323\t\t 0.165\n",
      " 1.323\t\t-0.165\n",
      " 1.323\t\t-0.476\n",
      " 1.323\t\t-0.736\n",
      " 1.323\t\t-0.916\n",
      " 1.323\t\t-0.997\n",
      " 1.323\t\t-0.969\n",
      " 1.323\t\t-0.837\n",
      " 1.323\t\t-0.614\n",
      " 1.323\t\t-0.325\n",
      " 1.323\t\t-0.000\n",
      " 1.653\t\t 0.000\n",
      " 1.653\t\t 0.325\n",
      " 1.653\t\t 0.614\n",
      " 1.653\t\t 0.837\n",
      " 1.653\t\t 0.969\n",
      " 1.653\t\t 0.997\n",
      " 1.653\t\t 0.916\n",
      " 1.653\t\t 0.736\n",
      " 1.653\t\t 0.476\n",
      " 1.653\t\t 0.165\n",
      " 1.653\t\t-0.165\n",
      " 1.653\t\t-0.476\n",
      " 1.653\t\t-0.736\n",
      " 1.653\t\t-0.916\n",
      " 1.653\t\t-0.997\n",
      " 1.653\t\t-0.969\n",
      " 1.653\t\t-0.837\n",
      " 1.653\t\t-0.614\n",
      " 1.653\t\t-0.325\n",
      " 1.653\t\t-0.000\n",
      " 1.984\t\t 0.000\n",
      " 1.984\t\t 0.325\n",
      " 1.984\t\t 0.614\n",
      " 1.984\t\t 0.837\n",
      " 1.984\t\t 0.969\n",
      " 1.984\t\t 0.997\n",
      " 1.984\t\t 0.916\n",
      " 1.984\t\t 0.736\n",
      " 1.984\t\t 0.476\n",
      " 1.984\t\t 0.165\n",
      " 1.984\t\t-0.165\n",
      " 1.984\t\t-0.476\n",
      " 1.984\t\t-0.736\n",
      " 1.984\t\t-0.916\n",
      " 1.984\t\t-0.997\n",
      " 1.984\t\t-0.969\n",
      " 1.984\t\t-0.837\n",
      " 1.984\t\t-0.614\n",
      " 1.984\t\t-0.325\n",
      " 1.984\t\t-0.000\n",
      " 2.315\t\t 0.000\n",
      " 2.315\t\t 0.325\n",
      " 2.315\t\t 0.614\n",
      " 2.315\t\t 0.837\n",
      " 2.315\t\t 0.969\n",
      " 2.315\t\t 0.997\n",
      " 2.315\t\t 0.916\n",
      " 2.315\t\t 0.736\n",
      " 2.315\t\t 0.476\n",
      " 2.315\t\t 0.165\n",
      " 2.315\t\t-0.165\n",
      " 2.315\t\t-0.476\n",
      " 2.315\t\t-0.736\n",
      " 2.315\t\t-0.916\n",
      " 2.315\t\t-0.997\n",
      " 2.315\t\t-0.969\n",
      " 2.315\t\t-0.837\n",
      " 2.315\t\t-0.614\n",
      " 2.315\t\t-0.325\n",
      " 2.315\t\t-0.000\n",
      " 2.646\t\t 0.000\n",
      " 2.646\t\t 0.325\n",
      " 2.646\t\t 0.614\n",
      " 2.646\t\t 0.837\n",
      " 2.646\t\t 0.969\n",
      " 2.646\t\t 0.997\n",
      " 2.646\t\t 0.916\n",
      " 2.646\t\t 0.736\n",
      " 2.646\t\t 0.476\n",
      " 2.646\t\t 0.165\n",
      " 2.646\t\t-0.165\n",
      " 2.646\t\t-0.476\n",
      " 2.646\t\t-0.736\n",
      " 2.646\t\t-0.916\n",
      " 2.646\t\t-0.997\n",
      " 2.646\t\t-0.969\n",
      " 2.646\t\t-0.837\n",
      " 2.646\t\t-0.614\n",
      " 2.646\t\t-0.325\n",
      " 2.646\t\t-0.000\n",
      " 2.976\t\t 0.000\n",
      " 2.976\t\t 0.325\n",
      " 2.976\t\t 0.614\n",
      " 2.976\t\t 0.837\n",
      " 2.976\t\t 0.969\n",
      " 2.976\t\t 0.997\n",
      " 2.976\t\t 0.916\n",
      " 2.976\t\t 0.736\n",
      " 2.976\t\t 0.476\n",
      " 2.976\t\t 0.165\n",
      " 2.976\t\t-0.165\n",
      " 2.976\t\t-0.476\n",
      " 2.976\t\t-0.736\n",
      " 2.976\t\t-0.916\n",
      " 2.976\t\t-0.997\n",
      " 2.976\t\t-0.969\n",
      " 2.976\t\t-0.837\n",
      " 2.976\t\t-0.614\n",
      " 2.976\t\t-0.325\n",
      " 2.976\t\t-0.000\n",
      " 3.307\t\t 0.000\n",
      " 3.307\t\t 0.325\n",
      " 3.307\t\t 0.614\n",
      " 3.307\t\t 0.837\n",
      " 3.307\t\t 0.969\n",
      " 3.307\t\t 0.997\n",
      " 3.307\t\t 0.916\n",
      " 3.307\t\t 0.736\n",
      " 3.307\t\t 0.476\n",
      " 3.307\t\t 0.165\n",
      " 3.307\t\t-0.165\n",
      " 3.307\t\t-0.476\n",
      " 3.307\t\t-0.736\n",
      " 3.307\t\t-0.916\n",
      " 3.307\t\t-0.997\n",
      " 3.307\t\t-0.969\n",
      " 3.307\t\t-0.837\n",
      " 3.307\t\t-0.614\n",
      " 3.307\t\t-0.325\n",
      " 3.307\t\t-0.000\n",
      " 3.638\t\t 0.000\n",
      " 3.638\t\t 0.325\n",
      " 3.638\t\t 0.614\n",
      " 3.638\t\t 0.837\n",
      " 3.638\t\t 0.969\n",
      " 3.638\t\t 0.997\n",
      " 3.638\t\t 0.916\n",
      " 3.638\t\t 0.736\n",
      " 3.638\t\t 0.476\n",
      " 3.638\t\t 0.165\n",
      " 3.638\t\t-0.165\n",
      " 3.638\t\t-0.476\n",
      " 3.638\t\t-0.736\n",
      " 3.638\t\t-0.916\n",
      " 3.638\t\t-0.997\n",
      " 3.638\t\t-0.969\n",
      " 3.638\t\t-0.837\n",
      " 3.638\t\t-0.614\n",
      " 3.638\t\t-0.325\n",
      " 3.638\t\t-0.000\n",
      " 3.968\t\t 0.000\n",
      " 3.968\t\t 0.325\n",
      " 3.968\t\t 0.614\n",
      " 3.968\t\t 0.837\n",
      " 3.968\t\t 0.969\n",
      " 3.968\t\t 0.997\n",
      " 3.968\t\t 0.916\n",
      " 3.968\t\t 0.736\n",
      " 3.968\t\t 0.476\n",
      " 3.968\t\t 0.165\n",
      " 3.968\t\t-0.165\n",
      " 3.968\t\t-0.476\n",
      " 3.968\t\t-0.736\n",
      " 3.968\t\t-0.916\n",
      " 3.968\t\t-0.997\n",
      " 3.968\t\t-0.969\n",
      " 3.968\t\t-0.837\n",
      " 3.968\t\t-0.614\n",
      " 3.968\t\t-0.325\n",
      " 3.968\t\t-0.000\n",
      " 4.299\t\t 0.000\n",
      " 4.299\t\t 0.325\n",
      " 4.299\t\t 0.614\n",
      " 4.299\t\t 0.837\n",
      " 4.299\t\t 0.969\n",
      " 4.299\t\t 0.997\n",
      " 4.299\t\t 0.916\n",
      " 4.299\t\t 0.736\n",
      " 4.299\t\t 0.476\n",
      " 4.299\t\t 0.165\n",
      " 4.299\t\t-0.165\n",
      " 4.299\t\t-0.476\n",
      " 4.299\t\t-0.736\n",
      " 4.299\t\t-0.916\n",
      " 4.299\t\t-0.997\n",
      " 4.299\t\t-0.969\n",
      " 4.299\t\t-0.837\n",
      " 4.299\t\t-0.614\n",
      " 4.299\t\t-0.325\n",
      " 4.299\t\t-0.000\n",
      " 4.630\t\t 0.000\n",
      " 4.630\t\t 0.325\n",
      " 4.630\t\t 0.614\n",
      " 4.630\t\t 0.837\n",
      " 4.630\t\t 0.969\n",
      " 4.630\t\t 0.997\n",
      " 4.630\t\t 0.916\n",
      " 4.630\t\t 0.736\n",
      " 4.630\t\t 0.476\n",
      " 4.630\t\t 0.165\n",
      " 4.630\t\t-0.165\n",
      " 4.630\t\t-0.476\n",
      " 4.630\t\t-0.736\n",
      " 4.630\t\t-0.916\n",
      " 4.630\t\t-0.997\n",
      " 4.630\t\t-0.969\n",
      " 4.630\t\t-0.837\n",
      " 4.630\t\t-0.614\n",
      " 4.630\t\t-0.325\n",
      " 4.630\t\t-0.000\n",
      " 4.960\t\t 0.000\n",
      " 4.960\t\t 0.325\n",
      " 4.960\t\t 0.614\n",
      " 4.960\t\t 0.837\n",
      " 4.960\t\t 0.969\n",
      " 4.960\t\t 0.997\n",
      " 4.960\t\t 0.916\n",
      " 4.960\t\t 0.736\n",
      " 4.960\t\t 0.476\n",
      " 4.960\t\t 0.165\n",
      " 4.960\t\t-0.165\n",
      " 4.960\t\t-0.476\n",
      " 4.960\t\t-0.736\n",
      " 4.960\t\t-0.916\n",
      " 4.960\t\t-0.997\n",
      " 4.960\t\t-0.969\n",
      " 4.960\t\t-0.837\n",
      " 4.960\t\t-0.614\n",
      " 4.960\t\t-0.325\n",
      " 4.960\t\t-0.000\n",
      " 5.291\t\t 0.000\n",
      " 5.291\t\t 0.325\n",
      " 5.291\t\t 0.614\n",
      " 5.291\t\t 0.837\n",
      " 5.291\t\t 0.969\n",
      " 5.291\t\t 0.997\n",
      " 5.291\t\t 0.916\n",
      " 5.291\t\t 0.736\n",
      " 5.291\t\t 0.476\n",
      " 5.291\t\t 0.165\n",
      " 5.291\t\t-0.165\n",
      " 5.291\t\t-0.476\n",
      " 5.291\t\t-0.736\n",
      " 5.291\t\t-0.916\n",
      " 5.291\t\t-0.997\n",
      " 5.291\t\t-0.969\n",
      " 5.291\t\t-0.837\n",
      " 5.291\t\t-0.614\n",
      " 5.291\t\t-0.325\n",
      " 5.291\t\t-0.000\n",
      " 5.622\t\t 0.000\n",
      " 5.622\t\t 0.325\n",
      " 5.622\t\t 0.614\n",
      " 5.622\t\t 0.837\n",
      " 5.622\t\t 0.969\n",
      " 5.622\t\t 0.997\n",
      " 5.622\t\t 0.916\n",
      " 5.622\t\t 0.736\n",
      " 5.622\t\t 0.476\n",
      " 5.622\t\t 0.165\n",
      " 5.622\t\t-0.165\n",
      " 5.622\t\t-0.476\n",
      " 5.622\t\t-0.736\n",
      " 5.622\t\t-0.916\n",
      " 5.622\t\t-0.997\n",
      " 5.622\t\t-0.969\n",
      " 5.622\t\t-0.837\n",
      " 5.622\t\t-0.614\n",
      " 5.622\t\t-0.325\n",
      " 5.622\t\t-0.000\n",
      " 5.952\t\t 0.000\n",
      " 5.952\t\t 0.325\n",
      " 5.952\t\t 0.614\n",
      " 5.952\t\t 0.837\n",
      " 5.952\t\t 0.969\n",
      " 5.952\t\t 0.997\n",
      " 5.952\t\t 0.916\n",
      " 5.952\t\t 0.736\n",
      " 5.952\t\t 0.476\n",
      " 5.952\t\t 0.165\n",
      " 5.952\t\t-0.165\n",
      " 5.952\t\t-0.476\n",
      " 5.952\t\t-0.736\n",
      " 5.952\t\t-0.916\n",
      " 5.952\t\t-0.997\n",
      " 5.952\t\t-0.969\n",
      " 5.952\t\t-0.837\n",
      " 5.952\t\t-0.614\n",
      " 5.952\t\t-0.325\n",
      " 5.952\t\t-0.000\n",
      " 6.283\t\t 0.000\n",
      " 6.283\t\t 0.325\n",
      " 6.283\t\t 0.614\n",
      " 6.283\t\t 0.837\n",
      " 6.283\t\t 0.969\n",
      " 6.283\t\t 0.997\n",
      " 6.283\t\t 0.916\n",
      " 6.283\t\t 0.736\n",
      " 6.283\t\t 0.476\n",
      " 6.283\t\t 0.165\n",
      " 6.283\t\t-0.165\n",
      " 6.283\t\t-0.476\n",
      " 6.283\t\t-0.736\n",
      " 6.283\t\t-0.916\n",
      " 6.283\t\t-0.997\n",
      " 6.283\t\t-0.969\n",
      " 6.283\t\t-0.837\n",
      " 6.283\t\t-0.614\n",
      " 6.283\t\t-0.325\n",
      " 6.283\t\t-0.000\n"
     ]
    }
   ],
   "source": [
    "for i in x:\n",
    "    for j in y:\n",
    "        print(f'{i: .3f}\\t\\t{j: .3f}')"
   ]
  },
  {
   "cell_type": "code",
   "execution_count": 49,
   "metadata": {},
   "outputs": [
    {
     "name": "stdout",
     "output_type": "stream",
     "text": [
      " 0.000\t\t 0.000\n",
      " 0.331\t\t 0.325\n",
      " 0.661\t\t 0.614\n",
      " 0.992\t\t 0.837\n",
      " 1.323\t\t 0.969\n",
      " 1.653\t\t 0.997\n",
      " 1.984\t\t 0.916\n",
      " 2.315\t\t 0.736\n",
      " 2.646\t\t 0.476\n",
      " 2.976\t\t 0.165\n",
      " 3.307\t\t-0.165\n",
      " 3.638\t\t-0.476\n",
      " 3.968\t\t-0.736\n",
      " 4.299\t\t-0.916\n",
      " 4.630\t\t-0.997\n",
      " 4.960\t\t-0.969\n",
      " 5.291\t\t-0.837\n",
      " 5.622\t\t-0.614\n",
      " 5.952\t\t-0.325\n",
      " 6.283\t\t-0.000\n"
     ]
    }
   ],
   "source": [
    "for i,j in zip(x,y):\n",
    "    print(f\"{i: .3f}\\t\\t{j: .3f}\")"
   ]
  },
  {
   "cell_type": "markdown",
   "metadata": {},
   "source": [
    "<div style=\"display: flex; justify-content: space-between;\">\n",
    "<div style=\"width: 48%; line-height: 1.5;\">\n",
    "\n",
    "When we plot functions, we connect these calculated points with straight lines. \n",
    "\n",
    "This creates a continuous curve that visually represents the function. \n",
    "\n",
    "**For now, use this snippet to plot a function as is. We'll soon dive deeper into how to create more refined and visually appealing plots.**\n",
    "        \n",
    "</div>\n",
    "<div style=\"width: 48%; line-height: 1.5;color: grey;\">\n",
    "\n",
    "Wenn wir Funktionen zeichnen, verbinden wir diese berechneten Punkte mit geraden Linien.\n",
    "\n",
    "So entsteht eine kontinuierliche Kurve, die die Funktion visuell darstellt.\n",
    "\n",
    "**Verwenden Sie dieses Snippet zunächst, um eine Funktion so darzustellen, wie sie ist. In Kürze werden wir uns eingehender mit der Erstellung verfeinerter und visuell ansprechender Diagramme befassen.**\n",
    "        \n",
    "</div>\n",
    "</div>"
   ]
  },
  {
   "cell_type": "code",
   "execution_count": 10,
   "metadata": {},
   "outputs": [
    {
     "data": {
      "image/png": "[encoded data removed]",
      "text/plain": [
       "<Figure size 500x400 with 1 Axes>"
      ]
     },
     "metadata": {},
     "output_type": "display_data"
    }
   ],
   "source": [
    "import matplotlib.pyplot as plt\n",
    "import seaborn as sns\n",
    "\n",
    "plt.figure(figsize=(5, 4))\n",
    "\n",
    "# Plot the sine function\n",
    "sns.lineplot(x=x, y=y, marker=\"o\")\n",
    "\n",
    "plt.xlabel(rf'$x$, rad')\n",
    "plt.ylabel(rf'$\\sin (x)$')\n",
    "\n",
    "plt.grid(True)\n",
    "plt.show()"
   ]
  },
  {
   "cell_type": "markdown",
   "metadata": {},
   "source": [
    "<div style=\"display: flex; justify-content: space-between;\">\n",
    "<div style=\"width: 48%; line-height: 1.5;\">\n",
    "\n",
    "The smoothness of the plot depends on how many points are in the array: the more points you have, the smoother the resulting curve.\n",
    "\n",
    "This can be easily verified with a graph, which also provides an opportunity to see how to plot multiple lines on the same graph:\n",
    "        \n",
    "</div>\n",
    "<div style=\"width: 48%; line-height: 1.5;color: grey;\">\n",
    "\n",
    "Die Glätte der Darstellung hängt davon ab, wie viele Punkte das Feld enthält: Je mehr Punkte Sie haben, desto glatter ist die resultierende Kurve.\n",
    "\n",
    "Dies lässt sich leicht anhand eines Diagramms überprüfen, das auch die Möglichkeit bietet zu sehen, wie man mehrere Linien in ein und dasselbe Diagramm einzeichnet:\n",
    "        \n",
    "</div>\n",
    "</div>"
   ]
  },
  {
   "cell_type": "code",
   "execution_count": null,
   "metadata": {},
   "outputs": [
    {
     "data": {
      "image/png": "[encoded data removed]",
      "text/plain": [
       "<Figure size 500x400 with 1 Axes>"
      ]
     },
     "metadata": {},
     "output_type": "display_data"
    }
   ],
   "source": [
    "import matplotlib.pyplot as plt\n",
    "import seaborn as sns\n",
    "\n",
    "plt.figure(figsize=(5, 4))\n",
    "\n",
    "sns.lineplot(x=np.linspace(0, 2*np.pi, 5), \n",
    "             y=np.sin(np.linspace(0, 2*np.pi, 5)),\n",
    "             label=\"5 points\")\n",
    "\n",
    "sns.lineplot(x=np.linspace(0, 2*np.pi, 10), \n",
    "             y=np.sin(np.linspace(0, 2*np.pi, 10)),\n",
    "             label=\"10 points\")\n",
    "\n",
    "sns.lineplot(x=np.linspace(0, 2*np.pi, 20), \n",
    "             y=np.sin(np.linspace(0, 2*np.pi, 20)),\n",
    "             label=\"20 points\")\n",
    "\n",
    "sns.lineplot(x=np.linspace(0, 2*np.pi, 50), \n",
    "             y=np.sin(np.linspace(0, 2*np.pi, 50)),\n",
    "             label=\"50 points\")\n",
    "\n",
    "plt.xlabel(rf'$x$, rad')\n",
    "plt.ylabel(rf'$\\sin (x)$')\n",
    "\n",
    "plt.legend()\n",
    "\n",
    "plt.grid(True)\n",
    "plt.show()"
   ]
  },
  {
   "cell_type": "code",
   "execution_count": 15,
   "metadata": {},
   "outputs": [
    {
     "data": {
      "image/png": "[encoded data removed]",
      "text/plain": [
       "<Figure size 700x600 with 4 Axes>"
      ]
     },
     "metadata": {},
     "output_type": "display_data"
    }
   ],
   "source": [
    "# Set up a 2x2 subplot grid\n",
    "fig, axs = plt.subplots(2, 2, figsize=(7, 6), sharex = True, sharey = True)\n",
    "\n",
    "# Sine function with different point densities\n",
    "x_5 = np.linspace(0, 2 * np.pi, 5)\n",
    "y_5 = np.sin(x_5)\n",
    "\n",
    "x_10 = np.linspace(0, 2 * np.pi, 10)\n",
    "y_10 = np.sin(x_10)\n",
    "\n",
    "x_20 = np.linspace(0, 2 * np.pi, 20)\n",
    "y_20 = np.sin(x_20)\n",
    "\n",
    "x_50 = np.linspace(0, 2 * np.pi, 50)\n",
    "y_50 = np.sin(x_50)\n",
    "\n",
    "# Plot 5 points\n",
    "sns.lineplot(x=x_5, y=y_5, ax=axs[0, 0], marker='o', c='b', label=\"5 points\")\n",
    "\n",
    "# Plot 10 points\n",
    "sns.lineplot(x=x_10, y=y_10, ax=axs[0, 1], marker='o', c='r',  label=\"10 points\")\n",
    "\n",
    "# Plot 20 points\n",
    "sns.lineplot(x=x_20, y=y_20, ax=axs[1, 0], marker='o', c='g',  label=\"20 points\")\n",
    "\n",
    "# Plot 50 points\n",
    "sns.lineplot(x=x_50, y=y_50, ax=axs[1, 1], marker='o', c='orange',  label=\"50 points\")\n",
    "\n",
    "\n",
    "for i in range(2):\n",
    "    axs[1, i].set_xlabel(rf'$x$, rad')\n",
    "\n",
    "for j in range(2):\n",
    "    axs[j, 0].set_ylabel(rf'$\\sin(x)$')\n",
    "\n",
    "\n",
    "for i in range(2):\n",
    "    for j in range(2):\n",
    "        axs[i, j].grid(True)\n",
    "\n",
    "# Adjust layout and show plot\n",
    "fig.tight_layout()\n",
    "plt.show()"
   ]
  },
  {
   "cell_type": "code",
   "execution_count": 21,
   "metadata": {},
   "outputs": [
    {
     "data": {
      "image/png": "[encoded data removed]",
      "text/plain": [
       "<Figure size 600x500 with 4 Axes>"
      ]
     },
     "metadata": {},
     "output_type": "display_data"
    }
   ],
   "source": [
    "fig, axs = plt.subplots(ncols=2, nrows=2, figsize=(6, 5), sharex = True, sharey = True)\n",
    "\n",
    "for row in range(2):\n",
    "    for col in range(2):\n",
    "        axs[row, col].annotate(f'axs[{row}, {col}]', (0.5, 0.5),\n",
    "                            transform=axs[row, col].transAxes,\n",
    "                            ha='center', va='center', fontsize=18,\n",
    "                            color='darkgrey')\n",
    "\n",
    "fig.tight_layout()\n",
    "plt.show()"
   ]
  },
  {
   "cell_type": "markdown",
   "metadata": {},
   "source": [
    "<div style=\"display: flex; justify-content: space-between;\">\n",
    "<div style=\"width: 48%; line-height: 1.5;\">\n",
    "\n",
    "### Interpolating Data Points\n",
    "\n",
    "There are cases where we do not have an analytical function to work with. Instead, we may only have discrete data points, such as measurements from an experiment. In these scenarios, we need to interpolate between the known data points.\n",
    "        \n",
    "</div>\n",
    "<div style=\"width: 48%; line-height: 1.5;color: grey;\">\n",
    "\n",
    "### Interpolieren von Datenpunkten\n",
    "\n",
    "Es gibt Fälle, in denen wir nicht mit einer analytischen Funktion arbeiten können. Stattdessen haben wir vielleicht nur diskrete Datenpunkte, wie z. B. Messungen aus einem Experiment. In diesen Fällen müssen wir zwischen den bekannten Datenpunkten interpolieren.\n",
    "        \n",
    "</div>\n",
    "</div>"
   ]
  },
  {
   "cell_type": "code",
   "execution_count": 31,
   "metadata": {},
   "outputs": [
    {
     "data": {
      "image/png": "[encoded data removed]",
      "text/plain": [
       "<Figure size 500x400 with 1 Axes>"
      ]
     },
     "metadata": {},
     "output_type": "display_data"
    }
   ],
   "source": [
    "plt.figure(figsize=(5, 4))\n",
    "\n",
    "x = np.array([0., 0.07142857, 0.14285714, 0.21428571, 0.28571429, 0.35714286, 0.42857143, 0.5])\n",
    "y = np.array([10., -1.9289848 , -6.77057646,  4.06165609,  3.5209599,  -4.41061795, -0.94431842,  3.67879441])\n",
    "\n",
    "sns.scatterplot(x=x, y=y, c='black', label = fr'data points')\n",
    "\n",
    "plt.show()"
   ]
  },
  {
   "cell_type": "markdown",
   "metadata": {},
   "source": [
    "<div style=\"display: flex; justify-content: space-between;\">\n",
    "<div style=\"width: 48%; line-height: 1.5;\">\n",
    "\n",
    "Scipy’s `interpolate` module is the go-to tool for this. It provides several methods for 1D interpolation (nearest-neighbor, linear, quadratic, cubic, ...), each suited for different types of data and precision requirements.\n",
    "\n",
    "The process of interpolation involves using an existing set of discrete data points and estimating intermediate values. \n",
    "\n",
    "To achieve this, we redefine the `x` array with more points within the same range as the original data. \n",
    "\n",
    "This new array (here called `x_interpol`) provides the input for the interpolation function, resulting in a smooth interpolation curve.\n",
    "        \n",
    "</div>\n",
    "<div style=\"width: 48%; line-height: 1.5;color: grey;\">\n",
    "\n",
    "Das Modul `interpolate` von Scipy ist das ideale Werkzeug für diese Aufgabe. Es bietet mehrere Methoden für die 1D-Interpolation (nächstgelegene Nachbarn, linear, quadratisch, kubisch, ...), die jeweils für unterschiedliche Datentypen und Genauigkeitsanforderungen geeignet sind. \n",
    "\n",
    "Bei der Interpolation wird ein vorhandener Satz diskreter Datenpunkte verwendet und die Zwischenwerte werden geschätzt.\n",
    "\n",
    "Zu diesem Zweck wird das Array `x` mit mehr Punkten innerhalb desselben Bereichs wie die ursprünglichen Daten neu definiert.\n",
    "\n",
    "Dieses neue Array (hier `x_interpol` genannt) dient als Eingabe für die Interpolationsfunktion, was zu einer glatten Interpolationskurve führt.\n",
    "        \n",
    "</div>\n",
    "</div>"
   ]
  },
  {
   "cell_type": "markdown",
   "metadata": {},
   "source": [
    "<div class=\"alert alert-warning alert-light\">\n",
    "\n",
    "<div style=\"display: flex; justify-content: space-between;\">\n",
    "<div style=\"width: 48%; line-height: 1.5;\">\n",
    "\n",
    "Sanity check: does everyone have `scipy`? If not:\n",
    "   \n",
    "```python\n",
    "! conda install scipy\n",
    "```\n",
    "\n",
    "</div>\n",
    "<div style=\"width: 48%; line-height: 1.5;color: grey;\">\n",
    "\n",
    "Kontrolle: Hat jeder `scipy`? Falls nicht:\n",
    "\n",
    "```python\n",
    "! conda install scipy\n",
    "```\n",
    "\n",
    "</div>\n",
    "</div>\n",
    "\n",
    "<div style=\"text-align: left;\">\n",
    "    <img src=\"https://numfocus.org/wp-content/uploads/2017/11/scipy_logo300x300.png\"; style=\"width: 100px;\">\n",
    "</div>\n"
   ]
  },
  {
   "cell_type": "code",
   "execution_count": 30,
   "metadata": {},
   "outputs": [
    {
     "data": {
      "image/png": "[encoded data removed]",
      "text/plain": [
       "<Figure size 500x400 with 1 Axes>"
      ]
     },
     "metadata": {},
     "output_type": "display_data"
    }
   ],
   "source": [
    "from scipy.interpolate import interp1d\n",
    "\n",
    "plt.figure(figsize=(5, 4))\n",
    "\n",
    "x = np.array([0., 0.07142857, 0.14285714, 0.21428571, 0.28571429, 0.35714286, 0.42857143, 0.5])\n",
    "y = np.array([10., -1.9289848 , -6.77057646,  4.06165609,  3.5209599,  -4.41061795, -0.94431842,  3.67879441])\n",
    "\n",
    "x_interpol = np.linspace(0, 0.5, 100)\n",
    "\n",
    "f_linear = interp1d(x, y)\n",
    "\n",
    "sns.scatterplot(x=x_interpol, y=f_linear(x_interpol), marker='.', label = fr'interpolated points (linear)')\n",
    "\n",
    "sns.scatterplot(x=x, y=y, c='black', label = fr'data points')\n",
    "\n",
    "plt.show()"
   ]
  },
  {
   "cell_type": "code",
   "execution_count": 28,
   "metadata": {},
   "outputs": [
    {
     "data": {
      "image/png": "[encoded data removed]",
      "text/plain": [
       "<Figure size 400x400 with 1 Axes>"
      ]
     },
     "metadata": {},
     "output_type": "display_data"
    }
   ],
   "source": [
    "from scipy.interpolate import interp1d\n",
    "\n",
    "plt.figure(figsize=(4, 4))\n",
    "\n",
    "x = np.array([0., 0.07142857, 0.14285714, 0.21428571, 0.28571429, 0.35714286, 0.42857143, 0.5])\n",
    "y = np.array([10., -1.9289848 , -6.77057646,  4.06165609,  3.5209599,  -4.41061795, -0.94431842,  3.67879441])\n",
    "\n",
    "x_interpol = np.linspace(0, 0.5, 100)\n",
    "\n",
    "f_nearest = interp1d(x, y, kind='nearest') \n",
    "f_linear = interp1d(x, y)\n",
    "f_quad = interp1d(x, y, kind='quadratic')\n",
    "f_cubic = interp1d(x, y, kind='cubic')\n",
    "\n",
    "sns.lineplot(x=x_interpol, y=f_nearest(x_interpol) , ls=':', label = fr'nearest')\n",
    "\n",
    "sns.lineplot(x=x_interpol, y=f_linear(x_interpol), ls='-.', label = fr'linear')\n",
    "\n",
    "sns.lineplot(x=x_interpol, y=f_quad(x_interpol), ls='--', label = fr'quadratic')\n",
    "\n",
    "sns.lineplot(x=x_interpol, y=f_cubic(x_interpol), ls='-', label = fr'cubic')\n",
    "\n",
    "sns.scatterplot(x=x, y=y, c='black', label = fr'data points')\n",
    "\n",
    "plt.show()"
   ]
  },
  {
   "cell_type": "code",
   "execution_count": 19,
   "metadata": {},
   "outputs": [
    {
     "data": {
      "image/png": "[encoded data removed]",
      "text/plain": [
       "<Figure size 700x600 with 4 Axes>"
      ]
     },
     "metadata": {},
     "output_type": "display_data"
    }
   ],
   "source": [
    "# Original data points\n",
    "x = np.array([0., 0.07142857, 0.14285714, 0.21428571, 0.28571429, 0.35714286, 0.42857143, 0.5])\n",
    "y = np.array([10., -1.9289848, -6.77057646, 4.06165609, 3.5209599, -4.41061795, -0.94431842, 3.67879441])\n",
    "x_interpol = np.linspace(0, 0.5, 100)\n",
    "\n",
    "# Interpolation functions\n",
    "f_nearest = interp1d(x, y, kind='nearest') \n",
    "f_linear = interp1d(x, y, kind='linear')\n",
    "f_quad = interp1d(x, y, kind='quadratic')\n",
    "f_cubic = interp1d(x, y, kind='cubic')\n",
    "\n",
    "# Set up a 2x2 subplot\n",
    "fig, axs = plt.subplots(2, 2, figsize=(7, 6), sharex = True, sharey = True)\n",
    "\n",
    "for i in range(2):\n",
    "    for j in range(2):\n",
    "        sns.scatterplot(x=x, y=y, color='black', ax=axs[i, j], label='data points', zorder=3)\n",
    "\n",
    "# Plot nearest interpolation\n",
    "sns.lineplot(x=x_interpol, y=f_nearest(x_interpol), ax=axs[0, 0], c=\"b\", label='nearest')\n",
    "\n",
    "# Plot linear interpolation\n",
    "sns.lineplot(x=x_interpol, y=f_linear(x_interpol), ax=axs[0, 1], c=\"r\", label='linear')\n",
    "\n",
    "# Plot quadratic interpolation\n",
    "sns.lineplot(x=x_interpol, y=f_quad(x_interpol), ax=axs[1, 0], c=\"g\", label='quadratic')\n",
    "\n",
    "# Plot cubic interpolation\n",
    "sns.lineplot(x=x_interpol, y=f_cubic(x_interpol), ax=axs[1, 1], c=\"orange\", label='cubic')\n",
    "\n",
    "# Adjust layout and show plot\n",
    "fig.tight_layout()\n",
    "plt.show()"
   ]
  },
  {
   "cell_type": "markdown",
   "metadata": {},
   "source": [
    "<div style=\"display: flex; justify-content: space-between;\">\n",
    "<div style=\"width: 48%; line-height: 1.5;\">\n",
    "\n",
    "**Note:**\n",
    "\n",
    "Higher-degree polynomial fitting can be achieved through other methods (`UnivariateSpline`, `polyfit`), especially for complex data that needs a custom polynomial fit.\n",
    "        \n",
    "</div>\n",
    "<div style=\"width: 48%; line-height: 1.5;color: grey;\">\n",
    "\n",
    "**Anmerkung:**\n",
    "\n",
    "Polynomielle Anpassungen höheren Grades können durch andere Methoden (`UnivariateSpline`, `polyfit`) erreicht werden, insbesondere für komplexe Daten, die eine benutzerdefinierte polynomielle Anpassung benötigen.\n",
    "        \n",
    "</div>\n",
    "</div>"
   ]
  },
  {
   "cell_type": "markdown",
   "metadata": {},
   "source": [
    "<div style=\"display: flex; justify-content: space-between;\">\n",
    "<div style=\"width: 48%; line-height: 1.5;\">\n",
    "\n",
    "### Fitting Data Points\n",
    "\n",
    "Interpolation connects all provided data points with smooth lines, but: \n",
    "\n",
    "- it is limited to the data range (we cannot extrapolate), \n",
    "\n",
    "- it does not reveal the underlying mathematical relationship between the independent and dependent variables. \n",
    "\n",
    "Often, however, we want to model the data to understand the underlying phenomena and make predictions outside the given range. \n",
    "\n",
    "In this case, we use **fitting**, where we find a function that best captures the overall trend of the data. \n",
    "        \n",
    "</div>\n",
    "<div style=\"width: 48%; line-height: 1.5;color: grey;\">\n",
    "\n",
    "### Anpassung Datenpunkte (Fitting)\n",
    "\n",
    "Die Interpolation verbindet alle bereitgestellten Datenpunkte mit glatten Linien, aber:\n",
    "\n",
    "- sie ist auf den Datenbereich beschränkt (wir können nicht extrapolieren),\n",
    "\n",
    "- sie offenbart nicht die zugrunde liegende mathematische Beziehung zwischen den unabhängigen und abhängigen Variablen.\n",
    "\n",
    "Häufig möchten wir jedoch die Daten modellieren, um die zugrunde liegenden Phänomene zu verstehen und Vorhersagen außerhalb des vorgegebenen Bereichs zu treffen.\n",
    "\n",
    "In diesem Fall verwenden wir die **Anpassung**, bei der wir eine Funktion finden, die den Gesamttrend der Daten am besten wiedergibt.\n",
    "        \n",
    "</div>\n",
    "</div>"
   ]
  },
  {
   "cell_type": "markdown",
   "metadata": {},
   "source": [
    "<div style=\"display: flex; justify-content: space-between;\">\n",
    "<div style=\"width: 48%; line-height: 1.5;\">\n",
    "\n",
    "**A fitted model may not pass through every data point but is optimized to minimize the overall error**, representing the trend as accurately as possible.\n",
    "\n",
    "In many cases, we do need to specify a function or model that defines the relationship we expect between the independent and dependent variables.\n",
    "(In other fitting approaches, such as machine learning, the function or model can be determined from the data itself, without a manually specified function.)\n",
    "        \n",
    "</div>\n",
    "<div style=\"width: 48%; line-height: 1.5;color: grey;\">\n",
    "\n",
    "**Ein angepasstes Modell geht möglicherweise nicht durch jeden Datenpunkt, wird aber so optimiert, dass der Gesamtfehler minimiert wird** und der Trend so genau wie möglich dargestellt wird.\n",
    "\n",
    "In vielen Fällen müssen wir eine Funktion oder ein Modell spezifizieren, das die Beziehung definiert, die wir zwischen den unabhängigen und abhängigen Variablen erwarten.\n",
    "(Bei anderen Anpassungsansätzen, wie z. B. dem maschinellen Lernen, kann die Funktion oder das Modell aus den Daten selbst bestimmt werden, ohne dass eine manuell festgelegte Funktion erforderlich ist).\n",
    "        \n",
    "</div>\n",
    "</div>"
   ]
  },
  {
   "cell_type": "markdown",
   "metadata": {},
   "source": [
    "### Difference Between a Fit and an Interpolation:\n",
    "\n",
    "1. **Definition**:\n",
    "   - **Interpolation**: This is the process of estimating unknown values that fall within the range of known data points. It assumes that the function passing through the data points is a good representation of the data between those points.\n",
    "   - **Fit (Curve Fitting)**: This involves finding a function that best represents the overall trend of the data. It does not necessarily pass through all the data points but minimizes the overall error between the function and the data.\n",
    "\n",
    "2. **Use Cases**:\n",
    "   - **Interpolation**:\n",
    "     - **Use Case**: When you have a set of discrete data points and need to estimate values within the range of those data points (e.g., filling in missing values in a dataset or generating a smooth curve between known points).\n",
    "     - **Example**: Estimating temperature at specific times given hourly temperature readings.\n",
    "   - **Fit (Curve Fitting)**:\n",
    "     - **Use Case**: When you want to model the underlying trend of the data, even beyond the range of the data points, and understand the general behavior or make predictions (e.g., fitting a linear or polynomial model to experimental data).\n",
    "     - **Example**: Fitting a polynomial curve to noisy experimental data to identify a general trend or predict future behavior.\n",
    "\n",
    "3. **Characteristics**:\n",
    "   - **Interpolation**:\n",
    "     - It passes through all the given data points.\n",
    "     - Useful for precise value estimation within the data range.\n",
    "   - **Fit**:\n",
    "     - May not pass through all the data points but provides the best approximation of the data trend.\n",
    "     - Useful for understanding relationships and predicting outcomes outside the given data range.\n",
    "\n",
    "### Visual Illustration:\n",
    "- **Interpolation**: Connects the dots between data points smoothly (e.g., linear, spline interpolation).\n",
    "- **Fit**: Uses a model (e.g., linear regression, polynomial regression) that may pass near but not through the points, aiming to minimize error.\n",
    "\n",
    "### Summary:\n",
    "- **Interpolation** is ideal for finding unknown values within the existing range of data points.\n",
    "- **Curve fitting** is used for understanding trends and making predictions, even beyond the available data."
   ]
  },
  {
   "cell_type": "markdown",
   "metadata": {},
   "source": [
    "<div class=\"alert alert-block alert-light\">\n",
    "\n",
    "<div style=\"display: flex; justify-content: space-between;\">\n",
    "<div style=\"width: 48%; line-height: 1.5;\">\n",
    "\n",
    "#### Exercise\n",
    " \n",
    "The Lennard-Jones potential is an intermolecular pair potential. \n",
    "\n",
    "This simplified model describes the essential features of interactions between simple atoms and molecules where van der Waals forces dominate: Two interacting particles repel each other at very close distance, attract each other at moderate distance, and eventually stop interacting at infinite distance.\n",
    "\n",
    "The Lennard-Jones potential is given by the formula:\n",
    "        \n",
    "</div>\n",
    "<div style=\"width: 48%; line-height: 1.5;color: grey;\">\n",
    "\n",
    "#### Übung\n",
    " \n",
    "Das Lennard-Jones-Potenzial ist ein intermolekulares Paarpotenzial. \n",
    "\n",
    "Dieses vereinfachte Modell beschreibt die wesentlichen Merkmale der Wechselwirkungen zwischen einfachen Atomen und Molekülen, bei denen die van-der-Waals-Kräfte dominieren: Zwei wechselwirkende Teilchen stoßen sich bei sehr geringem Abstand ab, ziehen sich bei mittlerem Abstand an und hören schließlich bei unendlichem Abstand auf, miteinander zu wechselwirken.\n",
    "\n",
    "Das Lennard-Jones-Potenzial wird durch die folgende Formel beschrieben:\n",
    "        \n",
    "</div>\n",
    "</div>\n",
    "<div style=\"text-align: center; margin-top: 20px;\">\n",
    "\n",
    "$$\n",
    "V(r) = 4\\varepsilon \\left[ \\left(\\frac{\\sigma}{r}\\right)^{12} - \\left(\\frac{\\sigma}{r}\\right)^{6} \\right],\n",
    "$$\n",
    "</div>\n",
    "<div style=\"display: flex; justify-content: space-between;\">\n",
    "<div style=\"width: 48%; line-height: 1.5;\">\n",
    "where:\n",
    "\n",
    "- $r$ is the distance between the two atoms.\n",
    "\n",
    "- $\\varepsilon$ is the depth of the potential well (indicating how strongly the two particles attract each other).\n",
    "\n",
    "- $\\sigma$ is the distance at which the potential is zero.\n",
    "        \n",
    "1. Define a function `lennard_jones` that takes as arguments `r`, `epsilon` and `sigma`.\n",
    "\n",
    "2. Create an array of interatomic distances (`r`) from $1.0$ to $2.0$ (included!) with a step size of $0.025$.\n",
    "\n",
    "3. Calculate the Lennard-Jones potential (`V`) by evaluating the function `lennard_jones`. For simplicity, use `epsilon` = `sigma` = `1.0`.\n",
    "\n",
    "4. Execute the provided snippet that plots the potential $V(r)$ as a function of $r$. \n",
    "\n",
    "</div>\n",
    "<div style=\"width: 48%; line-height: 1.5;color: grey;\">\n",
    "wobei:\n",
    "\n",
    "- $r$ ist der Abstand zwischen den beiden Atomen.\n",
    "\n",
    "- $\\varepsilon$ ist die Tiefe des Potentialtopfes (gibt an, wie stark sich die beiden Teilchen gegenseitig anziehen).\n",
    "\n",
    "- $\\sigma$ ist der Abstand, bei dem das Potenzial null ist.\n",
    "        \n",
    "1. Definieren Sie eine Funktion `lennard_jones`, die als Argumente `r`, `epsilon` und `sigma` annimmt.\n",
    "\n",
    "2. Erstellen Sie ein Array von interatomaren Abständen (`r`) von $1.0$ bis $2.0$ (inklusive!) mit einer Schrittweite von $0.025$.\n",
    "\n",
    "3. Berechnen Sie das Lennard-Jones-Potential (`V`) durch Auswertung der Funktion `lennard_jones`. Verwenden Sie der Einfachheit halber `epsilon` = `sigma` = `1.0`.\n",
    "\n",
    "4. Führen Sie das bereitgestellte Snippet aus, das das Potential $V(r)$ als Funktion von $r$ aufzeichnet.\n",
    "\n",
    "</div>\n",
    "</div>"
   ]
  },
  {
   "cell_type": "code",
   "execution_count": null,
   "metadata": {},
   "outputs": [],
   "source": [
    "countdown_timer(15)"
   ]
  },
  {
   "cell_type": "code",
   "execution_count": 1,
   "metadata": {},
   "outputs": [],
   "source": [
    "# Define the Lennard-Jones potential function\n",
    "def lennard_jones(r, epsilon, sigma):\n",
    "    return 4 * epsilon * ((sigma / r) ** 12 - (sigma / r) ** 6)"
   ]
  },
  {
   "cell_type": "code",
   "execution_count": 5,
   "metadata": {},
   "outputs": [],
   "source": [
    "import numpy as np\n",
    "\n",
    "r = np.arange(1, 2.02, 0.025)\n",
    "\n",
    "# Calculate the Lennard-Jones potential for each value of r using vectorized operations\n",
    "V = lennard_jones(r, 1.0, 1.0)"
   ]
  },
  {
   "cell_type": "code",
   "execution_count": 6,
   "metadata": {},
   "outputs": [
    {
     "data": {
      "image/png": "[encoded data removed]",
      "text/plain": [
       "<Figure size 500x400 with 1 Axes>"
      ]
     },
     "metadata": {},
     "output_type": "display_data"
    }
   ],
   "source": [
    "plt.figure(figsize=(5, 4))\n",
    "\n",
    "sns.lineplot(x=r, y=V, marker=\"o\")\n",
    "\n",
    "plt.grid()\n",
    "\n",
    "plt.xlabel('Interatomic Distance (r)')\n",
    "plt.ylabel('Potential Energy V(r)')\n",
    "\n",
    "plt.show()"
   ]
  },
  {
   "cell_type": "markdown",
   "metadata": {},
   "source": [
    "#### remove for the students"
   ]
  },
  {
   "cell_type": "raw",
   "metadata": {
    "vscode": {
     "languageId": "raw"
    }
   },
   "source": [
    "import numpy as np\n",
    "\n",
    "epsilon = 1.0  # Depth of the potential well\n",
    "sigma = 1.0    # Distance at which the potential is zero\n",
    "\n",
    "r = np.arange(1, 2.02, 0.075)\n",
    "\n",
    "# Calculate the Lennard-Jones potential for each value of r using vectorized operations\n",
    "V = 4 * epsilon * ((sigma / r)**12 - (sigma / r)**6)"
   ]
  },
  {
   "cell_type": "raw",
   "metadata": {
    "vscode": {
     "languageId": "raw"
    }
   },
   "source": [
    "print(r)\n",
    "print(V)"
   ]
  },
  {
   "cell_type": "raw",
   "metadata": {
    "vscode": {
     "languageId": "raw"
    }
   },
   "source": [
    "import numpy as np\n",
    "\n",
    "# Original data\n",
    "x_orig = np.array([1.0, 1.075, 1.15, 1.225, 1.3, 1.375, 1.45, 1.525, 1.6, 1.675, 1.75, 1.825, 1.9, 1.975])\n",
    "y_orig = np.array([0.0, -0.91242956, -0.98168178, -0.83341559, -0.65701691, -0.50430924,\n",
    "                   -0.38407318, -0.2927275, -0.22420772, -0.17292067, -0.13441325,\n",
    "                   -0.10533342, -0.08321614, -0.06626393])\n",
    "\n",
    "# Add noise\n",
    "np.random.seed(0)  # For reproducibility\n",
    "x_data = x_orig * (1 + np.random.uniform(-0.05, 0.05, x_orig.shape))\n",
    "y_data = y_orig * (1 + np.random.uniform(-0.05, 0.05, y_orig.shape))\n",
    "\n",
    "# Display the noisy data\n",
    "print(\"Noisy x_data:\", x_data)\n",
    "print(\"Noisy y_data:\", y_data)"
   ]
  },
  {
   "cell_type": "raw",
   "metadata": {
    "vscode": {
     "languageId": "raw"
    }
   },
   "source": [
    "y_data"
   ]
  },
  {
   "cell_type": "markdown",
   "metadata": {},
   "source": [
    "### for the students\n",
    "#### read and plot the data points"
   ]
  },
  {
   "cell_type": "code",
   "execution_count": 32,
   "metadata": {},
   "outputs": [
    {
     "data": {
      "image/png": "[encoded data removed]",
      "text/plain": [
       "<Figure size 500x400 with 1 Axes>"
      ]
     },
     "metadata": {},
     "output_type": "display_data"
    }
   ],
   "source": [
    "plt.figure(figsize=(5, 4))\n",
    "\n",
    "x_data = np.array([1.00488135, 1.09813286, 1.16181779, 1.23049819, 1.29007512,\n",
    "                   1.39506044, 1.44095015, 1.58474538, 1.67418604, 1.65547645,\n",
    "                   1.80105188, 1.83027332, 1.91292847, 2.05905534])\n",
    "\n",
    "y_data = np.array([ 0.        , -0.87475802, -0.93458249, -0.86113665, -0.67529228,\n",
    "                   -0.52296929, -0.40245563, -0.30148469, -0.22334406, -0.1777716 ,\n",
    "                   -0.12928235, -0.10680726, -0.08024826, -0.06921048])\n",
    "\n",
    "sns.scatterplot(x = x_data, y = y_data, c='black', label = fr'data points')\n",
    "\n",
    "plt.xlabel('Interatomic Distance (r)')\n",
    "plt.ylabel('Potential Energy V(r)')\n",
    "\n",
    "plt.show()"
   ]
  },
  {
   "cell_type": "markdown",
   "metadata": {},
   "source": [
    "#### define model function"
   ]
  },
  {
   "cell_type": "code",
   "execution_count": 33,
   "metadata": {},
   "outputs": [],
   "source": [
    "# Define the Lennard-Jones potential function\n",
    "def lennard_jones(r, epsilon, sigma):\n",
    "    return 4 * epsilon * ((sigma / r) ** 12 - (sigma / r) ** 6)"
   ]
  },
  {
   "cell_type": "markdown",
   "metadata": {},
   "source": [
    "#### perform the fit"
   ]
  },
  {
   "cell_type": "code",
   "execution_count": 34,
   "metadata": {},
   "outputs": [
    {
     "name": "stdout",
     "output_type": "stream",
     "text": [
      "Fitted epsilon:\t0.9762\n",
      "Fitted sigma:\t1.0058\n",
      "R^2:\t\t0.9881\n"
     ]
    }
   ],
   "source": [
    "from scipy.optimize import curve_fit\n",
    "from sklearn.metrics import r2_score\n",
    "\n",
    "# Step 1: Define initial guesses for the parameters to guide the curve fitting process\n",
    "initial_guess = [2, 2] \n",
    "\n",
    "# Step 2: Fit the Lennard-Jones function to the data\n",
    "# The curve_fit function returns the optimal parameters (params) and the covariance of the parameters\n",
    "params, covariance = curve_fit(lennard_jones, x_data, y_data, p0=initial_guess)\n",
    "epsilon, sigma = params  # Unpack the fitted parameters for clarity\n",
    "\n",
    "# Step 3: Calculate fitted values using the model and fitted parameters\n",
    "y_fit = lennard_jones(x_data, epsilon, sigma)\n",
    "\n",
    "# Step 4: Calculate the R^2 (coefficient of determination) value to evaluate the quality of the fit\n",
    "R_squared = r2_score(y_data, y_fit)\n",
    "\n",
    "# Step 5: Print the fitted parameters and the R^2 score\n",
    "print(f\"Fitted epsilon:\\t{epsilon:.4f}\")  \n",
    "print(f\"Fitted sigma:\\t{sigma:.4f}\")    \n",
    "print(f\"R^2:\\t\\t{R_squared:.4f}\")       "
   ]
  },
  {
   "cell_type": "markdown",
   "metadata": {},
   "source": [
    "#### plot the data points together with the fitted curve\n",
    "plotting the fitted curve like we did an analytical function"
   ]
  },
  {
   "cell_type": "code",
   "execution_count": 35,
   "metadata": {},
   "outputs": [
    {
     "data": {
      "image/png": "[encoded data removed]",
      "text/plain": [
       "<Figure size 500x400 with 1 Axes>"
      ]
     },
     "metadata": {},
     "output_type": "display_data"
    }
   ],
   "source": [
    "# Create a fine array of interatomic distances\n",
    "r = np.arange(1, 2.1, 0.01)\n",
    "\n",
    "# Calculate the Lennard-Jones potential for each value of r using vectorized operations\n",
    "V = lennard_jones(r, epsilon, sigma)\n",
    "\n",
    "\n",
    "# Plotting the Lennard-Jones potential with seaborn\n",
    "plt.figure(figsize=(5, 4))\n",
    "\n",
    "sns.scatterplot(x = x_data, y = y_data, c='black', label = fr'data points', zorder=3)\n",
    "sns.lineplot(x=r, y=V, c='purple', label=rf'fitted Lennard-Jones')\n",
    "\n",
    "# Labels\n",
    "plt.xlabel('Interatomic Distance (r)')\n",
    "plt.ylabel('Potential Energy V(r)')\n",
    "\n",
    "# Show plot\n",
    "plt.show()"
   ]
  },
  {
   "cell_type": "code",
   "execution_count": 26,
   "metadata": {},
   "outputs": [
    {
     "name": "stdout",
     "output_type": "stream",
     "text": [
      "Parameter  Value     \n",
      "--------------------\n",
      "a          3.17\n",
      "b          0.44\n",
      "c          3.04\n",
      "--------------------\n",
      "R²         0.9915\n"
     ]
    },
    {
     "data": {
      "image/png": "[encoded data removed]",
      "text/plain": [
       "<Figure size 500x500 with 1 Axes>"
      ]
     },
     "metadata": {},
     "output_type": "display_data"
    }
   ],
   "source": [
    "# Generate example data\n",
    "x_data = np.linspace(0, 10, 50)\n",
    "y_data = 3 * x_data**2 + 2 * x_data + 1 + np.random.normal(0, 10, size=x_data.shape)\n",
    "\n",
    "\n",
    "# Define quadratic function and fit\n",
    "def quadratic(x, a, b, c): return a * x**2 + b * x + c\n",
    "params, covariance = curve_fit(quadratic, x_data, y_data)\n",
    "y_fit = quadratic(x_data, *params)\n",
    "r_squared = r2_score(y_data, y_fit)\n",
    "\n",
    "\n",
    "# Extract fitted parameters\n",
    "a, b, c = params\n",
    "\n",
    "# Print results in a formatted table\n",
    "print(f\"{'Parameter':<10} {'Value':<10}\\n{'-'*20}\")\n",
    "print(f\"a          {a:.2f}\\nb          {b:.2f}\\nc          {c:.2f}\\n{'-'*20}\\nR²         {r_squared:.4f}\")\n",
    "\n",
    "\n",
    "# Plot using Seaborn with formatted label for the fitted curve\n",
    "plt.figure(figsize=(5, 5))\n",
    "\n",
    "sns.scatterplot(x=x_data, y=y_data, color='blue', label='Data', zorder=3)\n",
    "\n",
    "sns.lineplot(x=x_data, y=y_fit, color='red',\n",
    "             label=rf'Fitted Curve: $\\mathrm{{y = {a:.2f}x^2 + {b:.2f}x + {c:.2f}}}$')\n",
    "\n",
    "plt.xlabel(r'Time (s)'), plt.ylabel(r'Displacement (m)')\n",
    "\n",
    "plt.legend()\n",
    "plt.grid(True) \n",
    "plt.show()"
   ]
  },
  {
   "cell_type": "markdown",
   "metadata": {},
   "source": [
    "**note to self**\n",
    "\n",
    "`curve_fit` returns two values:\n",
    "\n",
    "The first value (`params` in this case) contains the fitted parameters (e.g., coefficients of the quadratic function).\n",
    "\n",
    "The second value (assigned to `_`) is the covariance matrix of the parameters, which provides information about the uncertainties and correlations between the fitted parameters."
   ]
  },
  {
   "cell_type": "code",
   "execution_count": null,
   "metadata": {},
   "outputs": [],
   "source": []
  },
  {
   "cell_type": "markdown",
   "metadata": {},
   "source": [
    "<div class=\"alert alert-block alert-light\">\n",
    "\n",
    "<div style=\"display: flex; justify-content: space-between;\">\n",
    "<div style=\"width: 48%; line-height: 1.5;\">\n",
    "\n",
    "#### Exercise \n",
    "\n",
    "The ticker timer, much used in school physics experiments, is a device that marks dots on a strip of paper tape at evenly-spaced intervals of time as the tape moves through it at some (possibly variable) speed. \n",
    "\n",
    "The following data relate to the positions (in cm) of marks on a tape pulled through a ticker timer by a falling weight. The marks are made every 1/10 sec.\n",
    "\n",
    "Fit these data to the function $x = x_0 + v_0 t + \\frac{1}{2} g t^2$ and determine the initial position ($x_0$) and initial velocity ($v_0$) from the data and an approximate value for the acceleration due to gravity, $g$.\n",
    "\n",
    "</div>\n",
    "<div style=\"width: 48%; line-height: 1.5;color: grey;\">\n",
    "\n",
    "#### Übung\n",
    "\n",
    "Die in physikalischen Schulexperimenten häufig verwendete Zeitschaltuhr ist ein Gerät, das Punkte auf einem Papierstreifen in gleichmäßigen Zeitabständen markiert, während sich der Streifen mit einer bestimmten (möglicherweise variablen) Geschwindigkeit durch das Gerät bewegt. Die folgenden Daten beziehen sich auf die Positionen (in cm) der Markierungen auf einem Band, das von einem fallenden Gewicht durch eine Zeitschaltuhr gezogen wird. Die Markierungen werden alle 1/10 Sekunde gesetzt.\n",
    "\n",
    "Passen Sie diese Daten an die Funktion $x = x_0 + v_0 t + \\frac{1}{2} g t^2$ an und bestimmen Sie aus den Daten die Anfangslage ($x_0$) und die Anfangsgeschwindigkeit ($v_0$) sowie einen Näherungswert für die Erdbeschleunigung $g$.\n",
    "\n",
    "</div>\n",
    "</div>\n",
    "\n",
    "```python\n",
    "x = [1.3, 6.0, 20.2, 43.9, 77.0, 119.6, 171.7, 233.2, 304.2, 384.7, 474.7, \n",
    "     574.1, 683.0, 801.3, 929.2, 1066.4, 1213.2, 1369.4, 1535.1, 1710.3, 1894.9]\n",
    "```"
   ]
  },
  {
   "cell_type": "code",
   "execution_count": null,
   "metadata": {},
   "outputs": [
    {
     "data": {
      "image/png": "[encoded data removed]",
      "text/plain": [
       "<Figure size 500x500 with 1 Axes>"
      ]
     },
     "metadata": {},
     "output_type": "display_data"
    },
    {
     "name": "stdout",
     "output_type": "stream",
     "text": [
      "x0:\t 0.0128 m\n",
      "y0:\t-0.0004 m\n",
      "g:\t 9.4686 m/s2\n",
      "R2:\t-21479.5656\n"
     ]
    }
   ],
   "source": [
    "import numpy as np\n",
    "from scipy.optimize import curve_fit\n",
    "import matplotlib.pyplot as plt\n",
    "\n",
    "# Data: positions (in m) recorded every 1/10 second\n",
    "time_intervals = np.arange(0, 2.1, 0.1)                                                             # Time in seconds\n",
    "positions = np.array([1.3, 6.0, 20.2, 43.9, 77.0, 119.6, 171.7, 233.2, 304.2, 384.7, 474.7, \n",
    "     574.1, 683.0, 801.3, 929.2, 1066.4, 1213.2, 1369.4, 1535.1, 1710.3, 1894.9]) / 100             # Positions in m\n",
    "\n",
    "# Equation of motion: x = x0 + v0 * t + 0.5 * g * t^2\n",
    "def motion_equation(t, x0, v0, g):\n",
    "    return (x0 + v0 * t + 0.5 * g * t**2) \n",
    "\n",
    "# Perform the curve fit\n",
    "initial_guess = [0, 0, 9.8]  # Initial guesses for x0, v0, and g (cm/s^2)\n",
    "params, covariance = curve_fit(motion_equation, time_intervals, positions, p0=initial_guess)\n",
    "\n",
    "# Extract the fitted parameters\n",
    "x0_fit, v0_fit, g_fit = params\n",
    "r_squared = r2_score(positions, fitted_positions)\n",
    "\n",
    "# Generate fitted positions for plotting\n",
    "fitted_positions = motion_equation(time_intervals, x0_fit, v0_fit, g_fit)\n",
    "\n",
    "# Plot the original data and the fitted curve\n",
    "plt.figure(figsize=(5, 5))\n",
    "\n",
    "plt.scatter(time_intervals, positions, color=\"red\", label=\"Data (Measured Positions)\", zorder=3)\n",
    "plt.plot(time_intervals, fitted_positions, label=\"Fitted Curve\", color=\"blue\", linestyle=\"--\")\n",
    "\n",
    "plt.xlabel(\"Time (s)\")\n",
    "plt.ylabel(\"Position (cm)\")\n",
    "\n",
    "plt.title(\"Fitting Motion Data to Extract Parameters\")\n",
    "\n",
    "plt.legend()\n",
    "plt.grid(True)\n",
    "plt.show()\n",
    "\n",
    "# Display the fitted parameters\n",
    "print(f'x0:\\t{x0_fit: .4f} m\\ny0:\\t{v0_fit: .4f} m\\ng:\\t{g_fit: .4f} m/s2\\nR2:\\t{r_squared: .4f}')"
   ]
  },
  {
   "cell_type": "markdown",
   "metadata": {},
   "source": [
    "<div class=\"alert alert-block alert-light\">\n",
    "\n",
    "<div style=\"display: flex; justify-content: space-between;\">\n",
    "<div style=\"width: 48%; line-height: 1.5;\">\n",
    "\n",
    "#### Exercise \n",
    "\n",
    "Calculate the vertical position $y$ of an object undergoing projectile motion, given that it is launched at ground level ($y_0 = 0$), at an angle of $70^{\\circ}$, that the vertical component of acceleration $g = -9.81\\,\\mathrm{m/s^2}$, and that it is launched with a speed of $v_0 = 37\\,\\mathrm{m/s}$. Use time $t$ as the input variable, and recall that:\n",
    "</div>\n",
    "<div style=\"width: 48%; line-height: 1.5;color: grey;\">\n",
    "\n",
    "#### Übung\n",
    "\n",
    "Berechnen Sie die vertikale Position $y$ eines Objekts, das eine Projektilbewegung durchläuft, unter der Voraussetzung, dass es in Bodennähe ($y_0 = 0$) unter einem Winkel von $70^{\\circ}$ abgeschossen wird, dass die vertikale Komponente der Beschleunigung $g = -9.81\\,\\mathrm{m/s^2}$ ist und dass es mit einer Geschwindigkeit von $v_0 = 37\\,\\mathrm{m/s}$ abgeschossen wird. Verwenden Sie die Zeit $t$ als Eingangsvariable und erinnern Sie sich, dass:\n",
    "</div>\n",
    "</div>\n",
    "<div style=\"text-align: center; margin-top: 20px;\">\n",
    "\n",
    "$$y=y_{0} + v_{0}\\sin(\\theta)t + \\frac{1}{2} g t^{2}$$ \n",
    "</div>\n",
    "<div style=\"display: flex; justify-content: space-between;\">\n",
    "<div style=\"width: 48%; line-height: 1.5;\">\n",
    "\n",
    "- Define all relevant variables: `y_0, v_0, g, theta`.\n",
    "\n",
    "- Calculate the time it takes for the projectile to hit the ground by finding the roots of the equation when $y = 0$. Ensure angles are expressed in radians, not degrees.\n",
    "\n",
    "- Use NumPy to create an array `time` of 100 equally spaced time values between the two roots you just calculated.\n",
    "</div>\n",
    "<div style=\"width: 48%; line-height: 1.5;color: grey;\">\n",
    "\n",
    "- Definieren Sie alle relevanten Variablen: `y_0, v_0, g, theta`.\n",
    "\n",
    "- Berechnen Sie die Zeit, die das Projektil braucht, um den Boden zu treffen, indem du die Wurzeln der Gleichung findest, wenn $y = 0$ ist. Achte darauf, dass die Winkel in Bogenmaß und nicht in Grad angegeben werden.\n",
    "\n",
    "- Erstellen Sie mit NumPy ein Array `time` mit 100 gleichmäßig verteilten Zeitwerten zwischen den beiden Wurzeln, die Sie gerade berechnet haben.\n",
    "</div>\n",
    "</div>"
   ]
  },
  {
   "cell_type": "code",
   "execution_count": null,
   "metadata": {},
   "outputs": [],
   "source": [
    "y_0 = 0.0\n",
    "v_0 = 37.0\n",
    "g = -9.81\n",
    "theta = np.radians(70.0)\n",
    "\n",
    "c = y_0\n",
    "b = v_0 * np.sin(theta)\n",
    "a = 0.5 * g"
   ]
  },
  {
   "cell_type": "code",
   "execution_count": null,
   "metadata": {},
   "outputs": [],
   "source": [
    "# Quadratic formula: t = (-b ± sqrt(b^2 - 4ac)) / 2a\n",
    "discriminant = b**2 - 4*a*c\n",
    "t1 = (-b + np.sqrt(discriminant)) / (2*a)\n",
    "t2 = (-b - np.sqrt(discriminant)) / (2*a)\n",
    "\n",
    "t1, t2"
   ]
  },
  {
   "cell_type": "code",
   "execution_count": null,
   "metadata": {},
   "outputs": [],
   "source": [
    "import numpy as np\n",
    "import matplotlib.pyplot as plt\n",
    "\n",
    "y_0 = 0.0\n",
    "v_0 = 37.0\n",
    "g = -9.81\n",
    "theta = np.radians(70.0)\n",
    "time = np.linspace(0, t2, 50)\n",
    "\n",
    "plt.figure(figsize=(5, 4))\n",
    "sns.lineplot(x=time, y=(y_0 + v_0 * np.sin(theta) * time + 0.5 * g * time**2), marker=\"o\")\n",
    "\n",
    "# Labels\n",
    "plt.xlabel('time (s)')\n",
    "plt.ylabel(r'$y$ (m)')\n",
    "\n",
    "plt.show()"
   ]
  },
  {
   "cell_type": "markdown",
   "metadata": {},
   "source": [
    "<div class=\"alert alert-block alert-info\">\n",
    "\n",
    "<div style=\"display: flex; justify-content: space-between;\">\n",
    "<div style=\"width: 48%; line-height: 1.5;\">\n",
    "\n",
    "### Final Remark\n",
    "\n",
    "Throughout this lecture, we have utilized the following modules:\n",
    "\n",
    "```python\n",
    "import numpy as np\n",
    "import seaborn as sns\n",
    "import matplotlib.pyplot as plt\n",
    "from scipy.interpolate import interp1d\n",
    "from scipy.optimize import curve_fit\n",
    "from sklearn.metrics import r2_score\n",
    "```\n",
    "\n",
    "**As a best practice, always import all necessary modules at the start of your notebook.**\n",
    "\n",
    "This approach ensures that your code is organized and makes it easier for readers (and you) to understand which libraries are required for the notebook to run properly.\n",
    "\n",
    "</div>\n",
    "<div style=\"width: 48%; line-height: 1.5;color: grey;\">\n",
    "\n",
    "### Schlussbemerkung\n",
    "\n",
    "In dieser Vorlesung haben wir die folgenden Module verwendet:\n",
    "\n",
    "```python\n",
    "import numpy as np\n",
    "import seaborn as sns\n",
    "import matplotlib.pyplot as plt\n",
    "from scipy.interpolate import interp1d\n",
    "from scipy.optimize import curve_fit\n",
    "from sklearn.metrics import r2_score\n",
    "```\n",
    "\n",
    "**Am besten importieren Sie immer alle notwendigen Module am Anfang Ihres Notebooks.**\n",
    "\n",
    "Dieser Ansatz stellt sicher, dass Ihr Code organisiert ist und macht es für die Leser (und Sie) einfacher zu verstehen, welche Bibliotheken für die korrekte Ausführung des Notizbuchs erforderlich sind.\n",
    "\n",
    "</div>"
   ]
  },
  {
   "cell_type": "code",
   "execution_count": 3,
   "metadata": {},
   "outputs": [],
   "source": [
    "import numpy as np\n",
    "import seaborn as sns\n",
    "import matplotlib.pyplot as plt\n",
    "from scipy.interpolate import interp1d\n",
    "from scipy.optimize import curve_fit\n",
    "from sklearn.metrics import r2_score"
   ]
  }
 ],
 "metadata": {
  "kernelspec": {
   "display_name": "py24",
   "language": "python",
   "name": "python3"
  },
  "language_info": {
   "codemirror_mode": {
    "name": "ipython",
    "version": 3
   },
   "file_extension": ".py",
   "mimetype": "text/x-python",
   "name": "python",
   "nbconvert_exporter": "python",
   "pygments_lexer": "ipython3",
   "version": "3.13.0"
  }
 },
 "nbformat": 4,
 "nbformat_minor": 2
}
