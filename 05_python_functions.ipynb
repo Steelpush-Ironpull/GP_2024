{
 "cells": [
  {
   "cell_type": "code",
   "execution_count": 1,
   "metadata": {},
   "outputs": [
    {
     "data": {
      "text/html": [
       "<style>\n",
       "    body {\n",
       "        --vscode-font-family: \"CMU Sans Serif\"\n",
       "    }\n",
       "</style>\n"
      ],
      "text/plain": [
       "<IPython.core.display.HTML object>"
      ]
     },
     "metadata": {},
     "output_type": "display_data"
    }
   ],
   "source": [
    "%%HTML\n",
    "<style>\n",
    "    body {\n",
    "        --vscode-font-family: \"CMU Sans Serif\"\n",
    "    }\n",
    "</style>"
   ]
  },
  {
   "cell_type": "code",
   "execution_count": null,
   "metadata": {},
   "outputs": [],
   "source": [
    "plt.rcParams.update({\n",
    "    \"text.usetex\": True,\n",
    "    \"font.family\": \"sans-serif\",\n",
    "    \"font.sans-serif\": [\"Computer Modern Sans Serif\"]})\n",
    "plt.rcParams['text.latex.preamble'] = r'\\usepackage{sansmath} \\sansmath'"
   ]
  },
  {
   "cell_type": "code",
   "execution_count": 1,
   "metadata": {},
   "outputs": [],
   "source": [
    "from IPython.display import display, clear_output, HTML\n",
    "import time\n",
    "\n",
    "def countdown_timer(minutes):\n",
    "    total_seconds = minutes * 60\n",
    "    for seconds in range(total_seconds, 0, -1):\n",
    "        mins, secs = divmod(seconds, 60)\n",
    "        time_str = f\"{mins:02}'{secs:02}''\"\n",
    "        clear_output(wait=True)\n",
    "        # HTML with styling\n",
    "        display(HTML(f'<div style=\"font-size: 24px; color: blue; font-weight: bold;\">Time remaining: {time_str}</div>'))\n",
    "        time.sleep(1)\n",
    "    clear_output(wait=True)\n",
    "    # Final message with different styling\n",
    "    display(HTML('<div style=\"font-size: 24px; color: green; font-weight: bold;\">Time\\'s up!</div>'))"
   ]
  },
  {
   "cell_type": "markdown",
   "metadata": {},
   "source": [
    "<div style=\"text-align: center;\">\n",
    "    <img src=\"https://upload.wikimedia.org/wikipedia/commons/thumb/f/f8/Python_logo_and_wordmark.svg/972px-Python_logo_and_wordmark.svg.png?20210516005643\" alt=\"The Python logo\" style=\"width: 60%; max-width: 500px;\">\n",
    "</div>"
   ]
  },
  {
   "cell_type": "code",
   "execution_count": 14,
   "metadata": {},
   "outputs": [
    {
     "data": {
      "image/png": "[encoded data removed]",
      "text/plain": [
       "<Figure size 1400x105 with 2 Axes>"
      ]
     },
     "metadata": {},
     "output_type": "display_data"
    }
   ],
   "source": [
    "\n",
    "# You are not supposed to understand this code, yet. It is here for your convenience/curiosity.\n",
    "\n",
    "import matplotlib.pyplot as plt\n",
    "import numpy as np\n",
    "from matplotlib.patches import Rectangle\n",
    "\n",
    "# Topics and x-axis values\n",
    "topics = [\"interface\", \"\", \"\", \"\", \"Python basics\", \"\", \"\", \"\", \"data manipulation\", \"\", \"\", \"visualization\", \"\", \"practice\"]\n",
    "x_values = np.arange(1, 15)\n",
    "\n",
    "# Create figure and axis objects with adjusted y-axis height\n",
    "fig, ax1 = plt.subplots(figsize=(10*1.4, 0.75*1.4))  # Slightly more vertical space\n",
    "ax1.set(xlim=(0, 14), xticks=x_values - 0.5, xlabel='Course Progression')\n",
    "ax1.set_xticks(x_values - 0.5)  # Align grid lines with x_values\n",
    "ax1.set_xticklabels(x_values, ha='center')\n",
    "ax1.yaxis.set_visible(False)\n",
    "\n",
    "# Secondary axis for labels without ticks\n",
    "ax2 = ax1.twiny()\n",
    "ax2.set(xlim=ax1.get_xlim(), xticks=x_values - 0.5)\n",
    "ax2.set_xticklabels(topics, ha='center')\n",
    "ax2.tick_params(axis='x', length=0)\n",
    "\n",
    "# Add rectangles for progress\n",
    "progress_info = [(0, \"orange\", 1), (1, \"dodgerblue\", 1), (2, \"dodgerblue\", 1), (3, \"dodgerblue\", 1),\n",
    "                 (4, \"dodgerblue\", 1), (5, \"dodgerblue\", 0.75)]\n",
    "for x, color, alpha in progress_info:\n",
    "    ax1.add_patch(Rectangle((x, 0), 1, 1, facecolor=color, alpha=alpha, edgecolor=\"gainsboro\", linewidth=0.5))\n",
    "\n",
    "# Add text annotations\n",
    "annotations = [\n",
    "    (0.5, \"Jupyter\\n\\nLaTeX\"),\n",
    "    (1.5, \"math\\n\\n(SymPy)\"),\n",
    "    (2.5, \"strings\\n\\nlists\"),\n",
    "    (3.5, \"other\\ndata\\nstructures\"),\n",
    "    (4.5, \"control\\n\\nstructures\"),\n",
    "    (5.5, \"functions\")\n",
    "]\n",
    "for x, label, *color in annotations:\n",
    "    ax1.text(x, 0.5, label, ha='center', va='center', fontsize=9, color=color[0] if color else 'black')\n",
    "\n",
    "plt.show()"
   ]
  },
  {
   "cell_type": "markdown",
   "metadata": {},
   "source": [
    "| Data Type      |  Example         |    |\n",
    "|---------------|--------------------------|----|\n",
    "| `int`         | `5`                |&check;|\n",
    "| `float`       | `5.0`              |&check;|\n",
    "| `complex`     | `5 + 3j`           |&check;|\n",
    "| `bool`        | `True`             |&check;|\n",
    "| `module`      | `math`             |&check;|\n",
    "| `str`         | `\"hello\"`          |&check;|\n",
    "| `list`        | `[1, 2, 3]`        |&check;|\n",
    "| `tuple`       | `(1, 2, 3)`        |&check;|\n",
    "| `set`         | `{1, 2, 3}`        |&check;|\n",
    "| `dict`        | `{\"key\": \"value\"}` |&check;|\n",
    "| `range`       | `range(5)`         |&check;|\n",
    "| `function`    | `factorial()`      |&#9675;|\n",
    "| `numpy.ndarray` | `np.array([1, 2, 3])` |\n",
    "| `NoneType`    | `None`             |    |"
   ]
  },
  {
   "cell_type": "markdown",
   "metadata": {},
   "source": [
    "<div class=\"alert alert-block alert-light\">\n",
    "\n",
    "<div style=\"display: flex; justify-content: space-between;\">\n",
    "<div style=\"width: 48%; line-height: 1.5;\">\n",
    "\n",
    "## Warm-up\n",
    "\n",
    "A task from previous exercise sheet (most unsolved?) that is a bit bulky to copy and paste.\n",
    "\n",
    "</div>\n",
    "<div style=\"width: 4%;\">\n",
    "</div>\n",
    "<div style=\"width: 48%; line-height: 1.3;color: grey;\">\n",
    "\n",
    "## Aufwärmen\n",
    "\n",
    "\n",
    "    \n",
    "</div>\n",
    "</div>"
   ]
  },
  {
   "cell_type": "markdown",
   "metadata": {},
   "source": [
    "<div class=\"alert alert-block alert-warning\">\n",
    "\n",
    "<div style=\"display: flex; justify-content: space-between;\">\n",
    "<div style=\"width: 48%; line-height: 1.5;\">\n",
    "\n",
    "# Functions \n",
    "</div>\n",
    "<div style=\"width: 48%; line-height: 1.5;color: grey;\">\n",
    "\n",
    "# Funktionen\n",
    "</div>\n",
    "</div>"
   ]
  },
  {
   "cell_type": "markdown",
   "metadata": {},
   "source": [
    "<div style=\"display: flex; justify-content: space-between;\">\n",
    "<div style=\"width: 48%; line-height: 1.5;\">\n",
    "        \n",
    "The code we've written so far lacks reusability. \n",
    "\n",
    "If we want to run the same block(s) of code with different inputs, we currently need to copy and paste the snippet each time, which can quickly become messy.\n",
    "\n",
    "To enhance this, it's useful to organize code into *named blocks*, or **functions**, that can be called repeatedly, potentially with different inputs. \n",
    "\n",
    "Writing functions not only improves code portability and reduces repetition but also simplifies complex tasks into smaller, more manageable pieces. \n",
    "\n",
    "This leads to code that is easier to understand, maintain, and debug.\n",
    "        \n",
    "</div>\n",
    "<div style=\"width: 48%; line-height: 1.5;color: grey;\">\n",
    "        \n",
    "Dem Code, den wir bisher geschrieben haben, mangelt es an Wiederverwendbarkeit. \n",
    "\n",
    "Wenn wir dieselben Codeblöcke mit unterschiedlichen Eingaben ausführen wollen, müssen wir derzeit jedes Mal den Codeabschnitt kopieren und einfügen, was schnell unübersichtlich werden kann.\n",
    "\n",
    "Um dies zu verbessern, ist es nützlich, den Code in benannte Blöcke oder **Funktionen** zu gliedern, die wiederholt aufgerufen werden können, möglicherweise mit unterschiedlichen Eingaben. \n",
    "\n",
    "Das Schreiben von Funktionen verbessert nicht nur die Übertragbarkeit des Codes und reduziert Wiederholungen, sondern vereinfacht auch komplexe Aufgaben in kleinere, besser handhabbare Teile. \n",
    "\n",
    "Dies führt zu Code, der leichter zu verstehen, zu pflegen und zu debuggen ist.\n",
    "        \n",
    "</div>\n",
    "</div>"
   ]
  },
  {
   "cell_type": "markdown",
   "metadata": {},
   "source": [
    "<div style=\"display: flex; justify-content: space-between;\">\n",
    "<div style=\"width: 48%; line-height: 1.5;\">\n",
    "\n",
    "### How We’ve Already Used Functions\n",
    "\n",
    "You’ve already seen some functions that come built into Python, like:\n",
    "\n",
    "- `print()`: Displays information on the screen.\n",
    "\n",
    "- `round()`: Rounds a number to a specified number of decimal places.\n",
    "\n",
    "- `len()`: Returns the length of an object (like the number of characters in a string or items in a list).\n",
    "\n",
    "- `append()`: Adds an item to the end of a list.\n",
    "\n",
    "- `range()`: Creates a sequence of numbers, which we use in loops to repeat a task.\n",
    "\n",
    "All these functions operate with multiple lines of code under the hood, but we don’t usually notice this complexity because we simply call the function and let it handle the details.\n",
    "\n",
    "These functions make tasks easier by packaging the instructions for that task into a single line of code.\n",
    "        \n",
    "</div>\n",
    "<div style=\"width: 48%; line-height: 1.3;color: grey;\">\n",
    "        \n",
    "### Wie wir die Funktionen bereits verwendet haben\n",
    "\n",
    "Sie haben bereits einige Funktionen gesehen, die in Python eingebaut sind, wie z.B.:\n",
    "\n",
    "- `print()`: Zeigt Informationen auf dem Bildschirm an.\n",
    "\n",
    "- `round()`: Rundet eine Zahl auf eine bestimmte Anzahl von Dezimalstellen.\n",
    "\n",
    "- `len()`: Gibt die Länge eines Objekts zurück (z. B. die Anzahl der Zeichen in einer Zeichenkette oder der Elemente in einer Liste).\n",
    "\n",
    "- `append()`: Fügt ein Element am Ende einer Liste hinzu.\n",
    "\n",
    "- `range()`: Erzeugt eine Folge von Zahlen, die wir in Schleifen verwenden, um eine Aufgabe zu wiederholen.\n",
    "\n",
    "Alle diese Funktionen arbeiten mit mehreren Codezeilen unter der Haube, aber wir bemerken diese Komplexität normalerweise nicht, weil wir einfach die Funktion aufrufen und sie die Details erledigen lassen.\n",
    "\n",
    "Diese Funktionen erleichtern Aufgaben, indem sie die Anweisungen für diese Aufgabe in eine einzige Codezeile packen. \n",
    "        \n",
    "</div>\n",
    "</div>"
   ]
  },
  {
   "cell_type": "markdown",
   "metadata": {},
   "source": [
    "<div style=\"display: flex; justify-content: space-between;\">\n",
    "<div style=\"width: 48%; line-height: 1.5;\">\n",
    "\n",
    "The parentheses `()` after a function name have a special role:\n",
    "\n",
    "- They tell Python that you’re calling or \"activating\" the function.\n",
    "\n",
    "- Inside the parentheses, you can often put values or *arguments* that customize what the function does. \n",
    "\n",
    "For example:\n",
    "\n",
    "- `print(\"Hello!\")`: The `\"Hello!\"` inside the parentheses is an argument that tells `print()` what to display.\n",
    "\n",
    "- `round(3.14159, 2)`: The arguments `3.14159` and `2` tell `round()` which number to round and how many decimal places to keep.\n",
    "        \n",
    "</div>\n",
    "<div style=\"width: 48%; line-height: 1.5;color: grey;\">\n",
    "\n",
    "Die Klammern `()` nach einem Funktionsnamen haben eine besondere Bedeutung:\n",
    "\n",
    "- Sie sagen Python, dass Sie die Funktion aufrufen oder \"aktivieren\".\n",
    "\n",
    "- Innerhalb der Klammern können Sie oft Werte oder *Argumente* angeben, die die Funktion anpassen.\n",
    "\n",
    "Zum Beispiel:\n",
    "\n",
    "- `print(\"Hallo!\")`: Das `\"Hallo!\"` innerhalb der Klammern ist ein Argument, das `print()` sagt, was angezeigt werden soll.\n",
    "\n",
    "- `round(3.14159, 2)`: Die Argumente `3.14159` und `2` teilen `rund()` mit, welche Zahl gerundet werden soll und wie viele Dezimalstellen beibehalten werden sollen.\n",
    "        \n",
    "</div>\n",
    "</div>"
   ]
  },
  {
   "cell_type": "markdown",
   "metadata": {},
   "source": [
    "<div style=\"display: flex; justify-content: space-between;\">\n",
    "<div style=\"width: 48%; line-height: 1.5;\">\n",
    "        \n",
    "### Defining functions\n",
    "\n",
    "A function is defined with a `def` statement which gives it a name and specifies any <i>arguments</i> that it takes in brackets, followed by a colon (`:`). \n",
    "\n",
    "The body of the function is indented by 4 spaces. \n",
    "        \n",
    "</div>\n",
    "<div style=\"width: 48%; line-height: 1.5;color: grey;\">\n",
    "\n",
    "### Definition von Funktionen\n",
    "     \n",
    "Eine Funktion wird mit einer `def`-Anweisung definiert, die ihr einen Namen gibt und alle <i>Argumente</i> angibt, die sie in Klammern, gefolgt von einem Doppelpunkt (`:`), annimmt.\n",
    "\n",
    "Der Körper der Funktion wird um 4 Leerzeichen eingerückt.\n",
    "        \n",
    "</div>\n",
    "</div>"
   ]
  },
  {
   "cell_type": "markdown",
   "metadata": {},
   "source": [
    "```python\n",
    "def <function_name>(<[arguments]>):\n",
    "    <body>\n",
    "    return <[values]>\n",
    "```"
   ]
  },
  {
   "cell_type": "markdown",
   "metadata": {},
   "source": [
    "<div style=\"display: flex; justify-content: space-between;\">\n",
    "<div style=\"width: 48%; line-height: 1.5;\">\n",
    "        \n",
    "When called, the function’s statements are executed; if the `return` keyword is encountered at any point, the specified values are returned to the caller:\n",
    "        \n",
    "</div>\n",
    "<div style=\"width: 48%; line-height: 1.5;color: grey;\">\n",
    "        \n",
    "Wenn die Funktion aufgerufen wird, werden die Anweisungen der Funktion ausgeführt; wenn das Schlüsselwort `return` an irgendeiner Stelle auftaucht, werden die angegebenen Werte an den Aufrufer zurückgegeben:\n",
    "        \n",
    "</div>\n",
    "</div>"
   ]
  },
  {
   "cell_type": "code",
   "execution_count": 5,
   "metadata": {},
   "outputs": [
    {
     "data": {
      "text/plain": [
       "'Hello, World!'"
      ]
     },
     "execution_count": 5,
     "metadata": {},
     "output_type": "execute_result"
    }
   ],
   "source": [
    "# Defining the function:\n",
    "def hello_world():\n",
    "    return \"Hello, World!\"\n",
    "\n",
    "\n",
    "# Calling the function:\n",
    "hello_world()"
   ]
  },
  {
   "cell_type": "markdown",
   "metadata": {},
   "source": [
    "<div style=\"display: flex; justify-content: space-between;\">\n",
    "<div style=\"width: 48%; line-height: 1.5;\">\n",
    "\n",
    "**Note**\n",
    "\n",
    "In Python, you should write `return value` rather than `return(value)`.\n",
    "Both will work in practice, but `return value` is the preferred syntax according to the Python style guide (PEP 8). \n",
    "This is because `return` is not a function, so parentheses are unnecessary. \n",
    "        \n",
    "</div>\n",
    "<div style=\"width: 48%; line-height: 1.5;color: grey;\">\n",
    "        \n",
    "**Anmerkung**\n",
    "\n",
    "In Python sollte man `return c` und nicht `return(c)` schreiben.\n",
    "Beide funktionieren in der Praxis, aber `return c` ist die bevorzugte Syntax nach dem Python Style Guide (PEP 8).\n",
    "Das liegt daran, dass `return` keine Funktion ist, so dass Klammern unnötig sind.\n",
    "        \n",
    "</div>\n",
    "</div>"
   ]
  },
  {
   "cell_type": "markdown",
   "metadata": {},
   "source": [
    "<div style=\"display: flex; justify-content: space-between;\">\n",
    "<div style=\"width: 48%; line-height: 1.5;\">\n",
    "        \n",
    "The function `hello_world` does not take any arguments; the empty parentheses `()` in the `def` statement indicate this. When called, it simply returns the string \"Hello, World!\".\n",
    "\n",
    "Often we want functions to take input so they can operate on different values. \n",
    "\n",
    "To achieve this, you simply need to specify the argument inside the parentheses when defining the function.\n",
    "        \n",
    "</div>\n",
    "<div style=\"width: 48%; line-height: 1.5;color: grey;\">\n",
    "        \n",
    "Die Funktion `hello_world` nimmt keine Argumente entgegen; die leeren Klammern `()` in der `def`-Anweisung zeigen dies an. Wenn sie aufgerufen wird, gibt sie einfach die Zeichenkette \"Hello, World!\" zurück.\n",
    "<br>\n",
    "Oft möchten wir, dass Funktionen Eingaben annehmen, damit sie mit verschiedenen Werten arbeiten können.\n",
    "<br>\n",
    "Um dies zu erreichen, müssen Sie einfach das Argument innerhalb der Klammern angeben, wenn Sie die Funktion definieren.\n",
    "        \n",
    "</div>\n",
    "</div>"
   ]
  },
  {
   "cell_type": "markdown",
   "metadata": {},
   "source": [
    "<div class=\"alert alert-block alert-light\">\n",
    "\n",
    "<div style=\"display: flex; justify-content: space-between;\">\n",
    "<div style=\"width: 48%; line-height: 1.5;\">\n",
    "\n",
    "#### Exercise\n",
    "\n",
    "Write a function that takes a number `x` as an argument and returns its cube.\n",
    "\n",
    "Test the function on a number of your choice.\n",
    "</div>\n",
    "<div style=\"width: 48%; line-height: 1.5;color: grey;\">\n",
    "\n",
    "#### Übung\n",
    "\n",
    "Schreiben Sie eine Funktion, die eine Zahl `x` als Argument nimmt und ihren Kubus zurückgibt.\n",
    "\n",
    "Testen Sie die Funktion mit einer Zahl Ihrer Wahl.\n",
    "</div>\n",
    "</div>"
   ]
  },
  {
   "cell_type": "code",
   "execution_count": null,
   "metadata": {},
   "outputs": [],
   "source": [
    "#countdown\n",
    "countdown_timer(10)"
   ]
  },
  {
   "cell_type": "code",
   "execution_count": 4,
   "metadata": {},
   "outputs": [
    {
     "data": {
      "text/plain": [
       "27"
      ]
     },
     "execution_count": 4,
     "metadata": {},
     "output_type": "execute_result"
    }
   ],
   "source": [
    "def cube(x):\n",
    "    x_cube = x**3\n",
    "    return x_cube\n",
    "\n",
    "cube(3)"
   ]
  },
  {
   "cell_type": "markdown",
   "metadata": {},
   "source": [
    "<div style=\"display: flex; justify-content: space-between;\">\n",
    "<div style=\"width: 48%; line-height: 1.5;\">\n",
    "    \n",
    "###  Passing multiple arguments \n",
    "        \n",
    "The function `cube` takes a single argument, `x` (the number to be cubed), and returns a single value (its cube). \n",
    "Of course, you can pass multiple arguments to a function. \n",
    "Simply list the arguments inside the parentheses, separated by commas, allowing the function to work with more than one input.\n",
    "        \n",
    "</div>\n",
    "<div style=\"width: 48%; line-height: 1.5;color: grey;\">\n",
    "    \n",
    "###  Mehrere Argumente übergeben \n",
    "        \n",
    "The function `cube` takes a single argument, `x` (the number to be cubed), and returns a single value (its cube). \n",
    "Of course, you can pass multiple arguments to a function. \n",
    "Simply list the arguments inside the parentheses, separated by commas, allowing the function to work with more than one input.\n",
    "        \n",
    "</div>\n",
    "</div>"
   ]
  },
  {
   "cell_type": "markdown",
   "metadata": {},
   "source": [
    "<div class=\"alert alert-block alert-light\">\n",
    "\n",
    "<div style=\"display: flex; justify-content: space-between;\">\n",
    "<div style=\"width: 48%; line-height: 1.5;\">\n",
    "\n",
    "#### Exercise\n",
    "\n",
    "Write a function that takes the lengths of the two shorter sides `a` and `b` of a right triangle as input and returns the length of the hypotenuse `c`.\n",
    "\n",
    "Remember to import all necessary modules to carry out the calculation.\n",
    "\n",
    "</div>\n",
    "<div style=\"width: 48%; line-height: 1.5;color: grey;\">\n",
    "\n",
    "#### Übung\n",
    "\n",
    "Schreiben Sie eine Funktion, die die Längen der beiden kürzeren Seiten `a` und `b` eines rechtwinkligen Dreiecks als Eingabe nimmt und die Länge der Hypotenuse `c` zurückgibt.\n",
    "\n",
    "Denken Sie daran, alle für die Berechnung erforderlichen Module zu importieren.\n",
    "\n",
    "</div>\n",
    "</div>\n",
    "\n",
    "$$\n",
    "c = \\sqrt{a^2 + b^2}\n",
    "$$"
   ]
  },
  {
   "cell_type": "code",
   "execution_count": null,
   "metadata": {},
   "outputs": [],
   "source": [
    "#countdown\n",
    "countdown_timer(10)"
   ]
  },
  {
   "cell_type": "code",
   "execution_count": 3,
   "metadata": {},
   "outputs": [
    {
     "data": {
      "text/plain": [
       "5.0"
      ]
     },
     "execution_count": 3,
     "metadata": {},
     "output_type": "execute_result"
    }
   ],
   "source": [
    "import math \n",
    "\n",
    "def pythagoras(a,b):\n",
    "    c = math.sqrt(a**2 + b**2)\n",
    "    return c\n",
    "\n",
    "pythagoras(3,4)"
   ]
  },
  {
   "cell_type": "markdown",
   "metadata": {},
   "source": [
    "<div style=\"display: flex; justify-content: space-between;\">\n",
    "<div style=\"width: 48%; line-height: 1.5;\">\n",
    "\n",
    "###  Returning multiple values \n",
    "        \n",
    "To return two or more values from a function, separate them by commas in the `return` statement.\n",
    "        \n",
    "</div>\n",
    "<div style=\"width: 48%; line-height: 1.5;color: grey;\">\n",
    "  \n",
    "###  Mehrere Werte zurückgeben \n",
    "        \n",
    "Wenn Sie zwei oder mehr Werte aus einer Funktion zurückgeben möchten, trennen Sie diese durch Kommas in der `return`-Anweisung.\n",
    "        \n",
    "</div>\n",
    "</div>"
   ]
  },
  {
   "cell_type": "markdown",
   "metadata": {},
   "source": [
    "```python\n",
    "def <function_name>(<arg1>, <arg2>, ..., <argN>):\n",
    "    <body>\n",
    "    return <value1>, <value2>, ..., <valueN>\n",
    "```"
   ]
  },
  {
   "cell_type": "markdown",
   "metadata": {},
   "source": [
    "<div class=\"alert alert-block alert-light\">\n",
    "\n",
    "<div style=\"display: flex; justify-content: space-between;\">\n",
    "<div style=\"width: 48%; line-height: 1.5;\">\n",
    "\n",
    "#### Exercise\n",
    "\n",
    "Recall the quadratic formula and define a function that takes the polynomial coefficients `a`, `b`, and `c` as arguments, then returns the roots `r1` and `r2` of the equation.\n",
    "\n",
    "</div>\n",
    "<div style=\"width: 48%; line-height: 1.5;color: grey;\">\n",
    "\n",
    "#### Übung\n",
    "\n",
    "Erinnern Sie sich an die quadratische Formel und definieren Sie eine Funktion, die die Polynomkoeffizienten `a`, `b` und `c` als Argumente nimmt und dann die Wurzeln (`r1` und `r2`) der Gleichung zurückgibt.\n",
    "</div>\n",
    "</div>\n",
    "<div style=\"text-align: center; margin-top: 20px;\">\n",
    "\n",
    "$$\n",
    "ax^2 + bx + c = 0  \\implies x_{1,2} = \\frac{-b \\pm \\sqrt{b^2 - 4ac}}{2a}\n",
    "$$\n",
    "</div>"
   ]
  },
  {
   "cell_type": "code",
   "execution_count": null,
   "metadata": {},
   "outputs": [],
   "source": [
    "#countdown\n",
    "countdown_timer(10)"
   ]
  },
  {
   "cell_type": "code",
   "execution_count": 6,
   "metadata": {},
   "outputs": [
    {
     "data": {
      "text/plain": [
       "(2.0, -5.0)"
      ]
     },
     "execution_count": 6,
     "metadata": {},
     "output_type": "execute_result"
    }
   ],
   "source": [
    "def roots(a, b, c):\n",
    "    d = b**2 - 4*a*c \n",
    "    r1 = (-b + math.sqrt(d)) / 2 / a \n",
    "    r2 = (-b - math.sqrt(d)) / 2 / a \n",
    "    return r1, r2                       # This is a tuple!\n",
    "\n",
    "roots(1,3,-10)"
   ]
  },
  {
   "cell_type": "code",
   "execution_count": 6,
   "metadata": {},
   "outputs": [
    {
     "data": {
      "text/plain": [
       "tuple"
      ]
     },
     "execution_count": 6,
     "metadata": {},
     "output_type": "execute_result"
    }
   ],
   "source": [
    "type(roots(1,3,-10))"
   ]
  },
  {
   "cell_type": "markdown",
   "metadata": {},
   "source": [
    "<div style=\"display: flex; justify-content: space-between;\">\n",
    "<div style=\"width: 48%; line-height: 1.5;\">\n",
    "        \n",
    "When you use `return` followed by multiple values separated by commas (e.g., `return r1, r2`), Python internally groups (<i>packs</i>) these values into a **tuple**.\n",
    "\n",
    "This means that the multiple values are stored in a single tuple object, which can then be unpacked later if needed.\n",
    "\n",
    "You can also unpack the tuple directly into variables:\n",
    "        \n",
    "</div>\n",
    "<div style=\"width: 48%; line-height: 1.5;color: grey;\">\n",
    "        \n",
    "Wenn Sie `return` gefolgt von mehreren durch Kommas getrennten Werten verwenden (z.B. `return r1, r2`), gruppiert (<i>packt</i>) Python intern diese Werte in ein **Tupel**.\n",
    "\n",
    "Das bedeutet, dass mehrere Werte in einem einzigen Tupel-Objekt gespeichert werden, das dann später bei Bedarf wieder entpackt werden kann.\n",
    "\n",
    "Sie können das Tupel auch direkt in Variablen entpacken:\n",
    "        \n",
    "</div>\n",
    "</div>"
   ]
  },
  {
   "cell_type": "code",
   "execution_count": 21,
   "metadata": {},
   "outputs": [
    {
     "name": "stdout",
     "output_type": "stream",
     "text": [
      "2.0\n",
      "-5.0\n"
     ]
    }
   ],
   "source": [
    "r1, r2 = roots(1,3,-10)\n",
    "\n",
    "print(r1)\n",
    "print(r2)"
   ]
  },
  {
   "cell_type": "code",
   "execution_count": 7,
   "metadata": {},
   "outputs": [
    {
     "data": {
      "text/plain": [
       "2.0"
      ]
     },
     "execution_count": 7,
     "metadata": {},
     "output_type": "execute_result"
    }
   ],
   "source": [
    "roots(1,3,-10)[0]"
   ]
  },
  {
   "cell_type": "markdown",
   "metadata": {},
   "source": [
    "<div style=\"display: flex; justify-content: space-between;\">\n",
    "<div style=\"width: 48%; line-height: 1.5;\">\n",
    "\n",
    "*You technically can use tuple indexing to access individual elements of a tuple, but it’s not as efficient or readable when trying to \"unpack\" the values.*\n",
    "\n",
    "*For example, you can get* `r1` *as* `roots(1,3,-10)[0]`.\n",
    "\n",
    "*Tuple unpacking is the preferred and cleaner method when you know the exact number of elements in the tuple.*\n",
    "\n",
    "*It allows you to directly assign values to multiple variables in a single step, making the code more readable.*\n",
    "        \n",
    "</div>\n",
    "<div style=\"width: 48%; line-height: 1.5;color: grey;\">\n",
    "        \n",
    "*Technisch gesehen kann man die Tupel-Indizierung verwenden, um auf einzelne Elemente eines Tupels zuzugreifen, aber es ist nicht so effizient oder lesbar, wenn man versucht, die Werte \"auszupacken\".* \n",
    "<br>\n",
    "*Sie können zum Beispiel* `r1` *als* `roots(1,3,-10)[0]` *erhalten.*\n",
    "\n",
    "*Das Entpacken von Tupeln ist die bevorzugte und sauberere Methode, wenn Sie die genaue Anzahl der Elemente in einem Tupel kennen.*\n",
    "<br>\n",
    "*Sie ermöglicht es Ihnen, mehreren Variablen in einem einzigen Schritt direkt Werte zuzuweisen, was den Code lesbarer macht.*\n",
    "        \n",
    "</div>\n",
    "</div>"
   ]
  },
  {
   "cell_type": "markdown",
   "metadata": {},
   "source": [
    "<div style=\"display: flex; justify-content: space-between;\">\n",
    "<div style=\"width: 48%; line-height: 1.5;\">\n",
    "\n",
    "## Keywords Arguments\n",
    "        \n",
    "So far, we have used *positional arguments* when calling functions, where the values are assigned based on the order in which they are passed.\n",
    "\n",
    "For example, when we define `def roots(a, b, c):`, executing `roots(1, 3, -10)` calls the function with `a=1, b=3, c=-10`. \n",
    "\n",
    "Alternatively, you can pass values in any order by using *keyword arguments*, which explicitly assign values to specific parameters by name.\n",
    "        \n",
    "</div>\n",
    "<div style=\"width: 48%; line-height: 1.5;color: grey;\">\n",
    "\n",
    "## Schlüsselwort-Argumente\n",
    "        \n",
    "Bislang haben wir beim Aufruf von Funktionen *Positionsargumente* verwendet, bei denen die Werte in der Reihenfolge der Übergabe zugewiesen werden.\n",
    "\n",
    "Wenn wir zum Beispiel `def roots(a, b, c):` definieren, ruft die Ausführung von `roots(1, 3, -10)` die Funktion mit `a=1, b=3, c=-10` auf.\n",
    "\n",
    "Alternativ können Sie Werte in beliebiger Reihenfolge übergeben, indem Sie *Schlüsselwortargumente* verwenden, die bestimmten Parametern explizit Werte namentlich zuweisen.\n",
    "        \n",
    "</div>\n",
    "</div>"
   ]
  },
  {
   "cell_type": "code",
   "execution_count": 13,
   "metadata": {},
   "outputs": [
    {
     "data": {
      "text/plain": [
       "True"
      ]
     },
     "execution_count": 13,
     "metadata": {},
     "output_type": "execute_result"
    }
   ],
   "source": [
    "roots(1,3,-10) == roots(a=1, b=3, c=-10)"
   ]
  },
  {
   "cell_type": "code",
   "execution_count": 14,
   "metadata": {},
   "outputs": [
    {
     "data": {
      "text/plain": [
       "True"
      ]
     },
     "execution_count": 14,
     "metadata": {},
     "output_type": "execute_result"
    }
   ],
   "source": [
    "roots(1,3,-10) == roots(b=3, c=-10, a=1)"
   ]
  },
  {
   "cell_type": "markdown",
   "metadata": {},
   "source": [
    "<div style=\"display: flex; justify-content: space-between;\">\n",
    "<div style=\"width: 48%; line-height: 1.5;\">\n",
    "        \n",
    "Using keyword arguments makes it easy to call functions *without needing to remember the order of all optional arguments*.\n",
    "\n",
    "This will be handy when we customize plots in Matplotlib and Seaborn.\n",
    "The `plot` function has *many* possible arguments, but there’s no need to remember them all or their specific order. \n",
    "We can simply specify the keyword arguments we need, and Python will handle the rest.\n",
    "        \n",
    "</div>\n",
    "<div style=\"width: 48%; line-height: 1.5;color: grey;\">\n",
    "        \n",
    "Die Verwendung von Schlüsselwortargumenten erleichtert den Aufruf von Funktionen *ohne dass man sich die Reihenfolge aller optionalen Argumente merken muss*.\n",
    "\n",
    "Dies wird praktisch sein, wenn wir Plots in Matplotlib und Seaborn anpassen.\n",
    "Die Funktion `plot` hat *viele* mögliche Argumente, aber es ist nicht nötig, sich alle zu merken oder ihre spezifische Reihenfolge.\n",
    "Wir können einfach die Schlüsselwortargumente angeben, die wir brauchen, und Python kümmert sich um den Rest.\n",
    "        \n",
    "</div>\n",
    "</div>"
   ]
  },
  {
   "cell_type": "markdown",
   "metadata": {},
   "source": [
    "```python\n",
    "plt.plot(\n",
    "    x,                      # x-coordinates of the points\n",
    "    y,                      # y-coordinates of the points\n",
    "    color=None,             # Color of the plot line (e.g., 'blue', '#1f77b4') - alias: `c`\n",
    "    linestyle=None,         # Style of the line (e.g., '-', '--', '-.', ':') - alias: `ls`\n",
    "    linewidth=None,         # Width of the line - alias: `lw`\n",
    "    marker=None,            # Marker style for points (e.g., 'o', 's', '^') - alias: `m`\n",
    "    markerfacecolor=None,   # Color of the marker face - alias: `mfc`\n",
    "    markeredgecolor=None,   # Color of the marker edge - alias: `mec`\n",
    "    markeredgewidth=None,   # Width of the marker edge - alias: `mew`\n",
    "    markersize=None,        # Size of the marker - alias: `ms`\n",
    "    label=None,             # Label for the legend\n",
    "    alpha=None,             # Transparency level (0.0 to 1.0)\n",
    "    zorder=None,            # Order of display in the plot stack\n",
    "    drawstyle=None,         # Style of connecting the points (e.g., 'default', 'steps') - alias: `ds`\n",
    "    markerfacecoloralt=None,# Alternative color for fill markers (when using non-filled markers) - alias: `mfcalt`\n",
    "    fillstyle=None,         # Fill style of the markers (e.g., 'full', 'left', 'right')\n",
    "    antialiased=None,       # Enable or disable antialiasing - alias: `aa`\n",
    "    data=None,              # Data source dictionary for x, y\n",
    "    **kwargs                # Additional properties for line appearance\n",
    ")\n",
    "```"
   ]
  },
  {
   "cell_type": "code",
   "execution_count": null,
   "metadata": {},
   "outputs": [
    {
     "data": {
      "image/png": "[encoded data removed]",
      "text/plain": [
       "<Figure size 640x480 with 1 Axes>"
      ]
     },
     "metadata": {},
     "output_type": "display_data"
    }
   ],
   "source": [
    "import matplotlib.pyplot as plt\n",
    "\n",
    "# Plot with keyword arguments\n",
    "plt.plot([1, 2, 3], [4, 5, 6], c='red', ls=':', lw=3)  # red dotted line with width 3\n",
    "plt.show()"
   ]
  },
  {
   "cell_type": "markdown",
   "metadata": {},
   "source": [
    "<div style=\"display: flex; justify-content: space-between;\">\n",
    "<div style=\"width: 48%; line-height: 1.5;\">\n",
    "\n",
    "## Default Arguments \n",
    "        \n",
    "Sometimes it is helpful to make an argument to a function optional; that is, the function code will use a default value for that argument if one is not provided when the function is called. \n",
    "\n",
    "This can be done in the function definition:\n",
    "        \n",
    "</div>\n",
    "<div style=\"width: 48%; line-height: 1.5;color: grey;\">\n",
    "\n",
    "## Standardargumente\n",
    "        \n",
    "Manchmal ist es hilfreich, ein Argument für eine Funktion optional zu machen, d.h. der Funktionscode verwendet einen Standardwert für dieses Argument, wenn es beim Aufruf der Funktion nicht angegeben wird. \n",
    "\n",
    "Dies kann in der Funktionsdefinition erfolgen:\n",
    "        \n",
    "</div>\n",
    "</div>"
   ]
  },
  {
   "cell_type": "code",
   "execution_count": 16,
   "metadata": {},
   "outputs": [
    {
     "data": {
      "text/plain": [
       "(2.0, -5.0)"
      ]
     },
     "execution_count": 16,
     "metadata": {},
     "output_type": "execute_result"
    }
   ],
   "source": [
    "def roots(a=1, b=3, c=-10):\n",
    "    d = b**2 - 4*a*c \n",
    "    r1 = (-b + math.sqrt(d)) / 2 / a \n",
    "    r2 = (-b - math.sqrt(d)) / 2 / a \n",
    "    return r1, r2\n",
    "\n",
    "roots()     # we can call the function with no arguments, because default values have been provided in the definition"
   ]
  },
  {
   "cell_type": "markdown",
   "metadata": {},
   "source": [
    "<div style=\"display: flex; justify-content: space-between;\">\n",
    "<div style=\"width: 48%; line-height: 1.5;\">\n",
    "\n",
    "Now, the function can be called with no arguments.\n",
    "</div>\n",
    "<div style=\"width: 48%; line-height: 1.5;color: grey;\">\n",
    "\n",
    "Nun kann die Funktion ohne Argumente aufgerufen werden.\n",
    "</div>\n",
    "</div>"
   ]
  },
  {
   "cell_type": "code",
   "execution_count": null,
   "metadata": {},
   "outputs": [],
   "source": [
    "range(5) == range(0,5,1)        # start = 0 and step = 1 by default"
   ]
  },
  {
   "cell_type": "code",
   "execution_count": 9,
   "metadata": {},
   "outputs": [
    {
     "data": {
      "image/png": "[encoded data removed]",
      "text/plain": [
       "<Figure size 640x480 with 1 Axes>"
      ]
     },
     "metadata": {},
     "output_type": "display_data"
    }
   ],
   "source": [
    "# Plot with defaul arguments\n",
    "plt.plot([1, 2, 3], [4, 5, 6])  # the defaults are: blue, solid line with width 1\n",
    "plt.show()"
   ]
  },
  {
   "cell_type": "markdown",
   "metadata": {},
   "source": [
    "<div style=\"display: flex; justify-content: space-between;\">\n",
    "<div style=\"width: 48%; line-height: 1.5;\">\n",
    "    \n",
    "##  Variable scope \n",
    "\n",
    "Every function we've written so far has included a `return` statement, even though it's optional: Functions can execute their tasks without one. \n",
    "\n",
    "However, to understand why we frequently use return statements, it's important to explore how Python handles variables within functions.\n",
    "\n",
    "Let’s revisit the function we defined earlier, `cube(x)`, but this time, we'll use a `print` statement instead of a `return` statement:\n",
    "</div>\n",
    "<div style=\"width: 48%; line-height: 1.5;color: grey;\">\n",
    "\n",
    "## Variablenbereich \n",
    "\n",
    "Jede Funktion, die wir bisher geschrieben haben, enthält eine `return`-Anweisung, auch wenn sie optional ist: Funktionen können ihre Aufgaben auch ohne eine solche ausführen. \n",
    "\n",
    "Um jedoch zu verstehen, warum wir häufig Return-Anweisungen verwenden, ist es wichtig zu verstehen, wie Python mit Variablen innerhalb von Funktionen umgeht.\n",
    "\n",
    "Wenden wir uns noch einmal der Funktion zu, die wir vorhin definiert haben, `cube(x)`, aber dieses Mal verwenden wir eine `print`-Anweisung anstelle einer `return`-Anweisung:\n",
    "</div>\n",
    "</div>"
   ]
  },
  {
   "cell_type": "code",
   "execution_count": 9,
   "metadata": {},
   "outputs": [
    {
     "name": "stdout",
     "output_type": "stream",
     "text": [
      "27\n"
     ]
    }
   ],
   "source": [
    "def cube(x):\n",
    "    x_cube = x**3\n",
    "    print(x_cube)\n",
    "\n",
    "cube(3)"
   ]
  },
  {
   "cell_type": "markdown",
   "metadata": {},
   "source": [
    "<div style=\"display: flex; justify-content: space-between;\">\n",
    "<div style=\"width: 48%; line-height: 1.5;\">\n",
    "\n",
    "**In this version, the function will print the result of cubing $x$ but won't *return* a value that can be used elsewhere in your code.**\n",
    "\n",
    "This means that while you can see the output, you won't be able to store or manipulate the result of the function.\n",
    "\n",
    "In fact, if we attempt to access the variable `x_cube` by calling it, we'll encounter an error:\n",
    "</div>\n",
    "<div style=\"width: 48%; line-height: 1.5;color: grey;\">\n",
    "\n",
    "**In dieser Version gibt die Funktion das Ergebnis der Kubikbildung von $x$ aus, liefert (*return*) aber keinen Wert, der an anderer Stelle in Ihrem Code verwendet werden kann.**\n",
    "\n",
    "Das bedeutet, dass Sie zwar die Ausgabe sehen können, aber nicht in der Lage sind, das Ergebnis der Funktion zu speichern oder zu manipulieren.\n",
    "\n",
    "Wenn wir nämlich versuchen, auf die Variable `x_cube` zuzugreifen, indem wir sie aufrufen, wird ein Fehler auftreten:\n",
    "</div>\n",
    "</div>"
   ]
  },
  {
   "cell_type": "code",
   "execution_count": 10,
   "metadata": {},
   "outputs": [
    {
     "ename": "NameError",
     "evalue": "name 'x_cube' is not defined",
     "output_type": "error",
     "traceback": [
      "\u001b[0;31m---------------------------------------------------------------------------\u001b[0m",
      "\u001b[0;31mNameError\u001b[0m                                 Traceback (most recent call last)",
      "Cell \u001b[0;32mIn[10], line 1\u001b[0m\n\u001b[0;32m----> 1\u001b[0m \u001b[43mx_cube\u001b[49m\n",
      "\u001b[0;31mNameError\u001b[0m: name 'x_cube' is not defined"
     ]
    }
   ],
   "source": [
    "x_cube"
   ]
  },
  {
   "cell_type": "markdown",
   "metadata": {},
   "source": [
    "<div style=\"display: flex; justify-content: space-between;\">\n",
    "<div style=\"width: 48%; line-height: 1.5;\">\n",
    "\n",
    "The concept that determines whether a variable can be accessed from outside a function is called *variable scope*.\n",
    "\n",
    "Variables can be classified as either <i>global</i> or <i>local</i> based on where they are defined:\n",
    "</div>\n",
    "<div style=\"width: 48%; line-height: 1.5;color: grey;\">\n",
    "\n",
    "Das Konzept, das bestimmt, ob auf eine Variable von außerhalb einer Funktion zugegriffen werden kann, wird *Variablenbereich* genannt.\n",
    "<br>\n",
    "Variablen können entweder als <i>global</i> oder <i>lokal</i> klassifiziert werden, je nachdem, wo sie definiert sind:\n",
    "</div>\n",
    "</div>"
   ]
  },
  {
   "cell_type": "markdown",
   "metadata": {},
   "source": [
    "<div style=\"display: flex; justify-content: space-between;\">\n",
    "<div style=\"width: 48%; line-height: 1.5;\">\n",
    "\n",
    "-  **Global** variables are defined outside of functions and are accessible throughout the entire program, including inside functions. \n",
    "\n",
    "-  **Local** variables are defined within a function and can only be accessed inside that function. Once the function ends, local variables are discarded, and trying to access them outside the function results in an error.\n",
    "\n",
    "</div>\n",
    "<div style=\"width: 48%; line-height: 1.5;color: grey;\">\n",
    "\n",
    "-  **Globale** Variablen werden außerhalb von Funktionen definiert und sind im gesamten Programm zugänglich, auch innerhalb von Funktionen.\n",
    "\n",
    "-  **Lokale** Variablen werden innerhalb einer Funktion definiert und können nur innerhalb dieser Funktion aufgerufen werden. Sobald die Funktion endet, werden lokale Variablen verworfen, und der Versuch, auf sie außerhalb der Funktion zuzugreifen, führt zu einem Fehler.\n",
    "\n",
    "</div>\n",
    "</div>"
   ]
  },
  {
   "cell_type": "markdown",
   "metadata": {},
   "source": [
    "<div style=\"display: flex; justify-content: space-between;\">\n",
    "<div style=\"width: 48%; line-height: 1.5;\">\n",
    "\n",
    "To use the value of a local variable later in your code, you need to <i>capture the returned value</i> from the function into a new variable: \n",
    "\n",
    "-  Return the value from the function using a `return` statement.\n",
    "\n",
    "-  Store the returned value in a new variable outside the function.\n",
    "\n",
    "\n",
    "**While the variable itself remains local to the function, the value it holds can be returned and then assigned to a different variable outside the function.**\n",
    "</div>\n",
    "<div style=\"width: 48%; line-height: 1.5;color: grey;\">\n",
    "\n",
    "Um den Wert einer lokalen Variablen später in Ihrem Code zu verwenden, <i>müssen Sie den von der Funktion zurückgegebenen Wert in eine neue Variable einfangen</i>: \n",
    "\n",
    "-  Geben Sie den Wert der Funktion mit einer `return`-Anweisung zurück.\n",
    "\n",
    "-  Speichern Sie den zurückgegebenen Wert in einer neuen Variablen außerhalb der Funktion.\n",
    "\n",
    "**Während die Variable selbst lokal in der Funktion bleibt, kann der Wert, den sie enthält, zurückgegeben und dann einer anderen Variablen außerhalb der Funktion zugewiesen werden.**\n",
    "</div>\n",
    "</div>"
   ]
  },
  {
   "cell_type": "code",
   "execution_count": 5,
   "metadata": {},
   "outputs": [],
   "source": [
    "def cube(x):\n",
    "    x_cube = x**3       # 'x_cube' is a local variable\n",
    "    return x_cube\n",
    "\n",
    "cubed_value = cube(3)   # capturing the returned value in a new variable "
   ]
  },
  {
   "cell_type": "code",
   "execution_count": 7,
   "metadata": {},
   "outputs": [
    {
     "data": {
      "text/plain": [
       "27"
      ]
     },
     "execution_count": 7,
     "metadata": {},
     "output_type": "execute_result"
    }
   ],
   "source": [
    "cubed_value             # now you can use 'cubed_value' later in your code"
   ]
  },
  {
   "cell_type": "markdown",
   "metadata": {},
   "source": [
    "<div class=\"alert alert-block alert-light\">\n",
    "\n",
    "<div style=\"display: flex; justify-content: space-between;\">\n",
    "<div style=\"width: 48%; line-height: 1.5;\">\n",
    "\n",
    "# Exercises\n",
    "</div>\n",
    "<div style=\"width: 48%; line-height: 1.5;color: grey;\">\n",
    "\n",
    "# Übungen\n",
    "</div>\n",
    "</div>"
   ]
  },
  {
   "cell_type": "markdown",
   "metadata": {},
   "source": [
    "<div class=\"alert alert-block alert-light\">\n",
    "\n",
    "#### 1\n",
    "\n",
    "<div style=\"display: flex; justify-content: space-between;\">\n",
    "<div style=\"width: 48%; line-height: 1.5;\">\n",
    "\n",
    "The code below attempts to calculate the balance of a savings account at the end of each year for a maximum of four years.  The account starts with a balance of 100 EUR, and the annual interest rate is 0.72%.  However, the code is not functioning as expected. Identify the issue(s) and offer a corrected version.\n",
    "</div>\n",
    "<div style=\"width: 48%; line-height: 1.5;color: grey;\">\n",
    "\n",
    "Der folgende Code versucht, den Saldo eines Sparkontos am Ende eines jeden Jahres für maximal vier Jahre zu berechnen.  Das Konto beginnt mit einem Saldo von 100 EUR, und der jährliche Zinssatz beträgt 0,72 %.  Der Code funktioniert jedoch nicht wie erwartet. Ermitteln Sie die Fehler und bieten Sie eine korrigierte Version an.\n",
    "</div>\n",
    "</div>"
   ]
  },
  {
   "cell_type": "code",
   "execution_count": 14,
   "metadata": {},
   "outputs": [
    {
     "name": "stdout",
     "output_type": "stream",
     "text": [
      "Balance after year 1 = 100\n",
      "Balance after year 2 = 100\n",
      "Balance after year 3 = 100\n",
      "Balance after year 4 = 100\n"
     ]
    }
   ],
   "source": [
    "# The following code does not work as intended - identify the problem and correct it\n",
    "balance = 100\n",
    "\n",
    "def add_interest(balance, rate):\n",
    "    balance += balance * rate/100\n",
    "    \n",
    "for year in range(1, 5):\n",
    "    add_interest(balance, 0.72)\n",
    "    print ('Balance after year', year, '=', balance)"
   ]
  },
  {
   "cell_type": "code",
   "execution_count": null,
   "metadata": {},
   "outputs": [],
   "source": [
    "countdown_timer(10)"
   ]
  },
  {
   "cell_type": "markdown",
   "metadata": {},
   "source": [
    "<div style=\"display: flex; justify-content: space-between;\">\n",
    "<div style=\"width: 48%; line-height: 1.5;\">\n",
    "\n",
    "####  Solution \n",
    "\n",
    "The code does not work as expected because of how variable scope works in Python, specifically regarding the `balance` variable inside the function.\n",
    "\n",
    "The original code doesn't work as expected because the function is modifying a local copy of the `balance` variable, not the global `balance`. To fix this, you need to return the updated value from the function and reassign it outside the function.\n",
    "\n",
    "1. **Local vs. Global Variables**:\n",
    "   - The `balance` variable is defined globally (outside of any function) with an initial value of `100`.\n",
    "   - Inside the `add_interest` function, Python treats `balance` as a **local variable** because you are trying to modify it (`balance += balance * rate/100`).\n",
    "   - This creates a **new local variable** `balance` within the function, which is separate from the global `balance` variable.\n",
    "   - As a result, the global `balance` variable remains unchanged outside the function, and the local `balance` only exists within the function.\n",
    "\n",
    "2. **No Return Statement**:\n",
    "   - The function `balance` modifies the **local** `balance` variable, but since it doesn't return anything, the changes made inside the function are not reflected outside the function.\n",
    "   - To fix this, you need to return the updated balance from the function and reassign it to the global `balance`.\n",
    "</div>\n",
    "<div style=\"width: 48%; line-height: 1.5;color: grey;\">\n",
    "\n",
    "#### Lösung \n",
    "\n",
    "Der Code funktioniert nicht wie erwartet, weil der Variablenbereich in Python so funktioniert, insbesondere in Bezug auf die `balance`-Variable innerhalb der Funktion.\n",
    "Der ursprüngliche Code funktioniert nicht wie erwartet, weil die Funktion eine lokale Kopie der Variable `balance` ändert, nicht die globale Variable `balance`. Um dies zu beheben, müssen Sie den aktualisierten Wert aus der Funktion zurückgeben und ihn außerhalb der Funktion neu zuweisen.\n",
    "\n",
    "1. **Lokale vs. globale Variablen**:\n",
    "   - Die Variable `balance` ist global (außerhalb einer Funktion) mit einem Anfangswert von \"100\" definiert.\n",
    "   - Innerhalb der Funktion `add_interest` behandelt Python die Variable \"Saldo\" als **lokale Variable**, da Sie versuchen, sie zu verändern (`balance += balance * rate/100`).\n",
    "   - Dadurch wird innerhalb der Funktion eine **neue lokale Variable** `balance` erzeugt, die von der globalen Variable `Guthaben` getrennt ist.\n",
    "   - Dadurch bleibt die globale Variable `balance` außerhalb der Funktion unverändert, und die lokale Variable `balance` existiert nur innerhalb der Funktion.\n",
    "\n",
    "2. **Keine Rückgabeanweisung**:\n",
    "   - Die Funktion `add_interest` ändert die **lokale** Variable `balance`, aber da sie nichts zurückgibt, werden die innerhalb der Funktion vorgenommenen Änderungen außerhalb der Funktion nicht berücksichtigt.\n",
    "   - Um dies zu beheben, müssen Sie den aktualisierten Saldo aus der Funktion zurückgeben und ihn erneut der globalen `balance`-Variable zuweisen.\n",
    "</div>\n",
    "</div>"
   ]
  },
  {
   "cell_type": "markdown",
   "metadata": {},
   "source": [
    "<div style=\"display: flex; justify-content: space-between;\">\n",
    "<div style=\"width: 48%; line-height: 1.5;\">\n",
    "\n",
    "You can modify the function to return the updated balance and then capture the returned value in the main code loop.\n",
    "\n",
    "In this solution:\n",
    "- The function returns the updated `balance`, which is then reassigned to the global `balance` variable after each year.\n",
    "- This way, the global `balance` is updated correctly, and the output reflects the change.\n",
    "</div>\n",
    "<div style=\"width: 48%; line-height: 1.5;color: grey;\">\n",
    "\n",
    "Sie können die Funktion so ändern, dass sie den aktualisierten Saldo zurückgibt und dann den zurückgegebenen Wert in der Hauptcodeschleife erfassen.\n",
    "\n",
    "In dieser Lösung:\n",
    "- Die Funktion gibt den aktualisierten `balance` zurück, der dann nach jedem Jahr der globalen `balance`-Variablen neu zugewiesen wird.\n",
    "- Auf diese Weise wird der globale `balance` korrekt aktualisiert, und die Ausgabe spiegelt die Änderung wider.\n",
    "</div>\n",
    "</div>"
   ]
  },
  {
   "cell_type": "code",
   "execution_count": 17,
   "metadata": {},
   "outputs": [
    {
     "name": "stdout",
     "output_type": "stream",
     "text": [
      "Balance after year 1 = 100.72\n",
      "Balance after year 2 = 101.445184\n",
      "Balance after year 3 = 102.1755893248\n",
      "Balance after year 4 = 102.91125356793856\n"
     ]
    }
   ],
   "source": [
    "balance = 100\n",
    "\n",
    "def add_interest(balance, rate):\n",
    "    balance += balance * rate / 100\n",
    "    return balance  # Return the updated balance\n",
    "\n",
    "# Now capture the returned value in the loop\n",
    "for year in range(1, 5):\n",
    "    balance = add_interest(balance, 0.72)  # Update balance with the returned value\n",
    "    print('Balance after year', year, '=', balance)"
   ]
  },
  {
   "cell_type": "markdown",
   "metadata": {},
   "source": [
    "<div class=\"alert alert-block alert-light\">\n",
    "\n",
    "#### 2\n",
    "\n",
    "<div style=\"display: flex; justify-content: space-between;\">\n",
    "<div style=\"width: 48%; line-height: 1.5;\">\n",
    "\n",
    "The **first-principles definition** of a derivative:\n",
    "</div>\n",
    "<div style=\"width: 48%; line-height: 1.5;color: grey;\">\n",
    "\n",
    "der **Erstprinzipien-Definition** einer Ableitung:\n",
    "</div>\n",
    "</div>\n",
    "<div style=\"text-align: center; margin-top: 20px;\">\n",
    "\n",
    "$$\n",
    "f'(x) = \\lim_{h \\to 0} \\frac{f(x+h) - f(x)}{h}\n",
    "$$\n",
    "</div>\n",
    "<div style=\"display: flex; justify-content: space-between;\">\n",
    "<div style=\"width: 48%; line-height: 1.5;\">\n",
    "\n",
    "shows that to compute a derivative numerically, we only need the definition of the function $f(x)$ and a value for the step size.\n",
    "\n",
    "Here, $f(x)$ is the original function, $f'(x)$ is its derivative, and $h$ is the step size. \n",
    "\n",
    "Calculate the derivative of $f(x) = x^4$ at $x = 1.3$. \n",
    "\n",
    "The analytical solution, $f'(x) = 4x^3$, gives a result of $8.788$. \n",
    "\n",
    "1. Define the mathematical function $f(x)=x^{4}$ using python.\n",
    "\n",
    "2. Using the first principles definition of a derivative, write a second function, `derivative()`, containing two parameters: the stepsize, $h$ (which we shall give a default value of 0.01), and the value of $x$ we are using to evaluate the derivative.\n",
    "\n",
    "**Useful tips:**\n",
    "\n",
    "- Functions can be called from within other functions, and their output used as normal.\n",
    "\n",
    "- Both `x` and `h` are numbers, therefore `x+h` is also a number, and can be passed to a function as an argument.\n",
    "</div>\n",
    "<div style=\"width: 48%; line-height: 1.5;color: grey;\">\n",
    "\n",
    "zeigt, dass wir für die numerische Berechnung einer Ableitung nur die Definition der Funktion $f(x)$ und einen Wert für die Schrittweite benötigen.\n",
    "\n",
    "$f(x)$ ist die Funktion, $f'(x)$ ist ihre Ableitung und $h$ ist die Schrittweite. \n",
    "\n",
    "Berechnen Sie die Ableitung von $f(x) = x^4$ bei $x = 1.3$. \n",
    "\n",
    "Die analytische Lösung, $f'(x) = 4x^3$, liefert ein Ergebnis von $8.788$.\n",
    "\n",
    "1. Definieren Sie die mathematische Funktion $f(x)=x^{4}$ mit Python.\n",
    "\n",
    "2. Schreiben Sie unter Verwendung der Definition einer Ableitung nach den ersten Prinzipien eine zweite Funktion, `derivative()`, die zwei Parameter enthält: die Schrittweite $h$ (die wir mit 0.01 vorgeben) und den Wert von $x$, den wir zur Auswertung der Ableitung verwenden.\n",
    "\n",
    "**Nützliche Tipps:**\n",
    "\n",
    "- Funktionen können aus anderen Funktionen heraus aufgerufen werden, und ihre Ausgabe wird wie üblich verwendet.\n",
    "\n",
    "- Sowohl `x` als auch `h` sind Zahlen, daher ist `x+h` auch eine Zahl und kann als Argument an eine Funktion übergeben werden.\n",
    "</div>\n",
    "</div>"
   ]
  },
  {
   "cell_type": "code",
   "execution_count": 20,
   "metadata": {},
   "outputs": [
    {
     "data": {
      "text/plain": [
       "4096"
      ]
     },
     "execution_count": 20,
     "metadata": {},
     "output_type": "execute_result"
    }
   ],
   "source": [
    "def f(x):\n",
    "    y = x**4\n",
    "    return y\n",
    "\n",
    "f(8)"
   ]
  },
  {
   "cell_type": "code",
   "execution_count": 21,
   "metadata": {},
   "outputs": [
    {
     "data": {
      "text/plain": [
       "8.889921000000012"
      ]
     },
     "execution_count": 21,
     "metadata": {},
     "output_type": "execute_result"
    }
   ],
   "source": [
    "def derivative(x, h=0.01):\n",
    "    f_prime = (f(x+h) - f(x)) / h\n",
    "    return f_prime\n",
    "\n",
    "derivative(1.3, 0.01)"
   ]
  },
  {
   "cell_type": "markdown",
   "metadata": {},
   "source": [
    "<div style=\"display: flex; justify-content: space-between;\">\n",
    "<div style=\"width: 48%; line-height: 1.5;\">\n",
    "\n",
    "Your `derivative()` function should have returned a value of approximately 8.89 for the derivative of $x^4$ evaluated at $x=1.3$. \n",
    "\n",
    "While this is close to the exact value of 8.788, can we improve the accuracy?\n",
    "\n",
    "The first-principles definition of a derivative assumes the limit as $h$ approaches zero. \n",
    "\n",
    "This implies that by decreasing $h$ (getting closer to $h = 0$), our numerical approximation should become more precise. \n",
    "</div>\n",
    "<div style=\"width: 48%; line-height: 1.5;color: grey;\">\n",
    "\n",
    "Ihre Funktion `Ableitung()` sollte für die Ableitung von $x^4$ nach $x=1.3$ einen Wert von etwa 8.89 liefern. \n",
    "\n",
    "Dies liegt zwar nahe am exakten Wert von 8,788, aber können wir die Genauigkeit verbessern?\n",
    "\n",
    "Die Definition einer Ableitung nach den ersten Grundsätzen geht davon aus, dass der Grenzwert bei $h$ gegen Null geht. \n",
    "\n",
    "Das bedeutet, dass unsere numerische Näherung mit abnehmendem $h$ (näher an $h = 0$) präziser werden sollte.\n",
    "</div>\n",
    "</div>"
   ]
  },
  {
   "cell_type": "markdown",
   "metadata": {},
   "source": [
    "<div class=\"alert alert-block alert-light\">\n",
    "\n",
    "#### 3\n",
    "\n",
    "<div style=\"display: flex; justify-content: space-between;\">\n",
    "<div style=\"width: 48%; line-height: 1.5;\">\n",
    "\n",
    "Using your `derivative()` function, repeat the calculation above with step sizes of \n",
    "$$ h = 1, 0.1, 0.01, 0.001, 0.0001, 0.00001.$$ \n",
    "\n",
    "Try to incorporate a loop in your code to automate the function calls, instead of manually invoking the function for each step size.\n",
    "</div>\n",
    "<div style=\"width: 48%; line-height: 1.5;color: grey;\">\n",
    "\n",
    "Wiederholen Sie die obige Berechnung mit der Funktion `derivative()` mit Schrittweiten von\n",
    "$$ h = 1, 0.1, 0.01, 0.001, 0.0001, 0.00001.$$ \n",
    "\n",
    "Versuchen Sie, eine Schleife in Ihren Code einzubauen, um die Funktionsaufrufe zu automatisieren, anstatt die Funktion für jede Schrittweite manuell aufzurufen.\n",
    "</div>\n",
    "</div>"
   ]
  },
  {
   "cell_type": "code",
   "execution_count": 22,
   "metadata": {},
   "outputs": [
    {
     "name": "stdout",
     "output_type": "stream",
     "text": [
      "25.12799999999999\n",
      "9.85500000000001\n",
      "8.889921000000012\n",
      "8.798145200998864\n",
      "8.789014051999722\n",
      "8.788101400547532\n"
     ]
    }
   ],
   "source": [
    "step_sizes = [1, 0.1, 0.01, 0.001, 0.0001, 0.00001]\n",
    "\n",
    "for h in step_sizes:\n",
    "    print(derivative(1.3, h))"
   ]
  },
  {
   "cell_type": "markdown",
   "metadata": {},
   "source": [
    "<div class=\"alert alert-block alert-light\">\n",
    "\n",
    "#### 4\n",
    "\n",
    "<div style=\"display: flex; justify-content: space-between;\">\n",
    "<div style=\"width: 48%; line-height: 1.5;\">\n",
    "\n",
    "Write a program that can compute the derivative with respect to $x$ for any mathematical function of the form:\n",
    "$f(x) = ax^p$.\n",
    "\n",
    "Test your program by evaluating the derivative of $f(x) = 4x^3$ at $x = 3$. \n",
    "\n",
    "If your code is working correctly, it should return a value close to 108 (the exact value may vary slightly depending on the step size chosen).\n",
    "</div>\n",
    "<div style=\"width: 48%; line-height: 1.5;color: grey;\">\n",
    "\n",
    "Schreiben Sie ein Programm, das die Ableitung nach $x$ für eine beliebige mathematische Funktion der Form berechnen kann:\n",
    "$f(x) = ax^p$.\n",
    "\n",
    "Testen Sie Ihr Programm, indem Sie die Ableitung von $f(x) = 4x^3$ nach $x = 3$ auswerten. \n",
    "\n",
    "Wenn Ihr Programm korrekt arbeitet, sollte es einen Wert nahe 108 zurückgeben (der genaue Wert kann je nach der gewählten Schrittweite leicht variieren).\n",
    "</div>\n",
    "</div>"
   ]
  },
  {
   "cell_type": "code",
   "execution_count": 23,
   "metadata": {},
   "outputs": [
    {
     "name": "stdout",
     "output_type": "stream",
     "text": [
      "108.00003602184916\n"
     ]
    }
   ],
   "source": [
    "def f(x, a, p):\n",
    "    y = 4*x**p\n",
    "    return y\n",
    "\n",
    "def derivative(x, a, p, h):\n",
    "    value = (f(x+h, a, p) - f(x, a, p)) / h\n",
    "    print(value)\n",
    "    \n",
    "derivative(x=3, a=4, p=3, h=1.e-6)"
   ]
  },
  {
   "cell_type": "markdown",
   "metadata": {},
   "source": [
    "<div class=\"alert alert-block alert-light\">\n",
    "\n",
    "#### 5\n",
    "\n",
    "<div style=\"display: flex; justify-content: space-between;\">\n",
    "<div style=\"width: 48%; line-height: 1.5;\">\n",
    "\n",
    "Write a Python function to calculate the heat capacity of sodium and diamond according to the Einstein model given below.\n",
    "\n",
    "$\\Theta_E$ is 192 K for sodium and 1450 K for diamond.\n",
    "</div>\n",
    "<div style=\"width: 48%; line-height: 1.5;color: grey;\">\n",
    "\n",
    "Schreiben Sie eine Python-Funktion zur Berechnung der Wärmekapazität von Natrium und Diamant nach dem unten angegebenen Einstein-Modell.\n",
    "\n",
    "$\\Theta_E$ ist 192 K für Natrium und 1450 K für Diamant.\n",
    "</div>\n",
    "</div>\n",
    "<div style=\"text-align: center; margin-top: 20px;\">\n",
    "\n",
    "$$\n",
    "C_{V,m} = 3R \\left( \\frac{\\Theta_E}{T} \\right)^2 \\frac{\\exp\\left( \\frac{\\Theta_E}{T} \\right)}{\\left[ \\exp\\left( \\frac{\\Theta_E}{T} \\right) - 1 \\right]^2}\n",
    "$$\n",
    "</div>\n",
    "<div style=\"display: flex; justify-content: space-between;\">\n",
    "<div style=\"width: 48%; line-height: 1.5;\">\n",
    "\n",
    "**Hints**:\n",
    "\n",
    "- import $R$ from `scipy.constants`,\n",
    "\n",
    "- define a variable $\\Theta_E / T$ for your convenience,\n",
    "\n",
    "- remember to import all relevant modules.\n",
    "</div>\n",
    "<div style=\"width: 48%; line-height: 1.5;color: grey;\">\n",
    "\n",
    "**Hinweise**:\n",
    "\n",
    "- importieren Sie $R$ aus `scipy.constants`,\n",
    "\n",
    "- definieren Sie eine Variable $\\Theta_E / T$ für Ihre Bequemlichkeit,\n",
    "\n",
    "- Denken Sie daran, alle relevanten Module zu importieren.\n",
    "</div>\n",
    "</div>"
   ]
  },
  {
   "cell_type": "code",
   "execution_count": 27,
   "metadata": {},
   "outputs": [
    {
     "name": "stdout",
     "output_type": "stream",
     "text": [
      "Na: 24.109144168075208\n",
      "diamond: 4.713033453464986\n"
     ]
    }
   ],
   "source": [
    "from scipy.constants import R\n",
    "import math\n",
    "\n",
    "def C_V(T, Theta_E):\n",
    "    x = Theta_E / T\n",
    "    return 3 * R * x**2 * math.exp(x) / (math.exp(x) - 1)**2\n",
    "\n",
    "print(f\"Na: {C_V(300, 192)}\")\n",
    "print(f\"diamond: {C_V(300, 1450)}\")"
   ]
  },
  {
   "cell_type": "markdown",
   "metadata": {},
   "source": [
    "<div class=\"alert alert-block alert-light\">\n",
    "\n",
    "#### 6\n",
    "\n",
    "<div style=\"display: flex; justify-content: space-between;\">\n",
    "<div style=\"width: 48%; line-height: 1.5;\">\n",
    "\n",
    "For the following equations of state, define Python functions returning the pressure of a gas, $p$, given its volume $V$, amount $n$, and temperature $T$.\n",
    "\n",
    "- **Ideal gas equation of state**: $$ p = \\frac{nRT}{V},$$\n",
    "- **Van der Waals equation of state**: $$ p = \\frac{nRT}{V-nb} - \\frac{n^2a}{V^2},$$\n",
    "- **Dieterici equation of state**: $$ p = \\frac{nRT \\exp \\left( -\\frac{nc}{RTV} \\right)}{v-nd}.$$\n",
    "\n",
    "Use the following parameters:\n",
    "\n",
    "- $T = 273.15 \\, \\text{K}$;\n",
    "- $V = 20 \\, \\text{L}$;\n",
    "- $a = 3.640 \\, \\text{L}^2 \\, \\text{bar} \\, \\text{mol}^{-2}, \\quad b = 0.04267 \\, \\text{L} \\, \\text{mol}^{-1}$;\n",
    "- $c = 4.692 \\, \\text{L}^2 \\, \\text{bar} \\, \\text{mol}^{-2}, \\quad d = 0.04639 \\, \\text{L} \\, \\text{mol}^{-1}$;\n",
    "- $n = 1 \\, \\text{mol}$.\n",
    "\n",
    "Repeat the calculation for $n = 0.1 \\, \\text{mol}$.\n",
    "\n",
    "Print summaries using string formatting.\n",
    "</div>\n",
    "<div style=\"width: 48%; line-height: 1.5;color: grey;\">\n",
    "\n",
    "Definieren Sie für die folgenden Zustandsgleichungen Python-Funktionen, die den Druck eines Gases $p$ wiedergeben, wenn das Volumen $V$, die Menge $n$ und die Temperatur $T$ gegeben sind.\n",
    "\n",
    "- **Ideale Gaszustandsgleichung**: $$ p = \\frac{nRT}{V},$$\n",
    "- **Van-der-Waals-Zustandsgleichung**: $$ p = \\frac{nRT}{V-nb} - \\frac{n^2a}{V^2},$$\n",
    "- **Dieterici-Zustandsgleichung**: $$ p = \\frac{nRT \\exp \\left( -\\frac{nc}{RTV} \\right)}{v-nd}.$$\n",
    "\n",
    "Verwenden Sie die folgenden Parameter:\n",
    "\n",
    "- $T = 273.15 \\, \\text{K}$;\n",
    "- $V = 20 \\, \\text{L}$;\n",
    "- $a = 3.640 \\, \\text{L}^2 \\, \\text{bar} \\, \\text{mol}^{-2}, \\quad b = 0.04267 \\, \\text{L} \\, \\text{mol}^{-1}$;\n",
    "- $c = 4.692 \\, \\text{L}^2 \\, \\text{bar} \\, \\text{mol}^{-2}, \\quad d = 0.04639 \\, \\text{L} \\, \\text{mol}^{-1}$;\n",
    "- $n = 1 \\, \\text{mol}$.\n",
    "\n",
    "Wiederholen Sie die Berechnung für $n = 0.1 \\, \\text{mol}$.\n",
    "\n",
    "Zusammenfassungen unter Verwendung der String-Formatierung drucken.\n",
    "</div>\n",
    "</div>"
   ]
  }
 ],
 "metadata": {
  "kernelspec": {
   "display_name": "py24",
   "language": "python",
   "name": "python3"
  },
  "language_info": {
   "codemirror_mode": {
    "name": "ipython",
    "version": 3
   },
   "file_extension": ".py",
   "mimetype": "text/x-python",
   "name": "python",
   "nbconvert_exporter": "python",
   "pygments_lexer": "ipython3",
   "version": "3.13.0"
  }
 },
 "nbformat": 4,
 "nbformat_minor": 2
}
